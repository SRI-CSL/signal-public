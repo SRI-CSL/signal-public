{
 "cells": [
  {
   "cell_type": "markdown",
   "id": "4823df56",
   "metadata": {},
   "source": [
    "<h1 align=\"center\">Software Introspection for Signaling Emergent Cyber-Social Operations (SIGNAL)</h1>\n",
    "<h2 align=\"center\">SRI International</h2>\n",
    "<h3 align=\"center\">In support of DARPA AIE Hybrid AI to Protect Integrity of Open Source Code (SocialCyber)</h3>"
   ]
  },
  {
   "cell_type": "markdown",
   "id": "1337dae9",
   "metadata": {},
   "source": [
    "<h2 align=\"center\"><u>dev2vec:</u> A multi-task learning approach for understanding inter-and-intra developer interactions in open-source software development</h2>\n",
    "\n",
    "## Introduction\n",
    "\n",
    "Open-source communities strive to evaluate contributed code on its technical correctness\n",
    "and merits. However, these processes are usually loosely supervised and are often\n",
    "influenced by additional factors, including here but not limited to, social rules, trust,\n",
    "reputation, and arcane processes. These additional components lead to *unexpected*\n",
    "opportunities for subversion. Current approaches, designed to help software development\n",
    "teams to manage the code assessment process, determine the trustworthiness of OSS based on\n",
    "publicly available traces involving code, revision history, logs, and external packages.\n",
    "Although useful, these approaches tend to disregard important inter-and-intra developer\n",
    "interactions that could drastically affect an OSS project's life-cycle. \n",
    "\n",
    "In this paper, we\n",
    "introduce a systematic approach and a deep multi-task learning architecture, termed\n",
    "**dev2vec**, for identifying and understanding these developer interactions. We\n",
    "empirically evaluate our approach and deep multi-task learning architecture on the Linux\n",
    "Kernel, a mature ecosystem with a vibrant community and a wealth of socio-technical\n",
    "developer interactions, utilizing conversations and interactions originating from its\n",
    "Linux Kernel Mailing List (LKML). Our approach successfully identifies key developer\n",
    "activities determining the distinct roles developers assume in the LKML. \n",
    "\n",
    "## Background\n",
    "\n",
    "\n",
    "\n",
    "#### References\n",
    "\n",
    "\n",
    "\n",
    "#### Disclaimer\n",
    "\n",
    "The content of this notebook is released under the **GNU General Public License v3.0**, see [LICENSE](https://github.com/SRI-CSL/signal-public/blob/main/LICENSE)."
   ]
  },
  {
   "cell_type": "code",
   "execution_count": null,
   "id": "eab1a3e3",
   "metadata": {},
   "outputs": [],
   "source": []
  },
  {
   "cell_type": "code",
   "execution_count": null,
   "id": "9d2b4816",
   "metadata": {},
   "outputs": [],
   "source": []
  }
 ],
 "metadata": {
  "kernelspec": {
   "display_name": "Python 3 (ipykernel)",
   "language": "python",
   "name": "python3"
  },
  "language_info": {
   "codemirror_mode": {
    "name": "ipython",
    "version": 3
   },
   "file_extension": ".py",
   "mimetype": "text/x-python",
   "name": "python",
   "nbconvert_exporter": "python",
   "pygments_lexer": "ipython3",
   "version": "3.9.6"
  }
 },
 "nbformat": 4,
 "nbformat_minor": 5
}
