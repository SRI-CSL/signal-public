{
 "cells": [
  {
   "cell_type": "markdown",
   "id": "d5d1f2e6",
   "metadata": {},
   "source": [
    "<h1 align=\"center\">Software Introspection for Signaling Emergent Cyber-Social Operations (SIGNAL)</h1>\n",
    "<h2 align=\"center\">SRI International</h2>\n",
    "<h3 align=\"center\">In support of DARPA AIE Hybrid AI to Protect Integrity of Open Source Code (SocialCyber)</h3>\n",
    "\n",
    "### For any questions regarding this notebook, please contact:\n",
    "* Huascar Sanchez (PI) at [huascar.sanchez@sri.com](mailto:huascar.sanchez@sri.com)\n",
    "* Briland Hitaj at [briland.hitaj@sri.com](mailto:briland.hitaj@sri.com)"
   ]
  },
  {
   "cell_type": "markdown",
   "id": "a6f27ff2",
   "metadata": {},
   "source": [
    "## Handling Imbalanced Data Present in the Annotated Persuasion for Good Dataset (P4G)\n",
    "\n",
    "**Summary:** In practice, datasets are often imbalanced, i.e., having varying representations among classes. Training a machine learning (ML) model on imbalanced data can provide a misleading sense of security, affecting the performance of the model on **new** test samples. \n",
    "\n",
    "*Note* that imbalances' effect on performance is related to the model you are using.\n",
    "\n",
    "In this notebook, we provide a step-by-step demonstration of our approach in handling the problem of imbalance in P4G dataset.\n",
    "\n",
    "### Table of Contents\n",
    "\n",
    "0. [Getting Started](#getting-started)\n",
    "1. [Download the P4G annotated data](#p4g-download)\n",
    "2. [Load the P4G Dataset](#p4g-load)\n",
    "3. [Clean the P4G Dataset](#p4g-clean)\n",
    "4. [Resampling the imbalanced persuasion data](#p4g-resample)\n",
    "5. [Saving the training and test sets](#p4g-save)"
   ]
  },
  {
   "cell_type": "markdown",
   "id": "37f217e0",
   "metadata": {},
   "source": [
    "### 0. Getting Started <a class=\"anchor\" id=\"getting-started\"></a>"
   ]
  },
  {
   "cell_type": "code",
   "execution_count": 1,
   "id": "dd2d40e4",
   "metadata": {},
   "outputs": [],
   "source": [
    "import os\n",
    "import sys\n",
    "\n",
    "# adding the parent directory of the current folder to the PATH variable\n",
    "PARENT_DIR = os.path.abspath(os.path.join(os.getcwd(), os.pardir))\n",
    "sys.path.append(PARENT_DIR)"
   ]
  },
  {
   "cell_type": "code",
   "execution_count": 2,
   "id": "39d3633a",
   "metadata": {},
   "outputs": [],
   "source": [
    "# import relevant libraries\n",
    "import numpy as np\n",
    "import pandas as pd\n",
    "import seaborn as sns\n",
    "import matplotlib.pyplot as plt\n",
    "\n",
    "from sklearn.model_selection import train_test_split\n",
    "\n",
    "# relevant packages to handle the imbalanced data\n",
    "from imblearn.pipeline import Pipeline\n",
    "from imblearn.under_sampling import RandomUnderSampler\n",
    "from imblearn.over_sampling import RandomOverSampler\n",
    "\n",
    "# relevant utility methods located in utils.py file under utils folder\n",
    "from utils.utils import path_exists, download_file\n",
    "\n",
    "%matplotlib inline"
   ]
  },
  {
   "cell_type": "markdown",
   "id": "83dc0225",
   "metadata": {},
   "source": [
    "The annotated P4G dataset is in **.xlsx** format.\n",
    "- **openpyxl** library helps pandas load a .xlsx file into a DataFrame\n",
    "- We check whether **openpyxl** is present, otherwise throw an [ImportError](https://docs.python.org/3/library/exceptions.html#ImportError)"
   ]
  },
  {
   "cell_type": "code",
   "execution_count": 3,
   "id": "8b2029cc",
   "metadata": {},
   "outputs": [],
   "source": [
    "try:\n",
    "    import openpyxl\n",
    "except ImportError:\n",
    "    !pip install openpyxl"
   ]
  },
  {
   "cell_type": "markdown",
   "id": "50557829",
   "metadata": {},
   "source": [
    "### 1. Download the P4G annotated data <a class=\"anchor\" id=\"p4g-download\"></a>\n",
    "\n",
    "The next cell checks to see if the P4G annotaded dataset (**300_dialog.xlsx**) exists within the **/data** directory, otherwise it attempts to download the annotaded P4G dataset from its' respective GitLab repository, see [HERE](https://gitlab.com/ucdavisnlp/persuasionforgood/-/raw/master/data/AnnotatedData/300_dialog.xlsx)."
   ]
  },
  {
   "cell_type": "code",
   "execution_count": 4,
   "id": "591e9a6b",
   "metadata": {},
   "outputs": [
    {
     "name": "stdout",
     "output_type": "stream",
     "text": [
      "- 300_dialog.xlsx already exists.\n"
     ]
    }
   ],
   "source": [
    "# download P4G annotated data\n",
    "p4g_data_url = \"https://gitlab.com/ucdavisnlp/persuasionforgood/-/raw/master/data/AnnotatedData/300_dialog.xlsx\"\n",
    "destination_folder = os.path.join(PARENT_DIR, 'data')\n",
    "p4g_data_file = \"300_dialog.xlsx\"\n",
    "p4g_data_path = os.path.join(destination_folder, p4g_data_file)\n",
    "\n",
    "if path_exists(p4g_data_path):\n",
    "    print(f\"- {p4g_data_file} already exists.\")\n",
    "else:\n",
    "    download_file(url=p4g_data_url, dest_folder=destination_folder)"
   ]
  },
  {
   "cell_type": "markdown",
   "id": "78240fe7",
   "metadata": {},
   "source": [
    "### 2. Load the P4G Dataset <a class=\"anchor\" id=\"p4g-load\"></a>"
   ]
  },
  {
   "cell_type": "code",
   "execution_count": 5,
   "id": "f41e8ce3",
   "metadata": {},
   "outputs": [],
   "source": [
    "# load the P4G dataset into a pandas DataFrame\n",
    "p4g_df = pd.read_excel(p4g_data_path)"
   ]
  },
  {
   "cell_type": "code",
   "execution_count": 6,
   "id": "b30a314f",
   "metadata": {},
   "outputs": [
    {
     "name": "stdout",
     "output_type": "stream",
     "text": [
      "<class 'pandas.core.frame.DataFrame'>\n",
      "RangeIndex: 10864 entries, 0 to 10863\n",
      "Data columns (total 12 columns):\n",
      " #   Column      Non-Null Count  Dtype  \n",
      "---  ------      --------------  -----  \n",
      " 0   Unnamed: 0  10864 non-null  int64  \n",
      " 1   B2          10864 non-null  object \n",
      " 2   B4          10864 non-null  int64  \n",
      " 3   Turn        10864 non-null  int64  \n",
      " 4   Unit        10864 non-null  object \n",
      " 5   er_label_1  6017 non-null   object \n",
      " 6   ee_label_1  4847 non-null   object \n",
      " 7   er_label_2  22 non-null     object \n",
      " 8   ee_label_2  15 non-null     object \n",
      " 9   neg         10235 non-null  float64\n",
      " 10  neu         10235 non-null  float64\n",
      " 11  pos         10235 non-null  float64\n",
      "dtypes: float64(3), int64(3), object(6)\n",
      "memory usage: 1018.6+ KB\n"
     ]
    }
   ],
   "source": [
    "# print info about DataFrame and each respective column\n",
    "p4g_df.info()"
   ]
  },
  {
   "cell_type": "code",
   "execution_count": 7,
   "id": "ff340fc4",
   "metadata": {},
   "outputs": [
    {
     "data": {
      "text/html": [
       "<div>\n",
       "<style scoped>\n",
       "    .dataframe tbody tr th:only-of-type {\n",
       "        vertical-align: middle;\n",
       "    }\n",
       "\n",
       "    .dataframe tbody tr th {\n",
       "        vertical-align: top;\n",
       "    }\n",
       "\n",
       "    .dataframe thead th {\n",
       "        text-align: right;\n",
       "    }\n",
       "</style>\n",
       "<table border=\"1\" class=\"dataframe\">\n",
       "  <thead>\n",
       "    <tr style=\"text-align: right;\">\n",
       "      <th></th>\n",
       "      <th>Unnamed: 0</th>\n",
       "      <th>B2</th>\n",
       "      <th>B4</th>\n",
       "      <th>Turn</th>\n",
       "      <th>Unit</th>\n",
       "      <th>er_label_1</th>\n",
       "      <th>ee_label_1</th>\n",
       "      <th>er_label_2</th>\n",
       "      <th>ee_label_2</th>\n",
       "      <th>neg</th>\n",
       "      <th>neu</th>\n",
       "      <th>pos</th>\n",
       "    </tr>\n",
       "  </thead>\n",
       "  <tbody>\n",
       "    <tr>\n",
       "      <th>0</th>\n",
       "      <td>0</td>\n",
       "      <td>20180719-210146_172_live</td>\n",
       "      <td>0</td>\n",
       "      <td>0</td>\n",
       "      <td>Hello.</td>\n",
       "      <td>greeting</td>\n",
       "      <td>NaN</td>\n",
       "      <td>NaN</td>\n",
       "      <td>NaN</td>\n",
       "      <td>0.0</td>\n",
       "      <td>1.000</td>\n",
       "      <td>0.000</td>\n",
       "    </tr>\n",
       "    <tr>\n",
       "      <th>1</th>\n",
       "      <td>1</td>\n",
       "      <td>20180719-210146_172_live</td>\n",
       "      <td>0</td>\n",
       "      <td>0</td>\n",
       "      <td>How are you?</td>\n",
       "      <td>greeting</td>\n",
       "      <td>NaN</td>\n",
       "      <td>NaN</td>\n",
       "      <td>NaN</td>\n",
       "      <td>0.0</td>\n",
       "      <td>1.000</td>\n",
       "      <td>0.000</td>\n",
       "    </tr>\n",
       "    <tr>\n",
       "      <th>2</th>\n",
       "      <td>2</td>\n",
       "      <td>20180719-210146_172_live</td>\n",
       "      <td>1</td>\n",
       "      <td>0</td>\n",
       "      <td>I'm good, how are you doing?</td>\n",
       "      <td>NaN</td>\n",
       "      <td>greeting</td>\n",
       "      <td>NaN</td>\n",
       "      <td>NaN</td>\n",
       "      <td>0.0</td>\n",
       "      <td>0.633</td>\n",
       "      <td>0.367</td>\n",
       "    </tr>\n",
       "    <tr>\n",
       "      <th>3</th>\n",
       "      <td>3</td>\n",
       "      <td>20180719-210146_172_live</td>\n",
       "      <td>0</td>\n",
       "      <td>1</td>\n",
       "      <td>Very well.</td>\n",
       "      <td>greeting</td>\n",
       "      <td>NaN</td>\n",
       "      <td>NaN</td>\n",
       "      <td>NaN</td>\n",
       "      <td>0.0</td>\n",
       "      <td>0.295</td>\n",
       "      <td>0.705</td>\n",
       "    </tr>\n",
       "    <tr>\n",
       "      <th>4</th>\n",
       "      <td>4</td>\n",
       "      <td>20180719-210146_172_live</td>\n",
       "      <td>0</td>\n",
       "      <td>1</td>\n",
       "      <td>I'm just up organizing info for my charity.</td>\n",
       "      <td>other</td>\n",
       "      <td>NaN</td>\n",
       "      <td>NaN</td>\n",
       "      <td>NaN</td>\n",
       "      <td>0.0</td>\n",
       "      <td>0.714</td>\n",
       "      <td>0.286</td>\n",
       "    </tr>\n",
       "  </tbody>\n",
       "</table>\n",
       "</div>"
      ],
      "text/plain": [
       "   Unnamed: 0                        B2  B4  Turn  \\\n",
       "0           0  20180719-210146_172_live   0     0   \n",
       "1           1  20180719-210146_172_live   0     0   \n",
       "2           2  20180719-210146_172_live   1     0   \n",
       "3           3  20180719-210146_172_live   0     1   \n",
       "4           4  20180719-210146_172_live   0     1   \n",
       "\n",
       "                                          Unit er_label_1 ee_label_1  \\\n",
       "0                                       Hello.   greeting        NaN   \n",
       "1                                 How are you?   greeting        NaN   \n",
       "2                 I'm good, how are you doing?        NaN   greeting   \n",
       "3                                   Very well.   greeting        NaN   \n",
       "4  I'm just up organizing info for my charity.      other        NaN   \n",
       "\n",
       "  er_label_2 ee_label_2  neg    neu    pos  \n",
       "0        NaN        NaN  0.0  1.000  0.000  \n",
       "1        NaN        NaN  0.0  1.000  0.000  \n",
       "2        NaN        NaN  0.0  0.633  0.367  \n",
       "3        NaN        NaN  0.0  0.295  0.705  \n",
       "4        NaN        NaN  0.0  0.714  0.286  "
      ]
     },
     "execution_count": 7,
     "metadata": {},
     "output_type": "execute_result"
    }
   ],
   "source": [
    "# show the first 5-records present in the DataFrame\n",
    "p4g_df.head()"
   ]
  },
  {
   "cell_type": "markdown",
   "id": "a367aede",
   "metadata": {},
   "source": [
    "### 3. Clean the P4G Dataset <a class=\"anchor\" id=\"p4g-clean\"></a>\n",
    "\n",
    "We drop a series of columns from the **p4g_df** DataFrame, as they are either empty or not relevant for the task considered in this notebook."
   ]
  },
  {
   "cell_type": "code",
   "execution_count": 8,
   "id": "439ad2c9",
   "metadata": {},
   "outputs": [
    {
     "data": {
      "text/html": [
       "<div>\n",
       "<style scoped>\n",
       "    .dataframe tbody tr th:only-of-type {\n",
       "        vertical-align: middle;\n",
       "    }\n",
       "\n",
       "    .dataframe tbody tr th {\n",
       "        vertical-align: top;\n",
       "    }\n",
       "\n",
       "    .dataframe thead th {\n",
       "        text-align: right;\n",
       "    }\n",
       "</style>\n",
       "<table border=\"1\" class=\"dataframe\">\n",
       "  <thead>\n",
       "    <tr style=\"text-align: right;\">\n",
       "      <th></th>\n",
       "      <th>Unit</th>\n",
       "      <th>er_label_1</th>\n",
       "      <th>neg</th>\n",
       "      <th>neu</th>\n",
       "      <th>pos</th>\n",
       "    </tr>\n",
       "  </thead>\n",
       "  <tbody>\n",
       "    <tr>\n",
       "      <th>0</th>\n",
       "      <td>Hello.</td>\n",
       "      <td>greeting</td>\n",
       "      <td>0.0</td>\n",
       "      <td>1.000</td>\n",
       "      <td>0.000</td>\n",
       "    </tr>\n",
       "    <tr>\n",
       "      <th>1</th>\n",
       "      <td>How are you?</td>\n",
       "      <td>greeting</td>\n",
       "      <td>0.0</td>\n",
       "      <td>1.000</td>\n",
       "      <td>0.000</td>\n",
       "    </tr>\n",
       "    <tr>\n",
       "      <th>2</th>\n",
       "      <td>I'm good, how are you doing?</td>\n",
       "      <td>NaN</td>\n",
       "      <td>0.0</td>\n",
       "      <td>0.633</td>\n",
       "      <td>0.367</td>\n",
       "    </tr>\n",
       "    <tr>\n",
       "      <th>3</th>\n",
       "      <td>Very well.</td>\n",
       "      <td>greeting</td>\n",
       "      <td>0.0</td>\n",
       "      <td>0.295</td>\n",
       "      <td>0.705</td>\n",
       "    </tr>\n",
       "    <tr>\n",
       "      <th>4</th>\n",
       "      <td>I'm just up organizing info for my charity.</td>\n",
       "      <td>other</td>\n",
       "      <td>0.0</td>\n",
       "      <td>0.714</td>\n",
       "      <td>0.286</td>\n",
       "    </tr>\n",
       "  </tbody>\n",
       "</table>\n",
       "</div>"
      ],
      "text/plain": [
       "                                          Unit er_label_1  neg    neu    pos\n",
       "0                                       Hello.   greeting  0.0  1.000  0.000\n",
       "1                                 How are you?   greeting  0.0  1.000  0.000\n",
       "2                 I'm good, how are you doing?        NaN  0.0  0.633  0.367\n",
       "3                                   Very well.   greeting  0.0  0.295  0.705\n",
       "4  I'm just up organizing info for my charity.      other  0.0  0.714  0.286"
      ]
     },
     "execution_count": 8,
     "metadata": {},
     "output_type": "execute_result"
    }
   ],
   "source": [
    "unkn_feat = ['Unnamed: 0', 'B2', 'B4', 'Turn', 'ee_label_1', 'er_label_2', 'ee_label_2']\n",
    "p4g_df.drop(unkn_feat, axis=1, inplace=True)\n",
    "p4g_df.head()"
   ]
  },
  {
   "cell_type": "markdown",
   "id": "af5f7705",
   "metadata": {},
   "source": [
    "Filter by persuasion strategies in Wang et al. paper\n",
    "- Labels extracted from Table 3 in the paper, see [HERE](https://arxiv.org/pdf/1906.06725.pdf).\n",
    "- We remove the 'non-strategy dialogue acts' from consideration"
   ]
  },
  {
   "cell_type": "code",
   "execution_count": 9,
   "id": "f7fa44ca",
   "metadata": {},
   "outputs": [
    {
     "data": {
      "text/html": [
       "<div>\n",
       "<style scoped>\n",
       "    .dataframe tbody tr th:only-of-type {\n",
       "        vertical-align: middle;\n",
       "    }\n",
       "\n",
       "    .dataframe tbody tr th {\n",
       "        vertical-align: top;\n",
       "    }\n",
       "\n",
       "    .dataframe thead th {\n",
       "        text-align: right;\n",
       "    }\n",
       "</style>\n",
       "<table border=\"1\" class=\"dataframe\">\n",
       "  <thead>\n",
       "    <tr style=\"text-align: right;\">\n",
       "      <th></th>\n",
       "      <th>Unit</th>\n",
       "      <th>er_label_1</th>\n",
       "      <th>neg</th>\n",
       "      <th>neu</th>\n",
       "      <th>pos</th>\n",
       "    </tr>\n",
       "  </thead>\n",
       "  <tbody>\n",
       "    <tr>\n",
       "      <th>5</th>\n",
       "      <td>Are you involved with charities?</td>\n",
       "      <td>task-related-inquiry</td>\n",
       "      <td>0.0</td>\n",
       "      <td>0.556</td>\n",
       "      <td>0.444</td>\n",
       "    </tr>\n",
       "    <tr>\n",
       "      <th>18</th>\n",
       "      <td>Do you currently donate to your charity?</td>\n",
       "      <td>task-related-inquiry</td>\n",
       "      <td>0.0</td>\n",
       "      <td>0.682</td>\n",
       "      <td>0.318</td>\n",
       "    </tr>\n",
       "    <tr>\n",
       "      <th>22</th>\n",
       "      <td>Save The Children is an international non-gove...</td>\n",
       "      <td>credibility-appeal</td>\n",
       "      <td>0.0</td>\n",
       "      <td>0.533</td>\n",
       "      <td>0.467</td>\n",
       "    </tr>\n",
       "    <tr>\n",
       "      <th>28</th>\n",
       "      <td>These children really need the assistance.</td>\n",
       "      <td>logical-appeal</td>\n",
       "      <td>0.0</td>\n",
       "      <td>1.000</td>\n",
       "      <td>0.000</td>\n",
       "    </tr>\n",
       "    <tr>\n",
       "      <th>34</th>\n",
       "      <td>Do you have any more questions for me?</td>\n",
       "      <td>task-related-inquiry</td>\n",
       "      <td>0.0</td>\n",
       "      <td>1.000</td>\n",
       "      <td>0.000</td>\n",
       "    </tr>\n",
       "  </tbody>\n",
       "</table>\n",
       "</div>"
      ],
      "text/plain": [
       "                                                 Unit            er_label_1  \\\n",
       "5                    Are you involved with charities?  task-related-inquiry   \n",
       "18           Do you currently donate to your charity?  task-related-inquiry   \n",
       "22  Save The Children is an international non-gove...    credibility-appeal   \n",
       "28         These children really need the assistance.        logical-appeal   \n",
       "34             Do you have any more questions for me?  task-related-inquiry   \n",
       "\n",
       "    neg    neu    pos  \n",
       "5   0.0  0.556  0.444  \n",
       "18  0.0  0.682  0.318  \n",
       "22  0.0  0.533  0.467  \n",
       "28  0.0  1.000  0.000  \n",
       "34  0.0  1.000  0.000  "
      ]
     },
     "execution_count": 9,
     "metadata": {},
     "output_type": "execute_result"
    }
   ],
   "source": [
    "paper_persuasion_strategies = ['logical-appeal', 'emotion-appeal', 'credibility-appeal', 'foot-in-the-door', \n",
    "                               'self-modeling', 'personal-story', 'donation-information', 'source-related-inquiry',\n",
    "                               'task-related-inquiry', 'personal-related-inquiry']\n",
    "\n",
    "filtered_p4g_df = p4g_df.loc[p4g_df['er_label_1'].isin(paper_persuasion_strategies)]\n",
    "filtered_p4g_df.head()"
   ]
  },
  {
   "cell_type": "code",
   "execution_count": 10,
   "id": "f24c721f",
   "metadata": {},
   "outputs": [
    {
     "data": {
      "text/html": [
       "<div>\n",
       "<style scoped>\n",
       "    .dataframe tbody tr th:only-of-type {\n",
       "        vertical-align: middle;\n",
       "    }\n",
       "\n",
       "    .dataframe tbody tr th {\n",
       "        vertical-align: top;\n",
       "    }\n",
       "\n",
       "    .dataframe thead th {\n",
       "        text-align: right;\n",
       "    }\n",
       "</style>\n",
       "<table border=\"1\" class=\"dataframe\">\n",
       "  <thead>\n",
       "    <tr style=\"text-align: right;\">\n",
       "      <th></th>\n",
       "      <th>Unit</th>\n",
       "      <th>er_label_1</th>\n",
       "      <th>neg</th>\n",
       "      <th>neu</th>\n",
       "      <th>pos</th>\n",
       "    </tr>\n",
       "  </thead>\n",
       "  <tbody>\n",
       "    <tr>\n",
       "      <th>5</th>\n",
       "      <td>Are you involved with charities?</td>\n",
       "      <td>task-related-inquiry</td>\n",
       "      <td>0.0</td>\n",
       "      <td>0.556</td>\n",
       "      <td>0.444</td>\n",
       "    </tr>\n",
       "    <tr>\n",
       "      <th>18</th>\n",
       "      <td>Do you currently donate to your charity?</td>\n",
       "      <td>task-related-inquiry</td>\n",
       "      <td>0.0</td>\n",
       "      <td>0.682</td>\n",
       "      <td>0.318</td>\n",
       "    </tr>\n",
       "    <tr>\n",
       "      <th>22</th>\n",
       "      <td>Save The Children is an international non-gove...</td>\n",
       "      <td>credibility-appeal</td>\n",
       "      <td>0.0</td>\n",
       "      <td>0.533</td>\n",
       "      <td>0.467</td>\n",
       "    </tr>\n",
       "    <tr>\n",
       "      <th>28</th>\n",
       "      <td>These children really need the assistance.</td>\n",
       "      <td>logical-appeal</td>\n",
       "      <td>0.0</td>\n",
       "      <td>1.000</td>\n",
       "      <td>0.000</td>\n",
       "    </tr>\n",
       "    <tr>\n",
       "      <th>34</th>\n",
       "      <td>Do you have any more questions for me?</td>\n",
       "      <td>task-related-inquiry</td>\n",
       "      <td>0.0</td>\n",
       "      <td>1.000</td>\n",
       "      <td>0.000</td>\n",
       "    </tr>\n",
       "  </tbody>\n",
       "</table>\n",
       "</div>"
      ],
      "text/plain": [
       "                                                 Unit            er_label_1  \\\n",
       "5                    Are you involved with charities?  task-related-inquiry   \n",
       "18           Do you currently donate to your charity?  task-related-inquiry   \n",
       "22  Save The Children is an international non-gove...    credibility-appeal   \n",
       "28         These children really need the assistance.        logical-appeal   \n",
       "34             Do you have any more questions for me?  task-related-inquiry   \n",
       "\n",
       "    neg    neu    pos  \n",
       "5   0.0  0.556  0.444  \n",
       "18  0.0  0.682  0.318  \n",
       "22  0.0  0.533  0.467  \n",
       "28  0.0  1.000  0.000  \n",
       "34  0.0  1.000  0.000  "
      ]
     },
     "execution_count": 10,
     "metadata": {},
     "output_type": "execute_result"
    }
   ],
   "source": [
    "p4g_clean = filtered_p4g_df.apply(lambda x: x.fillna(x.value_counts().index[0]))\n",
    "p4g_clean.head()"
   ]
  },
  {
   "cell_type": "markdown",
   "id": "bd51ca79",
   "metadata": {},
   "source": [
    "Add numerical IDs to each persuasion label ('er_label_1') present in the DataFrame to facilitate the machine learning tasks"
   ]
  },
  {
   "cell_type": "code",
   "execution_count": 11,
   "id": "36a1de9d",
   "metadata": {},
   "outputs": [
    {
     "data": {
      "text/html": [
       "<div>\n",
       "<style scoped>\n",
       "    .dataframe tbody tr th:only-of-type {\n",
       "        vertical-align: middle;\n",
       "    }\n",
       "\n",
       "    .dataframe tbody tr th {\n",
       "        vertical-align: top;\n",
       "    }\n",
       "\n",
       "    .dataframe thead th {\n",
       "        text-align: right;\n",
       "    }\n",
       "</style>\n",
       "<table border=\"1\" class=\"dataframe\">\n",
       "  <thead>\n",
       "    <tr style=\"text-align: right;\">\n",
       "      <th></th>\n",
       "      <th>Unit</th>\n",
       "      <th>er_label_1</th>\n",
       "      <th>neg</th>\n",
       "      <th>neu</th>\n",
       "      <th>pos</th>\n",
       "      <th>persuasion_id</th>\n",
       "    </tr>\n",
       "  </thead>\n",
       "  <tbody>\n",
       "    <tr>\n",
       "      <th>5</th>\n",
       "      <td>Are you involved with charities?</td>\n",
       "      <td>task-related-inquiry</td>\n",
       "      <td>0.0</td>\n",
       "      <td>0.556</td>\n",
       "      <td>0.444</td>\n",
       "      <td>0</td>\n",
       "    </tr>\n",
       "    <tr>\n",
       "      <th>18</th>\n",
       "      <td>Do you currently donate to your charity?</td>\n",
       "      <td>task-related-inquiry</td>\n",
       "      <td>0.0</td>\n",
       "      <td>0.682</td>\n",
       "      <td>0.318</td>\n",
       "      <td>0</td>\n",
       "    </tr>\n",
       "    <tr>\n",
       "      <th>22</th>\n",
       "      <td>Save The Children is an international non-gove...</td>\n",
       "      <td>credibility-appeal</td>\n",
       "      <td>0.0</td>\n",
       "      <td>0.533</td>\n",
       "      <td>0.467</td>\n",
       "      <td>1</td>\n",
       "    </tr>\n",
       "    <tr>\n",
       "      <th>28</th>\n",
       "      <td>These children really need the assistance.</td>\n",
       "      <td>logical-appeal</td>\n",
       "      <td>0.0</td>\n",
       "      <td>1.000</td>\n",
       "      <td>0.000</td>\n",
       "      <td>2</td>\n",
       "    </tr>\n",
       "    <tr>\n",
       "      <th>34</th>\n",
       "      <td>Do you have any more questions for me?</td>\n",
       "      <td>task-related-inquiry</td>\n",
       "      <td>0.0</td>\n",
       "      <td>1.000</td>\n",
       "      <td>0.000</td>\n",
       "      <td>0</td>\n",
       "    </tr>\n",
       "  </tbody>\n",
       "</table>\n",
       "</div>"
      ],
      "text/plain": [
       "                                                 Unit            er_label_1  \\\n",
       "5                    Are you involved with charities?  task-related-inquiry   \n",
       "18           Do you currently donate to your charity?  task-related-inquiry   \n",
       "22  Save The Children is an international non-gove...    credibility-appeal   \n",
       "28         These children really need the assistance.        logical-appeal   \n",
       "34             Do you have any more questions for me?  task-related-inquiry   \n",
       "\n",
       "    neg    neu    pos  persuasion_id  \n",
       "5   0.0  0.556  0.444              0  \n",
       "18  0.0  0.682  0.318              0  \n",
       "22  0.0  0.533  0.467              1  \n",
       "28  0.0  1.000  0.000              2  \n",
       "34  0.0  1.000  0.000              0  "
      ]
     },
     "execution_count": 11,
     "metadata": {},
     "output_type": "execute_result"
    }
   ],
   "source": [
    "p4g_clean['persuasion_id'] = p4g_clean['er_label_1'].factorize()[0]\n",
    "p4g_clean.head()"
   ]
  },
  {
   "cell_type": "code",
   "execution_count": 12,
   "id": "7bf6069d",
   "metadata": {},
   "outputs": [
    {
     "data": {
      "text/plain": [
       "False"
      ]
     },
     "execution_count": 12,
     "metadata": {},
     "output_type": "execute_result"
    }
   ],
   "source": [
    "p4g_clean.isnull().values.any()"
   ]
  },
  {
   "cell_type": "code",
   "execution_count": 13,
   "id": "b2337861",
   "metadata": {},
   "outputs": [
    {
     "data": {
      "text/html": [
       "<div>\n",
       "<style scoped>\n",
       "    .dataframe tbody tr th:only-of-type {\n",
       "        vertical-align: middle;\n",
       "    }\n",
       "\n",
       "    .dataframe tbody tr th {\n",
       "        vertical-align: top;\n",
       "    }\n",
       "\n",
       "    .dataframe thead th {\n",
       "        text-align: right;\n",
       "    }\n",
       "</style>\n",
       "<table border=\"1\" class=\"dataframe\">\n",
       "  <thead>\n",
       "    <tr style=\"text-align: right;\">\n",
       "      <th></th>\n",
       "      <th>neg</th>\n",
       "      <th>neu</th>\n",
       "      <th>pos</th>\n",
       "    </tr>\n",
       "    <tr>\n",
       "      <th>persuasion_id</th>\n",
       "      <th></th>\n",
       "      <th></th>\n",
       "      <th></th>\n",
       "    </tr>\n",
       "  </thead>\n",
       "  <tbody>\n",
       "    <tr>\n",
       "      <th>0</th>\n",
       "      <td>0.018796</td>\n",
       "      <td>0.817372</td>\n",
       "      <td>0.163827</td>\n",
       "    </tr>\n",
       "    <tr>\n",
       "      <th>1</th>\n",
       "      <td>0.034776</td>\n",
       "      <td>0.729323</td>\n",
       "      <td>0.235905</td>\n",
       "    </tr>\n",
       "    <tr>\n",
       "      <th>2</th>\n",
       "      <td>0.031522</td>\n",
       "      <td>0.760143</td>\n",
       "      <td>0.208326</td>\n",
       "    </tr>\n",
       "    <tr>\n",
       "      <th>3</th>\n",
       "      <td>0.009423</td>\n",
       "      <td>0.794476</td>\n",
       "      <td>0.196095</td>\n",
       "    </tr>\n",
       "    <tr>\n",
       "      <th>4</th>\n",
       "      <td>0.000000</td>\n",
       "      <td>0.718461</td>\n",
       "      <td>0.281539</td>\n",
       "    </tr>\n",
       "    <tr>\n",
       "      <th>5</th>\n",
       "      <td>0.005167</td>\n",
       "      <td>0.889953</td>\n",
       "      <td>0.104882</td>\n",
       "    </tr>\n",
       "    <tr>\n",
       "      <th>6</th>\n",
       "      <td>0.011679</td>\n",
       "      <td>0.819481</td>\n",
       "      <td>0.168840</td>\n",
       "    </tr>\n",
       "    <tr>\n",
       "      <th>7</th>\n",
       "      <td>0.207944</td>\n",
       "      <td>0.696053</td>\n",
       "      <td>0.096003</td>\n",
       "    </tr>\n",
       "    <tr>\n",
       "      <th>8</th>\n",
       "      <td>0.008061</td>\n",
       "      <td>0.794417</td>\n",
       "      <td>0.197509</td>\n",
       "    </tr>\n",
       "    <tr>\n",
       "      <th>9</th>\n",
       "      <td>0.050425</td>\n",
       "      <td>0.770608</td>\n",
       "      <td>0.178974</td>\n",
       "    </tr>\n",
       "  </tbody>\n",
       "</table>\n",
       "</div>"
      ],
      "text/plain": [
       "                    neg       neu       pos\n",
       "persuasion_id                              \n",
       "0              0.018796  0.817372  0.163827\n",
       "1              0.034776  0.729323  0.235905\n",
       "2              0.031522  0.760143  0.208326\n",
       "3              0.009423  0.794476  0.196095\n",
       "4              0.000000  0.718461  0.281539\n",
       "5              0.005167  0.889953  0.104882\n",
       "6              0.011679  0.819481  0.168840\n",
       "7              0.207944  0.696053  0.096003\n",
       "8              0.008061  0.794417  0.197509\n",
       "9              0.050425  0.770608  0.178974"
      ]
     },
     "execution_count": 13,
     "metadata": {},
     "output_type": "execute_result"
    }
   ],
   "source": [
    "p4g_clean.groupby('persuasion_id').mean()"
   ]
  },
  {
   "cell_type": "markdown",
   "id": "07d9f00e",
   "metadata": {},
   "source": [
    "Create a dictionary (**id2label**) mapping the assigned **persuasion_id**s with the respective label name, i.e., **er_label_1**."
   ]
  },
  {
   "cell_type": "code",
   "execution_count": 14,
   "id": "3af68eb6",
   "metadata": {},
   "outputs": [
    {
     "data": {
      "text/plain": [
       "{0: 'task-related-inquiry',\n",
       " 1: 'credibility-appeal',\n",
       " 2: 'logical-appeal',\n",
       " 3: 'personal-related-inquiry',\n",
       " 4: 'source-related-inquiry',\n",
       " 5: 'donation-information',\n",
       " 6: 'foot-in-the-door',\n",
       " 7: 'emotion-appeal',\n",
       " 8: 'self-modeling',\n",
       " 9: 'personal-story'}"
      ]
     },
     "execution_count": 14,
     "metadata": {},
     "output_type": "execute_result"
    }
   ],
   "source": [
    "# persuasionID -> persuasion label\n",
    "id2label = dict(zip(p4g_clean['persuasion_id'], p4g_clean['er_label_1']))\n",
    "id2label"
   ]
  },
  {
   "cell_type": "markdown",
   "id": "23cc7d04",
   "metadata": {},
   "source": [
    "Remove the **er_label_1** column from the DataFrame."
   ]
  },
  {
   "cell_type": "code",
   "execution_count": 15,
   "id": "81e62708",
   "metadata": {},
   "outputs": [
    {
     "data": {
      "text/html": [
       "<div>\n",
       "<style scoped>\n",
       "    .dataframe tbody tr th:only-of-type {\n",
       "        vertical-align: middle;\n",
       "    }\n",
       "\n",
       "    .dataframe tbody tr th {\n",
       "        vertical-align: top;\n",
       "    }\n",
       "\n",
       "    .dataframe thead th {\n",
       "        text-align: right;\n",
       "    }\n",
       "</style>\n",
       "<table border=\"1\" class=\"dataframe\">\n",
       "  <thead>\n",
       "    <tr style=\"text-align: right;\">\n",
       "      <th></th>\n",
       "      <th>Unit</th>\n",
       "      <th>neg</th>\n",
       "      <th>neu</th>\n",
       "      <th>pos</th>\n",
       "      <th>persuasion_id</th>\n",
       "    </tr>\n",
       "  </thead>\n",
       "  <tbody>\n",
       "    <tr>\n",
       "      <th>5</th>\n",
       "      <td>Are you involved with charities?</td>\n",
       "      <td>0.0</td>\n",
       "      <td>0.556</td>\n",
       "      <td>0.444</td>\n",
       "      <td>0</td>\n",
       "    </tr>\n",
       "    <tr>\n",
       "      <th>18</th>\n",
       "      <td>Do you currently donate to your charity?</td>\n",
       "      <td>0.0</td>\n",
       "      <td>0.682</td>\n",
       "      <td>0.318</td>\n",
       "      <td>0</td>\n",
       "    </tr>\n",
       "    <tr>\n",
       "      <th>22</th>\n",
       "      <td>Save The Children is an international non-gove...</td>\n",
       "      <td>0.0</td>\n",
       "      <td>0.533</td>\n",
       "      <td>0.467</td>\n",
       "      <td>1</td>\n",
       "    </tr>\n",
       "    <tr>\n",
       "      <th>28</th>\n",
       "      <td>These children really need the assistance.</td>\n",
       "      <td>0.0</td>\n",
       "      <td>1.000</td>\n",
       "      <td>0.000</td>\n",
       "      <td>2</td>\n",
       "    </tr>\n",
       "    <tr>\n",
       "      <th>34</th>\n",
       "      <td>Do you have any more questions for me?</td>\n",
       "      <td>0.0</td>\n",
       "      <td>1.000</td>\n",
       "      <td>0.000</td>\n",
       "      <td>0</td>\n",
       "    </tr>\n",
       "  </tbody>\n",
       "</table>\n",
       "</div>"
      ],
      "text/plain": [
       "                                                 Unit  neg    neu    pos  \\\n",
       "5                    Are you involved with charities?  0.0  0.556  0.444   \n",
       "18           Do you currently donate to your charity?  0.0  0.682  0.318   \n",
       "22  Save The Children is an international non-gove...  0.0  0.533  0.467   \n",
       "28         These children really need the assistance.  0.0  1.000  0.000   \n",
       "34             Do you have any more questions for me?  0.0  1.000  0.000   \n",
       "\n",
       "    persuasion_id  \n",
       "5               0  \n",
       "18              0  \n",
       "22              1  \n",
       "28              2  \n",
       "34              0  "
      ]
     },
     "execution_count": 15,
     "metadata": {},
     "output_type": "execute_result"
    }
   ],
   "source": [
    "unkn_feat = ['er_label_1']\n",
    "p4g_clean.drop(unkn_feat, axis=1, inplace=True)\n",
    "p4g_clean.head()"
   ]
  },
  {
   "cell_type": "markdown",
   "id": "37faaf50",
   "metadata": {},
   "source": [
    "We proceed by plotting the total number of record for each label/class present in the **p4g_df** DataFrame. As it can be noted from the plot, the dataset is highly imbalanced, with classes such **credibility-appeal**, i.e., persuasion_id: **1**, having more than 1,000-record, as opposed to others such as **foot-in-the-door**, i.e., persuasion_id: **6**, with less that 200-records."
   ]
  },
  {
   "cell_type": "code",
   "execution_count": 16,
   "id": "0b6cfee8",
   "metadata": {},
   "outputs": [
    {
     "data": {
      "text/plain": [
       "persuasion_id\n",
       "0     191\n",
       "1    1083\n",
       "2     469\n",
       "3     168\n",
       "4     180\n",
       "5     491\n",
       "6     162\n",
       "7     377\n",
       "8     163\n",
       "9     153\n",
       "dtype: int64"
      ]
     },
     "execution_count": 16,
     "metadata": {},
     "output_type": "execute_result"
    }
   ],
   "source": [
    "ax = p4g_clean.groupby(['persuasion_id']).size()\n",
    "ax"
   ]
  },
  {
   "cell_type": "code",
   "execution_count": 17,
   "id": "752e1d43",
   "metadata": {},
   "outputs": [
    {
     "data": {
      "image/png": "[encoded data removed]",
      "text/plain": [
       "<Figure size 432x288 with 1 Axes>"
      ]
     },
     "metadata": {
      "needs_background": "light"
     },
     "output_type": "display_data"
    }
   ],
   "source": [
    "ax.plot(kind='barh', rot=0, title=\"Records per class in P4G\")\n",
    "plt.show()"
   ]
  },
  {
   "cell_type": "markdown",
   "id": "e34d2082",
   "metadata": {},
   "source": [
    "### 4. Resampling the imbalanced persuasion data <a class=\"anchor\" id=\"p4g-resample\"></a>"
   ]
  },
  {
   "cell_type": "code",
   "execution_count": 18,
   "id": "7002204d",
   "metadata": {},
   "outputs": [
    {
     "data": {
      "text/plain": [
       "((3437, 4), (3437,))"
      ]
     },
     "execution_count": 18,
     "metadata": {},
     "output_type": "execute_result"
    }
   ],
   "source": [
    "# Separating the independent variables from dependent variables\n",
    "X = p4g_clean.iloc[:,:-1]\n",
    "y = p4g_clean.iloc[:,-1]\n",
    "X.shape, y.shape"
   ]
  },
  {
   "cell_type": "code",
   "execution_count": 19,
   "id": "f89863a7",
   "metadata": {},
   "outputs": [
    {
     "data": {
      "text/html": [
       "<div>\n",
       "<style scoped>\n",
       "    .dataframe tbody tr th:only-of-type {\n",
       "        vertical-align: middle;\n",
       "    }\n",
       "\n",
       "    .dataframe tbody tr th {\n",
       "        vertical-align: top;\n",
       "    }\n",
       "\n",
       "    .dataframe thead th {\n",
       "        text-align: right;\n",
       "    }\n",
       "</style>\n",
       "<table border=\"1\" class=\"dataframe\">\n",
       "  <thead>\n",
       "    <tr style=\"text-align: right;\">\n",
       "      <th></th>\n",
       "      <th>Unit</th>\n",
       "      <th>neg</th>\n",
       "      <th>neu</th>\n",
       "      <th>pos</th>\n",
       "    </tr>\n",
       "  </thead>\n",
       "  <tbody>\n",
       "    <tr>\n",
       "      <th>5</th>\n",
       "      <td>Are you involved with charities?</td>\n",
       "      <td>0.0</td>\n",
       "      <td>0.556</td>\n",
       "      <td>0.444</td>\n",
       "    </tr>\n",
       "    <tr>\n",
       "      <th>18</th>\n",
       "      <td>Do you currently donate to your charity?</td>\n",
       "      <td>0.0</td>\n",
       "      <td>0.682</td>\n",
       "      <td>0.318</td>\n",
       "    </tr>\n",
       "    <tr>\n",
       "      <th>22</th>\n",
       "      <td>Save The Children is an international non-gove...</td>\n",
       "      <td>0.0</td>\n",
       "      <td>0.533</td>\n",
       "      <td>0.467</td>\n",
       "    </tr>\n",
       "    <tr>\n",
       "      <th>28</th>\n",
       "      <td>These children really need the assistance.</td>\n",
       "      <td>0.0</td>\n",
       "      <td>1.000</td>\n",
       "      <td>0.000</td>\n",
       "    </tr>\n",
       "    <tr>\n",
       "      <th>34</th>\n",
       "      <td>Do you have any more questions for me?</td>\n",
       "      <td>0.0</td>\n",
       "      <td>1.000</td>\n",
       "      <td>0.000</td>\n",
       "    </tr>\n",
       "  </tbody>\n",
       "</table>\n",
       "</div>"
      ],
      "text/plain": [
       "                                                 Unit  neg    neu    pos\n",
       "5                    Are you involved with charities?  0.0  0.556  0.444\n",
       "18           Do you currently donate to your charity?  0.0  0.682  0.318\n",
       "22  Save The Children is an international non-gove...  0.0  0.533  0.467\n",
       "28         These children really need the assistance.  0.0  1.000  0.000\n",
       "34             Do you have any more questions for me?  0.0  1.000  0.000"
      ]
     },
     "execution_count": 19,
     "metadata": {},
     "output_type": "execute_result"
    }
   ],
   "source": [
    "X.head()"
   ]
  },
  {
   "cell_type": "code",
   "execution_count": 20,
   "id": "4b652121",
   "metadata": {},
   "outputs": [
    {
     "data": {
      "text/plain": [
       "((3265, 4), (3265,), (172, 4), (172,))"
      ]
     },
     "execution_count": 20,
     "metadata": {},
     "output_type": "execute_result"
    }
   ],
   "source": [
    "# Split train-test data\n",
    "X_train, X_test, y_train, y_test = train_test_split(X, y, test_size=0.05, random_state=1, stratify=y)\n",
    "X_train.shape, y_train.shape, X_test.shape, y_test.shape"
   ]
  },
  {
   "cell_type": "code",
   "execution_count": 21,
   "id": "6cd06fc7",
   "metadata": {},
   "outputs": [
    {
     "data": {
      "image/png": "[encoded data removed]",
      "text/plain": [
       "<Figure size 432x288 with 1 Axes>"
      ]
     },
     "metadata": {
      "needs_background": "light"
     },
     "output_type": "display_data"
    }
   ],
   "source": [
    "count = y_train.value_counts()\n",
    "\n",
    "count.plot.barh()\n",
    "plt.xlabel('Number of records')\n",
    "plt.ylabel('Target Class')\n",
    "plt.show()"
   ]
  },
  {
   "cell_type": "code",
   "execution_count": 22,
   "id": "aa557f50",
   "metadata": {},
   "outputs": [
    {
     "name": "stdout",
     "output_type": "stream",
     "text": [
      "Class distribution before resampling:\n",
      "1    1029\n",
      "5     466\n",
      "2     446\n",
      "7     358\n",
      "0     181\n",
      "4     171\n",
      "3     160\n",
      "8     155\n",
      "6     154\n",
      "9     145\n",
      "Name: persuasion_id, dtype: int64\n"
     ]
    }
   ],
   "source": [
    "# summarize class distribution\n",
    "print(f\"Class distribution before resampling:\\n{count}\")"
   ]
  },
  {
   "cell_type": "code",
   "execution_count": 23,
   "id": "5b25d580",
   "metadata": {},
   "outputs": [],
   "source": [
    "# define undersampling strategy\n",
    "undersample = RandomUnderSampler(sampling_strategy='all')\n",
    "\n",
    "# define oversampling strategy\n",
    "oversample = RandomOverSampler(sampling_strategy='all')\n",
    "\n",
    "# define pipeline\n",
    "pipeline = Pipeline(steps=[('o', oversample), ('u', undersample)])"
   ]
  },
  {
   "cell_type": "code",
   "execution_count": 24,
   "id": "d1059fbd",
   "metadata": {},
   "outputs": [],
   "source": [
    "# resample\n",
    "X_resampled, y_resampled = pipeline.fit_resample(X_train, y_train)"
   ]
  },
  {
   "cell_type": "code",
   "execution_count": 25,
   "id": "b09371b1",
   "metadata": {},
   "outputs": [
    {
     "data": {
      "image/png": "[encoded data removed]",
      "text/plain": [
       "<Figure size 432x288 with 1 Axes>"
      ]
     },
     "metadata": {
      "needs_background": "light"
     },
     "output_type": "display_data"
    }
   ],
   "source": [
    "count_resampled = y_resampled.value_counts()\n",
    "\n",
    "count_resampled.plot.barh()\n",
    "plt.xlabel('Number of records')\n",
    "plt.ylabel('Target Class')\n",
    "plt.show()"
   ]
  },
  {
   "cell_type": "code",
   "execution_count": 26,
   "id": "20dfbda6",
   "metadata": {},
   "outputs": [
    {
     "name": "stdout",
     "output_type": "stream",
     "text": [
      "Class distribution after resampling:\n",
      "0    1029\n",
      "1    1029\n",
      "2    1029\n",
      "3    1029\n",
      "4    1029\n",
      "5    1029\n",
      "6    1029\n",
      "7    1029\n",
      "8    1029\n",
      "9    1029\n",
      "Name: persuasion_id, dtype: int64\n"
     ]
    }
   ],
   "source": [
    "# summarize class distribution\n",
    "print(f\"Class distribution after resampling:\\n{count_resampled}\")"
   ]
  },
  {
   "cell_type": "code",
   "execution_count": 27,
   "id": "38b29b7c",
   "metadata": {},
   "outputs": [
    {
     "data": {
      "text/plain": [
       "((10290, 4), (10290,))"
      ]
     },
     "execution_count": 27,
     "metadata": {},
     "output_type": "execute_result"
    }
   ],
   "source": [
    "X_resampled.shape, y_resampled.shape"
   ]
  },
  {
   "cell_type": "code",
   "execution_count": 28,
   "id": "7b9c2ec7",
   "metadata": {},
   "outputs": [
    {
     "data": {
      "text/html": [
       "<div>\n",
       "<style scoped>\n",
       "    .dataframe tbody tr th:only-of-type {\n",
       "        vertical-align: middle;\n",
       "    }\n",
       "\n",
       "    .dataframe tbody tr th {\n",
       "        vertical-align: top;\n",
       "    }\n",
       "\n",
       "    .dataframe thead th {\n",
       "        text-align: right;\n",
       "    }\n",
       "</style>\n",
       "<table border=\"1\" class=\"dataframe\">\n",
       "  <thead>\n",
       "    <tr style=\"text-align: right;\">\n",
       "      <th></th>\n",
       "      <th>Unit</th>\n",
       "      <th>neg</th>\n",
       "      <th>neu</th>\n",
       "      <th>pos</th>\n",
       "    </tr>\n",
       "  </thead>\n",
       "  <tbody>\n",
       "    <tr>\n",
       "      <th>0</th>\n",
       "      <td>Where would you like to focus your donation?</td>\n",
       "      <td>0.000</td>\n",
       "      <td>0.737</td>\n",
       "      <td>0.263</td>\n",
       "    </tr>\n",
       "    <tr>\n",
       "      <th>1</th>\n",
       "      <td>You ever do one of these chat tasks before?</td>\n",
       "      <td>0.000</td>\n",
       "      <td>1.000</td>\n",
       "      <td>0.000</td>\n",
       "    </tr>\n",
       "    <tr>\n",
       "      <th>2</th>\n",
       "      <td>Do you have questions?</td>\n",
       "      <td>0.000</td>\n",
       "      <td>1.000</td>\n",
       "      <td>0.000</td>\n",
       "    </tr>\n",
       "    <tr>\n",
       "      <th>3</th>\n",
       "      <td>did they ever did a big mistake that was all o...</td>\n",
       "      <td>0.179</td>\n",
       "      <td>0.821</td>\n",
       "      <td>0.000</td>\n",
       "    </tr>\n",
       "    <tr>\n",
       "      <th>4</th>\n",
       "      <td>Would you like to help an important cause?</td>\n",
       "      <td>0.000</td>\n",
       "      <td>0.417</td>\n",
       "      <td>0.583</td>\n",
       "    </tr>\n",
       "  </tbody>\n",
       "</table>\n",
       "</div>"
      ],
      "text/plain": [
       "                                                Unit    neg    neu    pos\n",
       "0       Where would you like to focus your donation?  0.000  0.737  0.263\n",
       "1        You ever do one of these chat tasks before?  0.000  1.000  0.000\n",
       "2                             Do you have questions?  0.000  1.000  0.000\n",
       "3  did they ever did a big mistake that was all o...  0.179  0.821  0.000\n",
       "4         Would you like to help an important cause?  0.000  0.417  0.583"
      ]
     },
     "execution_count": 28,
     "metadata": {},
     "output_type": "execute_result"
    }
   ],
   "source": [
    "X_resampled.head()"
   ]
  },
  {
   "cell_type": "code",
   "execution_count": 29,
   "id": "efd8f897",
   "metadata": {},
   "outputs": [
    {
     "data": {
      "text/plain": [
       "((10290,), (10290,))"
      ]
     },
     "execution_count": 29,
     "metadata": {},
     "output_type": "execute_result"
    }
   ],
   "source": [
    "X_filtered = X_resampled['Unit']\n",
    "y_filtered = y_resampled.to_numpy()\n",
    "X_filtered.shape, y_filtered.shape"
   ]
  },
  {
   "cell_type": "markdown",
   "id": "3731ad99",
   "metadata": {},
   "source": [
    "### 5. Saving the Training and Test Sets <a class=\"anchor\" id=\"p4g-save\"></a>"
   ]
  },
  {
   "cell_type": "code",
   "execution_count": 30,
   "id": "bf47dd24",
   "metadata": {},
   "outputs": [],
   "source": [
    "# X_train, X_test, y_train, y_test\n",
    "# X_resampled.shape, y_resampled.shape\n",
    "X_train.to_pickle(os.path.join(destination_folder, 'x_train_imbalanced.pkl'))\n",
    "X_test.to_pickle(os.path.join(destination_folder, 'x_test_imbalanced.pkl'))\n",
    "y_train.to_pickle(os.path.join(destination_folder, 'y_train_imbalanced.pkl'))\n",
    "y_test.to_pickle(os.path.join(destination_folder, 'y_test_imbalanced.pkl'))\n",
    "X_resampled.to_pickle(os.path.join(destination_folder, 'x_resampled_balanced.pkl'))\n",
    "y_resampled.to_pickle(os.path.join(destination_folder, 'y_resampled_balanced.pkl'))"
   ]
  },
  {
   "cell_type": "markdown",
   "id": "57571074",
   "metadata": {},
   "source": [
    "### What's next?\n",
    "\n",
    "* We move on to training and testing machine learning models on the P4G data, see [01_signal_persuasion_classification.ipynb](./01_signal_persuasion_classification.ipynb)"
   ]
  }
 ],
 "metadata": {
  "kernelspec": {
   "display_name": "Python 3 (ipykernel)",
   "language": "python",
   "name": "python3"
  },
  "language_info": {
   "codemirror_mode": {
    "name": "ipython",
    "version": 3
   },
   "file_extension": ".py",
   "mimetype": "text/x-python",
   "name": "python",
   "nbconvert_exporter": "python",
   "pygments_lexer": "ipython3",
   "version": "3.9.6"
  }
 },
 "nbformat": 4,
 "nbformat_minor": 5
}
