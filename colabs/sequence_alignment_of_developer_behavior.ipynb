{
  "nbformat": 4,
  "nbformat_minor": 0,
  "metadata": {
    "colab": {
      "provenance": [],
      "collapsed_sections": [],
      "toc_visible": true,
      "authorship_tag": "ABX9TyPV3LeSkoUp9XEK22kGJOu1",
      "include_colab_link": true
    },
    "kernelspec": {
      "name": "python3",
      "display_name": "Python 3"
    },
    "language_info": {
      "name": "python"
    }
  },
  "cells": [
    {
      "cell_type": "markdown",
      "metadata": {
        "id": "view-in-github",
        "colab_type": "text"
      },
      "source": [
        "<a href=\"https://colab.research.google.com/github/SRI-CSL/signal-public/blob/main/colabs/sequence_alignment_of_developer_behavior.ipynb\" target=\"_parent\"><img src=\"https://colab.research.google.com/assets/colab-badge.svg\" alt=\"Open In Colab\"/></a>"
      ]
    },
    {
      "cell_type": "markdown",
      "source": [
        "# **SIGNAL**ing Sequence Alignment of Developer Behavior\n",
        "\n",
        "**Description:** Create sequences of developer activities and code contribution data within a given time frame.\n",
        "\n",
        "##### **Copyright 2022 SRI International.**\n",
        "\n",
        "This project is under the GPL3 License. \n",
        "See the [LICENSE](https://www.gnu.org/licenses/gpl-3.0.en.html) file for the full license text."
      ],
      "metadata": {
        "id": "_undAjnJeiWX"
      }
    },
    {
      "cell_type": "markdown",
      "source": [
        "## &#9776; Dependencies"
      ],
      "metadata": {
        "id": "XJgmjGWefvo2"
      }
    },
    {
      "cell_type": "code",
      "execution_count": 1,
      "metadata": {
        "id": "uj6cIVWQeXIW"
      },
      "outputs": [],
      "source": [
        "import os\n",
        "import sys\n",
        "import time\n",
        "import warnings\n",
        "\n",
        "import json\n",
        "import pickle\n",
        "import pathlib\n",
        "import zipfile\n",
        "\n",
        "import numpy as np\n",
        "import pandas as pd\n",
        "import matplotlib.pyplot as plt\n",
        "\n",
        "from statistics import mean, median\n",
        "from datetime import date, datetime\n",
        "\n",
        "from contextlib import contextmanager\n",
        "from scipy.spatial.distance import cdist, pdist, squareform\n",
        "\n",
        "import typing as ty\n",
        "from typing import List, Any, Dict, Tuple"
      ]
    },
    {
      "cell_type": "code",
      "source": [
        "try:\n",
        "    from google.colab import data_table, output\n",
        "    data_table.disable_dataframe_formatter()\n",
        "    output.enable_custom_widget_manager()\n",
        "except Exception:\n",
        "    print(\"Launched notebook locally\")"
      ],
      "metadata": {
        "id": "mmbKuicSfcIW"
      },
      "execution_count": 2,
      "outputs": []
    },
    {
      "cell_type": "code",
      "source": [
        "# install gdown library for .csv files download\n",
        "try:\n",
        "    import gdown\n",
        "except ImportError:\n",
        "    !pip install gdown"
      ],
      "metadata": {
        "id": "-Nx-GhdFfgUC"
      },
      "execution_count": 3,
      "outputs": []
    },
    {
      "cell_type": "code",
      "source": [
        "try:\n",
        "    from dataclass_csv import DataclassReader, DataclassWriter\n",
        "except ImportError:\n",
        "    !pip install dataclass-csv"
      ],
      "metadata": {
        "id": "BJu9RWvcVV3Z",
        "colab": {
          "base_uri": "https://localhost:8080/"
        },
        "outputId": "ae6019a1-4f3c-4996-dfcd-781f8e114b60"
      },
      "execution_count": 4,
      "outputs": [
        {
          "output_type": "stream",
          "name": "stdout",
          "text": [
            "Looking in indexes: https://pypi.org/simple, https://us-python.pkg.dev/colab-wheels/public/simple/\n",
            "Collecting dataclass-csv\n",
            "  Downloading dataclass_csv-1.4.0-py2.py3-none-any.whl (16 kB)\n",
            "Installing collected packages: dataclass-csv\n",
            "Successfully installed dataclass-csv-1.4.0\n"
          ]
        }
      ]
    },
    {
      "cell_type": "code",
      "source": [
        "from dataclass_csv import DataclassReader, DataclassWriter, dateformat\n",
        "from dataclasses import asdict, dataclass, field, replace"
      ],
      "metadata": {
        "id": "k7yoDmeeU7ir"
      },
      "execution_count": 5,
      "outputs": []
    },
    {
      "cell_type": "code",
      "source": [
        "import plotly.graph_objects as go\n",
        "import plotly.express as px"
      ],
      "metadata": {
        "id": "_ccXirq_vVj0"
      },
      "execution_count": 6,
      "outputs": []
    },
    {
      "cell_type": "markdown",
      "source": [
        "## &#9997; Configuration\n",
        "\n"
      ],
      "metadata": {
        "id": "q1ulMukdfznM"
      }
    },
    {
      "cell_type": "code",
      "source": [
        "# warnings.simplefilter(\"ignore\", np.ComplexWarning)\n",
        "warnings.filterwarnings(\"ignore\") "
      ],
      "metadata": {
        "id": "eFoLtHG6fibE"
      },
      "execution_count": 7,
      "outputs": []
    },
    {
      "cell_type": "code",
      "source": [
        "%matplotlib inline\n",
        "%config InlineBackend.figure_format='retina'"
      ],
      "metadata": {
        "id": "3YEYkGLOustY"
      },
      "execution_count": 8,
      "outputs": []
    },
    {
      "cell_type": "code",
      "source": [
        "# origins of the .csv data files used\n",
        "# True: originating within the signal-public GitHub repository\n",
        "# False: need to be downloaded from a provided URL, especially useful if running on Colab\n",
        "IS_LOCAL_FILE = False"
      ],
      "metadata": {
        "id": "FUtYbrZefmQr"
      },
      "execution_count": 9,
      "outputs": []
    },
    {
      "cell_type": "code",
      "source": [
        "# Save the results produced in this Colab Notebook\n",
        "# todo: (also) enable saving in Google Drive\n",
        "SAVE_RESULTS = True"
      ],
      "metadata": {
        "id": "bQBYYIcuTlfH"
      },
      "execution_count": 10,
      "outputs": []
    },
    {
      "cell_type": "code",
      "source": [
        "# dictionary of files for this notebook to work\n",
        "# the dictionary is composed of (filename, Google ID) key-value pairs\n",
        "\n",
        "# major code landmarks .zip files for the \n",
        "# 1. Linux Kernel: (08-15-2020.zip) https://drive.google.com/file/d/1h1AGfQkOhvgtcCR8tWVzObBSpBTURWM2/view?usp=sharing\n",
        "DATA_DICT = {\n",
        "    \"linux-kernel-data\": \"1h1AGfQkOhvgtcCR8tWVzObBSpBTURWM2\",\n",
        "    \"activity_triplets_V1_02182022\": \"1BUd2sAUP04Jf1Qnin0uhMeAXaN3gCyTy\" \n",
        "    }"
      ],
      "metadata": {
        "id": "8P1q94jBfon2"
      },
      "execution_count": 11,
      "outputs": []
    },
    {
      "cell_type": "code",
      "source": [
        "TODAYS_DATE = date.today()\n",
        "print(TODAYS_DATE)"
      ],
      "metadata": {
        "colab": {
          "base_uri": "https://localhost:8080/"
        },
        "id": "7PQ9DlhouPhv",
        "outputId": "e6e00157-bb3b-4037-943a-34c144de6410"
      },
      "execution_count": 12,
      "outputs": [
        {
          "output_type": "stream",
          "name": "stdout",
          "text": [
            "2022-09-14\n"
          ]
        }
      ]
    },
    {
      "cell_type": "markdown",
      "source": [
        "## &#9881; `Helper` functions"
      ],
      "metadata": {
        "id": "uOoFaVmIf7cY"
      }
    },
    {
      "cell_type": "markdown",
      "source": [
        "### &#9759; Common Functions"
      ],
      "metadata": {
        "id": "POjpe1rDxzUh"
      }
    },
    {
      "cell_type": "code",
      "source": [
        "# thx to https://stackoverflow.com/questions/53581278\n",
        "def is_run_in_colab():\n",
        "    if 'google.colab' in os.environ['PATH']:\n",
        "        return True\n",
        "    elif hasattr(__builtins__,'__IPYTHON__'):\n",
        "        from IPython import get_ipython\n",
        "        return 'google.colab' in str(get_ipython())\n",
        "    return False"
      ],
      "metadata": {
        "id": "fhK0k76EyFa6"
      },
      "execution_count": 13,
      "outputs": []
    },
    {
      "cell_type": "code",
      "source": [
        "def path_exists(input_path: str) -> bool:\n",
        "    return os.path.exists(input_path)"
      ],
      "metadata": {
        "id": "PougYV9RfqvT"
      },
      "execution_count": 14,
      "outputs": []
    },
    {
      "cell_type": "code",
      "source": [
        "def check_file_status(input_path: str):\n",
        "    if path_exists(input_path=input_path):\n",
        "        print(f\"- File {input_path.split('/')[-1]} exists locally at {input_path}!\")\n",
        "    else:\n",
        "        if IS_LOCAL_FILE:\n",
        "            print(f\"- IS_LOCAL_FILE is set to {IS_LOCAL_FILE}. The file is accessed via a public GitHub link!\")\n",
        "        else:\n",
        "            print(f\"- File {input_path.split('/')[-1]} does not exists locally!\")"
      ],
      "metadata": {
        "id": "6YVBn-DOgwQC"
      },
      "execution_count": 15,
      "outputs": []
    },
    {
      "cell_type": "code",
      "source": [
        "def download_data_from_google_drive(google_file_id: str, output_file_name: str, quiet_download: bool) -> str:\n",
        "    file_path = f'./{output_file_name}'\n",
        "\n",
        "    if not os.path.exists(file_path):\n",
        "        gdown.download(id=google_file_id, output=output_file_name, quiet=quiet_download)\n",
        "    else:\n",
        "        print(f\"{output_file_name} already exists!\")\n",
        "        \n",
        "    return file_path"
      ],
      "metadata": {
        "id": "thFHrsgsgx82"
      },
      "execution_count": 16,
      "outputs": []
    },
    {
      "cell_type": "code",
      "source": [
        "def get_dataset(dataset_name: str, is_local_file: bool) -> str:\n",
        "    file_path = f'./{dataset_name}'\n",
        "\n",
        "    if is_local_file:\n",
        "        file_path = f'https://raw.githubusercontent.com/SRI-CSL/signal-public/main/data/{dataset_name}'\n",
        "    else:\n",
        "        if dataset_name in DATA_DICT:\n",
        "            file_path = download_data_from_google_drive(google_file_id=DATA_DICT[dataset_name], output_file_name=dataset_name, quiet_download=False)\n",
        "        else:\n",
        "            print(f\"{dataset_name} is not present in dataset dictionary! Please ensure the file name is correct!\")\n",
        "            return\n",
        "\n",
        "    return file_path"
      ],
      "metadata": {
        "id": "es1lGc0jg0FN"
      },
      "execution_count": 17,
      "outputs": []
    },
    {
      "cell_type": "markdown",
      "source": [
        "### &#9759; Tensor Fusion Functions"
      ],
      "metadata": {
        "id": "7mMURTOWySlZ"
      }
    },
    {
      "cell_type": "code",
      "source": [
        "def tensor_fusion(h_x: np.array, h_y: np.array) -> np.ndarray:\n",
        "    \"\"\"Computes the tensor fusion based on the recommendation of \n",
        "    Morency et al., Tutorial on Multimodal Machine Learning\n",
        "    \n",
        "    - current implementation: Assumes 1-D vectors!\n",
        "    \"\"\"\n",
        "\n",
        "    # add 1 to h_x and h_1 at the end and beginning, respectively\n",
        "    h_x = np.append(h_x, 1)\n",
        "    h_y = np.concatenate(([1], h_y))\n",
        "\n",
        "    # add new axis to h_x and h_y\n",
        "    ## if h_x is (N, ), convert it to (N, 1)\n",
        "    h_x_1 = np.expand_dims(h_x, axis=1)\n",
        "\n",
        "    ## if h_y is (M, ), convert it to (1, M)\n",
        "    h_y_1 = np.expand_dims(h_y, axis=0)\n",
        "\n",
        "    # compute the Kronecker product on h_x_1 and h_y_1\n",
        "    K_xy = np.kron(h_x_1, h_y_1)\n",
        "\n",
        "    return K_xy"
      ],
      "metadata": {
        "id": "dfG0l_MRHVEH"
      },
      "execution_count": 18,
      "outputs": []
    },
    {
      "cell_type": "code",
      "source": [
        "def vector_fusion_3D(x: np.array, y: np.array, z: np.array) -> np.ndarray:\n",
        "    \n",
        "    # add 1 at the beginning of each 1-D vector\n",
        "    h_x = np.concatenate((np.ones(1), x), axis=0)\n",
        "    h_y = np.concatenate((np.ones(1), y), axis=0)\n",
        "    h_z = np.concatenate((np.ones(1), z), axis=0)\n",
        "\n",
        "    # add additional axis needed for 3D vector fusion\n",
        "    ## (x_shape, 1, 1)\n",
        "    h_x = h_x[..., np.newaxis, np.newaxis]\n",
        "\n",
        "    ## (1, y_shape, 1)\n",
        "    h_y = h_y[np.newaxis, ..., np.newaxis]\n",
        "\n",
        "    ## (1, 1, z_shape)\n",
        "    h_z = h_z[np.newaxis, np.newaxis, ...]\n",
        "\n",
        "    # Kronecker product, equivalent to h_x * h_y * h_z\n",
        "    h_m = np.kron(h_x, np.kron(h_y, h_z))\n",
        "\n",
        "    return h_m"
      ],
      "metadata": {
        "id": "VxRKXVOJHVHR"
      },
      "execution_count": 19,
      "outputs": []
    },
    {
      "cell_type": "markdown",
      "source": [
        "### &#9759; DataFrame Manipulation Functions"
      ],
      "metadata": {
        "id": "ru-m5hwiyqvm"
      }
    },
    {
      "cell_type": "code",
      "source": [
        "def select_columns_from_dataframe(input_df: pd.DataFrame, columns: List) -> pd.DataFrame:\n",
        "    \"\"\"Selects a subset of columns from a given input dataframe.\n",
        "\n",
        "    Args:\n",
        "      input_df: input dataframe\n",
        "      columns: subset of columns to select\n",
        "\n",
        "    Returns:\n",
        "      The resulting subset dataframe\n",
        "\n",
        "    Raises:\n",
        "      LookupError: If columns do not exist in the input_df \n",
        "    \"\"\"\n",
        "\n",
        "    # check if columns exist in the input dataframe\n",
        "    if set(columns).issubset(input_df.columns):\n",
        "        result_df = input_df[columns]\n",
        "    else:\n",
        "        raise LookupError(f\"Input columns: {columns} do not exist in the dataframe!\")\n",
        "    \n",
        "    return result_df"
      ],
      "metadata": {
        "id": "3e_5HajQT2j-"
      },
      "execution_count": 20,
      "outputs": []
    },
    {
      "cell_type": "code",
      "source": [
        "def create_sequence(input_df: pd.DataFrame, seq_columns: Tuple, idx_column: str) -> Dict[str, List[Tuple[np.datetime64, str]]]:\n",
        "    \"\"\"Creates a sequence of tuples from a given input dataframe.\n",
        "\n",
        "    Args:\n",
        "      input_df: input dataframe\n",
        "      seq_columns: names of columns values of which will be present in the tuple\n",
        "      idx_column: column values of which will serve as dictionary keys\n",
        "\n",
        "    Returns:\n",
        "      The resulting dictionary where the target sequence of tuples is generated \n",
        "      for each index key value.\n",
        "    \"\"\"\n",
        "\n",
        "    result_dict = {}\n",
        "\n",
        "    for idx, row in input_df.iterrows():\n",
        "        if row[idx_column] in result_dict:\n",
        "            # target index column exists\n",
        "            result_dict[row[idx_column]].append((row[seq_columns[0]], row[seq_columns[1]]))\n",
        "        else:\n",
        "            # create the new key\n",
        "            result_dict[row[idx_column]] = [(row[seq_columns[0]], row[seq_columns[1]])]\n",
        "\n",
        "    return result_dict"
      ],
      "metadata": {
        "id": "6_QVdRtLeS2R"
      },
      "execution_count": 21,
      "outputs": []
    },
    {
      "cell_type": "code",
      "source": [
        "def get_records_in_time_window(input_df: pd.DataFrame, time_column: str, start_time: np.datetime64, end_time: np.datetime64) -> pd.DataFrame:\n",
        "    \"\"\"Obtain dataframe records that fall within a user-defined time window\n",
        "\n",
        "    Args:\n",
        "      input_df: input dataframe\n",
        "      time_column: dataframe column storing the time data serving as search filter\n",
        "      start_time: time window start time\n",
        "      end_time: time window end time\n",
        "\n",
        "    Returns:\n",
        "      The resulting subset dataframe\n",
        "    \"\"\"\n",
        "\n",
        "    assert start_time <= end_time\n",
        "\n",
        "    tmp_df = input_df.loc[(input_df[time_column] >= start_time) & (input_df[time_column] <= end_time)]\n",
        "\n",
        "    return tmp_df"
      ],
      "metadata": {
        "id": "c0x0qxMw3hQD"
      },
      "execution_count": 22,
      "outputs": []
    },
    {
      "cell_type": "code",
      "source": [
        "def get_records(input_df: pd.DataFrame, condition_column: str, condition_value: str) -> pd.DataFrame:\n",
        "    \"\"\"Obtain dataframe records based on single condition\n",
        "\n",
        "    Args:\n",
        "      input_df: input dataframe\n",
        "      condition_column: input_df column to apply the condition to\n",
        "      condition_value: value to condition with\n",
        "\n",
        "    Returns:\n",
        "      The resulting subset dataframe\n",
        "    \"\"\"\n",
        "\n",
        "    assert condition_column in input_df.columns\n",
        "\n",
        "    tmp_df = input_df.loc[input_df[condition_column] == condition_value]\n",
        "\n",
        "    return tmp_df"
      ],
      "metadata": {
        "id": "M79PPIhdKbw4"
      },
      "execution_count": 23,
      "outputs": []
    },
    {
      "cell_type": "code",
      "source": [
        "def remove_empty_rows(input_array: np.ndarray) -> np.ndarray:\n",
        "    \"\"\"Remove all rows that are composed of all zeroes.\n",
        "\n",
        "    Args:\n",
        "      input_array: ndarray to sanitize\n",
        "\n",
        "    Returns:\n",
        "      The resulting array after removal of all zero rows.\n",
        "    \"\"\"\n",
        "\n",
        "    input_array = input_array[~np.all(input_array == 0, axis=1)]\n",
        "\n",
        "    return input_array"
      ],
      "metadata": {
        "id": "p4YIiUVXw4vu"
      },
      "execution_count": 24,
      "outputs": []
    },
    {
      "cell_type": "code",
      "source": [
        "def get_developer_data(input_df: pd.DataFrame, dev_id: int) -> np.ndarray:\n",
        "    \"\"\"Obtain all records of a developer within a time window (time period)\n",
        "\n",
        "    Args:\n",
        "      input_df: input dataframe\n",
        "      dev_id: unique id of developer\n",
        "    \n",
        "    Returns:\n",
        "      A numpy ndarray containing a list of all the fusion vectors of a given developer\n",
        "    \"\"\"\n",
        "\n",
        "    res_dict = {}\n",
        "\n",
        "    dev_seq = input_df.loc[input_df['sender_id'] == dev_id]\n",
        "\n",
        "    res_dict['fusion'] = np.array([i for i in dev_seq.fusion_vector])\n",
        "    # res_dict['activities'] = np.array([i for i in dev_seq.activities_vector])\n",
        "    res_dict['hashes'] = np.array([i[0] for i in dev_seq.hashes_vector])\n",
        "    #np.array([i for i in dev_seq.hashes_vector])\n",
        "\n",
        "    return res_dict"
      ],
      "metadata": {
        "id": "rVqyghKc4Io5"
      },
      "execution_count": 25,
      "outputs": []
    },
    {
      "cell_type": "code",
      "source": [
        "def developer_sequences(input_df: pd.DataFrame, start_period: int, end_period: int) -> Dict[int, np.ndarray]:\n",
        "    \"\"\"Produce all developer fusion sequences\n",
        "\n",
        "    Args:\n",
        "      input_df: input dataframe\n",
        "      start_period: starting week of the year in consideration, periods are represented in 'weekofyear'\n",
        "      end_period: ending week of the period in consideration\n",
        "\n",
        "    Returns:\n",
        "      A dictionary where the keys are the unique developers and the values are numpy ndarrays containing the sequence of \n",
        "    \"\"\"\n",
        "\n",
        "    result_dict = {}\n",
        "\n",
        "    assert start_period <= end_period\n",
        "\n",
        "    # 1. obtain the subset of the dataframe with records within the desired period\n",
        "    tmp_df = input_df.loc[(input_df['start_time'].dt.isocalendar().week >= start_period) & \n",
        "                          (input_df['end_time'].dt.isocalendar().week <= end_period)]\n",
        "\n",
        "    if tmp_df.shape[0] > 0:\n",
        "        # 2. obtain a sequence of the unique developers in the input_df\n",
        "        devs = tmp_df.sender_id.unique()\n",
        "\n",
        "        for dev_id in devs:\n",
        "            if dev_id not in result_dict:\n",
        "                result_dict[dev_id] = get_developer_data(input_df=tmp_df, dev_id=dev_id)\n",
        "\n",
        "    return result_dict"
      ],
      "metadata": {
        "id": "sF6ykHHq4OnP"
      },
      "execution_count": 26,
      "outputs": []
    },
    {
      "cell_type": "code",
      "source": [
        "def get_revision_history_data(input_df: pd.DataFrame, year: int, start_period: int, end_period: int, hashes: List) -> pd.DataFrame:\n",
        "    \"\"\"Obtain a subset of the revision history dataframe corresponding\n",
        "       to the given time period and the provided list of hashes.\n",
        "\n",
        "    Args:\n",
        "      input_df: input dataframe, i.e., df_revision_history\n",
        "      year: year in consideration\n",
        "      start_period: starting week of the year in consideration\n",
        "      end_period: ending week of the year in consideration\n",
        "      hashes: unique hashes list\n",
        "\n",
        "    Returns:\n",
        "      A subset of the input dataframe satisfying the conditions.\n",
        "    \"\"\"\n",
        "\n",
        "    # todo: assert that the period are positive numbers between [0, 53]\n",
        "    assert start_period <= end_period\n",
        "\n",
        "    # there should be at least one hash to search for\n",
        "    assert len(hashes) > 0\n",
        "\n",
        "    tmp_df = input_df.loc[\n",
        "        (input_df['timeline'].dt.year == year) & \n",
        "        (input_df['timeline'].dt.isocalendar().week >= start_period) & \n",
        "        (input_df['timeline'].dt.isocalendar().week <= end_period) & \n",
        "        (input_df['commit_hash'].isin(hashes))]\n",
        "    \n",
        "    return tmp_df"
      ],
      "metadata": {
        "id": "Phwp4yK1MbRr"
      },
      "execution_count": 27,
      "outputs": []
    },
    {
      "cell_type": "markdown",
      "source": [
        "### &#9759; Developer Behavior Functions"
      ],
      "metadata": {
        "id": "UAqia-uCzCNd"
      }
    },
    {
      "cell_type": "code",
      "source": [
        "# Source: @Huascar, https://github.com/SRI-CSL/SIGNAL/blob/rev-history-mining/signal/rev-history-mining/git_landmark.py\n",
        "\n",
        "def sim(x: np.ndarray, y: np.ndarray) -> float:\n",
        "    return np.dot(x, y) / (np.linalg.norm(x) * np.linalg.norm(y))\n",
        "\n",
        "def rev_pred(r_i: np.ndarray, alpha: float = 0.0) -> np.ndarray:\n",
        "    # P_k_pred = \\alpha \\cdot P_k[0] \n",
        "    #  + (1 - \\alpha) \\cdot (\\sum_{i=1,...,n} sim(P_k[i], P_k[0]) \\cdot P_k[i] / Normalization term)\n",
        "    # where Normalization term is the sum of the similarities of all P_k[i]\n",
        "\n",
        "    u = np.array(r_i[0])\n",
        "\n",
        "    agg_sim = np.add.reduce([sim(u, r_i[idx]) * np.array(r_i[idx]) for idx in range(1, len(r_i))])\n",
        "    norm_factor = np.sum([sim(u, u_j) for u_j in r_i[1:]])\n",
        "\n",
        "    return u * alpha + (1 - alpha) * (agg_sim / norm_factor)"
      ],
      "metadata": {
        "id": "X0kI0TINVujm"
      },
      "execution_count": 28,
      "outputs": []
    },
    {
      "cell_type": "code",
      "source": [
        "@dataclass(frozen=True)\n",
        "@dateformat(\"%Y-%m-%d %H:%M:%S\")\n",
        "class RevCommit:\n",
        "  commit_hash: str = ''\n",
        "  author_name: str = ''\n",
        "  u_time: datetime = None\n",
        "  commit_type: str = ''\n",
        "  commit_size: str = ''\n",
        "  activity: str = ''\n",
        "  # functionality density:\n",
        "  # \\frac{\\# additions}{\\# additions + \\# deletions}\n",
        "  density: float = 0\n",
        "  # \\frac{density * size}{time}\n",
        "  # a signal that could represent the complexity\n",
        "  # of committed changes. e.g., how long it took\n",
        "  # to make this commit as an indicator for commit hardness.\n",
        "  effort: float = 0\n",
        "  # Weighted importance of a commit: This metric is based on \n",
        "  # the importance (weights) of its touched files.\n",
        "  # Let's assume that the total number of files in a repo is $F$. The\n",
        "  # weighted $I[f]$ represents the importance of a given file $f \\in F$,\n",
        "  # and is non-zero only if $f$ has been touched by other commits \n",
        "  # (aka frequency of change or simply 'churn'). \n",
        "  # Commits touching only a few important files are important (or critical) commits.\n",
        "  # (We consider heavily touched as not that important files.)\n",
        "  # Inspired by the IDF concept, we compute the the importance of a commit as follows:\n",
        "  # I[commit] = 0 if commit is not touching any files (or has touched a non-source code file)\n",
        "  # I[commit] = 1/sum({I[f]}_{f in F_touched_by_commit}) if commit is touching source files.\n",
        "  importance: float = 0\n",
        "  # percentage of files touched in repo\n",
        "  coverage: float = 0\n",
        "  additions: int = 0\n",
        "  deletions: int = 0"
      ],
      "metadata": {
        "id": "wbfsdIibWiDs"
      },
      "execution_count": 29,
      "outputs": []
    },
    {
      "cell_type": "code",
      "source": [
        "@dataclass\n",
        "class Commit:\n",
        "  commit_hash: str = ''\n",
        "  # ty.List[str]\n",
        "  files: list = field(default_factory=list)\n",
        "  quality: float = 0"
      ],
      "metadata": {
        "id": "GcpJvI8MW2-v"
      },
      "execution_count": 30,
      "outputs": []
    },
    {
      "cell_type": "code",
      "source": [
        "@dataclass(frozen=True)\n",
        "class c_i:\n",
        "  commit_hash: str = ''\n",
        "  rank: float = -0.001\n",
        "  density: float = 0\n",
        "  effort: float = 0\n",
        "  importance: float = 0\n",
        "  # let's use number of files \n",
        "  # as a proxy for coverage\n",
        "  # TODO(HAS) pls verify. \n",
        "  # IF coverage does not work, then\n",
        "  # we can a new field called num_files\n",
        "  # (in addition to coverage)\n",
        "  coverage: float = 0\n",
        "  quality: float = 0"
      ],
      "metadata": {
        "id": "eSpRdAmLXDY4"
      },
      "execution_count": 31,
      "outputs": []
    },
    {
      "cell_type": "code",
      "source": [
        "def rank_calc(q_thr: float, e_thr: float, c: c_i) -> float:\n",
        "  x = 1 if c.quality < q_thr else 0\n",
        "  x = x + 1 if c.effort < e_thr else x\n",
        "  # thx to https://stackoverflow.com/questions/11010683\n",
        "  return -0.001 * x + 0.0"
      ],
      "metadata": {
        "id": "1r_s_islXV6t"
      },
      "execution_count": 32,
      "outputs": []
    },
    {
      "cell_type": "code",
      "source": [
        "@contextmanager\n",
        "def cd(newdir):\n",
        "  prevdir = os.getcwd()\n",
        "  os.chdir(os.path.expanduser(newdir))\n",
        "  try:\n",
        "    yield\n",
        "  finally:\n",
        "    os.chdir(prevdir)"
      ],
      "metadata": {
        "id": "wra1cFyOXmSx"
      },
      "execution_count": 33,
      "outputs": []
    },
    {
      "cell_type": "code",
      "source": [
        "def sigmoid(x: float) -> float:\n",
        "  # to avoid RuntimeWarning: Overflow encountered in exp warning\n",
        "  x = np.float128(x)\n",
        "  return 1.0 / (1.0 + np.exp(-x))"
      ],
      "metadata": {
        "id": "qwYGXBdpX70K"
      },
      "execution_count": 34,
      "outputs": []
    },
    {
      "cell_type": "code",
      "source": [
        "def load_rev_history(cwd: pathlib.Path, rev_history_csv: pathlib.Path, index_json: pathlib.Path, commit_qual_csv: pathlib.Path) -> ty.Tuple[ty.List[c_i], dict]:\n",
        "  rev_history = []\n",
        "  with cd(cwd):\n",
        "    all_commits = []\n",
        "    # load revision history on a user-specified window of size W.\n",
        "    with rev_history_csv.open(\"r\") as f:\n",
        "      reader = DataclassReader(f, RevCommit)\n",
        "      all_commits.extend([row for row in reader])\n",
        "      \n",
        "    # load commit 2 files index\n",
        "    with index_json.open(encoding='utf-8') as f:\n",
        "      rev_index = json.load(f)\n",
        "      \n",
        "    qual_map = {}\n",
        "    with commit_qual_csv.open(\"r\") as f:\n",
        "      r = DataclassReader(f, Commit)\n",
        "      for row in r:\n",
        "        if row.commit_hash not in qual_map:\n",
        "          qual_map[row.commit_hash] = row.quality\n",
        "\n",
        "    # get the quality threshold\n",
        "    qual_threshold = np.mean(list(qual_map.values()))\n",
        "    effort_threshold = np.mean([rev_com.effort for rev_com in all_commits])\n",
        "\n",
        "    # sort commits by observation time\n",
        "    sorted_commits = sorted(all_commits, key=lambda x: x.u_time)\n",
        "    # exclude the synthetic commits\n",
        "    sorted_commits = np.array([c for c in sorted_commits if c.commit_type not in ['commitless', 'Empty commit']])\n",
        "    timeline = dict({rev_com.commit_hash: rev_com.u_time for rev_com in sorted_commits})\n",
        "    \n",
        "    sorted_commits = [c_i(commit_hash=rev_com.commit_hash,\n",
        "                          density=rev_com.density, \n",
        "                          effort=rev_com.effort, \n",
        "                          importance=rev_com.importance,\n",
        "                          # Number of touched files or commit's original coverage val\n",
        "                          # TODO(HAS) pls verify the use of sigmoid.\n",
        "                          coverage=max(sigmoid(float(len(rev_index.get(rev_com.commit_hash, [])))), rev_com.coverage),\n",
        "                          quality=sigmoid(qual_map.get(rev_com.commit_hash, 0.0)))\n",
        "                      for rev_com in sorted_commits]\n",
        "    sorted_commits = [replace(c, rank=rank_calc(qual_threshold, effort_threshold, c)) for c in sorted_commits]\n",
        "    rev_history.extend(sorted_commits)\n",
        "  return np.array(rev_history), timeline\n",
        "\n",
        "\n",
        "def get_revision_history(outdir: pathlib.Path) -> ty.Tuple[ty.List[c_i], dict]:\n",
        "  # Search for commits matching this summary vector P_k_pred_query.\n",
        "  # load revision.....\n",
        "  all_commits_file = outdir / \"results.csv\"\n",
        "  commits_2_files_file = outdir / \"commit-hash-2-files.json\"\n",
        "  commits_qual_file = outdir / \"commits-quality.csv\"\n",
        "  \n",
        "  for f in [all_commits_file, commits_2_files_file, commits_qual_file]:\n",
        "    if not f.exists():\n",
        "      raise ValueError(f\"Failed to locate {f.name}.\")\n",
        "  \n",
        "  sorted_rev_history, timeline = load_rev_history(\n",
        "    outdir, # directory containing git_log.py's output files\n",
        "    all_commits_file, # loaded commits \n",
        "    commits_2_files_file, # commit hash 2 files JSON index\n",
        "    commits_qual_file) # commit quality CSV\n",
        "  \n",
        "  return sorted_rev_history, timeline"
      ],
      "metadata": {
        "id": "arDmq2liUvDX"
      },
      "execution_count": 35,
      "outputs": []
    },
    {
      "cell_type": "code",
      "source": [
        "def apply_seq_kernel(c_emb: ty.List[float], kernel_radius: int = 1, epsilon: float = 0.01) -> np.ndarray:\n",
        "  # apply Gaussian kernel to a commit embeddings\n",
        "  kernels = squareform(pdist(np.expand_dims(np.arange(len(c_emb)), axis=-1)))\n",
        "  \n",
        "  # Calculate graph kernels with cutoff of epsilon at the kernel_radius.\n",
        "  kernels = np.exp((kernels * np.log(epsilon)) / kernel_radius)\n",
        "  kernels[kernels < epsilon] = 0\n",
        "\n",
        "  # Normalize kernels by dividing by row sums.\n",
        "  kernels = kernels / np.expand_dims(np.sum(kernels, axis=-1), axis=-1)\n",
        "  \n",
        "  # Updates sequence embeddings using kernel\n",
        "  c_emb_prime = np.dot(kernels, c_emb)\n",
        "  \n",
        "  return c_emb_prime"
      ],
      "metadata": {
        "id": "qRsJ7rYY5gBV"
      },
      "execution_count": 36,
      "outputs": []
    },
    {
      "cell_type": "code",
      "source": [
        "def distance_matrix(V_k_i: np.ndarray, V_k_j: np.ndarray) -> np.ndarray:\n",
        "  return 1.0 - cdist(V_k_i, V_k_j, metric='cosine')"
      ],
      "metadata": {
        "id": "BfatxAIG6LeP"
      },
      "execution_count": 37,
      "outputs": []
    },
    {
      "cell_type": "code",
      "source": [
        "def scoring_matrix(a: np.ndarray, w_i: float = 1.0, w_j: float = 1.0, epsilon: float = 0.01) -> np.ndarray:\n",
        "  # Pad distance matrix\n",
        "  sa = np.pad(a, ((1,0),(1,0)), 'constant', constant_values = 0)\n",
        "  \n",
        "  # Calculate gap weight kernels\n",
        "  dims = a.shape\n",
        "  w_i_ = [w_i * np.exp((i * np.log(epsilon)) / dims[0]) for i in reversed(range(dims[0] + 1))]\n",
        "  w_j_ = [w_j * np.exp((j * np.log(epsilon)) / dims[1]) for j in reversed(range(dims[1] + 1))]\n",
        "  \n",
        "  # Updates scoring matrix according to policy\n",
        "  for i in range(1, dims[0] + 1):\n",
        "    for j in range(1, dims[1] + 1):\n",
        "      inputs = [\n",
        "        # Top Left + Bottom Right\n",
        "        (sa[i, j] + sa[i - 1,j - 1]),\n",
        "        # Max of all previous values in column - column gap weight\n",
        "        np.max(sa[:i,j]) - w_i_[i - np.argmax(sa[:i, j])],\n",
        "        # Max of all previous values in row - row gap weight\n",
        "        np.max(sa[i,:j]) - w_j_[j - np.argmax(sa[i, :j])],\n",
        "        # Zero\n",
        "        0]\n",
        "      sa[i, j] = np.max(inputs)\n",
        "  return sa"
      ],
      "metadata": {
        "id": "M-hgkY-k6VAV"
      },
      "execution_count": 38,
      "outputs": []
    },
    {
      "cell_type": "code",
      "source": [
        "def traceback(sa: np.ndarray, k: ty.Optional[int] = 100) -> np.ndarray:\n",
        "  # Sort scoring matrix values in descending order; Save coordinates in look up table.\n",
        "  sorted_args = np.argsort(sa.flatten())[::-1]\n",
        "  coords = [(i, j) for i in range(sa.shape[0]) for j in range(sa.shape[1])]\n",
        "  \n",
        "  # Perform traceback until all coords have been visited\n",
        "  tracebacks = []\n",
        "  seen = []\n",
        "  route = []\n",
        "  \n",
        "  for ind in sorted_args:\n",
        "    # matrix indices\n",
        "    i, j = coords[ind]\n",
        "    \n",
        "    flag = True\n",
        "    score = sa[i, j]\n",
        "\n",
        "    while(flag):\n",
        "      # Route connects to other traceback\n",
        "      if (i, j) in seen:\n",
        "        tracebacks.append([route, (i, j)])\n",
        "        route = []\n",
        "        break\n",
        "      \n",
        "      route.append((i, j))\n",
        "      seen.append((i, j))\n",
        "      \n",
        "      # Route terminates at zero\n",
        "      if sa[i, j] == 0:\n",
        "        tracebacks.append([route, []])\n",
        "        route = []\n",
        "\n",
        "      # Select path direction\n",
        "      kernel = [sa[i - 1, j], sa[i,j - 1], sa[i - 1, j - 1], sa[i, j]]\n",
        "      m = np.argmax(kernel)\n",
        "      \n",
        "      # Move to next gap\n",
        "      if m == 0:\n",
        "        # Terminate route if score is less than gap value\n",
        "        if score > sa[i - 1, j]:\n",
        "          i -= 1\n",
        "          score += sa[i, j]\n",
        "        else:\n",
        "          tracebacks.append([route, []])\n",
        "          route = []\n",
        "          break\n",
        "      elif m == 1:\n",
        "        # Terminate route if score is less than gap value\n",
        "        if score > sa[i, j - 1]:\n",
        "          j -= 1\n",
        "          score += sa[i, j]\n",
        "        else:\n",
        "          tracebacks.append([route, []])\n",
        "          route = []\n",
        "          break\n",
        "      # Move to next hit\n",
        "      elif m in [2, 3]:\n",
        "        i -= 1\n",
        "        j -= 1\n",
        "        score += sa[i, j]\n",
        "      \n",
        "      # Stop at zero or if route is too long\n",
        "      if i < 0 or j < 0:\n",
        "        break\n",
        "\n",
        "\n",
        "  # Return alignments with length greater than 1 in order as they are found.\n",
        "  if k is None:\n",
        "    k = len(tracebacks)\n",
        "\n",
        "  alignments = [] # a collection of index tuples\n",
        "  for _ in tracebacks:\n",
        "    # check length of routes\n",
        "    if len(_[0]) > 1:\n",
        "      r = [(i - 1, j - 1) for (i, j) in _[0]]\n",
        "      alignments.append(r[:-1])\n",
        "    if len(alignments) == k:\n",
        "      break\n",
        "\n",
        "  # print(f\"alignments = {len(alignments)}; {alignments[0]}\")\n",
        "  return alignments"
      ],
      "metadata": {
        "id": "32zxr7oI6e_Z"
      },
      "execution_count": 39,
      "outputs": []
    },
    {
      "cell_type": "code",
      "source": [
        "def score_alignment(alignment: np.ndarray, s1: np.ndarray, s2: np.ndarray, k: int) -> float:\n",
        "  # Find gaps and hits, and gather feature vectors\n",
        "  temp_i = []\n",
        "  temp_j = []\n",
        "  \n",
        "  i = -1\n",
        "  j = -1\n",
        "  s1_ = []\n",
        "  s2_ = []\n",
        "\n",
        "  for _ in alignment:\n",
        "    if _[0] != i:\n",
        "      temp_i.append(1)\n",
        "      i = _[0]\n",
        "    else: temp_i.append(0.0)\n",
        "    if _[1] != j:\n",
        "      temp_j.append(1)\n",
        "      j = _[1]\n",
        "    else: temp_j.append(0.0)\n",
        "    s1_.append(s1[_[0]])\n",
        "    s2_.append(s2[_[1]])\n",
        "  \n",
        "  # Calculate similarity score\n",
        "  mask = np.array(temp_i) * np.array(temp_j)\n",
        "  similarity = 2 - cdist(s1_, s2_, 'cosine').diagonal()\n",
        "  score = (similarity * mask) / (2 * len(alignment)) * (np.sum(mask) / len(s2)) * k * len(s2)\n",
        "\n",
        "  return score[0]"
      ],
      "metadata": {
        "id": "8i2VjqcT6qHr"
      },
      "execution_count": 40,
      "outputs": []
    },
    {
      "cell_type": "code",
      "source": [
        "def print_commit_results(top_alignments: np.ndarray, top_scores: np.ndarray, input_vecs: ty.List[np.ndarray], vec_index: dict = None) -> None:\n",
        "  assert len(input_vecs) == 2\n",
        "  if len(top_alignments) > 1:\n",
        "    print(\"Top\", len(top_alignments), 'alignments:')\n",
        "\n",
        "  for i, alignment in enumerate(top_alignments):\n",
        "    ss1 = []\n",
        "    ss2 = []\n",
        "    l = -1\n",
        "    j = -1\n",
        "    for _ in reversed(alignment):\n",
        "      if _[0] != l:\n",
        "        if vec_index:\n",
        "          cands_l = vec_index.get(tuple(input_vecs[0][_[0]]), None)\n",
        "          cands_l = [tpl[1] for tpl in cands_l if tpl[0] == 0]\n",
        "          ss1 += [cands_l[0] if len(cands_l) > 0 else None]\n",
        "        else: ss1.append(input_vecs[0][_[0]])        \n",
        "        # ss1.append(input_vecs[0][_[0]])\n",
        "        l = _[0]\n",
        "      else:\n",
        "        ss1.append('GAP')\n",
        "      \n",
        "      if _[1] != j:\n",
        "        if vec_index:\n",
        "          cands_j = vec_index.get(tuple(input_vecs[1][_[1]]), None)\n",
        "          cands_j = [tpl[1] for tpl in cands_j if tpl[0] == 1]\n",
        "          ss2 += [cands_j[0] if len(cands_j) > 0 else None]\n",
        "        else: ss2.append(input_vecs[1][_[1]])\n",
        "        # ss2.append(input_vecs[1][_[1]])\n",
        "        j = _[1]\n",
        "      else:\n",
        "        ss2.append('GAP')\n",
        "\n",
        "    print('Alignment', i + 1, ':', 'Score:', top_scores[i])\n",
        "    print(\"Seq 1:\")\n",
        "    print(np.array(ss1))\n",
        "    print(\"Seq 2:\")\n",
        "    print(np.array(ss2), '\\n\\n')"
      ],
      "metadata": {
        "id": "RArrq-an8iOg"
      },
      "execution_count": 41,
      "outputs": []
    },
    {
      "cell_type": "code",
      "source": [
        "class Aligner:\n",
        "  # Problem: Given two sequences of commits, find a correspondence \n",
        "  # mapping between the commits (in their vector form) that correspond \n",
        "  # to the same intent (meaning) within the context. In other words,\n",
        "  # we are interested in finding the inter-developer-activity dependencies\n",
        "  # between these two sequences. These sequences may represent trajectories\n",
        "  # or even a sequence of code landmarks for all revisions in a repository.\n",
        "  \n",
        "  # **Planned Use Case:** given a documented social event and two \n",
        "  # repositories' revision histories, say TensorFlow and PyTorch, we want to \n",
        "  # find whether there is a semantic correspondence between the two repositories's \n",
        "  # revision histories matching the well-documented social event. The latter would\n",
        "  # verified manually by a group of humans.\n",
        "  \n",
        "  # This idea is inspired by the Smith-Waterman algorithm commonly used \n",
        "  # in bio-informatics for local alignment of genetic sequences.\n",
        "  # See trajectories.txt for additional details.\n",
        "\n",
        "  def __init__(self, kernel_size: int = 1) -> None:\n",
        "    self.kernel_size = kernel_size\n",
        "  \n",
        "  def align(self, V_i: np.ndarray, V_j: np.ndarray, w: ty.Tuple[float] = (0.25,0.25)) -> None:\n",
        "    # **Note:** This function currently aligns the first two sequences or partitions in P_K.\n",
        "    # Future TODO(HAS) make the selection of partitions user-selectable.\n",
        "    \n",
        "    # Gather vector representation for commits in each V_k\n",
        "    self.commit_vectors = [V_i, V_j]\n",
        "    \n",
        "    # Search for sequence alignments for each search v_i \\in V_K along commit_db\n",
        "    all_alignments = []\n",
        "    alignment_scores = []\n",
        "    \n",
        "    # Apply sequence kernels of radius len(search_commit) to search for commits\n",
        "    v_i_1 = apply_seq_kernel(self.commit_vectors[0], self.kernel_size)\n",
        "    v_j_1 = apply_seq_kernel(self.commit_vectors[1], self.kernel_size)\n",
        "    \n",
        "    # Calculate cosine similarity between search commit and list of commits\n",
        "    cos_dist = distance_matrix(v_i_1, v_j_1)\n",
        "    \n",
        "    # Calculate scoring matrix for sequence alignment\n",
        "    score = scoring_matrix(cos_dist, w_i = w[0], w_j = w[1])\n",
        "    \n",
        "    # Find first k alignments of len > 1\n",
        "    alignments = traceback(score, k=None)\n",
        "    for j, _ in enumerate(alignments):\n",
        "      all_alignments.append(_)\n",
        "      alignment_scores.append(score_alignment(_, self.commit_vectors[0], v_j_1, 1 - (j / len(alignments))))\n",
        "    \n",
        "    assert len(alignment_scores) == len(all_alignments), \"Should be the same, right?\"\n",
        "    \n",
        "    self.all_alignments = all_alignments\n",
        "    \n",
        "    # Sort alignment scores while tracking their indices\n",
        "    self.sorted_scores = np.argsort(alignment_scores)[::-1]\n",
        "    \n",
        "    # Compile top results\n",
        "    self.alignments = np.array(alignments)\n",
        "    self.alignment_scores = np.array(alignment_scores)\n",
        "\n",
        "\n",
        "  def compile_top_results(self, k: int = 10) -> ty.Tuple[np.ndarray, np.ndarray]:\n",
        "    # Compile top results    \n",
        "    top_alignments = self.alignments[self.sorted_scores[:k].astype(int)]\n",
        "    top_scores = self.alignment_scores[self.sorted_scores[:k].astype('int')]\n",
        "    \n",
        "    assert len(self.commit_vectors) == 2\n",
        "\n",
        "    return top_alignments, top_scores"
      ],
      "metadata": {
        "id": "zaxAA5kB5Y5F"
      },
      "execution_count": 42,
      "outputs": []
    },
    {
      "cell_type": "markdown",
      "source": [
        "### &#9759; Sequence Generation Functions"
      ],
      "metadata": {
        "id": "9RnfjtYm0iZJ"
      }
    },
    {
      "cell_type": "code",
      "source": [
        "def create_revision_history_dataframe(rev_history: np.ndarray, rev_timeline: Dict) -> pd.DataFrame:\n",
        "\n",
        "    result = []\n",
        "\n",
        "    for record in rev_history:\n",
        "        \n",
        "        timeline = np.datetime64(rev_timeline[record.commit_hash])\n",
        "        \n",
        "        result.append({\n",
        "            'commit_hash': record.commit_hash, \n",
        "            'timeline': timeline,\n",
        "            'rank': record.rank, \n",
        "            'density': record.density, \n",
        "            'effort': record.effort, \n",
        "            'importance': record.importance, \n",
        "            'coverage': record.coverage, \n",
        "            'quality': record.quality})\n",
        "\n",
        "    df_result = pd.DataFrame(result)\n",
        "    return df_result"
      ],
      "metadata": {
        "id": "ekS433uob-aE"
      },
      "execution_count": 43,
      "outputs": []
    },
    {
      "cell_type": "code",
      "source": [
        "def generate_and_fuse(df_activity: pd.DataFrame, \n",
        "                      df_contributions: pd.DataFrame, \n",
        "                      start_time: pd.Timestamp, \n",
        "                      end_time: pd.Timestamp, \n",
        "                      date_offset: pd.DateOffset, \n",
        "                      alpha: float = 0.5) -> pd.DataFrame:\n",
        "    \"\"\"Main method which fuses developer activities and code contribution vectors\n",
        "       present within a given time window.\n",
        "\n",
        "    Args:\n",
        "      df_activity: developer activity dataframe\n",
        "      df_contributions: code contributions dataframe\n",
        "      start_time: starting window of operations\n",
        "      end_time: ending window of operations\n",
        "      date_offset: offset to move the time window\n",
        "      alpha: alpha value, default 0.5\n",
        "\n",
        "    Returns:\n",
        "      The resulting dataframe with containing the fusion results\n",
        "    \"\"\"\n",
        "\n",
        "    range_time = start_time + date_offset\n",
        "\n",
        "    fusion_results_list = []\n",
        "\n",
        "    cnt_time_range = 0\n",
        "    cnt_correct_dev_df = 0\n",
        "    cnt_correct_cc_df = 0\n",
        "\n",
        "    while range_time <= end_time:\n",
        "        # 0. collect all developers (D) with activity records in [start_time, range_time]\n",
        "        df_developer_activity = get_records_in_time_window(\n",
        "            input_df=df_activity, \n",
        "            time_column='sent_time', \n",
        "            start_time=start_time, \n",
        "            end_time=range_time)\n",
        "        \n",
        "        ## 0.1. drop all nan records from the df in step 0.\n",
        "        df_developer_activity = df_developer_activity.dropna()\n",
        "\n",
        "        ## proceed to next step if there is at least one record in the activity df\n",
        "        if df_developer_activity.shape[0] > 0:\n",
        "            ## 0.2. collect all the unique developers, np.ndarray\n",
        "            developers = df_developer_activity.sender_id.unique()\n",
        "            # print(f\"- In [{start_time} - {range_time}] there are:\\t{len(developers)} developers.\")\n",
        "            \n",
        "            cnt_correct_dev_df += 1\n",
        "\n",
        "            # 1. collect all the code contribution records in [START_TIME, END_TIME]\n",
        "            df_code_contributions = get_records_in_time_window(\n",
        "                input_df=df_contributions, \n",
        "                time_column='timeline', \n",
        "                start_time=start_time, \n",
        "                end_time=range_time)\n",
        "            \n",
        "            ## 1.1. drop all nan records from the df in step 1.\n",
        "            df_code_contributions = df_code_contributions.dropna()\n",
        "\n",
        "            ## proceed to next step if there is at least one record in the code contributions df\n",
        "            if df_code_contributions.shape[0] > 0:\n",
        "                # cnt_correct_cc_df += 1\n",
        "\n",
        "                ## 1.2. filter code contribution records to only columns of interest\n",
        "                df_cc_interest = select_columns_from_dataframe(\n",
        "                    input_df=df_code_contributions, \n",
        "                    columns=['commit_hash', 'rank', 'density', 'effort', 'importance', 'coverage', 'quality'])\n",
        "                \n",
        "                ## 1.2.1. create a numpy array of commit hashes within the time period of interest\n",
        "                commit_hashes_array = df_cc_interest.commit_hash.to_numpy()\n",
        "\n",
        "                ## 1.2.2. drop the 'commit_hash' column from df_cc_interest, not needed for fusion\n",
        "                df_cc_interest = df_cc_interest.drop('commit_hash', axis=1)\n",
        "\n",
        "                # 2. create code contribution summary vector (CCSV) for data collected in 1.1\n",
        "                ## 2.1. convert df_cc_interest to numpy ndarray\n",
        "                np_cc_interest = df_cc_interest.to_numpy()\n",
        "\n",
        "                ## 2.2. remove all-zero rows\n",
        "                np_cc_interest = remove_empty_rows(input_array=np_cc_interest)\n",
        "\n",
        "                if len(np_cc_interest) > 0:\n",
        "                    ## 2.3. summary vector (CCSV)\n",
        "                    cc_summary_vector = rev_pred(r_i=np_cc_interest, alpha=ALPHA)\n",
        "\n",
        "                    ## 2.4. proceed if there is no nan value in the summary vector\n",
        "                    if not np.isnan(cc_summary_vector).any():\n",
        "                        cnt_correct_cc_df += 1\n",
        "\n",
        "                        # 3. for each d in D\n",
        "                        for dev in developers:\n",
        "                            ## 3.1. collect all activity records of d in [START_TIME, END_TIME]\n",
        "                            df_dev_activities = get_records(\n",
        "                                input_df=df_developer_activity, \n",
        "                                condition_column='sender_id', \n",
        "                                condition_value=dev)\n",
        "                            \n",
        "                            ## 3.2. filter developer activities to only columns of interest\n",
        "                            df_da_interest = select_columns_from_dataframe(\n",
        "                                input_df=df_dev_activities, \n",
        "                                columns=['activity_label', 'Code Contribution', 'Knowledge Sharing', 'Patch Posting', 'Progress Control', 'Acknowledgement and Response'])\n",
        "                            \n",
        "                            ## 3.2.1. create a numpy array of developer activities within the time period of interest\n",
        "                            dev_activities_array = df_da_interest.activity_label.to_numpy()\n",
        "\n",
        "                            ## 3.2.2. drop the 'activity_label' column from the df_da_interest, not needed for fusion\n",
        "                            df_da_interest = df_da_interest.drop('activity_label', axis=1)\n",
        "                            \n",
        "                            ## 3.3. convert the dataframe in 3.2 into a numpy ndarray\n",
        "                            np_da_interest = df_da_interest.to_numpy()\n",
        "\n",
        "                            ## 3.4. remove all-zero rows\n",
        "                            np_da_interest = remove_empty_rows(input_array=np_da_interest)\n",
        "\n",
        "                            if len(np_da_interest) > 0:\n",
        "                                ## 3.5. create activity summary vector (ASV) for data collected in 3.4.\n",
        "                                ac_summary_vector = rev_pred(r_i=np_da_interest, alpha=ALPHA)\n",
        "\n",
        "                                ## 3.6. proceed if there is no nan value in the summary vector\n",
        "                                if not np.isnan(ac_summary_vector).any():\n",
        "                                    ## 3.7. fusion of (CCSV, ASV)\n",
        "                                    fusion_vector = tensor_fusion(h_x=cc_summary_vector, h_y=ac_summary_vector)\n",
        "\n",
        "                                    ## 3.8. fusion ndarray flattened, \n",
        "                                    ## see: https://numpy.org/doc/stable/reference/generated/numpy.ndarray.flatten.html\n",
        "                                    fusion_flatten = fusion_vector.flatten()\n",
        "\n",
        "                                    ## 3.9. append dictionary to FUSION_RESULTS_LIST\n",
        "                                    fusion_results_list.append(\n",
        "                                        {'sender_id': dev, \n",
        "                                         'start_time': start_time, \n",
        "                                         'end_time': range_time, \n",
        "                                         'hashes_vector': commit_hashes_array.flatten(), \n",
        "                                         'activities_vector': dev_activities_array.flatten(),\n",
        "                                         'fusion_vector': fusion_flatten})\n",
        "\n",
        "        if cnt_time_range % 10 == 0:\n",
        "            print(f\"- Processed {cnt_time_range} time windows!\")\n",
        "\n",
        "        cnt_time_range += 1\n",
        "        start_time = range_time\n",
        "        range_time = start_time + date_offset\n",
        "\n",
        "    \n",
        "    print(f\"- Total time windows: {cnt_time_range}.\\n- Total correct dev windows: {cnt_correct_dev_df}.\\n- Total correct code contribution windows: {cnt_correct_cc_df}\")\n",
        "    df_output_dataset = pd.DataFrame(fusion_results_list)\n",
        "\n",
        "    return df_output_dataset"
      ],
      "metadata": {
        "id": "EFC_hSC809-o"
      },
      "execution_count": 44,
      "outputs": []
    },
    {
      "cell_type": "markdown",
      "source": [
        "### &#9759; Alignment Functions"
      ],
      "metadata": {
        "id": "tImYvBCv35Cm"
      }
    },
    {
      "cell_type": "code",
      "source": [
        "def compute_alignments(input_dict: Dict[int, np.ndarray], target_dev: int, w: Tuple[float, float] = (0.25,0.25), k: int = 1):\n",
        "    \n",
        "    assert target_dev in input_dict\n",
        "    \n",
        "    v_i = input_dict[target_dev]['fusion']\n",
        "    # v_i_activities = input_dict[target_dev]['activities']\n",
        "    v_i_hashes = input_dict[target_dev]['hashes']\n",
        "    # print(len(v_i), v_i.shape)\n",
        "\n",
        "    v_j = np.concatenate(([input_dict[v]['fusion'] for v in input_dict if v != target_dev]))\n",
        "    # v_j_activities = np.concatenate(([input_dict[v]['activities'] for v in input_dict if v != target_dev]))\n",
        "    v_j_hashes = np.concatenate(([input_dict[v]['hashes'] for v in input_dict if v != target_dev]))\n",
        "    # print(len(v_j), v_j.shape)\n",
        "\n",
        "    # print(len(v_j), len(v_j_hashes))\n",
        "\n",
        "    commit_aligner = Aligner(kernel_size=len(v_i))\n",
        "    commit_aligner.align(v_i, v_j, w=w)\n",
        "    top_alignments, top_scores = commit_aligner.compile_top_results(k=k)\n",
        "    # print(top_alignments, top_scores)\n",
        "    \n",
        "    return top_alignments, top_scores, v_i_hashes, v_j_hashes"
      ],
      "metadata": {
        "id": "KPVMGo_i6zYE"
      },
      "execution_count": 174,
      "outputs": []
    },
    {
      "cell_type": "code",
      "source": [
        "def hover_content(input_df: pd.DataFrame) -> List[str]:\n",
        "    res_hover = []\n",
        "    for idx, row in input_df.iterrows():\n",
        "        res_hover.append(f\"norm: {row.norm_value:.3f}<br />effort: {row.effort:.3f}<br />density: {row.density:.3f}<br />importance: {row.importance:.3f}<br />coverage: {row.coverage:.3f}<br />quality: {row.quality:.3f}\")\n",
        "    \n",
        "    return res_hover"
      ],
      "metadata": {
        "id": "Wvwf5gaT4MyY"
      },
      "execution_count": 144,
      "outputs": []
    },
    {
      "cell_type": "code",
      "source": [
        "def plot_alignments(xx, yy, target_x, target_y, target_hover, remainder_x, remainder_y, remainder_hover):\n",
        "    fig = go.Figure()\n",
        "\n",
        "    for i, j in zip(xx, yy):\n",
        "        fig.add_trace(\n",
        "                go.Scatter(\n",
        "                    x = [i[0], j[0]],\n",
        "                    # y = [i[1].astype('float32'), j[1].astype('float32')],\n",
        "                    y = [i[1], j[1]],\n",
        "                    line=dict(color=\"lightgray\"),\n",
        "                    showlegend=False\n",
        "                )\n",
        "            )\n",
        "\n",
        "    fig.add_trace(\n",
        "            go.Scatter(\n",
        "                x = target_x,\n",
        "                y = target_y,\n",
        "                name = 'Selected Developer',\n",
        "                line=dict(color=\"red\"),\n",
        "                hovertext=target_hover,\n",
        "                hoverinfo=\"text\",\n",
        "            )\n",
        "        )\n",
        "\n",
        "    fig.add_trace(\n",
        "            go.Scatter(\n",
        "                x = remainder_x,\n",
        "                y = remainder_y,\n",
        "                name = 'All Developers',\n",
        "                line=dict(color=\"blue\"),\n",
        "                hovertext=remainder_hover,\n",
        "                hoverinfo=\"text\",\n",
        "            )\n",
        "        )\n",
        "\n",
        "    fig.show()    "
      ],
      "metadata": {
        "id": "FYBEzGkgxfY_"
      },
      "execution_count": 169,
      "outputs": []
    },
    {
      "cell_type": "code",
      "source": [
        "def compute_and_visualize_alignments(input_df: pd.DataFrame, target_year: int, period_start: int, period_end: int, target_dev_id: int, top_k: int) -> None:\n",
        "\n",
        "    tmp_df = input_df.loc[(input_df['start_time'].dt.isocalendar().week >= period_start) & (input_df['end_time'].dt.isocalendar().week <= period_end)]\n",
        "\n",
        "    no_devs = tmp_df.sender_id.unique()\n",
        "\n",
        "    print(f\"Year: {target_year}\\nStarting Week: {period_start}\\nEnding Week: {period_end}\\nResulting dataframe records: {tmp_df.shape[0]}\\nNo. of unique devs in this period: {len(no_devs)}\")\n",
        "\n",
        "    print(f\"- Producing developer fusion sequences...\")\n",
        "    dev_fusion_seq_dict = developer_sequences(input_df=tmp_df, start_period=period_start, end_period=period_end)\n",
        "\n",
        "    print(f\"- Computing alignments...\")\n",
        "    ta_0, ts_0, vi0_h, vj0_h = compute_alignments(input_dict=dev_fusion_seq_dict, target_dev=target_dev_id, k=top_k)\n",
        "\n",
        "    print(f\"- Resulting alignments:\")\n",
        "    idx_cnt = 0\n",
        "    for i in ta_0:\n",
        "        print(f\"-- Alignments at index: {i}\\talignment score: {ts_0[idx_cnt]:.3f}\")\n",
        "        for tpl in i:\n",
        "            print(tpl, vi0_h[tpl[0]], vj0_h[tpl[1]])\n",
        "        \n",
        "        idx_cnt += 1\n",
        "\n",
        "    print(f\"- Visualizing results\")\n",
        "    # target\n",
        "    df_dev_0_rev_history = get_revision_history_data(\n",
        "        input_df=df_revision_history, \n",
        "        year=target_year, \n",
        "        start_period=period_start, \n",
        "        end_period=period_end, \n",
        "        hashes=list(set(vi0_h)))\n",
        "\n",
        "    df_dev_0_rev_history['norm_value'] = df_dev_0_rev_history['norm_value'] + 0.35\n",
        "\n",
        "    D0 = df_dev_0_rev_history.copy().reset_index()\n",
        "\n",
        "    D0.drop(['index'], axis=1, inplace=True)\n",
        "\n",
        "    res_d0 = {}\n",
        "    for idx, row in D0.iterrows():\n",
        "        res_d0[row.commit_hash] = {'index': idx, 'norm_value': row.norm_value}    \n",
        "\n",
        "    # remainder of developers\n",
        "    df_dev_A_rev_history = get_revision_history_data(\n",
        "        input_df=df_revision_history, \n",
        "        year=target_year, \n",
        "        start_period=period_start, \n",
        "        end_period=period_end, \n",
        "        hashes=vj0_h)\n",
        "\n",
        "    A = df_dev_A_rev_history.copy().reset_index()\n",
        "\n",
        "    A.drop(['index'], axis=1, inplace=True)\n",
        "\n",
        "    res_A = {}\n",
        "    for idx, row in A.iterrows():\n",
        "        res_A[row.commit_hash] = {'index': idx, 'norm_value': row.norm_value}\n",
        "\n",
        "    # xx and yy\n",
        "    xx = []\n",
        "    yy = []\n",
        "    for i in ta_0:\n",
        "        for tpl in i:\n",
        "            xx.append((res_d0[vi0_h[tpl[0]]]['index'], res_d0[vi0_h[tpl[0]]]['norm_value']))\n",
        "            yy.append((res_A[vj0_h[tpl[1]]]['index'], res_A[vj0_h[tpl[1]]]['norm_value']))\n",
        "\n",
        "    # on hover data\n",
        "    D0_hover = hover_content(input_df=D0)\n",
        "\n",
        "    A_hover = hover_content(input_df=A)\n",
        "\n",
        "    # visualization via plotly\n",
        "    plot_alignments(\n",
        "        xx=xx, \n",
        "        yy=yy, \n",
        "        target_x=D0.index, \n",
        "        target_y=D0.norm_value, \n",
        "        target_hover=D0_hover,\n",
        "        remainder_x=A.index, \n",
        "        remainder_y=A.norm_value, \n",
        "        remainder_hover=A_hover)    "
      ],
      "metadata": {
        "id": "7shV3vpO3RY_"
      },
      "execution_count": 173,
      "outputs": []
    },
    {
      "cell_type": "markdown",
      "source": [
        "## &#9749; Download data"
      ],
      "metadata": {
        "id": "IqkNp1MFg-D3"
      }
    },
    {
      "cell_type": "markdown",
      "source": [
        "### &#9759; Linux Kernel Data"
      ],
      "metadata": {
        "id": "7dlFXf1j3nMC"
      }
    },
    {
      "cell_type": "code",
      "source": [
        "# linux kernel (.zip) data files\n",
        "linux_kernel_data = download_data_from_google_drive(\n",
        "    google_file_id=DATA_DICT['linux-kernel-data'], \n",
        "    output_file_name=\"linux-kernel-data.zip\", \n",
        "    quiet_download=False)"
      ],
      "metadata": {
        "colab": {
          "base_uri": "https://localhost:8080/"
        },
        "id": "az9CjnWRg2cn",
        "outputId": "08bfafc2-d677-4af8-ff47-5525742f63de"
      },
      "execution_count": 46,
      "outputs": [
        {
          "output_type": "stream",
          "name": "stderr",
          "text": [
            "Downloading...\n",
            "From: https://drive.google.com/uc?id=1h1AGfQkOhvgtcCR8tWVzObBSpBTURWM2\n",
            "To: /content/linux-kernel-data.zip\n",
            "100%|██████████| 84.6M/84.6M [00:02<00:00, 37.5MB/s]\n"
          ]
        }
      ]
    },
    {
      "cell_type": "markdown",
      "source": [
        "### &#9759; Developer Activities Data"
      ],
      "metadata": {
        "id": "mmhp8qMh3tZu"
      }
    },
    {
      "cell_type": "code",
      "source": [
        "# activity dataframe\n",
        "activities_data = download_data_from_google_drive(\n",
        "    google_file_id=DATA_DICT['activity_triplets_V1_02182022'], \n",
        "    output_file_name=\"activity_triplets_V1_02182022.csv\", \n",
        "    quiet_download=False)"
      ],
      "metadata": {
        "colab": {
          "base_uri": "https://localhost:8080/"
        },
        "id": "kpWZPC-xH-cm",
        "outputId": "1ecb9581-2aa1-47f8-a49d-42779dea3f88"
      },
      "execution_count": 47,
      "outputs": [
        {
          "output_type": "stream",
          "name": "stderr",
          "text": [
            "Downloading...\n",
            "From: https://drive.google.com/uc?id=1BUd2sAUP04Jf1Qnin0uhMeAXaN3gCyTy\n",
            "To: /content/activity_triplets_V1_02182022.csv\n",
            "100%|██████████| 9.53M/9.53M [00:00<00:00, 38.8MB/s]\n"
          ]
        }
      ]
    },
    {
      "cell_type": "markdown",
      "source": [
        "## &#128722; Load Data"
      ],
      "metadata": {
        "id": "qTrUsXxhhByV"
      }
    },
    {
      "cell_type": "markdown",
      "source": [
        "### &#9759; Linux Kernel Data"
      ],
      "metadata": {
        "id": "f12upRp0IV9v"
      }
    },
    {
      "cell_type": "code",
      "source": [
        "with zipfile.ZipFile(f'./{linux_kernel_data}', 'r') as lk_data:\n",
        "    lk_data.extractall('./linux_kernel')"
      ],
      "metadata": {
        "id": "Lh8D57gThAoK"
      },
      "execution_count": 48,
      "outputs": []
    },
    {
      "cell_type": "code",
      "source": [
        "path_linux_kernel_data = os.path.join(os.getcwd(), 'linux_kernel')\n",
        "path_linux_kernel_data"
      ],
      "metadata": {
        "colab": {
          "base_uri": "https://localhost:8080/",
          "height": 35
        },
        "id": "2JATfFirhGsl",
        "outputId": "b23adf41-3330-47b4-ac7f-a514fc35da83"
      },
      "execution_count": 49,
      "outputs": [
        {
          "output_type": "execute_result",
          "data": {
            "text/plain": [
              "'/content/linux_kernel'"
            ],
            "application/vnd.google.colaboratory.intrinsic+json": {
              "type": "string"
            }
          },
          "metadata": {},
          "execution_count": 49
        }
      ]
    },
    {
      "cell_type": "code",
      "source": [
        "os.listdir(path_linux_kernel_data)"
      ],
      "metadata": {
        "colab": {
          "base_uri": "https://localhost:8080/"
        },
        "id": "eB6rtTFohJi8",
        "outputId": "fb81607d-b7f2-43c8-e56c-30f9cff6e37b"
      },
      "execution_count": 50,
      "outputs": [
        {
          "output_type": "execute_result",
          "data": {
            "text/plain": [
              "['augmented_processed_dev_df_AUG-NOV-2020_1.csv',\n",
              " '20220525_augmented_processed_dev_df_AUG-NOV-2020.csv',\n",
              " 'commit-hash-2-files_1.json',\n",
              " 'authors_1.csv',\n",
              " 'commit-summary-series_1.csv',\n",
              " 'revision-quality_2.csv',\n",
              " 'authors_aliases.csv',\n",
              " 'query_results.csv',\n",
              " 'authors-karma_1.csv',\n",
              " 'results.csv',\n",
              " 'commits-quality_2.csv',\n",
              " 'revision-quality_1.csv',\n",
              " 'code_landmarks_1.csv',\n",
              " 'commit-summary-series.csv',\n",
              " 'results_1.csv',\n",
              " 'P_K_preds.json',\n",
              " 'commits-quality_1.csv',\n",
              " 'authors-karma_3.csv',\n",
              " 'commits-quality.csv',\n",
              " 'authors_2.csv',\n",
              " 'authors_3.csv',\n",
              " '__MACOSX',\n",
              " 'P_K_preds_1.json',\n",
              " 'authors_dedup.csv',\n",
              " 'commit-hash-2-files.json',\n",
              " 'authors.csv',\n",
              " 'authors-karma.csv',\n",
              " 'authors-karma_2.csv',\n",
              " 'revision-quality.csv',\n",
              " 'code_landmarks.csv',\n",
              " 'query_results_1.csv',\n",
              " 'augmented_processed_dev_df_AUG-NOV-2020_v1_20220528.csv']"
            ]
          },
          "metadata": {},
          "execution_count": 50
        }
      ]
    },
    {
      "cell_type": "markdown",
      "source": [
        "#### &#9758; LK Results Data"
      ],
      "metadata": {
        "id": "vtYFAoaMNmLc"
      }
    },
    {
      "cell_type": "code",
      "source": [
        "df_lk_results = pd.read_csv(os.path.join(path_linux_kernel_data, 'results.csv'))"
      ],
      "metadata": {
        "id": "wOLfuP9INp7j"
      },
      "execution_count": 51,
      "outputs": []
    },
    {
      "cell_type": "code",
      "source": [
        "df_lk_results['u_time'] = pd.to_datetime(df_lk_results['u_time'], utc=True)"
      ],
      "metadata": {
        "id": "ZOoCUaFpN459"
      },
      "execution_count": 52,
      "outputs": []
    },
    {
      "cell_type": "code",
      "source": [
        "df_lk_results.info()"
      ],
      "metadata": {
        "colab": {
          "base_uri": "https://localhost:8080/"
        },
        "id": "UCkwIYpYNqCS",
        "outputId": "51233ae6-9184-4fc7-978a-b9a04b602b88"
      },
      "execution_count": 53,
      "outputs": [
        {
          "output_type": "stream",
          "name": "stdout",
          "text": [
            "<class 'pandas.core.frame.DataFrame'>\n",
            "RangeIndex: 27268 entries, 0 to 27267\n",
            "Data columns (total 12 columns):\n",
            " #   Column       Non-Null Count  Dtype              \n",
            "---  ------       --------------  -----              \n",
            " 0   commit_hash  27268 non-null  object             \n",
            " 1   author_name  27268 non-null  object             \n",
            " 2   u_time       27268 non-null  datetime64[ns, UTC]\n",
            " 3   commit_type  27268 non-null  object             \n",
            " 4   commit_size  27268 non-null  object             \n",
            " 5   activity     27268 non-null  object             \n",
            " 6   density      27268 non-null  float64            \n",
            " 7   effort       27268 non-null  float64            \n",
            " 8   importance   27268 non-null  float64            \n",
            " 9   coverage     27268 non-null  float64            \n",
            " 10  additions    27268 non-null  int64              \n",
            " 11  deletions    27268 non-null  int64              \n",
            "dtypes: datetime64[ns, UTC](1), float64(4), int64(2), object(5)\n",
            "memory usage: 2.5+ MB\n"
          ]
        }
      ]
    },
    {
      "cell_type": "code",
      "source": [
        "df_lk_results.describe()"
      ],
      "metadata": {
        "colab": {
          "base_uri": "https://localhost:8080/",
          "height": 300
        },
        "id": "JSPPp7MUNqHg",
        "outputId": "b39151e0-9690-4b55-dc85-29016107d789"
      },
      "execution_count": 54,
      "outputs": [
        {
          "output_type": "execute_result",
          "data": {
            "text/plain": [
              "            density        effort    importance      coverage     additions  \\\n",
              "count  27268.000000  27268.000000  27268.000000  27268.000000  27268.000000   \n",
              "mean       0.282763      0.220208      0.032981      0.072243     16.282309   \n",
              "std        0.367667      0.263625      0.096999      0.129588    321.087928   \n",
              "min        0.000000      0.000000      0.000000      0.000000      0.000000   \n",
              "25%        0.000000      0.000000      0.000000      0.000000      0.000000   \n",
              "50%        0.000000      0.000000      0.000000      0.000000      0.000000   \n",
              "75%        0.500000      0.500061      0.020000      0.100000      4.000000   \n",
              "max        1.000000      1.000000      1.000000      1.000000  47514.000000   \n",
              "\n",
              "          deletions  \n",
              "count  27268.000000  \n",
              "mean       7.187252  \n",
              "std       76.016061  \n",
              "min        0.000000  \n",
              "25%        0.000000  \n",
              "50%        0.000000  \n",
              "75%        2.000000  \n",
              "max     7518.000000  "
            ],
            "text/html": [
              "\n",
              "  <div id=\"df-f7497ac8-8ffd-4a44-a547-e6f849a0f397\">\n",
              "    <div class=\"colab-df-container\">\n",
              "      <div>\n",
              "<style scoped>\n",
              "    .dataframe tbody tr th:only-of-type {\n",
              "        vertical-align: middle;\n",
              "    }\n",
              "\n",
              "    .dataframe tbody tr th {\n",
              "        vertical-align: top;\n",
              "    }\n",
              "\n",
              "    .dataframe thead th {\n",
              "        text-align: right;\n",
              "    }\n",
              "</style>\n",
              "<table border=\"1\" class=\"dataframe\">\n",
              "  <thead>\n",
              "    <tr style=\"text-align: right;\">\n",
              "      <th></th>\n",
              "      <th>density</th>\n",
              "      <th>effort</th>\n",
              "      <th>importance</th>\n",
              "      <th>coverage</th>\n",
              "      <th>additions</th>\n",
              "      <th>deletions</th>\n",
              "    </tr>\n",
              "  </thead>\n",
              "  <tbody>\n",
              "    <tr>\n",
              "      <th>count</th>\n",
              "      <td>27268.000000</td>\n",
              "      <td>27268.000000</td>\n",
              "      <td>27268.000000</td>\n",
              "      <td>27268.000000</td>\n",
              "      <td>27268.000000</td>\n",
              "      <td>27268.000000</td>\n",
              "    </tr>\n",
              "    <tr>\n",
              "      <th>mean</th>\n",
              "      <td>0.282763</td>\n",
              "      <td>0.220208</td>\n",
              "      <td>0.032981</td>\n",
              "      <td>0.072243</td>\n",
              "      <td>16.282309</td>\n",
              "      <td>7.187252</td>\n",
              "    </tr>\n",
              "    <tr>\n",
              "      <th>std</th>\n",
              "      <td>0.367667</td>\n",
              "      <td>0.263625</td>\n",
              "      <td>0.096999</td>\n",
              "      <td>0.129588</td>\n",
              "      <td>321.087928</td>\n",
              "      <td>76.016061</td>\n",
              "    </tr>\n",
              "    <tr>\n",
              "      <th>min</th>\n",
              "      <td>0.000000</td>\n",
              "      <td>0.000000</td>\n",
              "      <td>0.000000</td>\n",
              "      <td>0.000000</td>\n",
              "      <td>0.000000</td>\n",
              "      <td>0.000000</td>\n",
              "    </tr>\n",
              "    <tr>\n",
              "      <th>25%</th>\n",
              "      <td>0.000000</td>\n",
              "      <td>0.000000</td>\n",
              "      <td>0.000000</td>\n",
              "      <td>0.000000</td>\n",
              "      <td>0.000000</td>\n",
              "      <td>0.000000</td>\n",
              "    </tr>\n",
              "    <tr>\n",
              "      <th>50%</th>\n",
              "      <td>0.000000</td>\n",
              "      <td>0.000000</td>\n",
              "      <td>0.000000</td>\n",
              "      <td>0.000000</td>\n",
              "      <td>0.000000</td>\n",
              "      <td>0.000000</td>\n",
              "    </tr>\n",
              "    <tr>\n",
              "      <th>75%</th>\n",
              "      <td>0.500000</td>\n",
              "      <td>0.500061</td>\n",
              "      <td>0.020000</td>\n",
              "      <td>0.100000</td>\n",
              "      <td>4.000000</td>\n",
              "      <td>2.000000</td>\n",
              "    </tr>\n",
              "    <tr>\n",
              "      <th>max</th>\n",
              "      <td>1.000000</td>\n",
              "      <td>1.000000</td>\n",
              "      <td>1.000000</td>\n",
              "      <td>1.000000</td>\n",
              "      <td>47514.000000</td>\n",
              "      <td>7518.000000</td>\n",
              "    </tr>\n",
              "  </tbody>\n",
              "</table>\n",
              "</div>\n",
              "      <button class=\"colab-df-convert\" onclick=\"convertToInteractive('df-f7497ac8-8ffd-4a44-a547-e6f849a0f397')\"\n",
              "              title=\"Convert this dataframe to an interactive table.\"\n",
              "              style=\"display:none;\">\n",
              "        \n",
              "  <svg xmlns=\"http://www.w3.org/2000/svg\" height=\"24px\"viewBox=\"0 0 24 24\"\n",
              "       width=\"24px\">\n",
              "    <path d=\"M0 0h24v24H0V0z\" fill=\"none\"/>\n",
              "    <path d=\"M18.56 5.44l.94 2.06.94-2.06 2.06-.94-2.06-.94-.94-2.06-.94 2.06-2.06.94zm-11 1L8.5 8.5l.94-2.06 2.06-.94-2.06-.94L8.5 2.5l-.94 2.06-2.06.94zm10 10l.94 2.06.94-2.06 2.06-.94-2.06-.94-.94-2.06-.94 2.06-2.06.94z\"/><path d=\"M17.41 7.96l-1.37-1.37c-.4-.4-.92-.59-1.43-.59-.52 0-1.04.2-1.43.59L10.3 9.45l-7.72 7.72c-.78.78-.78 2.05 0 2.83L4 21.41c.39.39.9.59 1.41.59.51 0 1.02-.2 1.41-.59l7.78-7.78 2.81-2.81c.8-.78.8-2.07 0-2.86zM5.41 20L4 18.59l7.72-7.72 1.47 1.35L5.41 20z\"/>\n",
              "  </svg>\n",
              "      </button>\n",
              "      \n",
              "  <style>\n",
              "    .colab-df-container {\n",
              "      display:flex;\n",
              "      flex-wrap:wrap;\n",
              "      gap: 12px;\n",
              "    }\n",
              "\n",
              "    .colab-df-convert {\n",
              "      background-color: #E8F0FE;\n",
              "      border: none;\n",
              "      border-radius: 50%;\n",
              "      cursor: pointer;\n",
              "      display: none;\n",
              "      fill: #1967D2;\n",
              "      height: 32px;\n",
              "      padding: 0 0 0 0;\n",
              "      width: 32px;\n",
              "    }\n",
              "\n",
              "    .colab-df-convert:hover {\n",
              "      background-color: #E2EBFA;\n",
              "      box-shadow: 0px 1px 2px rgba(60, 64, 67, 0.3), 0px 1px 3px 1px rgba(60, 64, 67, 0.15);\n",
              "      fill: #174EA6;\n",
              "    }\n",
              "\n",
              "    [theme=dark] .colab-df-convert {\n",
              "      background-color: #3B4455;\n",
              "      fill: #D2E3FC;\n",
              "    }\n",
              "\n",
              "    [theme=dark] .colab-df-convert:hover {\n",
              "      background-color: #434B5C;\n",
              "      box-shadow: 0px 1px 3px 1px rgba(0, 0, 0, 0.15);\n",
              "      filter: drop-shadow(0px 1px 2px rgba(0, 0, 0, 0.3));\n",
              "      fill: #FFFFFF;\n",
              "    }\n",
              "  </style>\n",
              "\n",
              "      <script>\n",
              "        const buttonEl =\n",
              "          document.querySelector('#df-f7497ac8-8ffd-4a44-a547-e6f849a0f397 button.colab-df-convert');\n",
              "        buttonEl.style.display =\n",
              "          google.colab.kernel.accessAllowed ? 'block' : 'none';\n",
              "\n",
              "        async function convertToInteractive(key) {\n",
              "          const element = document.querySelector('#df-f7497ac8-8ffd-4a44-a547-e6f849a0f397');\n",
              "          const dataTable =\n",
              "            await google.colab.kernel.invokeFunction('convertToInteractive',\n",
              "                                                     [key], {});\n",
              "          if (!dataTable) return;\n",
              "\n",
              "          const docLinkHtml = 'Like what you see? Visit the ' +\n",
              "            '<a target=\"_blank\" href=https://colab.research.google.com/notebooks/data_table.ipynb>data table notebook</a>'\n",
              "            + ' to learn more about interactive tables.';\n",
              "          element.innerHTML = '';\n",
              "          dataTable['output_type'] = 'display_data';\n",
              "          await google.colab.output.renderOutput(dataTable, element);\n",
              "          const docLink = document.createElement('div');\n",
              "          docLink.innerHTML = docLinkHtml;\n",
              "          element.appendChild(docLink);\n",
              "        }\n",
              "      </script>\n",
              "    </div>\n",
              "  </div>\n",
              "  "
            ]
          },
          "metadata": {},
          "execution_count": 54
        }
      ]
    },
    {
      "cell_type": "code",
      "source": [
        "df_lk_results.head()"
      ],
      "metadata": {
        "colab": {
          "base_uri": "https://localhost:8080/",
          "height": 206
        },
        "id": "jgVcOnKzOAvU",
        "outputId": "c098df58-dc6f-4776-dbea-81f349610d51"
      },
      "execution_count": 55,
      "outputs": [
        {
          "output_type": "execute_result",
          "data": {
            "text/plain": [
              "                                commit_hash                 author_name  \\\n",
              "0  11740ef4482914fcd8c9814ef7ceb7085715e554                 Andy Grover   \n",
              "1  d6c8204659eb1846c444997ee28fe9d7e5442f4e                Russell King   \n",
              "2  658829dfe75c49e879e0c4c9cbcd3bd1e4fbdcf5                Geliang Tang   \n",
              "3  22648c989cb8305f51b96b5962df8674697bb2ab  Siva Durga Prasad Paladugu   \n",
              "4  d9e5582c4bb219f3459e39f65410f0e5128fbe91                 Baolin Wang   \n",
              "\n",
              "                     u_time      commit_type commit_size         activity  \\\n",
              "0 2011-01-13 11:40:31+00:00     Mixed commit         Big         Fix code   \n",
              "1 2016-08-31 00:49:53+00:00     Mixed commit       Small         Fix code   \n",
              "2 2017-05-06 08:37:20+00:00  Deletion commit       Small  Delete old code   \n",
              "3 2018-02-08 02:02:45+00:00     Mixed commit       Small         Fix code   \n",
              "4 2018-04-24 05:06:12+00:00     Mixed commit         Big         Fix code   \n",
              "\n",
              "    density    effort  importance  coverage  additions  deletions  \n",
              "0  0.980000  0.500003    0.009091  0.056604         49          1  \n",
              "1  0.666667  0.500000    0.019231  0.018868          2          1  \n",
              "2  0.000000  0.000000    0.166667  0.037736          0          2  \n",
              "3  0.384615  0.500001    0.333333  0.018868          5          8  \n",
              "4  0.550847  0.500019    0.003279  0.169811         65         53  "
            ],
            "text/html": [
              "\n",
              "  <div id=\"df-a49c350c-d7bf-4cdd-9493-dd2329cc910b\">\n",
              "    <div class=\"colab-df-container\">\n",
              "      <div>\n",
              "<style scoped>\n",
              "    .dataframe tbody tr th:only-of-type {\n",
              "        vertical-align: middle;\n",
              "    }\n",
              "\n",
              "    .dataframe tbody tr th {\n",
              "        vertical-align: top;\n",
              "    }\n",
              "\n",
              "    .dataframe thead th {\n",
              "        text-align: right;\n",
              "    }\n",
              "</style>\n",
              "<table border=\"1\" class=\"dataframe\">\n",
              "  <thead>\n",
              "    <tr style=\"text-align: right;\">\n",
              "      <th></th>\n",
              "      <th>commit_hash</th>\n",
              "      <th>author_name</th>\n",
              "      <th>u_time</th>\n",
              "      <th>commit_type</th>\n",
              "      <th>commit_size</th>\n",
              "      <th>activity</th>\n",
              "      <th>density</th>\n",
              "      <th>effort</th>\n",
              "      <th>importance</th>\n",
              "      <th>coverage</th>\n",
              "      <th>additions</th>\n",
              "      <th>deletions</th>\n",
              "    </tr>\n",
              "  </thead>\n",
              "  <tbody>\n",
              "    <tr>\n",
              "      <th>0</th>\n",
              "      <td>11740ef4482914fcd8c9814ef7ceb7085715e554</td>\n",
              "      <td>Andy Grover</td>\n",
              "      <td>2011-01-13 11:40:31+00:00</td>\n",
              "      <td>Mixed commit</td>\n",
              "      <td>Big</td>\n",
              "      <td>Fix code</td>\n",
              "      <td>0.980000</td>\n",
              "      <td>0.500003</td>\n",
              "      <td>0.009091</td>\n",
              "      <td>0.056604</td>\n",
              "      <td>49</td>\n",
              "      <td>1</td>\n",
              "    </tr>\n",
              "    <tr>\n",
              "      <th>1</th>\n",
              "      <td>d6c8204659eb1846c444997ee28fe9d7e5442f4e</td>\n",
              "      <td>Russell King</td>\n",
              "      <td>2016-08-31 00:49:53+00:00</td>\n",
              "      <td>Mixed commit</td>\n",
              "      <td>Small</td>\n",
              "      <td>Fix code</td>\n",
              "      <td>0.666667</td>\n",
              "      <td>0.500000</td>\n",
              "      <td>0.019231</td>\n",
              "      <td>0.018868</td>\n",
              "      <td>2</td>\n",
              "      <td>1</td>\n",
              "    </tr>\n",
              "    <tr>\n",
              "      <th>2</th>\n",
              "      <td>658829dfe75c49e879e0c4c9cbcd3bd1e4fbdcf5</td>\n",
              "      <td>Geliang Tang</td>\n",
              "      <td>2017-05-06 08:37:20+00:00</td>\n",
              "      <td>Deletion commit</td>\n",
              "      <td>Small</td>\n",
              "      <td>Delete old code</td>\n",
              "      <td>0.000000</td>\n",
              "      <td>0.000000</td>\n",
              "      <td>0.166667</td>\n",
              "      <td>0.037736</td>\n",
              "      <td>0</td>\n",
              "      <td>2</td>\n",
              "    </tr>\n",
              "    <tr>\n",
              "      <th>3</th>\n",
              "      <td>22648c989cb8305f51b96b5962df8674697bb2ab</td>\n",
              "      <td>Siva Durga Prasad Paladugu</td>\n",
              "      <td>2018-02-08 02:02:45+00:00</td>\n",
              "      <td>Mixed commit</td>\n",
              "      <td>Small</td>\n",
              "      <td>Fix code</td>\n",
              "      <td>0.384615</td>\n",
              "      <td>0.500001</td>\n",
              "      <td>0.333333</td>\n",
              "      <td>0.018868</td>\n",
              "      <td>5</td>\n",
              "      <td>8</td>\n",
              "    </tr>\n",
              "    <tr>\n",
              "      <th>4</th>\n",
              "      <td>d9e5582c4bb219f3459e39f65410f0e5128fbe91</td>\n",
              "      <td>Baolin Wang</td>\n",
              "      <td>2018-04-24 05:06:12+00:00</td>\n",
              "      <td>Mixed commit</td>\n",
              "      <td>Big</td>\n",
              "      <td>Fix code</td>\n",
              "      <td>0.550847</td>\n",
              "      <td>0.500019</td>\n",
              "      <td>0.003279</td>\n",
              "      <td>0.169811</td>\n",
              "      <td>65</td>\n",
              "      <td>53</td>\n",
              "    </tr>\n",
              "  </tbody>\n",
              "</table>\n",
              "</div>\n",
              "      <button class=\"colab-df-convert\" onclick=\"convertToInteractive('df-a49c350c-d7bf-4cdd-9493-dd2329cc910b')\"\n",
              "              title=\"Convert this dataframe to an interactive table.\"\n",
              "              style=\"display:none;\">\n",
              "        \n",
              "  <svg xmlns=\"http://www.w3.org/2000/svg\" height=\"24px\"viewBox=\"0 0 24 24\"\n",
              "       width=\"24px\">\n",
              "    <path d=\"M0 0h24v24H0V0z\" fill=\"none\"/>\n",
              "    <path d=\"M18.56 5.44l.94 2.06.94-2.06 2.06-.94-2.06-.94-.94-2.06-.94 2.06-2.06.94zm-11 1L8.5 8.5l.94-2.06 2.06-.94-2.06-.94L8.5 2.5l-.94 2.06-2.06.94zm10 10l.94 2.06.94-2.06 2.06-.94-2.06-.94-.94-2.06-.94 2.06-2.06.94z\"/><path d=\"M17.41 7.96l-1.37-1.37c-.4-.4-.92-.59-1.43-.59-.52 0-1.04.2-1.43.59L10.3 9.45l-7.72 7.72c-.78.78-.78 2.05 0 2.83L4 21.41c.39.39.9.59 1.41.59.51 0 1.02-.2 1.41-.59l7.78-7.78 2.81-2.81c.8-.78.8-2.07 0-2.86zM5.41 20L4 18.59l7.72-7.72 1.47 1.35L5.41 20z\"/>\n",
              "  </svg>\n",
              "      </button>\n",
              "      \n",
              "  <style>\n",
              "    .colab-df-container {\n",
              "      display:flex;\n",
              "      flex-wrap:wrap;\n",
              "      gap: 12px;\n",
              "    }\n",
              "\n",
              "    .colab-df-convert {\n",
              "      background-color: #E8F0FE;\n",
              "      border: none;\n",
              "      border-radius: 50%;\n",
              "      cursor: pointer;\n",
              "      display: none;\n",
              "      fill: #1967D2;\n",
              "      height: 32px;\n",
              "      padding: 0 0 0 0;\n",
              "      width: 32px;\n",
              "    }\n",
              "\n",
              "    .colab-df-convert:hover {\n",
              "      background-color: #E2EBFA;\n",
              "      box-shadow: 0px 1px 2px rgba(60, 64, 67, 0.3), 0px 1px 3px 1px rgba(60, 64, 67, 0.15);\n",
              "      fill: #174EA6;\n",
              "    }\n",
              "\n",
              "    [theme=dark] .colab-df-convert {\n",
              "      background-color: #3B4455;\n",
              "      fill: #D2E3FC;\n",
              "    }\n",
              "\n",
              "    [theme=dark] .colab-df-convert:hover {\n",
              "      background-color: #434B5C;\n",
              "      box-shadow: 0px 1px 3px 1px rgba(0, 0, 0, 0.15);\n",
              "      filter: drop-shadow(0px 1px 2px rgba(0, 0, 0, 0.3));\n",
              "      fill: #FFFFFF;\n",
              "    }\n",
              "  </style>\n",
              "\n",
              "      <script>\n",
              "        const buttonEl =\n",
              "          document.querySelector('#df-a49c350c-d7bf-4cdd-9493-dd2329cc910b button.colab-df-convert');\n",
              "        buttonEl.style.display =\n",
              "          google.colab.kernel.accessAllowed ? 'block' : 'none';\n",
              "\n",
              "        async function convertToInteractive(key) {\n",
              "          const element = document.querySelector('#df-a49c350c-d7bf-4cdd-9493-dd2329cc910b');\n",
              "          const dataTable =\n",
              "            await google.colab.kernel.invokeFunction('convertToInteractive',\n",
              "                                                     [key], {});\n",
              "          if (!dataTable) return;\n",
              "\n",
              "          const docLinkHtml = 'Like what you see? Visit the ' +\n",
              "            '<a target=\"_blank\" href=https://colab.research.google.com/notebooks/data_table.ipynb>data table notebook</a>'\n",
              "            + ' to learn more about interactive tables.';\n",
              "          element.innerHTML = '';\n",
              "          dataTable['output_type'] = 'display_data';\n",
              "          await google.colab.output.renderOutput(dataTable, element);\n",
              "          const docLink = document.createElement('div');\n",
              "          docLink.innerHTML = docLinkHtml;\n",
              "          element.appendChild(docLink);\n",
              "        }\n",
              "      </script>\n",
              "    </div>\n",
              "  </div>\n",
              "  "
            ]
          },
          "metadata": {},
          "execution_count": 55
        }
      ]
    },
    {
      "cell_type": "code",
      "source": [
        "df_lk_results.commit_type.value_counts()"
      ],
      "metadata": {
        "colab": {
          "base_uri": "https://localhost:8080/"
        },
        "id": "6eJpuIqq49gZ",
        "outputId": "93d9f23a-7454-48bd-e798-09439e789b0c"
      },
      "execution_count": 56,
      "outputs": [
        {
          "output_type": "execute_result",
          "data": {
            "text/plain": [
              "Mixed commit       8953\n",
              "Empty commit       8275\n",
              "commitless         6669\n",
              "Addition commit    2596\n",
              "Deletion commit     769\n",
              "Single commit         5\n",
              "Initial commit        1\n",
              "Name: commit_type, dtype: int64"
            ]
          },
          "metadata": {},
          "execution_count": 56
        }
      ]
    },
    {
      "cell_type": "markdown",
      "source": [
        "#### &#9758; Revision History Data"
      ],
      "metadata": {
        "id": "X9RfOpGv4djp"
      }
    },
    {
      "cell_type": "code",
      "source": [
        "path_lk = pathlib.Path(path_linux_kernel_data)"
      ],
      "metadata": {
        "id": "kfgwnhYwYjuL"
      },
      "execution_count": 57,
      "outputs": []
    },
    {
      "cell_type": "code",
      "source": [
        "revision_history, revision_timeline = get_revision_history(outdir=path_lk)"
      ],
      "metadata": {
        "id": "E_0gzXTCYJXD"
      },
      "execution_count": 58,
      "outputs": []
    },
    {
      "cell_type": "code",
      "source": [
        "df_revision_history = create_revision_history_dataframe(rev_history=revision_history, rev_timeline=revision_timeline)"
      ],
      "metadata": {
        "id": "cR9FXxdUdn5x"
      },
      "execution_count": 59,
      "outputs": []
    },
    {
      "cell_type": "code",
      "source": [
        "df_revision_history['timeline'] = pd.to_datetime(df_revision_history['timeline'], utc=True)"
      ],
      "metadata": {
        "id": "LCGbHv5ld3km"
      },
      "execution_count": 60,
      "outputs": []
    },
    {
      "cell_type": "code",
      "source": [
        "df_revision_history.info()"
      ],
      "metadata": {
        "colab": {
          "base_uri": "https://localhost:8080/"
        },
        "id": "GM6DUIQldv_W",
        "outputId": "b9ae3c7b-7690-44a3-ce91-530a5d9d529f"
      },
      "execution_count": 61,
      "outputs": [
        {
          "output_type": "stream",
          "name": "stdout",
          "text": [
            "<class 'pandas.core.frame.DataFrame'>\n",
            "RangeIndex: 12324 entries, 0 to 12323\n",
            "Data columns (total 8 columns):\n",
            " #   Column       Non-Null Count  Dtype              \n",
            "---  ------       --------------  -----              \n",
            " 0   commit_hash  12324 non-null  object             \n",
            " 1   timeline     12324 non-null  datetime64[ns, UTC]\n",
            " 2   rank         12324 non-null  float64            \n",
            " 3   density      12324 non-null  float64            \n",
            " 4   effort       12324 non-null  float64            \n",
            " 5   importance   12324 non-null  float64            \n",
            " 6   coverage     12324 non-null  float64            \n",
            " 7   quality      12324 non-null  float128           \n",
            "dtypes: datetime64[ns, UTC](1), float128(1), float64(5), object(1)\n",
            "memory usage: 866.7+ KB\n"
          ]
        }
      ]
    },
    {
      "cell_type": "code",
      "source": [
        "df_revision_history.head()"
      ],
      "metadata": {
        "colab": {
          "base_uri": "https://localhost:8080/",
          "height": 206
        },
        "id": "pjRG09Amd-CN",
        "outputId": "b2dacb31-b801-45c4-fa7c-0d62249dd2b1"
      },
      "execution_count": 62,
      "outputs": [
        {
          "output_type": "execute_result",
          "data": {
            "text/plain": [
              "                                commit_hash                  timeline   rank  \\\n",
              "0  11740ef4482914fcd8c9814ef7ceb7085715e554 2011-01-13 11:40:31+00:00 -0.001   \n",
              "1  d6c8204659eb1846c444997ee28fe9d7e5442f4e 2016-08-31 00:49:53+00:00 -0.001   \n",
              "2  658829dfe75c49e879e0c4c9cbcd3bd1e4fbdcf5 2017-05-06 08:37:20+00:00 -0.002   \n",
              "3  22648c989cb8305f51b96b5962df8674697bb2ab 2018-02-08 02:02:45+00:00 -0.001   \n",
              "4  d9e5582c4bb219f3459e39f65410f0e5128fbe91 2018-04-24 05:06:12+00:00 -0.001   \n",
              "\n",
              "    density    effort  importance  coverage   quality  \n",
              "0  0.980000  0.500003    0.009091  0.952574  0.731059  \n",
              "1  0.666667  0.500000    0.019231  0.731059  0.731059  \n",
              "2  0.000000  0.000000    0.166667  0.880797  0.731059  \n",
              "3  0.384615  0.500001    0.333333  0.731059  0.731059  \n",
              "4  0.550847  0.500019    0.003279  0.999877  0.731059  "
            ],
            "text/html": [
              "\n",
              "  <div id=\"df-4dd88230-f9e7-4470-9783-189e72495560\">\n",
              "    <div class=\"colab-df-container\">\n",
              "      <div>\n",
              "<style scoped>\n",
              "    .dataframe tbody tr th:only-of-type {\n",
              "        vertical-align: middle;\n",
              "    }\n",
              "\n",
              "    .dataframe tbody tr th {\n",
              "        vertical-align: top;\n",
              "    }\n",
              "\n",
              "    .dataframe thead th {\n",
              "        text-align: right;\n",
              "    }\n",
              "</style>\n",
              "<table border=\"1\" class=\"dataframe\">\n",
              "  <thead>\n",
              "    <tr style=\"text-align: right;\">\n",
              "      <th></th>\n",
              "      <th>commit_hash</th>\n",
              "      <th>timeline</th>\n",
              "      <th>rank</th>\n",
              "      <th>density</th>\n",
              "      <th>effort</th>\n",
              "      <th>importance</th>\n",
              "      <th>coverage</th>\n",
              "      <th>quality</th>\n",
              "    </tr>\n",
              "  </thead>\n",
              "  <tbody>\n",
              "    <tr>\n",
              "      <th>0</th>\n",
              "      <td>11740ef4482914fcd8c9814ef7ceb7085715e554</td>\n",
              "      <td>2011-01-13 11:40:31+00:00</td>\n",
              "      <td>-0.001</td>\n",
              "      <td>0.980000</td>\n",
              "      <td>0.500003</td>\n",
              "      <td>0.009091</td>\n",
              "      <td>0.952574</td>\n",
              "      <td>0.731059</td>\n",
              "    </tr>\n",
              "    <tr>\n",
              "      <th>1</th>\n",
              "      <td>d6c8204659eb1846c444997ee28fe9d7e5442f4e</td>\n",
              "      <td>2016-08-31 00:49:53+00:00</td>\n",
              "      <td>-0.001</td>\n",
              "      <td>0.666667</td>\n",
              "      <td>0.500000</td>\n",
              "      <td>0.019231</td>\n",
              "      <td>0.731059</td>\n",
              "      <td>0.731059</td>\n",
              "    </tr>\n",
              "    <tr>\n",
              "      <th>2</th>\n",
              "      <td>658829dfe75c49e879e0c4c9cbcd3bd1e4fbdcf5</td>\n",
              "      <td>2017-05-06 08:37:20+00:00</td>\n",
              "      <td>-0.002</td>\n",
              "      <td>0.000000</td>\n",
              "      <td>0.000000</td>\n",
              "      <td>0.166667</td>\n",
              "      <td>0.880797</td>\n",
              "      <td>0.731059</td>\n",
              "    </tr>\n",
              "    <tr>\n",
              "      <th>3</th>\n",
              "      <td>22648c989cb8305f51b96b5962df8674697bb2ab</td>\n",
              "      <td>2018-02-08 02:02:45+00:00</td>\n",
              "      <td>-0.001</td>\n",
              "      <td>0.384615</td>\n",
              "      <td>0.500001</td>\n",
              "      <td>0.333333</td>\n",
              "      <td>0.731059</td>\n",
              "      <td>0.731059</td>\n",
              "    </tr>\n",
              "    <tr>\n",
              "      <th>4</th>\n",
              "      <td>d9e5582c4bb219f3459e39f65410f0e5128fbe91</td>\n",
              "      <td>2018-04-24 05:06:12+00:00</td>\n",
              "      <td>-0.001</td>\n",
              "      <td>0.550847</td>\n",
              "      <td>0.500019</td>\n",
              "      <td>0.003279</td>\n",
              "      <td>0.999877</td>\n",
              "      <td>0.731059</td>\n",
              "    </tr>\n",
              "  </tbody>\n",
              "</table>\n",
              "</div>\n",
              "      <button class=\"colab-df-convert\" onclick=\"convertToInteractive('df-4dd88230-f9e7-4470-9783-189e72495560')\"\n",
              "              title=\"Convert this dataframe to an interactive table.\"\n",
              "              style=\"display:none;\">\n",
              "        \n",
              "  <svg xmlns=\"http://www.w3.org/2000/svg\" height=\"24px\"viewBox=\"0 0 24 24\"\n",
              "       width=\"24px\">\n",
              "    <path d=\"M0 0h24v24H0V0z\" fill=\"none\"/>\n",
              "    <path d=\"M18.56 5.44l.94 2.06.94-2.06 2.06-.94-2.06-.94-.94-2.06-.94 2.06-2.06.94zm-11 1L8.5 8.5l.94-2.06 2.06-.94-2.06-.94L8.5 2.5l-.94 2.06-2.06.94zm10 10l.94 2.06.94-2.06 2.06-.94-2.06-.94-.94-2.06-.94 2.06-2.06.94z\"/><path d=\"M17.41 7.96l-1.37-1.37c-.4-.4-.92-.59-1.43-.59-.52 0-1.04.2-1.43.59L10.3 9.45l-7.72 7.72c-.78.78-.78 2.05 0 2.83L4 21.41c.39.39.9.59 1.41.59.51 0 1.02-.2 1.41-.59l7.78-7.78 2.81-2.81c.8-.78.8-2.07 0-2.86zM5.41 20L4 18.59l7.72-7.72 1.47 1.35L5.41 20z\"/>\n",
              "  </svg>\n",
              "      </button>\n",
              "      \n",
              "  <style>\n",
              "    .colab-df-container {\n",
              "      display:flex;\n",
              "      flex-wrap:wrap;\n",
              "      gap: 12px;\n",
              "    }\n",
              "\n",
              "    .colab-df-convert {\n",
              "      background-color: #E8F0FE;\n",
              "      border: none;\n",
              "      border-radius: 50%;\n",
              "      cursor: pointer;\n",
              "      display: none;\n",
              "      fill: #1967D2;\n",
              "      height: 32px;\n",
              "      padding: 0 0 0 0;\n",
              "      width: 32px;\n",
              "    }\n",
              "\n",
              "    .colab-df-convert:hover {\n",
              "      background-color: #E2EBFA;\n",
              "      box-shadow: 0px 1px 2px rgba(60, 64, 67, 0.3), 0px 1px 3px 1px rgba(60, 64, 67, 0.15);\n",
              "      fill: #174EA6;\n",
              "    }\n",
              "\n",
              "    [theme=dark] .colab-df-convert {\n",
              "      background-color: #3B4455;\n",
              "      fill: #D2E3FC;\n",
              "    }\n",
              "\n",
              "    [theme=dark] .colab-df-convert:hover {\n",
              "      background-color: #434B5C;\n",
              "      box-shadow: 0px 1px 3px 1px rgba(0, 0, 0, 0.15);\n",
              "      filter: drop-shadow(0px 1px 2px rgba(0, 0, 0, 0.3));\n",
              "      fill: #FFFFFF;\n",
              "    }\n",
              "  </style>\n",
              "\n",
              "      <script>\n",
              "        const buttonEl =\n",
              "          document.querySelector('#df-4dd88230-f9e7-4470-9783-189e72495560 button.colab-df-convert');\n",
              "        buttonEl.style.display =\n",
              "          google.colab.kernel.accessAllowed ? 'block' : 'none';\n",
              "\n",
              "        async function convertToInteractive(key) {\n",
              "          const element = document.querySelector('#df-4dd88230-f9e7-4470-9783-189e72495560');\n",
              "          const dataTable =\n",
              "            await google.colab.kernel.invokeFunction('convertToInteractive',\n",
              "                                                     [key], {});\n",
              "          if (!dataTable) return;\n",
              "\n",
              "          const docLinkHtml = 'Like what you see? Visit the ' +\n",
              "            '<a target=\"_blank\" href=https://colab.research.google.com/notebooks/data_table.ipynb>data table notebook</a>'\n",
              "            + ' to learn more about interactive tables.';\n",
              "          element.innerHTML = '';\n",
              "          dataTable['output_type'] = 'display_data';\n",
              "          await google.colab.output.renderOutput(dataTable, element);\n",
              "          const docLink = document.createElement('div');\n",
              "          docLink.innerHTML = docLinkHtml;\n",
              "          element.appendChild(docLink);\n",
              "        }\n",
              "      </script>\n",
              "    </div>\n",
              "  </div>\n",
              "  "
            ]
          },
          "metadata": {},
          "execution_count": 62
        }
      ]
    },
    {
      "cell_type": "markdown",
      "source": [
        "### &#9759; Activities Data"
      ],
      "metadata": {
        "id": "HLfcjtq2IomM"
      }
    },
    {
      "cell_type": "code",
      "source": [
        "df_activities = pd.read_csv(activities_data, sep='\\t')"
      ],
      "metadata": {
        "id": "tgxgkfUuIrMY"
      },
      "execution_count": 64,
      "outputs": []
    },
    {
      "cell_type": "code",
      "source": [
        "# convert 'sent_time' to pandas datetime64 time format\n",
        "df_activities['sent_time'] = pd.to_datetime(df_activities['sent_time'], utc=True)\n",
        "\n",
        "# sort the content of the DataFrame by 'sent_time'\n",
        "df_activities = df_activities.sort_values(by=['sent_time'])"
      ],
      "metadata": {
        "id": "vN60qXLXMxf9"
      },
      "execution_count": 65,
      "outputs": []
    },
    {
      "cell_type": "code",
      "source": [
        "df_activities.info()"
      ],
      "metadata": {
        "colab": {
          "base_uri": "https://localhost:8080/"
        },
        "id": "v1ecElabMxp7",
        "outputId": "c0a0dcb3-9fc6-4e27-e66b-b7ec47e1a698"
      },
      "execution_count": 66,
      "outputs": [
        {
          "output_type": "stream",
          "name": "stdout",
          "text": [
            "<class 'pandas.core.frame.DataFrame'>\n",
            "Int64Index: 27411 entries, 24091 to 3614\n",
            "Data columns (total 23 columns):\n",
            " #   Column                        Non-Null Count  Dtype              \n",
            "---  ------                        --------------  -----              \n",
            " 0   Unnamed: 0                    27411 non-null  int64              \n",
            " 1   Unnamed: 0.1                  27411 non-null  int64              \n",
            " 2   Unnamed: 0.1.1                27411 non-null  int64              \n",
            " 3   sender_id                     27411 non-null  int64              \n",
            " 4   sent_time                     27411 non-null  datetime64[ns, UTC]\n",
            " 5   Code Contribution             27411 non-null  float64            \n",
            " 6   Knowledge Sharing             27411 non-null  float64            \n",
            " 7   Patch Posting                 27411 non-null  float64            \n",
            " 8   Progress Control              27411 non-null  float64            \n",
            " 9   Acknowledgement and Response  27411 non-null  float64            \n",
            " 10  Composite Index               27411 non-null  float64            \n",
            " 11  Rank                          27411 non-null  float64            \n",
            " 12  Status                        27411 non-null  object             \n",
            " 13  comb_2                        27411 non-null  int64              \n",
            " 14  comb_3                        27411 non-null  int64              \n",
            " 15  is_triage                     27411 non-null  int64              \n",
            " 16  is_bug_fix                    27411 non-null  int64              \n",
            " 17  is_controversial              27411 non-null  int64              \n",
            " 18  activity_label                27411 non-null  object             \n",
            " 19  project_thread                27411 non-null  object             \n",
            " 20  sendername_thread             27411 non-null  object             \n",
            " 21  triplet_one                   27411 non-null  object             \n",
            " 22  triplet_two                   27411 non-null  object             \n",
            "dtypes: datetime64[ns, UTC](1), float64(7), int64(9), object(6)\n",
            "memory usage: 5.0+ MB\n"
          ]
        }
      ]
    },
    {
      "cell_type": "code",
      "source": [
        "df_activities.describe()"
      ],
      "metadata": {
        "colab": {
          "base_uri": "https://localhost:8080/",
          "height": 362
        },
        "id": "rThODwhFM-eX",
        "outputId": "34ec3e27-f0ae-499f-8027-4f34df9f0347"
      },
      "execution_count": 67,
      "outputs": [
        {
          "output_type": "execute_result",
          "data": {
            "text/plain": [
              "         Unnamed: 0  Unnamed: 0.1  Unnamed: 0.1.1     sender_id  \\\n",
              "count  27411.000000  27411.000000    27411.000000  27411.000000   \n",
              "mean   13705.000000  13705.000000    13705.000000    466.761410   \n",
              "std     7913.018451   7913.018451     7913.018451    535.754602   \n",
              "min        0.000000      0.000000        0.000000      0.000000   \n",
              "25%     6852.500000   6852.500000     6852.500000     39.000000   \n",
              "50%    13705.000000  13705.000000    13705.000000    254.000000   \n",
              "75%    20557.500000  20557.500000    20557.500000    737.000000   \n",
              "max    27410.000000  27410.000000    27410.000000   2223.000000   \n",
              "\n",
              "       Code Contribution  Knowledge Sharing  Patch Posting  Progress Control  \\\n",
              "count       27411.000000       27411.000000   27411.000000      27411.000000   \n",
              "mean            0.249106           0.002233       0.106345          0.032836   \n",
              "std             0.069497           0.006065       0.054297          0.021204   \n",
              "min             0.000000           0.000000       0.000000          0.000000   \n",
              "25%             0.260254           0.000728       0.062329          0.024287   \n",
              "50%             0.269938           0.001165       0.126230          0.029335   \n",
              "75%             0.278295           0.002111       0.153634          0.034573   \n",
              "max             0.317105           0.263279       0.176351          0.158647   \n",
              "\n",
              "       Acknowledgement and Response  Composite Index          Rank  \\\n",
              "count                  27411.000000     27411.000000  27411.000000   \n",
              "mean                       0.031109         0.421628  13706.000000   \n",
              "std                        0.015424         0.095375   7913.018451   \n",
              "min                        0.000000         0.042519      1.000000   \n",
              "25%                        0.022645         0.375485   6853.500000   \n",
              "50%                        0.025764         0.449596  13706.000000   \n",
              "75%                        0.029421         0.486896  20558.500000   \n",
              "max                        0.084617         0.695572  27411.000000   \n",
              "\n",
              "             comb_2        comb_3     is_triage    is_bug_fix  \\\n",
              "count  27411.000000  27411.000000  27411.000000  27411.000000   \n",
              "mean       1.308270      3.640911      0.492430      0.375835   \n",
              "std        0.981164      0.856430      0.499952      0.484346   \n",
              "min        0.000000      0.000000      0.000000      0.000000   \n",
              "25%        1.000000      3.000000      0.000000      0.000000   \n",
              "50%        1.000000      4.000000      0.000000      0.000000   \n",
              "75%        1.000000      4.000000      1.000000      1.000000   \n",
              "max        9.000000      9.000000      1.000000      1.000000   \n",
              "\n",
              "       is_controversial  \n",
              "count      27411.000000  \n",
              "mean           0.119332  \n",
              "std            0.324184  \n",
              "min            0.000000  \n",
              "25%            0.000000  \n",
              "50%            0.000000  \n",
              "75%            0.000000  \n",
              "max            1.000000  "
            ],
            "text/html": [
              "\n",
              "  <div id=\"df-0b791f20-5480-4fe1-955b-f04969a05d95\">\n",
              "    <div class=\"colab-df-container\">\n",
              "      <div>\n",
              "<style scoped>\n",
              "    .dataframe tbody tr th:only-of-type {\n",
              "        vertical-align: middle;\n",
              "    }\n",
              "\n",
              "    .dataframe tbody tr th {\n",
              "        vertical-align: top;\n",
              "    }\n",
              "\n",
              "    .dataframe thead th {\n",
              "        text-align: right;\n",
              "    }\n",
              "</style>\n",
              "<table border=\"1\" class=\"dataframe\">\n",
              "  <thead>\n",
              "    <tr style=\"text-align: right;\">\n",
              "      <th></th>\n",
              "      <th>Unnamed: 0</th>\n",
              "      <th>Unnamed: 0.1</th>\n",
              "      <th>Unnamed: 0.1.1</th>\n",
              "      <th>sender_id</th>\n",
              "      <th>Code Contribution</th>\n",
              "      <th>Knowledge Sharing</th>\n",
              "      <th>Patch Posting</th>\n",
              "      <th>Progress Control</th>\n",
              "      <th>Acknowledgement and Response</th>\n",
              "      <th>Composite Index</th>\n",
              "      <th>Rank</th>\n",
              "      <th>comb_2</th>\n",
              "      <th>comb_3</th>\n",
              "      <th>is_triage</th>\n",
              "      <th>is_bug_fix</th>\n",
              "      <th>is_controversial</th>\n",
              "    </tr>\n",
              "  </thead>\n",
              "  <tbody>\n",
              "    <tr>\n",
              "      <th>count</th>\n",
              "      <td>27411.000000</td>\n",
              "      <td>27411.000000</td>\n",
              "      <td>27411.000000</td>\n",
              "      <td>27411.000000</td>\n",
              "      <td>27411.000000</td>\n",
              "      <td>27411.000000</td>\n",
              "      <td>27411.000000</td>\n",
              "      <td>27411.000000</td>\n",
              "      <td>27411.000000</td>\n",
              "      <td>27411.000000</td>\n",
              "      <td>27411.000000</td>\n",
              "      <td>27411.000000</td>\n",
              "      <td>27411.000000</td>\n",
              "      <td>27411.000000</td>\n",
              "      <td>27411.000000</td>\n",
              "      <td>27411.000000</td>\n",
              "    </tr>\n",
              "    <tr>\n",
              "      <th>mean</th>\n",
              "      <td>13705.000000</td>\n",
              "      <td>13705.000000</td>\n",
              "      <td>13705.000000</td>\n",
              "      <td>466.761410</td>\n",
              "      <td>0.249106</td>\n",
              "      <td>0.002233</td>\n",
              "      <td>0.106345</td>\n",
              "      <td>0.032836</td>\n",
              "      <td>0.031109</td>\n",
              "      <td>0.421628</td>\n",
              "      <td>13706.000000</td>\n",
              "      <td>1.308270</td>\n",
              "      <td>3.640911</td>\n",
              "      <td>0.492430</td>\n",
              "      <td>0.375835</td>\n",
              "      <td>0.119332</td>\n",
              "    </tr>\n",
              "    <tr>\n",
              "      <th>std</th>\n",
              "      <td>7913.018451</td>\n",
              "      <td>7913.018451</td>\n",
              "      <td>7913.018451</td>\n",
              "      <td>535.754602</td>\n",
              "      <td>0.069497</td>\n",
              "      <td>0.006065</td>\n",
              "      <td>0.054297</td>\n",
              "      <td>0.021204</td>\n",
              "      <td>0.015424</td>\n",
              "      <td>0.095375</td>\n",
              "      <td>7913.018451</td>\n",
              "      <td>0.981164</td>\n",
              "      <td>0.856430</td>\n",
              "      <td>0.499952</td>\n",
              "      <td>0.484346</td>\n",
              "      <td>0.324184</td>\n",
              "    </tr>\n",
              "    <tr>\n",
              "      <th>min</th>\n",
              "      <td>0.000000</td>\n",
              "      <td>0.000000</td>\n",
              "      <td>0.000000</td>\n",
              "      <td>0.000000</td>\n",
              "      <td>0.000000</td>\n",
              "      <td>0.000000</td>\n",
              "      <td>0.000000</td>\n",
              "      <td>0.000000</td>\n",
              "      <td>0.000000</td>\n",
              "      <td>0.042519</td>\n",
              "      <td>1.000000</td>\n",
              "      <td>0.000000</td>\n",
              "      <td>0.000000</td>\n",
              "      <td>0.000000</td>\n",
              "      <td>0.000000</td>\n",
              "      <td>0.000000</td>\n",
              "    </tr>\n",
              "    <tr>\n",
              "      <th>25%</th>\n",
              "      <td>6852.500000</td>\n",
              "      <td>6852.500000</td>\n",
              "      <td>6852.500000</td>\n",
              "      <td>39.000000</td>\n",
              "      <td>0.260254</td>\n",
              "      <td>0.000728</td>\n",
              "      <td>0.062329</td>\n",
              "      <td>0.024287</td>\n",
              "      <td>0.022645</td>\n",
              "      <td>0.375485</td>\n",
              "      <td>6853.500000</td>\n",
              "      <td>1.000000</td>\n",
              "      <td>3.000000</td>\n",
              "      <td>0.000000</td>\n",
              "      <td>0.000000</td>\n",
              "      <td>0.000000</td>\n",
              "    </tr>\n",
              "    <tr>\n",
              "      <th>50%</th>\n",
              "      <td>13705.000000</td>\n",
              "      <td>13705.000000</td>\n",
              "      <td>13705.000000</td>\n",
              "      <td>254.000000</td>\n",
              "      <td>0.269938</td>\n",
              "      <td>0.001165</td>\n",
              "      <td>0.126230</td>\n",
              "      <td>0.029335</td>\n",
              "      <td>0.025764</td>\n",
              "      <td>0.449596</td>\n",
              "      <td>13706.000000</td>\n",
              "      <td>1.000000</td>\n",
              "      <td>4.000000</td>\n",
              "      <td>0.000000</td>\n",
              "      <td>0.000000</td>\n",
              "      <td>0.000000</td>\n",
              "    </tr>\n",
              "    <tr>\n",
              "      <th>75%</th>\n",
              "      <td>20557.500000</td>\n",
              "      <td>20557.500000</td>\n",
              "      <td>20557.500000</td>\n",
              "      <td>737.000000</td>\n",
              "      <td>0.278295</td>\n",
              "      <td>0.002111</td>\n",
              "      <td>0.153634</td>\n",
              "      <td>0.034573</td>\n",
              "      <td>0.029421</td>\n",
              "      <td>0.486896</td>\n",
              "      <td>20558.500000</td>\n",
              "      <td>1.000000</td>\n",
              "      <td>4.000000</td>\n",
              "      <td>1.000000</td>\n",
              "      <td>1.000000</td>\n",
              "      <td>0.000000</td>\n",
              "    </tr>\n",
              "    <tr>\n",
              "      <th>max</th>\n",
              "      <td>27410.000000</td>\n",
              "      <td>27410.000000</td>\n",
              "      <td>27410.000000</td>\n",
              "      <td>2223.000000</td>\n",
              "      <td>0.317105</td>\n",
              "      <td>0.263279</td>\n",
              "      <td>0.176351</td>\n",
              "      <td>0.158647</td>\n",
              "      <td>0.084617</td>\n",
              "      <td>0.695572</td>\n",
              "      <td>27411.000000</td>\n",
              "      <td>9.000000</td>\n",
              "      <td>9.000000</td>\n",
              "      <td>1.000000</td>\n",
              "      <td>1.000000</td>\n",
              "      <td>1.000000</td>\n",
              "    </tr>\n",
              "  </tbody>\n",
              "</table>\n",
              "</div>\n",
              "      <button class=\"colab-df-convert\" onclick=\"convertToInteractive('df-0b791f20-5480-4fe1-955b-f04969a05d95')\"\n",
              "              title=\"Convert this dataframe to an interactive table.\"\n",
              "              style=\"display:none;\">\n",
              "        \n",
              "  <svg xmlns=\"http://www.w3.org/2000/svg\" height=\"24px\"viewBox=\"0 0 24 24\"\n",
              "       width=\"24px\">\n",
              "    <path d=\"M0 0h24v24H0V0z\" fill=\"none\"/>\n",
              "    <path d=\"M18.56 5.44l.94 2.06.94-2.06 2.06-.94-2.06-.94-.94-2.06-.94 2.06-2.06.94zm-11 1L8.5 8.5l.94-2.06 2.06-.94-2.06-.94L8.5 2.5l-.94 2.06-2.06.94zm10 10l.94 2.06.94-2.06 2.06-.94-2.06-.94-.94-2.06-.94 2.06-2.06.94z\"/><path d=\"M17.41 7.96l-1.37-1.37c-.4-.4-.92-.59-1.43-.59-.52 0-1.04.2-1.43.59L10.3 9.45l-7.72 7.72c-.78.78-.78 2.05 0 2.83L4 21.41c.39.39.9.59 1.41.59.51 0 1.02-.2 1.41-.59l7.78-7.78 2.81-2.81c.8-.78.8-2.07 0-2.86zM5.41 20L4 18.59l7.72-7.72 1.47 1.35L5.41 20z\"/>\n",
              "  </svg>\n",
              "      </button>\n",
              "      \n",
              "  <style>\n",
              "    .colab-df-container {\n",
              "      display:flex;\n",
              "      flex-wrap:wrap;\n",
              "      gap: 12px;\n",
              "    }\n",
              "\n",
              "    .colab-df-convert {\n",
              "      background-color: #E8F0FE;\n",
              "      border: none;\n",
              "      border-radius: 50%;\n",
              "      cursor: pointer;\n",
              "      display: none;\n",
              "      fill: #1967D2;\n",
              "      height: 32px;\n",
              "      padding: 0 0 0 0;\n",
              "      width: 32px;\n",
              "    }\n",
              "\n",
              "    .colab-df-convert:hover {\n",
              "      background-color: #E2EBFA;\n",
              "      box-shadow: 0px 1px 2px rgba(60, 64, 67, 0.3), 0px 1px 3px 1px rgba(60, 64, 67, 0.15);\n",
              "      fill: #174EA6;\n",
              "    }\n",
              "\n",
              "    [theme=dark] .colab-df-convert {\n",
              "      background-color: #3B4455;\n",
              "      fill: #D2E3FC;\n",
              "    }\n",
              "\n",
              "    [theme=dark] .colab-df-convert:hover {\n",
              "      background-color: #434B5C;\n",
              "      box-shadow: 0px 1px 3px 1px rgba(0, 0, 0, 0.15);\n",
              "      filter: drop-shadow(0px 1px 2px rgba(0, 0, 0, 0.3));\n",
              "      fill: #FFFFFF;\n",
              "    }\n",
              "  </style>\n",
              "\n",
              "      <script>\n",
              "        const buttonEl =\n",
              "          document.querySelector('#df-0b791f20-5480-4fe1-955b-f04969a05d95 button.colab-df-convert');\n",
              "        buttonEl.style.display =\n",
              "          google.colab.kernel.accessAllowed ? 'block' : 'none';\n",
              "\n",
              "        async function convertToInteractive(key) {\n",
              "          const element = document.querySelector('#df-0b791f20-5480-4fe1-955b-f04969a05d95');\n",
              "          const dataTable =\n",
              "            await google.colab.kernel.invokeFunction('convertToInteractive',\n",
              "                                                     [key], {});\n",
              "          if (!dataTable) return;\n",
              "\n",
              "          const docLinkHtml = 'Like what you see? Visit the ' +\n",
              "            '<a target=\"_blank\" href=https://colab.research.google.com/notebooks/data_table.ipynb>data table notebook</a>'\n",
              "            + ' to learn more about interactive tables.';\n",
              "          element.innerHTML = '';\n",
              "          dataTable['output_type'] = 'display_data';\n",
              "          await google.colab.output.renderOutput(dataTable, element);\n",
              "          const docLink = document.createElement('div');\n",
              "          docLink.innerHTML = docLinkHtml;\n",
              "          element.appendChild(docLink);\n",
              "        }\n",
              "      </script>\n",
              "    </div>\n",
              "  </div>\n",
              "  "
            ]
          },
          "metadata": {},
          "execution_count": 67
        }
      ]
    },
    {
      "cell_type": "code",
      "source": [
        "df_activities.head()"
      ],
      "metadata": {
        "colab": {
          "base_uri": "https://localhost:8080/",
          "height": 404
        },
        "id": "Hh3ts7gCM-lK",
        "outputId": "f1a9f15c-3d14-47c1-f27d-665ee4b1a7e0"
      },
      "execution_count": 68,
      "outputs": [
        {
          "output_type": "execute_result",
          "data": {
            "text/plain": [
              "       Unnamed: 0  Unnamed: 0.1  Unnamed: 0.1.1  sender_id  \\\n",
              "24091       24091         24091           24091          0   \n",
              "24807       24807         24807           24807          0   \n",
              "22403       22403         22403           22403          0   \n",
              "24838       24838         24838           24838          0   \n",
              "23953       23953         23953           23953          0   \n",
              "\n",
              "                      sent_time  Code Contribution  Knowledge Sharing  \\\n",
              "24091 2020-08-20 09:35:52+00:00           0.262744           0.002416   \n",
              "24807 2020-08-20 09:35:55+00:00           0.243353           0.001691   \n",
              "22403 2020-08-20 09:36:02+00:00           0.283699           0.000956   \n",
              "24838 2020-08-20 09:36:06+00:00           0.249099           0.000994   \n",
              "23953 2020-08-20 09:36:09+00:00           0.282001           0.001464   \n",
              "\n",
              "       Patch Posting  Progress Control  Acknowledgement and Response  ...  \\\n",
              "24091       0.000969          0.032951                      0.022704  ...   \n",
              "24807       0.000833          0.028051                      0.021198  ...   \n",
              "22403       0.000653          0.036240                      0.022395  ...   \n",
              "24838       0.000669          0.014546                      0.022657  ...   \n",
              "23953       0.000143          0.016604                      0.023747  ...   \n",
              "\n",
              "       comb_2  comb_3 is_triage  is_bug_fix  is_controversial  \\\n",
              "24091       2       5         0           0                 1   \n",
              "24807       2       5         0           0                 1   \n",
              "22403       2       5         0           0                 1   \n",
              "24838       3       5         0           0                 1   \n",
              "23953       3       5         0           0                 1   \n",
              "\n",
              "          activity_label                  project_thread  \\\n",
              "24091  Code Contribution  project_name_undefined_unknown   \n",
              "24807  Code Contribution  project_name_undefined_unknown   \n",
              "22403  Code Contribution  project_name_undefined_unknown   \n",
              "24838  Code Contribution  project_name_undefined_unknown   \n",
              "23953  Code Contribution  project_name_undefined_unknown   \n",
              "\n",
              "                sendername_thread  \\\n",
              "24091  Greg_Kroah-Hartman_unknown   \n",
              "24807  Greg_Kroah-Hartman_unknown   \n",
              "22403  Greg_Kroah-Hartman_unknown   \n",
              "24838  Greg_Kroah-Hartman_unknown   \n",
              "23953  Greg_Kroah-Hartman_unknown   \n",
              "\n",
              "                                            triplet_one  \\\n",
              "24091  Code_Contribution_project_name_undefined_unknown   \n",
              "24807  Code_Contribution_project_name_undefined_unknown   \n",
              "22403  Code_Contribution_project_name_undefined_unknown   \n",
              "24838  Code_Contribution_project_name_undefined_unknown   \n",
              "23953  Code_Contribution_project_name_undefined_unknown   \n",
              "\n",
              "                                        triplet_two  \n",
              "24091  Code_Contribution_Greg_Kroah-Hartman_unknown  \n",
              "24807  Code_Contribution_Greg_Kroah-Hartman_unknown  \n",
              "22403  Code_Contribution_Greg_Kroah-Hartman_unknown  \n",
              "24838  Code_Contribution_Greg_Kroah-Hartman_unknown  \n",
              "23953  Code_Contribution_Greg_Kroah-Hartman_unknown  \n",
              "\n",
              "[5 rows x 23 columns]"
            ],
            "text/html": [
              "\n",
              "  <div id=\"df-34b1e8ee-0906-43d4-8c66-8c9024c3c71c\">\n",
              "    <div class=\"colab-df-container\">\n",
              "      <div>\n",
              "<style scoped>\n",
              "    .dataframe tbody tr th:only-of-type {\n",
              "        vertical-align: middle;\n",
              "    }\n",
              "\n",
              "    .dataframe tbody tr th {\n",
              "        vertical-align: top;\n",
              "    }\n",
              "\n",
              "    .dataframe thead th {\n",
              "        text-align: right;\n",
              "    }\n",
              "</style>\n",
              "<table border=\"1\" class=\"dataframe\">\n",
              "  <thead>\n",
              "    <tr style=\"text-align: right;\">\n",
              "      <th></th>\n",
              "      <th>Unnamed: 0</th>\n",
              "      <th>Unnamed: 0.1</th>\n",
              "      <th>Unnamed: 0.1.1</th>\n",
              "      <th>sender_id</th>\n",
              "      <th>sent_time</th>\n",
              "      <th>Code Contribution</th>\n",
              "      <th>Knowledge Sharing</th>\n",
              "      <th>Patch Posting</th>\n",
              "      <th>Progress Control</th>\n",
              "      <th>Acknowledgement and Response</th>\n",
              "      <th>...</th>\n",
              "      <th>comb_2</th>\n",
              "      <th>comb_3</th>\n",
              "      <th>is_triage</th>\n",
              "      <th>is_bug_fix</th>\n",
              "      <th>is_controversial</th>\n",
              "      <th>activity_label</th>\n",
              "      <th>project_thread</th>\n",
              "      <th>sendername_thread</th>\n",
              "      <th>triplet_one</th>\n",
              "      <th>triplet_two</th>\n",
              "    </tr>\n",
              "  </thead>\n",
              "  <tbody>\n",
              "    <tr>\n",
              "      <th>24091</th>\n",
              "      <td>24091</td>\n",
              "      <td>24091</td>\n",
              "      <td>24091</td>\n",
              "      <td>0</td>\n",
              "      <td>2020-08-20 09:35:52+00:00</td>\n",
              "      <td>0.262744</td>\n",
              "      <td>0.002416</td>\n",
              "      <td>0.000969</td>\n",
              "      <td>0.032951</td>\n",
              "      <td>0.022704</td>\n",
              "      <td>...</td>\n",
              "      <td>2</td>\n",
              "      <td>5</td>\n",
              "      <td>0</td>\n",
              "      <td>0</td>\n",
              "      <td>1</td>\n",
              "      <td>Code Contribution</td>\n",
              "      <td>project_name_undefined_unknown</td>\n",
              "      <td>Greg_Kroah-Hartman_unknown</td>\n",
              "      <td>Code_Contribution_project_name_undefined_unknown</td>\n",
              "      <td>Code_Contribution_Greg_Kroah-Hartman_unknown</td>\n",
              "    </tr>\n",
              "    <tr>\n",
              "      <th>24807</th>\n",
              "      <td>24807</td>\n",
              "      <td>24807</td>\n",
              "      <td>24807</td>\n",
              "      <td>0</td>\n",
              "      <td>2020-08-20 09:35:55+00:00</td>\n",
              "      <td>0.243353</td>\n",
              "      <td>0.001691</td>\n",
              "      <td>0.000833</td>\n",
              "      <td>0.028051</td>\n",
              "      <td>0.021198</td>\n",
              "      <td>...</td>\n",
              "      <td>2</td>\n",
              "      <td>5</td>\n",
              "      <td>0</td>\n",
              "      <td>0</td>\n",
              "      <td>1</td>\n",
              "      <td>Code Contribution</td>\n",
              "      <td>project_name_undefined_unknown</td>\n",
              "      <td>Greg_Kroah-Hartman_unknown</td>\n",
              "      <td>Code_Contribution_project_name_undefined_unknown</td>\n",
              "      <td>Code_Contribution_Greg_Kroah-Hartman_unknown</td>\n",
              "    </tr>\n",
              "    <tr>\n",
              "      <th>22403</th>\n",
              "      <td>22403</td>\n",
              "      <td>22403</td>\n",
              "      <td>22403</td>\n",
              "      <td>0</td>\n",
              "      <td>2020-08-20 09:36:02+00:00</td>\n",
              "      <td>0.283699</td>\n",
              "      <td>0.000956</td>\n",
              "      <td>0.000653</td>\n",
              "      <td>0.036240</td>\n",
              "      <td>0.022395</td>\n",
              "      <td>...</td>\n",
              "      <td>2</td>\n",
              "      <td>5</td>\n",
              "      <td>0</td>\n",
              "      <td>0</td>\n",
              "      <td>1</td>\n",
              "      <td>Code Contribution</td>\n",
              "      <td>project_name_undefined_unknown</td>\n",
              "      <td>Greg_Kroah-Hartman_unknown</td>\n",
              "      <td>Code_Contribution_project_name_undefined_unknown</td>\n",
              "      <td>Code_Contribution_Greg_Kroah-Hartman_unknown</td>\n",
              "    </tr>\n",
              "    <tr>\n",
              "      <th>24838</th>\n",
              "      <td>24838</td>\n",
              "      <td>24838</td>\n",
              "      <td>24838</td>\n",
              "      <td>0</td>\n",
              "      <td>2020-08-20 09:36:06+00:00</td>\n",
              "      <td>0.249099</td>\n",
              "      <td>0.000994</td>\n",
              "      <td>0.000669</td>\n",
              "      <td>0.014546</td>\n",
              "      <td>0.022657</td>\n",
              "      <td>...</td>\n",
              "      <td>3</td>\n",
              "      <td>5</td>\n",
              "      <td>0</td>\n",
              "      <td>0</td>\n",
              "      <td>1</td>\n",
              "      <td>Code Contribution</td>\n",
              "      <td>project_name_undefined_unknown</td>\n",
              "      <td>Greg_Kroah-Hartman_unknown</td>\n",
              "      <td>Code_Contribution_project_name_undefined_unknown</td>\n",
              "      <td>Code_Contribution_Greg_Kroah-Hartman_unknown</td>\n",
              "    </tr>\n",
              "    <tr>\n",
              "      <th>23953</th>\n",
              "      <td>23953</td>\n",
              "      <td>23953</td>\n",
              "      <td>23953</td>\n",
              "      <td>0</td>\n",
              "      <td>2020-08-20 09:36:09+00:00</td>\n",
              "      <td>0.282001</td>\n",
              "      <td>0.001464</td>\n",
              "      <td>0.000143</td>\n",
              "      <td>0.016604</td>\n",
              "      <td>0.023747</td>\n",
              "      <td>...</td>\n",
              "      <td>3</td>\n",
              "      <td>5</td>\n",
              "      <td>0</td>\n",
              "      <td>0</td>\n",
              "      <td>1</td>\n",
              "      <td>Code Contribution</td>\n",
              "      <td>project_name_undefined_unknown</td>\n",
              "      <td>Greg_Kroah-Hartman_unknown</td>\n",
              "      <td>Code_Contribution_project_name_undefined_unknown</td>\n",
              "      <td>Code_Contribution_Greg_Kroah-Hartman_unknown</td>\n",
              "    </tr>\n",
              "  </tbody>\n",
              "</table>\n",
              "<p>5 rows × 23 columns</p>\n",
              "</div>\n",
              "      <button class=\"colab-df-convert\" onclick=\"convertToInteractive('df-34b1e8ee-0906-43d4-8c66-8c9024c3c71c')\"\n",
              "              title=\"Convert this dataframe to an interactive table.\"\n",
              "              style=\"display:none;\">\n",
              "        \n",
              "  <svg xmlns=\"http://www.w3.org/2000/svg\" height=\"24px\"viewBox=\"0 0 24 24\"\n",
              "       width=\"24px\">\n",
              "    <path d=\"M0 0h24v24H0V0z\" fill=\"none\"/>\n",
              "    <path d=\"M18.56 5.44l.94 2.06.94-2.06 2.06-.94-2.06-.94-.94-2.06-.94 2.06-2.06.94zm-11 1L8.5 8.5l.94-2.06 2.06-.94-2.06-.94L8.5 2.5l-.94 2.06-2.06.94zm10 10l.94 2.06.94-2.06 2.06-.94-2.06-.94-.94-2.06-.94 2.06-2.06.94z\"/><path d=\"M17.41 7.96l-1.37-1.37c-.4-.4-.92-.59-1.43-.59-.52 0-1.04.2-1.43.59L10.3 9.45l-7.72 7.72c-.78.78-.78 2.05 0 2.83L4 21.41c.39.39.9.59 1.41.59.51 0 1.02-.2 1.41-.59l7.78-7.78 2.81-2.81c.8-.78.8-2.07 0-2.86zM5.41 20L4 18.59l7.72-7.72 1.47 1.35L5.41 20z\"/>\n",
              "  </svg>\n",
              "      </button>\n",
              "      \n",
              "  <style>\n",
              "    .colab-df-container {\n",
              "      display:flex;\n",
              "      flex-wrap:wrap;\n",
              "      gap: 12px;\n",
              "    }\n",
              "\n",
              "    .colab-df-convert {\n",
              "      background-color: #E8F0FE;\n",
              "      border: none;\n",
              "      border-radius: 50%;\n",
              "      cursor: pointer;\n",
              "      display: none;\n",
              "      fill: #1967D2;\n",
              "      height: 32px;\n",
              "      padding: 0 0 0 0;\n",
              "      width: 32px;\n",
              "    }\n",
              "\n",
              "    .colab-df-convert:hover {\n",
              "      background-color: #E2EBFA;\n",
              "      box-shadow: 0px 1px 2px rgba(60, 64, 67, 0.3), 0px 1px 3px 1px rgba(60, 64, 67, 0.15);\n",
              "      fill: #174EA6;\n",
              "    }\n",
              "\n",
              "    [theme=dark] .colab-df-convert {\n",
              "      background-color: #3B4455;\n",
              "      fill: #D2E3FC;\n",
              "    }\n",
              "\n",
              "    [theme=dark] .colab-df-convert:hover {\n",
              "      background-color: #434B5C;\n",
              "      box-shadow: 0px 1px 3px 1px rgba(0, 0, 0, 0.15);\n",
              "      filter: drop-shadow(0px 1px 2px rgba(0, 0, 0, 0.3));\n",
              "      fill: #FFFFFF;\n",
              "    }\n",
              "  </style>\n",
              "\n",
              "      <script>\n",
              "        const buttonEl =\n",
              "          document.querySelector('#df-34b1e8ee-0906-43d4-8c66-8c9024c3c71c button.colab-df-convert');\n",
              "        buttonEl.style.display =\n",
              "          google.colab.kernel.accessAllowed ? 'block' : 'none';\n",
              "\n",
              "        async function convertToInteractive(key) {\n",
              "          const element = document.querySelector('#df-34b1e8ee-0906-43d4-8c66-8c9024c3c71c');\n",
              "          const dataTable =\n",
              "            await google.colab.kernel.invokeFunction('convertToInteractive',\n",
              "                                                     [key], {});\n",
              "          if (!dataTable) return;\n",
              "\n",
              "          const docLinkHtml = 'Like what you see? Visit the ' +\n",
              "            '<a target=\"_blank\" href=https://colab.research.google.com/notebooks/data_table.ipynb>data table notebook</a>'\n",
              "            + ' to learn more about interactive tables.';\n",
              "          element.innerHTML = '';\n",
              "          dataTable['output_type'] = 'display_data';\n",
              "          await google.colab.output.renderOutput(dataTable, element);\n",
              "          const docLink = document.createElement('div');\n",
              "          docLink.innerHTML = docLinkHtml;\n",
              "          element.appendChild(docLink);\n",
              "        }\n",
              "      </script>\n",
              "    </div>\n",
              "  </div>\n",
              "  "
            ]
          },
          "metadata": {},
          "execution_count": 68
        }
      ]
    },
    {
      "cell_type": "markdown",
      "source": [
        "## &#9763; Sequence Generation and Fusion\n",
        "\n",
        "Computes the Kronecker product, a composite array made of blocks of the second array scaled by the first, see Ref. 1.\n",
        "\n",
        "**np.kron** assumes that the number of dimensions of a and b are the same, if necessary prepending the smallest with ones., see Ref. 1."
      ],
      "metadata": {
        "id": "aHq-7-lFi7VI"
      }
    },
    {
      "cell_type": "code",
      "source": [
        "# Parameters\n",
        "START_TIME = df_activities.sent_time.min()\n",
        "END_TIME = df_activities.sent_time.max()\n",
        "\n",
        "print(f\"Operating time range: {START_TIME} - {END_TIME}\")\n",
        "\n",
        "# refer to: https://pandas.pydata.org/docs/reference/api/pandas.tseries.offsets.DateOffset.html\n",
        "# for different offsets, e.g., seconds, minutes, days, years,...\n",
        "DATE_OFFSET = pd.DateOffset(hours=12)\n",
        "\n",
        "ALPHA=0.5"
      ],
      "metadata": {
        "id": "9ejX0i2dHvma",
        "colab": {
          "base_uri": "https://localhost:8080/"
        },
        "outputId": "ce06b20a-c4fd-4cd7-e237-4188ee5ede66"
      },
      "execution_count": 69,
      "outputs": [
        {
          "output_type": "stream",
          "name": "stdout",
          "text": [
            "Operating time range: 2020-08-20 09:35:52+00:00 - 2020-11-23 14:16:07+00:00\n"
          ]
        }
      ]
    },
    {
      "cell_type": "code",
      "source": [
        "df_output = generate_and_fuse(\n",
        "    df_activity=df_activities, \n",
        "    df_contributions=df_revision_history, \n",
        "    start_time=START_TIME, \n",
        "    end_time=END_TIME, \n",
        "    date_offset=DATE_OFFSET, \n",
        "    alpha=ALPHA)"
      ],
      "metadata": {
        "colab": {
          "base_uri": "https://localhost:8080/"
        },
        "id": "L0Yalae_woke",
        "outputId": "9cd13edf-b59d-4c37-e7a5-47e753d7e113"
      },
      "execution_count": 70,
      "outputs": [
        {
          "output_type": "stream",
          "name": "stdout",
          "text": [
            "- Processed 0 time windows!\n",
            "- Processed 10 time windows!\n",
            "- Processed 20 time windows!\n",
            "- Processed 30 time windows!\n",
            "- Processed 40 time windows!\n",
            "- Processed 50 time windows!\n",
            "- Processed 60 time windows!\n",
            "- Processed 70 time windows!\n",
            "- Processed 80 time windows!\n",
            "- Processed 90 time windows!\n",
            "- Processed 100 time windows!\n",
            "- Processed 110 time windows!\n",
            "- Processed 120 time windows!\n",
            "- Processed 130 time windows!\n",
            "- Processed 140 time windows!\n",
            "- Processed 150 time windows!\n",
            "- Processed 160 time windows!\n",
            "- Processed 170 time windows!\n",
            "- Processed 180 time windows!\n",
            "- Total time windows: 190.\n",
            "- Total correct dev windows: 91.\n",
            "- Total correct code contribution windows: 86\n"
          ]
        }
      ]
    },
    {
      "cell_type": "code",
      "source": [
        "df_output.info()"
      ],
      "metadata": {
        "colab": {
          "base_uri": "https://localhost:8080/"
        },
        "id": "IH6ip_SB8KEb",
        "outputId": "22ae79c2-93a6-4b7c-d39b-737922ff1ffe"
      },
      "execution_count": 71,
      "outputs": [
        {
          "output_type": "stream",
          "name": "stdout",
          "text": [
            "<class 'pandas.core.frame.DataFrame'>\n",
            "RangeIndex: 3382 entries, 0 to 3381\n",
            "Data columns (total 6 columns):\n",
            " #   Column             Non-Null Count  Dtype              \n",
            "---  ------             --------------  -----              \n",
            " 0   sender_id          3382 non-null   int64              \n",
            " 1   start_time         3382 non-null   datetime64[ns, UTC]\n",
            " 2   end_time           3382 non-null   datetime64[ns, UTC]\n",
            " 3   hashes_vector      3382 non-null   object             \n",
            " 4   activities_vector  3382 non-null   object             \n",
            " 5   fusion_vector      3382 non-null   object             \n",
            "dtypes: datetime64[ns, UTC](2), int64(1), object(3)\n",
            "memory usage: 158.7+ KB\n"
          ]
        }
      ]
    },
    {
      "cell_type": "code",
      "source": [
        "df_output.head()"
      ],
      "metadata": {
        "colab": {
          "base_uri": "https://localhost:8080/",
          "height": 206
        },
        "id": "an-tiAly8Nnj",
        "outputId": "3adc55d3-9f07-4431-c765-4e2114212844"
      },
      "execution_count": 72,
      "outputs": [
        {
          "output_type": "execute_result",
          "data": {
            "text/plain": [
              "   sender_id                start_time                  end_time  \\\n",
              "0          0 2020-08-20 09:35:52+00:00 2020-08-20 21:35:52+00:00   \n",
              "1          1 2020-08-20 09:35:52+00:00 2020-08-20 21:35:52+00:00   \n",
              "2          3 2020-08-20 09:35:52+00:00 2020-08-20 21:35:52+00:00   \n",
              "3          4 2020-08-20 09:35:52+00:00 2020-08-20 21:35:52+00:00   \n",
              "4          7 2020-08-20 09:35:52+00:00 2020-08-20 21:35:52+00:00   \n",
              "\n",
              "                                       hashes_vector  \\\n",
              "0  [59c0d31988fb366189502a8ac66b7fe1486b7e40, 4a5...   \n",
              "1  [59c0d31988fb366189502a8ac66b7fe1486b7e40, 4a5...   \n",
              "2  [59c0d31988fb366189502a8ac66b7fe1486b7e40, 4a5...   \n",
              "3  [59c0d31988fb366189502a8ac66b7fe1486b7e40, 4a5...   \n",
              "4  [59c0d31988fb366189502a8ac66b7fe1486b7e40, 4a5...   \n",
              "\n",
              "                                   activities_vector  \\\n",
              "0  [Code Contribution, Code Contribution, Code Co...   \n",
              "1  [Code Contribution, Code Contribution, Code Co...   \n",
              "2             [Code Contribution, Code Contribution]   \n",
              "3  [Code Contribution, Code Contribution, Code Co...   \n",
              "4  [Code Contribution, Code Contribution, Code Co...   \n",
              "\n",
              "                                       fusion_vector  \n",
              "0  [-0.0010764808756718475061, -0.000287765372909...  \n",
              "1  [-0.0010764808756718475061, -0.000286236232147...  \n",
              "2  [-0.0010764808756718475061, -0.000273482397709...  \n",
              "3  [-0.0010764808756718475061, -0.000291447955136...  \n",
              "4  [-0.0010764808756718475061, -0.000293893192276...  "
            ],
            "text/html": [
              "\n",
              "  <div id=\"df-a1414fdb-707a-4cdf-9fcb-78568338ad7d\">\n",
              "    <div class=\"colab-df-container\">\n",
              "      <div>\n",
              "<style scoped>\n",
              "    .dataframe tbody tr th:only-of-type {\n",
              "        vertical-align: middle;\n",
              "    }\n",
              "\n",
              "    .dataframe tbody tr th {\n",
              "        vertical-align: top;\n",
              "    }\n",
              "\n",
              "    .dataframe thead th {\n",
              "        text-align: right;\n",
              "    }\n",
              "</style>\n",
              "<table border=\"1\" class=\"dataframe\">\n",
              "  <thead>\n",
              "    <tr style=\"text-align: right;\">\n",
              "      <th></th>\n",
              "      <th>sender_id</th>\n",
              "      <th>start_time</th>\n",
              "      <th>end_time</th>\n",
              "      <th>hashes_vector</th>\n",
              "      <th>activities_vector</th>\n",
              "      <th>fusion_vector</th>\n",
              "    </tr>\n",
              "  </thead>\n",
              "  <tbody>\n",
              "    <tr>\n",
              "      <th>0</th>\n",
              "      <td>0</td>\n",
              "      <td>2020-08-20 09:35:52+00:00</td>\n",
              "      <td>2020-08-20 21:35:52+00:00</td>\n",
              "      <td>[59c0d31988fb366189502a8ac66b7fe1486b7e40, 4a5...</td>\n",
              "      <td>[Code Contribution, Code Contribution, Code Co...</td>\n",
              "      <td>[-0.0010764808756718475061, -0.000287765372909...</td>\n",
              "    </tr>\n",
              "    <tr>\n",
              "      <th>1</th>\n",
              "      <td>1</td>\n",
              "      <td>2020-08-20 09:35:52+00:00</td>\n",
              "      <td>2020-08-20 21:35:52+00:00</td>\n",
              "      <td>[59c0d31988fb366189502a8ac66b7fe1486b7e40, 4a5...</td>\n",
              "      <td>[Code Contribution, Code Contribution, Code Co...</td>\n",
              "      <td>[-0.0010764808756718475061, -0.000286236232147...</td>\n",
              "    </tr>\n",
              "    <tr>\n",
              "      <th>2</th>\n",
              "      <td>3</td>\n",
              "      <td>2020-08-20 09:35:52+00:00</td>\n",
              "      <td>2020-08-20 21:35:52+00:00</td>\n",
              "      <td>[59c0d31988fb366189502a8ac66b7fe1486b7e40, 4a5...</td>\n",
              "      <td>[Code Contribution, Code Contribution]</td>\n",
              "      <td>[-0.0010764808756718475061, -0.000273482397709...</td>\n",
              "    </tr>\n",
              "    <tr>\n",
              "      <th>3</th>\n",
              "      <td>4</td>\n",
              "      <td>2020-08-20 09:35:52+00:00</td>\n",
              "      <td>2020-08-20 21:35:52+00:00</td>\n",
              "      <td>[59c0d31988fb366189502a8ac66b7fe1486b7e40, 4a5...</td>\n",
              "      <td>[Code Contribution, Code Contribution, Code Co...</td>\n",
              "      <td>[-0.0010764808756718475061, -0.000291447955136...</td>\n",
              "    </tr>\n",
              "    <tr>\n",
              "      <th>4</th>\n",
              "      <td>7</td>\n",
              "      <td>2020-08-20 09:35:52+00:00</td>\n",
              "      <td>2020-08-20 21:35:52+00:00</td>\n",
              "      <td>[59c0d31988fb366189502a8ac66b7fe1486b7e40, 4a5...</td>\n",
              "      <td>[Code Contribution, Code Contribution, Code Co...</td>\n",
              "      <td>[-0.0010764808756718475061, -0.000293893192276...</td>\n",
              "    </tr>\n",
              "  </tbody>\n",
              "</table>\n",
              "</div>\n",
              "      <button class=\"colab-df-convert\" onclick=\"convertToInteractive('df-a1414fdb-707a-4cdf-9fcb-78568338ad7d')\"\n",
              "              title=\"Convert this dataframe to an interactive table.\"\n",
              "              style=\"display:none;\">\n",
              "        \n",
              "  <svg xmlns=\"http://www.w3.org/2000/svg\" height=\"24px\"viewBox=\"0 0 24 24\"\n",
              "       width=\"24px\">\n",
              "    <path d=\"M0 0h24v24H0V0z\" fill=\"none\"/>\n",
              "    <path d=\"M18.56 5.44l.94 2.06.94-2.06 2.06-.94-2.06-.94-.94-2.06-.94 2.06-2.06.94zm-11 1L8.5 8.5l.94-2.06 2.06-.94-2.06-.94L8.5 2.5l-.94 2.06-2.06.94zm10 10l.94 2.06.94-2.06 2.06-.94-2.06-.94-.94-2.06-.94 2.06-2.06.94z\"/><path d=\"M17.41 7.96l-1.37-1.37c-.4-.4-.92-.59-1.43-.59-.52 0-1.04.2-1.43.59L10.3 9.45l-7.72 7.72c-.78.78-.78 2.05 0 2.83L4 21.41c.39.39.9.59 1.41.59.51 0 1.02-.2 1.41-.59l7.78-7.78 2.81-2.81c.8-.78.8-2.07 0-2.86zM5.41 20L4 18.59l7.72-7.72 1.47 1.35L5.41 20z\"/>\n",
              "  </svg>\n",
              "      </button>\n",
              "      \n",
              "  <style>\n",
              "    .colab-df-container {\n",
              "      display:flex;\n",
              "      flex-wrap:wrap;\n",
              "      gap: 12px;\n",
              "    }\n",
              "\n",
              "    .colab-df-convert {\n",
              "      background-color: #E8F0FE;\n",
              "      border: none;\n",
              "      border-radius: 50%;\n",
              "      cursor: pointer;\n",
              "      display: none;\n",
              "      fill: #1967D2;\n",
              "      height: 32px;\n",
              "      padding: 0 0 0 0;\n",
              "      width: 32px;\n",
              "    }\n",
              "\n",
              "    .colab-df-convert:hover {\n",
              "      background-color: #E2EBFA;\n",
              "      box-shadow: 0px 1px 2px rgba(60, 64, 67, 0.3), 0px 1px 3px 1px rgba(60, 64, 67, 0.15);\n",
              "      fill: #174EA6;\n",
              "    }\n",
              "\n",
              "    [theme=dark] .colab-df-convert {\n",
              "      background-color: #3B4455;\n",
              "      fill: #D2E3FC;\n",
              "    }\n",
              "\n",
              "    [theme=dark] .colab-df-convert:hover {\n",
              "      background-color: #434B5C;\n",
              "      box-shadow: 0px 1px 3px 1px rgba(0, 0, 0, 0.15);\n",
              "      filter: drop-shadow(0px 1px 2px rgba(0, 0, 0, 0.3));\n",
              "      fill: #FFFFFF;\n",
              "    }\n",
              "  </style>\n",
              "\n",
              "      <script>\n",
              "        const buttonEl =\n",
              "          document.querySelector('#df-a1414fdb-707a-4cdf-9fcb-78568338ad7d button.colab-df-convert');\n",
              "        buttonEl.style.display =\n",
              "          google.colab.kernel.accessAllowed ? 'block' : 'none';\n",
              "\n",
              "        async function convertToInteractive(key) {\n",
              "          const element = document.querySelector('#df-a1414fdb-707a-4cdf-9fcb-78568338ad7d');\n",
              "          const dataTable =\n",
              "            await google.colab.kernel.invokeFunction('convertToInteractive',\n",
              "                                                     [key], {});\n",
              "          if (!dataTable) return;\n",
              "\n",
              "          const docLinkHtml = 'Like what you see? Visit the ' +\n",
              "            '<a target=\"_blank\" href=https://colab.research.google.com/notebooks/data_table.ipynb>data table notebook</a>'\n",
              "            + ' to learn more about interactive tables.';\n",
              "          element.innerHTML = '';\n",
              "          dataTable['output_type'] = 'display_data';\n",
              "          await google.colab.output.renderOutput(dataTable, element);\n",
              "          const docLink = document.createElement('div');\n",
              "          docLink.innerHTML = docLinkHtml;\n",
              "          element.appendChild(docLink);\n",
              "        }\n",
              "      </script>\n",
              "    </div>\n",
              "  </div>\n",
              "  "
            ]
          },
          "metadata": {},
          "execution_count": 72
        }
      ]
    },
    {
      "cell_type": "code",
      "source": [
        "df_output.sender_id.value_counts().sort_values()"
      ],
      "metadata": {
        "colab": {
          "base_uri": "https://localhost:8080/"
        },
        "id": "K8Q_D7cSaCjD",
        "outputId": "76b6e953-227b-4b72-b60f-b086a6190593"
      },
      "execution_count": 73,
      "outputs": [
        {
          "output_type": "execute_result",
          "data": {
            "text/plain": [
              "2183     1\n",
              "2139     1\n",
              "2137     1\n",
              "2053     1\n",
              "105      1\n",
              "        ..\n",
              "142     31\n",
              "139     32\n",
              "101     36\n",
              "8       37\n",
              "39      59\n",
              "Name: sender_id, Length: 993, dtype: int64"
            ]
          },
          "metadata": {},
          "execution_count": 73
        }
      ]
    },
    {
      "cell_type": "code",
      "source": [
        "# 7. save the dataframe to a .csv file\n",
        "if SAVE_RESULTS:\n",
        "    print(\"Saving dataframe...\")\n",
        "    path_output_file = f\"fusion_sequences-{str(TODAYS_DATE)}.csv\"\n",
        "    df_output.to_csv(path_output_file, sep='\\t')\n",
        "    \n",
        "    check_file_status(input_path=path_output_file)"
      ],
      "metadata": {
        "id": "jsSjLp5EBB94",
        "colab": {
          "base_uri": "https://localhost:8080/"
        },
        "outputId": "9dcf2254-1ce6-425a-9907-5588bc7e11af"
      },
      "execution_count": 74,
      "outputs": [
        {
          "output_type": "stream",
          "name": "stdout",
          "text": [
            "Saving dataframe...\n",
            "- File fusion_sequences-2022-09-14.csv exists locally at fusion_sequences-2022-09-14.csv!\n"
          ]
        }
      ]
    },
    {
      "cell_type": "markdown",
      "source": [
        "## &#127919; Alignment"
      ],
      "metadata": {
        "id": "s7NkJDCQaRqs"
      }
    },
    {
      "cell_type": "code",
      "source": [
        "# add the week of the year column as 'period_week' to df_revision_history\n",
        "df_revision_history['period_week'] = df_revision_history.timeline.dt.isocalendar().week"
      ],
      "metadata": {
        "id": "NISVL74k1R7Q"
      },
      "execution_count": 152,
      "outputs": []
    },
    {
      "cell_type": "code",
      "source": [
        "# compute the norm of each row[rank:quality]\n",
        "df_revision_history['norm_value'] = df_revision_history.apply(lambda row: np.linalg.norm(row[2:8]), axis=1)"
      ],
      "metadata": {
        "id": "HzsEwUW0BLaz"
      },
      "execution_count": 153,
      "outputs": []
    },
    {
      "cell_type": "code",
      "source": [
        "df_revision_history.head()"
      ],
      "metadata": {
        "colab": {
          "base_uri": "https://localhost:8080/",
          "height": 206
        },
        "id": "XOOpuyBbBcZL",
        "outputId": "00158e64-d248-44a6-a499-7d81598b52cd"
      },
      "execution_count": 154,
      "outputs": [
        {
          "output_type": "execute_result",
          "data": {
            "text/plain": [
              "                                commit_hash                  timeline   rank  \\\n",
              "0  11740ef4482914fcd8c9814ef7ceb7085715e554 2011-01-13 11:40:31+00:00 -0.001   \n",
              "1  d6c8204659eb1846c444997ee28fe9d7e5442f4e 2016-08-31 00:49:53+00:00 -0.001   \n",
              "2  658829dfe75c49e879e0c4c9cbcd3bd1e4fbdcf5 2017-05-06 08:37:20+00:00 -0.002   \n",
              "3  22648c989cb8305f51b96b5962df8674697bb2ab 2018-02-08 02:02:45+00:00 -0.001   \n",
              "4  d9e5582c4bb219f3459e39f65410f0e5128fbe91 2018-04-24 05:06:12+00:00 -0.001   \n",
              "\n",
              "    density    effort  importance  coverage   quality  period_week  norm_value  \n",
              "0  0.980000  0.500003    0.009091  0.952574  0.731059            2    1.628598  \n",
              "1  0.666667  0.500000    0.019231  0.731059  0.731059           35    1.328047  \n",
              "2  0.000000  0.000000    0.166667  0.880797  0.731059           18    1.156733  \n",
              "3  0.384615  0.500001    0.333333  0.731059  0.731059            6    1.256159  \n",
              "4  0.550847  0.500019    0.003279  0.999877  0.731059           17    1.444875  "
            ],
            "text/html": [
              "\n",
              "  <div id=\"df-c83b06a9-8878-4813-83ba-bc630aa5db1c\">\n",
              "    <div class=\"colab-df-container\">\n",
              "      <div>\n",
              "<style scoped>\n",
              "    .dataframe tbody tr th:only-of-type {\n",
              "        vertical-align: middle;\n",
              "    }\n",
              "\n",
              "    .dataframe tbody tr th {\n",
              "        vertical-align: top;\n",
              "    }\n",
              "\n",
              "    .dataframe thead th {\n",
              "        text-align: right;\n",
              "    }\n",
              "</style>\n",
              "<table border=\"1\" class=\"dataframe\">\n",
              "  <thead>\n",
              "    <tr style=\"text-align: right;\">\n",
              "      <th></th>\n",
              "      <th>commit_hash</th>\n",
              "      <th>timeline</th>\n",
              "      <th>rank</th>\n",
              "      <th>density</th>\n",
              "      <th>effort</th>\n",
              "      <th>importance</th>\n",
              "      <th>coverage</th>\n",
              "      <th>quality</th>\n",
              "      <th>period_week</th>\n",
              "      <th>norm_value</th>\n",
              "    </tr>\n",
              "  </thead>\n",
              "  <tbody>\n",
              "    <tr>\n",
              "      <th>0</th>\n",
              "      <td>11740ef4482914fcd8c9814ef7ceb7085715e554</td>\n",
              "      <td>2011-01-13 11:40:31+00:00</td>\n",
              "      <td>-0.001</td>\n",
              "      <td>0.980000</td>\n",
              "      <td>0.500003</td>\n",
              "      <td>0.009091</td>\n",
              "      <td>0.952574</td>\n",
              "      <td>0.731059</td>\n",
              "      <td>2</td>\n",
              "      <td>1.628598</td>\n",
              "    </tr>\n",
              "    <tr>\n",
              "      <th>1</th>\n",
              "      <td>d6c8204659eb1846c444997ee28fe9d7e5442f4e</td>\n",
              "      <td>2016-08-31 00:49:53+00:00</td>\n",
              "      <td>-0.001</td>\n",
              "      <td>0.666667</td>\n",
              "      <td>0.500000</td>\n",
              "      <td>0.019231</td>\n",
              "      <td>0.731059</td>\n",
              "      <td>0.731059</td>\n",
              "      <td>35</td>\n",
              "      <td>1.328047</td>\n",
              "    </tr>\n",
              "    <tr>\n",
              "      <th>2</th>\n",
              "      <td>658829dfe75c49e879e0c4c9cbcd3bd1e4fbdcf5</td>\n",
              "      <td>2017-05-06 08:37:20+00:00</td>\n",
              "      <td>-0.002</td>\n",
              "      <td>0.000000</td>\n",
              "      <td>0.000000</td>\n",
              "      <td>0.166667</td>\n",
              "      <td>0.880797</td>\n",
              "      <td>0.731059</td>\n",
              "      <td>18</td>\n",
              "      <td>1.156733</td>\n",
              "    </tr>\n",
              "    <tr>\n",
              "      <th>3</th>\n",
              "      <td>22648c989cb8305f51b96b5962df8674697bb2ab</td>\n",
              "      <td>2018-02-08 02:02:45+00:00</td>\n",
              "      <td>-0.001</td>\n",
              "      <td>0.384615</td>\n",
              "      <td>0.500001</td>\n",
              "      <td>0.333333</td>\n",
              "      <td>0.731059</td>\n",
              "      <td>0.731059</td>\n",
              "      <td>6</td>\n",
              "      <td>1.256159</td>\n",
              "    </tr>\n",
              "    <tr>\n",
              "      <th>4</th>\n",
              "      <td>d9e5582c4bb219f3459e39f65410f0e5128fbe91</td>\n",
              "      <td>2018-04-24 05:06:12+00:00</td>\n",
              "      <td>-0.001</td>\n",
              "      <td>0.550847</td>\n",
              "      <td>0.500019</td>\n",
              "      <td>0.003279</td>\n",
              "      <td>0.999877</td>\n",
              "      <td>0.731059</td>\n",
              "      <td>17</td>\n",
              "      <td>1.444875</td>\n",
              "    </tr>\n",
              "  </tbody>\n",
              "</table>\n",
              "</div>\n",
              "      <button class=\"colab-df-convert\" onclick=\"convertToInteractive('df-c83b06a9-8878-4813-83ba-bc630aa5db1c')\"\n",
              "              title=\"Convert this dataframe to an interactive table.\"\n",
              "              style=\"display:none;\">\n",
              "        \n",
              "  <svg xmlns=\"http://www.w3.org/2000/svg\" height=\"24px\"viewBox=\"0 0 24 24\"\n",
              "       width=\"24px\">\n",
              "    <path d=\"M0 0h24v24H0V0z\" fill=\"none\"/>\n",
              "    <path d=\"M18.56 5.44l.94 2.06.94-2.06 2.06-.94-2.06-.94-.94-2.06-.94 2.06-2.06.94zm-11 1L8.5 8.5l.94-2.06 2.06-.94-2.06-.94L8.5 2.5l-.94 2.06-2.06.94zm10 10l.94 2.06.94-2.06 2.06-.94-2.06-.94-.94-2.06-.94 2.06-2.06.94z\"/><path d=\"M17.41 7.96l-1.37-1.37c-.4-.4-.92-.59-1.43-.59-.52 0-1.04.2-1.43.59L10.3 9.45l-7.72 7.72c-.78.78-.78 2.05 0 2.83L4 21.41c.39.39.9.59 1.41.59.51 0 1.02-.2 1.41-.59l7.78-7.78 2.81-2.81c.8-.78.8-2.07 0-2.86zM5.41 20L4 18.59l7.72-7.72 1.47 1.35L5.41 20z\"/>\n",
              "  </svg>\n",
              "      </button>\n",
              "      \n",
              "  <style>\n",
              "    .colab-df-container {\n",
              "      display:flex;\n",
              "      flex-wrap:wrap;\n",
              "      gap: 12px;\n",
              "    }\n",
              "\n",
              "    .colab-df-convert {\n",
              "      background-color: #E8F0FE;\n",
              "      border: none;\n",
              "      border-radius: 50%;\n",
              "      cursor: pointer;\n",
              "      display: none;\n",
              "      fill: #1967D2;\n",
              "      height: 32px;\n",
              "      padding: 0 0 0 0;\n",
              "      width: 32px;\n",
              "    }\n",
              "\n",
              "    .colab-df-convert:hover {\n",
              "      background-color: #E2EBFA;\n",
              "      box-shadow: 0px 1px 2px rgba(60, 64, 67, 0.3), 0px 1px 3px 1px rgba(60, 64, 67, 0.15);\n",
              "      fill: #174EA6;\n",
              "    }\n",
              "\n",
              "    [theme=dark] .colab-df-convert {\n",
              "      background-color: #3B4455;\n",
              "      fill: #D2E3FC;\n",
              "    }\n",
              "\n",
              "    [theme=dark] .colab-df-convert:hover {\n",
              "      background-color: #434B5C;\n",
              "      box-shadow: 0px 1px 3px 1px rgba(0, 0, 0, 0.15);\n",
              "      filter: drop-shadow(0px 1px 2px rgba(0, 0, 0, 0.3));\n",
              "      fill: #FFFFFF;\n",
              "    }\n",
              "  </style>\n",
              "\n",
              "      <script>\n",
              "        const buttonEl =\n",
              "          document.querySelector('#df-c83b06a9-8878-4813-83ba-bc630aa5db1c button.colab-df-convert');\n",
              "        buttonEl.style.display =\n",
              "          google.colab.kernel.accessAllowed ? 'block' : 'none';\n",
              "\n",
              "        async function convertToInteractive(key) {\n",
              "          const element = document.querySelector('#df-c83b06a9-8878-4813-83ba-bc630aa5db1c');\n",
              "          const dataTable =\n",
              "            await google.colab.kernel.invokeFunction('convertToInteractive',\n",
              "                                                     [key], {});\n",
              "          if (!dataTable) return;\n",
              "\n",
              "          const docLinkHtml = 'Like what you see? Visit the ' +\n",
              "            '<a target=\"_blank\" href=https://colab.research.google.com/notebooks/data_table.ipynb>data table notebook</a>'\n",
              "            + ' to learn more about interactive tables.';\n",
              "          element.innerHTML = '';\n",
              "          dataTable['output_type'] = 'display_data';\n",
              "          await google.colab.output.renderOutput(dataTable, element);\n",
              "          const docLink = document.createElement('div');\n",
              "          docLink.innerHTML = docLinkHtml;\n",
              "          element.appendChild(docLink);\n",
              "        }\n",
              "      </script>\n",
              "    </div>\n",
              "  </div>\n",
              "  "
            ]
          },
          "metadata": {},
          "execution_count": 154
        }
      ]
    },
    {
      "cell_type": "code",
      "source": [
        "# plotly likes float32 data types\n",
        "df_revision_history = df_revision_history.astype({\"norm_value\": 'float32'})"
      ],
      "metadata": {
        "id": "k6eOvx8RD5vf"
      },
      "execution_count": 165,
      "outputs": []
    },
    {
      "cell_type": "code",
      "source": [
        "df_revision_history.info()"
      ],
      "metadata": {
        "colab": {
          "base_uri": "https://localhost:8080/"
        },
        "id": "hPyoKKHeD-Qj",
        "outputId": "acecdee8-265e-44a6-be69-90cf8ef165b6"
      },
      "execution_count": 166,
      "outputs": [
        {
          "output_type": "stream",
          "name": "stdout",
          "text": [
            "<class 'pandas.core.frame.DataFrame'>\n",
            "RangeIndex: 12324 entries, 0 to 12323\n",
            "Data columns (total 10 columns):\n",
            " #   Column       Non-Null Count  Dtype              \n",
            "---  ------       --------------  -----              \n",
            " 0   commit_hash  12324 non-null  object             \n",
            " 1   timeline     12324 non-null  datetime64[ns, UTC]\n",
            " 2   rank         12324 non-null  float64            \n",
            " 3   density      12324 non-null  float64            \n",
            " 4   effort       12324 non-null  float64            \n",
            " 5   importance   12324 non-null  float64            \n",
            " 6   coverage     12324 non-null  float64            \n",
            " 7   quality      12324 non-null  float128           \n",
            " 8   period_week  12324 non-null  UInt32             \n",
            " 9   norm_value   12324 non-null  float32            \n",
            "dtypes: UInt32(1), datetime64[ns, UTC](1), float128(1), float32(1), float64(5), object(1)\n",
            "memory usage: 975.0+ KB\n"
          ]
        }
      ]
    },
    {
      "cell_type": "code",
      "source": [
        "compute_and_visualize_alignments(\n",
        "    input_df=df_output, \n",
        "    target_year=2020, \n",
        "    period_start=34, \n",
        "    period_end=35, \n",
        "    target_dev_id=0, \n",
        "    top_k=3)"
      ],
      "metadata": {
        "colab": {
          "base_uri": "https://localhost:8080/",
          "height": 872
        },
        "id": "VfsQNMmj6E0v",
        "outputId": "03798e99-abf9-4a0e-f41e-7dd0826cddf8"
      },
      "execution_count": 175,
      "outputs": [
        {
          "output_type": "stream",
          "name": "stdout",
          "text": [
            "Year: 2020\n",
            "Starting Week: 34\n",
            "Ending Week: 35\n",
            "Resulting dataframe records: 310\n",
            "No. of unique devs in this period: 197\n",
            "- Producing developer fusion sequences...\n",
            "- Computing alignments...\n",
            "- Resulting alignments:\n",
            "-- Alignments at index: [(4, 299)]\talignment score: 0.988\n",
            "(4, 299) 50df0eebbd49b894df7e5e3945d66cd80c322284 06be67266a0c9a6a1ffb330a4ab50c2f21612e2b\n",
            "-- Alignments at index: [(4, 9), (3, 8), (2, 7), (1, 6), (0, 5)]\talignment score: 0.970\n",
            "(4, 9) 50df0eebbd49b894df7e5e3945d66cd80c322284 5bf01b571cf45db12a34f53b1ce96e044c030ae6\n",
            "(3, 8) 204361a77f4018627addd4a06877448f088ddfc0 3ad1b1e16dbff695f430b7d7ac0b6e98c02065c2\n",
            "(2, 7) dca5612f8eb9d0cf1dc254eb2adff1f16a588a7d 59c0d31988fb366189502a8ac66b7fe1486b7e40\n",
            "(1, 6) 5e0b17b026eb7c6de9baa9b0d45a51b05f05abe1 59c0d31988fb366189502a8ac66b7fe1486b7e40\n",
            "(0, 5) 59c0d31988fb366189502a8ac66b7fe1486b7e40 50df0eebbd49b894df7e5e3945d66cd80c322284\n",
            "-- Alignments at index: [(4, 126)]\talignment score: 0.954\n",
            "(4, 126) 50df0eebbd49b894df7e5e3945d66cd80c322284 5bf01b571cf45db12a34f53b1ce96e044c030ae6\n",
            "- Visualizing results\n"
          ]
        },
        {
          "output_type": "display_data",
          "data": {
            "text/html": [
              "<html>\n",
              "<head><meta charset=\"utf-8\" /></head>\n",
              "<body>\n",
              "    <div>            <script src=\"https://cdnjs.cloudflare.com/ajax/libs/mathjax/2.7.5/MathJax.js?config=TeX-AMS-MML_SVG\"></script><script type=\"text/javascript\">if (window.MathJax) {MathJax.Hub.Config({SVG: {font: \"STIX-Web\"}});}</script>                <script type=\"text/javascript\">window.PlotlyConfig = {MathJaxConfig: 'local'};</script>\n",
              "        <script src=\"https://cdn.plot.ly/plotly-2.8.3.min.js\"></script>                <div id=\"5dfd72ef-8809-48bd-82bd-c32c1eaf679c\" class=\"plotly-graph-div\" style=\"height:525px; width:100%;\"></div>            <script type=\"text/javascript\">                                    window.PLOTLYENV=window.PLOTLYENV || {};                                    if (document.getElementById(\"5dfd72ef-8809-48bd-82bd-c32c1eaf679c\")) {                    Plotly.newPlot(                        \"5dfd72ef-8809-48bd-82bd-c32c1eaf679c\",                        [{\"line\":{\"color\":\"lightgray\"},\"showlegend\":false,\"x\":[4,11],\"y\":[1.602518081665039,1.3790233135223389],\"type\":\"scatter\"},{\"line\":{\"color\":\"lightgray\"},\"showlegend\":false,\"x\":[4,5],\"y\":[1.602518081665039,1.4244142770767212],\"type\":\"scatter\"},{\"line\":{\"color\":\"lightgray\"},\"showlegend\":false,\"x\":[3,4],\"y\":[1.6174745559692383,1.2786107063293457],\"type\":\"scatter\"},{\"line\":{\"color\":\"lightgray\"},\"showlegend\":false,\"x\":[2,0],\"y\":[1.9518378973007202,1.4562280178070068],\"type\":\"scatter\"},{\"line\":{\"color\":\"lightgray\"},\"showlegend\":false,\"x\":[1,0],\"y\":[1.8735629320144653,1.4562280178070068],\"type\":\"scatter\"},{\"line\":{\"color\":\"lightgray\"},\"showlegend\":false,\"x\":[0,9],\"y\":[1.8062280416488647,1.2525180578231812],\"type\":\"scatter\"},{\"line\":{\"color\":\"lightgray\"},\"showlegend\":false,\"x\":[4,5],\"y\":[1.602518081665039,1.4244142770767212],\"type\":\"scatter\"},{\"hoverinfo\":\"text\",\"hovertext\":[\"norm: 1.806<br />effort: 0.526<br />density: 0.879<br />importance: 0.056<br />coverage: 0.731<br />quality: 0.731\",\"norm: 1.874<br />effort: 0.502<br />density: 1.000<br />importance: 0.021<br />coverage: 0.731<br />quality: 0.731\",\"norm: 1.952<br />effort: 0.489<br />density: 0.910<br />importance: 0.001<br />coverage: 0.982<br />quality: 0.731\",\"norm: 1.617<br />effort: 0.650<br />density: 0.308<br />importance: 0.143<br />coverage: 0.731<br />quality: 0.731\",\"norm: 1.603<br />effort: 0.500<br />density: 0.500<br />importance: 0.000<br />coverage: 0.731<br />quality: 0.731\"],\"line\":{\"color\":\"red\"},\"name\":\"Selected Developer\",\"x\":[0,1,2,3,4],\"y\":[1.8062280416488647,1.8735629320144653,1.9518378973007202,1.6174745559692383,1.602518081665039],\"type\":\"scatter\"},{\"hoverinfo\":\"text\",\"hovertext\":[\"norm: 1.456<br />effort: 0.526<br />density: 0.879<br />importance: 0.056<br />coverage: 0.731<br />quality: 0.731\",\"norm: 1.524<br />effort: 0.502<br />density: 1.000<br />importance: 0.021<br />coverage: 0.731<br />quality: 0.731\",\"norm: 1.602<br />effort: 0.489<br />density: 0.910<br />importance: 0.001<br />coverage: 0.982<br />quality: 0.731\",\"norm: 1.472<br />effort: 0.506<br />density: 0.917<br />importance: 0.017<br />coverage: 0.731<br />quality: 0.731\",\"norm: 1.279<br />effort: 0.519<br />density: 0.519<br />importance: 0.167<br />coverage: 0.731<br />quality: 0.731\",\"norm: 1.424<br />effort: 0.508<br />density: 0.500<br />importance: 0.005<br />coverage: 0.993<br />quality: 0.731\",\"norm: 1.267<br />effort: 0.650<br />density: 0.308<br />importance: 0.143<br />coverage: 0.731<br />quality: 0.731\",\"norm: 1.523<br />effort: 0.500<br />density: 1.000<br />importance: 0.007<br />coverage: 0.731<br />quality: 0.731\",\"norm: 1.412<br />effort: 0.501<br />density: 0.750<br />importance: 0.333<br />coverage: 0.731<br />quality: 0.731\",\"norm: 1.253<br />effort: 0.500<br />density: 0.500<br />importance: 0.000<br />coverage: 0.731<br />quality: 0.731\",\"norm: 1.600<br />effort: 0.499<br />density: 1.000<br />importance: 0.006<br />coverage: 0.881<br />quality: 0.731\",\"norm: 1.379<br />effort: 0.500<br />density: 0.750<br />importance: 0.143<br />coverage: 0.731<br />quality: 0.731\"],\"line\":{\"color\":\"blue\"},\"name\":\"All Developers\",\"x\":[0,1,2,3,4,5,6,7,8,9,10,11],\"y\":[1.4562280178070068,1.5235629081726074,1.6018378734588623,1.4716191291809082,1.2786107063293457,1.4244142770767212,1.2674745321273804,1.5228270292282104,1.4120506048202515,1.2525180578231812,1.5999314785003662,1.3790233135223389],\"type\":\"scatter\"}],                        {\"template\":{\"data\":{\"bar\":[{\"error_x\":{\"color\":\"#2a3f5f\"},\"error_y\":{\"color\":\"#2a3f5f\"},\"marker\":{\"line\":{\"color\":\"#E5ECF6\",\"width\":0.5},\"pattern\":{\"fillmode\":\"overlay\",\"size\":10,\"solidity\":0.2}},\"type\":\"bar\"}],\"barpolar\":[{\"marker\":{\"line\":{\"color\":\"#E5ECF6\",\"width\":0.5},\"pattern\":{\"fillmode\":\"overlay\",\"size\":10,\"solidity\":0.2}},\"type\":\"barpolar\"}],\"carpet\":[{\"aaxis\":{\"endlinecolor\":\"#2a3f5f\",\"gridcolor\":\"white\",\"linecolor\":\"white\",\"minorgridcolor\":\"white\",\"startlinecolor\":\"#2a3f5f\"},\"baxis\":{\"endlinecolor\":\"#2a3f5f\",\"gridcolor\":\"white\",\"linecolor\":\"white\",\"minorgridcolor\":\"white\",\"startlinecolor\":\"#2a3f5f\"},\"type\":\"carpet\"}],\"choropleth\":[{\"colorbar\":{\"outlinewidth\":0,\"ticks\":\"\"},\"type\":\"choropleth\"}],\"contour\":[{\"colorbar\":{\"outlinewidth\":0,\"ticks\":\"\"},\"colorscale\":[[0.0,\"#0d0887\"],[0.1111111111111111,\"#46039f\"],[0.2222222222222222,\"#7201a8\"],[0.3333333333333333,\"#9c179e\"],[0.4444444444444444,\"#bd3786\"],[0.5555555555555556,\"#d8576b\"],[0.6666666666666666,\"#ed7953\"],[0.7777777777777778,\"#fb9f3a\"],[0.8888888888888888,\"#fdca26\"],[1.0,\"#f0f921\"]],\"type\":\"contour\"}],\"contourcarpet\":[{\"colorbar\":{\"outlinewidth\":0,\"ticks\":\"\"},\"type\":\"contourcarpet\"}],\"heatmap\":[{\"colorbar\":{\"outlinewidth\":0,\"ticks\":\"\"},\"colorscale\":[[0.0,\"#0d0887\"],[0.1111111111111111,\"#46039f\"],[0.2222222222222222,\"#7201a8\"],[0.3333333333333333,\"#9c179e\"],[0.4444444444444444,\"#bd3786\"],[0.5555555555555556,\"#d8576b\"],[0.6666666666666666,\"#ed7953\"],[0.7777777777777778,\"#fb9f3a\"],[0.8888888888888888,\"#fdca26\"],[1.0,\"#f0f921\"]],\"type\":\"heatmap\"}],\"heatmapgl\":[{\"colorbar\":{\"outlinewidth\":0,\"ticks\":\"\"},\"colorscale\":[[0.0,\"#0d0887\"],[0.1111111111111111,\"#46039f\"],[0.2222222222222222,\"#7201a8\"],[0.3333333333333333,\"#9c179e\"],[0.4444444444444444,\"#bd3786\"],[0.5555555555555556,\"#d8576b\"],[0.6666666666666666,\"#ed7953\"],[0.7777777777777778,\"#fb9f3a\"],[0.8888888888888888,\"#fdca26\"],[1.0,\"#f0f921\"]],\"type\":\"heatmapgl\"}],\"histogram\":[{\"marker\":{\"pattern\":{\"fillmode\":\"overlay\",\"size\":10,\"solidity\":0.2}},\"type\":\"histogram\"}],\"histogram2d\":[{\"colorbar\":{\"outlinewidth\":0,\"ticks\":\"\"},\"colorscale\":[[0.0,\"#0d0887\"],[0.1111111111111111,\"#46039f\"],[0.2222222222222222,\"#7201a8\"],[0.3333333333333333,\"#9c179e\"],[0.4444444444444444,\"#bd3786\"],[0.5555555555555556,\"#d8576b\"],[0.6666666666666666,\"#ed7953\"],[0.7777777777777778,\"#fb9f3a\"],[0.8888888888888888,\"#fdca26\"],[1.0,\"#f0f921\"]],\"type\":\"histogram2d\"}],\"histogram2dcontour\":[{\"colorbar\":{\"outlinewidth\":0,\"ticks\":\"\"},\"colorscale\":[[0.0,\"#0d0887\"],[0.1111111111111111,\"#46039f\"],[0.2222222222222222,\"#7201a8\"],[0.3333333333333333,\"#9c179e\"],[0.4444444444444444,\"#bd3786\"],[0.5555555555555556,\"#d8576b\"],[0.6666666666666666,\"#ed7953\"],[0.7777777777777778,\"#fb9f3a\"],[0.8888888888888888,\"#fdca26\"],[1.0,\"#f0f921\"]],\"type\":\"histogram2dcontour\"}],\"mesh3d\":[{\"colorbar\":{\"outlinewidth\":0,\"ticks\":\"\"},\"type\":\"mesh3d\"}],\"parcoords\":[{\"line\":{\"colorbar\":{\"outlinewidth\":0,\"ticks\":\"\"}},\"type\":\"parcoords\"}],\"pie\":[{\"automargin\":true,\"type\":\"pie\"}],\"scatter\":[{\"marker\":{\"colorbar\":{\"outlinewidth\":0,\"ticks\":\"\"}},\"type\":\"scatter\"}],\"scatter3d\":[{\"line\":{\"colorbar\":{\"outlinewidth\":0,\"ticks\":\"\"}},\"marker\":{\"colorbar\":{\"outlinewidth\":0,\"ticks\":\"\"}},\"type\":\"scatter3d\"}],\"scattercarpet\":[{\"marker\":{\"colorbar\":{\"outlinewidth\":0,\"ticks\":\"\"}},\"type\":\"scattercarpet\"}],\"scattergeo\":[{\"marker\":{\"colorbar\":{\"outlinewidth\":0,\"ticks\":\"\"}},\"type\":\"scattergeo\"}],\"scattergl\":[{\"marker\":{\"colorbar\":{\"outlinewidth\":0,\"ticks\":\"\"}},\"type\":\"scattergl\"}],\"scattermapbox\":[{\"marker\":{\"colorbar\":{\"outlinewidth\":0,\"ticks\":\"\"}},\"type\":\"scattermapbox\"}],\"scatterpolar\":[{\"marker\":{\"colorbar\":{\"outlinewidth\":0,\"ticks\":\"\"}},\"type\":\"scatterpolar\"}],\"scatterpolargl\":[{\"marker\":{\"colorbar\":{\"outlinewidth\":0,\"ticks\":\"\"}},\"type\":\"scatterpolargl\"}],\"scatterternary\":[{\"marker\":{\"colorbar\":{\"outlinewidth\":0,\"ticks\":\"\"}},\"type\":\"scatterternary\"}],\"surface\":[{\"colorbar\":{\"outlinewidth\":0,\"ticks\":\"\"},\"colorscale\":[[0.0,\"#0d0887\"],[0.1111111111111111,\"#46039f\"],[0.2222222222222222,\"#7201a8\"],[0.3333333333333333,\"#9c179e\"],[0.4444444444444444,\"#bd3786\"],[0.5555555555555556,\"#d8576b\"],[0.6666666666666666,\"#ed7953\"],[0.7777777777777778,\"#fb9f3a\"],[0.8888888888888888,\"#fdca26\"],[1.0,\"#f0f921\"]],\"type\":\"surface\"}],\"table\":[{\"cells\":{\"fill\":{\"color\":\"#EBF0F8\"},\"line\":{\"color\":\"white\"}},\"header\":{\"fill\":{\"color\":\"#C8D4E3\"},\"line\":{\"color\":\"white\"}},\"type\":\"table\"}]},\"layout\":{\"annotationdefaults\":{\"arrowcolor\":\"#2a3f5f\",\"arrowhead\":0,\"arrowwidth\":1},\"autotypenumbers\":\"strict\",\"coloraxis\":{\"colorbar\":{\"outlinewidth\":0,\"ticks\":\"\"}},\"colorscale\":{\"diverging\":[[0,\"#8e0152\"],[0.1,\"#c51b7d\"],[0.2,\"#de77ae\"],[0.3,\"#f1b6da\"],[0.4,\"#fde0ef\"],[0.5,\"#f7f7f7\"],[0.6,\"#e6f5d0\"],[0.7,\"#b8e186\"],[0.8,\"#7fbc41\"],[0.9,\"#4d9221\"],[1,\"#276419\"]],\"sequential\":[[0.0,\"#0d0887\"],[0.1111111111111111,\"#46039f\"],[0.2222222222222222,\"#7201a8\"],[0.3333333333333333,\"#9c179e\"],[0.4444444444444444,\"#bd3786\"],[0.5555555555555556,\"#d8576b\"],[0.6666666666666666,\"#ed7953\"],[0.7777777777777778,\"#fb9f3a\"],[0.8888888888888888,\"#fdca26\"],[1.0,\"#f0f921\"]],\"sequentialminus\":[[0.0,\"#0d0887\"],[0.1111111111111111,\"#46039f\"],[0.2222222222222222,\"#7201a8\"],[0.3333333333333333,\"#9c179e\"],[0.4444444444444444,\"#bd3786\"],[0.5555555555555556,\"#d8576b\"],[0.6666666666666666,\"#ed7953\"],[0.7777777777777778,\"#fb9f3a\"],[0.8888888888888888,\"#fdca26\"],[1.0,\"#f0f921\"]]},\"colorway\":[\"#636efa\",\"#EF553B\",\"#00cc96\",\"#ab63fa\",\"#FFA15A\",\"#19d3f3\",\"#FF6692\",\"#B6E880\",\"#FF97FF\",\"#FECB52\"],\"font\":{\"color\":\"#2a3f5f\"},\"geo\":{\"bgcolor\":\"white\",\"lakecolor\":\"white\",\"landcolor\":\"#E5ECF6\",\"showlakes\":true,\"showland\":true,\"subunitcolor\":\"white\"},\"hoverlabel\":{\"align\":\"left\"},\"hovermode\":\"closest\",\"mapbox\":{\"style\":\"light\"},\"paper_bgcolor\":\"white\",\"plot_bgcolor\":\"#E5ECF6\",\"polar\":{\"angularaxis\":{\"gridcolor\":\"white\",\"linecolor\":\"white\",\"ticks\":\"\"},\"bgcolor\":\"#E5ECF6\",\"radialaxis\":{\"gridcolor\":\"white\",\"linecolor\":\"white\",\"ticks\":\"\"}},\"scene\":{\"xaxis\":{\"backgroundcolor\":\"#E5ECF6\",\"gridcolor\":\"white\",\"gridwidth\":2,\"linecolor\":\"white\",\"showbackground\":true,\"ticks\":\"\",\"zerolinecolor\":\"white\"},\"yaxis\":{\"backgroundcolor\":\"#E5ECF6\",\"gridcolor\":\"white\",\"gridwidth\":2,\"linecolor\":\"white\",\"showbackground\":true,\"ticks\":\"\",\"zerolinecolor\":\"white\"},\"zaxis\":{\"backgroundcolor\":\"#E5ECF6\",\"gridcolor\":\"white\",\"gridwidth\":2,\"linecolor\":\"white\",\"showbackground\":true,\"ticks\":\"\",\"zerolinecolor\":\"white\"}},\"shapedefaults\":{\"line\":{\"color\":\"#2a3f5f\"}},\"ternary\":{\"aaxis\":{\"gridcolor\":\"white\",\"linecolor\":\"white\",\"ticks\":\"\"},\"baxis\":{\"gridcolor\":\"white\",\"linecolor\":\"white\",\"ticks\":\"\"},\"bgcolor\":\"#E5ECF6\",\"caxis\":{\"gridcolor\":\"white\",\"linecolor\":\"white\",\"ticks\":\"\"}},\"title\":{\"x\":0.05},\"xaxis\":{\"automargin\":true,\"gridcolor\":\"white\",\"linecolor\":\"white\",\"ticks\":\"\",\"title\":{\"standoff\":15},\"zerolinecolor\":\"white\",\"zerolinewidth\":2},\"yaxis\":{\"automargin\":true,\"gridcolor\":\"white\",\"linecolor\":\"white\",\"ticks\":\"\",\"title\":{\"standoff\":15},\"zerolinecolor\":\"white\",\"zerolinewidth\":2}}}},                        {\"responsive\": true}                    ).then(function(){\n",
              "                            \n",
              "var gd = document.getElementById('5dfd72ef-8809-48bd-82bd-c32c1eaf679c');\n",
              "var x = new MutationObserver(function (mutations, observer) {{\n",
              "        var display = window.getComputedStyle(gd).display;\n",
              "        if (!display || display === 'none') {{\n",
              "            console.log([gd, 'removed!']);\n",
              "            Plotly.purge(gd);\n",
              "            observer.disconnect();\n",
              "        }}\n",
              "}});\n",
              "\n",
              "// Listen for the removal of the full notebook cells\n",
              "var notebookContainer = gd.closest('#notebook-container');\n",
              "if (notebookContainer) {{\n",
              "    x.observe(notebookContainer, {childList: true});\n",
              "}}\n",
              "\n",
              "// Listen for the clearing of the current output cell\n",
              "var outputEl = gd.closest('.output');\n",
              "if (outputEl) {{\n",
              "    x.observe(outputEl, {childList: true});\n",
              "}}\n",
              "\n",
              "                        })                };                            </script>        </div>\n",
              "</body>\n",
              "</html>"
            ]
          },
          "metadata": {}
        }
      ]
    },
    {
      "cell_type": "code",
      "source": [
        "compute_and_visualize_alignments(\n",
        "    input_df=df_output, \n",
        "    target_year=2020, \n",
        "    period_start=34, \n",
        "    period_end=40, \n",
        "    target_dev_id=0, \n",
        "    top_k=1)"
      ],
      "metadata": {
        "colab": {
          "base_uri": "https://localhost:8080/",
          "height": 941
        },
        "id": "2-88uDK0E5Oe",
        "outputId": "71b7a271-a23f-4261-f7af-136eee3169f4"
      },
      "execution_count": 176,
      "outputs": [
        {
          "output_type": "stream",
          "name": "stdout",
          "text": [
            "Year: 2020\n",
            "Starting Week: 34\n",
            "Ending Week: 40\n",
            "Resulting dataframe records: 1156\n",
            "No. of unique devs in this period: 536\n",
            "- Producing developer fusion sequences...\n",
            "- Computing alignments...\n",
            "- Resulting alignments:\n",
            "-- Alignments at index: [(12, 656), (11, 655), (10, 654), (9, 653), (8, 652), (7, 651), (6, 650), (5, 649), (4, 648), (3, 647), (2, 646), (1, 645), (0, 644)]\talignment score: 0.989\n",
            "(12, 656) 36f30e486dce22345c2dd3a3ba439c12cd67f6ba 41af0d2ea1b03282b9f6da8b610ac30768893518\n",
            "(11, 655) bc21a291fc11bbd60868c45b9f5a79ceed97fd4e 36f30e486dce22345c2dd3a3ba439c12cd67f6ba\n",
            "(10, 654) b40341fad6cc2daa195f8090fd3348f18fff640a e27fec66f0a94e35a35548bd0b29ae616e62ec62\n",
            "(9, 653) ed46cd1d4cc4b2cf05f31fe25fc68d1a9d3589ba e27fec66f0a94e35a35548bd0b29ae616e62ec62\n",
            "(8, 652) c49a94405b39d3e3293da98f621fe4243f3cc4fa e27fec66f0a94e35a35548bd0b29ae616e62ec62\n",
            "(7, 651) 22881adf85934f220764636f0ec79a6124e93f64 36cfec73595ccbaf245b8d6ab31dadbff3962346\n",
            "(6, 650) bc9b9c5ab9d8d16157737db539929d57562926e9 d5be89a8d118a8e8d09cd74a921a808f17fbdd09\n",
            "(5, 649) d5be89a8d118a8e8d09cd74a921a808f17fbdd09 e27fec66f0a94e35a35548bd0b29ae616e62ec62\n",
            "(4, 648) 50df0eebbd49b894df7e5e3945d66cd80c322284 d5be89a8d118a8e8d09cd74a921a808f17fbdd09\n",
            "(3, 647) 204361a77f4018627addd4a06877448f088ddfc0 e27fec66f0a94e35a35548bd0b29ae616e62ec62\n",
            "(2, 646) dca5612f8eb9d0cf1dc254eb2adff1f16a588a7d e27fec66f0a94e35a35548bd0b29ae616e62ec62\n",
            "(1, 645) 5e0b17b026eb7c6de9baa9b0d45a51b05f05abe1 41af0d2ea1b03282b9f6da8b610ac30768893518\n",
            "(0, 644) 59c0d31988fb366189502a8ac66b7fe1486b7e40 e27fec66f0a94e35a35548bd0b29ae616e62ec62\n",
            "- Visualizing results\n"
          ]
        },
        {
          "output_type": "display_data",
          "data": {
            "text/html": [
              "<html>\n",
              "<head><meta charset=\"utf-8\" /></head>\n",
              "<body>\n",
              "    <div>            <script src=\"https://cdnjs.cloudflare.com/ajax/libs/mathjax/2.7.5/MathJax.js?config=TeX-AMS-MML_SVG\"></script><script type=\"text/javascript\">if (window.MathJax) {MathJax.Hub.Config({SVG: {font: \"STIX-Web\"}});}</script>                <script type=\"text/javascript\">window.PlotlyConfig = {MathJaxConfig: 'local'};</script>\n",
              "        <script src=\"https://cdn.plot.ly/plotly-2.8.3.min.js\"></script>                <div id=\"97fc06eb-1ae3-4e1b-8c15-113cd4ec4140\" class=\"plotly-graph-div\" style=\"height:525px; width:100%;\"></div>            <script type=\"text/javascript\">                                    window.PLOTLYENV=window.PLOTLYENV || {};                                    if (document.getElementById(\"97fc06eb-1ae3-4e1b-8c15-113cd4ec4140\")) {                    Plotly.newPlot(                        \"97fc06eb-1ae3-4e1b-8c15-113cd4ec4140\",                        [{\"line\":{\"color\":\"lightgray\"},\"showlegend\":false,\"x\":[12,13],\"y\":[1.5148648023605347,1.3271361589431763],\"type\":\"scatter\"},{\"line\":{\"color\":\"lightgray\"},\"showlegend\":false,\"x\":[11,31],\"y\":[1.8989101648330688,1.1648647785186768],\"type\":\"scatter\"},{\"line\":{\"color\":\"lightgray\"},\"showlegend\":false,\"x\":[10,12],\"y\":[1.612036943435669,1.4195069074630737],\"type\":\"scatter\"},{\"line\":{\"color\":\"lightgray\"},\"showlegend\":false,\"x\":[9,12],\"y\":[1.874422550201416,1.4195069074630737],\"type\":\"scatter\"},{\"line\":{\"color\":\"lightgray\"},\"showlegend\":false,\"x\":[8,12],\"y\":[1.4984325170516968,1.4195069074630737],\"type\":\"scatter\"},{\"line\":{\"color\":\"lightgray\"},\"showlegend\":false,\"x\":[7,23],\"y\":[1.953748345375061,1.5220669507980347],\"type\":\"scatter\"},{\"line\":{\"color\":\"lightgray\"},\"showlegend\":false,\"x\":[6,17],\"y\":[1.8786485195159912,1.2526088953018188],\"type\":\"scatter\"},{\"line\":{\"color\":\"lightgray\"},\"showlegend\":false,\"x\":[5,12],\"y\":[1.6026089191436768,1.4195069074630737],\"type\":\"scatter\"},{\"line\":{\"color\":\"lightgray\"},\"showlegend\":false,\"x\":[4,17],\"y\":[1.602518081665039,1.2526088953018188],\"type\":\"scatter\"},{\"line\":{\"color\":\"lightgray\"},\"showlegend\":false,\"x\":[3,12],\"y\":[1.6174745559692383,1.4195069074630737],\"type\":\"scatter\"},{\"line\":{\"color\":\"lightgray\"},\"showlegend\":false,\"x\":[2,12],\"y\":[1.9518378973007202,1.4195069074630737],\"type\":\"scatter\"},{\"line\":{\"color\":\"lightgray\"},\"showlegend\":false,\"x\":[1,13],\"y\":[1.8735629320144653,1.3271361589431763],\"type\":\"scatter\"},{\"line\":{\"color\":\"lightgray\"},\"showlegend\":false,\"x\":[0,12],\"y\":[1.8062280416488647,1.4195069074630737],\"type\":\"scatter\"},{\"hoverinfo\":\"text\",\"hovertext\":[\"norm: 1.806<br />effort: 0.526<br />density: 0.879<br />importance: 0.056<br />coverage: 0.731<br />quality: 0.731\",\"norm: 1.874<br />effort: 0.502<br />density: 1.000<br />importance: 0.021<br />coverage: 0.731<br />quality: 0.731\",\"norm: 1.952<br />effort: 0.489<br />density: 0.910<br />importance: 0.001<br />coverage: 0.982<br />quality: 0.731\",\"norm: 1.617<br />effort: 0.650<br />density: 0.308<br />importance: 0.143<br />coverage: 0.731<br />quality: 0.731\",\"norm: 1.603<br />effort: 0.500<br />density: 0.500<br />importance: 0.000<br />coverage: 0.731<br />quality: 0.731\",\"norm: 1.603<br />effort: 0.500<br />density: 0.500<br />importance: 0.010<br />coverage: 0.731<br />quality: 0.731\",\"norm: 1.879<br />effort: 0.508<br />density: 1.000<br />importance: 0.100<br />coverage: 0.731<br />quality: 0.731\",\"norm: 1.954<br />effort: 0.522<br />density: 0.926<br />importance: 0.002<br />coverage: 0.953<br />quality: 0.731\",\"norm: 1.498<br />effort: 0.000<br />density: 0.000<br />importance: 0.500<br />coverage: 0.731<br />quality: 0.731\",\"norm: 1.874<br />effort: 0.504<br />density: 1.000<br />importance: 0.030<br />coverage: 0.731<br />quality: 0.731\",\"norm: 1.612<br />effort: 0.508<br />density: 0.500<br />importance: 0.125<br />coverage: 0.731<br />quality: 0.731\",\"norm: 1.899<br />effort: 0.517<br />density: 1.000<br />importance: 0.250<br />coverage: 0.731<br />quality: 0.731\",\"norm: 1.515<br />effort: 0.500<br />density: 0.100<br />importance: 0.167<br />coverage: 0.731<br />quality: 0.731\"],\"line\":{\"color\":\"red\"},\"name\":\"Selected Developer\",\"x\":[0,1,2,3,4,5,6,7,8,9,10,11,12],\"y\":[1.8062280416488647,1.8735629320144653,1.9518378973007202,1.6174745559692383,1.602518081665039,1.6026089191436768,1.8786485195159912,1.953748345375061,1.4984325170516968,1.874422550201416,1.612036943435669,1.8989101648330688,1.5148648023605347],\"type\":\"scatter\"},{\"hoverinfo\":\"text\",\"hovertext\":[\"norm: 1.456<br />effort: 0.526<br />density: 0.879<br />importance: 0.056<br />coverage: 0.731<br />quality: 0.731\",\"norm: 1.524<br />effort: 0.502<br />density: 1.000<br />importance: 0.021<br />coverage: 0.731<br />quality: 0.731\",\"norm: 1.602<br />effort: 0.489<br />density: 0.910<br />importance: 0.001<br />coverage: 0.982<br />quality: 0.731\",\"norm: 1.472<br />effort: 0.506<br />density: 0.917<br />importance: 0.017<br />coverage: 0.731<br />quality: 0.731\",\"norm: 1.279<br />effort: 0.519<br />density: 0.519<br />importance: 0.167<br />coverage: 0.731<br />quality: 0.731\",\"norm: 1.424<br />effort: 0.508<br />density: 0.500<br />importance: 0.005<br />coverage: 0.993<br />quality: 0.731\",\"norm: 1.267<br />effort: 0.650<br />density: 0.308<br />importance: 0.143<br />coverage: 0.731<br />quality: 0.731\",\"norm: 1.523<br />effort: 0.500<br />density: 1.000<br />importance: 0.007<br />coverage: 0.731<br />quality: 0.731\",\"norm: 1.412<br />effort: 0.501<br />density: 0.750<br />importance: 0.333<br />coverage: 0.731<br />quality: 0.731\",\"norm: 1.253<br />effort: 0.500<br />density: 0.500<br />importance: 0.000<br />coverage: 0.731<br />quality: 0.731\",\"norm: 1.600<br />effort: 0.499<br />density: 1.000<br />importance: 0.006<br />coverage: 0.881<br />quality: 0.731\",\"norm: 1.379<br />effort: 0.500<br />density: 0.750<br />importance: 0.143<br />coverage: 0.731<br />quality: 0.731\",\"norm: 1.420<br />effort: 0.501<br />density: 0.833<br />importance: 0.016<br />coverage: 0.731<br />quality: 0.731\",\"norm: 1.327<br />effort: 0.517<br />density: 0.649<br />importance: 0.067<br />coverage: 0.731<br />quality: 0.731\",\"norm: 1.564<br />effort: 0.614<br />density: 1.000<br />importance: 0.033<br />coverage: 0.731<br />quality: 0.731\",\"norm: 1.660<br />effort: 0.505<br />density: 1.000<br />importance: 0.012<br />coverage: 0.982<br />quality: 0.731\",\"norm: 1.255<br />effort: 0.500<br />density: 0.500<br />importance: 0.077<br />coverage: 0.731<br />quality: 0.731\",\"norm: 1.253<br />effort: 0.500<br />density: 0.500<br />importance: 0.010<br />coverage: 0.731<br />quality: 0.731\",\"norm: 1.331<br />effort: 0.500<br />density: 0.667<br />importance: 0.091<br />coverage: 0.731<br />quality: 0.731\",\"norm: 1.529<br />effort: 0.508<br />density: 1.000<br />importance: 0.100<br />coverage: 0.731<br />quality: 0.731\",\"norm: 1.604<br />effort: 0.522<br />density: 0.926<br />importance: 0.002<br />coverage: 0.953<br />quality: 0.731\",\"norm: 1.524<br />effort: 0.500<br />density: 1.000<br />importance: 0.059<br />coverage: 0.731<br />quality: 0.731\",\"norm: 1.148<br />effort: 0.000<br />density: 0.000<br />importance: 0.500<br />coverage: 0.731<br />quality: 0.731\",\"norm: 1.522<br />effort: 0.499<br />density: 0.733<br />importance: 0.009<br />coverage: 0.998<br />quality: 0.731\",\"norm: 1.365<br />effort: 0.232<br />density: 0.524<br />importance: 0.001<br />coverage: 1.000<br />quality: 0.731\",\"norm: 1.523<br />effort: 0.499<br />density: 1.000<br />importance: 0.003<br />coverage: 0.731<br />quality: 0.731\",\"norm: 1.524<br />effort: 0.504<br />density: 1.000<br />importance: 0.030<br />coverage: 0.731<br />quality: 0.731\",\"norm: 1.253<br />effort: 0.500<br />density: 0.500<br />importance: 0.005<br />coverage: 0.731<br />quality: 0.731\",\"norm: 1.240<br />effort: 0.501<br />density: 0.467<br />importance: 0.026<br />coverage: 0.731<br />quality: 0.731\",\"norm: 1.262<br />effort: 0.508<br />density: 0.500<br />importance: 0.125<br />coverage: 0.731<br />quality: 0.731\",\"norm: 1.549<br />effort: 0.517<br />density: 1.000<br />importance: 0.250<br />coverage: 0.731<br />quality: 0.731\",\"norm: 1.165<br />effort: 0.500<br />density: 0.100<br />importance: 0.167<br />coverage: 0.731<br />quality: 0.731\",\"norm: 1.524<br />effort: 0.501<br />density: 1.000<br />importance: 0.056<br />coverage: 0.731<br />quality: 0.731\"],\"line\":{\"color\":\"blue\"},\"name\":\"All Developers\",\"x\":[0,1,2,3,4,5,6,7,8,9,10,11,12,13,14,15,16,17,18,19,20,21,22,23,24,25,26,27,28,29,30,31,32],\"y\":[1.4562280178070068,1.5235629081726074,1.6018378734588623,1.4716191291809082,1.2786107063293457,1.4244142770767212,1.2674745321273804,1.5228270292282104,1.4120506048202515,1.2525180578231812,1.5999314785003662,1.3790233135223389,1.4195069074630737,1.3271361589431763,1.5644443035125732,1.6595748662948608,1.2549078464508057,1.2526088953018188,1.3308848142623901,1.5286484956741333,1.6037483215332031,1.5239592790603638,1.1484324932098389,1.5220669507980347,1.3649663925170898,1.522591471672058,1.524422526359558,1.2525821924209595,1.2401983737945557,1.262036919593811,1.548910140991211,1.1648647785186768,1.524282693862915],\"type\":\"scatter\"}],                        {\"template\":{\"data\":{\"bar\":[{\"error_x\":{\"color\":\"#2a3f5f\"},\"error_y\":{\"color\":\"#2a3f5f\"},\"marker\":{\"line\":{\"color\":\"#E5ECF6\",\"width\":0.5},\"pattern\":{\"fillmode\":\"overlay\",\"size\":10,\"solidity\":0.2}},\"type\":\"bar\"}],\"barpolar\":[{\"marker\":{\"line\":{\"color\":\"#E5ECF6\",\"width\":0.5},\"pattern\":{\"fillmode\":\"overlay\",\"size\":10,\"solidity\":0.2}},\"type\":\"barpolar\"}],\"carpet\":[{\"aaxis\":{\"endlinecolor\":\"#2a3f5f\",\"gridcolor\":\"white\",\"linecolor\":\"white\",\"minorgridcolor\":\"white\",\"startlinecolor\":\"#2a3f5f\"},\"baxis\":{\"endlinecolor\":\"#2a3f5f\",\"gridcolor\":\"white\",\"linecolor\":\"white\",\"minorgridcolor\":\"white\",\"startlinecolor\":\"#2a3f5f\"},\"type\":\"carpet\"}],\"choropleth\":[{\"colorbar\":{\"outlinewidth\":0,\"ticks\":\"\"},\"type\":\"choropleth\"}],\"contour\":[{\"colorbar\":{\"outlinewidth\":0,\"ticks\":\"\"},\"colorscale\":[[0.0,\"#0d0887\"],[0.1111111111111111,\"#46039f\"],[0.2222222222222222,\"#7201a8\"],[0.3333333333333333,\"#9c179e\"],[0.4444444444444444,\"#bd3786\"],[0.5555555555555556,\"#d8576b\"],[0.6666666666666666,\"#ed7953\"],[0.7777777777777778,\"#fb9f3a\"],[0.8888888888888888,\"#fdca26\"],[1.0,\"#f0f921\"]],\"type\":\"contour\"}],\"contourcarpet\":[{\"colorbar\":{\"outlinewidth\":0,\"ticks\":\"\"},\"type\":\"contourcarpet\"}],\"heatmap\":[{\"colorbar\":{\"outlinewidth\":0,\"ticks\":\"\"},\"colorscale\":[[0.0,\"#0d0887\"],[0.1111111111111111,\"#46039f\"],[0.2222222222222222,\"#7201a8\"],[0.3333333333333333,\"#9c179e\"],[0.4444444444444444,\"#bd3786\"],[0.5555555555555556,\"#d8576b\"],[0.6666666666666666,\"#ed7953\"],[0.7777777777777778,\"#fb9f3a\"],[0.8888888888888888,\"#fdca26\"],[1.0,\"#f0f921\"]],\"type\":\"heatmap\"}],\"heatmapgl\":[{\"colorbar\":{\"outlinewidth\":0,\"ticks\":\"\"},\"colorscale\":[[0.0,\"#0d0887\"],[0.1111111111111111,\"#46039f\"],[0.2222222222222222,\"#7201a8\"],[0.3333333333333333,\"#9c179e\"],[0.4444444444444444,\"#bd3786\"],[0.5555555555555556,\"#d8576b\"],[0.6666666666666666,\"#ed7953\"],[0.7777777777777778,\"#fb9f3a\"],[0.8888888888888888,\"#fdca26\"],[1.0,\"#f0f921\"]],\"type\":\"heatmapgl\"}],\"histogram\":[{\"marker\":{\"pattern\":{\"fillmode\":\"overlay\",\"size\":10,\"solidity\":0.2}},\"type\":\"histogram\"}],\"histogram2d\":[{\"colorbar\":{\"outlinewidth\":0,\"ticks\":\"\"},\"colorscale\":[[0.0,\"#0d0887\"],[0.1111111111111111,\"#46039f\"],[0.2222222222222222,\"#7201a8\"],[0.3333333333333333,\"#9c179e\"],[0.4444444444444444,\"#bd3786\"],[0.5555555555555556,\"#d8576b\"],[0.6666666666666666,\"#ed7953\"],[0.7777777777777778,\"#fb9f3a\"],[0.8888888888888888,\"#fdca26\"],[1.0,\"#f0f921\"]],\"type\":\"histogram2d\"}],\"histogram2dcontour\":[{\"colorbar\":{\"outlinewidth\":0,\"ticks\":\"\"},\"colorscale\":[[0.0,\"#0d0887\"],[0.1111111111111111,\"#46039f\"],[0.2222222222222222,\"#7201a8\"],[0.3333333333333333,\"#9c179e\"],[0.4444444444444444,\"#bd3786\"],[0.5555555555555556,\"#d8576b\"],[0.6666666666666666,\"#ed7953\"],[0.7777777777777778,\"#fb9f3a\"],[0.8888888888888888,\"#fdca26\"],[1.0,\"#f0f921\"]],\"type\":\"histogram2dcontour\"}],\"mesh3d\":[{\"colorbar\":{\"outlinewidth\":0,\"ticks\":\"\"},\"type\":\"mesh3d\"}],\"parcoords\":[{\"line\":{\"colorbar\":{\"outlinewidth\":0,\"ticks\":\"\"}},\"type\":\"parcoords\"}],\"pie\":[{\"automargin\":true,\"type\":\"pie\"}],\"scatter\":[{\"marker\":{\"colorbar\":{\"outlinewidth\":0,\"ticks\":\"\"}},\"type\":\"scatter\"}],\"scatter3d\":[{\"line\":{\"colorbar\":{\"outlinewidth\":0,\"ticks\":\"\"}},\"marker\":{\"colorbar\":{\"outlinewidth\":0,\"ticks\":\"\"}},\"type\":\"scatter3d\"}],\"scattercarpet\":[{\"marker\":{\"colorbar\":{\"outlinewidth\":0,\"ticks\":\"\"}},\"type\":\"scattercarpet\"}],\"scattergeo\":[{\"marker\":{\"colorbar\":{\"outlinewidth\":0,\"ticks\":\"\"}},\"type\":\"scattergeo\"}],\"scattergl\":[{\"marker\":{\"colorbar\":{\"outlinewidth\":0,\"ticks\":\"\"}},\"type\":\"scattergl\"}],\"scattermapbox\":[{\"marker\":{\"colorbar\":{\"outlinewidth\":0,\"ticks\":\"\"}},\"type\":\"scattermapbox\"}],\"scatterpolar\":[{\"marker\":{\"colorbar\":{\"outlinewidth\":0,\"ticks\":\"\"}},\"type\":\"scatterpolar\"}],\"scatterpolargl\":[{\"marker\":{\"colorbar\":{\"outlinewidth\":0,\"ticks\":\"\"}},\"type\":\"scatterpolargl\"}],\"scatterternary\":[{\"marker\":{\"colorbar\":{\"outlinewidth\":0,\"ticks\":\"\"}},\"type\":\"scatterternary\"}],\"surface\":[{\"colorbar\":{\"outlinewidth\":0,\"ticks\":\"\"},\"colorscale\":[[0.0,\"#0d0887\"],[0.1111111111111111,\"#46039f\"],[0.2222222222222222,\"#7201a8\"],[0.3333333333333333,\"#9c179e\"],[0.4444444444444444,\"#bd3786\"],[0.5555555555555556,\"#d8576b\"],[0.6666666666666666,\"#ed7953\"],[0.7777777777777778,\"#fb9f3a\"],[0.8888888888888888,\"#fdca26\"],[1.0,\"#f0f921\"]],\"type\":\"surface\"}],\"table\":[{\"cells\":{\"fill\":{\"color\":\"#EBF0F8\"},\"line\":{\"color\":\"white\"}},\"header\":{\"fill\":{\"color\":\"#C8D4E3\"},\"line\":{\"color\":\"white\"}},\"type\":\"table\"}]},\"layout\":{\"annotationdefaults\":{\"arrowcolor\":\"#2a3f5f\",\"arrowhead\":0,\"arrowwidth\":1},\"autotypenumbers\":\"strict\",\"coloraxis\":{\"colorbar\":{\"outlinewidth\":0,\"ticks\":\"\"}},\"colorscale\":{\"diverging\":[[0,\"#8e0152\"],[0.1,\"#c51b7d\"],[0.2,\"#de77ae\"],[0.3,\"#f1b6da\"],[0.4,\"#fde0ef\"],[0.5,\"#f7f7f7\"],[0.6,\"#e6f5d0\"],[0.7,\"#b8e186\"],[0.8,\"#7fbc41\"],[0.9,\"#4d9221\"],[1,\"#276419\"]],\"sequential\":[[0.0,\"#0d0887\"],[0.1111111111111111,\"#46039f\"],[0.2222222222222222,\"#7201a8\"],[0.3333333333333333,\"#9c179e\"],[0.4444444444444444,\"#bd3786\"],[0.5555555555555556,\"#d8576b\"],[0.6666666666666666,\"#ed7953\"],[0.7777777777777778,\"#fb9f3a\"],[0.8888888888888888,\"#fdca26\"],[1.0,\"#f0f921\"]],\"sequentialminus\":[[0.0,\"#0d0887\"],[0.1111111111111111,\"#46039f\"],[0.2222222222222222,\"#7201a8\"],[0.3333333333333333,\"#9c179e\"],[0.4444444444444444,\"#bd3786\"],[0.5555555555555556,\"#d8576b\"],[0.6666666666666666,\"#ed7953\"],[0.7777777777777778,\"#fb9f3a\"],[0.8888888888888888,\"#fdca26\"],[1.0,\"#f0f921\"]]},\"colorway\":[\"#636efa\",\"#EF553B\",\"#00cc96\",\"#ab63fa\",\"#FFA15A\",\"#19d3f3\",\"#FF6692\",\"#B6E880\",\"#FF97FF\",\"#FECB52\"],\"font\":{\"color\":\"#2a3f5f\"},\"geo\":{\"bgcolor\":\"white\",\"lakecolor\":\"white\",\"landcolor\":\"#E5ECF6\",\"showlakes\":true,\"showland\":true,\"subunitcolor\":\"white\"},\"hoverlabel\":{\"align\":\"left\"},\"hovermode\":\"closest\",\"mapbox\":{\"style\":\"light\"},\"paper_bgcolor\":\"white\",\"plot_bgcolor\":\"#E5ECF6\",\"polar\":{\"angularaxis\":{\"gridcolor\":\"white\",\"linecolor\":\"white\",\"ticks\":\"\"},\"bgcolor\":\"#E5ECF6\",\"radialaxis\":{\"gridcolor\":\"white\",\"linecolor\":\"white\",\"ticks\":\"\"}},\"scene\":{\"xaxis\":{\"backgroundcolor\":\"#E5ECF6\",\"gridcolor\":\"white\",\"gridwidth\":2,\"linecolor\":\"white\",\"showbackground\":true,\"ticks\":\"\",\"zerolinecolor\":\"white\"},\"yaxis\":{\"backgroundcolor\":\"#E5ECF6\",\"gridcolor\":\"white\",\"gridwidth\":2,\"linecolor\":\"white\",\"showbackground\":true,\"ticks\":\"\",\"zerolinecolor\":\"white\"},\"zaxis\":{\"backgroundcolor\":\"#E5ECF6\",\"gridcolor\":\"white\",\"gridwidth\":2,\"linecolor\":\"white\",\"showbackground\":true,\"ticks\":\"\",\"zerolinecolor\":\"white\"}},\"shapedefaults\":{\"line\":{\"color\":\"#2a3f5f\"}},\"ternary\":{\"aaxis\":{\"gridcolor\":\"white\",\"linecolor\":\"white\",\"ticks\":\"\"},\"baxis\":{\"gridcolor\":\"white\",\"linecolor\":\"white\",\"ticks\":\"\"},\"bgcolor\":\"#E5ECF6\",\"caxis\":{\"gridcolor\":\"white\",\"linecolor\":\"white\",\"ticks\":\"\"}},\"title\":{\"x\":0.05},\"xaxis\":{\"automargin\":true,\"gridcolor\":\"white\",\"linecolor\":\"white\",\"ticks\":\"\",\"title\":{\"standoff\":15},\"zerolinecolor\":\"white\",\"zerolinewidth\":2},\"yaxis\":{\"automargin\":true,\"gridcolor\":\"white\",\"linecolor\":\"white\",\"ticks\":\"\",\"title\":{\"standoff\":15},\"zerolinecolor\":\"white\",\"zerolinewidth\":2}}}},                        {\"responsive\": true}                    ).then(function(){\n",
              "                            \n",
              "var gd = document.getElementById('97fc06eb-1ae3-4e1b-8c15-113cd4ec4140');\n",
              "var x = new MutationObserver(function (mutations, observer) {{\n",
              "        var display = window.getComputedStyle(gd).display;\n",
              "        if (!display || display === 'none') {{\n",
              "            console.log([gd, 'removed!']);\n",
              "            Plotly.purge(gd);\n",
              "            observer.disconnect();\n",
              "        }}\n",
              "}});\n",
              "\n",
              "// Listen for the removal of the full notebook cells\n",
              "var notebookContainer = gd.closest('#notebook-container');\n",
              "if (notebookContainer) {{\n",
              "    x.observe(notebookContainer, {childList: true});\n",
              "}}\n",
              "\n",
              "// Listen for the clearing of the current output cell\n",
              "var outputEl = gd.closest('.output');\n",
              "if (outputEl) {{\n",
              "    x.observe(outputEl, {childList: true});\n",
              "}}\n",
              "\n",
              "                        })                };                            </script>        </div>\n",
              "</body>\n",
              "</html>"
            ]
          },
          "metadata": {}
        }
      ]
    },
    {
      "cell_type": "code",
      "source": [
        "compute_and_visualize_alignments(\n",
        "    input_df=df_output, \n",
        "    target_year=2020, \n",
        "    period_start=34, \n",
        "    period_end=40, \n",
        "    target_dev_id=3, \n",
        "    top_k=1)"
      ],
      "metadata": {
        "colab": {
          "base_uri": "https://localhost:8080/",
          "height": 768
        },
        "id": "z3a4k37rGIUL",
        "outputId": "6a9ebb55-d089-4428-97d8-35fdad045c88"
      },
      "execution_count": 177,
      "outputs": [
        {
          "output_type": "stream",
          "name": "stdout",
          "text": [
            "Year: 2020\n",
            "Starting Week: 34\n",
            "Ending Week: 40\n",
            "Resulting dataframe records: 1156\n",
            "No. of unique devs in this period: 536\n",
            "- Producing developer fusion sequences...\n",
            "- Computing alignments...\n",
            "- Resulting alignments:\n",
            "-- Alignments at index: [(2, 535), (1, 534), (0, 533)]\talignment score: 0.998\n",
            "(2, 535) 36f30e486dce22345c2dd3a3ba439c12cd67f6ba 36f30e486dce22345c2dd3a3ba439c12cd67f6ba\n",
            "(1, 534) ed46cd1d4cc4b2cf05f31fe25fc68d1a9d3589ba ed46cd1d4cc4b2cf05f31fe25fc68d1a9d3589ba\n",
            "(0, 533) 59c0d31988fb366189502a8ac66b7fe1486b7e40 bc9b9c5ab9d8d16157737db539929d57562926e9\n",
            "- Visualizing results\n"
          ]
        },
        {
          "output_type": "display_data",
          "data": {
            "text/html": [
              "<html>\n",
              "<head><meta charset=\"utf-8\" /></head>\n",
              "<body>\n",
              "    <div>            <script src=\"https://cdnjs.cloudflare.com/ajax/libs/mathjax/2.7.5/MathJax.js?config=TeX-AMS-MML_SVG\"></script><script type=\"text/javascript\">if (window.MathJax) {MathJax.Hub.Config({SVG: {font: \"STIX-Web\"}});}</script>                <script type=\"text/javascript\">window.PlotlyConfig = {MathJaxConfig: 'local'};</script>\n",
              "        <script src=\"https://cdn.plot.ly/plotly-2.8.3.min.js\"></script>                <div id=\"0f85dcb1-0e89-4a7a-a9c4-e289a62e698a\" class=\"plotly-graph-div\" style=\"height:525px; width:100%;\"></div>            <script type=\"text/javascript\">                                    window.PLOTLYENV=window.PLOTLYENV || {};                                    if (document.getElementById(\"0f85dcb1-0e89-4a7a-a9c4-e289a62e698a\")) {                    Plotly.newPlot(                        \"0f85dcb1-0e89-4a7a-a9c4-e289a62e698a\",                        [{\"line\":{\"color\":\"lightgray\"},\"showlegend\":false,\"x\":[2,31],\"y\":[1.5148648023605347,1.1648647785186768],\"type\":\"scatter\"},{\"line\":{\"color\":\"lightgray\"},\"showlegend\":false,\"x\":[1,26],\"y\":[1.874422550201416,1.524422526359558],\"type\":\"scatter\"},{\"line\":{\"color\":\"lightgray\"},\"showlegend\":false,\"x\":[0,19],\"y\":[1.8062280416488647,1.5286484956741333],\"type\":\"scatter\"},{\"hoverinfo\":\"text\",\"hovertext\":[\"norm: 1.806<br />effort: 0.526<br />density: 0.879<br />importance: 0.056<br />coverage: 0.731<br />quality: 0.731\",\"norm: 1.874<br />effort: 0.504<br />density: 1.000<br />importance: 0.030<br />coverage: 0.731<br />quality: 0.731\",\"norm: 1.515<br />effort: 0.500<br />density: 0.100<br />importance: 0.167<br />coverage: 0.731<br />quality: 0.731\"],\"line\":{\"color\":\"red\"},\"name\":\"Selected Developer\",\"x\":[0,1,2],\"y\":[1.8062280416488647,1.874422550201416,1.5148648023605347],\"type\":\"scatter\"},{\"hoverinfo\":\"text\",\"hovertext\":[\"norm: 1.456<br />effort: 0.526<br />density: 0.879<br />importance: 0.056<br />coverage: 0.731<br />quality: 0.731\",\"norm: 1.524<br />effort: 0.502<br />density: 1.000<br />importance: 0.021<br />coverage: 0.731<br />quality: 0.731\",\"norm: 1.602<br />effort: 0.489<br />density: 0.910<br />importance: 0.001<br />coverage: 0.982<br />quality: 0.731\",\"norm: 1.472<br />effort: 0.506<br />density: 0.917<br />importance: 0.017<br />coverage: 0.731<br />quality: 0.731\",\"norm: 1.279<br />effort: 0.519<br />density: 0.519<br />importance: 0.167<br />coverage: 0.731<br />quality: 0.731\",\"norm: 1.424<br />effort: 0.508<br />density: 0.500<br />importance: 0.005<br />coverage: 0.993<br />quality: 0.731\",\"norm: 1.267<br />effort: 0.650<br />density: 0.308<br />importance: 0.143<br />coverage: 0.731<br />quality: 0.731\",\"norm: 1.523<br />effort: 0.500<br />density: 1.000<br />importance: 0.007<br />coverage: 0.731<br />quality: 0.731\",\"norm: 1.412<br />effort: 0.501<br />density: 0.750<br />importance: 0.333<br />coverage: 0.731<br />quality: 0.731\",\"norm: 1.253<br />effort: 0.500<br />density: 0.500<br />importance: 0.000<br />coverage: 0.731<br />quality: 0.731\",\"norm: 1.600<br />effort: 0.499<br />density: 1.000<br />importance: 0.006<br />coverage: 0.881<br />quality: 0.731\",\"norm: 1.379<br />effort: 0.500<br />density: 0.750<br />importance: 0.143<br />coverage: 0.731<br />quality: 0.731\",\"norm: 1.420<br />effort: 0.501<br />density: 0.833<br />importance: 0.016<br />coverage: 0.731<br />quality: 0.731\",\"norm: 1.327<br />effort: 0.517<br />density: 0.649<br />importance: 0.067<br />coverage: 0.731<br />quality: 0.731\",\"norm: 1.564<br />effort: 0.614<br />density: 1.000<br />importance: 0.033<br />coverage: 0.731<br />quality: 0.731\",\"norm: 1.660<br />effort: 0.505<br />density: 1.000<br />importance: 0.012<br />coverage: 0.982<br />quality: 0.731\",\"norm: 1.255<br />effort: 0.500<br />density: 0.500<br />importance: 0.077<br />coverage: 0.731<br />quality: 0.731\",\"norm: 1.253<br />effort: 0.500<br />density: 0.500<br />importance: 0.010<br />coverage: 0.731<br />quality: 0.731\",\"norm: 1.331<br />effort: 0.500<br />density: 0.667<br />importance: 0.091<br />coverage: 0.731<br />quality: 0.731\",\"norm: 1.529<br />effort: 0.508<br />density: 1.000<br />importance: 0.100<br />coverage: 0.731<br />quality: 0.731\",\"norm: 1.604<br />effort: 0.522<br />density: 0.926<br />importance: 0.002<br />coverage: 0.953<br />quality: 0.731\",\"norm: 1.524<br />effort: 0.500<br />density: 1.000<br />importance: 0.059<br />coverage: 0.731<br />quality: 0.731\",\"norm: 1.148<br />effort: 0.000<br />density: 0.000<br />importance: 0.500<br />coverage: 0.731<br />quality: 0.731\",\"norm: 1.522<br />effort: 0.499<br />density: 0.733<br />importance: 0.009<br />coverage: 0.998<br />quality: 0.731\",\"norm: 1.365<br />effort: 0.232<br />density: 0.524<br />importance: 0.001<br />coverage: 1.000<br />quality: 0.731\",\"norm: 1.523<br />effort: 0.499<br />density: 1.000<br />importance: 0.003<br />coverage: 0.731<br />quality: 0.731\",\"norm: 1.524<br />effort: 0.504<br />density: 1.000<br />importance: 0.030<br />coverage: 0.731<br />quality: 0.731\",\"norm: 1.253<br />effort: 0.500<br />density: 0.500<br />importance: 0.005<br />coverage: 0.731<br />quality: 0.731\",\"norm: 1.240<br />effort: 0.501<br />density: 0.467<br />importance: 0.026<br />coverage: 0.731<br />quality: 0.731\",\"norm: 1.262<br />effort: 0.508<br />density: 0.500<br />importance: 0.125<br />coverage: 0.731<br />quality: 0.731\",\"norm: 1.549<br />effort: 0.517<br />density: 1.000<br />importance: 0.250<br />coverage: 0.731<br />quality: 0.731\",\"norm: 1.165<br />effort: 0.500<br />density: 0.100<br />importance: 0.167<br />coverage: 0.731<br />quality: 0.731\",\"norm: 1.524<br />effort: 0.501<br />density: 1.000<br />importance: 0.056<br />coverage: 0.731<br />quality: 0.731\"],\"line\":{\"color\":\"blue\"},\"name\":\"All Developers\",\"x\":[0,1,2,3,4,5,6,7,8,9,10,11,12,13,14,15,16,17,18,19,20,21,22,23,24,25,26,27,28,29,30,31,32],\"y\":[1.4562280178070068,1.5235629081726074,1.6018378734588623,1.4716191291809082,1.2786107063293457,1.4244142770767212,1.2674745321273804,1.5228270292282104,1.4120506048202515,1.2525180578231812,1.5999314785003662,1.3790233135223389,1.4195069074630737,1.3271361589431763,1.5644443035125732,1.6595748662948608,1.2549078464508057,1.2526088953018188,1.3308848142623901,1.5286484956741333,1.6037483215332031,1.5239592790603638,1.1484324932098389,1.5220669507980347,1.3649663925170898,1.522591471672058,1.524422526359558,1.2525821924209595,1.2401983737945557,1.262036919593811,1.548910140991211,1.1648647785186768,1.524282693862915],\"type\":\"scatter\"}],                        {\"template\":{\"data\":{\"bar\":[{\"error_x\":{\"color\":\"#2a3f5f\"},\"error_y\":{\"color\":\"#2a3f5f\"},\"marker\":{\"line\":{\"color\":\"#E5ECF6\",\"width\":0.5},\"pattern\":{\"fillmode\":\"overlay\",\"size\":10,\"solidity\":0.2}},\"type\":\"bar\"}],\"barpolar\":[{\"marker\":{\"line\":{\"color\":\"#E5ECF6\",\"width\":0.5},\"pattern\":{\"fillmode\":\"overlay\",\"size\":10,\"solidity\":0.2}},\"type\":\"barpolar\"}],\"carpet\":[{\"aaxis\":{\"endlinecolor\":\"#2a3f5f\",\"gridcolor\":\"white\",\"linecolor\":\"white\",\"minorgridcolor\":\"white\",\"startlinecolor\":\"#2a3f5f\"},\"baxis\":{\"endlinecolor\":\"#2a3f5f\",\"gridcolor\":\"white\",\"linecolor\":\"white\",\"minorgridcolor\":\"white\",\"startlinecolor\":\"#2a3f5f\"},\"type\":\"carpet\"}],\"choropleth\":[{\"colorbar\":{\"outlinewidth\":0,\"ticks\":\"\"},\"type\":\"choropleth\"}],\"contour\":[{\"colorbar\":{\"outlinewidth\":0,\"ticks\":\"\"},\"colorscale\":[[0.0,\"#0d0887\"],[0.1111111111111111,\"#46039f\"],[0.2222222222222222,\"#7201a8\"],[0.3333333333333333,\"#9c179e\"],[0.4444444444444444,\"#bd3786\"],[0.5555555555555556,\"#d8576b\"],[0.6666666666666666,\"#ed7953\"],[0.7777777777777778,\"#fb9f3a\"],[0.8888888888888888,\"#fdca26\"],[1.0,\"#f0f921\"]],\"type\":\"contour\"}],\"contourcarpet\":[{\"colorbar\":{\"outlinewidth\":0,\"ticks\":\"\"},\"type\":\"contourcarpet\"}],\"heatmap\":[{\"colorbar\":{\"outlinewidth\":0,\"ticks\":\"\"},\"colorscale\":[[0.0,\"#0d0887\"],[0.1111111111111111,\"#46039f\"],[0.2222222222222222,\"#7201a8\"],[0.3333333333333333,\"#9c179e\"],[0.4444444444444444,\"#bd3786\"],[0.5555555555555556,\"#d8576b\"],[0.6666666666666666,\"#ed7953\"],[0.7777777777777778,\"#fb9f3a\"],[0.8888888888888888,\"#fdca26\"],[1.0,\"#f0f921\"]],\"type\":\"heatmap\"}],\"heatmapgl\":[{\"colorbar\":{\"outlinewidth\":0,\"ticks\":\"\"},\"colorscale\":[[0.0,\"#0d0887\"],[0.1111111111111111,\"#46039f\"],[0.2222222222222222,\"#7201a8\"],[0.3333333333333333,\"#9c179e\"],[0.4444444444444444,\"#bd3786\"],[0.5555555555555556,\"#d8576b\"],[0.6666666666666666,\"#ed7953\"],[0.7777777777777778,\"#fb9f3a\"],[0.8888888888888888,\"#fdca26\"],[1.0,\"#f0f921\"]],\"type\":\"heatmapgl\"}],\"histogram\":[{\"marker\":{\"pattern\":{\"fillmode\":\"overlay\",\"size\":10,\"solidity\":0.2}},\"type\":\"histogram\"}],\"histogram2d\":[{\"colorbar\":{\"outlinewidth\":0,\"ticks\":\"\"},\"colorscale\":[[0.0,\"#0d0887\"],[0.1111111111111111,\"#46039f\"],[0.2222222222222222,\"#7201a8\"],[0.3333333333333333,\"#9c179e\"],[0.4444444444444444,\"#bd3786\"],[0.5555555555555556,\"#d8576b\"],[0.6666666666666666,\"#ed7953\"],[0.7777777777777778,\"#fb9f3a\"],[0.8888888888888888,\"#fdca26\"],[1.0,\"#f0f921\"]],\"type\":\"histogram2d\"}],\"histogram2dcontour\":[{\"colorbar\":{\"outlinewidth\":0,\"ticks\":\"\"},\"colorscale\":[[0.0,\"#0d0887\"],[0.1111111111111111,\"#46039f\"],[0.2222222222222222,\"#7201a8\"],[0.3333333333333333,\"#9c179e\"],[0.4444444444444444,\"#bd3786\"],[0.5555555555555556,\"#d8576b\"],[0.6666666666666666,\"#ed7953\"],[0.7777777777777778,\"#fb9f3a\"],[0.8888888888888888,\"#fdca26\"],[1.0,\"#f0f921\"]],\"type\":\"histogram2dcontour\"}],\"mesh3d\":[{\"colorbar\":{\"outlinewidth\":0,\"ticks\":\"\"},\"type\":\"mesh3d\"}],\"parcoords\":[{\"line\":{\"colorbar\":{\"outlinewidth\":0,\"ticks\":\"\"}},\"type\":\"parcoords\"}],\"pie\":[{\"automargin\":true,\"type\":\"pie\"}],\"scatter\":[{\"marker\":{\"colorbar\":{\"outlinewidth\":0,\"ticks\":\"\"}},\"type\":\"scatter\"}],\"scatter3d\":[{\"line\":{\"colorbar\":{\"outlinewidth\":0,\"ticks\":\"\"}},\"marker\":{\"colorbar\":{\"outlinewidth\":0,\"ticks\":\"\"}},\"type\":\"scatter3d\"}],\"scattercarpet\":[{\"marker\":{\"colorbar\":{\"outlinewidth\":0,\"ticks\":\"\"}},\"type\":\"scattercarpet\"}],\"scattergeo\":[{\"marker\":{\"colorbar\":{\"outlinewidth\":0,\"ticks\":\"\"}},\"type\":\"scattergeo\"}],\"scattergl\":[{\"marker\":{\"colorbar\":{\"outlinewidth\":0,\"ticks\":\"\"}},\"type\":\"scattergl\"}],\"scattermapbox\":[{\"marker\":{\"colorbar\":{\"outlinewidth\":0,\"ticks\":\"\"}},\"type\":\"scattermapbox\"}],\"scatterpolar\":[{\"marker\":{\"colorbar\":{\"outlinewidth\":0,\"ticks\":\"\"}},\"type\":\"scatterpolar\"}],\"scatterpolargl\":[{\"marker\":{\"colorbar\":{\"outlinewidth\":0,\"ticks\":\"\"}},\"type\":\"scatterpolargl\"}],\"scatterternary\":[{\"marker\":{\"colorbar\":{\"outlinewidth\":0,\"ticks\":\"\"}},\"type\":\"scatterternary\"}],\"surface\":[{\"colorbar\":{\"outlinewidth\":0,\"ticks\":\"\"},\"colorscale\":[[0.0,\"#0d0887\"],[0.1111111111111111,\"#46039f\"],[0.2222222222222222,\"#7201a8\"],[0.3333333333333333,\"#9c179e\"],[0.4444444444444444,\"#bd3786\"],[0.5555555555555556,\"#d8576b\"],[0.6666666666666666,\"#ed7953\"],[0.7777777777777778,\"#fb9f3a\"],[0.8888888888888888,\"#fdca26\"],[1.0,\"#f0f921\"]],\"type\":\"surface\"}],\"table\":[{\"cells\":{\"fill\":{\"color\":\"#EBF0F8\"},\"line\":{\"color\":\"white\"}},\"header\":{\"fill\":{\"color\":\"#C8D4E3\"},\"line\":{\"color\":\"white\"}},\"type\":\"table\"}]},\"layout\":{\"annotationdefaults\":{\"arrowcolor\":\"#2a3f5f\",\"arrowhead\":0,\"arrowwidth\":1},\"autotypenumbers\":\"strict\",\"coloraxis\":{\"colorbar\":{\"outlinewidth\":0,\"ticks\":\"\"}},\"colorscale\":{\"diverging\":[[0,\"#8e0152\"],[0.1,\"#c51b7d\"],[0.2,\"#de77ae\"],[0.3,\"#f1b6da\"],[0.4,\"#fde0ef\"],[0.5,\"#f7f7f7\"],[0.6,\"#e6f5d0\"],[0.7,\"#b8e186\"],[0.8,\"#7fbc41\"],[0.9,\"#4d9221\"],[1,\"#276419\"]],\"sequential\":[[0.0,\"#0d0887\"],[0.1111111111111111,\"#46039f\"],[0.2222222222222222,\"#7201a8\"],[0.3333333333333333,\"#9c179e\"],[0.4444444444444444,\"#bd3786\"],[0.5555555555555556,\"#d8576b\"],[0.6666666666666666,\"#ed7953\"],[0.7777777777777778,\"#fb9f3a\"],[0.8888888888888888,\"#fdca26\"],[1.0,\"#f0f921\"]],\"sequentialminus\":[[0.0,\"#0d0887\"],[0.1111111111111111,\"#46039f\"],[0.2222222222222222,\"#7201a8\"],[0.3333333333333333,\"#9c179e\"],[0.4444444444444444,\"#bd3786\"],[0.5555555555555556,\"#d8576b\"],[0.6666666666666666,\"#ed7953\"],[0.7777777777777778,\"#fb9f3a\"],[0.8888888888888888,\"#fdca26\"],[1.0,\"#f0f921\"]]},\"colorway\":[\"#636efa\",\"#EF553B\",\"#00cc96\",\"#ab63fa\",\"#FFA15A\",\"#19d3f3\",\"#FF6692\",\"#B6E880\",\"#FF97FF\",\"#FECB52\"],\"font\":{\"color\":\"#2a3f5f\"},\"geo\":{\"bgcolor\":\"white\",\"lakecolor\":\"white\",\"landcolor\":\"#E5ECF6\",\"showlakes\":true,\"showland\":true,\"subunitcolor\":\"white\"},\"hoverlabel\":{\"align\":\"left\"},\"hovermode\":\"closest\",\"mapbox\":{\"style\":\"light\"},\"paper_bgcolor\":\"white\",\"plot_bgcolor\":\"#E5ECF6\",\"polar\":{\"angularaxis\":{\"gridcolor\":\"white\",\"linecolor\":\"white\",\"ticks\":\"\"},\"bgcolor\":\"#E5ECF6\",\"radialaxis\":{\"gridcolor\":\"white\",\"linecolor\":\"white\",\"ticks\":\"\"}},\"scene\":{\"xaxis\":{\"backgroundcolor\":\"#E5ECF6\",\"gridcolor\":\"white\",\"gridwidth\":2,\"linecolor\":\"white\",\"showbackground\":true,\"ticks\":\"\",\"zerolinecolor\":\"white\"},\"yaxis\":{\"backgroundcolor\":\"#E5ECF6\",\"gridcolor\":\"white\",\"gridwidth\":2,\"linecolor\":\"white\",\"showbackground\":true,\"ticks\":\"\",\"zerolinecolor\":\"white\"},\"zaxis\":{\"backgroundcolor\":\"#E5ECF6\",\"gridcolor\":\"white\",\"gridwidth\":2,\"linecolor\":\"white\",\"showbackground\":true,\"ticks\":\"\",\"zerolinecolor\":\"white\"}},\"shapedefaults\":{\"line\":{\"color\":\"#2a3f5f\"}},\"ternary\":{\"aaxis\":{\"gridcolor\":\"white\",\"linecolor\":\"white\",\"ticks\":\"\"},\"baxis\":{\"gridcolor\":\"white\",\"linecolor\":\"white\",\"ticks\":\"\"},\"bgcolor\":\"#E5ECF6\",\"caxis\":{\"gridcolor\":\"white\",\"linecolor\":\"white\",\"ticks\":\"\"}},\"title\":{\"x\":0.05},\"xaxis\":{\"automargin\":true,\"gridcolor\":\"white\",\"linecolor\":\"white\",\"ticks\":\"\",\"title\":{\"standoff\":15},\"zerolinecolor\":\"white\",\"zerolinewidth\":2},\"yaxis\":{\"automargin\":true,\"gridcolor\":\"white\",\"linecolor\":\"white\",\"ticks\":\"\",\"title\":{\"standoff\":15},\"zerolinecolor\":\"white\",\"zerolinewidth\":2}}}},                        {\"responsive\": true}                    ).then(function(){\n",
              "                            \n",
              "var gd = document.getElementById('0f85dcb1-0e89-4a7a-a9c4-e289a62e698a');\n",
              "var x = new MutationObserver(function (mutations, observer) {{\n",
              "        var display = window.getComputedStyle(gd).display;\n",
              "        if (!display || display === 'none') {{\n",
              "            console.log([gd, 'removed!']);\n",
              "            Plotly.purge(gd);\n",
              "            observer.disconnect();\n",
              "        }}\n",
              "}});\n",
              "\n",
              "// Listen for the removal of the full notebook cells\n",
              "var notebookContainer = gd.closest('#notebook-container');\n",
              "if (notebookContainer) {{\n",
              "    x.observe(notebookContainer, {childList: true});\n",
              "}}\n",
              "\n",
              "// Listen for the clearing of the current output cell\n",
              "var outputEl = gd.closest('.output');\n",
              "if (outputEl) {{\n",
              "    x.observe(outputEl, {childList: true});\n",
              "}}\n",
              "\n",
              "                        })                };                            </script>        </div>\n",
              "</body>\n",
              "</html>"
            ]
          },
          "metadata": {}
        }
      ]
    },
    {
      "cell_type": "markdown",
      "source": [
        "## &#128218; References\n",
        "\n",
        "1. numpy.kron, see [HERE](https://numpy.org/doc/stable/reference/generated/numpy.kron.html)\n",
        "2. Kronecker product, see [HERE](https://en.wikipedia.org/wiki/Kronecker_product)\n",
        "3. Louis-Philippe Morency and Tadas Baltrusaitis. Tutorial on Multimodal Machine Learning, see [HERE](https://www.cs.cmu.edu/~morency/MMML-Tutorial-ACL2017.pdf)\n",
        "4. Baltrušaitis, T., Ahuja, C. and Morency, L.P., 2018. **Multimodal machine learning: A survey and taxonomy**. *IEEE transactions on pattern analysis and machine intelligence*, 41(2), pp.423-443., see [HERE](https://arxiv.org/abs/1705.09406)"
      ],
      "metadata": {
        "id": "yLywxCRwiGhO"
      }
    }
  ]
}