{
  "nbformat": 4,
  "nbformat_minor": 0,
  "metadata": {
    "colab": {
      "provenance": [],
      "collapsed_sections": [
        "yQG33hB_uDI9",
        "zutOAWHqzTRz",
        "tnKmLIjoL5pB"
      ],
      "toc_visible": true,
      "authorship_tag": "ABX9TyNqQfsbfk0j0E7Fs42KIGxC",
      "include_colab_link": true
    },
    "kernelspec": {
      "name": "python3",
      "display_name": "Python 3"
    },
    "language_info": {
      "name": "python"
    }
  },
  "cells": [
    {
      "cell_type": "markdown",
      "metadata": {
        "id": "view-in-github",
        "colab_type": "text"
      },
      "source": [
        "<a href=\"https://colab.research.google.com/github/SRI-CSL/signal-public/blob/signal-demonstration/colabs/signal_api_part_1.ipynb\" target=\"_parent\"><img src=\"https://colab.research.google.com/assets/colab-badge.svg\" alt=\"Open In Colab\"/></a>"
      ]
    },
    {
      "cell_type": "markdown",
      "source": [
        "# **SIGNAL**ing Interest Data\n",
        "\n",
        "**Description:** Installation, basic APIs, and Dashboards, see [HERE](https://github.com/SRI-CSL/SIGNAL/blob/main/reports/milestone-7/signal-demo.org)\n",
        "\n",
        "**Copyright 2022 SRI International.**\n",
        "\n",
        "This project is under the GPL3 License. See the [LICENSE](https://www.gnu.org/licenses/gpl-3.0.en.html) file for the full license text."
      ],
      "metadata": {
        "id": "--4z2fpmSRbl"
      }
    },
    {
      "cell_type": "markdown",
      "source": [
        "## &#128640; Getting Started"
      ],
      "metadata": {
        "id": "aDuf5ihcSadD"
      }
    },
    {
      "cell_type": "markdown",
      "source": [
        "Install the `SIGNAL API` client"
      ],
      "metadata": {
        "id": "CrBwUmDsTsSb"
      }
    },
    {
      "cell_type": "code",
      "source": [
        "!curl https://signal.cta.sri.com/client > client.tgz\n",
        "!tar xzf client.tgz\n",
        "!pip install -r signal_api_client/requirements.txt\n",
        "!pip install -e signal_api_client\n",
        "!pip install ipympl\n",
        "%cd /content/signal_api_client   "
      ],
      "metadata": {
        "id": "kXaiQzHaRCV4"
      },
      "execution_count": null,
      "outputs": []
    },
    {
      "cell_type": "markdown",
      "source": [
        "## &#9776; Dependencies"
      ],
      "metadata": {
        "id": "sIMm3y5HSjln"
      }
    },
    {
      "cell_type": "code",
      "source": [
        "import os\n",
        "import sys"
      ],
      "metadata": {
        "id": "Ss-jg60OvHrY"
      },
      "execution_count": 22,
      "outputs": []
    },
    {
      "cell_type": "code",
      "execution_count": 23,
      "metadata": {
        "id": "3bJ7eePCQ4J2"
      },
      "outputs": [],
      "source": [
        "import time\n",
        "import warnings\n",
        "\n",
        "import re\n",
        "\n",
        "import numpy as np\n",
        "import pandas as pd\n",
        "import matplotlib.pyplot as plt\n",
        "\n",
        "from typing import List, Any, Dict, Tuple\n",
        "from datetime import date, datetime"
      ]
    },
    {
      "cell_type": "code",
      "source": [
        "import plotly.express as px\n",
        "import plotly.graph_objects as go\n",
        "\n",
        "from plotly.subplots import make_subplots"
      ],
      "metadata": {
        "id": "mvrHljM8-HgG"
      },
      "execution_count": 64,
      "outputs": []
    },
    {
      "cell_type": "code",
      "source": [
        "from sqlalchemy.orm import Session"
      ],
      "metadata": {
        "id": "zFpv8dNB3-RX"
      },
      "execution_count": 47,
      "outputs": []
    },
    {
      "cell_type": "code",
      "source": [
        "from signal_api import signal"
      ],
      "metadata": {
        "id": "-Zabla_JWC11"
      },
      "execution_count": 25,
      "outputs": []
    },
    {
      "cell_type": "code",
      "source": [
        "import signal_api.util as utils"
      ],
      "metadata": {
        "id": "xNJrFy343RZ4"
      },
      "execution_count": 26,
      "outputs": []
    },
    {
      "cell_type": "markdown",
      "source": [
        "## &#9997; Configuration"
      ],
      "metadata": {
        "id": "swVZEtyxUvJT"
      }
    },
    {
      "cell_type": "code",
      "source": [
        "warnings.filterwarnings(\"ignore\")"
      ],
      "metadata": {
        "id": "3PYox-GMUsNd"
      },
      "execution_count": 27,
      "outputs": []
    },
    {
      "cell_type": "code",
      "source": [
        "%matplotlib inline\n",
        "%config InlineBackend.figure_format='retina'"
      ],
      "metadata": {
        "id": "mI21zr5RV0Kd"
      },
      "execution_count": 28,
      "outputs": []
    },
    {
      "cell_type": "code",
      "source": [
        "np.random.seed(0)"
      ],
      "metadata": {
        "id": "CMUvjPyTxBdn"
      },
      "execution_count": 29,
      "outputs": []
    },
    {
      "cell_type": "code",
      "source": [
        "pd.options.plotting.backend = \"plotly\""
      ],
      "metadata": {
        "id": "yA5KZRBMxI_b"
      },
      "execution_count": 30,
      "outputs": []
    },
    {
      "cell_type": "code",
      "source": [
        "from IPython import get_ipython\n",
        "utils.common.set_default_vars(os.environ, ipython_val=get_ipython())"
      ],
      "metadata": {
        "id": "GkYzO6auqvY-"
      },
      "execution_count": 31,
      "outputs": []
    },
    {
      "cell_type": "code",
      "source": [
        "utils.console.stdout.print(utils.common.is_run_in_colab())"
      ],
      "metadata": {
        "colab": {
          "base_uri": "https://localhost:8080/",
          "height": 33
        },
        "id": "wmbyDJ4Qq05f",
        "outputId": "379dbe94-e0d5-4b0a-c331-4ac968a778b8"
      },
      "execution_count": 32,
      "outputs": [
        {
          "output_type": "display_data",
          "data": {
            "text/plain": [
              "\u001b[3;92mTrue\u001b[0m\n"
            ],
            "text/html": [
              "<pre style=\"white-space:pre;overflow-x:auto;line-height:normal;font-family:Menlo,'DejaVu Sans Mono',consolas,'Courier New',monospace\"><span style=\"color: #00ff00; text-decoration-color: #00ff00; font-style: italic\">True</span>\n",
              "</pre>\n"
            ]
          },
          "metadata": {}
        }
      ]
    },
    {
      "cell_type": "markdown",
      "source": [
        "## &#128272; Login"
      ],
      "metadata": {
        "id": "VgWxF-0CVEoJ"
      }
    },
    {
      "cell_type": "code",
      "source": [
        "signal.login(host='signal.cta.sri.com')"
      ],
      "metadata": {
        "colab": {
          "base_uri": "https://localhost:8080/"
        },
        "id": "T3Yxx02UVHK3",
        "outputId": "0f1b96f6-1de4-4c19-da3e-d826ed70be9e"
      },
      "execution_count": 48,
      "outputs": [
        {
          "output_type": "execute_result",
          "data": {
            "text/plain": [
              "True"
            ]
          },
          "metadata": {},
          "execution_count": 48
        }
      ]
    },
    {
      "cell_type": "markdown",
      "source": [
        "## Functions"
      ],
      "metadata": {
        "id": "vHio_de0DY-i"
      }
    },
    {
      "cell_type": "code",
      "source": [
        "def bar_plot(value_series: pd.Series, log_y: bool=True, labels: Dict={}, show_legend: bool=False) -> None:\n",
        "  fig = value_series.plot.bar(log_y=log_y, labels=labels)\n",
        "  fig.update_traces(showlegend=show_legend)  \n",
        "  fig.show()"
      ],
      "metadata": {
        "id": "NqZvJPOqDXrZ"
      },
      "execution_count": 34,
      "outputs": []
    },
    {
      "cell_type": "code",
      "source": [
        "def df_groupby(input_df: pd.DataFrame, groupby_column: str, sort_values: bool=True) -> pd.Series:\n",
        "    if sort_values:\n",
        "        tmp_data = input_df.groupby(input_df[groupby_column]).size().sort_values()\n",
        "    else:\n",
        "        tmp_data = input_df.groupby(input_df[groupby_column]).size()\n",
        "    \n",
        "    return tmp_data"
      ],
      "metadata": {
        "id": "ngjgwkWyuZWR"
      },
      "execution_count": 35,
      "outputs": []
    },
    {
      "cell_type": "code",
      "source": [
        "def get_record_count(table_name: str) -> int:\n",
        "    query = f\"SELECT COUNT(*) FROM {table_name};\"\n",
        "    df_result = signal.query_dataframe(query)\n",
        "    result = df_result['count'].iloc[0]\n",
        "    return result"
      ],
      "metadata": {
        "id": "hl_pvYd0YSd6"
      },
      "execution_count": 36,
      "outputs": []
    },
    {
      "cell_type": "code",
      "source": [
        "def get_table_columns(table_name: str) -> List[str]:\n",
        "    query = f\"SELECT column_name FROM INFORMATION_SCHEMA.COLUMNS WHERE TABLE_NAME = N'{table_name}';\"\n",
        "    df_result = signal.query_dataframe(query)\n",
        "    result_list = df_result.column_name.tolist()\n",
        "    return result_list"
      ],
      "metadata": {
        "id": "FgGLb7nAezkd"
      },
      "execution_count": 37,
      "outputs": []
    },
    {
      "cell_type": "code",
      "source": [
        "def print_table_info(table_name: str) -> None:\n",
        "    total_records = get_record_count(table_name=table_name)\n",
        "    table_columns = get_table_columns(table_name=table_name)\n",
        "\n",
        "    print(f\"- In total, there are {total_records:,} records in the {table_name} table.\\n\"\\\n",
        "          f\"-- Table {table_name} contains {len(table_columns)} columns, namely: {table_columns}.\\n\")"
      ],
      "metadata": {
        "id": "0vKdqABLYoB5"
      },
      "execution_count": 38,
      "outputs": []
    },
    {
      "cell_type": "code",
      "source": [
        "def get_db_records(query: str) -> pd.DataFrame:\n",
        "    df_result = signal.query_dataframe(query)\n",
        "\n",
        "    return df_result"
      ],
      "metadata": {
        "id": "2NltIe_atGJA"
      },
      "execution_count": 39,
      "outputs": []
    },
    {
      "cell_type": "code",
      "source": [
        "def get_project(signal_api: signal, project_name: str='linux_kernel') -> signal.projects:\n",
        "  session = Session(signal_api.database.engine)\n",
        "  if project_name == 'linux_kernel':\n",
        "    result = signal_api.projects(session)[0]\n",
        "    return result\n",
        "  else:\n",
        "    raise Exception(f\"Project {project_name} is not currently supported!\")"
      ],
      "metadata": {
        "id": "fazD0yXc4Zfg"
      },
      "execution_count": 58,
      "outputs": []
    },
    {
      "cell_type": "code",
      "source": [
        "def plot_project_stats(\n",
        "  project: signal.projects, \n",
        "  start_date: datetime, \n",
        "  end_date: datetime, \n",
        "  features: List=['authors', 'commits', 'small_changes', 'medium_changes', 'big_changes', \n",
        "                  'important_changes', 'tedious_changes', 'dense_changes', 'new_funcs', \n",
        "                  'cleanup', 'bug_fixes', 'triggers']) -> pd.DataFrame:\n",
        "\n",
        "  history = project.git_history(start_date, end_date)\n",
        "  history_data = history.histogram()\n",
        "  result_df = pd.DataFrame(history_data)\n",
        "\n",
        "  fig = make_subplots(\n",
        "    rows=4, \n",
        "    cols=3, \n",
        "    subplot_titles=('Authors', 'Commits', 'Small Changes',  'Medium Changes', 'Big Changes', 'Important Changes', 'Tedious Changes', 'Dense Changes', 'New Functionalities', 'Cleanup', 'Bug Fixes', 'Triggers'))\n",
        "  \n",
        "  r = 0\n",
        "  c = 0\n",
        "  for i, feature in enumerate(features):\n",
        "    if i % 3 == 0:\n",
        "      r += 1\n",
        "      c = 1\n",
        "    else:\n",
        "      c += 1\n",
        "    \n",
        "    fig.add_trace(go.Bar(x=result_df.time_period, y=result_df[feature]), row=r, col=c)\n",
        "\n",
        "  fig.update_layout(title_text=\"SIGNAL Data Statistics\", height=950, showlegend=False)\n",
        "  fig.show()\n",
        "\n",
        "  return result_df, result_df.describe()"
      ],
      "metadata": {
        "id": "tlb96NvI6-Pj"
      },
      "execution_count": 90,
      "outputs": []
    },
    {
      "cell_type": "markdown",
      "source": [
        "## &#129504; Main Plots"
      ],
      "metadata": {
        "id": "aAe2xwzc3vAr"
      }
    },
    {
      "cell_type": "code",
      "source": [
        "linux_kernel = get_project(signal_api=signal, project_name='linux_kernel')"
      ],
      "metadata": {
        "id": "W1i0PNIp3xbb"
      },
      "execution_count": 60,
      "outputs": []
    },
    {
      "cell_type": "code",
      "source": [
        "stats_df, metrics = plot_project_stats(project=linux_kernel, start_date=datetime(2020, 1, 1), end_date=datetime(2020, 12, 31))"
      ],
      "metadata": {
        "colab": {
          "base_uri": "https://localhost:8080/",
          "height": 967
        },
        "id": "FRy6tfQF3xIa",
        "outputId": "d3f6bb32-cbb2-4e37-e38c-54a03bf2a344"
      },
      "execution_count": 93,
      "outputs": [
        {
          "output_type": "display_data",
          "data": {
            "text/html": [
              "<html>\n",
              "<head><meta charset=\"utf-8\" /></head>\n",
              "<body>\n",
              "    <div>            <script src=\"https://cdnjs.cloudflare.com/ajax/libs/mathjax/2.7.5/MathJax.js?config=TeX-AMS-MML_SVG\"></script><script type=\"text/javascript\">if (window.MathJax) {MathJax.Hub.Config({SVG: {font: \"STIX-Web\"}});}</script>                <script type=\"text/javascript\">window.PlotlyConfig = {MathJaxConfig: 'local'};</script>\n",
              "        <script src=\"https://cdn.plot.ly/plotly-2.8.3.min.js\"></script>                <div id=\"4feac1cb-cf76-4df0-b812-9b017bb75e2f\" class=\"plotly-graph-div\" style=\"height:950px; width:100%;\"></div>            <script type=\"text/javascript\">                                    window.PLOTLYENV=window.PLOTLYENV || {};                                    if (document.getElementById(\"4feac1cb-cf76-4df0-b812-9b017bb75e2f\")) {                    Plotly.newPlot(                        \"4feac1cb-cf76-4df0-b812-9b017bb75e2f\",                        [{\"x\":[\"2020-00\",\"2020-01\",\"2020-02\",\"2020-03\",\"2020-04\",\"2020-05\",\"2020-06\",\"2020-07\",\"2020-08\",\"2020-09\",\"2020-10\",\"2020-11\",\"2020-12\",\"2020-13\",\"2020-14\",\"2020-15\",\"2020-16\",\"2020-17\",\"2020-18\",\"2020-19\",\"2020-20\",\"2020-21\",\"2020-22\",\"2020-23\",\"2020-24\",\"2020-25\",\"2020-26\",\"2020-27\",\"2020-28\",\"2020-29\",\"2020-30\",\"2020-31\",\"2020-32\",\"2020-33\",\"2020-34\",\"2020-35\",\"2020-36\",\"2020-37\",\"2020-38\",\"2020-39\",\"2020-40\",\"2020-41\",\"2020-42\",\"2020-43\",\"2020-44\",\"2020-45\",\"2020-46\",\"2020-47\",\"2020-48\",\"2020-49\",\"2020-50\",\"2020-51\",\"2020-52\"],\"y\":[202,459,543,479,303,255,487,366,420,482,535,514,539,376,271,490,490,432,482,497,522,609,401,270,406,464,485,458,501,537,551,357,265,453,418,434,449,504,533,543,404,365,213,459,483,470,505,479,567,616,360,121,145],\"type\":\"bar\",\"xaxis\":\"x\",\"yaxis\":\"y\"},{\"x\":[\"2020-00\",\"2020-01\",\"2020-02\",\"2020-03\",\"2020-04\",\"2020-05\",\"2020-06\",\"2020-07\",\"2020-08\",\"2020-09\",\"2020-10\",\"2020-11\",\"2020-12\",\"2020-13\",\"2020-14\",\"2020-15\",\"2020-16\",\"2020-17\",\"2020-18\",\"2020-19\",\"2020-20\",\"2020-21\",\"2020-22\",\"2020-23\",\"2020-24\",\"2020-25\",\"2020-26\",\"2020-27\",\"2020-28\",\"2020-29\",\"2020-30\",\"2020-31\",\"2020-32\",\"2020-33\",\"2020-34\",\"2020-35\",\"2020-36\",\"2020-37\",\"2020-38\",\"2020-39\",\"2020-40\",\"2020-41\",\"2020-42\",\"2020-43\",\"2020-44\",\"2020-45\",\"2020-46\",\"2020-47\",\"2020-48\",\"2020-49\",\"2020-50\",\"2020-51\",\"2020-52\"],\"y\":[642,1641,1923,1690,996,709,1670,1330,1513,1580,1808,2037,2268,1138,736,1786,1700,1659,1912,2004,2076,2389,1404,1002,1325,1583,1998,1738,2237,2261,2029,1065,750,1548,1422,1577,1918,2034,2211,2133,1420,1214,536,1622,1522,1595,2041,1579,2302,2276,1350,397,308],\"type\":\"bar\",\"xaxis\":\"x2\",\"yaxis\":\"y2\"},{\"x\":[\"2020-00\",\"2020-01\",\"2020-02\",\"2020-03\",\"2020-04\",\"2020-05\",\"2020-06\",\"2020-07\",\"2020-08\",\"2020-09\",\"2020-10\",\"2020-11\",\"2020-12\",\"2020-13\",\"2020-14\",\"2020-15\",\"2020-16\",\"2020-17\",\"2020-18\",\"2020-19\",\"2020-20\",\"2020-21\",\"2020-22\",\"2020-23\",\"2020-24\",\"2020-25\",\"2020-26\",\"2020-27\",\"2020-28\",\"2020-29\",\"2020-30\",\"2020-31\",\"2020-32\",\"2020-33\",\"2020-34\",\"2020-35\",\"2020-36\",\"2020-37\",\"2020-38\",\"2020-39\",\"2020-40\",\"2020-41\",\"2020-42\",\"2020-43\",\"2020-44\",\"2020-45\",\"2020-46\",\"2020-47\",\"2020-48\",\"2020-49\",\"2020-50\",\"2020-51\",\"2020-52\"],\"y\":[0,0,0,0,0,0,0,0,0,0,0,0,0,0,0,0,0,0,0,0,0,0,0,0,0,0,0,0,0,0,0,0,0,0,0,0,0,0,0,0,0,0,0,0,0,0,0,0,0,0,0,0,0],\"type\":\"bar\",\"xaxis\":\"x3\",\"yaxis\":\"y3\"},{\"x\":[\"2020-00\",\"2020-01\",\"2020-02\",\"2020-03\",\"2020-04\",\"2020-05\",\"2020-06\",\"2020-07\",\"2020-08\",\"2020-09\",\"2020-10\",\"2020-11\",\"2020-12\",\"2020-13\",\"2020-14\",\"2020-15\",\"2020-16\",\"2020-17\",\"2020-18\",\"2020-19\",\"2020-20\",\"2020-21\",\"2020-22\",\"2020-23\",\"2020-24\",\"2020-25\",\"2020-26\",\"2020-27\",\"2020-28\",\"2020-29\",\"2020-30\",\"2020-31\",\"2020-32\",\"2020-33\",\"2020-34\",\"2020-35\",\"2020-36\",\"2020-37\",\"2020-38\",\"2020-39\",\"2020-40\",\"2020-41\",\"2020-42\",\"2020-43\",\"2020-44\",\"2020-45\",\"2020-46\",\"2020-47\",\"2020-48\",\"2020-49\",\"2020-50\",\"2020-51\",\"2020-52\"],\"y\":[466,1188,1367,1186,711,541,1249,987,1099,1134,1362,1432,1595,802,586,1375,1227,1119,1385,1470,1393,1737,997,740,1040,1187,1470,1300,1665,1611,1471,785,587,1142,1095,1182,1371,1468,1634,1477,1028,929,411,1225,1164,1226,1494,1188,1605,1688,995,280,248],\"type\":\"bar\",\"xaxis\":\"x4\",\"yaxis\":\"y4\"},{\"x\":[\"2020-00\",\"2020-01\",\"2020-02\",\"2020-03\",\"2020-04\",\"2020-05\",\"2020-06\",\"2020-07\",\"2020-08\",\"2020-09\",\"2020-10\",\"2020-11\",\"2020-12\",\"2020-13\",\"2020-14\",\"2020-15\",\"2020-16\",\"2020-17\",\"2020-18\",\"2020-19\",\"2020-20\",\"2020-21\",\"2020-22\",\"2020-23\",\"2020-24\",\"2020-25\",\"2020-26\",\"2020-27\",\"2020-28\",\"2020-29\",\"2020-30\",\"2020-31\",\"2020-32\",\"2020-33\",\"2020-34\",\"2020-35\",\"2020-36\",\"2020-37\",\"2020-38\",\"2020-39\",\"2020-40\",\"2020-41\",\"2020-42\",\"2020-43\",\"2020-44\",\"2020-45\",\"2020-46\",\"2020-47\",\"2020-48\",\"2020-49\",\"2020-50\",\"2020-51\",\"2020-52\"],\"y\":[176,453,556,504,285,168,421,343,414,446,446,605,673,336,150,411,473,540,527,534,683,652,407,262,285,396,528,438,572,650,558,280,163,406,327,395,547,566,577,656,392,285,125,397,358,369,547,391,697,588,355,117,60],\"type\":\"bar\",\"xaxis\":\"x5\",\"yaxis\":\"y5\"},{\"x\":[\"2020-00\",\"2020-01\",\"2020-02\",\"2020-03\",\"2020-04\",\"2020-05\",\"2020-06\",\"2020-07\",\"2020-08\",\"2020-09\",\"2020-10\",\"2020-11\",\"2020-12\",\"2020-13\",\"2020-14\",\"2020-15\",\"2020-16\",\"2020-17\",\"2020-18\",\"2020-19\",\"2020-20\",\"2020-21\",\"2020-22\",\"2020-23\",\"2020-24\",\"2020-25\",\"2020-26\",\"2020-27\",\"2020-28\",\"2020-29\",\"2020-30\",\"2020-31\",\"2020-32\",\"2020-33\",\"2020-34\",\"2020-35\",\"2020-36\",\"2020-37\",\"2020-38\",\"2020-39\",\"2020-40\",\"2020-41\",\"2020-42\",\"2020-43\",\"2020-44\",\"2020-45\",\"2020-46\",\"2020-47\",\"2020-48\",\"2020-49\",\"2020-50\",\"2020-51\",\"2020-52\"],\"y\":[634,1607,1877,1649,968,679,1643,1297,1482,1541,1781,1997,2210,1109,717,1752,1674,1623,1877,1957,2042,2340,1368,972,1300,1556,1962,1707,2204,2221,1999,1043,732,1526,1403,1549,1889,2004,2191,2098,1387,1191,523,1601,1502,1576,2024,1560,2253,2246,1327,393,304],\"type\":\"bar\",\"xaxis\":\"x6\",\"yaxis\":\"y6\"},{\"x\":[\"2020-00\",\"2020-01\",\"2020-02\",\"2020-03\",\"2020-04\",\"2020-05\",\"2020-06\",\"2020-07\",\"2020-08\",\"2020-09\",\"2020-10\",\"2020-11\",\"2020-12\",\"2020-13\",\"2020-14\",\"2020-15\",\"2020-16\",\"2020-17\",\"2020-18\",\"2020-19\",\"2020-20\",\"2020-21\",\"2020-22\",\"2020-23\",\"2020-24\",\"2020-25\",\"2020-26\",\"2020-27\",\"2020-28\",\"2020-29\",\"2020-30\",\"2020-31\",\"2020-32\",\"2020-33\",\"2020-34\",\"2020-35\",\"2020-36\",\"2020-37\",\"2020-38\",\"2020-39\",\"2020-40\",\"2020-41\",\"2020-42\",\"2020-43\",\"2020-44\",\"2020-45\",\"2020-46\",\"2020-47\",\"2020-48\",\"2020-49\",\"2020-50\",\"2020-51\",\"2020-52\"],\"y\":[334,715,827,742,505,285,708,557,624,696,803,1025,1133,512,354,747,727,765,883,923,978,1076,735,463,526,767,848,820,1096,1161,929,495,368,665,597,739,988,951,1014,1073,639,595,359,687,670,653,977,713,975,1081,727,199,198],\"type\":\"bar\",\"xaxis\":\"x7\",\"yaxis\":\"y7\"},{\"x\":[\"2020-00\",\"2020-01\",\"2020-02\",\"2020-03\",\"2020-04\",\"2020-05\",\"2020-06\",\"2020-07\",\"2020-08\",\"2020-09\",\"2020-10\",\"2020-11\",\"2020-12\",\"2020-13\",\"2020-14\",\"2020-15\",\"2020-16\",\"2020-17\",\"2020-18\",\"2020-19\",\"2020-20\",\"2020-21\",\"2020-22\",\"2020-23\",\"2020-24\",\"2020-25\",\"2020-26\",\"2020-27\",\"2020-28\",\"2020-29\",\"2020-30\",\"2020-31\",\"2020-32\",\"2020-33\",\"2020-34\",\"2020-35\",\"2020-36\",\"2020-37\",\"2020-38\",\"2020-39\",\"2020-40\",\"2020-41\",\"2020-42\",\"2020-43\",\"2020-44\",\"2020-45\",\"2020-46\",\"2020-47\",\"2020-48\",\"2020-49\",\"2020-50\",\"2020-51\",\"2020-52\"],\"y\":[246,730,930,764,439,322,798,583,709,737,853,943,1043,527,346,786,757,758,875,963,970,1150,664,452,610,720,926,746,987,957,908,484,314,727,620,691,863,951,1032,1021,635,535,254,758,721,731,995,751,1068,1055,619,174,144],\"type\":\"bar\",\"xaxis\":\"x8\",\"yaxis\":\"y8\"},{\"x\":[\"2020-00\",\"2020-01\",\"2020-02\",\"2020-03\",\"2020-04\",\"2020-05\",\"2020-06\",\"2020-07\",\"2020-08\",\"2020-09\",\"2020-10\",\"2020-11\",\"2020-12\",\"2020-13\",\"2020-14\",\"2020-15\",\"2020-16\",\"2020-17\",\"2020-18\",\"2020-19\",\"2020-20\",\"2020-21\",\"2020-22\",\"2020-23\",\"2020-24\",\"2020-25\",\"2020-26\",\"2020-27\",\"2020-28\",\"2020-29\",\"2020-30\",\"2020-31\",\"2020-32\",\"2020-33\",\"2020-34\",\"2020-35\",\"2020-36\",\"2020-37\",\"2020-38\",\"2020-39\",\"2020-40\",\"2020-41\",\"2020-42\",\"2020-43\",\"2020-44\",\"2020-45\",\"2020-46\",\"2020-47\",\"2020-48\",\"2020-49\",\"2020-50\",\"2020-51\",\"2020-52\"],\"y\":[108,349,437,289,164,131,357,239,317,360,425,388,412,206,160,345,321,302,385,418,405,447,233,150,301,323,406,296,488,390,371,199,128,333,273,285,381,391,451,433,256,208,98,328,352,303,428,375,437,466,227,88,87],\"type\":\"bar\",\"xaxis\":\"x9\",\"yaxis\":\"y9\"},{\"x\":[\"2020-00\",\"2020-01\",\"2020-02\",\"2020-03\",\"2020-04\",\"2020-05\",\"2020-06\",\"2020-07\",\"2020-08\",\"2020-09\",\"2020-10\",\"2020-11\",\"2020-12\",\"2020-13\",\"2020-14\",\"2020-15\",\"2020-16\",\"2020-17\",\"2020-18\",\"2020-19\",\"2020-20\",\"2020-21\",\"2020-22\",\"2020-23\",\"2020-24\",\"2020-25\",\"2020-26\",\"2020-27\",\"2020-28\",\"2020-29\",\"2020-30\",\"2020-31\",\"2020-32\",\"2020-33\",\"2020-34\",\"2020-35\",\"2020-36\",\"2020-37\",\"2020-38\",\"2020-39\",\"2020-40\",\"2020-41\",\"2020-42\",\"2020-43\",\"2020-44\",\"2020-45\",\"2020-46\",\"2020-47\",\"2020-48\",\"2020-49\",\"2020-50\",\"2020-51\",\"2020-52\"],\"y\":[29,103,111,111,64,48,90,70,88,95,96,86,101,55,36,131,85,87,107,111,126,146,67,62,44,75,106,79,93,85,93,40,47,77,69,86,119,93,136,110,66,56,33,120,100,82,111,76,130,119,78,17,10],\"type\":\"bar\",\"xaxis\":\"x10\",\"yaxis\":\"y10\"},{\"x\":[\"2020-00\",\"2020-01\",\"2020-02\",\"2020-03\",\"2020-04\",\"2020-05\",\"2020-06\",\"2020-07\",\"2020-08\",\"2020-09\",\"2020-10\",\"2020-11\",\"2020-12\",\"2020-13\",\"2020-14\",\"2020-15\",\"2020-16\",\"2020-17\",\"2020-18\",\"2020-19\",\"2020-20\",\"2020-21\",\"2020-22\",\"2020-23\",\"2020-24\",\"2020-25\",\"2020-26\",\"2020-27\",\"2020-28\",\"2020-29\",\"2020-30\",\"2020-31\",\"2020-32\",\"2020-33\",\"2020-34\",\"2020-35\",\"2020-36\",\"2020-37\",\"2020-38\",\"2020-39\",\"2020-40\",\"2020-41\",\"2020-42\",\"2020-43\",\"2020-44\",\"2020-45\",\"2020-46\",\"2020-47\",\"2020-48\",\"2020-49\",\"2020-50\",\"2020-51\",\"2020-52\"],\"y\":[505,1189,1375,1290,768,530,1223,1020,1108,1124,1287,1563,1754,877,540,1310,1294,1270,1418,1474,1544,1796,1104,790,980,1185,1486,1363,1656,1786,1565,826,575,1138,1079,1206,1418,1549,1624,1590,1098,950,405,1174,1069,1210,1502,1128,1735,1691,1045,292,211],\"type\":\"bar\",\"xaxis\":\"x11\",\"yaxis\":\"y11\"},{\"x\":[\"2020-00\",\"2020-01\",\"2020-02\",\"2020-03\",\"2020-04\",\"2020-05\",\"2020-06\",\"2020-07\",\"2020-08\",\"2020-09\",\"2020-10\",\"2020-11\",\"2020-12\",\"2020-13\",\"2020-14\",\"2020-15\",\"2020-16\",\"2020-17\",\"2020-18\",\"2020-19\",\"2020-20\",\"2020-21\",\"2020-22\",\"2020-23\",\"2020-24\",\"2020-25\",\"2020-26\",\"2020-27\",\"2020-28\",\"2020-29\",\"2020-30\",\"2020-31\",\"2020-32\",\"2020-33\",\"2020-34\",\"2020-35\",\"2020-36\",\"2020-37\",\"2020-38\",\"2020-39\",\"2020-40\",\"2020-41\",\"2020-42\",\"2020-43\",\"2020-44\",\"2020-45\",\"2020-46\",\"2020-47\",\"2020-48\",\"2020-49\",\"2020-50\",\"2020-51\",\"2020-52\"],\"y\":[0,0,0,0,0,0,0,0,0,0,0,0,0,0,0,0,0,0,0,0,0,0,0,0,0,0,0,0,0,0,0,0,0,0,0,0,0,0,0,0,0,0,0,0,0,0,0,0,0,0,0,0,0],\"type\":\"bar\",\"xaxis\":\"x12\",\"yaxis\":\"y12\"}],                        {\"template\":{\"data\":{\"bar\":[{\"error_x\":{\"color\":\"#2a3f5f\"},\"error_y\":{\"color\":\"#2a3f5f\"},\"marker\":{\"line\":{\"color\":\"#E5ECF6\",\"width\":0.5},\"pattern\":{\"fillmode\":\"overlay\",\"size\":10,\"solidity\":0.2}},\"type\":\"bar\"}],\"barpolar\":[{\"marker\":{\"line\":{\"color\":\"#E5ECF6\",\"width\":0.5},\"pattern\":{\"fillmode\":\"overlay\",\"size\":10,\"solidity\":0.2}},\"type\":\"barpolar\"}],\"carpet\":[{\"aaxis\":{\"endlinecolor\":\"#2a3f5f\",\"gridcolor\":\"white\",\"linecolor\":\"white\",\"minorgridcolor\":\"white\",\"startlinecolor\":\"#2a3f5f\"},\"baxis\":{\"endlinecolor\":\"#2a3f5f\",\"gridcolor\":\"white\",\"linecolor\":\"white\",\"minorgridcolor\":\"white\",\"startlinecolor\":\"#2a3f5f\"},\"type\":\"carpet\"}],\"choropleth\":[{\"colorbar\":{\"outlinewidth\":0,\"ticks\":\"\"},\"type\":\"choropleth\"}],\"contour\":[{\"colorbar\":{\"outlinewidth\":0,\"ticks\":\"\"},\"colorscale\":[[0.0,\"#0d0887\"],[0.1111111111111111,\"#46039f\"],[0.2222222222222222,\"#7201a8\"],[0.3333333333333333,\"#9c179e\"],[0.4444444444444444,\"#bd3786\"],[0.5555555555555556,\"#d8576b\"],[0.6666666666666666,\"#ed7953\"],[0.7777777777777778,\"#fb9f3a\"],[0.8888888888888888,\"#fdca26\"],[1.0,\"#f0f921\"]],\"type\":\"contour\"}],\"contourcarpet\":[{\"colorbar\":{\"outlinewidth\":0,\"ticks\":\"\"},\"type\":\"contourcarpet\"}],\"heatmap\":[{\"colorbar\":{\"outlinewidth\":0,\"ticks\":\"\"},\"colorscale\":[[0.0,\"#0d0887\"],[0.1111111111111111,\"#46039f\"],[0.2222222222222222,\"#7201a8\"],[0.3333333333333333,\"#9c179e\"],[0.4444444444444444,\"#bd3786\"],[0.5555555555555556,\"#d8576b\"],[0.6666666666666666,\"#ed7953\"],[0.7777777777777778,\"#fb9f3a\"],[0.8888888888888888,\"#fdca26\"],[1.0,\"#f0f921\"]],\"type\":\"heatmap\"}],\"heatmapgl\":[{\"colorbar\":{\"outlinewidth\":0,\"ticks\":\"\"},\"colorscale\":[[0.0,\"#0d0887\"],[0.1111111111111111,\"#46039f\"],[0.2222222222222222,\"#7201a8\"],[0.3333333333333333,\"#9c179e\"],[0.4444444444444444,\"#bd3786\"],[0.5555555555555556,\"#d8576b\"],[0.6666666666666666,\"#ed7953\"],[0.7777777777777778,\"#fb9f3a\"],[0.8888888888888888,\"#fdca26\"],[1.0,\"#f0f921\"]],\"type\":\"heatmapgl\"}],\"histogram\":[{\"marker\":{\"pattern\":{\"fillmode\":\"overlay\",\"size\":10,\"solidity\":0.2}},\"type\":\"histogram\"}],\"histogram2d\":[{\"colorbar\":{\"outlinewidth\":0,\"ticks\":\"\"},\"colorscale\":[[0.0,\"#0d0887\"],[0.1111111111111111,\"#46039f\"],[0.2222222222222222,\"#7201a8\"],[0.3333333333333333,\"#9c179e\"],[0.4444444444444444,\"#bd3786\"],[0.5555555555555556,\"#d8576b\"],[0.6666666666666666,\"#ed7953\"],[0.7777777777777778,\"#fb9f3a\"],[0.8888888888888888,\"#fdca26\"],[1.0,\"#f0f921\"]],\"type\":\"histogram2d\"}],\"histogram2dcontour\":[{\"colorbar\":{\"outlinewidth\":0,\"ticks\":\"\"},\"colorscale\":[[0.0,\"#0d0887\"],[0.1111111111111111,\"#46039f\"],[0.2222222222222222,\"#7201a8\"],[0.3333333333333333,\"#9c179e\"],[0.4444444444444444,\"#bd3786\"],[0.5555555555555556,\"#d8576b\"],[0.6666666666666666,\"#ed7953\"],[0.7777777777777778,\"#fb9f3a\"],[0.8888888888888888,\"#fdca26\"],[1.0,\"#f0f921\"]],\"type\":\"histogram2dcontour\"}],\"mesh3d\":[{\"colorbar\":{\"outlinewidth\":0,\"ticks\":\"\"},\"type\":\"mesh3d\"}],\"parcoords\":[{\"line\":{\"colorbar\":{\"outlinewidth\":0,\"ticks\":\"\"}},\"type\":\"parcoords\"}],\"pie\":[{\"automargin\":true,\"type\":\"pie\"}],\"scatter\":[{\"marker\":{\"colorbar\":{\"outlinewidth\":0,\"ticks\":\"\"}},\"type\":\"scatter\"}],\"scatter3d\":[{\"line\":{\"colorbar\":{\"outlinewidth\":0,\"ticks\":\"\"}},\"marker\":{\"colorbar\":{\"outlinewidth\":0,\"ticks\":\"\"}},\"type\":\"scatter3d\"}],\"scattercarpet\":[{\"marker\":{\"colorbar\":{\"outlinewidth\":0,\"ticks\":\"\"}},\"type\":\"scattercarpet\"}],\"scattergeo\":[{\"marker\":{\"colorbar\":{\"outlinewidth\":0,\"ticks\":\"\"}},\"type\":\"scattergeo\"}],\"scattergl\":[{\"marker\":{\"colorbar\":{\"outlinewidth\":0,\"ticks\":\"\"}},\"type\":\"scattergl\"}],\"scattermapbox\":[{\"marker\":{\"colorbar\":{\"outlinewidth\":0,\"ticks\":\"\"}},\"type\":\"scattermapbox\"}],\"scatterpolar\":[{\"marker\":{\"colorbar\":{\"outlinewidth\":0,\"ticks\":\"\"}},\"type\":\"scatterpolar\"}],\"scatterpolargl\":[{\"marker\":{\"colorbar\":{\"outlinewidth\":0,\"ticks\":\"\"}},\"type\":\"scatterpolargl\"}],\"scatterternary\":[{\"marker\":{\"colorbar\":{\"outlinewidth\":0,\"ticks\":\"\"}},\"type\":\"scatterternary\"}],\"surface\":[{\"colorbar\":{\"outlinewidth\":0,\"ticks\":\"\"},\"colorscale\":[[0.0,\"#0d0887\"],[0.1111111111111111,\"#46039f\"],[0.2222222222222222,\"#7201a8\"],[0.3333333333333333,\"#9c179e\"],[0.4444444444444444,\"#bd3786\"],[0.5555555555555556,\"#d8576b\"],[0.6666666666666666,\"#ed7953\"],[0.7777777777777778,\"#fb9f3a\"],[0.8888888888888888,\"#fdca26\"],[1.0,\"#f0f921\"]],\"type\":\"surface\"}],\"table\":[{\"cells\":{\"fill\":{\"color\":\"#EBF0F8\"},\"line\":{\"color\":\"white\"}},\"header\":{\"fill\":{\"color\":\"#C8D4E3\"},\"line\":{\"color\":\"white\"}},\"type\":\"table\"}]},\"layout\":{\"annotationdefaults\":{\"arrowcolor\":\"#2a3f5f\",\"arrowhead\":0,\"arrowwidth\":1},\"autotypenumbers\":\"strict\",\"coloraxis\":{\"colorbar\":{\"outlinewidth\":0,\"ticks\":\"\"}},\"colorscale\":{\"diverging\":[[0,\"#8e0152\"],[0.1,\"#c51b7d\"],[0.2,\"#de77ae\"],[0.3,\"#f1b6da\"],[0.4,\"#fde0ef\"],[0.5,\"#f7f7f7\"],[0.6,\"#e6f5d0\"],[0.7,\"#b8e186\"],[0.8,\"#7fbc41\"],[0.9,\"#4d9221\"],[1,\"#276419\"]],\"sequential\":[[0.0,\"#0d0887\"],[0.1111111111111111,\"#46039f\"],[0.2222222222222222,\"#7201a8\"],[0.3333333333333333,\"#9c179e\"],[0.4444444444444444,\"#bd3786\"],[0.5555555555555556,\"#d8576b\"],[0.6666666666666666,\"#ed7953\"],[0.7777777777777778,\"#fb9f3a\"],[0.8888888888888888,\"#fdca26\"],[1.0,\"#f0f921\"]],\"sequentialminus\":[[0.0,\"#0d0887\"],[0.1111111111111111,\"#46039f\"],[0.2222222222222222,\"#7201a8\"],[0.3333333333333333,\"#9c179e\"],[0.4444444444444444,\"#bd3786\"],[0.5555555555555556,\"#d8576b\"],[0.6666666666666666,\"#ed7953\"],[0.7777777777777778,\"#fb9f3a\"],[0.8888888888888888,\"#fdca26\"],[1.0,\"#f0f921\"]]},\"colorway\":[\"#636efa\",\"#EF553B\",\"#00cc96\",\"#ab63fa\",\"#FFA15A\",\"#19d3f3\",\"#FF6692\",\"#B6E880\",\"#FF97FF\",\"#FECB52\"],\"font\":{\"color\":\"#2a3f5f\"},\"geo\":{\"bgcolor\":\"white\",\"lakecolor\":\"white\",\"landcolor\":\"#E5ECF6\",\"showlakes\":true,\"showland\":true,\"subunitcolor\":\"white\"},\"hoverlabel\":{\"align\":\"left\"},\"hovermode\":\"closest\",\"mapbox\":{\"style\":\"light\"},\"paper_bgcolor\":\"white\",\"plot_bgcolor\":\"#E5ECF6\",\"polar\":{\"angularaxis\":{\"gridcolor\":\"white\",\"linecolor\":\"white\",\"ticks\":\"\"},\"bgcolor\":\"#E5ECF6\",\"radialaxis\":{\"gridcolor\":\"white\",\"linecolor\":\"white\",\"ticks\":\"\"}},\"scene\":{\"xaxis\":{\"backgroundcolor\":\"#E5ECF6\",\"gridcolor\":\"white\",\"gridwidth\":2,\"linecolor\":\"white\",\"showbackground\":true,\"ticks\":\"\",\"zerolinecolor\":\"white\"},\"yaxis\":{\"backgroundcolor\":\"#E5ECF6\",\"gridcolor\":\"white\",\"gridwidth\":2,\"linecolor\":\"white\",\"showbackground\":true,\"ticks\":\"\",\"zerolinecolor\":\"white\"},\"zaxis\":{\"backgroundcolor\":\"#E5ECF6\",\"gridcolor\":\"white\",\"gridwidth\":2,\"linecolor\":\"white\",\"showbackground\":true,\"ticks\":\"\",\"zerolinecolor\":\"white\"}},\"shapedefaults\":{\"line\":{\"color\":\"#2a3f5f\"}},\"ternary\":{\"aaxis\":{\"gridcolor\":\"white\",\"linecolor\":\"white\",\"ticks\":\"\"},\"baxis\":{\"gridcolor\":\"white\",\"linecolor\":\"white\",\"ticks\":\"\"},\"bgcolor\":\"#E5ECF6\",\"caxis\":{\"gridcolor\":\"white\",\"linecolor\":\"white\",\"ticks\":\"\"}},\"title\":{\"x\":0.05},\"xaxis\":{\"automargin\":true,\"gridcolor\":\"white\",\"linecolor\":\"white\",\"ticks\":\"\",\"title\":{\"standoff\":15},\"zerolinecolor\":\"white\",\"zerolinewidth\":2},\"yaxis\":{\"automargin\":true,\"gridcolor\":\"white\",\"linecolor\":\"white\",\"ticks\":\"\",\"title\":{\"standoff\":15},\"zerolinecolor\":\"white\",\"zerolinewidth\":2}}},\"xaxis\":{\"anchor\":\"y\",\"domain\":[0.0,0.2888888888888889]},\"yaxis\":{\"anchor\":\"x\",\"domain\":[0.84375,1.0]},\"xaxis2\":{\"anchor\":\"y2\",\"domain\":[0.35555555555555557,0.6444444444444445]},\"yaxis2\":{\"anchor\":\"x2\",\"domain\":[0.84375,1.0]},\"xaxis3\":{\"anchor\":\"y3\",\"domain\":[0.7111111111111111,1.0]},\"yaxis3\":{\"anchor\":\"x3\",\"domain\":[0.84375,1.0]},\"xaxis4\":{\"anchor\":\"y4\",\"domain\":[0.0,0.2888888888888889]},\"yaxis4\":{\"anchor\":\"x4\",\"domain\":[0.5625,0.71875]},\"xaxis5\":{\"anchor\":\"y5\",\"domain\":[0.35555555555555557,0.6444444444444445]},\"yaxis5\":{\"anchor\":\"x5\",\"domain\":[0.5625,0.71875]},\"xaxis6\":{\"anchor\":\"y6\",\"domain\":[0.7111111111111111,1.0]},\"yaxis6\":{\"anchor\":\"x6\",\"domain\":[0.5625,0.71875]},\"xaxis7\":{\"anchor\":\"y7\",\"domain\":[0.0,0.2888888888888889]},\"yaxis7\":{\"anchor\":\"x7\",\"domain\":[0.28125,0.4375]},\"xaxis8\":{\"anchor\":\"y8\",\"domain\":[0.35555555555555557,0.6444444444444445]},\"yaxis8\":{\"anchor\":\"x8\",\"domain\":[0.28125,0.4375]},\"xaxis9\":{\"anchor\":\"y9\",\"domain\":[0.7111111111111111,1.0]},\"yaxis9\":{\"anchor\":\"x9\",\"domain\":[0.28125,0.4375]},\"xaxis10\":{\"anchor\":\"y10\",\"domain\":[0.0,0.2888888888888889]},\"yaxis10\":{\"anchor\":\"x10\",\"domain\":[0.0,0.15625]},\"xaxis11\":{\"anchor\":\"y11\",\"domain\":[0.35555555555555557,0.6444444444444445]},\"yaxis11\":{\"anchor\":\"x11\",\"domain\":[0.0,0.15625]},\"xaxis12\":{\"anchor\":\"y12\",\"domain\":[0.7111111111111111,1.0]},\"yaxis12\":{\"anchor\":\"x12\",\"domain\":[0.0,0.15625]},\"annotations\":[{\"font\":{\"size\":16},\"showarrow\":false,\"text\":\"Authors\",\"x\":0.14444444444444446,\"xanchor\":\"center\",\"xref\":\"paper\",\"y\":1.0,\"yanchor\":\"bottom\",\"yref\":\"paper\"},{\"font\":{\"size\":16},\"showarrow\":false,\"text\":\"Commits\",\"x\":0.5,\"xanchor\":\"center\",\"xref\":\"paper\",\"y\":1.0,\"yanchor\":\"bottom\",\"yref\":\"paper\"},{\"font\":{\"size\":16},\"showarrow\":false,\"text\":\"Small Changes\",\"x\":0.8555555555555556,\"xanchor\":\"center\",\"xref\":\"paper\",\"y\":1.0,\"yanchor\":\"bottom\",\"yref\":\"paper\"},{\"font\":{\"size\":16},\"showarrow\":false,\"text\":\"Medium Changes\",\"x\":0.14444444444444446,\"xanchor\":\"center\",\"xref\":\"paper\",\"y\":0.71875,\"yanchor\":\"bottom\",\"yref\":\"paper\"},{\"font\":{\"size\":16},\"showarrow\":false,\"text\":\"Big Changes\",\"x\":0.5,\"xanchor\":\"center\",\"xref\":\"paper\",\"y\":0.71875,\"yanchor\":\"bottom\",\"yref\":\"paper\"},{\"font\":{\"size\":16},\"showarrow\":false,\"text\":\"Important Changes\",\"x\":0.8555555555555556,\"xanchor\":\"center\",\"xref\":\"paper\",\"y\":0.71875,\"yanchor\":\"bottom\",\"yref\":\"paper\"},{\"font\":{\"size\":16},\"showarrow\":false,\"text\":\"Tedious Changes\",\"x\":0.14444444444444446,\"xanchor\":\"center\",\"xref\":\"paper\",\"y\":0.4375,\"yanchor\":\"bottom\",\"yref\":\"paper\"},{\"font\":{\"size\":16},\"showarrow\":false,\"text\":\"Dense Changes\",\"x\":0.5,\"xanchor\":\"center\",\"xref\":\"paper\",\"y\":0.4375,\"yanchor\":\"bottom\",\"yref\":\"paper\"},{\"font\":{\"size\":16},\"showarrow\":false,\"text\":\"New Functionalities\",\"x\":0.8555555555555556,\"xanchor\":\"center\",\"xref\":\"paper\",\"y\":0.4375,\"yanchor\":\"bottom\",\"yref\":\"paper\"},{\"font\":{\"size\":16},\"showarrow\":false,\"text\":\"Cleanup\",\"x\":0.14444444444444446,\"xanchor\":\"center\",\"xref\":\"paper\",\"y\":0.15625,\"yanchor\":\"bottom\",\"yref\":\"paper\"},{\"font\":{\"size\":16},\"showarrow\":false,\"text\":\"Bug Fixes\",\"x\":0.5,\"xanchor\":\"center\",\"xref\":\"paper\",\"y\":0.15625,\"yanchor\":\"bottom\",\"yref\":\"paper\"},{\"font\":{\"size\":16},\"showarrow\":false,\"text\":\"Triggers\",\"x\":0.8555555555555556,\"xanchor\":\"center\",\"xref\":\"paper\",\"y\":0.15625,\"yanchor\":\"bottom\",\"yref\":\"paper\"}],\"title\":{\"text\":\"SIGNAL Data Statistics\"},\"height\":950,\"showlegend\":false},                        {\"responsive\": true}                    ).then(function(){\n",
              "                            \n",
              "var gd = document.getElementById('4feac1cb-cf76-4df0-b812-9b017bb75e2f');\n",
              "var x = new MutationObserver(function (mutations, observer) {{\n",
              "        var display = window.getComputedStyle(gd).display;\n",
              "        if (!display || display === 'none') {{\n",
              "            console.log([gd, 'removed!']);\n",
              "            Plotly.purge(gd);\n",
              "            observer.disconnect();\n",
              "        }}\n",
              "}});\n",
              "\n",
              "// Listen for the removal of the full notebook cells\n",
              "var notebookContainer = gd.closest('#notebook-container');\n",
              "if (notebookContainer) {{\n",
              "    x.observe(notebookContainer, {childList: true});\n",
              "}}\n",
              "\n",
              "// Listen for the clearing of the current output cell\n",
              "var outputEl = gd.closest('.output');\n",
              "if (outputEl) {{\n",
              "    x.observe(outputEl, {childList: true});\n",
              "}}\n",
              "\n",
              "                        })                };                            </script>        </div>\n",
              "</body>\n",
              "</html>"
            ]
          },
          "metadata": {}
        }
      ]
    },
    {
      "cell_type": "code",
      "source": [
        "metrics"
      ],
      "metadata": {
        "colab": {
          "base_uri": "https://localhost:8080/",
          "height": 300
        },
        "id": "Dl6oltfF3xFd",
        "outputId": "df04c4d3-3e22-4cdd-ab26-610b5be6c825"
      },
      "execution_count": 94,
      "outputs": [
        {
          "output_type": "execute_result",
          "data": {
            "text/plain": [
              "          authors      commits  small_changes  medium_changes  big_changes  \\\n",
              "count   53.000000    53.000000           53.0        53.00000    53.000000   \n",
              "mean   433.377358  1577.433962            0.0      1153.09434   424.339623   \n",
              "std    112.929731   525.464758            0.0       371.81469   160.623059   \n",
              "min    121.000000   308.000000            0.0       248.00000    60.000000   \n",
              "25%    376.000000  1330.000000            0.0       995.00000   336.000000   \n",
              "50%    464.000000  1622.000000            0.0      1188.00000   414.000000   \n",
              "75%    504.000000  2004.000000            0.0      1432.00000   547.000000   \n",
              "max    616.000000  2389.000000            0.0      1737.00000   697.000000   \n",
              "\n",
              "       important_changes  tedious_changes  dense_changes   new_funcs  \\\n",
              "count          53.000000        53.000000      53.000000   53.000000   \n",
              "mean         1548.433962       728.811321     723.433962  310.377358   \n",
              "std           518.046534       246.033773     248.675763  110.423873   \n",
              "min           304.000000       198.000000     144.000000   87.000000   \n",
              "25%          1300.000000       595.000000     610.000000  233.000000   \n",
              "50%          1601.000000       727.000000     746.000000  328.000000   \n",
              "75%          1962.000000       929.000000     930.000000  391.000000   \n",
              "max          2340.000000      1161.000000    1150.000000  488.000000   \n",
              "\n",
              "          cleanup    bug_fixes  triggers  \n",
              "count   53.000000    53.000000      53.0  \n",
              "mean    84.056604  1182.811321       0.0  \n",
              "std     31.123461   393.195296       0.0  \n",
              "min     10.000000   211.000000       0.0  \n",
              "25%     66.000000  1020.000000       0.0  \n",
              "50%     86.000000  1206.000000       0.0  \n",
              "75%    107.000000  1486.000000       0.0  \n",
              "max    146.000000  1796.000000       0.0  "
            ],
            "text/html": [
              "\n",
              "  <div id=\"df-8883b29c-b3dd-4b09-a5da-3ad3f2acfa49\">\n",
              "    <div class=\"colab-df-container\">\n",
              "      <div>\n",
              "<style scoped>\n",
              "    .dataframe tbody tr th:only-of-type {\n",
              "        vertical-align: middle;\n",
              "    }\n",
              "\n",
              "    .dataframe tbody tr th {\n",
              "        vertical-align: top;\n",
              "    }\n",
              "\n",
              "    .dataframe thead th {\n",
              "        text-align: right;\n",
              "    }\n",
              "</style>\n",
              "<table border=\"1\" class=\"dataframe\">\n",
              "  <thead>\n",
              "    <tr style=\"text-align: right;\">\n",
              "      <th></th>\n",
              "      <th>authors</th>\n",
              "      <th>commits</th>\n",
              "      <th>small_changes</th>\n",
              "      <th>medium_changes</th>\n",
              "      <th>big_changes</th>\n",
              "      <th>important_changes</th>\n",
              "      <th>tedious_changes</th>\n",
              "      <th>dense_changes</th>\n",
              "      <th>new_funcs</th>\n",
              "      <th>cleanup</th>\n",
              "      <th>bug_fixes</th>\n",
              "      <th>triggers</th>\n",
              "    </tr>\n",
              "  </thead>\n",
              "  <tbody>\n",
              "    <tr>\n",
              "      <th>count</th>\n",
              "      <td>53.000000</td>\n",
              "      <td>53.000000</td>\n",
              "      <td>53.0</td>\n",
              "      <td>53.00000</td>\n",
              "      <td>53.000000</td>\n",
              "      <td>53.000000</td>\n",
              "      <td>53.000000</td>\n",
              "      <td>53.000000</td>\n",
              "      <td>53.000000</td>\n",
              "      <td>53.000000</td>\n",
              "      <td>53.000000</td>\n",
              "      <td>53.0</td>\n",
              "    </tr>\n",
              "    <tr>\n",
              "      <th>mean</th>\n",
              "      <td>433.377358</td>\n",
              "      <td>1577.433962</td>\n",
              "      <td>0.0</td>\n",
              "      <td>1153.09434</td>\n",
              "      <td>424.339623</td>\n",
              "      <td>1548.433962</td>\n",
              "      <td>728.811321</td>\n",
              "      <td>723.433962</td>\n",
              "      <td>310.377358</td>\n",
              "      <td>84.056604</td>\n",
              "      <td>1182.811321</td>\n",
              "      <td>0.0</td>\n",
              "    </tr>\n",
              "    <tr>\n",
              "      <th>std</th>\n",
              "      <td>112.929731</td>\n",
              "      <td>525.464758</td>\n",
              "      <td>0.0</td>\n",
              "      <td>371.81469</td>\n",
              "      <td>160.623059</td>\n",
              "      <td>518.046534</td>\n",
              "      <td>246.033773</td>\n",
              "      <td>248.675763</td>\n",
              "      <td>110.423873</td>\n",
              "      <td>31.123461</td>\n",
              "      <td>393.195296</td>\n",
              "      <td>0.0</td>\n",
              "    </tr>\n",
              "    <tr>\n",
              "      <th>min</th>\n",
              "      <td>121.000000</td>\n",
              "      <td>308.000000</td>\n",
              "      <td>0.0</td>\n",
              "      <td>248.00000</td>\n",
              "      <td>60.000000</td>\n",
              "      <td>304.000000</td>\n",
              "      <td>198.000000</td>\n",
              "      <td>144.000000</td>\n",
              "      <td>87.000000</td>\n",
              "      <td>10.000000</td>\n",
              "      <td>211.000000</td>\n",
              "      <td>0.0</td>\n",
              "    </tr>\n",
              "    <tr>\n",
              "      <th>25%</th>\n",
              "      <td>376.000000</td>\n",
              "      <td>1330.000000</td>\n",
              "      <td>0.0</td>\n",
              "      <td>995.00000</td>\n",
              "      <td>336.000000</td>\n",
              "      <td>1300.000000</td>\n",
              "      <td>595.000000</td>\n",
              "      <td>610.000000</td>\n",
              "      <td>233.000000</td>\n",
              "      <td>66.000000</td>\n",
              "      <td>1020.000000</td>\n",
              "      <td>0.0</td>\n",
              "    </tr>\n",
              "    <tr>\n",
              "      <th>50%</th>\n",
              "      <td>464.000000</td>\n",
              "      <td>1622.000000</td>\n",
              "      <td>0.0</td>\n",
              "      <td>1188.00000</td>\n",
              "      <td>414.000000</td>\n",
              "      <td>1601.000000</td>\n",
              "      <td>727.000000</td>\n",
              "      <td>746.000000</td>\n",
              "      <td>328.000000</td>\n",
              "      <td>86.000000</td>\n",
              "      <td>1206.000000</td>\n",
              "      <td>0.0</td>\n",
              "    </tr>\n",
              "    <tr>\n",
              "      <th>75%</th>\n",
              "      <td>504.000000</td>\n",
              "      <td>2004.000000</td>\n",
              "      <td>0.0</td>\n",
              "      <td>1432.00000</td>\n",
              "      <td>547.000000</td>\n",
              "      <td>1962.000000</td>\n",
              "      <td>929.000000</td>\n",
              "      <td>930.000000</td>\n",
              "      <td>391.000000</td>\n",
              "      <td>107.000000</td>\n",
              "      <td>1486.000000</td>\n",
              "      <td>0.0</td>\n",
              "    </tr>\n",
              "    <tr>\n",
              "      <th>max</th>\n",
              "      <td>616.000000</td>\n",
              "      <td>2389.000000</td>\n",
              "      <td>0.0</td>\n",
              "      <td>1737.00000</td>\n",
              "      <td>697.000000</td>\n",
              "      <td>2340.000000</td>\n",
              "      <td>1161.000000</td>\n",
              "      <td>1150.000000</td>\n",
              "      <td>488.000000</td>\n",
              "      <td>146.000000</td>\n",
              "      <td>1796.000000</td>\n",
              "      <td>0.0</td>\n",
              "    </tr>\n",
              "  </tbody>\n",
              "</table>\n",
              "</div>\n",
              "      <button class=\"colab-df-convert\" onclick=\"convertToInteractive('df-8883b29c-b3dd-4b09-a5da-3ad3f2acfa49')\"\n",
              "              title=\"Convert this dataframe to an interactive table.\"\n",
              "              style=\"display:none;\">\n",
              "        \n",
              "  <svg xmlns=\"http://www.w3.org/2000/svg\" height=\"24px\"viewBox=\"0 0 24 24\"\n",
              "       width=\"24px\">\n",
              "    <path d=\"M0 0h24v24H0V0z\" fill=\"none\"/>\n",
              "    <path d=\"M18.56 5.44l.94 2.06.94-2.06 2.06-.94-2.06-.94-.94-2.06-.94 2.06-2.06.94zm-11 1L8.5 8.5l.94-2.06 2.06-.94-2.06-.94L8.5 2.5l-.94 2.06-2.06.94zm10 10l.94 2.06.94-2.06 2.06-.94-2.06-.94-.94-2.06-.94 2.06-2.06.94z\"/><path d=\"M17.41 7.96l-1.37-1.37c-.4-.4-.92-.59-1.43-.59-.52 0-1.04.2-1.43.59L10.3 9.45l-7.72 7.72c-.78.78-.78 2.05 0 2.83L4 21.41c.39.39.9.59 1.41.59.51 0 1.02-.2 1.41-.59l7.78-7.78 2.81-2.81c.8-.78.8-2.07 0-2.86zM5.41 20L4 18.59l7.72-7.72 1.47 1.35L5.41 20z\"/>\n",
              "  </svg>\n",
              "      </button>\n",
              "      \n",
              "  <style>\n",
              "    .colab-df-container {\n",
              "      display:flex;\n",
              "      flex-wrap:wrap;\n",
              "      gap: 12px;\n",
              "    }\n",
              "\n",
              "    .colab-df-convert {\n",
              "      background-color: #E8F0FE;\n",
              "      border: none;\n",
              "      border-radius: 50%;\n",
              "      cursor: pointer;\n",
              "      display: none;\n",
              "      fill: #1967D2;\n",
              "      height: 32px;\n",
              "      padding: 0 0 0 0;\n",
              "      width: 32px;\n",
              "    }\n",
              "\n",
              "    .colab-df-convert:hover {\n",
              "      background-color: #E2EBFA;\n",
              "      box-shadow: 0px 1px 2px rgba(60, 64, 67, 0.3), 0px 1px 3px 1px rgba(60, 64, 67, 0.15);\n",
              "      fill: #174EA6;\n",
              "    }\n",
              "\n",
              "    [theme=dark] .colab-df-convert {\n",
              "      background-color: #3B4455;\n",
              "      fill: #D2E3FC;\n",
              "    }\n",
              "\n",
              "    [theme=dark] .colab-df-convert:hover {\n",
              "      background-color: #434B5C;\n",
              "      box-shadow: 0px 1px 3px 1px rgba(0, 0, 0, 0.15);\n",
              "      filter: drop-shadow(0px 1px 2px rgba(0, 0, 0, 0.3));\n",
              "      fill: #FFFFFF;\n",
              "    }\n",
              "  </style>\n",
              "\n",
              "      <script>\n",
              "        const buttonEl =\n",
              "          document.querySelector('#df-8883b29c-b3dd-4b09-a5da-3ad3f2acfa49 button.colab-df-convert');\n",
              "        buttonEl.style.display =\n",
              "          google.colab.kernel.accessAllowed ? 'block' : 'none';\n",
              "\n",
              "        async function convertToInteractive(key) {\n",
              "          const element = document.querySelector('#df-8883b29c-b3dd-4b09-a5da-3ad3f2acfa49');\n",
              "          const dataTable =\n",
              "            await google.colab.kernel.invokeFunction('convertToInteractive',\n",
              "                                                     [key], {});\n",
              "          if (!dataTable) return;\n",
              "\n",
              "          const docLinkHtml = 'Like what you see? Visit the ' +\n",
              "            '<a target=\"_blank\" href=https://colab.research.google.com/notebooks/data_table.ipynb>data table notebook</a>'\n",
              "            + ' to learn more about interactive tables.';\n",
              "          element.innerHTML = '';\n",
              "          dataTable['output_type'] = 'display_data';\n",
              "          await google.colab.output.renderOutput(dataTable, element);\n",
              "          const docLink = document.createElement('div');\n",
              "          docLink.innerHTML = docLinkHtml;\n",
              "          element.appendChild(docLink);\n",
              "        }\n",
              "      </script>\n",
              "    </div>\n",
              "  </div>\n",
              "  "
            ]
          },
          "metadata": {},
          "execution_count": 94
        }
      ]
    },
    {
      "cell_type": "markdown",
      "source": [
        "## &#128722; Data"
      ],
      "metadata": {
        "id": "WJcBUDqgyu2V"
      }
    },
    {
      "cell_type": "markdown",
      "source": [
        "### &#9759; Tables"
      ],
      "metadata": {
        "id": "rDlRXb7G0l0w"
      }
    },
    {
      "cell_type": "code",
      "source": [
        "TABLES_QUERY = \"SELECT * FROM information_schema.tables WHERE table_type='BASE TABLE';\""
      ],
      "metadata": {
        "id": "Iu5Eb1dQ0q0r"
      },
      "execution_count": 40,
      "outputs": []
    },
    {
      "cell_type": "code",
      "source": [
        "df_tables = signal.query_dataframe(TABLES_QUERY)"
      ],
      "metadata": {
        "id": "MA-wn1lk0yYD"
      },
      "execution_count": 41,
      "outputs": []
    },
    {
      "cell_type": "code",
      "source": [
        "table_names = df_tables.table_name.unique()"
      ],
      "metadata": {
        "id": "simEHVpW1vAH"
      },
      "execution_count": 42,
      "outputs": []
    },
    {
      "cell_type": "code",
      "source": [
        "print(f\"There are {len(table_names)} tables currently present in the SIGNAL database.\")"
      ],
      "metadata": {
        "colab": {
          "base_uri": "https://localhost:8080/"
        },
        "id": "eFLHvQGS1u7o",
        "outputId": "01c49b1b-387c-4118-9c24-3201e025513e"
      },
      "execution_count": 43,
      "outputs": [
        {
          "output_type": "stream",
          "name": "stdout",
          "text": [
            "There are 87 tables currently present in the SIGNAL database.\n"
          ]
        }
      ]
    },
    {
      "cell_type": "code",
      "source": [
        "df_tables.head()"
      ],
      "metadata": {
        "colab": {
          "base_uri": "https://localhost:8080/",
          "height": 206
        },
        "id": "bJ3ny5e21u4f",
        "outputId": "48b9417f-419a-48e1-85c5-839e60a5877a"
      },
      "execution_count": 44,
      "outputs": [
        {
          "output_type": "execute_result",
          "data": {
            "text/plain": [
              "  table_catalog table_schema            table_name  table_type  \\\n",
              "0        signal       public      scraped_projects  BASE TABLE   \n",
              "1        signal       public  scraped_patch_series  BASE TABLE   \n",
              "2        signal       public                  diff  BASE TABLE   \n",
              "3        signal       public                thread  BASE TABLE   \n",
              "4        signal       public             git_files  BASE TABLE   \n",
              "\n",
              "  self_referencing_column_name reference_generation user_defined_type_catalog  \\\n",
              "0                         None                 None                      None   \n",
              "1                         None                 None                      None   \n",
              "2                         None                 None                      None   \n",
              "3                         None                 None                      None   \n",
              "4                         None                 None                      None   \n",
              "\n",
              "  user_defined_type_schema user_defined_type_name is_insertable_into is_typed  \\\n",
              "0                     None                   None                YES       NO   \n",
              "1                     None                   None                YES       NO   \n",
              "2                     None                   None                YES       NO   \n",
              "3                     None                   None                YES       NO   \n",
              "4                     None                   None                YES       NO   \n",
              "\n",
              "  commit_action  \n",
              "0          None  \n",
              "1          None  \n",
              "2          None  \n",
              "3          None  \n",
              "4          None  "
            ],
            "text/html": [
              "\n",
              "  <div id=\"df-a2518e55-20ac-44d8-949f-a3336262f319\">\n",
              "    <div class=\"colab-df-container\">\n",
              "      <div>\n",
              "<style scoped>\n",
              "    .dataframe tbody tr th:only-of-type {\n",
              "        vertical-align: middle;\n",
              "    }\n",
              "\n",
              "    .dataframe tbody tr th {\n",
              "        vertical-align: top;\n",
              "    }\n",
              "\n",
              "    .dataframe thead th {\n",
              "        text-align: right;\n",
              "    }\n",
              "</style>\n",
              "<table border=\"1\" class=\"dataframe\">\n",
              "  <thead>\n",
              "    <tr style=\"text-align: right;\">\n",
              "      <th></th>\n",
              "      <th>table_catalog</th>\n",
              "      <th>table_schema</th>\n",
              "      <th>table_name</th>\n",
              "      <th>table_type</th>\n",
              "      <th>self_referencing_column_name</th>\n",
              "      <th>reference_generation</th>\n",
              "      <th>user_defined_type_catalog</th>\n",
              "      <th>user_defined_type_schema</th>\n",
              "      <th>user_defined_type_name</th>\n",
              "      <th>is_insertable_into</th>\n",
              "      <th>is_typed</th>\n",
              "      <th>commit_action</th>\n",
              "    </tr>\n",
              "  </thead>\n",
              "  <tbody>\n",
              "    <tr>\n",
              "      <th>0</th>\n",
              "      <td>signal</td>\n",
              "      <td>public</td>\n",
              "      <td>scraped_projects</td>\n",
              "      <td>BASE TABLE</td>\n",
              "      <td>None</td>\n",
              "      <td>None</td>\n",
              "      <td>None</td>\n",
              "      <td>None</td>\n",
              "      <td>None</td>\n",
              "      <td>YES</td>\n",
              "      <td>NO</td>\n",
              "      <td>None</td>\n",
              "    </tr>\n",
              "    <tr>\n",
              "      <th>1</th>\n",
              "      <td>signal</td>\n",
              "      <td>public</td>\n",
              "      <td>scraped_patch_series</td>\n",
              "      <td>BASE TABLE</td>\n",
              "      <td>None</td>\n",
              "      <td>None</td>\n",
              "      <td>None</td>\n",
              "      <td>None</td>\n",
              "      <td>None</td>\n",
              "      <td>YES</td>\n",
              "      <td>NO</td>\n",
              "      <td>None</td>\n",
              "    </tr>\n",
              "    <tr>\n",
              "      <th>2</th>\n",
              "      <td>signal</td>\n",
              "      <td>public</td>\n",
              "      <td>diff</td>\n",
              "      <td>BASE TABLE</td>\n",
              "      <td>None</td>\n",
              "      <td>None</td>\n",
              "      <td>None</td>\n",
              "      <td>None</td>\n",
              "      <td>None</td>\n",
              "      <td>YES</td>\n",
              "      <td>NO</td>\n",
              "      <td>None</td>\n",
              "    </tr>\n",
              "    <tr>\n",
              "      <th>3</th>\n",
              "      <td>signal</td>\n",
              "      <td>public</td>\n",
              "      <td>thread</td>\n",
              "      <td>BASE TABLE</td>\n",
              "      <td>None</td>\n",
              "      <td>None</td>\n",
              "      <td>None</td>\n",
              "      <td>None</td>\n",
              "      <td>None</td>\n",
              "      <td>YES</td>\n",
              "      <td>NO</td>\n",
              "      <td>None</td>\n",
              "    </tr>\n",
              "    <tr>\n",
              "      <th>4</th>\n",
              "      <td>signal</td>\n",
              "      <td>public</td>\n",
              "      <td>git_files</td>\n",
              "      <td>BASE TABLE</td>\n",
              "      <td>None</td>\n",
              "      <td>None</td>\n",
              "      <td>None</td>\n",
              "      <td>None</td>\n",
              "      <td>None</td>\n",
              "      <td>YES</td>\n",
              "      <td>NO</td>\n",
              "      <td>None</td>\n",
              "    </tr>\n",
              "  </tbody>\n",
              "</table>\n",
              "</div>\n",
              "      <button class=\"colab-df-convert\" onclick=\"convertToInteractive('df-a2518e55-20ac-44d8-949f-a3336262f319')\"\n",
              "              title=\"Convert this dataframe to an interactive table.\"\n",
              "              style=\"display:none;\">\n",
              "        \n",
              "  <svg xmlns=\"http://www.w3.org/2000/svg\" height=\"24px\"viewBox=\"0 0 24 24\"\n",
              "       width=\"24px\">\n",
              "    <path d=\"M0 0h24v24H0V0z\" fill=\"none\"/>\n",
              "    <path d=\"M18.56 5.44l.94 2.06.94-2.06 2.06-.94-2.06-.94-.94-2.06-.94 2.06-2.06.94zm-11 1L8.5 8.5l.94-2.06 2.06-.94-2.06-.94L8.5 2.5l-.94 2.06-2.06.94zm10 10l.94 2.06.94-2.06 2.06-.94-2.06-.94-.94-2.06-.94 2.06-2.06.94z\"/><path d=\"M17.41 7.96l-1.37-1.37c-.4-.4-.92-.59-1.43-.59-.52 0-1.04.2-1.43.59L10.3 9.45l-7.72 7.72c-.78.78-.78 2.05 0 2.83L4 21.41c.39.39.9.59 1.41.59.51 0 1.02-.2 1.41-.59l7.78-7.78 2.81-2.81c.8-.78.8-2.07 0-2.86zM5.41 20L4 18.59l7.72-7.72 1.47 1.35L5.41 20z\"/>\n",
              "  </svg>\n",
              "      </button>\n",
              "      \n",
              "  <style>\n",
              "    .colab-df-container {\n",
              "      display:flex;\n",
              "      flex-wrap:wrap;\n",
              "      gap: 12px;\n",
              "    }\n",
              "\n",
              "    .colab-df-convert {\n",
              "      background-color: #E8F0FE;\n",
              "      border: none;\n",
              "      border-radius: 50%;\n",
              "      cursor: pointer;\n",
              "      display: none;\n",
              "      fill: #1967D2;\n",
              "      height: 32px;\n",
              "      padding: 0 0 0 0;\n",
              "      width: 32px;\n",
              "    }\n",
              "\n",
              "    .colab-df-convert:hover {\n",
              "      background-color: #E2EBFA;\n",
              "      box-shadow: 0px 1px 2px rgba(60, 64, 67, 0.3), 0px 1px 3px 1px rgba(60, 64, 67, 0.15);\n",
              "      fill: #174EA6;\n",
              "    }\n",
              "\n",
              "    [theme=dark] .colab-df-convert {\n",
              "      background-color: #3B4455;\n",
              "      fill: #D2E3FC;\n",
              "    }\n",
              "\n",
              "    [theme=dark] .colab-df-convert:hover {\n",
              "      background-color: #434B5C;\n",
              "      box-shadow: 0px 1px 3px 1px rgba(0, 0, 0, 0.15);\n",
              "      filter: drop-shadow(0px 1px 2px rgba(0, 0, 0, 0.3));\n",
              "      fill: #FFFFFF;\n",
              "    }\n",
              "  </style>\n",
              "\n",
              "      <script>\n",
              "        const buttonEl =\n",
              "          document.querySelector('#df-a2518e55-20ac-44d8-949f-a3336262f319 button.colab-df-convert');\n",
              "        buttonEl.style.display =\n",
              "          google.colab.kernel.accessAllowed ? 'block' : 'none';\n",
              "\n",
              "        async function convertToInteractive(key) {\n",
              "          const element = document.querySelector('#df-a2518e55-20ac-44d8-949f-a3336262f319');\n",
              "          const dataTable =\n",
              "            await google.colab.kernel.invokeFunction('convertToInteractive',\n",
              "                                                     [key], {});\n",
              "          if (!dataTable) return;\n",
              "\n",
              "          const docLinkHtml = 'Like what you see? Visit the ' +\n",
              "            '<a target=\"_blank\" href=https://colab.research.google.com/notebooks/data_table.ipynb>data table notebook</a>'\n",
              "            + ' to learn more about interactive tables.';\n",
              "          element.innerHTML = '';\n",
              "          dataTable['output_type'] = 'display_data';\n",
              "          await google.colab.output.renderOutput(dataTable, element);\n",
              "          const docLink = document.createElement('div');\n",
              "          docLink.innerHTML = docLinkHtml;\n",
              "          element.appendChild(docLink);\n",
              "        }\n",
              "      </script>\n",
              "    </div>\n",
              "  </div>\n",
              "  "
            ]
          },
          "metadata": {},
          "execution_count": 44
        }
      ]
    },
    {
      "cell_type": "code",
      "source": [
        "table_names"
      ],
      "metadata": {
        "id": "fDIf58l1_xhA",
        "outputId": "071a6d7c-c13a-4f22-fcc5-c834233c5660",
        "colab": {
          "base_uri": "https://localhost:8080/"
        }
      },
      "execution_count": 45,
      "outputs": [
        {
          "output_type": "execute_result",
          "data": {
            "text/plain": [
              "array(['scraped_projects', 'scraped_patch_series', 'diff', 'thread',\n",
              "       'git_files', 'email', 'git_commit_edges', 'pg_statistic',\n",
              "       'pg_type', 'git_file_changes', 'scraped_patches',\n",
              "       'alembic_version', 'api_key', 'pg_foreign_table', 'pg_authid',\n",
              "       'signal_history', 'pg_statistic_ext_data', 'git_repos',\n",
              "       'user_identities', 'person', 'scraped_patch_submitters',\n",
              "       'mailing_list', 'git_sigs', 'pg_user_mapping', 'pg_subscription',\n",
              "       'pg_attribute', 'pg_proc', 'pg_class', 'pg_attrdef',\n",
              "       'pg_constraint', 'pg_inherits', 'pg_index', 'pg_operator',\n",
              "       'pg_opfamily', 'pg_opclass', 'pg_am', 'pg_amop', 'pg_amproc',\n",
              "       'pg_language', 'pg_largeobject_metadata', 'pg_aggregate',\n",
              "       'pg_statistic_ext', 'pg_rewrite', 'pg_trigger', 'pg_event_trigger',\n",
              "       'pg_description', 'pg_cast', 'pg_enum', 'pg_namespace',\n",
              "       'pg_conversion', 'pg_depend', 'pg_database', 'pg_db_role_setting',\n",
              "       'pg_tablespace', 'pg_auth_members', 'pg_shdepend',\n",
              "       'pg_shdescription', 'pg_ts_config', 'pg_ts_config_map',\n",
              "       'pg_ts_dict', 'pg_ts_parser', 'pg_ts_template', 'pg_extension',\n",
              "       'pg_foreign_data_wrapper', 'pg_foreign_server', 'pg_policy',\n",
              "       'pg_replication_origin', 'pg_default_acl', 'pg_init_privs',\n",
              "       'pg_seclabel', 'pg_shseclabel', 'pg_collation',\n",
              "       'pg_partitioned_table', 'pg_range', 'pg_transform', 'pg_sequence',\n",
              "       'pg_publication', 'pg_publication_rel', 'pg_subscription_rel',\n",
              "       'pg_largeobject', 'git_xrefs', 'sql_parts',\n",
              "       'sql_implementation_info', 'sql_features', 'sql_sizing',\n",
              "       'patchwork_person_id', 'git_commits'], dtype=object)"
            ]
          },
          "metadata": {},
          "execution_count": 45
        }
      ]
    },
    {
      "cell_type": "code",
      "source": [
        "print_table_info(table_name='email')\n",
        "print_table_info(table_name='scraped_projects')\n",
        "print_table_info(table_name='scraped_patch_series')\n",
        "print_table_info(table_name='diff')\n",
        "print_table_info(table_name='thread')\n",
        "print_table_info(table_name='git_files')\n",
        "print_table_info(table_name='git_commit_edges')\n",
        "print_table_info(table_name='git_file_changes')\n",
        "print_table_info(table_name='scraped_patches')\n",
        "print_table_info(table_name='git_repos')\n",
        "print_table_info(table_name='user_identities')\n",
        "print_table_info(table_name='person')\n",
        "print_table_info(table_name='scraped_patch_submitters')\n",
        "print_table_info(table_name='mailing_list')\n",
        "print_table_info(table_name='git_sigs')\n",
        "print_table_info(table_name='patchwork_person_id')\n",
        "print_table_info(table_name='git_commits')\n",
        "print_table_info(table_name='git_xrefs')"
      ],
      "metadata": {
        "colab": {
          "base_uri": "https://localhost:8080/"
        },
        "id": "H7WPgUJqYKJo",
        "outputId": "341685ee-db2f-43d0-f8aa-3b22582deb57"
      },
      "execution_count": 46,
      "outputs": [
        {
          "output_type": "stream",
          "name": "stdout",
          "text": [
            "- In total, there are 828,219 records in the email table.\n",
            "-- Table email contains 15 columns, namely: ['id', 'mailing_list_id', 'author_id', 'timestamp_sent', 'timestamp_recv', 'reply_to_url', 'thread_id', 'persuasion', 'reply_to_message_id', 'subject', 'body', 'url', 'clean_body', 'email_id', 'message_id'].\n",
            "\n",
            "- In total, there are 93 records in the scraped_projects table.\n",
            "-- Table scraped_projects contains 2 columns, namely: ['id', 'name'].\n",
            "\n",
            "- In total, there are 280,722 records in the scraped_patch_series table.\n",
            "-- Table scraped_patch_series contains 3 columns, namely: ['id', 'patchwork_id', 'name'].\n",
            "\n",
            "- In total, there are 667,972 records in the diff table.\n",
            "-- Table diff contains 4 columns, namely: ['id', 'email_id', 'file', 'contents'].\n",
            "\n",
            "- In total, there are 117,508 records in the thread table.\n",
            "-- Table thread contains 20 columns, namely: ['id', 'deg_max', 'deg_max_2', 'deg_max_3', 'deg_max_4', 'deg_max_5', 'patch', 'emails', 'users', 'start', 'days', 'depth', 'star_nodes', 'h_index', 'deg_gini', 'name', 'root_message_id', 'url', 'subject', 'category'].\n",
            "\n",
            "- In total, there are 62,131 records in the git_files table.\n",
            "-- Table git_files contains 3 columns, namely: ['id', 'repository_id', 'file_path'].\n",
            "\n",
            "- In total, there are 190,448 records in the git_commit_edges table.\n",
            "-- Table git_commit_edges contains 2 columns, namely: ['parent_hash', 'child_hash'].\n",
            "\n",
            "- In total, there are 2,530,931 records in the git_file_changes table.\n",
            "-- Table git_file_changes contains 4 columns, namely: ['file_id', 'insertions', 'deletions', 'commit_hash'].\n",
            "\n",
            "- In total, there are 938,137 records in the scraped_patches table.\n",
            "-- Table scraped_patches contains 17 columns, namely: ['id', 'project_id', 'patch_id', 'review_count', 'tested_count', 'success_count', 'warning_count', 'fail_count', 'submitter_id', 'series_id', 'ack_count', 'mail_id', 'name', 'commit_hash', 'delegate', 'state', 'date'].\n",
            "\n",
            "- In total, there are 1 records in the git_repos table.\n",
            "-- Table git_repos contains 2 columns, namely: ['id', 'name'].\n",
            "\n",
            "- In total, there are 16,802 records in the user_identities table.\n",
            "-- Table user_identities contains 2 columns, namely: ['id', 'name'].\n",
            "\n",
            "- In total, there are 21,345 records in the person table.\n",
            "-- Table person contains 5 columns, namely: ['id', 'is_bot', 'cluster_id', 'name', 'email_address'].\n",
            "\n",
            "- In total, there are 10,793 records in the scraped_patch_submitters table.\n",
            "-- Table scraped_patch_submitters contains 4 columns, namely: ['id', 'patchwork_id', 'cluster_id', 'name'].\n",
            "\n",
            "- In total, there are 1 records in the mailing_list table.\n",
            "-- Table mailing_list contains 2 columns, namely: ['id', 'name'].\n",
            "\n",
            "- In total, there are 461,571 records in the git_sigs table.\n",
            "-- Table git_sigs contains 5 columns, namely: ['id', 'commit_hash', 'signature_type', 'signature_name', 'signature_email'].\n",
            "\n",
            "- In total, there are 0 records in the patchwork_person_id table.\n",
            "-- Table patchwork_person_id contains 3 columns, namely: ['id', 'person_id', 'patchwork_id'].\n",
            "\n",
            "- In total, there are 176,620 records in the git_commits table.\n",
            "-- Table git_commits contains 28 columns, namely: ['coverage', 'repository_id', 'is_merge', 'authored_tz_offset', 'committed_tz_offset', 'density', 'effort', 'importance', 'new_branch', 'quality', 'rank', 'author_identity_id', 'authored_date', 'committed_date', 'files_touched', 'insertions', 'deletions', 'directories_touched', 'commit_name', 'author_name', 'author_email', 'commit_hash', 'committer_name', 'committer_email', 'commit_size', 'message', 'commit_type', 'activity'].\n",
            "\n",
            "- In total, there are 41,237 records in the git_xrefs table.\n",
            "-- Table git_xrefs contains 5 columns, namely: ['id', 'referencing_commit_hash', 'referenced_commit_hash', 'reference_type', 'ref_line'].\n",
            "\n"
          ]
        }
      ]
    },
    {
      "cell_type": "markdown",
      "source": [
        "## &#129504; Plots"
      ],
      "metadata": {
        "id": "nSoeZAsTEePz"
      }
    },
    {
      "cell_type": "markdown",
      "source": [
        "### &#9759; person Table"
      ],
      "metadata": {
        "id": "yQG33hB_uDI9"
      }
    },
    {
      "cell_type": "code",
      "source": [
        "# person table\n",
        "df_person = get_db_records(\"SELECT * FROM person;\")"
      ],
      "metadata": {
        "id": "2Zb4yexoy_zL"
      },
      "execution_count": 28,
      "outputs": []
    },
    {
      "cell_type": "code",
      "source": [
        "df_person.info()"
      ],
      "metadata": {
        "colab": {
          "base_uri": "https://localhost:8080/"
        },
        "id": "Hq4jkyUkt2Cc",
        "outputId": "98a84cfc-1a5b-4362-a079-33295ac97ebf"
      },
      "execution_count": 29,
      "outputs": [
        {
          "output_type": "stream",
          "name": "stdout",
          "text": [
            "<class 'pandas.core.frame.DataFrame'>\n",
            "RangeIndex: 21345 entries, 0 to 21344\n",
            "Data columns (total 5 columns):\n",
            " #   Column         Non-Null Count  Dtype  \n",
            "---  ------         --------------  -----  \n",
            " 0   id             21345 non-null  int64  \n",
            " 1   name           21345 non-null  object \n",
            " 2   email_address  21345 non-null  object \n",
            " 3   is_bot         21345 non-null  int64  \n",
            " 4   cluster_id     17689 non-null  float64\n",
            "dtypes: float64(1), int64(2), object(2)\n",
            "memory usage: 833.9+ KB\n"
          ]
        }
      ]
    },
    {
      "cell_type": "code",
      "source": [
        "df_person.head()"
      ],
      "metadata": {
        "colab": {
          "base_uri": "https://localhost:8080/",
          "height": 206
        },
        "id": "8bnup_Bwt3n8",
        "outputId": "cdae3b66-75ab-4173-92e5-397ad713652c"
      },
      "execution_count": 30,
      "outputs": [
        {
          "output_type": "execute_result",
          "data": {
            "text/plain": [
              "    id                       name              email_address  is_bot  \\\n",
              "0   24          kernel test robot              lkp@intel.com       1   \n",
              "1   46  pr-tracker-bot@kernel.org  pr-tracker-bot@kernel.org       1   \n",
              "2  113          kernel test robot           lkp@ff58d72860ac       1   \n",
              "3  141          kernel test robot           lkp@shao2-debian       1   \n",
              "4  144          kernel test robot   rong.a.chen@shao2-debian       1   \n",
              "\n",
              "   cluster_id  \n",
              "0         NaN  \n",
              "1         NaN  \n",
              "2         NaN  \n",
              "3         NaN  \n",
              "4         NaN  "
            ],
            "text/html": [
              "\n",
              "  <div id=\"df-c1ab9099-ebab-45f7-9957-8c1cd79e8136\">\n",
              "    <div class=\"colab-df-container\">\n",
              "      <div>\n",
              "<style scoped>\n",
              "    .dataframe tbody tr th:only-of-type {\n",
              "        vertical-align: middle;\n",
              "    }\n",
              "\n",
              "    .dataframe tbody tr th {\n",
              "        vertical-align: top;\n",
              "    }\n",
              "\n",
              "    .dataframe thead th {\n",
              "        text-align: right;\n",
              "    }\n",
              "</style>\n",
              "<table border=\"1\" class=\"dataframe\">\n",
              "  <thead>\n",
              "    <tr style=\"text-align: right;\">\n",
              "      <th></th>\n",
              "      <th>id</th>\n",
              "      <th>name</th>\n",
              "      <th>email_address</th>\n",
              "      <th>is_bot</th>\n",
              "      <th>cluster_id</th>\n",
              "    </tr>\n",
              "  </thead>\n",
              "  <tbody>\n",
              "    <tr>\n",
              "      <th>0</th>\n",
              "      <td>24</td>\n",
              "      <td>kernel test robot</td>\n",
              "      <td>lkp@intel.com</td>\n",
              "      <td>1</td>\n",
              "      <td>NaN</td>\n",
              "    </tr>\n",
              "    <tr>\n",
              "      <th>1</th>\n",
              "      <td>46</td>\n",
              "      <td>pr-tracker-bot@kernel.org</td>\n",
              "      <td>pr-tracker-bot@kernel.org</td>\n",
              "      <td>1</td>\n",
              "      <td>NaN</td>\n",
              "    </tr>\n",
              "    <tr>\n",
              "      <th>2</th>\n",
              "      <td>113</td>\n",
              "      <td>kernel test robot</td>\n",
              "      <td>lkp@ff58d72860ac</td>\n",
              "      <td>1</td>\n",
              "      <td>NaN</td>\n",
              "    </tr>\n",
              "    <tr>\n",
              "      <th>3</th>\n",
              "      <td>141</td>\n",
              "      <td>kernel test robot</td>\n",
              "      <td>lkp@shao2-debian</td>\n",
              "      <td>1</td>\n",
              "      <td>NaN</td>\n",
              "    </tr>\n",
              "    <tr>\n",
              "      <th>4</th>\n",
              "      <td>144</td>\n",
              "      <td>kernel test robot</td>\n",
              "      <td>rong.a.chen@shao2-debian</td>\n",
              "      <td>1</td>\n",
              "      <td>NaN</td>\n",
              "    </tr>\n",
              "  </tbody>\n",
              "</table>\n",
              "</div>\n",
              "      <button class=\"colab-df-convert\" onclick=\"convertToInteractive('df-c1ab9099-ebab-45f7-9957-8c1cd79e8136')\"\n",
              "              title=\"Convert this dataframe to an interactive table.\"\n",
              "              style=\"display:none;\">\n",
              "        \n",
              "  <svg xmlns=\"http://www.w3.org/2000/svg\" height=\"24px\"viewBox=\"0 0 24 24\"\n",
              "       width=\"24px\">\n",
              "    <path d=\"M0 0h24v24H0V0z\" fill=\"none\"/>\n",
              "    <path d=\"M18.56 5.44l.94 2.06.94-2.06 2.06-.94-2.06-.94-.94-2.06-.94 2.06-2.06.94zm-11 1L8.5 8.5l.94-2.06 2.06-.94-2.06-.94L8.5 2.5l-.94 2.06-2.06.94zm10 10l.94 2.06.94-2.06 2.06-.94-2.06-.94-.94-2.06-.94 2.06-2.06.94z\"/><path d=\"M17.41 7.96l-1.37-1.37c-.4-.4-.92-.59-1.43-.59-.52 0-1.04.2-1.43.59L10.3 9.45l-7.72 7.72c-.78.78-.78 2.05 0 2.83L4 21.41c.39.39.9.59 1.41.59.51 0 1.02-.2 1.41-.59l7.78-7.78 2.81-2.81c.8-.78.8-2.07 0-2.86zM5.41 20L4 18.59l7.72-7.72 1.47 1.35L5.41 20z\"/>\n",
              "  </svg>\n",
              "      </button>\n",
              "      \n",
              "  <style>\n",
              "    .colab-df-container {\n",
              "      display:flex;\n",
              "      flex-wrap:wrap;\n",
              "      gap: 12px;\n",
              "    }\n",
              "\n",
              "    .colab-df-convert {\n",
              "      background-color: #E8F0FE;\n",
              "      border: none;\n",
              "      border-radius: 50%;\n",
              "      cursor: pointer;\n",
              "      display: none;\n",
              "      fill: #1967D2;\n",
              "      height: 32px;\n",
              "      padding: 0 0 0 0;\n",
              "      width: 32px;\n",
              "    }\n",
              "\n",
              "    .colab-df-convert:hover {\n",
              "      background-color: #E2EBFA;\n",
              "      box-shadow: 0px 1px 2px rgba(60, 64, 67, 0.3), 0px 1px 3px 1px rgba(60, 64, 67, 0.15);\n",
              "      fill: #174EA6;\n",
              "    }\n",
              "\n",
              "    [theme=dark] .colab-df-convert {\n",
              "      background-color: #3B4455;\n",
              "      fill: #D2E3FC;\n",
              "    }\n",
              "\n",
              "    [theme=dark] .colab-df-convert:hover {\n",
              "      background-color: #434B5C;\n",
              "      box-shadow: 0px 1px 3px 1px rgba(0, 0, 0, 0.15);\n",
              "      filter: drop-shadow(0px 1px 2px rgba(0, 0, 0, 0.3));\n",
              "      fill: #FFFFFF;\n",
              "    }\n",
              "  </style>\n",
              "\n",
              "      <script>\n",
              "        const buttonEl =\n",
              "          document.querySelector('#df-c1ab9099-ebab-45f7-9957-8c1cd79e8136 button.colab-df-convert');\n",
              "        buttonEl.style.display =\n",
              "          google.colab.kernel.accessAllowed ? 'block' : 'none';\n",
              "\n",
              "        async function convertToInteractive(key) {\n",
              "          const element = document.querySelector('#df-c1ab9099-ebab-45f7-9957-8c1cd79e8136');\n",
              "          const dataTable =\n",
              "            await google.colab.kernel.invokeFunction('convertToInteractive',\n",
              "                                                     [key], {});\n",
              "          if (!dataTable) return;\n",
              "\n",
              "          const docLinkHtml = 'Like what you see? Visit the ' +\n",
              "            '<a target=\"_blank\" href=https://colab.research.google.com/notebooks/data_table.ipynb>data table notebook</a>'\n",
              "            + ' to learn more about interactive tables.';\n",
              "          element.innerHTML = '';\n",
              "          dataTable['output_type'] = 'display_data';\n",
              "          await google.colab.output.renderOutput(dataTable, element);\n",
              "          const docLink = document.createElement('div');\n",
              "          docLink.innerHTML = docLinkHtml;\n",
              "          element.appendChild(docLink);\n",
              "        }\n",
              "      </script>\n",
              "    </div>\n",
              "  </div>\n",
              "  "
            ]
          },
          "metadata": {},
          "execution_count": 30
        }
      ]
    },
    {
      "cell_type": "code",
      "source": [
        "tmp_person_is_bot = df_groupby(input_df=df_person, groupby_column='is_bot')\n",
        "tmp_person_is_bot"
      ],
      "metadata": {
        "colab": {
          "base_uri": "https://localhost:8080/"
        },
        "id": "6u5gRhZWt5wu",
        "outputId": "db08980f-2c3a-4f23-f7c5-262172a488f6"
      },
      "execution_count": 31,
      "outputs": [
        {
          "output_type": "execute_result",
          "data": {
            "text/plain": [
              "is_bot\n",
              "1     3656\n",
              "0    17689\n",
              "dtype: int64"
            ]
          },
          "metadata": {},
          "execution_count": 31
        }
      ]
    },
    {
      "cell_type": "code",
      "source": [
        "tmp_person_is_bot"
      ],
      "metadata": {
        "colab": {
          "base_uri": "https://localhost:8080/"
        },
        "id": "iMNSEFOf2yVD",
        "outputId": "6ec26a8c-8f5b-4786-ee0f-0c1d0746e81d"
      },
      "execution_count": 32,
      "outputs": [
        {
          "output_type": "execute_result",
          "data": {
            "text/plain": [
              "is_bot\n",
              "1     3656\n",
              "0    17689\n",
              "dtype: int64"
            ]
          },
          "metadata": {},
          "execution_count": 32
        }
      ]
    },
    {
      "cell_type": "code",
      "source": [
        "bar_plot(value_series=tmp_person_is_bot, log_y=False, labels=dict(is_bot=\"User Type\", value=\"number of records\"))"
      ],
      "metadata": {
        "colab": {
          "base_uri": "https://localhost:8080/",
          "height": 542
        },
        "id": "31ke3mcqvsf8",
        "outputId": "bd3b98b0-d747-416b-abe4-c64402786b64"
      },
      "execution_count": 33,
      "outputs": [
        {
          "output_type": "display_data",
          "data": {
            "text/html": [
              "<html>\n",
              "<head><meta charset=\"utf-8\" /></head>\n",
              "<body>\n",
              "    <div>            <script src=\"https://cdnjs.cloudflare.com/ajax/libs/mathjax/2.7.5/MathJax.js?config=TeX-AMS-MML_SVG\"></script><script type=\"text/javascript\">if (window.MathJax) {MathJax.Hub.Config({SVG: {font: \"STIX-Web\"}});}</script>                <script type=\"text/javascript\">window.PlotlyConfig = {MathJaxConfig: 'local'};</script>\n",
              "        <script src=\"https://cdn.plot.ly/plotly-2.8.3.min.js\"></script>                <div id=\"3d23c105-c424-43dc-911a-28c8790fb192\" class=\"plotly-graph-div\" style=\"height:525px; width:100%;\"></div>            <script type=\"text/javascript\">                                    window.PLOTLYENV=window.PLOTLYENV || {};                                    if (document.getElementById(\"3d23c105-c424-43dc-911a-28c8790fb192\")) {                    Plotly.newPlot(                        \"3d23c105-c424-43dc-911a-28c8790fb192\",                        [{\"alignmentgroup\":\"True\",\"hovertemplate\":\"variable=0<br>User Type=%{x}<br>number of records=%{y}<extra></extra>\",\"legendgroup\":\"0\",\"marker\":{\"color\":\"#636efa\",\"pattern\":{\"shape\":\"\"}},\"name\":\"0\",\"offsetgroup\":\"0\",\"orientation\":\"v\",\"showlegend\":false,\"textposition\":\"auto\",\"x\":[1,0],\"xaxis\":\"x\",\"y\":[3656,17689],\"yaxis\":\"y\",\"type\":\"bar\"}],                        {\"template\":{\"data\":{\"bar\":[{\"error_x\":{\"color\":\"#2a3f5f\"},\"error_y\":{\"color\":\"#2a3f5f\"},\"marker\":{\"line\":{\"color\":\"#E5ECF6\",\"width\":0.5},\"pattern\":{\"fillmode\":\"overlay\",\"size\":10,\"solidity\":0.2}},\"type\":\"bar\"}],\"barpolar\":[{\"marker\":{\"line\":{\"color\":\"#E5ECF6\",\"width\":0.5},\"pattern\":{\"fillmode\":\"overlay\",\"size\":10,\"solidity\":0.2}},\"type\":\"barpolar\"}],\"carpet\":[{\"aaxis\":{\"endlinecolor\":\"#2a3f5f\",\"gridcolor\":\"white\",\"linecolor\":\"white\",\"minorgridcolor\":\"white\",\"startlinecolor\":\"#2a3f5f\"},\"baxis\":{\"endlinecolor\":\"#2a3f5f\",\"gridcolor\":\"white\",\"linecolor\":\"white\",\"minorgridcolor\":\"white\",\"startlinecolor\":\"#2a3f5f\"},\"type\":\"carpet\"}],\"choropleth\":[{\"colorbar\":{\"outlinewidth\":0,\"ticks\":\"\"},\"type\":\"choropleth\"}],\"contour\":[{\"colorbar\":{\"outlinewidth\":0,\"ticks\":\"\"},\"colorscale\":[[0.0,\"#0d0887\"],[0.1111111111111111,\"#46039f\"],[0.2222222222222222,\"#7201a8\"],[0.3333333333333333,\"#9c179e\"],[0.4444444444444444,\"#bd3786\"],[0.5555555555555556,\"#d8576b\"],[0.6666666666666666,\"#ed7953\"],[0.7777777777777778,\"#fb9f3a\"],[0.8888888888888888,\"#fdca26\"],[1.0,\"#f0f921\"]],\"type\":\"contour\"}],\"contourcarpet\":[{\"colorbar\":{\"outlinewidth\":0,\"ticks\":\"\"},\"type\":\"contourcarpet\"}],\"heatmap\":[{\"colorbar\":{\"outlinewidth\":0,\"ticks\":\"\"},\"colorscale\":[[0.0,\"#0d0887\"],[0.1111111111111111,\"#46039f\"],[0.2222222222222222,\"#7201a8\"],[0.3333333333333333,\"#9c179e\"],[0.4444444444444444,\"#bd3786\"],[0.5555555555555556,\"#d8576b\"],[0.6666666666666666,\"#ed7953\"],[0.7777777777777778,\"#fb9f3a\"],[0.8888888888888888,\"#fdca26\"],[1.0,\"#f0f921\"]],\"type\":\"heatmap\"}],\"heatmapgl\":[{\"colorbar\":{\"outlinewidth\":0,\"ticks\":\"\"},\"colorscale\":[[0.0,\"#0d0887\"],[0.1111111111111111,\"#46039f\"],[0.2222222222222222,\"#7201a8\"],[0.3333333333333333,\"#9c179e\"],[0.4444444444444444,\"#bd3786\"],[0.5555555555555556,\"#d8576b\"],[0.6666666666666666,\"#ed7953\"],[0.7777777777777778,\"#fb9f3a\"],[0.8888888888888888,\"#fdca26\"],[1.0,\"#f0f921\"]],\"type\":\"heatmapgl\"}],\"histogram\":[{\"marker\":{\"pattern\":{\"fillmode\":\"overlay\",\"size\":10,\"solidity\":0.2}},\"type\":\"histogram\"}],\"histogram2d\":[{\"colorbar\":{\"outlinewidth\":0,\"ticks\":\"\"},\"colorscale\":[[0.0,\"#0d0887\"],[0.1111111111111111,\"#46039f\"],[0.2222222222222222,\"#7201a8\"],[0.3333333333333333,\"#9c179e\"],[0.4444444444444444,\"#bd3786\"],[0.5555555555555556,\"#d8576b\"],[0.6666666666666666,\"#ed7953\"],[0.7777777777777778,\"#fb9f3a\"],[0.8888888888888888,\"#fdca26\"],[1.0,\"#f0f921\"]],\"type\":\"histogram2d\"}],\"histogram2dcontour\":[{\"colorbar\":{\"outlinewidth\":0,\"ticks\":\"\"},\"colorscale\":[[0.0,\"#0d0887\"],[0.1111111111111111,\"#46039f\"],[0.2222222222222222,\"#7201a8\"],[0.3333333333333333,\"#9c179e\"],[0.4444444444444444,\"#bd3786\"],[0.5555555555555556,\"#d8576b\"],[0.6666666666666666,\"#ed7953\"],[0.7777777777777778,\"#fb9f3a\"],[0.8888888888888888,\"#fdca26\"],[1.0,\"#f0f921\"]],\"type\":\"histogram2dcontour\"}],\"mesh3d\":[{\"colorbar\":{\"outlinewidth\":0,\"ticks\":\"\"},\"type\":\"mesh3d\"}],\"parcoords\":[{\"line\":{\"colorbar\":{\"outlinewidth\":0,\"ticks\":\"\"}},\"type\":\"parcoords\"}],\"pie\":[{\"automargin\":true,\"type\":\"pie\"}],\"scatter\":[{\"marker\":{\"colorbar\":{\"outlinewidth\":0,\"ticks\":\"\"}},\"type\":\"scatter\"}],\"scatter3d\":[{\"line\":{\"colorbar\":{\"outlinewidth\":0,\"ticks\":\"\"}},\"marker\":{\"colorbar\":{\"outlinewidth\":0,\"ticks\":\"\"}},\"type\":\"scatter3d\"}],\"scattercarpet\":[{\"marker\":{\"colorbar\":{\"outlinewidth\":0,\"ticks\":\"\"}},\"type\":\"scattercarpet\"}],\"scattergeo\":[{\"marker\":{\"colorbar\":{\"outlinewidth\":0,\"ticks\":\"\"}},\"type\":\"scattergeo\"}],\"scattergl\":[{\"marker\":{\"colorbar\":{\"outlinewidth\":0,\"ticks\":\"\"}},\"type\":\"scattergl\"}],\"scattermapbox\":[{\"marker\":{\"colorbar\":{\"outlinewidth\":0,\"ticks\":\"\"}},\"type\":\"scattermapbox\"}],\"scatterpolar\":[{\"marker\":{\"colorbar\":{\"outlinewidth\":0,\"ticks\":\"\"}},\"type\":\"scatterpolar\"}],\"scatterpolargl\":[{\"marker\":{\"colorbar\":{\"outlinewidth\":0,\"ticks\":\"\"}},\"type\":\"scatterpolargl\"}],\"scatterternary\":[{\"marker\":{\"colorbar\":{\"outlinewidth\":0,\"ticks\":\"\"}},\"type\":\"scatterternary\"}],\"surface\":[{\"colorbar\":{\"outlinewidth\":0,\"ticks\":\"\"},\"colorscale\":[[0.0,\"#0d0887\"],[0.1111111111111111,\"#46039f\"],[0.2222222222222222,\"#7201a8\"],[0.3333333333333333,\"#9c179e\"],[0.4444444444444444,\"#bd3786\"],[0.5555555555555556,\"#d8576b\"],[0.6666666666666666,\"#ed7953\"],[0.7777777777777778,\"#fb9f3a\"],[0.8888888888888888,\"#fdca26\"],[1.0,\"#f0f921\"]],\"type\":\"surface\"}],\"table\":[{\"cells\":{\"fill\":{\"color\":\"#EBF0F8\"},\"line\":{\"color\":\"white\"}},\"header\":{\"fill\":{\"color\":\"#C8D4E3\"},\"line\":{\"color\":\"white\"}},\"type\":\"table\"}]},\"layout\":{\"annotationdefaults\":{\"arrowcolor\":\"#2a3f5f\",\"arrowhead\":0,\"arrowwidth\":1},\"autotypenumbers\":\"strict\",\"coloraxis\":{\"colorbar\":{\"outlinewidth\":0,\"ticks\":\"\"}},\"colorscale\":{\"diverging\":[[0,\"#8e0152\"],[0.1,\"#c51b7d\"],[0.2,\"#de77ae\"],[0.3,\"#f1b6da\"],[0.4,\"#fde0ef\"],[0.5,\"#f7f7f7\"],[0.6,\"#e6f5d0\"],[0.7,\"#b8e186\"],[0.8,\"#7fbc41\"],[0.9,\"#4d9221\"],[1,\"#276419\"]],\"sequential\":[[0.0,\"#0d0887\"],[0.1111111111111111,\"#46039f\"],[0.2222222222222222,\"#7201a8\"],[0.3333333333333333,\"#9c179e\"],[0.4444444444444444,\"#bd3786\"],[0.5555555555555556,\"#d8576b\"],[0.6666666666666666,\"#ed7953\"],[0.7777777777777778,\"#fb9f3a\"],[0.8888888888888888,\"#fdca26\"],[1.0,\"#f0f921\"]],\"sequentialminus\":[[0.0,\"#0d0887\"],[0.1111111111111111,\"#46039f\"],[0.2222222222222222,\"#7201a8\"],[0.3333333333333333,\"#9c179e\"],[0.4444444444444444,\"#bd3786\"],[0.5555555555555556,\"#d8576b\"],[0.6666666666666666,\"#ed7953\"],[0.7777777777777778,\"#fb9f3a\"],[0.8888888888888888,\"#fdca26\"],[1.0,\"#f0f921\"]]},\"colorway\":[\"#636efa\",\"#EF553B\",\"#00cc96\",\"#ab63fa\",\"#FFA15A\",\"#19d3f3\",\"#FF6692\",\"#B6E880\",\"#FF97FF\",\"#FECB52\"],\"font\":{\"color\":\"#2a3f5f\"},\"geo\":{\"bgcolor\":\"white\",\"lakecolor\":\"white\",\"landcolor\":\"#E5ECF6\",\"showlakes\":true,\"showland\":true,\"subunitcolor\":\"white\"},\"hoverlabel\":{\"align\":\"left\"},\"hovermode\":\"closest\",\"mapbox\":{\"style\":\"light\"},\"paper_bgcolor\":\"white\",\"plot_bgcolor\":\"#E5ECF6\",\"polar\":{\"angularaxis\":{\"gridcolor\":\"white\",\"linecolor\":\"white\",\"ticks\":\"\"},\"bgcolor\":\"#E5ECF6\",\"radialaxis\":{\"gridcolor\":\"white\",\"linecolor\":\"white\",\"ticks\":\"\"}},\"scene\":{\"xaxis\":{\"backgroundcolor\":\"#E5ECF6\",\"gridcolor\":\"white\",\"gridwidth\":2,\"linecolor\":\"white\",\"showbackground\":true,\"ticks\":\"\",\"zerolinecolor\":\"white\"},\"yaxis\":{\"backgroundcolor\":\"#E5ECF6\",\"gridcolor\":\"white\",\"gridwidth\":2,\"linecolor\":\"white\",\"showbackground\":true,\"ticks\":\"\",\"zerolinecolor\":\"white\"},\"zaxis\":{\"backgroundcolor\":\"#E5ECF6\",\"gridcolor\":\"white\",\"gridwidth\":2,\"linecolor\":\"white\",\"showbackground\":true,\"ticks\":\"\",\"zerolinecolor\":\"white\"}},\"shapedefaults\":{\"line\":{\"color\":\"#2a3f5f\"}},\"ternary\":{\"aaxis\":{\"gridcolor\":\"white\",\"linecolor\":\"white\",\"ticks\":\"\"},\"baxis\":{\"gridcolor\":\"white\",\"linecolor\":\"white\",\"ticks\":\"\"},\"bgcolor\":\"#E5ECF6\",\"caxis\":{\"gridcolor\":\"white\",\"linecolor\":\"white\",\"ticks\":\"\"}},\"title\":{\"x\":0.05},\"xaxis\":{\"automargin\":true,\"gridcolor\":\"white\",\"linecolor\":\"white\",\"ticks\":\"\",\"title\":{\"standoff\":15},\"zerolinecolor\":\"white\",\"zerolinewidth\":2},\"yaxis\":{\"automargin\":true,\"gridcolor\":\"white\",\"linecolor\":\"white\",\"ticks\":\"\",\"title\":{\"standoff\":15},\"zerolinecolor\":\"white\",\"zerolinewidth\":2}}},\"xaxis\":{\"anchor\":\"y\",\"domain\":[0.0,1.0],\"title\":{\"text\":\"User Type\"}},\"yaxis\":{\"anchor\":\"x\",\"domain\":[0.0,1.0],\"title\":{\"text\":\"number of records\"}},\"legend\":{\"title\":{\"text\":\"variable\"},\"tracegroupgap\":0},\"margin\":{\"t\":60},\"barmode\":\"relative\"},                        {\"responsive\": true}                    ).then(function(){\n",
              "                            \n",
              "var gd = document.getElementById('3d23c105-c424-43dc-911a-28c8790fb192');\n",
              "var x = new MutationObserver(function (mutations, observer) {{\n",
              "        var display = window.getComputedStyle(gd).display;\n",
              "        if (!display || display === 'none') {{\n",
              "            console.log([gd, 'removed!']);\n",
              "            Plotly.purge(gd);\n",
              "            observer.disconnect();\n",
              "        }}\n",
              "}});\n",
              "\n",
              "// Listen for the removal of the full notebook cells\n",
              "var notebookContainer = gd.closest('#notebook-container');\n",
              "if (notebookContainer) {{\n",
              "    x.observe(notebookContainer, {childList: true});\n",
              "}}\n",
              "\n",
              "// Listen for the clearing of the current output cell\n",
              "var outputEl = gd.closest('.output');\n",
              "if (outputEl) {{\n",
              "    x.observe(outputEl, {childList: true});\n",
              "}}\n",
              "\n",
              "                        })                };                            </script>        </div>\n",
              "</body>\n",
              "</html>"
            ]
          },
          "metadata": {}
        }
      ]
    },
    {
      "cell_type": "markdown",
      "source": [
        "### &#9759; scraped_patches Table"
      ],
      "metadata": {
        "id": "zutOAWHqzTRz"
      }
    },
    {
      "cell_type": "code",
      "source": [
        "df_scraped_patches = get_db_records(\"SELECT * FROM scraped_patches;\")"
      ],
      "metadata": {
        "id": "Zf0TnGM3xf7t"
      },
      "execution_count": 34,
      "outputs": []
    },
    {
      "cell_type": "code",
      "source": [
        "df_scraped_patches.info()"
      ],
      "metadata": {
        "colab": {
          "base_uri": "https://localhost:8080/"
        },
        "id": "F7KDuoEB0JtT",
        "outputId": "11afcaad-e9a1-4976-88cc-69e3cbe65455"
      },
      "execution_count": 35,
      "outputs": [
        {
          "output_type": "stream",
          "name": "stdout",
          "text": [
            "<class 'pandas.core.frame.DataFrame'>\n",
            "RangeIndex: 938137 entries, 0 to 938136\n",
            "Data columns (total 17 columns):\n",
            " #   Column         Non-Null Count   Dtype  \n",
            "---  ------         --------------   -----  \n",
            " 0   id             938137 non-null  int64  \n",
            " 1   project_id     938137 non-null  int64  \n",
            " 2   patch_id       938137 non-null  int64  \n",
            " 3   mail_id        938137 non-null  object \n",
            " 4   name           938137 non-null  object \n",
            " 5   series_id      935162 non-null  float64\n",
            " 6   ack_count      938137 non-null  int64  \n",
            " 7   review_count   938137 non-null  int64  \n",
            " 8   tested_count   938137 non-null  int64  \n",
            " 9   success_count  938137 non-null  int64  \n",
            " 10  warning_count  938137 non-null  int64  \n",
            " 11  fail_count     938137 non-null  int64  \n",
            " 12  date           938137 non-null  object \n",
            " 13  submitter_id   938137 non-null  int64  \n",
            " 14  delegate       125878 non-null  object \n",
            " 15  state          938137 non-null  object \n",
            " 16  commit_hash    48390 non-null   object \n",
            "dtypes: float64(1), int64(10), object(6)\n",
            "memory usage: 121.7+ MB\n"
          ]
        }
      ]
    },
    {
      "cell_type": "code",
      "source": [
        "df_scraped_patches.head()"
      ],
      "metadata": {
        "colab": {
          "base_uri": "https://localhost:8080/",
          "height": 337
        },
        "id": "heEKqRiN1fCG",
        "outputId": "19c037fc-da71-4401-9694-f7c0c68d5908"
      },
      "execution_count": 36,
      "outputs": [
        {
          "output_type": "execute_result",
          "data": {
            "text/plain": [
              "     id  project_id  patch_id  \\\n",
              "0  3488          59  13000777   \n",
              "1  3489          56  13034662   \n",
              "2  3490          56  13034661   \n",
              "3  3491          57  13004984   \n",
              "4  3492          57  13004985   \n",
              "\n",
              "                                            mail_id  \\\n",
              "0   20221006220840.275-4-jonathan.derrick@linux.dev   \n",
              "1  20221107155825.1644604-12-pierre.gondois@arm.com   \n",
              "2  20221107155825.1644604-11-pierre.gondois@arm.com   \n",
              "3       20221012114429.2341215-6-danishanwar@ti.com   \n",
              "4       20221012114429.2341215-5-danishanwar@ti.com   \n",
              "\n",
              "                                                name  series_id  ack_count  \\\n",
              "0  [2/2] md/bitmap: Add chunk-count-based bitmap ...     1446.0          0   \n",
              "1  [v2,11/23] arm64: dts: Update cache properties...     1203.0          0   \n",
              "2  [v2,10/23] arm64: dts: Update cache properties...     1203.0          0   \n",
              "3  [v6,5/5] remoteproc: pru: Configure firmware b...     1447.0          0   \n",
              "4  [v6,4/5] remoteproc: pru: Add pru_rproc_set_ct...     1447.0          0   \n",
              "\n",
              "   review_count  tested_count  success_count  warning_count  fail_count  \\\n",
              "0             0             0              0              0           0   \n",
              "1             1             0              0              0           0   \n",
              "2             0             0              0              0           0   \n",
              "3             0             0              0              0           0   \n",
              "4             0             0              0              0           0   \n",
              "\n",
              "                  date  submitter_id delegate       state commit_hash  \n",
              "0  2022-10-06T00:00:00           522     None  Superseded        None  \n",
              "1  2022-11-07T00:00:00           411    geert         New        None  \n",
              "2  2022-11-07T00:00:00           411    geert         New        None  \n",
              "3  2022-10-12T00:00:00           396     None  Superseded        None  \n",
              "4  2022-10-12T00:00:00           396     None  Superseded        None  "
            ],
            "text/html": [
              "\n",
              "  <div id=\"df-cf4b40f1-d616-463a-95cf-8fe912ecf449\">\n",
              "    <div class=\"colab-df-container\">\n",
              "      <div>\n",
              "<style scoped>\n",
              "    .dataframe tbody tr th:only-of-type {\n",
              "        vertical-align: middle;\n",
              "    }\n",
              "\n",
              "    .dataframe tbody tr th {\n",
              "        vertical-align: top;\n",
              "    }\n",
              "\n",
              "    .dataframe thead th {\n",
              "        text-align: right;\n",
              "    }\n",
              "</style>\n",
              "<table border=\"1\" class=\"dataframe\">\n",
              "  <thead>\n",
              "    <tr style=\"text-align: right;\">\n",
              "      <th></th>\n",
              "      <th>id</th>\n",
              "      <th>project_id</th>\n",
              "      <th>patch_id</th>\n",
              "      <th>mail_id</th>\n",
              "      <th>name</th>\n",
              "      <th>series_id</th>\n",
              "      <th>ack_count</th>\n",
              "      <th>review_count</th>\n",
              "      <th>tested_count</th>\n",
              "      <th>success_count</th>\n",
              "      <th>warning_count</th>\n",
              "      <th>fail_count</th>\n",
              "      <th>date</th>\n",
              "      <th>submitter_id</th>\n",
              "      <th>delegate</th>\n",
              "      <th>state</th>\n",
              "      <th>commit_hash</th>\n",
              "    </tr>\n",
              "  </thead>\n",
              "  <tbody>\n",
              "    <tr>\n",
              "      <th>0</th>\n",
              "      <td>3488</td>\n",
              "      <td>59</td>\n",
              "      <td>13000777</td>\n",
              "      <td>20221006220840.275-4-jonathan.derrick@linux.dev</td>\n",
              "      <td>[2/2] md/bitmap: Add chunk-count-based bitmap ...</td>\n",
              "      <td>1446.0</td>\n",
              "      <td>0</td>\n",
              "      <td>0</td>\n",
              "      <td>0</td>\n",
              "      <td>0</td>\n",
              "      <td>0</td>\n",
              "      <td>0</td>\n",
              "      <td>2022-10-06T00:00:00</td>\n",
              "      <td>522</td>\n",
              "      <td>None</td>\n",
              "      <td>Superseded</td>\n",
              "      <td>None</td>\n",
              "    </tr>\n",
              "    <tr>\n",
              "      <th>1</th>\n",
              "      <td>3489</td>\n",
              "      <td>56</td>\n",
              "      <td>13034662</td>\n",
              "      <td>20221107155825.1644604-12-pierre.gondois@arm.com</td>\n",
              "      <td>[v2,11/23] arm64: dts: Update cache properties...</td>\n",
              "      <td>1203.0</td>\n",
              "      <td>0</td>\n",
              "      <td>1</td>\n",
              "      <td>0</td>\n",
              "      <td>0</td>\n",
              "      <td>0</td>\n",
              "      <td>0</td>\n",
              "      <td>2022-11-07T00:00:00</td>\n",
              "      <td>411</td>\n",
              "      <td>geert</td>\n",
              "      <td>New</td>\n",
              "      <td>None</td>\n",
              "    </tr>\n",
              "    <tr>\n",
              "      <th>2</th>\n",
              "      <td>3490</td>\n",
              "      <td>56</td>\n",
              "      <td>13034661</td>\n",
              "      <td>20221107155825.1644604-11-pierre.gondois@arm.com</td>\n",
              "      <td>[v2,10/23] arm64: dts: Update cache properties...</td>\n",
              "      <td>1203.0</td>\n",
              "      <td>0</td>\n",
              "      <td>0</td>\n",
              "      <td>0</td>\n",
              "      <td>0</td>\n",
              "      <td>0</td>\n",
              "      <td>0</td>\n",
              "      <td>2022-11-07T00:00:00</td>\n",
              "      <td>411</td>\n",
              "      <td>geert</td>\n",
              "      <td>New</td>\n",
              "      <td>None</td>\n",
              "    </tr>\n",
              "    <tr>\n",
              "      <th>3</th>\n",
              "      <td>3491</td>\n",
              "      <td>57</td>\n",
              "      <td>13004984</td>\n",
              "      <td>20221012114429.2341215-6-danishanwar@ti.com</td>\n",
              "      <td>[v6,5/5] remoteproc: pru: Configure firmware b...</td>\n",
              "      <td>1447.0</td>\n",
              "      <td>0</td>\n",
              "      <td>0</td>\n",
              "      <td>0</td>\n",
              "      <td>0</td>\n",
              "      <td>0</td>\n",
              "      <td>0</td>\n",
              "      <td>2022-10-12T00:00:00</td>\n",
              "      <td>396</td>\n",
              "      <td>None</td>\n",
              "      <td>Superseded</td>\n",
              "      <td>None</td>\n",
              "    </tr>\n",
              "    <tr>\n",
              "      <th>4</th>\n",
              "      <td>3492</td>\n",
              "      <td>57</td>\n",
              "      <td>13004985</td>\n",
              "      <td>20221012114429.2341215-5-danishanwar@ti.com</td>\n",
              "      <td>[v6,4/5] remoteproc: pru: Add pru_rproc_set_ct...</td>\n",
              "      <td>1447.0</td>\n",
              "      <td>0</td>\n",
              "      <td>0</td>\n",
              "      <td>0</td>\n",
              "      <td>0</td>\n",
              "      <td>0</td>\n",
              "      <td>0</td>\n",
              "      <td>2022-10-12T00:00:00</td>\n",
              "      <td>396</td>\n",
              "      <td>None</td>\n",
              "      <td>Superseded</td>\n",
              "      <td>None</td>\n",
              "    </tr>\n",
              "  </tbody>\n",
              "</table>\n",
              "</div>\n",
              "      <button class=\"colab-df-convert\" onclick=\"convertToInteractive('df-cf4b40f1-d616-463a-95cf-8fe912ecf449')\"\n",
              "              title=\"Convert this dataframe to an interactive table.\"\n",
              "              style=\"display:none;\">\n",
              "        \n",
              "  <svg xmlns=\"http://www.w3.org/2000/svg\" height=\"24px\"viewBox=\"0 0 24 24\"\n",
              "       width=\"24px\">\n",
              "    <path d=\"M0 0h24v24H0V0z\" fill=\"none\"/>\n",
              "    <path d=\"M18.56 5.44l.94 2.06.94-2.06 2.06-.94-2.06-.94-.94-2.06-.94 2.06-2.06.94zm-11 1L8.5 8.5l.94-2.06 2.06-.94-2.06-.94L8.5 2.5l-.94 2.06-2.06.94zm10 10l.94 2.06.94-2.06 2.06-.94-2.06-.94-.94-2.06-.94 2.06-2.06.94z\"/><path d=\"M17.41 7.96l-1.37-1.37c-.4-.4-.92-.59-1.43-.59-.52 0-1.04.2-1.43.59L10.3 9.45l-7.72 7.72c-.78.78-.78 2.05 0 2.83L4 21.41c.39.39.9.59 1.41.59.51 0 1.02-.2 1.41-.59l7.78-7.78 2.81-2.81c.8-.78.8-2.07 0-2.86zM5.41 20L4 18.59l7.72-7.72 1.47 1.35L5.41 20z\"/>\n",
              "  </svg>\n",
              "      </button>\n",
              "      \n",
              "  <style>\n",
              "    .colab-df-container {\n",
              "      display:flex;\n",
              "      flex-wrap:wrap;\n",
              "      gap: 12px;\n",
              "    }\n",
              "\n",
              "    .colab-df-convert {\n",
              "      background-color: #E8F0FE;\n",
              "      border: none;\n",
              "      border-radius: 50%;\n",
              "      cursor: pointer;\n",
              "      display: none;\n",
              "      fill: #1967D2;\n",
              "      height: 32px;\n",
              "      padding: 0 0 0 0;\n",
              "      width: 32px;\n",
              "    }\n",
              "\n",
              "    .colab-df-convert:hover {\n",
              "      background-color: #E2EBFA;\n",
              "      box-shadow: 0px 1px 2px rgba(60, 64, 67, 0.3), 0px 1px 3px 1px rgba(60, 64, 67, 0.15);\n",
              "      fill: #174EA6;\n",
              "    }\n",
              "\n",
              "    [theme=dark] .colab-df-convert {\n",
              "      background-color: #3B4455;\n",
              "      fill: #D2E3FC;\n",
              "    }\n",
              "\n",
              "    [theme=dark] .colab-df-convert:hover {\n",
              "      background-color: #434B5C;\n",
              "      box-shadow: 0px 1px 3px 1px rgba(0, 0, 0, 0.15);\n",
              "      filter: drop-shadow(0px 1px 2px rgba(0, 0, 0, 0.3));\n",
              "      fill: #FFFFFF;\n",
              "    }\n",
              "  </style>\n",
              "\n",
              "      <script>\n",
              "        const buttonEl =\n",
              "          document.querySelector('#df-cf4b40f1-d616-463a-95cf-8fe912ecf449 button.colab-df-convert');\n",
              "        buttonEl.style.display =\n",
              "          google.colab.kernel.accessAllowed ? 'block' : 'none';\n",
              "\n",
              "        async function convertToInteractive(key) {\n",
              "          const element = document.querySelector('#df-cf4b40f1-d616-463a-95cf-8fe912ecf449');\n",
              "          const dataTable =\n",
              "            await google.colab.kernel.invokeFunction('convertToInteractive',\n",
              "                                                     [key], {});\n",
              "          if (!dataTable) return;\n",
              "\n",
              "          const docLinkHtml = 'Like what you see? Visit the ' +\n",
              "            '<a target=\"_blank\" href=https://colab.research.google.com/notebooks/data_table.ipynb>data table notebook</a>'\n",
              "            + ' to learn more about interactive tables.';\n",
              "          element.innerHTML = '';\n",
              "          dataTable['output_type'] = 'display_data';\n",
              "          await google.colab.output.renderOutput(dataTable, element);\n",
              "          const docLink = document.createElement('div');\n",
              "          docLink.innerHTML = docLinkHtml;\n",
              "          element.appendChild(docLink);\n",
              "        }\n",
              "      </script>\n",
              "    </div>\n",
              "  </div>\n",
              "  "
            ]
          },
          "metadata": {},
          "execution_count": 36
        }
      ]
    },
    {
      "cell_type": "code",
      "source": [
        "tmp_sp_project_id = df_groupby(input_df=df_scraped_patches, groupby_column='project_id')\n",
        "tmp_sp_project_id"
      ],
      "metadata": {
        "colab": {
          "base_uri": "https://localhost:8080/"
        },
        "id": "fo4Y_KAz1gsO",
        "outputId": "7f0a628d-3f40-4fe5-ea64-7cb83095acb8"
      },
      "execution_count": 37,
      "outputs": [
        {
          "output_type": "execute_result",
          "data": {
            "text/plain": [
              "project_id\n",
              "63         7\n",
              "16         8\n",
              "77        19\n",
              "29        41\n",
              "17        56\n",
              "       ...  \n",
              "52     39650\n",
              "87     49635\n",
              "31     70477\n",
              "76     95940\n",
              "58    115437\n",
              "Length: 93, dtype: int64"
            ]
          },
          "metadata": {},
          "execution_count": 37
        }
      ]
    },
    {
      "cell_type": "code",
      "source": [
        "bar_plot(value_series=tmp_sp_project_id, labels=dict(project_id=\"Project ID\", value=\"number of records\"))"
      ],
      "metadata": {
        "colab": {
          "base_uri": "https://localhost:8080/",
          "height": 542
        },
        "id": "L-xkFH2_1sjA",
        "outputId": "96e1068f-67fa-4f51-9f5f-162c04c8865e"
      },
      "execution_count": 38,
      "outputs": [
        {
          "output_type": "display_data",
          "data": {
            "text/html": [
              "<html>\n",
              "<head><meta charset=\"utf-8\" /></head>\n",
              "<body>\n",
              "    <div>            <script src=\"https://cdnjs.cloudflare.com/ajax/libs/mathjax/2.7.5/MathJax.js?config=TeX-AMS-MML_SVG\"></script><script type=\"text/javascript\">if (window.MathJax) {MathJax.Hub.Config({SVG: {font: \"STIX-Web\"}});}</script>                <script type=\"text/javascript\">window.PlotlyConfig = {MathJaxConfig: 'local'};</script>\n",
              "        <script src=\"https://cdn.plot.ly/plotly-2.8.3.min.js\"></script>                <div id=\"e929c625-83ca-4b62-a260-a04ba58d4ebb\" class=\"plotly-graph-div\" style=\"height:525px; width:100%;\"></div>            <script type=\"text/javascript\">                                    window.PLOTLYENV=window.PLOTLYENV || {};                                    if (document.getElementById(\"e929c625-83ca-4b62-a260-a04ba58d4ebb\")) {                    Plotly.newPlot(                        \"e929c625-83ca-4b62-a260-a04ba58d4ebb\",                        [{\"alignmentgroup\":\"True\",\"hovertemplate\":\"variable=0<br>Project ID=%{x}<br>number of records=%{y}<extra></extra>\",\"legendgroup\":\"0\",\"marker\":{\"color\":\"#636efa\",\"pattern\":{\"shape\":\"\"}},\"name\":\"0\",\"offsetgroup\":\"0\",\"orientation\":\"v\",\"showlegend\":false,\"textposition\":\"auto\",\"x\":[63,16,77,29,17,89,86,39,2,71,1,43,59,80,23,93,28,69,33,22,10,27,81,82,7,4,38,19,3,79,91,90,62,6,30,5,26,84,74,92,60,49,72,57,35,44,67,20,51,32,8,66,88,41,25,24,47,37,75,53,45,68,40,55,56,9,46,48,61,70,18,15,64,12,34,65,14,21,36,42,13,50,11,54,85,73,83,78,52,87,31,76,58],\"xaxis\":\"x\",\"y\":[7,8,19,41,56,73,78,78,186,199,253,283,442,510,531,548,642,670,821,843,1215,1464,1499,1518,1528,1547,1639,1700,1753,1757,1978,2182,2222,2374,2389,2663,2847,2908,3109,3144,3218,3408,3433,3675,3675,3832,3832,3881,4246,4472,4530,4672,4837,4917,5050,5466,5493,5750,6155,6240,6899,7299,7448,7768,8178,8850,9032,9038,9645,9858,10863,11139,13534,13603,13866,14113,14289,15315,15499,17142,19025,19058,22692,23979,25470,29257,31571,34062,39650,49635,70477,95940,115437],\"yaxis\":\"y\",\"type\":\"bar\"}],                        {\"template\":{\"data\":{\"bar\":[{\"error_x\":{\"color\":\"#2a3f5f\"},\"error_y\":{\"color\":\"#2a3f5f\"},\"marker\":{\"line\":{\"color\":\"#E5ECF6\",\"width\":0.5},\"pattern\":{\"fillmode\":\"overlay\",\"size\":10,\"solidity\":0.2}},\"type\":\"bar\"}],\"barpolar\":[{\"marker\":{\"line\":{\"color\":\"#E5ECF6\",\"width\":0.5},\"pattern\":{\"fillmode\":\"overlay\",\"size\":10,\"solidity\":0.2}},\"type\":\"barpolar\"}],\"carpet\":[{\"aaxis\":{\"endlinecolor\":\"#2a3f5f\",\"gridcolor\":\"white\",\"linecolor\":\"white\",\"minorgridcolor\":\"white\",\"startlinecolor\":\"#2a3f5f\"},\"baxis\":{\"endlinecolor\":\"#2a3f5f\",\"gridcolor\":\"white\",\"linecolor\":\"white\",\"minorgridcolor\":\"white\",\"startlinecolor\":\"#2a3f5f\"},\"type\":\"carpet\"}],\"choropleth\":[{\"colorbar\":{\"outlinewidth\":0,\"ticks\":\"\"},\"type\":\"choropleth\"}],\"contour\":[{\"colorbar\":{\"outlinewidth\":0,\"ticks\":\"\"},\"colorscale\":[[0.0,\"#0d0887\"],[0.1111111111111111,\"#46039f\"],[0.2222222222222222,\"#7201a8\"],[0.3333333333333333,\"#9c179e\"],[0.4444444444444444,\"#bd3786\"],[0.5555555555555556,\"#d8576b\"],[0.6666666666666666,\"#ed7953\"],[0.7777777777777778,\"#fb9f3a\"],[0.8888888888888888,\"#fdca26\"],[1.0,\"#f0f921\"]],\"type\":\"contour\"}],\"contourcarpet\":[{\"colorbar\":{\"outlinewidth\":0,\"ticks\":\"\"},\"type\":\"contourcarpet\"}],\"heatmap\":[{\"colorbar\":{\"outlinewidth\":0,\"ticks\":\"\"},\"colorscale\":[[0.0,\"#0d0887\"],[0.1111111111111111,\"#46039f\"],[0.2222222222222222,\"#7201a8\"],[0.3333333333333333,\"#9c179e\"],[0.4444444444444444,\"#bd3786\"],[0.5555555555555556,\"#d8576b\"],[0.6666666666666666,\"#ed7953\"],[0.7777777777777778,\"#fb9f3a\"],[0.8888888888888888,\"#fdca26\"],[1.0,\"#f0f921\"]],\"type\":\"heatmap\"}],\"heatmapgl\":[{\"colorbar\":{\"outlinewidth\":0,\"ticks\":\"\"},\"colorscale\":[[0.0,\"#0d0887\"],[0.1111111111111111,\"#46039f\"],[0.2222222222222222,\"#7201a8\"],[0.3333333333333333,\"#9c179e\"],[0.4444444444444444,\"#bd3786\"],[0.5555555555555556,\"#d8576b\"],[0.6666666666666666,\"#ed7953\"],[0.7777777777777778,\"#fb9f3a\"],[0.8888888888888888,\"#fdca26\"],[1.0,\"#f0f921\"]],\"type\":\"heatmapgl\"}],\"histogram\":[{\"marker\":{\"pattern\":{\"fillmode\":\"overlay\",\"size\":10,\"solidity\":0.2}},\"type\":\"histogram\"}],\"histogram2d\":[{\"colorbar\":{\"outlinewidth\":0,\"ticks\":\"\"},\"colorscale\":[[0.0,\"#0d0887\"],[0.1111111111111111,\"#46039f\"],[0.2222222222222222,\"#7201a8\"],[0.3333333333333333,\"#9c179e\"],[0.4444444444444444,\"#bd3786\"],[0.5555555555555556,\"#d8576b\"],[0.6666666666666666,\"#ed7953\"],[0.7777777777777778,\"#fb9f3a\"],[0.8888888888888888,\"#fdca26\"],[1.0,\"#f0f921\"]],\"type\":\"histogram2d\"}],\"histogram2dcontour\":[{\"colorbar\":{\"outlinewidth\":0,\"ticks\":\"\"},\"colorscale\":[[0.0,\"#0d0887\"],[0.1111111111111111,\"#46039f\"],[0.2222222222222222,\"#7201a8\"],[0.3333333333333333,\"#9c179e\"],[0.4444444444444444,\"#bd3786\"],[0.5555555555555556,\"#d8576b\"],[0.6666666666666666,\"#ed7953\"],[0.7777777777777778,\"#fb9f3a\"],[0.8888888888888888,\"#fdca26\"],[1.0,\"#f0f921\"]],\"type\":\"histogram2dcontour\"}],\"mesh3d\":[{\"colorbar\":{\"outlinewidth\":0,\"ticks\":\"\"},\"type\":\"mesh3d\"}],\"parcoords\":[{\"line\":{\"colorbar\":{\"outlinewidth\":0,\"ticks\":\"\"}},\"type\":\"parcoords\"}],\"pie\":[{\"automargin\":true,\"type\":\"pie\"}],\"scatter\":[{\"marker\":{\"colorbar\":{\"outlinewidth\":0,\"ticks\":\"\"}},\"type\":\"scatter\"}],\"scatter3d\":[{\"line\":{\"colorbar\":{\"outlinewidth\":0,\"ticks\":\"\"}},\"marker\":{\"colorbar\":{\"outlinewidth\":0,\"ticks\":\"\"}},\"type\":\"scatter3d\"}],\"scattercarpet\":[{\"marker\":{\"colorbar\":{\"outlinewidth\":0,\"ticks\":\"\"}},\"type\":\"scattercarpet\"}],\"scattergeo\":[{\"marker\":{\"colorbar\":{\"outlinewidth\":0,\"ticks\":\"\"}},\"type\":\"scattergeo\"}],\"scattergl\":[{\"marker\":{\"colorbar\":{\"outlinewidth\":0,\"ticks\":\"\"}},\"type\":\"scattergl\"}],\"scattermapbox\":[{\"marker\":{\"colorbar\":{\"outlinewidth\":0,\"ticks\":\"\"}},\"type\":\"scattermapbox\"}],\"scatterpolar\":[{\"marker\":{\"colorbar\":{\"outlinewidth\":0,\"ticks\":\"\"}},\"type\":\"scatterpolar\"}],\"scatterpolargl\":[{\"marker\":{\"colorbar\":{\"outlinewidth\":0,\"ticks\":\"\"}},\"type\":\"scatterpolargl\"}],\"scatterternary\":[{\"marker\":{\"colorbar\":{\"outlinewidth\":0,\"ticks\":\"\"}},\"type\":\"scatterternary\"}],\"surface\":[{\"colorbar\":{\"outlinewidth\":0,\"ticks\":\"\"},\"colorscale\":[[0.0,\"#0d0887\"],[0.1111111111111111,\"#46039f\"],[0.2222222222222222,\"#7201a8\"],[0.3333333333333333,\"#9c179e\"],[0.4444444444444444,\"#bd3786\"],[0.5555555555555556,\"#d8576b\"],[0.6666666666666666,\"#ed7953\"],[0.7777777777777778,\"#fb9f3a\"],[0.8888888888888888,\"#fdca26\"],[1.0,\"#f0f921\"]],\"type\":\"surface\"}],\"table\":[{\"cells\":{\"fill\":{\"color\":\"#EBF0F8\"},\"line\":{\"color\":\"white\"}},\"header\":{\"fill\":{\"color\":\"#C8D4E3\"},\"line\":{\"color\":\"white\"}},\"type\":\"table\"}]},\"layout\":{\"annotationdefaults\":{\"arrowcolor\":\"#2a3f5f\",\"arrowhead\":0,\"arrowwidth\":1},\"autotypenumbers\":\"strict\",\"coloraxis\":{\"colorbar\":{\"outlinewidth\":0,\"ticks\":\"\"}},\"colorscale\":{\"diverging\":[[0,\"#8e0152\"],[0.1,\"#c51b7d\"],[0.2,\"#de77ae\"],[0.3,\"#f1b6da\"],[0.4,\"#fde0ef\"],[0.5,\"#f7f7f7\"],[0.6,\"#e6f5d0\"],[0.7,\"#b8e186\"],[0.8,\"#7fbc41\"],[0.9,\"#4d9221\"],[1,\"#276419\"]],\"sequential\":[[0.0,\"#0d0887\"],[0.1111111111111111,\"#46039f\"],[0.2222222222222222,\"#7201a8\"],[0.3333333333333333,\"#9c179e\"],[0.4444444444444444,\"#bd3786\"],[0.5555555555555556,\"#d8576b\"],[0.6666666666666666,\"#ed7953\"],[0.7777777777777778,\"#fb9f3a\"],[0.8888888888888888,\"#fdca26\"],[1.0,\"#f0f921\"]],\"sequentialminus\":[[0.0,\"#0d0887\"],[0.1111111111111111,\"#46039f\"],[0.2222222222222222,\"#7201a8\"],[0.3333333333333333,\"#9c179e\"],[0.4444444444444444,\"#bd3786\"],[0.5555555555555556,\"#d8576b\"],[0.6666666666666666,\"#ed7953\"],[0.7777777777777778,\"#fb9f3a\"],[0.8888888888888888,\"#fdca26\"],[1.0,\"#f0f921\"]]},\"colorway\":[\"#636efa\",\"#EF553B\",\"#00cc96\",\"#ab63fa\",\"#FFA15A\",\"#19d3f3\",\"#FF6692\",\"#B6E880\",\"#FF97FF\",\"#FECB52\"],\"font\":{\"color\":\"#2a3f5f\"},\"geo\":{\"bgcolor\":\"white\",\"lakecolor\":\"white\",\"landcolor\":\"#E5ECF6\",\"showlakes\":true,\"showland\":true,\"subunitcolor\":\"white\"},\"hoverlabel\":{\"align\":\"left\"},\"hovermode\":\"closest\",\"mapbox\":{\"style\":\"light\"},\"paper_bgcolor\":\"white\",\"plot_bgcolor\":\"#E5ECF6\",\"polar\":{\"angularaxis\":{\"gridcolor\":\"white\",\"linecolor\":\"white\",\"ticks\":\"\"},\"bgcolor\":\"#E5ECF6\",\"radialaxis\":{\"gridcolor\":\"white\",\"linecolor\":\"white\",\"ticks\":\"\"}},\"scene\":{\"xaxis\":{\"backgroundcolor\":\"#E5ECF6\",\"gridcolor\":\"white\",\"gridwidth\":2,\"linecolor\":\"white\",\"showbackground\":true,\"ticks\":\"\",\"zerolinecolor\":\"white\"},\"yaxis\":{\"backgroundcolor\":\"#E5ECF6\",\"gridcolor\":\"white\",\"gridwidth\":2,\"linecolor\":\"white\",\"showbackground\":true,\"ticks\":\"\",\"zerolinecolor\":\"white\"},\"zaxis\":{\"backgroundcolor\":\"#E5ECF6\",\"gridcolor\":\"white\",\"gridwidth\":2,\"linecolor\":\"white\",\"showbackground\":true,\"ticks\":\"\",\"zerolinecolor\":\"white\"}},\"shapedefaults\":{\"line\":{\"color\":\"#2a3f5f\"}},\"ternary\":{\"aaxis\":{\"gridcolor\":\"white\",\"linecolor\":\"white\",\"ticks\":\"\"},\"baxis\":{\"gridcolor\":\"white\",\"linecolor\":\"white\",\"ticks\":\"\"},\"bgcolor\":\"#E5ECF6\",\"caxis\":{\"gridcolor\":\"white\",\"linecolor\":\"white\",\"ticks\":\"\"}},\"title\":{\"x\":0.05},\"xaxis\":{\"automargin\":true,\"gridcolor\":\"white\",\"linecolor\":\"white\",\"ticks\":\"\",\"title\":{\"standoff\":15},\"zerolinecolor\":\"white\",\"zerolinewidth\":2},\"yaxis\":{\"automargin\":true,\"gridcolor\":\"white\",\"linecolor\":\"white\",\"ticks\":\"\",\"title\":{\"standoff\":15},\"zerolinecolor\":\"white\",\"zerolinewidth\":2}}},\"xaxis\":{\"anchor\":\"y\",\"domain\":[0.0,1.0],\"title\":{\"text\":\"Project ID\"}},\"yaxis\":{\"anchor\":\"x\",\"domain\":[0.0,1.0],\"title\":{\"text\":\"number of records\"},\"type\":\"log\"},\"legend\":{\"title\":{\"text\":\"variable\"},\"tracegroupgap\":0},\"margin\":{\"t\":60},\"barmode\":\"relative\"},                        {\"responsive\": true}                    ).then(function(){\n",
              "                            \n",
              "var gd = document.getElementById('e929c625-83ca-4b62-a260-a04ba58d4ebb');\n",
              "var x = new MutationObserver(function (mutations, observer) {{\n",
              "        var display = window.getComputedStyle(gd).display;\n",
              "        if (!display || display === 'none') {{\n",
              "            console.log([gd, 'removed!']);\n",
              "            Plotly.purge(gd);\n",
              "            observer.disconnect();\n",
              "        }}\n",
              "}});\n",
              "\n",
              "// Listen for the removal of the full notebook cells\n",
              "var notebookContainer = gd.closest('#notebook-container');\n",
              "if (notebookContainer) {{\n",
              "    x.observe(notebookContainer, {childList: true});\n",
              "}}\n",
              "\n",
              "// Listen for the clearing of the current output cell\n",
              "var outputEl = gd.closest('.output');\n",
              "if (outputEl) {{\n",
              "    x.observe(outputEl, {childList: true});\n",
              "}}\n",
              "\n",
              "                        })                };                            </script>        </div>\n",
              "</body>\n",
              "</html>"
            ]
          },
          "metadata": {}
        }
      ]
    },
    {
      "cell_type": "code",
      "source": [
        "tmp_sp_state = df_groupby(input_df=df_scraped_patches, groupby_column='state')\n",
        "tmp_sp_state"
      ],
      "metadata": {
        "colab": {
          "base_uri": "https://localhost:8080/"
        },
        "id": "RGjh5g1i1zZs",
        "outputId": "6a08eb3f-a8b3-4ea8-bde8-928f030d50bd"
      },
      "execution_count": 39,
      "outputs": [
        {
          "output_type": "execute_result",
          "data": {
            "text/plain": [
              "state\n",
              "Needs ACK                48\n",
              "In Next                 124\n",
              "Under Review            744\n",
              "Queued                  941\n",
              "Rejected               2136\n",
              "Deferred               4252\n",
              "RFC                    6300\n",
              "Awaiting Upstream      7308\n",
              "Handled Elsewhere      7809\n",
              "Mainlined             14739\n",
              "Changes Requested     26867\n",
              "Not Applicable        49217\n",
              "Accepted              91480\n",
              "Superseded           135830\n",
              "New                  590342\n",
              "dtype: int64"
            ]
          },
          "metadata": {},
          "execution_count": 39
        }
      ]
    },
    {
      "cell_type": "code",
      "source": [
        "bar_plot(value_series=tmp_sp_state, labels=dict(state=\"State\", value=\"number of records\"))"
      ],
      "metadata": {
        "colab": {
          "base_uri": "https://localhost:8080/",
          "height": 542
        },
        "id": "r30y9sqX1-Os",
        "outputId": "52e22d79-172e-49ab-f5de-edb57775551b"
      },
      "execution_count": 40,
      "outputs": [
        {
          "output_type": "display_data",
          "data": {
            "text/html": [
              "<html>\n",
              "<head><meta charset=\"utf-8\" /></head>\n",
              "<body>\n",
              "    <div>            <script src=\"https://cdnjs.cloudflare.com/ajax/libs/mathjax/2.7.5/MathJax.js?config=TeX-AMS-MML_SVG\"></script><script type=\"text/javascript\">if (window.MathJax) {MathJax.Hub.Config({SVG: {font: \"STIX-Web\"}});}</script>                <script type=\"text/javascript\">window.PlotlyConfig = {MathJaxConfig: 'local'};</script>\n",
              "        <script src=\"https://cdn.plot.ly/plotly-2.8.3.min.js\"></script>                <div id=\"068592ef-191e-4d6c-91c6-57315b8c19c2\" class=\"plotly-graph-div\" style=\"height:525px; width:100%;\"></div>            <script type=\"text/javascript\">                                    window.PLOTLYENV=window.PLOTLYENV || {};                                    if (document.getElementById(\"068592ef-191e-4d6c-91c6-57315b8c19c2\")) {                    Plotly.newPlot(                        \"068592ef-191e-4d6c-91c6-57315b8c19c2\",                        [{\"alignmentgroup\":\"True\",\"hovertemplate\":\"variable=0<br>State=%{x}<br>number of records=%{y}<extra></extra>\",\"legendgroup\":\"0\",\"marker\":{\"color\":\"#636efa\",\"pattern\":{\"shape\":\"\"}},\"name\":\"0\",\"offsetgroup\":\"0\",\"orientation\":\"v\",\"showlegend\":false,\"textposition\":\"auto\",\"x\":[\"Needs ACK\",\"In Next\",\"Under Review\",\"Queued\",\"Rejected\",\"Deferred\",\"RFC\",\"Awaiting Upstream\",\"Handled Elsewhere\",\"Mainlined\",\"Changes Requested\",\"Not Applicable\",\"Accepted\",\"Superseded\",\"New\"],\"xaxis\":\"x\",\"y\":[48,124,744,941,2136,4252,6300,7308,7809,14739,26867,49217,91480,135830,590342],\"yaxis\":\"y\",\"type\":\"bar\"}],                        {\"template\":{\"data\":{\"bar\":[{\"error_x\":{\"color\":\"#2a3f5f\"},\"error_y\":{\"color\":\"#2a3f5f\"},\"marker\":{\"line\":{\"color\":\"#E5ECF6\",\"width\":0.5},\"pattern\":{\"fillmode\":\"overlay\",\"size\":10,\"solidity\":0.2}},\"type\":\"bar\"}],\"barpolar\":[{\"marker\":{\"line\":{\"color\":\"#E5ECF6\",\"width\":0.5},\"pattern\":{\"fillmode\":\"overlay\",\"size\":10,\"solidity\":0.2}},\"type\":\"barpolar\"}],\"carpet\":[{\"aaxis\":{\"endlinecolor\":\"#2a3f5f\",\"gridcolor\":\"white\",\"linecolor\":\"white\",\"minorgridcolor\":\"white\",\"startlinecolor\":\"#2a3f5f\"},\"baxis\":{\"endlinecolor\":\"#2a3f5f\",\"gridcolor\":\"white\",\"linecolor\":\"white\",\"minorgridcolor\":\"white\",\"startlinecolor\":\"#2a3f5f\"},\"type\":\"carpet\"}],\"choropleth\":[{\"colorbar\":{\"outlinewidth\":0,\"ticks\":\"\"},\"type\":\"choropleth\"}],\"contour\":[{\"colorbar\":{\"outlinewidth\":0,\"ticks\":\"\"},\"colorscale\":[[0.0,\"#0d0887\"],[0.1111111111111111,\"#46039f\"],[0.2222222222222222,\"#7201a8\"],[0.3333333333333333,\"#9c179e\"],[0.4444444444444444,\"#bd3786\"],[0.5555555555555556,\"#d8576b\"],[0.6666666666666666,\"#ed7953\"],[0.7777777777777778,\"#fb9f3a\"],[0.8888888888888888,\"#fdca26\"],[1.0,\"#f0f921\"]],\"type\":\"contour\"}],\"contourcarpet\":[{\"colorbar\":{\"outlinewidth\":0,\"ticks\":\"\"},\"type\":\"contourcarpet\"}],\"heatmap\":[{\"colorbar\":{\"outlinewidth\":0,\"ticks\":\"\"},\"colorscale\":[[0.0,\"#0d0887\"],[0.1111111111111111,\"#46039f\"],[0.2222222222222222,\"#7201a8\"],[0.3333333333333333,\"#9c179e\"],[0.4444444444444444,\"#bd3786\"],[0.5555555555555556,\"#d8576b\"],[0.6666666666666666,\"#ed7953\"],[0.7777777777777778,\"#fb9f3a\"],[0.8888888888888888,\"#fdca26\"],[1.0,\"#f0f921\"]],\"type\":\"heatmap\"}],\"heatmapgl\":[{\"colorbar\":{\"outlinewidth\":0,\"ticks\":\"\"},\"colorscale\":[[0.0,\"#0d0887\"],[0.1111111111111111,\"#46039f\"],[0.2222222222222222,\"#7201a8\"],[0.3333333333333333,\"#9c179e\"],[0.4444444444444444,\"#bd3786\"],[0.5555555555555556,\"#d8576b\"],[0.6666666666666666,\"#ed7953\"],[0.7777777777777778,\"#fb9f3a\"],[0.8888888888888888,\"#fdca26\"],[1.0,\"#f0f921\"]],\"type\":\"heatmapgl\"}],\"histogram\":[{\"marker\":{\"pattern\":{\"fillmode\":\"overlay\",\"size\":10,\"solidity\":0.2}},\"type\":\"histogram\"}],\"histogram2d\":[{\"colorbar\":{\"outlinewidth\":0,\"ticks\":\"\"},\"colorscale\":[[0.0,\"#0d0887\"],[0.1111111111111111,\"#46039f\"],[0.2222222222222222,\"#7201a8\"],[0.3333333333333333,\"#9c179e\"],[0.4444444444444444,\"#bd3786\"],[0.5555555555555556,\"#d8576b\"],[0.6666666666666666,\"#ed7953\"],[0.7777777777777778,\"#fb9f3a\"],[0.8888888888888888,\"#fdca26\"],[1.0,\"#f0f921\"]],\"type\":\"histogram2d\"}],\"histogram2dcontour\":[{\"colorbar\":{\"outlinewidth\":0,\"ticks\":\"\"},\"colorscale\":[[0.0,\"#0d0887\"],[0.1111111111111111,\"#46039f\"],[0.2222222222222222,\"#7201a8\"],[0.3333333333333333,\"#9c179e\"],[0.4444444444444444,\"#bd3786\"],[0.5555555555555556,\"#d8576b\"],[0.6666666666666666,\"#ed7953\"],[0.7777777777777778,\"#fb9f3a\"],[0.8888888888888888,\"#fdca26\"],[1.0,\"#f0f921\"]],\"type\":\"histogram2dcontour\"}],\"mesh3d\":[{\"colorbar\":{\"outlinewidth\":0,\"ticks\":\"\"},\"type\":\"mesh3d\"}],\"parcoords\":[{\"line\":{\"colorbar\":{\"outlinewidth\":0,\"ticks\":\"\"}},\"type\":\"parcoords\"}],\"pie\":[{\"automargin\":true,\"type\":\"pie\"}],\"scatter\":[{\"marker\":{\"colorbar\":{\"outlinewidth\":0,\"ticks\":\"\"}},\"type\":\"scatter\"}],\"scatter3d\":[{\"line\":{\"colorbar\":{\"outlinewidth\":0,\"ticks\":\"\"}},\"marker\":{\"colorbar\":{\"outlinewidth\":0,\"ticks\":\"\"}},\"type\":\"scatter3d\"}],\"scattercarpet\":[{\"marker\":{\"colorbar\":{\"outlinewidth\":0,\"ticks\":\"\"}},\"type\":\"scattercarpet\"}],\"scattergeo\":[{\"marker\":{\"colorbar\":{\"outlinewidth\":0,\"ticks\":\"\"}},\"type\":\"scattergeo\"}],\"scattergl\":[{\"marker\":{\"colorbar\":{\"outlinewidth\":0,\"ticks\":\"\"}},\"type\":\"scattergl\"}],\"scattermapbox\":[{\"marker\":{\"colorbar\":{\"outlinewidth\":0,\"ticks\":\"\"}},\"type\":\"scattermapbox\"}],\"scatterpolar\":[{\"marker\":{\"colorbar\":{\"outlinewidth\":0,\"ticks\":\"\"}},\"type\":\"scatterpolar\"}],\"scatterpolargl\":[{\"marker\":{\"colorbar\":{\"outlinewidth\":0,\"ticks\":\"\"}},\"type\":\"scatterpolargl\"}],\"scatterternary\":[{\"marker\":{\"colorbar\":{\"outlinewidth\":0,\"ticks\":\"\"}},\"type\":\"scatterternary\"}],\"surface\":[{\"colorbar\":{\"outlinewidth\":0,\"ticks\":\"\"},\"colorscale\":[[0.0,\"#0d0887\"],[0.1111111111111111,\"#46039f\"],[0.2222222222222222,\"#7201a8\"],[0.3333333333333333,\"#9c179e\"],[0.4444444444444444,\"#bd3786\"],[0.5555555555555556,\"#d8576b\"],[0.6666666666666666,\"#ed7953\"],[0.7777777777777778,\"#fb9f3a\"],[0.8888888888888888,\"#fdca26\"],[1.0,\"#f0f921\"]],\"type\":\"surface\"}],\"table\":[{\"cells\":{\"fill\":{\"color\":\"#EBF0F8\"},\"line\":{\"color\":\"white\"}},\"header\":{\"fill\":{\"color\":\"#C8D4E3\"},\"line\":{\"color\":\"white\"}},\"type\":\"table\"}]},\"layout\":{\"annotationdefaults\":{\"arrowcolor\":\"#2a3f5f\",\"arrowhead\":0,\"arrowwidth\":1},\"autotypenumbers\":\"strict\",\"coloraxis\":{\"colorbar\":{\"outlinewidth\":0,\"ticks\":\"\"}},\"colorscale\":{\"diverging\":[[0,\"#8e0152\"],[0.1,\"#c51b7d\"],[0.2,\"#de77ae\"],[0.3,\"#f1b6da\"],[0.4,\"#fde0ef\"],[0.5,\"#f7f7f7\"],[0.6,\"#e6f5d0\"],[0.7,\"#b8e186\"],[0.8,\"#7fbc41\"],[0.9,\"#4d9221\"],[1,\"#276419\"]],\"sequential\":[[0.0,\"#0d0887\"],[0.1111111111111111,\"#46039f\"],[0.2222222222222222,\"#7201a8\"],[0.3333333333333333,\"#9c179e\"],[0.4444444444444444,\"#bd3786\"],[0.5555555555555556,\"#d8576b\"],[0.6666666666666666,\"#ed7953\"],[0.7777777777777778,\"#fb9f3a\"],[0.8888888888888888,\"#fdca26\"],[1.0,\"#f0f921\"]],\"sequentialminus\":[[0.0,\"#0d0887\"],[0.1111111111111111,\"#46039f\"],[0.2222222222222222,\"#7201a8\"],[0.3333333333333333,\"#9c179e\"],[0.4444444444444444,\"#bd3786\"],[0.5555555555555556,\"#d8576b\"],[0.6666666666666666,\"#ed7953\"],[0.7777777777777778,\"#fb9f3a\"],[0.8888888888888888,\"#fdca26\"],[1.0,\"#f0f921\"]]},\"colorway\":[\"#636efa\",\"#EF553B\",\"#00cc96\",\"#ab63fa\",\"#FFA15A\",\"#19d3f3\",\"#FF6692\",\"#B6E880\",\"#FF97FF\",\"#FECB52\"],\"font\":{\"color\":\"#2a3f5f\"},\"geo\":{\"bgcolor\":\"white\",\"lakecolor\":\"white\",\"landcolor\":\"#E5ECF6\",\"showlakes\":true,\"showland\":true,\"subunitcolor\":\"white\"},\"hoverlabel\":{\"align\":\"left\"},\"hovermode\":\"closest\",\"mapbox\":{\"style\":\"light\"},\"paper_bgcolor\":\"white\",\"plot_bgcolor\":\"#E5ECF6\",\"polar\":{\"angularaxis\":{\"gridcolor\":\"white\",\"linecolor\":\"white\",\"ticks\":\"\"},\"bgcolor\":\"#E5ECF6\",\"radialaxis\":{\"gridcolor\":\"white\",\"linecolor\":\"white\",\"ticks\":\"\"}},\"scene\":{\"xaxis\":{\"backgroundcolor\":\"#E5ECF6\",\"gridcolor\":\"white\",\"gridwidth\":2,\"linecolor\":\"white\",\"showbackground\":true,\"ticks\":\"\",\"zerolinecolor\":\"white\"},\"yaxis\":{\"backgroundcolor\":\"#E5ECF6\",\"gridcolor\":\"white\",\"gridwidth\":2,\"linecolor\":\"white\",\"showbackground\":true,\"ticks\":\"\",\"zerolinecolor\":\"white\"},\"zaxis\":{\"backgroundcolor\":\"#E5ECF6\",\"gridcolor\":\"white\",\"gridwidth\":2,\"linecolor\":\"white\",\"showbackground\":true,\"ticks\":\"\",\"zerolinecolor\":\"white\"}},\"shapedefaults\":{\"line\":{\"color\":\"#2a3f5f\"}},\"ternary\":{\"aaxis\":{\"gridcolor\":\"white\",\"linecolor\":\"white\",\"ticks\":\"\"},\"baxis\":{\"gridcolor\":\"white\",\"linecolor\":\"white\",\"ticks\":\"\"},\"bgcolor\":\"#E5ECF6\",\"caxis\":{\"gridcolor\":\"white\",\"linecolor\":\"white\",\"ticks\":\"\"}},\"title\":{\"x\":0.05},\"xaxis\":{\"automargin\":true,\"gridcolor\":\"white\",\"linecolor\":\"white\",\"ticks\":\"\",\"title\":{\"standoff\":15},\"zerolinecolor\":\"white\",\"zerolinewidth\":2},\"yaxis\":{\"automargin\":true,\"gridcolor\":\"white\",\"linecolor\":\"white\",\"ticks\":\"\",\"title\":{\"standoff\":15},\"zerolinecolor\":\"white\",\"zerolinewidth\":2}}},\"xaxis\":{\"anchor\":\"y\",\"domain\":[0.0,1.0],\"title\":{\"text\":\"State\"}},\"yaxis\":{\"anchor\":\"x\",\"domain\":[0.0,1.0],\"title\":{\"text\":\"number of records\"},\"type\":\"log\"},\"legend\":{\"title\":{\"text\":\"variable\"},\"tracegroupgap\":0},\"margin\":{\"t\":60},\"barmode\":\"relative\"},                        {\"responsive\": true}                    ).then(function(){\n",
              "                            \n",
              "var gd = document.getElementById('068592ef-191e-4d6c-91c6-57315b8c19c2');\n",
              "var x = new MutationObserver(function (mutations, observer) {{\n",
              "        var display = window.getComputedStyle(gd).display;\n",
              "        if (!display || display === 'none') {{\n",
              "            console.log([gd, 'removed!']);\n",
              "            Plotly.purge(gd);\n",
              "            observer.disconnect();\n",
              "        }}\n",
              "}});\n",
              "\n",
              "// Listen for the removal of the full notebook cells\n",
              "var notebookContainer = gd.closest('#notebook-container');\n",
              "if (notebookContainer) {{\n",
              "    x.observe(notebookContainer, {childList: true});\n",
              "}}\n",
              "\n",
              "// Listen for the clearing of the current output cell\n",
              "var outputEl = gd.closest('.output');\n",
              "if (outputEl) {{\n",
              "    x.observe(outputEl, {childList: true});\n",
              "}}\n",
              "\n",
              "                        })                };                            </script>        </div>\n",
              "</body>\n",
              "</html>"
            ]
          },
          "metadata": {}
        }
      ]
    },
    {
      "cell_type": "code",
      "source": [
        "tmp_sp_project_state = df_scraped_patches.groupby([df_scraped_patches.project_id, df_scraped_patches.state]).count()\n",
        "tmp_sp_project_state"
      ],
      "metadata": {
        "colab": {
          "base_uri": "https://localhost:8080/",
          "height": 455
        },
        "id": "KLULasqxClKx",
        "outputId": "f80675c1-265e-4fb9-c0db-213ae63c737f"
      },
      "execution_count": 70,
      "outputs": [
        {
          "output_type": "execute_result",
          "data": {
            "text/plain": [
              "                               id  patch_id  mail_id  name  series_id  \\\n",
              "project_id state                                                        \n",
              "1          New                253       253      253   253        253   \n",
              "2          New                186       186      186   186        186   \n",
              "3          Accepted           348       348      348   348        348   \n",
              "           Changes Requested    4         4        4     4          4   \n",
              "           New                 73        73       73    73         73   \n",
              "...                           ...       ...      ...   ...        ...   \n",
              "93         Handled Elsewhere   89        89       89    89         89   \n",
              "           In Next              1         1        1     1          1   \n",
              "           New                 23        23       23    23         23   \n",
              "           Rejected             2         2        2     2          2   \n",
              "           Superseded         296       296      296   296        296   \n",
              "\n",
              "                              ack_count  review_count  tested_count  \\\n",
              "project_id state                                                      \n",
              "1          New                      253           253           253   \n",
              "2          New                      186           186           186   \n",
              "3          Accepted                 348           348           348   \n",
              "           Changes Requested          4             4             4   \n",
              "           New                       73            73            73   \n",
              "...                                 ...           ...           ...   \n",
              "93         Handled Elsewhere         89            89            89   \n",
              "           In Next                    1             1             1   \n",
              "           New                       23            23            23   \n",
              "           Rejected                   2             2             2   \n",
              "           Superseded               296           296           296   \n",
              "\n",
              "                              success_count  warning_count  fail_count  date  \\\n",
              "project_id state                                                               \n",
              "1          New                          253            253         253   253   \n",
              "2          New                          186            186         186   186   \n",
              "3          Accepted                     348            348         348   348   \n",
              "           Changes Requested              4              4           4     4   \n",
              "           New                           73             73          73    73   \n",
              "...                                     ...            ...         ...   ...   \n",
              "93         Handled Elsewhere             89             89          89    89   \n",
              "           In Next                        1              1           1     1   \n",
              "           New                           23             23          23    23   \n",
              "           Rejected                       2              2           2     2   \n",
              "           Superseded                   296            296         296   296   \n",
              "\n",
              "                              submitter_id  delegate  commit_hash  \n",
              "project_id state                                                   \n",
              "1          New                         253         0           95  \n",
              "2          New                         186         0           86  \n",
              "3          Accepted                    348         0          163  \n",
              "           Changes Requested             4         0            0  \n",
              "           New                          73         0            0  \n",
              "...                                    ...       ...          ...  \n",
              "93         Handled Elsewhere            89         0            0  \n",
              "           In Next                       1         0            0  \n",
              "           New                          23         0            0  \n",
              "           Rejected                      2         0            0  \n",
              "           Superseded                  296         0            0  \n",
              "\n",
              "[602 rows x 15 columns]"
            ],
            "text/html": [
              "\n",
              "  <div id=\"df-274b45dd-f9f3-4cb7-b85e-d6d430ac8129\">\n",
              "    <div class=\"colab-df-container\">\n",
              "      <div>\n",
              "<style scoped>\n",
              "    .dataframe tbody tr th:only-of-type {\n",
              "        vertical-align: middle;\n",
              "    }\n",
              "\n",
              "    .dataframe tbody tr th {\n",
              "        vertical-align: top;\n",
              "    }\n",
              "\n",
              "    .dataframe thead th {\n",
              "        text-align: right;\n",
              "    }\n",
              "</style>\n",
              "<table border=\"1\" class=\"dataframe\">\n",
              "  <thead>\n",
              "    <tr style=\"text-align: right;\">\n",
              "      <th></th>\n",
              "      <th></th>\n",
              "      <th>id</th>\n",
              "      <th>patch_id</th>\n",
              "      <th>mail_id</th>\n",
              "      <th>name</th>\n",
              "      <th>series_id</th>\n",
              "      <th>ack_count</th>\n",
              "      <th>review_count</th>\n",
              "      <th>tested_count</th>\n",
              "      <th>success_count</th>\n",
              "      <th>warning_count</th>\n",
              "      <th>fail_count</th>\n",
              "      <th>date</th>\n",
              "      <th>submitter_id</th>\n",
              "      <th>delegate</th>\n",
              "      <th>commit_hash</th>\n",
              "    </tr>\n",
              "    <tr>\n",
              "      <th>project_id</th>\n",
              "      <th>state</th>\n",
              "      <th></th>\n",
              "      <th></th>\n",
              "      <th></th>\n",
              "      <th></th>\n",
              "      <th></th>\n",
              "      <th></th>\n",
              "      <th></th>\n",
              "      <th></th>\n",
              "      <th></th>\n",
              "      <th></th>\n",
              "      <th></th>\n",
              "      <th></th>\n",
              "      <th></th>\n",
              "      <th></th>\n",
              "      <th></th>\n",
              "    </tr>\n",
              "  </thead>\n",
              "  <tbody>\n",
              "    <tr>\n",
              "      <th>1</th>\n",
              "      <th>New</th>\n",
              "      <td>253</td>\n",
              "      <td>253</td>\n",
              "      <td>253</td>\n",
              "      <td>253</td>\n",
              "      <td>253</td>\n",
              "      <td>253</td>\n",
              "      <td>253</td>\n",
              "      <td>253</td>\n",
              "      <td>253</td>\n",
              "      <td>253</td>\n",
              "      <td>253</td>\n",
              "      <td>253</td>\n",
              "      <td>253</td>\n",
              "      <td>0</td>\n",
              "      <td>95</td>\n",
              "    </tr>\n",
              "    <tr>\n",
              "      <th>2</th>\n",
              "      <th>New</th>\n",
              "      <td>186</td>\n",
              "      <td>186</td>\n",
              "      <td>186</td>\n",
              "      <td>186</td>\n",
              "      <td>186</td>\n",
              "      <td>186</td>\n",
              "      <td>186</td>\n",
              "      <td>186</td>\n",
              "      <td>186</td>\n",
              "      <td>186</td>\n",
              "      <td>186</td>\n",
              "      <td>186</td>\n",
              "      <td>186</td>\n",
              "      <td>0</td>\n",
              "      <td>86</td>\n",
              "    </tr>\n",
              "    <tr>\n",
              "      <th rowspan=\"3\" valign=\"top\">3</th>\n",
              "      <th>Accepted</th>\n",
              "      <td>348</td>\n",
              "      <td>348</td>\n",
              "      <td>348</td>\n",
              "      <td>348</td>\n",
              "      <td>348</td>\n",
              "      <td>348</td>\n",
              "      <td>348</td>\n",
              "      <td>348</td>\n",
              "      <td>348</td>\n",
              "      <td>348</td>\n",
              "      <td>348</td>\n",
              "      <td>348</td>\n",
              "      <td>348</td>\n",
              "      <td>0</td>\n",
              "      <td>163</td>\n",
              "    </tr>\n",
              "    <tr>\n",
              "      <th>Changes Requested</th>\n",
              "      <td>4</td>\n",
              "      <td>4</td>\n",
              "      <td>4</td>\n",
              "      <td>4</td>\n",
              "      <td>4</td>\n",
              "      <td>4</td>\n",
              "      <td>4</td>\n",
              "      <td>4</td>\n",
              "      <td>4</td>\n",
              "      <td>4</td>\n",
              "      <td>4</td>\n",
              "      <td>4</td>\n",
              "      <td>4</td>\n",
              "      <td>0</td>\n",
              "      <td>0</td>\n",
              "    </tr>\n",
              "    <tr>\n",
              "      <th>New</th>\n",
              "      <td>73</td>\n",
              "      <td>73</td>\n",
              "      <td>73</td>\n",
              "      <td>73</td>\n",
              "      <td>73</td>\n",
              "      <td>73</td>\n",
              "      <td>73</td>\n",
              "      <td>73</td>\n",
              "      <td>73</td>\n",
              "      <td>73</td>\n",
              "      <td>73</td>\n",
              "      <td>73</td>\n",
              "      <td>73</td>\n",
              "      <td>0</td>\n",
              "      <td>0</td>\n",
              "    </tr>\n",
              "    <tr>\n",
              "      <th>...</th>\n",
              "      <th>...</th>\n",
              "      <td>...</td>\n",
              "      <td>...</td>\n",
              "      <td>...</td>\n",
              "      <td>...</td>\n",
              "      <td>...</td>\n",
              "      <td>...</td>\n",
              "      <td>...</td>\n",
              "      <td>...</td>\n",
              "      <td>...</td>\n",
              "      <td>...</td>\n",
              "      <td>...</td>\n",
              "      <td>...</td>\n",
              "      <td>...</td>\n",
              "      <td>...</td>\n",
              "      <td>...</td>\n",
              "    </tr>\n",
              "    <tr>\n",
              "      <th rowspan=\"5\" valign=\"top\">93</th>\n",
              "      <th>Handled Elsewhere</th>\n",
              "      <td>89</td>\n",
              "      <td>89</td>\n",
              "      <td>89</td>\n",
              "      <td>89</td>\n",
              "      <td>89</td>\n",
              "      <td>89</td>\n",
              "      <td>89</td>\n",
              "      <td>89</td>\n",
              "      <td>89</td>\n",
              "      <td>89</td>\n",
              "      <td>89</td>\n",
              "      <td>89</td>\n",
              "      <td>89</td>\n",
              "      <td>0</td>\n",
              "      <td>0</td>\n",
              "    </tr>\n",
              "    <tr>\n",
              "      <th>In Next</th>\n",
              "      <td>1</td>\n",
              "      <td>1</td>\n",
              "      <td>1</td>\n",
              "      <td>1</td>\n",
              "      <td>1</td>\n",
              "      <td>1</td>\n",
              "      <td>1</td>\n",
              "      <td>1</td>\n",
              "      <td>1</td>\n",
              "      <td>1</td>\n",
              "      <td>1</td>\n",
              "      <td>1</td>\n",
              "      <td>1</td>\n",
              "      <td>0</td>\n",
              "      <td>0</td>\n",
              "    </tr>\n",
              "    <tr>\n",
              "      <th>New</th>\n",
              "      <td>23</td>\n",
              "      <td>23</td>\n",
              "      <td>23</td>\n",
              "      <td>23</td>\n",
              "      <td>23</td>\n",
              "      <td>23</td>\n",
              "      <td>23</td>\n",
              "      <td>23</td>\n",
              "      <td>23</td>\n",
              "      <td>23</td>\n",
              "      <td>23</td>\n",
              "      <td>23</td>\n",
              "      <td>23</td>\n",
              "      <td>0</td>\n",
              "      <td>0</td>\n",
              "    </tr>\n",
              "    <tr>\n",
              "      <th>Rejected</th>\n",
              "      <td>2</td>\n",
              "      <td>2</td>\n",
              "      <td>2</td>\n",
              "      <td>2</td>\n",
              "      <td>2</td>\n",
              "      <td>2</td>\n",
              "      <td>2</td>\n",
              "      <td>2</td>\n",
              "      <td>2</td>\n",
              "      <td>2</td>\n",
              "      <td>2</td>\n",
              "      <td>2</td>\n",
              "      <td>2</td>\n",
              "      <td>0</td>\n",
              "      <td>0</td>\n",
              "    </tr>\n",
              "    <tr>\n",
              "      <th>Superseded</th>\n",
              "      <td>296</td>\n",
              "      <td>296</td>\n",
              "      <td>296</td>\n",
              "      <td>296</td>\n",
              "      <td>296</td>\n",
              "      <td>296</td>\n",
              "      <td>296</td>\n",
              "      <td>296</td>\n",
              "      <td>296</td>\n",
              "      <td>296</td>\n",
              "      <td>296</td>\n",
              "      <td>296</td>\n",
              "      <td>296</td>\n",
              "      <td>0</td>\n",
              "      <td>0</td>\n",
              "    </tr>\n",
              "  </tbody>\n",
              "</table>\n",
              "<p>602 rows × 15 columns</p>\n",
              "</div>\n",
              "      <button class=\"colab-df-convert\" onclick=\"convertToInteractive('df-274b45dd-f9f3-4cb7-b85e-d6d430ac8129')\"\n",
              "              title=\"Convert this dataframe to an interactive table.\"\n",
              "              style=\"display:none;\">\n",
              "        \n",
              "  <svg xmlns=\"http://www.w3.org/2000/svg\" height=\"24px\"viewBox=\"0 0 24 24\"\n",
              "       width=\"24px\">\n",
              "    <path d=\"M0 0h24v24H0V0z\" fill=\"none\"/>\n",
              "    <path d=\"M18.56 5.44l.94 2.06.94-2.06 2.06-.94-2.06-.94-.94-2.06-.94 2.06-2.06.94zm-11 1L8.5 8.5l.94-2.06 2.06-.94-2.06-.94L8.5 2.5l-.94 2.06-2.06.94zm10 10l.94 2.06.94-2.06 2.06-.94-2.06-.94-.94-2.06-.94 2.06-2.06.94z\"/><path d=\"M17.41 7.96l-1.37-1.37c-.4-.4-.92-.59-1.43-.59-.52 0-1.04.2-1.43.59L10.3 9.45l-7.72 7.72c-.78.78-.78 2.05 0 2.83L4 21.41c.39.39.9.59 1.41.59.51 0 1.02-.2 1.41-.59l7.78-7.78 2.81-2.81c.8-.78.8-2.07 0-2.86zM5.41 20L4 18.59l7.72-7.72 1.47 1.35L5.41 20z\"/>\n",
              "  </svg>\n",
              "      </button>\n",
              "      \n",
              "  <style>\n",
              "    .colab-df-container {\n",
              "      display:flex;\n",
              "      flex-wrap:wrap;\n",
              "      gap: 12px;\n",
              "    }\n",
              "\n",
              "    .colab-df-convert {\n",
              "      background-color: #E8F0FE;\n",
              "      border: none;\n",
              "      border-radius: 50%;\n",
              "      cursor: pointer;\n",
              "      display: none;\n",
              "      fill: #1967D2;\n",
              "      height: 32px;\n",
              "      padding: 0 0 0 0;\n",
              "      width: 32px;\n",
              "    }\n",
              "\n",
              "    .colab-df-convert:hover {\n",
              "      background-color: #E2EBFA;\n",
              "      box-shadow: 0px 1px 2px rgba(60, 64, 67, 0.3), 0px 1px 3px 1px rgba(60, 64, 67, 0.15);\n",
              "      fill: #174EA6;\n",
              "    }\n",
              "\n",
              "    [theme=dark] .colab-df-convert {\n",
              "      background-color: #3B4455;\n",
              "      fill: #D2E3FC;\n",
              "    }\n",
              "\n",
              "    [theme=dark] .colab-df-convert:hover {\n",
              "      background-color: #434B5C;\n",
              "      box-shadow: 0px 1px 3px 1px rgba(0, 0, 0, 0.15);\n",
              "      filter: drop-shadow(0px 1px 2px rgba(0, 0, 0, 0.3));\n",
              "      fill: #FFFFFF;\n",
              "    }\n",
              "  </style>\n",
              "\n",
              "      <script>\n",
              "        const buttonEl =\n",
              "          document.querySelector('#df-274b45dd-f9f3-4cb7-b85e-d6d430ac8129 button.colab-df-convert');\n",
              "        buttonEl.style.display =\n",
              "          google.colab.kernel.accessAllowed ? 'block' : 'none';\n",
              "\n",
              "        async function convertToInteractive(key) {\n",
              "          const element = document.querySelector('#df-274b45dd-f9f3-4cb7-b85e-d6d430ac8129');\n",
              "          const dataTable =\n",
              "            await google.colab.kernel.invokeFunction('convertToInteractive',\n",
              "                                                     [key], {});\n",
              "          if (!dataTable) return;\n",
              "\n",
              "          const docLinkHtml = 'Like what you see? Visit the ' +\n",
              "            '<a target=\"_blank\" href=https://colab.research.google.com/notebooks/data_table.ipynb>data table notebook</a>'\n",
              "            + ' to learn more about interactive tables.';\n",
              "          element.innerHTML = '';\n",
              "          dataTable['output_type'] = 'display_data';\n",
              "          await google.colab.output.renderOutput(dataTable, element);\n",
              "          const docLink = document.createElement('div');\n",
              "          docLink.innerHTML = docLinkHtml;\n",
              "          element.appendChild(docLink);\n",
              "        }\n",
              "      </script>\n",
              "    </div>\n",
              "  </div>\n",
              "  "
            ]
          },
          "metadata": {},
          "execution_count": 70
        }
      ]
    },
    {
      "cell_type": "code",
      "source": [
        "bar_plot(value_series=tmp_sp_project_state.id.unstack(), log_y=True, labels=dict(project_id=\"Project ID\", value=\"number of records\", state=\"Patch States\"), show_legend=True)"
      ],
      "metadata": {
        "colab": {
          "base_uri": "https://localhost:8080/",
          "height": 542
        },
        "id": "cbHFbVvRC6RR",
        "outputId": "d95469ee-01de-4ec9-a874-c5ae173126aa"
      },
      "execution_count": 71,
      "outputs": [
        {
          "output_type": "display_data",
          "data": {
            "text/html": [
              "<html>\n",
              "<head><meta charset=\"utf-8\" /></head>\n",
              "<body>\n",
              "    <div>            <script src=\"https://cdnjs.cloudflare.com/ajax/libs/mathjax/2.7.5/MathJax.js?config=TeX-AMS-MML_SVG\"></script><script type=\"text/javascript\">if (window.MathJax) {MathJax.Hub.Config({SVG: {font: \"STIX-Web\"}});}</script>                <script type=\"text/javascript\">window.PlotlyConfig = {MathJaxConfig: 'local'};</script>\n",
              "        <script src=\"https://cdn.plot.ly/plotly-2.8.3.min.js\"></script>                <div id=\"b53f0c71-2a41-4d93-833e-580ccb5d04e6\" class=\"plotly-graph-div\" style=\"height:525px; width:100%;\"></div>            <script type=\"text/javascript\">                                    window.PLOTLYENV=window.PLOTLYENV || {};                                    if (document.getElementById(\"b53f0c71-2a41-4d93-833e-580ccb5d04e6\")) {                    Plotly.newPlot(                        \"b53f0c71-2a41-4d93-833e-580ccb5d04e6\",                        [{\"alignmentgroup\":\"True\",\"hovertemplate\":\"Patch States=Accepted<br>Project ID=%{x}<br>number of records=%{y}<extra></extra>\",\"legendgroup\":\"Accepted\",\"marker\":{\"color\":\"#636efa\",\"pattern\":{\"shape\":\"\"}},\"name\":\"Accepted\",\"offsetgroup\":\"Accepted\",\"orientation\":\"v\",\"showlegend\":true,\"textposition\":\"auto\",\"x\":[1,2,3,4,5,6,7,8,9,10,11,12,13,14,15,16,17,18,19,20,21,22,23,24,25,26,27,28,29,30,31,32,33,34,35,36,37,38,39,40,41,42,43,44,45,46,47,48,49,50,51,52,53,54,55,56,57,58,59,60,61,62,63,64,65,66,67,68,69,70,71,72,73,74,75,76,77,78,79,80,81,82,83,84,85,86,87,88,89,90,91,92,93],\"xaxis\":\"x\",\"y\":[null,null,348.0,null,6.0,204.0,14.0,1217.0,2284.0,121.0,2.0,1647.0,6865.0,5.0,null,null,8.0,2472.0,286.0,1349.0,723.0,null,140.0,1657.0,1273.0,515.0,null,149.0,null,494.0,24215.0,1704.0,9.0,3429.0,1018.0,6770.0,19.0,null,null,69.0,1084.0,3799.0,null,null,2017.0,873.0,null,2162.0,1.0,11.0,6.0,null,583.0,6.0,null,1868.0,357.0,1.0,57.0,750.0,2032.0,266.0,null,1704.0,230.0,null,578.0,10.0,null,1656.0,67.0,1003.0,3832.0,19.0,1.0,49.0,null,3.0,null,302.0,null,null,2.0,null,5070.0,52.0,15.0,662.0,34.0,235.0,934.0,null,137.0],\"yaxis\":\"y\",\"type\":\"bar\"},{\"alignmentgroup\":\"True\",\"hovertemplate\":\"Patch States=Awaiting Upstream<br>Project ID=%{x}<br>number of records=%{y}<extra></extra>\",\"legendgroup\":\"Awaiting Upstream\",\"marker\":{\"color\":\"#EF553B\",\"pattern\":{\"shape\":\"\"}},\"name\":\"Awaiting Upstream\",\"offsetgroup\":\"Awaiting Upstream\",\"orientation\":\"v\",\"showlegend\":true,\"textposition\":\"auto\",\"x\":[1,2,3,4,5,6,7,8,9,10,11,12,13,14,15,16,17,18,19,20,21,22,23,24,25,26,27,28,29,30,31,32,33,34,35,36,37,38,39,40,41,42,43,44,45,46,47,48,49,50,51,52,53,54,55,56,57,58,59,60,61,62,63,64,65,66,67,68,69,70,71,72,73,74,75,76,77,78,79,80,81,82,83,84,85,86,87,88,89,90,91,92,93],\"xaxis\":\"x\",\"y\":[null,null,null,null,18.0,80.0,8.0,null,null,1.0,null,2133.0,null,null,null,null,null,null,null,12.0,null,null,null,null,null,null,null,48.0,null,null,3920.0,14.0,4.0,null,null,5.0,null,null,null,9.0,null,4.0,null,null,null,null,null,3.0,null,null,1.0,null,null,2.0,null,269.0,null,null,5.0,null,3.0,680.0,null,null,null,null,null,null,null,2.0,null,9.0,18.0,null,null,null,null,null,null,null,null,null,null,null,null,null,null,60.0,null,null,null,null,null],\"yaxis\":\"y\",\"type\":\"bar\"},{\"alignmentgroup\":\"True\",\"hovertemplate\":\"Patch States=Changes Requested<br>Project ID=%{x}<br>number of records=%{y}<extra></extra>\",\"legendgroup\":\"Changes Requested\",\"marker\":{\"color\":\"#00cc96\",\"pattern\":{\"shape\":\"\"}},\"name\":\"Changes Requested\",\"offsetgroup\":\"Changes Requested\",\"orientation\":\"v\",\"showlegend\":true,\"textposition\":\"auto\",\"x\":[1,2,3,4,5,6,7,8,9,10,11,12,13,14,15,16,17,18,19,20,21,22,23,24,25,26,27,28,29,30,31,32,33,34,35,36,37,38,39,40,41,42,43,44,45,46,47,48,49,50,51,52,53,54,55,56,57,58,59,60,61,62,63,64,65,66,67,68,69,70,71,72,73,74,75,76,77,78,79,80,81,82,83,84,85,86,87,88,89,90,91,92,93],\"xaxis\":\"x\",\"y\":[null,null,4.0,null,188.0,1.0,7.0,1000.0,1740.0,291.0,null,1374.0,null,null,null,null,null,null,28.0,494.0,null,null,null,null,979.0,42.0,null,null,null,254.0,8064.0,11.0,2.0,null,211.0,2876.0,23.0,null,null,47.0,71.0,2105.0,null,null,182.0,10.0,3.0,70.0,null,null,4.0,1.0,2.0,null,null,16.0,80.0,null,6.0,328.0,805.0,16.0,null,726.0,621.0,null,null,null,null,1719.0,9.0,801.0,746.0,3.0,519.0,5.0,null,13.0,null,null,null,null,null,null,null,null,null,250.0,2.0,null,118.0,null,null],\"yaxis\":\"y\",\"type\":\"bar\"},{\"alignmentgroup\":\"True\",\"hovertemplate\":\"Patch States=Deferred<br>Project ID=%{x}<br>number of records=%{y}<extra></extra>\",\"legendgroup\":\"Deferred\",\"marker\":{\"color\":\"#ab63fa\",\"pattern\":{\"shape\":\"\"}},\"name\":\"Deferred\",\"offsetgroup\":\"Deferred\",\"orientation\":\"v\",\"showlegend\":true,\"textposition\":\"auto\",\"x\":[1,2,3,4,5,6,7,8,9,10,11,12,13,14,15,16,17,18,19,20,21,22,23,24,25,26,27,28,29,30,31,32,33,34,35,36,37,38,39,40,41,42,43,44,45,46,47,48,49,50,51,52,53,54,55,56,57,58,59,60,61,62,63,64,65,66,67,68,69,70,71,72,73,74,75,76,77,78,79,80,81,82,83,84,85,86,87,88,89,90,91,92,93],\"xaxis\":\"x\",\"y\":[null,null,null,null,null,null,null,null,111.0,null,null,null,null,null,null,null,null,null,null,4.0,null,null,null,null,1928.0,3.0,null,1.0,null,1.0,805.0,5.0,14.0,4.0,10.0,18.0,null,null,null,1.0,1.0,1096.0,null,null,13.0,46.0,null,4.0,null,null,null,null,null,null,null,15.0,null,null,null,null,null,null,null,10.0,61.0,null,null,null,null,13.0,1.0,2.0,3.0,null,53.0,null,null,null,null,null,null,null,null,null,null,null,6.0,23.0,null,null,null,null,null],\"yaxis\":\"y\",\"type\":\"bar\"},{\"alignmentgroup\":\"True\",\"hovertemplate\":\"Patch States=Handled Elsewhere<br>Project ID=%{x}<br>number of records=%{y}<extra></extra>\",\"legendgroup\":\"Handled Elsewhere\",\"marker\":{\"color\":\"#FFA15A\",\"pattern\":{\"shape\":\"\"}},\"name\":\"Handled Elsewhere\",\"offsetgroup\":\"Handled Elsewhere\",\"orientation\":\"v\",\"showlegend\":true,\"textposition\":\"auto\",\"x\":[1,2,3,4,5,6,7,8,9,10,11,12,13,14,15,16,17,18,19,20,21,22,23,24,25,26,27,28,29,30,31,32,33,34,35,36,37,38,39,40,41,42,43,44,45,46,47,48,49,50,51,52,53,54,55,56,57,58,59,60,61,62,63,64,65,66,67,68,69,70,71,72,73,74,75,76,77,78,79,80,81,82,83,84,85,86,87,88,89,90,91,92,93],\"xaxis\":\"x\",\"y\":[null,null,null,null,101.0,589.0,null,32.0,3.0,94.0,null,null,null,9.0,null,null,1.0,null,null,177.0,null,null,null,null,null,17.0,null,18.0,null,295.0,12.0,21.0,null,null,null,26.0,660.0,null,null,1.0,null,null,null,null,79.0,997.0,null,5.0,null,null,null,null,null,null,null,4.0,1.0,null,null,109.0,33.0,123.0,null,693.0,1991.0,null,null,null,null,533.0,null,193.0,1.0,null,861.0,1.0,null,1.0,null,null,null,null,null,null,null,null,null,null,null,39.0,null,null,89.0],\"yaxis\":\"y\",\"type\":\"bar\"},{\"alignmentgroup\":\"True\",\"hovertemplate\":\"Patch States=In Next<br>Project ID=%{x}<br>number of records=%{y}<extra></extra>\",\"legendgroup\":\"In Next\",\"marker\":{\"color\":\"#19d3f3\",\"pattern\":{\"shape\":\"\"}},\"name\":\"In Next\",\"offsetgroup\":\"In Next\",\"orientation\":\"v\",\"showlegend\":true,\"textposition\":\"auto\",\"x\":[1,2,3,4,5,6,7,8,9,10,11,12,13,14,15,16,17,18,19,20,21,22,23,24,25,26,27,28,29,30,31,32,33,34,35,36,37,38,39,40,41,42,43,44,45,46,47,48,49,50,51,52,53,54,55,56,57,58,59,60,61,62,63,64,65,66,67,68,69,70,71,72,73,74,75,76,77,78,79,80,81,82,83,84,85,86,87,88,89,90,91,92,93],\"xaxis\":\"x\",\"y\":[null,null,null,null,70.0,13.0,null,null,null,null,null,null,null,null,null,null,null,null,null,2.0,null,null,null,null,null,null,null,null,null,null,null,null,null,null,null,1.0,null,null,null,null,null,null,null,null,null,null,null,null,null,null,null,null,null,null,null,null,null,null,null,null,null,null,null,null,8.0,null,null,null,null,null,null,null,null,null,25.0,3.0,null,1.0,null,null,null,null,null,null,null,null,null,null,null,null,null,null,1.0],\"yaxis\":\"y\",\"type\":\"bar\"},{\"alignmentgroup\":\"True\",\"hovertemplate\":\"Patch States=Mainlined<br>Project ID=%{x}<br>number of records=%{y}<extra></extra>\",\"legendgroup\":\"Mainlined\",\"marker\":{\"color\":\"#FF6692\",\"pattern\":{\"shape\":\"\"}},\"name\":\"Mainlined\",\"offsetgroup\":\"Mainlined\",\"orientation\":\"v\",\"showlegend\":true,\"textposition\":\"auto\",\"x\":[1,2,3,4,5,6,7,8,9,10,11,12,13,14,15,16,17,18,19,20,21,22,23,24,25,26,27,28,29,30,31,32,33,34,35,36,37,38,39,40,41,42,43,44,45,46,47,48,49,50,51,52,53,54,55,56,57,58,59,60,61,62,63,64,65,66,67,68,69,70,71,72,73,74,75,76,77,78,79,80,81,82,83,84,85,86,87,88,89,90,91,92,93],\"xaxis\":\"x\",\"y\":[null,null,null,null,427.0,1.0,46.0,22.0,null,null,null,null,null,null,null,null,null,null,null,null,null,null,38.0,null,1.0,403.0,null,null,null,null,null,1.0,619.0,986.0,982.0,5.0,null,null,null,null,77.0,512.0,null,null,null,301.0,null,282.0,null,1.0,null,null,1109.0,null,null,1143.0,122.0,3.0,29.0,12.0,448.0,null,null,210.0,1061.0,null,102.0,null,null,13.0,11.0,null,1.0,222.0,1146.0,4264.0,null,32.0,null,null,null,null,null,null,null,null,107.0,null,null,null,null,null,null],\"yaxis\":\"y\",\"type\":\"bar\"},{\"alignmentgroup\":\"True\",\"hovertemplate\":\"Patch States=Needs ACK<br>Project ID=%{x}<br>number of records=%{y}<extra></extra>\",\"legendgroup\":\"Needs ACK\",\"marker\":{\"color\":\"#B6E880\",\"pattern\":{\"shape\":\"\"}},\"name\":\"Needs ACK\",\"offsetgroup\":\"Needs ACK\",\"orientation\":\"v\",\"showlegend\":true,\"textposition\":\"auto\",\"x\":[1,2,3,4,5,6,7,8,9,10,11,12,13,14,15,16,17,18,19,20,21,22,23,24,25,26,27,28,29,30,31,32,33,34,35,36,37,38,39,40,41,42,43,44,45,46,47,48,49,50,51,52,53,54,55,56,57,58,59,60,61,62,63,64,65,66,67,68,69,70,71,72,73,74,75,76,77,78,79,80,81,82,83,84,85,86,87,88,89,90,91,92,93],\"xaxis\":\"x\",\"y\":[null,null,null,null,null,null,4.0,null,5.0,null,null,null,null,null,null,1.0,null,null,null,null,null,null,null,1.0,null,null,null,null,null,4.0,9.0,null,null,2.0,null,null,null,null,null,19.0,null,null,null,null,null,null,null,null,null,null,null,null,null,null,null,null,null,null,null,null,null,null,null,null,2.0,null,null,null,null,null,null,1.0,null,null,null,null,null,null,null,null,null,null,null,null,null,null,null,null,null,null,null,null,null],\"yaxis\":\"y\",\"type\":\"bar\"},{\"alignmentgroup\":\"True\",\"hovertemplate\":\"Patch States=New<br>Project ID=%{x}<br>number of records=%{y}<extra></extra>\",\"legendgroup\":\"New\",\"marker\":{\"color\":\"#FF97FF\",\"pattern\":{\"shape\":\"\"}},\"name\":\"New\",\"offsetgroup\":\"New\",\"orientation\":\"v\",\"showlegend\":true,\"textposition\":\"auto\",\"x\":[1,2,3,4,5,6,7,8,9,10,11,12,13,14,15,16,17,18,19,20,21,22,23,24,25,26,27,28,29,30,31,32,33,34,35,36,37,38,39,40,41,42,43,44,45,46,47,48,49,50,51,52,53,54,55,56,57,58,59,60,61,62,63,64,65,66,67,68,69,70,71,72,73,74,75,76,77,78,79,80,81,82,83,84,85,86,87,88,89,90,91,92,93],\"xaxis\":\"x\",\"y\":[253.0,186.0,73.0,1546.0,1436.0,169.0,889.0,49.0,25.0,57.0,22682.0,62.0,7793.0,14248.0,11127.0,7.0,45.0,2768.0,1108.0,112.0,8886.0,843.0,222.0,1502.0,41.0,null,1464.0,107.0,31.0,47.0,406.0,212.0,57.0,4163.0,43.0,190.0,4890.0,1639.0,78.0,6668.0,445.0,551.0,283.0,3832.0,2407.0,339.0,5482.0,6294.0,3406.0,19011.0,4183.0,39629.0,2006.0,23879.0,7726.0,953.0,840.0,115255.0,215.0,101.0,123.0,30.0,7.0,648.0,2341.0,4653.0,1858.0,7287.0,494.0,4193.0,8.0,39.0,2842.0,1522.0,30.0,91365.0,19.0,33935.0,1741.0,59.0,1499.0,1448.0,31565.0,2908.0,12367.0,26.0,49257.0,296.0,24.0,860.0,770.0,3144.0,23.0],\"yaxis\":\"y\",\"type\":\"bar\"},{\"alignmentgroup\":\"True\",\"hovertemplate\":\"Patch States=Not Applicable<br>Project ID=%{x}<br>number of records=%{y}<extra></extra>\",\"legendgroup\":\"Not Applicable\",\"marker\":{\"color\":\"#FECB52\",\"pattern\":{\"shape\":\"\"}},\"name\":\"Not Applicable\",\"offsetgroup\":\"Not Applicable\",\"orientation\":\"v\",\"showlegend\":true,\"textposition\":\"auto\",\"x\":[1,2,3,4,5,6,7,8,9,10,11,12,13,14,15,16,17,18,19,20,21,22,23,24,25,26,27,28,29,30,31,32,33,34,35,36,37,38,39,40,41,42,43,44,45,46,47,48,49,50,51,52,53,54,55,56,57,58,59,60,61,62,63,64,65,66,67,68,69,70,71,72,73,74,75,76,77,78,79,80,81,82,83,84,85,86,87,88,89,90,91,92,93],\"xaxis\":\"x\",\"y\":[null,null,326.0,null,23.0,221.0,5.0,770.0,3285.0,55.0,null,3591.0,1.0,2.0,null,null,null,52.0,22.0,225.0,null,null,null,null,45.0,31.0,null,27.0,null,573.0,7325.0,11.0,26.0,null,507.0,2407.0,null,null,null,133.0,2548.0,1988.0,null,null,26.0,1900.0,null,7.0,null,2.0,null,null,4.0,null,null,47.0,377.0,null,28.0,389.0,1949.0,684.0,null,1883.0,5115.0,null,null,null,null,286.0,26.0,592.0,7229.0,140.0,1752.0,14.0,null,null,null,91.0,null,null,4.0,null,null,null,6.0,2401.0,1.0,null,65.0,null,null],\"yaxis\":\"y\",\"type\":\"bar\"},{\"alignmentgroup\":\"True\",\"hovertemplate\":\"Patch States=Queued<br>Project ID=%{x}<br>number of records=%{y}<extra></extra>\",\"legendgroup\":\"Queued\",\"marker\":{\"color\":\"#636efa\",\"pattern\":{\"shape\":\"\"}},\"name\":\"Queued\",\"offsetgroup\":\"Queued\",\"orientation\":\"v\",\"showlegend\":true,\"textposition\":\"auto\",\"x\":[1,2,3,4,5,6,7,8,9,10,11,12,13,14,15,16,17,18,19,20,21,22,23,24,25,26,27,28,29,30,31,32,33,34,35,36,37,38,39,40,41,42,43,44,45,46,47,48,49,50,51,52,53,54,55,56,57,58,59,60,61,62,63,64,65,66,67,68,69,70,71,72,73,74,75,76,77,78,79,80,81,82,83,84,85,86,87,88,89,90,91,92,93],\"xaxis\":\"x\",\"y\":[null,null,null,null,null,null,33.0,null,null,null,null,null,null,null,null,null,null,null,null,1.0,null,null,null,null,null,14.0,null,null,5.0,null,null,7.0,null,null,230.0,null,null,null,null,null,null,null,null,null,28.0,null,null,2.0,null,null,null,null,null,null,null,null,18.0,null,null,null,null,null,null,null,22.0,1.0,null,null,null,null,null,null,531.0,null,3.0,43.0,null,3.0,null,null,null,null,null,null,null,null,null,null,null,null,null,null,null],\"yaxis\":\"y\",\"type\":\"bar\"},{\"alignmentgroup\":\"True\",\"hovertemplate\":\"Patch States=RFC<br>Project ID=%{x}<br>number of records=%{y}<extra></extra>\",\"legendgroup\":\"RFC\",\"marker\":{\"color\":\"#EF553B\",\"pattern\":{\"shape\":\"\"}},\"name\":\"RFC\",\"offsetgroup\":\"RFC\",\"orientation\":\"v\",\"showlegend\":true,\"textposition\":\"auto\",\"x\":[1,2,3,4,5,6,7,8,9,10,11,12,13,14,15,16,17,18,19,20,21,22,23,24,25,26,27,28,29,30,31,32,33,34,35,36,37,38,39,40,41,42,43,44,45,46,47,48,49,50,51,52,53,54,55,56,57,58,59,60,61,62,63,64,65,66,67,68,69,70,71,72,73,74,75,76,77,78,79,80,81,82,83,84,85,86,87,88,89,90,91,92,93],\"xaxis\":\"x\",\"y\":[null,null,null,null,21.0,null,null,52.0,146.0,1.0,null,90.0,null,5.0,null,null,null,null,null,17.0,null,null,null,null,28.0,19.0,null,null,null,null,3835.0,2.0,null,null,11.0,710.0,null,null,null,35.0,null,7.0,null,null,22.0,107.0,null,12.0,null,null,null,null,null,null,null,68.0,null,1.0,null,57.0,209.0,3.0,null,49.0,477.0,null,null,null,null,9.0,null,1.0,null,null,305.0,null,null,null,null,null,null,null,null,null,null,null,null,1.0,null,null,null,null,null],\"yaxis\":\"y\",\"type\":\"bar\"},{\"alignmentgroup\":\"True\",\"hovertemplate\":\"Patch States=Rejected<br>Project ID=%{x}<br>number of records=%{y}<extra></extra>\",\"legendgroup\":\"Rejected\",\"marker\":{\"color\":\"#00cc96\",\"pattern\":{\"shape\":\"\"}},\"name\":\"Rejected\",\"offsetgroup\":\"Rejected\",\"orientation\":\"v\",\"showlegend\":true,\"textposition\":\"auto\",\"x\":[1,2,3,4,5,6,7,8,9,10,11,12,13,14,15,16,17,18,19,20,21,22,23,24,25,26,27,28,29,30,31,32,33,34,35,36,37,38,39,40,41,42,43,44,45,46,47,48,49,50,51,52,53,54,55,56,57,58,59,60,61,62,63,64,65,66,67,68,69,70,71,72,73,74,75,76,77,78,79,80,81,82,83,84,85,86,87,88,89,90,91,92,93],\"xaxis\":\"x\",\"y\":[null,null,10.0,null,9.0,9.0,30.0,34.0,53.0,18.0,null,26.0,null,3.0,null,null,null,5.0,1.0,45.0,1.0,null,null,3.0,61.0,27.0,null,6.0,null,57.0,419.0,8.0,12.0,16.0,11.0,243.0,3.0,null,null,null,13.0,122.0,null,null,40.0,132.0,3.0,14.0,null,4.0,42.0,null,16.0,1.0,null,34.0,3.0,null,1.0,12.0,69.0,37.0,null,44.0,60.0,null,null,null,1.0,31.0,2.0,78.0,32.0,3.0,45.0,1.0,null,null,null,6.0,null,21.0,null,null,null,null,23.0,97.0,2.0,3.0,32.0,null,2.0],\"yaxis\":\"y\",\"type\":\"bar\"},{\"alignmentgroup\":\"True\",\"hovertemplate\":\"Patch States=Superseded<br>Project ID=%{x}<br>number of records=%{y}<extra></extra>\",\"legendgroup\":\"Superseded\",\"marker\":{\"color\":\"#ab63fa\",\"pattern\":{\"shape\":\"\"}},\"name\":\"Superseded\",\"offsetgroup\":\"Superseded\",\"orientation\":\"v\",\"showlegend\":true,\"textposition\":\"auto\",\"x\":[1,2,3,4,5,6,7,8,9,10,11,12,13,14,15,16,17,18,19,20,21,22,23,24,25,26,27,28,29,30,31,32,33,34,35,36,37,38,39,40,41,42,43,44,45,46,47,48,49,50,51,52,53,54,55,56,57,58,59,60,61,62,63,64,65,66,67,68,69,70,71,72,73,74,75,76,77,78,79,80,81,82,83,84,85,86,87,88,89,90,91,92,93],\"xaxis\":\"x\",\"y\":[null,null,992.0,1.0,364.0,1087.0,492.0,1354.0,1166.0,577.0,8.0,4478.0,4366.0,17.0,12.0,null,2.0,5566.0,255.0,1441.0,5705.0,null,131.0,2303.0,694.0,1761.0,null,286.0,5.0,661.0,21456.0,2476.0,78.0,5266.0,652.0,2239.0,153.0,null,null,435.0,659.0,6958.0,null,null,2085.0,4327.0,5.0,183.0,1.0,29.0,9.0,20.0,2482.0,91.0,42.0,3525.0,1877.0,175.0,79.0,1460.0,3959.0,383.0,null,7567.0,2096.0,18.0,1294.0,2.0,175.0,1403.0,75.0,709.0,14022.0,1200.0,1408.0,195.0,null,73.0,16.0,52.0,null,null,null,null,8033.0,null,221.0,1047.0,8.0,1033.0,59.0,null,296.0],\"yaxis\":\"y\",\"type\":\"bar\"},{\"alignmentgroup\":\"True\",\"hovertemplate\":\"Patch States=Under Review<br>Project ID=%{x}<br>number of records=%{y}<extra></extra>\",\"legendgroup\":\"Under Review\",\"marker\":{\"color\":\"#FFA15A\",\"pattern\":{\"shape\":\"\"}},\"name\":\"Under Review\",\"offsetgroup\":\"Under Review\",\"orientation\":\"v\",\"showlegend\":true,\"textposition\":\"auto\",\"x\":[1,2,3,4,5,6,7,8,9,10,11,12,13,14,15,16,17,18,19,20,21,22,23,24,25,26,27,28,29,30,31,32,33,34,35,36,37,38,39,40,41,42,43,44,45,46,47,48,49,50,51,52,53,54,55,56,57,58,59,60,61,62,63,64,65,66,67,68,69,70,71,72,73,74,75,76,77,78,79,80,81,82,83,84,85,86,87,88,89,90,91,92,93],\"xaxis\":\"x\",\"y\":[null,null,null,null,null,null,null,null,32.0,null,null,202.0,null,null,null,null,null,null,null,2.0,null,null,null,null,null,15.0,null,null,null,3.0,11.0,null,null,null,null,9.0,2.0,null,null,31.0,19.0,null,null,null,null,null,null,null,null,null,1.0,null,38.0,null,null,236.0,null,2.0,22.0,null,15.0,null,null,null,28.0,null,null,null,null,null,null,5.0,null,null,7.0,null,null,1.0,null,null,null,49.0,null,null,null,null,null,null,2.0,12.0,null,null,null],\"yaxis\":\"y\",\"type\":\"bar\"}],                        {\"template\":{\"data\":{\"bar\":[{\"error_x\":{\"color\":\"#2a3f5f\"},\"error_y\":{\"color\":\"#2a3f5f\"},\"marker\":{\"line\":{\"color\":\"#E5ECF6\",\"width\":0.5},\"pattern\":{\"fillmode\":\"overlay\",\"size\":10,\"solidity\":0.2}},\"type\":\"bar\"}],\"barpolar\":[{\"marker\":{\"line\":{\"color\":\"#E5ECF6\",\"width\":0.5},\"pattern\":{\"fillmode\":\"overlay\",\"size\":10,\"solidity\":0.2}},\"type\":\"barpolar\"}],\"carpet\":[{\"aaxis\":{\"endlinecolor\":\"#2a3f5f\",\"gridcolor\":\"white\",\"linecolor\":\"white\",\"minorgridcolor\":\"white\",\"startlinecolor\":\"#2a3f5f\"},\"baxis\":{\"endlinecolor\":\"#2a3f5f\",\"gridcolor\":\"white\",\"linecolor\":\"white\",\"minorgridcolor\":\"white\",\"startlinecolor\":\"#2a3f5f\"},\"type\":\"carpet\"}],\"choropleth\":[{\"colorbar\":{\"outlinewidth\":0,\"ticks\":\"\"},\"type\":\"choropleth\"}],\"contour\":[{\"colorbar\":{\"outlinewidth\":0,\"ticks\":\"\"},\"colorscale\":[[0.0,\"#0d0887\"],[0.1111111111111111,\"#46039f\"],[0.2222222222222222,\"#7201a8\"],[0.3333333333333333,\"#9c179e\"],[0.4444444444444444,\"#bd3786\"],[0.5555555555555556,\"#d8576b\"],[0.6666666666666666,\"#ed7953\"],[0.7777777777777778,\"#fb9f3a\"],[0.8888888888888888,\"#fdca26\"],[1.0,\"#f0f921\"]],\"type\":\"contour\"}],\"contourcarpet\":[{\"colorbar\":{\"outlinewidth\":0,\"ticks\":\"\"},\"type\":\"contourcarpet\"}],\"heatmap\":[{\"colorbar\":{\"outlinewidth\":0,\"ticks\":\"\"},\"colorscale\":[[0.0,\"#0d0887\"],[0.1111111111111111,\"#46039f\"],[0.2222222222222222,\"#7201a8\"],[0.3333333333333333,\"#9c179e\"],[0.4444444444444444,\"#bd3786\"],[0.5555555555555556,\"#d8576b\"],[0.6666666666666666,\"#ed7953\"],[0.7777777777777778,\"#fb9f3a\"],[0.8888888888888888,\"#fdca26\"],[1.0,\"#f0f921\"]],\"type\":\"heatmap\"}],\"heatmapgl\":[{\"colorbar\":{\"outlinewidth\":0,\"ticks\":\"\"},\"colorscale\":[[0.0,\"#0d0887\"],[0.1111111111111111,\"#46039f\"],[0.2222222222222222,\"#7201a8\"],[0.3333333333333333,\"#9c179e\"],[0.4444444444444444,\"#bd3786\"],[0.5555555555555556,\"#d8576b\"],[0.6666666666666666,\"#ed7953\"],[0.7777777777777778,\"#fb9f3a\"],[0.8888888888888888,\"#fdca26\"],[1.0,\"#f0f921\"]],\"type\":\"heatmapgl\"}],\"histogram\":[{\"marker\":{\"pattern\":{\"fillmode\":\"overlay\",\"size\":10,\"solidity\":0.2}},\"type\":\"histogram\"}],\"histogram2d\":[{\"colorbar\":{\"outlinewidth\":0,\"ticks\":\"\"},\"colorscale\":[[0.0,\"#0d0887\"],[0.1111111111111111,\"#46039f\"],[0.2222222222222222,\"#7201a8\"],[0.3333333333333333,\"#9c179e\"],[0.4444444444444444,\"#bd3786\"],[0.5555555555555556,\"#d8576b\"],[0.6666666666666666,\"#ed7953\"],[0.7777777777777778,\"#fb9f3a\"],[0.8888888888888888,\"#fdca26\"],[1.0,\"#f0f921\"]],\"type\":\"histogram2d\"}],\"histogram2dcontour\":[{\"colorbar\":{\"outlinewidth\":0,\"ticks\":\"\"},\"colorscale\":[[0.0,\"#0d0887\"],[0.1111111111111111,\"#46039f\"],[0.2222222222222222,\"#7201a8\"],[0.3333333333333333,\"#9c179e\"],[0.4444444444444444,\"#bd3786\"],[0.5555555555555556,\"#d8576b\"],[0.6666666666666666,\"#ed7953\"],[0.7777777777777778,\"#fb9f3a\"],[0.8888888888888888,\"#fdca26\"],[1.0,\"#f0f921\"]],\"type\":\"histogram2dcontour\"}],\"mesh3d\":[{\"colorbar\":{\"outlinewidth\":0,\"ticks\":\"\"},\"type\":\"mesh3d\"}],\"parcoords\":[{\"line\":{\"colorbar\":{\"outlinewidth\":0,\"ticks\":\"\"}},\"type\":\"parcoords\"}],\"pie\":[{\"automargin\":true,\"type\":\"pie\"}],\"scatter\":[{\"marker\":{\"colorbar\":{\"outlinewidth\":0,\"ticks\":\"\"}},\"type\":\"scatter\"}],\"scatter3d\":[{\"line\":{\"colorbar\":{\"outlinewidth\":0,\"ticks\":\"\"}},\"marker\":{\"colorbar\":{\"outlinewidth\":0,\"ticks\":\"\"}},\"type\":\"scatter3d\"}],\"scattercarpet\":[{\"marker\":{\"colorbar\":{\"outlinewidth\":0,\"ticks\":\"\"}},\"type\":\"scattercarpet\"}],\"scattergeo\":[{\"marker\":{\"colorbar\":{\"outlinewidth\":0,\"ticks\":\"\"}},\"type\":\"scattergeo\"}],\"scattergl\":[{\"marker\":{\"colorbar\":{\"outlinewidth\":0,\"ticks\":\"\"}},\"type\":\"scattergl\"}],\"scattermapbox\":[{\"marker\":{\"colorbar\":{\"outlinewidth\":0,\"ticks\":\"\"}},\"type\":\"scattermapbox\"}],\"scatterpolar\":[{\"marker\":{\"colorbar\":{\"outlinewidth\":0,\"ticks\":\"\"}},\"type\":\"scatterpolar\"}],\"scatterpolargl\":[{\"marker\":{\"colorbar\":{\"outlinewidth\":0,\"ticks\":\"\"}},\"type\":\"scatterpolargl\"}],\"scatterternary\":[{\"marker\":{\"colorbar\":{\"outlinewidth\":0,\"ticks\":\"\"}},\"type\":\"scatterternary\"}],\"surface\":[{\"colorbar\":{\"outlinewidth\":0,\"ticks\":\"\"},\"colorscale\":[[0.0,\"#0d0887\"],[0.1111111111111111,\"#46039f\"],[0.2222222222222222,\"#7201a8\"],[0.3333333333333333,\"#9c179e\"],[0.4444444444444444,\"#bd3786\"],[0.5555555555555556,\"#d8576b\"],[0.6666666666666666,\"#ed7953\"],[0.7777777777777778,\"#fb9f3a\"],[0.8888888888888888,\"#fdca26\"],[1.0,\"#f0f921\"]],\"type\":\"surface\"}],\"table\":[{\"cells\":{\"fill\":{\"color\":\"#EBF0F8\"},\"line\":{\"color\":\"white\"}},\"header\":{\"fill\":{\"color\":\"#C8D4E3\"},\"line\":{\"color\":\"white\"}},\"type\":\"table\"}]},\"layout\":{\"annotationdefaults\":{\"arrowcolor\":\"#2a3f5f\",\"arrowhead\":0,\"arrowwidth\":1},\"autotypenumbers\":\"strict\",\"coloraxis\":{\"colorbar\":{\"outlinewidth\":0,\"ticks\":\"\"}},\"colorscale\":{\"diverging\":[[0,\"#8e0152\"],[0.1,\"#c51b7d\"],[0.2,\"#de77ae\"],[0.3,\"#f1b6da\"],[0.4,\"#fde0ef\"],[0.5,\"#f7f7f7\"],[0.6,\"#e6f5d0\"],[0.7,\"#b8e186\"],[0.8,\"#7fbc41\"],[0.9,\"#4d9221\"],[1,\"#276419\"]],\"sequential\":[[0.0,\"#0d0887\"],[0.1111111111111111,\"#46039f\"],[0.2222222222222222,\"#7201a8\"],[0.3333333333333333,\"#9c179e\"],[0.4444444444444444,\"#bd3786\"],[0.5555555555555556,\"#d8576b\"],[0.6666666666666666,\"#ed7953\"],[0.7777777777777778,\"#fb9f3a\"],[0.8888888888888888,\"#fdca26\"],[1.0,\"#f0f921\"]],\"sequentialminus\":[[0.0,\"#0d0887\"],[0.1111111111111111,\"#46039f\"],[0.2222222222222222,\"#7201a8\"],[0.3333333333333333,\"#9c179e\"],[0.4444444444444444,\"#bd3786\"],[0.5555555555555556,\"#d8576b\"],[0.6666666666666666,\"#ed7953\"],[0.7777777777777778,\"#fb9f3a\"],[0.8888888888888888,\"#fdca26\"],[1.0,\"#f0f921\"]]},\"colorway\":[\"#636efa\",\"#EF553B\",\"#00cc96\",\"#ab63fa\",\"#FFA15A\",\"#19d3f3\",\"#FF6692\",\"#B6E880\",\"#FF97FF\",\"#FECB52\"],\"font\":{\"color\":\"#2a3f5f\"},\"geo\":{\"bgcolor\":\"white\",\"lakecolor\":\"white\",\"landcolor\":\"#E5ECF6\",\"showlakes\":true,\"showland\":true,\"subunitcolor\":\"white\"},\"hoverlabel\":{\"align\":\"left\"},\"hovermode\":\"closest\",\"mapbox\":{\"style\":\"light\"},\"paper_bgcolor\":\"white\",\"plot_bgcolor\":\"#E5ECF6\",\"polar\":{\"angularaxis\":{\"gridcolor\":\"white\",\"linecolor\":\"white\",\"ticks\":\"\"},\"bgcolor\":\"#E5ECF6\",\"radialaxis\":{\"gridcolor\":\"white\",\"linecolor\":\"white\",\"ticks\":\"\"}},\"scene\":{\"xaxis\":{\"backgroundcolor\":\"#E5ECF6\",\"gridcolor\":\"white\",\"gridwidth\":2,\"linecolor\":\"white\",\"showbackground\":true,\"ticks\":\"\",\"zerolinecolor\":\"white\"},\"yaxis\":{\"backgroundcolor\":\"#E5ECF6\",\"gridcolor\":\"white\",\"gridwidth\":2,\"linecolor\":\"white\",\"showbackground\":true,\"ticks\":\"\",\"zerolinecolor\":\"white\"},\"zaxis\":{\"backgroundcolor\":\"#E5ECF6\",\"gridcolor\":\"white\",\"gridwidth\":2,\"linecolor\":\"white\",\"showbackground\":true,\"ticks\":\"\",\"zerolinecolor\":\"white\"}},\"shapedefaults\":{\"line\":{\"color\":\"#2a3f5f\"}},\"ternary\":{\"aaxis\":{\"gridcolor\":\"white\",\"linecolor\":\"white\",\"ticks\":\"\"},\"baxis\":{\"gridcolor\":\"white\",\"linecolor\":\"white\",\"ticks\":\"\"},\"bgcolor\":\"#E5ECF6\",\"caxis\":{\"gridcolor\":\"white\",\"linecolor\":\"white\",\"ticks\":\"\"}},\"title\":{\"x\":0.05},\"xaxis\":{\"automargin\":true,\"gridcolor\":\"white\",\"linecolor\":\"white\",\"ticks\":\"\",\"title\":{\"standoff\":15},\"zerolinecolor\":\"white\",\"zerolinewidth\":2},\"yaxis\":{\"automargin\":true,\"gridcolor\":\"white\",\"linecolor\":\"white\",\"ticks\":\"\",\"title\":{\"standoff\":15},\"zerolinecolor\":\"white\",\"zerolinewidth\":2}}},\"xaxis\":{\"anchor\":\"y\",\"domain\":[0.0,1.0],\"title\":{\"text\":\"Project ID\"}},\"yaxis\":{\"anchor\":\"x\",\"domain\":[0.0,1.0],\"title\":{\"text\":\"number of records\"},\"type\":\"log\"},\"legend\":{\"title\":{\"text\":\"Patch States\"},\"tracegroupgap\":0},\"margin\":{\"t\":60},\"barmode\":\"relative\"},                        {\"responsive\": true}                    ).then(function(){\n",
              "                            \n",
              "var gd = document.getElementById('b53f0c71-2a41-4d93-833e-580ccb5d04e6');\n",
              "var x = new MutationObserver(function (mutations, observer) {{\n",
              "        var display = window.getComputedStyle(gd).display;\n",
              "        if (!display || display === 'none') {{\n",
              "            console.log([gd, 'removed!']);\n",
              "            Plotly.purge(gd);\n",
              "            observer.disconnect();\n",
              "        }}\n",
              "}});\n",
              "\n",
              "// Listen for the removal of the full notebook cells\n",
              "var notebookContainer = gd.closest('#notebook-container');\n",
              "if (notebookContainer) {{\n",
              "    x.observe(notebookContainer, {childList: true});\n",
              "}}\n",
              "\n",
              "// Listen for the clearing of the current output cell\n",
              "var outputEl = gd.closest('.output');\n",
              "if (outputEl) {{\n",
              "    x.observe(outputEl, {childList: true});\n",
              "}}\n",
              "\n",
              "                        })                };                            </script>        </div>\n",
              "</body>\n",
              "</html>"
            ]
          },
          "metadata": {}
        }
      ]
    },
    {
      "cell_type": "markdown",
      "source": [
        "### &#9759; threads Table"
      ],
      "metadata": {
        "id": "tnKmLIjoL5pB"
      }
    },
    {
      "cell_type": "code",
      "source": [
        "df_thread = get_db_records(\"SELECT * FROM thread;\")"
      ],
      "metadata": {
        "id": "e18yotG1L7Bs"
      },
      "execution_count": 43,
      "outputs": []
    },
    {
      "cell_type": "code",
      "source": [
        "df_thread.info()"
      ],
      "metadata": {
        "colab": {
          "base_uri": "https://localhost:8080/"
        },
        "id": "QLcpVWf_MDvf",
        "outputId": "17de36a4-36af-45ad-bc08-e7c1c3aefda8"
      },
      "execution_count": 44,
      "outputs": [
        {
          "output_type": "stream",
          "name": "stdout",
          "text": [
            "<class 'pandas.core.frame.DataFrame'>\n",
            "RangeIndex: 117508 entries, 0 to 117507\n",
            "Data columns (total 20 columns):\n",
            " #   Column           Non-Null Count   Dtype  \n",
            "---  ------           --------------   -----  \n",
            " 0   id               117508 non-null  int64  \n",
            " 1   name             117508 non-null  object \n",
            " 2   root_message_id  117508 non-null  object \n",
            " 3   url              117508 non-null  object \n",
            " 4   subject          117508 non-null  object \n",
            " 5   patch            117508 non-null  int64  \n",
            " 6   emails           117508 non-null  int64  \n",
            " 7   users            117508 non-null  int64  \n",
            " 8   start            117508 non-null  int64  \n",
            " 9   days             117508 non-null  int64  \n",
            " 10  depth            117508 non-null  int64  \n",
            " 11  star_nodes       117508 non-null  int64  \n",
            " 12  h_index          117508 non-null  int64  \n",
            " 13  deg_gini         117508 non-null  float64\n",
            " 14  deg_max          117508 non-null  float64\n",
            " 15  deg_max_2        85094 non-null   float64\n",
            " 16  deg_max_3        58892 non-null   float64\n",
            " 17  deg_max_4        45489 non-null   float64\n",
            " 18  deg_max_5        37344 non-null   float64\n",
            " 19  category         117508 non-null  object \n",
            "dtypes: float64(6), int64(9), object(5)\n",
            "memory usage: 17.9+ MB\n"
          ]
        }
      ]
    },
    {
      "cell_type": "code",
      "source": [
        "df_thread.head()"
      ],
      "metadata": {
        "colab": {
          "base_uri": "https://localhost:8080/",
          "height": 372
        },
        "id": "GTURaQ9QMGEd",
        "outputId": "52540658-5c6c-43f1-89fc-e46ad4241135"
      },
      "execution_count": 45,
      "outputs": [
        {
          "output_type": "execute_result",
          "data": {
            "text/plain": [
              "   id            name                               root_message_id  \\\n",
              "0   1  20200817155032  20200817143833.737102804@linuxfoundation.org   \n",
              "1   2  20200817151017  20200817143819.579311991@linuxfoundation.org   \n",
              "2   3  20200929081604  20200929110010.467764689@linuxfoundation.org   \n",
              "3   4  20200917220115    20200918020110.2063155-1-sashal@kernel.org   \n",
              "4   5  20200817143209  20200817143755.807583758@linuxfoundation.org   \n",
              "\n",
              "                                                 url  \\\n",
              "0  https://lkml.iu.edu/hypermail/linux/kernel/200...   \n",
              "1  https://lkml.iu.edu/hypermail/linux/kernel/200...   \n",
              "2  https://lkml.iu.edu/hypermail/linux/kernel/200...   \n",
              "3  https://lkml.iu.edu/hypermail/linux/kernel/200...   \n",
              "4  https://lkml.iu.edu/hypermail/linux/kernel/200...   \n",
              "\n",
              "                                             subject  patch  emails  users  \\\n",
              "0  [PATCH 5.8 001/464] tracepoint: Mark __tracepo...      1     475      9   \n",
              "1  [PATCH 5.7 001/393] tracepoint: Mark __tracepo...      1     398      6   \n",
              "2  [PATCH 5.4 006/388] drm/amd/display: Do not do...      1     389      3   \n",
              "3  [PATCH AUTOSEL 5.4 001/330] drm/v3d: don't lea...      1     340     10   \n",
              "4  [PATCH 5.4 014/270] arm64: dts: qcom: msm8916:...      1     275      6   \n",
              "\n",
              "        start  days  depth  star_nodes  h_index  deg_gini  deg_max  deg_max_2  \\\n",
              "0  1597677533     1      3           1        1       1.0    467.0        1.0   \n",
              "1  1597679578     1      2           1        1       1.0    396.0        1.0   \n",
              "2  1601379429     0      1           1        1       1.0    388.0        0.0   \n",
              "3  1600394475     7      4           2        2       1.0    329.0        2.0   \n",
              "4  1597682723     1      2           1        1       1.0    273.0        1.0   \n",
              "\n",
              "   deg_max_3  deg_max_4  deg_max_5 category  \n",
              "0        1.0        1.0        1.0    comet  \n",
              "1        0.0        0.0        0.0    comet  \n",
              "2        0.0        0.0        0.0     comb  \n",
              "3        1.0        1.0        1.0     tree  \n",
              "4        0.0        0.0        0.0    comet  "
            ],
            "text/html": [
              "\n",
              "  <div id=\"df-e4d868b2-61b8-4129-8f3d-b59f3d5a7903\">\n",
              "    <div class=\"colab-df-container\">\n",
              "      <div>\n",
              "<style scoped>\n",
              "    .dataframe tbody tr th:only-of-type {\n",
              "        vertical-align: middle;\n",
              "    }\n",
              "\n",
              "    .dataframe tbody tr th {\n",
              "        vertical-align: top;\n",
              "    }\n",
              "\n",
              "    .dataframe thead th {\n",
              "        text-align: right;\n",
              "    }\n",
              "</style>\n",
              "<table border=\"1\" class=\"dataframe\">\n",
              "  <thead>\n",
              "    <tr style=\"text-align: right;\">\n",
              "      <th></th>\n",
              "      <th>id</th>\n",
              "      <th>name</th>\n",
              "      <th>root_message_id</th>\n",
              "      <th>url</th>\n",
              "      <th>subject</th>\n",
              "      <th>patch</th>\n",
              "      <th>emails</th>\n",
              "      <th>users</th>\n",
              "      <th>start</th>\n",
              "      <th>days</th>\n",
              "      <th>depth</th>\n",
              "      <th>star_nodes</th>\n",
              "      <th>h_index</th>\n",
              "      <th>deg_gini</th>\n",
              "      <th>deg_max</th>\n",
              "      <th>deg_max_2</th>\n",
              "      <th>deg_max_3</th>\n",
              "      <th>deg_max_4</th>\n",
              "      <th>deg_max_5</th>\n",
              "      <th>category</th>\n",
              "    </tr>\n",
              "  </thead>\n",
              "  <tbody>\n",
              "    <tr>\n",
              "      <th>0</th>\n",
              "      <td>1</td>\n",
              "      <td>20200817155032</td>\n",
              "      <td>20200817143833.737102804@linuxfoundation.org</td>\n",
              "      <td>https://lkml.iu.edu/hypermail/linux/kernel/200...</td>\n",
              "      <td>[PATCH 5.8 001/464] tracepoint: Mark __tracepo...</td>\n",
              "      <td>1</td>\n",
              "      <td>475</td>\n",
              "      <td>9</td>\n",
              "      <td>1597677533</td>\n",
              "      <td>1</td>\n",
              "      <td>3</td>\n",
              "      <td>1</td>\n",
              "      <td>1</td>\n",
              "      <td>1.0</td>\n",
              "      <td>467.0</td>\n",
              "      <td>1.0</td>\n",
              "      <td>1.0</td>\n",
              "      <td>1.0</td>\n",
              "      <td>1.0</td>\n",
              "      <td>comet</td>\n",
              "    </tr>\n",
              "    <tr>\n",
              "      <th>1</th>\n",
              "      <td>2</td>\n",
              "      <td>20200817151017</td>\n",
              "      <td>20200817143819.579311991@linuxfoundation.org</td>\n",
              "      <td>https://lkml.iu.edu/hypermail/linux/kernel/200...</td>\n",
              "      <td>[PATCH 5.7 001/393] tracepoint: Mark __tracepo...</td>\n",
              "      <td>1</td>\n",
              "      <td>398</td>\n",
              "      <td>6</td>\n",
              "      <td>1597679578</td>\n",
              "      <td>1</td>\n",
              "      <td>2</td>\n",
              "      <td>1</td>\n",
              "      <td>1</td>\n",
              "      <td>1.0</td>\n",
              "      <td>396.0</td>\n",
              "      <td>1.0</td>\n",
              "      <td>0.0</td>\n",
              "      <td>0.0</td>\n",
              "      <td>0.0</td>\n",
              "      <td>comet</td>\n",
              "    </tr>\n",
              "    <tr>\n",
              "      <th>2</th>\n",
              "      <td>3</td>\n",
              "      <td>20200929081604</td>\n",
              "      <td>20200929110010.467764689@linuxfoundation.org</td>\n",
              "      <td>https://lkml.iu.edu/hypermail/linux/kernel/200...</td>\n",
              "      <td>[PATCH 5.4 006/388] drm/amd/display: Do not do...</td>\n",
              "      <td>1</td>\n",
              "      <td>389</td>\n",
              "      <td>3</td>\n",
              "      <td>1601379429</td>\n",
              "      <td>0</td>\n",
              "      <td>1</td>\n",
              "      <td>1</td>\n",
              "      <td>1</td>\n",
              "      <td>1.0</td>\n",
              "      <td>388.0</td>\n",
              "      <td>0.0</td>\n",
              "      <td>0.0</td>\n",
              "      <td>0.0</td>\n",
              "      <td>0.0</td>\n",
              "      <td>comb</td>\n",
              "    </tr>\n",
              "    <tr>\n",
              "      <th>3</th>\n",
              "      <td>4</td>\n",
              "      <td>20200917220115</td>\n",
              "      <td>20200918020110.2063155-1-sashal@kernel.org</td>\n",
              "      <td>https://lkml.iu.edu/hypermail/linux/kernel/200...</td>\n",
              "      <td>[PATCH AUTOSEL 5.4 001/330] drm/v3d: don't lea...</td>\n",
              "      <td>1</td>\n",
              "      <td>340</td>\n",
              "      <td>10</td>\n",
              "      <td>1600394475</td>\n",
              "      <td>7</td>\n",
              "      <td>4</td>\n",
              "      <td>2</td>\n",
              "      <td>2</td>\n",
              "      <td>1.0</td>\n",
              "      <td>329.0</td>\n",
              "      <td>2.0</td>\n",
              "      <td>1.0</td>\n",
              "      <td>1.0</td>\n",
              "      <td>1.0</td>\n",
              "      <td>tree</td>\n",
              "    </tr>\n",
              "    <tr>\n",
              "      <th>4</th>\n",
              "      <td>5</td>\n",
              "      <td>20200817143209</td>\n",
              "      <td>20200817143755.807583758@linuxfoundation.org</td>\n",
              "      <td>https://lkml.iu.edu/hypermail/linux/kernel/200...</td>\n",
              "      <td>[PATCH 5.4 014/270] arm64: dts: qcom: msm8916:...</td>\n",
              "      <td>1</td>\n",
              "      <td>275</td>\n",
              "      <td>6</td>\n",
              "      <td>1597682723</td>\n",
              "      <td>1</td>\n",
              "      <td>2</td>\n",
              "      <td>1</td>\n",
              "      <td>1</td>\n",
              "      <td>1.0</td>\n",
              "      <td>273.0</td>\n",
              "      <td>1.0</td>\n",
              "      <td>0.0</td>\n",
              "      <td>0.0</td>\n",
              "      <td>0.0</td>\n",
              "      <td>comet</td>\n",
              "    </tr>\n",
              "  </tbody>\n",
              "</table>\n",
              "</div>\n",
              "      <button class=\"colab-df-convert\" onclick=\"convertToInteractive('df-e4d868b2-61b8-4129-8f3d-b59f3d5a7903')\"\n",
              "              title=\"Convert this dataframe to an interactive table.\"\n",
              "              style=\"display:none;\">\n",
              "        \n",
              "  <svg xmlns=\"http://www.w3.org/2000/svg\" height=\"24px\"viewBox=\"0 0 24 24\"\n",
              "       width=\"24px\">\n",
              "    <path d=\"M0 0h24v24H0V0z\" fill=\"none\"/>\n",
              "    <path d=\"M18.56 5.44l.94 2.06.94-2.06 2.06-.94-2.06-.94-.94-2.06-.94 2.06-2.06.94zm-11 1L8.5 8.5l.94-2.06 2.06-.94-2.06-.94L8.5 2.5l-.94 2.06-2.06.94zm10 10l.94 2.06.94-2.06 2.06-.94-2.06-.94-.94-2.06-.94 2.06-2.06.94z\"/><path d=\"M17.41 7.96l-1.37-1.37c-.4-.4-.92-.59-1.43-.59-.52 0-1.04.2-1.43.59L10.3 9.45l-7.72 7.72c-.78.78-.78 2.05 0 2.83L4 21.41c.39.39.9.59 1.41.59.51 0 1.02-.2 1.41-.59l7.78-7.78 2.81-2.81c.8-.78.8-2.07 0-2.86zM5.41 20L4 18.59l7.72-7.72 1.47 1.35L5.41 20z\"/>\n",
              "  </svg>\n",
              "      </button>\n",
              "      \n",
              "  <style>\n",
              "    .colab-df-container {\n",
              "      display:flex;\n",
              "      flex-wrap:wrap;\n",
              "      gap: 12px;\n",
              "    }\n",
              "\n",
              "    .colab-df-convert {\n",
              "      background-color: #E8F0FE;\n",
              "      border: none;\n",
              "      border-radius: 50%;\n",
              "      cursor: pointer;\n",
              "      display: none;\n",
              "      fill: #1967D2;\n",
              "      height: 32px;\n",
              "      padding: 0 0 0 0;\n",
              "      width: 32px;\n",
              "    }\n",
              "\n",
              "    .colab-df-convert:hover {\n",
              "      background-color: #E2EBFA;\n",
              "      box-shadow: 0px 1px 2px rgba(60, 64, 67, 0.3), 0px 1px 3px 1px rgba(60, 64, 67, 0.15);\n",
              "      fill: #174EA6;\n",
              "    }\n",
              "\n",
              "    [theme=dark] .colab-df-convert {\n",
              "      background-color: #3B4455;\n",
              "      fill: #D2E3FC;\n",
              "    }\n",
              "\n",
              "    [theme=dark] .colab-df-convert:hover {\n",
              "      background-color: #434B5C;\n",
              "      box-shadow: 0px 1px 3px 1px rgba(0, 0, 0, 0.15);\n",
              "      filter: drop-shadow(0px 1px 2px rgba(0, 0, 0, 0.3));\n",
              "      fill: #FFFFFF;\n",
              "    }\n",
              "  </style>\n",
              "\n",
              "      <script>\n",
              "        const buttonEl =\n",
              "          document.querySelector('#df-e4d868b2-61b8-4129-8f3d-b59f3d5a7903 button.colab-df-convert');\n",
              "        buttonEl.style.display =\n",
              "          google.colab.kernel.accessAllowed ? 'block' : 'none';\n",
              "\n",
              "        async function convertToInteractive(key) {\n",
              "          const element = document.querySelector('#df-e4d868b2-61b8-4129-8f3d-b59f3d5a7903');\n",
              "          const dataTable =\n",
              "            await google.colab.kernel.invokeFunction('convertToInteractive',\n",
              "                                                     [key], {});\n",
              "          if (!dataTable) return;\n",
              "\n",
              "          const docLinkHtml = 'Like what you see? Visit the ' +\n",
              "            '<a target=\"_blank\" href=https://colab.research.google.com/notebooks/data_table.ipynb>data table notebook</a>'\n",
              "            + ' to learn more about interactive tables.';\n",
              "          element.innerHTML = '';\n",
              "          dataTable['output_type'] = 'display_data';\n",
              "          await google.colab.output.renderOutput(dataTable, element);\n",
              "          const docLink = document.createElement('div');\n",
              "          docLink.innerHTML = docLinkHtml;\n",
              "          element.appendChild(docLink);\n",
              "        }\n",
              "      </script>\n",
              "    </div>\n",
              "  </div>\n",
              "  "
            ]
          },
          "metadata": {},
          "execution_count": 45
        }
      ]
    },
    {
      "cell_type": "code",
      "source": [
        "tmp_thread_category = df_groupby(input_df=df_thread, groupby_column='category')\n",
        "tmp_thread_category"
      ],
      "metadata": {
        "colab": {
          "base_uri": "https://localhost:8080/"
        },
        "id": "3_b-Yx8UMH3l",
        "outputId": "90418de7-d81f-4e47-a81b-383f1dd5bbbd"
      },
      "execution_count": 46,
      "outputs": [
        {
          "output_type": "execute_result",
          "data": {
            "text/plain": [
              "category\n",
              "waterfall      326\n",
              "stringy      12549\n",
              "tree         12657\n",
              "comet        20977\n",
              "atom         32414\n",
              "comb         38585\n",
              "dtype: int64"
            ]
          },
          "metadata": {},
          "execution_count": 46
        }
      ]
    },
    {
      "cell_type": "code",
      "source": [
        "bar_plot(value_series=tmp_thread_category, log_y=False, labels=dict(category=\"Thread Category\", value=\"number of records\"))"
      ],
      "metadata": {
        "colab": {
          "base_uri": "https://localhost:8080/",
          "height": 542
        },
        "id": "Unjbc3ReMTBf",
        "outputId": "9323f6ed-fd94-4016-d7f3-59850e01317e"
      },
      "execution_count": 47,
      "outputs": [
        {
          "output_type": "display_data",
          "data": {
            "text/html": [
              "<html>\n",
              "<head><meta charset=\"utf-8\" /></head>\n",
              "<body>\n",
              "    <div>            <script src=\"https://cdnjs.cloudflare.com/ajax/libs/mathjax/2.7.5/MathJax.js?config=TeX-AMS-MML_SVG\"></script><script type=\"text/javascript\">if (window.MathJax) {MathJax.Hub.Config({SVG: {font: \"STIX-Web\"}});}</script>                <script type=\"text/javascript\">window.PlotlyConfig = {MathJaxConfig: 'local'};</script>\n",
              "        <script src=\"https://cdn.plot.ly/plotly-2.8.3.min.js\"></script>                <div id=\"bf0fda3c-1d4f-4dde-99a7-f5da986ac9af\" class=\"plotly-graph-div\" style=\"height:525px; width:100%;\"></div>            <script type=\"text/javascript\">                                    window.PLOTLYENV=window.PLOTLYENV || {};                                    if (document.getElementById(\"bf0fda3c-1d4f-4dde-99a7-f5da986ac9af\")) {                    Plotly.newPlot(                        \"bf0fda3c-1d4f-4dde-99a7-f5da986ac9af\",                        [{\"alignmentgroup\":\"True\",\"hovertemplate\":\"variable=0<br>Thread Category=%{x}<br>number of records=%{y}<extra></extra>\",\"legendgroup\":\"0\",\"marker\":{\"color\":\"#636efa\",\"pattern\":{\"shape\":\"\"}},\"name\":\"0\",\"offsetgroup\":\"0\",\"orientation\":\"v\",\"showlegend\":false,\"textposition\":\"auto\",\"x\":[\"waterfall\",\"stringy\",\"tree\",\"comet\",\"atom\",\"comb\"],\"xaxis\":\"x\",\"y\":[326,12549,12657,20977,32414,38585],\"yaxis\":\"y\",\"type\":\"bar\"}],                        {\"template\":{\"data\":{\"bar\":[{\"error_x\":{\"color\":\"#2a3f5f\"},\"error_y\":{\"color\":\"#2a3f5f\"},\"marker\":{\"line\":{\"color\":\"#E5ECF6\",\"width\":0.5},\"pattern\":{\"fillmode\":\"overlay\",\"size\":10,\"solidity\":0.2}},\"type\":\"bar\"}],\"barpolar\":[{\"marker\":{\"line\":{\"color\":\"#E5ECF6\",\"width\":0.5},\"pattern\":{\"fillmode\":\"overlay\",\"size\":10,\"solidity\":0.2}},\"type\":\"barpolar\"}],\"carpet\":[{\"aaxis\":{\"endlinecolor\":\"#2a3f5f\",\"gridcolor\":\"white\",\"linecolor\":\"white\",\"minorgridcolor\":\"white\",\"startlinecolor\":\"#2a3f5f\"},\"baxis\":{\"endlinecolor\":\"#2a3f5f\",\"gridcolor\":\"white\",\"linecolor\":\"white\",\"minorgridcolor\":\"white\",\"startlinecolor\":\"#2a3f5f\"},\"type\":\"carpet\"}],\"choropleth\":[{\"colorbar\":{\"outlinewidth\":0,\"ticks\":\"\"},\"type\":\"choropleth\"}],\"contour\":[{\"colorbar\":{\"outlinewidth\":0,\"ticks\":\"\"},\"colorscale\":[[0.0,\"#0d0887\"],[0.1111111111111111,\"#46039f\"],[0.2222222222222222,\"#7201a8\"],[0.3333333333333333,\"#9c179e\"],[0.4444444444444444,\"#bd3786\"],[0.5555555555555556,\"#d8576b\"],[0.6666666666666666,\"#ed7953\"],[0.7777777777777778,\"#fb9f3a\"],[0.8888888888888888,\"#fdca26\"],[1.0,\"#f0f921\"]],\"type\":\"contour\"}],\"contourcarpet\":[{\"colorbar\":{\"outlinewidth\":0,\"ticks\":\"\"},\"type\":\"contourcarpet\"}],\"heatmap\":[{\"colorbar\":{\"outlinewidth\":0,\"ticks\":\"\"},\"colorscale\":[[0.0,\"#0d0887\"],[0.1111111111111111,\"#46039f\"],[0.2222222222222222,\"#7201a8\"],[0.3333333333333333,\"#9c179e\"],[0.4444444444444444,\"#bd3786\"],[0.5555555555555556,\"#d8576b\"],[0.6666666666666666,\"#ed7953\"],[0.7777777777777778,\"#fb9f3a\"],[0.8888888888888888,\"#fdca26\"],[1.0,\"#f0f921\"]],\"type\":\"heatmap\"}],\"heatmapgl\":[{\"colorbar\":{\"outlinewidth\":0,\"ticks\":\"\"},\"colorscale\":[[0.0,\"#0d0887\"],[0.1111111111111111,\"#46039f\"],[0.2222222222222222,\"#7201a8\"],[0.3333333333333333,\"#9c179e\"],[0.4444444444444444,\"#bd3786\"],[0.5555555555555556,\"#d8576b\"],[0.6666666666666666,\"#ed7953\"],[0.7777777777777778,\"#fb9f3a\"],[0.8888888888888888,\"#fdca26\"],[1.0,\"#f0f921\"]],\"type\":\"heatmapgl\"}],\"histogram\":[{\"marker\":{\"pattern\":{\"fillmode\":\"overlay\",\"size\":10,\"solidity\":0.2}},\"type\":\"histogram\"}],\"histogram2d\":[{\"colorbar\":{\"outlinewidth\":0,\"ticks\":\"\"},\"colorscale\":[[0.0,\"#0d0887\"],[0.1111111111111111,\"#46039f\"],[0.2222222222222222,\"#7201a8\"],[0.3333333333333333,\"#9c179e\"],[0.4444444444444444,\"#bd3786\"],[0.5555555555555556,\"#d8576b\"],[0.6666666666666666,\"#ed7953\"],[0.7777777777777778,\"#fb9f3a\"],[0.8888888888888888,\"#fdca26\"],[1.0,\"#f0f921\"]],\"type\":\"histogram2d\"}],\"histogram2dcontour\":[{\"colorbar\":{\"outlinewidth\":0,\"ticks\":\"\"},\"colorscale\":[[0.0,\"#0d0887\"],[0.1111111111111111,\"#46039f\"],[0.2222222222222222,\"#7201a8\"],[0.3333333333333333,\"#9c179e\"],[0.4444444444444444,\"#bd3786\"],[0.5555555555555556,\"#d8576b\"],[0.6666666666666666,\"#ed7953\"],[0.7777777777777778,\"#fb9f3a\"],[0.8888888888888888,\"#fdca26\"],[1.0,\"#f0f921\"]],\"type\":\"histogram2dcontour\"}],\"mesh3d\":[{\"colorbar\":{\"outlinewidth\":0,\"ticks\":\"\"},\"type\":\"mesh3d\"}],\"parcoords\":[{\"line\":{\"colorbar\":{\"outlinewidth\":0,\"ticks\":\"\"}},\"type\":\"parcoords\"}],\"pie\":[{\"automargin\":true,\"type\":\"pie\"}],\"scatter\":[{\"marker\":{\"colorbar\":{\"outlinewidth\":0,\"ticks\":\"\"}},\"type\":\"scatter\"}],\"scatter3d\":[{\"line\":{\"colorbar\":{\"outlinewidth\":0,\"ticks\":\"\"}},\"marker\":{\"colorbar\":{\"outlinewidth\":0,\"ticks\":\"\"}},\"type\":\"scatter3d\"}],\"scattercarpet\":[{\"marker\":{\"colorbar\":{\"outlinewidth\":0,\"ticks\":\"\"}},\"type\":\"scattercarpet\"}],\"scattergeo\":[{\"marker\":{\"colorbar\":{\"outlinewidth\":0,\"ticks\":\"\"}},\"type\":\"scattergeo\"}],\"scattergl\":[{\"marker\":{\"colorbar\":{\"outlinewidth\":0,\"ticks\":\"\"}},\"type\":\"scattergl\"}],\"scattermapbox\":[{\"marker\":{\"colorbar\":{\"outlinewidth\":0,\"ticks\":\"\"}},\"type\":\"scattermapbox\"}],\"scatterpolar\":[{\"marker\":{\"colorbar\":{\"outlinewidth\":0,\"ticks\":\"\"}},\"type\":\"scatterpolar\"}],\"scatterpolargl\":[{\"marker\":{\"colorbar\":{\"outlinewidth\":0,\"ticks\":\"\"}},\"type\":\"scatterpolargl\"}],\"scatterternary\":[{\"marker\":{\"colorbar\":{\"outlinewidth\":0,\"ticks\":\"\"}},\"type\":\"scatterternary\"}],\"surface\":[{\"colorbar\":{\"outlinewidth\":0,\"ticks\":\"\"},\"colorscale\":[[0.0,\"#0d0887\"],[0.1111111111111111,\"#46039f\"],[0.2222222222222222,\"#7201a8\"],[0.3333333333333333,\"#9c179e\"],[0.4444444444444444,\"#bd3786\"],[0.5555555555555556,\"#d8576b\"],[0.6666666666666666,\"#ed7953\"],[0.7777777777777778,\"#fb9f3a\"],[0.8888888888888888,\"#fdca26\"],[1.0,\"#f0f921\"]],\"type\":\"surface\"}],\"table\":[{\"cells\":{\"fill\":{\"color\":\"#EBF0F8\"},\"line\":{\"color\":\"white\"}},\"header\":{\"fill\":{\"color\":\"#C8D4E3\"},\"line\":{\"color\":\"white\"}},\"type\":\"table\"}]},\"layout\":{\"annotationdefaults\":{\"arrowcolor\":\"#2a3f5f\",\"arrowhead\":0,\"arrowwidth\":1},\"autotypenumbers\":\"strict\",\"coloraxis\":{\"colorbar\":{\"outlinewidth\":0,\"ticks\":\"\"}},\"colorscale\":{\"diverging\":[[0,\"#8e0152\"],[0.1,\"#c51b7d\"],[0.2,\"#de77ae\"],[0.3,\"#f1b6da\"],[0.4,\"#fde0ef\"],[0.5,\"#f7f7f7\"],[0.6,\"#e6f5d0\"],[0.7,\"#b8e186\"],[0.8,\"#7fbc41\"],[0.9,\"#4d9221\"],[1,\"#276419\"]],\"sequential\":[[0.0,\"#0d0887\"],[0.1111111111111111,\"#46039f\"],[0.2222222222222222,\"#7201a8\"],[0.3333333333333333,\"#9c179e\"],[0.4444444444444444,\"#bd3786\"],[0.5555555555555556,\"#d8576b\"],[0.6666666666666666,\"#ed7953\"],[0.7777777777777778,\"#fb9f3a\"],[0.8888888888888888,\"#fdca26\"],[1.0,\"#f0f921\"]],\"sequentialminus\":[[0.0,\"#0d0887\"],[0.1111111111111111,\"#46039f\"],[0.2222222222222222,\"#7201a8\"],[0.3333333333333333,\"#9c179e\"],[0.4444444444444444,\"#bd3786\"],[0.5555555555555556,\"#d8576b\"],[0.6666666666666666,\"#ed7953\"],[0.7777777777777778,\"#fb9f3a\"],[0.8888888888888888,\"#fdca26\"],[1.0,\"#f0f921\"]]},\"colorway\":[\"#636efa\",\"#EF553B\",\"#00cc96\",\"#ab63fa\",\"#FFA15A\",\"#19d3f3\",\"#FF6692\",\"#B6E880\",\"#FF97FF\",\"#FECB52\"],\"font\":{\"color\":\"#2a3f5f\"},\"geo\":{\"bgcolor\":\"white\",\"lakecolor\":\"white\",\"landcolor\":\"#E5ECF6\",\"showlakes\":true,\"showland\":true,\"subunitcolor\":\"white\"},\"hoverlabel\":{\"align\":\"left\"},\"hovermode\":\"closest\",\"mapbox\":{\"style\":\"light\"},\"paper_bgcolor\":\"white\",\"plot_bgcolor\":\"#E5ECF6\",\"polar\":{\"angularaxis\":{\"gridcolor\":\"white\",\"linecolor\":\"white\",\"ticks\":\"\"},\"bgcolor\":\"#E5ECF6\",\"radialaxis\":{\"gridcolor\":\"white\",\"linecolor\":\"white\",\"ticks\":\"\"}},\"scene\":{\"xaxis\":{\"backgroundcolor\":\"#E5ECF6\",\"gridcolor\":\"white\",\"gridwidth\":2,\"linecolor\":\"white\",\"showbackground\":true,\"ticks\":\"\",\"zerolinecolor\":\"white\"},\"yaxis\":{\"backgroundcolor\":\"#E5ECF6\",\"gridcolor\":\"white\",\"gridwidth\":2,\"linecolor\":\"white\",\"showbackground\":true,\"ticks\":\"\",\"zerolinecolor\":\"white\"},\"zaxis\":{\"backgroundcolor\":\"#E5ECF6\",\"gridcolor\":\"white\",\"gridwidth\":2,\"linecolor\":\"white\",\"showbackground\":true,\"ticks\":\"\",\"zerolinecolor\":\"white\"}},\"shapedefaults\":{\"line\":{\"color\":\"#2a3f5f\"}},\"ternary\":{\"aaxis\":{\"gridcolor\":\"white\",\"linecolor\":\"white\",\"ticks\":\"\"},\"baxis\":{\"gridcolor\":\"white\",\"linecolor\":\"white\",\"ticks\":\"\"},\"bgcolor\":\"#E5ECF6\",\"caxis\":{\"gridcolor\":\"white\",\"linecolor\":\"white\",\"ticks\":\"\"}},\"title\":{\"x\":0.05},\"xaxis\":{\"automargin\":true,\"gridcolor\":\"white\",\"linecolor\":\"white\",\"ticks\":\"\",\"title\":{\"standoff\":15},\"zerolinecolor\":\"white\",\"zerolinewidth\":2},\"yaxis\":{\"automargin\":true,\"gridcolor\":\"white\",\"linecolor\":\"white\",\"ticks\":\"\",\"title\":{\"standoff\":15},\"zerolinecolor\":\"white\",\"zerolinewidth\":2}}},\"xaxis\":{\"anchor\":\"y\",\"domain\":[0.0,1.0],\"title\":{\"text\":\"Thread Category\"}},\"yaxis\":{\"anchor\":\"x\",\"domain\":[0.0,1.0],\"title\":{\"text\":\"number of records\"}},\"legend\":{\"title\":{\"text\":\"variable\"},\"tracegroupgap\":0},\"margin\":{\"t\":60},\"barmode\":\"relative\"},                        {\"responsive\": true}                    ).then(function(){\n",
              "                            \n",
              "var gd = document.getElementById('bf0fda3c-1d4f-4dde-99a7-f5da986ac9af');\n",
              "var x = new MutationObserver(function (mutations, observer) {{\n",
              "        var display = window.getComputedStyle(gd).display;\n",
              "        if (!display || display === 'none') {{\n",
              "            console.log([gd, 'removed!']);\n",
              "            Plotly.purge(gd);\n",
              "            observer.disconnect();\n",
              "        }}\n",
              "}});\n",
              "\n",
              "// Listen for the removal of the full notebook cells\n",
              "var notebookContainer = gd.closest('#notebook-container');\n",
              "if (notebookContainer) {{\n",
              "    x.observe(notebookContainer, {childList: true});\n",
              "}}\n",
              "\n",
              "// Listen for the clearing of the current output cell\n",
              "var outputEl = gd.closest('.output');\n",
              "if (outputEl) {{\n",
              "    x.observe(outputEl, {childList: true});\n",
              "}}\n",
              "\n",
              "                        })                };                            </script>        </div>\n",
              "</body>\n",
              "</html>"
            ]
          },
          "metadata": {}
        }
      ]
    },
    {
      "cell_type": "markdown",
      "source": [
        "## &#9759; Stats Plots"
      ],
      "metadata": {
        "id": "3y8QZckUHpBP"
      }
    },
    {
      "cell_type": "code",
      "source": [
        "START_DATE = datetime(2020, 8, 1)\n",
        "END_DATE = datetime(2020, 8, 10)\n",
        "# df_email = signal.query_dataframe(f\"SELECT * FROM email WHERE timestamp_sent > {START_DATE.timestamp()} and timestamp_sent < {END_DATE.timestamp()};\")"
      ],
      "metadata": {
        "id": "kIbuiJiZH13t"
      },
      "execution_count": 48,
      "outputs": []
    },
    {
      "cell_type": "markdown",
      "source": [
        "* **EMAIL** $E$: ['id', 'mailing_list_id', 'author_id', 'timestamp_sent', 'timestamp_recv', 'reply_to_url', 'thread_id', 'persuasion', 'reply_to_message_id', 'subject', 'body', 'url', 'clean_body', 'email_id', 'message_id']\n",
        "\n",
        "* **SCRAPED PROJECTS** $S$: ['id', 'name']\n",
        "\n",
        "* **SCRAPED PATCHES** $P$: ['id', 'project_id', 'patch_id', 'review_count', 'tested_count', 'success_count', 'warning_count', 'fail_count', 'submitter_id', 'series_id', 'ack_count', 'mail_id', 'name', 'commit_hash', 'delegate', 'state', 'date']\n",
        "\n",
        "* **PERSON** $A$: ['id', 'is_bot', 'cluster_id', 'name', 'email_address']\n",
        "\n",
        "*SQL Query*\n",
        "\n",
        "```sql\n",
        "SELECT E.mailing_list_id, E.author_id, A.name, A.email_address, A.is_bot, E.timestamp_sent, E.timestamp_recv, E.reply_to_url, E.thread_id, E.persuasion, E.reply_to_message_id, E.email_id, E.message_id, P.project_id, P.patch_id, P.review_count, P.tested_count, P.success_count, P.warning_count, P.fail_count, P.submitter_id, P.series_id, P.ack_count, P.mail_id, P.name AS patch_name, P.commit_hash, P.delegate, P.state, P.date, S.name\n",
        "FROM email E, scraped_projects S, scraped_patches P, person A\n",
        "WHERE \n",
        "  E.timestamp_sent >= START_DATE \n",
        "  AND E.timestamp_sent <= END_DATE\n",
        "  AND E.message_id = P.mail_id\n",
        "  AND E.author_id = A.id\n",
        "  AND P.project_id = S.id\n",
        "```\n",
        "\n"
      ],
      "metadata": {
        "id": "IBonmLfoJDxk"
      }
    },
    {
      "cell_type": "markdown",
      "source": [
        "These are the default columns of `report/metrics`\n",
        "\n",
        "* metrics returned via `get_project(name: str=\"linux kernel\", columns: List, plot_summary:bool=True)`\n",
        "- no. commits\n",
        "- no. patches that were accepted and rejected\n",
        "- no. of mailing lists\n",
        "- no. of contributors\n",
        "- no. of maintainers\n",
        "- from when to when data range\n",
        "- no. of bots\n",
        "- no. of persuasive emails\n",
        "- project name\n",
        "\n",
        "API will return two values: \n",
        "1. the name: a tuple containing the name of the project and its ID\n",
        "2. the report: 3 attributes: [metrics (will match the columns that you are specifying), start_date, end_date]\n",
        "  - will only provide a grid of only numeric columns\n",
        "\n",
        "\n",
        "Once this is done: `contribution_df` is next and additional data for pelt plot\n"
      ],
      "metadata": {
        "id": "gR52_KZOIoy_"
      }
    },
    {
      "cell_type": "code",
      "source": [
        "stats_query = f\"SELECT E.mailing_list_id, E.author_id, A.name, A.email_address, \"\\\n",
        "              f\"A.is_bot, E.timestamp_sent, E.timestamp_recv, E.reply_to_url, \"\\\n",
        "              f\"E.thread_id, E.persuasion, E.reply_to_message_id, E.email_id, E.message_id, \"\\\n",
        "              f\"P.project_id, P.patch_id, P.review_count, P.tested_count, P.success_count, \"\\\n",
        "              f\"P.warning_count, P.fail_count, P.submitter_id, P.series_id, P.ack_count, \"\\\n",
        "              f\"P.mail_id, P.name AS patch_name, P.commit_hash, P.delegate, P.state, P.date, S.name AS project_name \"\\\n",
        "              f\"FROM email E, scraped_projects S, scraped_patches P, person A \"\\\n",
        "              f\"WHERE \"\\\n",
        "              f\"E.timestamp_sent >= {START_DATE.timestamp()} \"\\\n",
        "              f\"AND E.timestamp_sent <= {END_DATE.timestamp()} \"\\\n",
        "              f\"AND E.message_id = P.mail_id \"\\\n",
        "              f\"AND E.author_id = A.id \"\\\n",
        "              f\"AND P.project_id = S.id;\"\n",
        "stats_query                        "
      ],
      "metadata": {
        "colab": {
          "base_uri": "https://localhost:8080/",
          "height": 70
        },
        "id": "Op6HM6lvH10J",
        "outputId": "1e8423ae-5a24-444d-d6e5-bae843ce5285"
      },
      "execution_count": 49,
      "outputs": [
        {
          "output_type": "execute_result",
          "data": {
            "text/plain": [
              "'SELECT E.mailing_list_id, E.author_id, A.name, A.email_address, A.is_bot, E.timestamp_sent, E.timestamp_recv, E.reply_to_url, E.thread_id, E.persuasion, E.reply_to_message_id, E.email_id, E.message_id, P.project_id, P.patch_id, P.review_count, P.tested_count, P.success_count, P.warning_count, P.fail_count, P.submitter_id, P.series_id, P.ack_count, P.mail_id, P.name AS patch_name, P.commit_hash, P.delegate, P.state, P.date, S.name AS project_name FROM email E, scraped_projects S, scraped_patches P, person A WHERE E.timestamp_sent >= 1596240000.0 AND E.timestamp_sent <= 1597017600.0 AND E.message_id = P.mail_id AND E.author_id = A.id AND P.project_id = S.id;'"
            ],
            "application/vnd.google.colaboratory.intrinsic+json": {
              "type": "string"
            }
          },
          "metadata": {},
          "execution_count": 49
        }
      ]
    },
    {
      "cell_type": "code",
      "source": [
        "df_stats = get_db_records(query=stats_query)"
      ],
      "metadata": {
        "id": "gd8XOx5kS7Y-"
      },
      "execution_count": 50,
      "outputs": []
    },
    {
      "cell_type": "code",
      "source": [
        "df_stats.info()"
      ],
      "metadata": {
        "colab": {
          "base_uri": "https://localhost:8080/"
        },
        "id": "re_uZACVTJ6h",
        "outputId": "90c2919a-5b8e-4314-e6b3-8835bee1e935"
      },
      "execution_count": 51,
      "outputs": [
        {
          "output_type": "stream",
          "name": "stdout",
          "text": [
            "<class 'pandas.core.frame.DataFrame'>\n",
            "RangeIndex: 2486 entries, 0 to 2485\n",
            "Data columns (total 30 columns):\n",
            " #   Column               Non-Null Count  Dtype \n",
            "---  ------               --------------  ----- \n",
            " 0   mailing_list_id      2486 non-null   int64 \n",
            " 1   author_id            2486 non-null   int64 \n",
            " 2   name                 2486 non-null   object\n",
            " 3   email_address        2486 non-null   object\n",
            " 4   is_bot               2486 non-null   int64 \n",
            " 5   timestamp_sent       2486 non-null   int64 \n",
            " 6   timestamp_recv       2486 non-null   int64 \n",
            " 7   reply_to_url         1825 non-null   object\n",
            " 8   thread_id            2486 non-null   object\n",
            " 9   persuasion           2486 non-null   object\n",
            " 10  reply_to_message_id  2486 non-null   object\n",
            " 11  email_id             2486 non-null   object\n",
            " 12  message_id           2486 non-null   object\n",
            " 13  project_id           2486 non-null   int64 \n",
            " 14  patch_id             2486 non-null   int64 \n",
            " 15  review_count         2486 non-null   int64 \n",
            " 16  tested_count         2486 non-null   int64 \n",
            " 17  success_count        2486 non-null   int64 \n",
            " 18  warning_count        2486 non-null   int64 \n",
            " 19  fail_count           2486 non-null   int64 \n",
            " 20  submitter_id         2486 non-null   int64 \n",
            " 21  series_id            2486 non-null   int64 \n",
            " 22  ack_count            2486 non-null   int64 \n",
            " 23  mail_id              2486 non-null   object\n",
            " 24  patch_name           2486 non-null   object\n",
            " 25  commit_hash          132 non-null    object\n",
            " 26  delegate             174 non-null    object\n",
            " 27  state                2486 non-null   object\n",
            " 28  date                 2486 non-null   object\n",
            " 29  project_name         2486 non-null   object\n",
            "dtypes: int64(15), object(15)\n",
            "memory usage: 582.8+ KB\n"
          ]
        }
      ]
    },
    {
      "cell_type": "code",
      "source": [
        "df_stats.head()"
      ],
      "metadata": {
        "colab": {
          "base_uri": "https://localhost:8080/",
          "height": 612
        },
        "id": "pe4TiD5TTMSO",
        "outputId": "1a631824-490c-45db-be33-483e598104d2"
      },
      "execution_count": 52,
      "outputs": [
        {
          "output_type": "execute_result",
          "data": {
            "text/plain": [
              "   mailing_list_id  author_id                 name  \\\n",
              "0                1        416        David Howells   \n",
              "1                1         69  Krzysztof Kozlowski   \n",
              "2                1         69  Krzysztof Kozlowski   \n",
              "3                1       1713       Jonathan Adams   \n",
              "4                1       1713       Jonathan Adams   \n",
              "\n",
              "                     email_address  is_bot  timestamp_sent  timestamp_recv  \\\n",
              "0  dhowells@warthog.procyon.org.uk       0      1596809221      1596812821   \n",
              "1                  krzk@kernel.org       0      1596738988      1596742588   \n",
              "2                  krzk@kernel.org       0      1596738988      1596742588   \n",
              "3               jwadams@google.com       0      1596835835      1596839435   \n",
              "4               jwadams@google.com       0      1596835835      1596839435   \n",
              "\n",
              "                                        reply_to_url  \\\n",
              "0                                               None   \n",
              "1                                               None   \n",
              "2                                               None   \n",
              "3  https://lkml.iu.edu/hypermail/linux/kernel/200...   \n",
              "4  https://lkml.iu.edu/hypermail/linux/kernel/200...   \n",
              "\n",
              "                                           thread_id persuasion  ...  \\\n",
              "0  159680892602.29015.6551860260436544999.stgit@w...    Unknown  ...   \n",
              "1              20200806181932.2253-1-krzk@kernel.org    Unknown  ...   \n",
              "2              20200806181932.2253-1-krzk@kernel.org    Unknown  ...   \n",
              "3        20200807212916.2883031-1-jwadams@google.com    Unknown  ...   \n",
              "4        20200807212916.2883031-1-jwadams@google.com    Unknown  ...   \n",
              "\n",
              "  submitter_id series_id ack_count  \\\n",
              "0          652    179375         0   \n",
              "1         2630     78315         0   \n",
              "2         2630    269954         0   \n",
              "3         8648    179310         0   \n",
              "4         8648    210498         0   \n",
              "\n",
              "                                             mail_id  \\\n",
              "0  159680892602.29015.6551860260436544999.stgit@w...   \n",
              "1             20200806182059.2431-17-krzk@kernel.org   \n",
              "2             20200806182059.2431-17-krzk@kernel.org   \n",
              "3        20200807212916.2883031-6-jwadams@google.com   \n",
              "4        20200807212916.2883031-6-jwadams@google.com   \n",
              "\n",
              "                                          patch_name  \\\n",
              "0                 [1/5] Add manpage for open_tree(2)   \n",
              "1  [v2,17/41] ARM: s5pv210: use private pm save/r...   \n",
              "2  [v2,17/41] ARM: s5pv210: use private pm save/r...   \n",
              "3  [RFC,5/7] core/metricfs: expose scheduler stat...   \n",
              "4  [RFC,5/7] core/metricfs: expose scheduler stat...   \n",
              "\n",
              "                                commit_hash  delegate     state  \\\n",
              "0                                      None      None       New   \n",
              "1  423c62bfb623cb8b41afb0218bf68da56c4ab32e      None  Accepted   \n",
              "2                                      None      None       New   \n",
              "3                                      None      None       New   \n",
              "4                                      None      None       New   \n",
              "\n",
              "                  date       project_name  \n",
              "0  2020-08-07T00:00:00      linux-fsdevel  \n",
              "1  2020-08-06T00:00:00  linux-samsung-soc  \n",
              "2  2020-08-06T00:00:00   linux-arm-kernel  \n",
              "3  2020-08-07T00:00:00      linux-fsdevel  \n",
              "4  2020-08-07T00:00:00                kvm  \n",
              "\n",
              "[5 rows x 30 columns]"
            ],
            "text/html": [
              "\n",
              "  <div id=\"df-c0ed7615-2123-46b0-a016-b8c922d5ca28\">\n",
              "    <div class=\"colab-df-container\">\n",
              "      <div>\n",
              "<style scoped>\n",
              "    .dataframe tbody tr th:only-of-type {\n",
              "        vertical-align: middle;\n",
              "    }\n",
              "\n",
              "    .dataframe tbody tr th {\n",
              "        vertical-align: top;\n",
              "    }\n",
              "\n",
              "    .dataframe thead th {\n",
              "        text-align: right;\n",
              "    }\n",
              "</style>\n",
              "<table border=\"1\" class=\"dataframe\">\n",
              "  <thead>\n",
              "    <tr style=\"text-align: right;\">\n",
              "      <th></th>\n",
              "      <th>mailing_list_id</th>\n",
              "      <th>author_id</th>\n",
              "      <th>name</th>\n",
              "      <th>email_address</th>\n",
              "      <th>is_bot</th>\n",
              "      <th>timestamp_sent</th>\n",
              "      <th>timestamp_recv</th>\n",
              "      <th>reply_to_url</th>\n",
              "      <th>thread_id</th>\n",
              "      <th>persuasion</th>\n",
              "      <th>...</th>\n",
              "      <th>submitter_id</th>\n",
              "      <th>series_id</th>\n",
              "      <th>ack_count</th>\n",
              "      <th>mail_id</th>\n",
              "      <th>patch_name</th>\n",
              "      <th>commit_hash</th>\n",
              "      <th>delegate</th>\n",
              "      <th>state</th>\n",
              "      <th>date</th>\n",
              "      <th>project_name</th>\n",
              "    </tr>\n",
              "  </thead>\n",
              "  <tbody>\n",
              "    <tr>\n",
              "      <th>0</th>\n",
              "      <td>1</td>\n",
              "      <td>416</td>\n",
              "      <td>David Howells</td>\n",
              "      <td>dhowells@warthog.procyon.org.uk</td>\n",
              "      <td>0</td>\n",
              "      <td>1596809221</td>\n",
              "      <td>1596812821</td>\n",
              "      <td>None</td>\n",
              "      <td>159680892602.29015.6551860260436544999.stgit@w...</td>\n",
              "      <td>Unknown</td>\n",
              "      <td>...</td>\n",
              "      <td>652</td>\n",
              "      <td>179375</td>\n",
              "      <td>0</td>\n",
              "      <td>159680892602.29015.6551860260436544999.stgit@w...</td>\n",
              "      <td>[1/5] Add manpage for open_tree(2)</td>\n",
              "      <td>None</td>\n",
              "      <td>None</td>\n",
              "      <td>New</td>\n",
              "      <td>2020-08-07T00:00:00</td>\n",
              "      <td>linux-fsdevel</td>\n",
              "    </tr>\n",
              "    <tr>\n",
              "      <th>1</th>\n",
              "      <td>1</td>\n",
              "      <td>69</td>\n",
              "      <td>Krzysztof Kozlowski</td>\n",
              "      <td>krzk@kernel.org</td>\n",
              "      <td>0</td>\n",
              "      <td>1596738988</td>\n",
              "      <td>1596742588</td>\n",
              "      <td>None</td>\n",
              "      <td>20200806181932.2253-1-krzk@kernel.org</td>\n",
              "      <td>Unknown</td>\n",
              "      <td>...</td>\n",
              "      <td>2630</td>\n",
              "      <td>78315</td>\n",
              "      <td>0</td>\n",
              "      <td>20200806182059.2431-17-krzk@kernel.org</td>\n",
              "      <td>[v2,17/41] ARM: s5pv210: use private pm save/r...</td>\n",
              "      <td>423c62bfb623cb8b41afb0218bf68da56c4ab32e</td>\n",
              "      <td>None</td>\n",
              "      <td>Accepted</td>\n",
              "      <td>2020-08-06T00:00:00</td>\n",
              "      <td>linux-samsung-soc</td>\n",
              "    </tr>\n",
              "    <tr>\n",
              "      <th>2</th>\n",
              "      <td>1</td>\n",
              "      <td>69</td>\n",
              "      <td>Krzysztof Kozlowski</td>\n",
              "      <td>krzk@kernel.org</td>\n",
              "      <td>0</td>\n",
              "      <td>1596738988</td>\n",
              "      <td>1596742588</td>\n",
              "      <td>None</td>\n",
              "      <td>20200806181932.2253-1-krzk@kernel.org</td>\n",
              "      <td>Unknown</td>\n",
              "      <td>...</td>\n",
              "      <td>2630</td>\n",
              "      <td>269954</td>\n",
              "      <td>0</td>\n",
              "      <td>20200806182059.2431-17-krzk@kernel.org</td>\n",
              "      <td>[v2,17/41] ARM: s5pv210: use private pm save/r...</td>\n",
              "      <td>None</td>\n",
              "      <td>None</td>\n",
              "      <td>New</td>\n",
              "      <td>2020-08-06T00:00:00</td>\n",
              "      <td>linux-arm-kernel</td>\n",
              "    </tr>\n",
              "    <tr>\n",
              "      <th>3</th>\n",
              "      <td>1</td>\n",
              "      <td>1713</td>\n",
              "      <td>Jonathan Adams</td>\n",
              "      <td>jwadams@google.com</td>\n",
              "      <td>0</td>\n",
              "      <td>1596835835</td>\n",
              "      <td>1596839435</td>\n",
              "      <td>https://lkml.iu.edu/hypermail/linux/kernel/200...</td>\n",
              "      <td>20200807212916.2883031-1-jwadams@google.com</td>\n",
              "      <td>Unknown</td>\n",
              "      <td>...</td>\n",
              "      <td>8648</td>\n",
              "      <td>179310</td>\n",
              "      <td>0</td>\n",
              "      <td>20200807212916.2883031-6-jwadams@google.com</td>\n",
              "      <td>[RFC,5/7] core/metricfs: expose scheduler stat...</td>\n",
              "      <td>None</td>\n",
              "      <td>None</td>\n",
              "      <td>New</td>\n",
              "      <td>2020-08-07T00:00:00</td>\n",
              "      <td>linux-fsdevel</td>\n",
              "    </tr>\n",
              "    <tr>\n",
              "      <th>4</th>\n",
              "      <td>1</td>\n",
              "      <td>1713</td>\n",
              "      <td>Jonathan Adams</td>\n",
              "      <td>jwadams@google.com</td>\n",
              "      <td>0</td>\n",
              "      <td>1596835835</td>\n",
              "      <td>1596839435</td>\n",
              "      <td>https://lkml.iu.edu/hypermail/linux/kernel/200...</td>\n",
              "      <td>20200807212916.2883031-1-jwadams@google.com</td>\n",
              "      <td>Unknown</td>\n",
              "      <td>...</td>\n",
              "      <td>8648</td>\n",
              "      <td>210498</td>\n",
              "      <td>0</td>\n",
              "      <td>20200807212916.2883031-6-jwadams@google.com</td>\n",
              "      <td>[RFC,5/7] core/metricfs: expose scheduler stat...</td>\n",
              "      <td>None</td>\n",
              "      <td>None</td>\n",
              "      <td>New</td>\n",
              "      <td>2020-08-07T00:00:00</td>\n",
              "      <td>kvm</td>\n",
              "    </tr>\n",
              "  </tbody>\n",
              "</table>\n",
              "<p>5 rows × 30 columns</p>\n",
              "</div>\n",
              "      <button class=\"colab-df-convert\" onclick=\"convertToInteractive('df-c0ed7615-2123-46b0-a016-b8c922d5ca28')\"\n",
              "              title=\"Convert this dataframe to an interactive table.\"\n",
              "              style=\"display:none;\">\n",
              "        \n",
              "  <svg xmlns=\"http://www.w3.org/2000/svg\" height=\"24px\"viewBox=\"0 0 24 24\"\n",
              "       width=\"24px\">\n",
              "    <path d=\"M0 0h24v24H0V0z\" fill=\"none\"/>\n",
              "    <path d=\"M18.56 5.44l.94 2.06.94-2.06 2.06-.94-2.06-.94-.94-2.06-.94 2.06-2.06.94zm-11 1L8.5 8.5l.94-2.06 2.06-.94-2.06-.94L8.5 2.5l-.94 2.06-2.06.94zm10 10l.94 2.06.94-2.06 2.06-.94-2.06-.94-.94-2.06-.94 2.06-2.06.94z\"/><path d=\"M17.41 7.96l-1.37-1.37c-.4-.4-.92-.59-1.43-.59-.52 0-1.04.2-1.43.59L10.3 9.45l-7.72 7.72c-.78.78-.78 2.05 0 2.83L4 21.41c.39.39.9.59 1.41.59.51 0 1.02-.2 1.41-.59l7.78-7.78 2.81-2.81c.8-.78.8-2.07 0-2.86zM5.41 20L4 18.59l7.72-7.72 1.47 1.35L5.41 20z\"/>\n",
              "  </svg>\n",
              "      </button>\n",
              "      \n",
              "  <style>\n",
              "    .colab-df-container {\n",
              "      display:flex;\n",
              "      flex-wrap:wrap;\n",
              "      gap: 12px;\n",
              "    }\n",
              "\n",
              "    .colab-df-convert {\n",
              "      background-color: #E8F0FE;\n",
              "      border: none;\n",
              "      border-radius: 50%;\n",
              "      cursor: pointer;\n",
              "      display: none;\n",
              "      fill: #1967D2;\n",
              "      height: 32px;\n",
              "      padding: 0 0 0 0;\n",
              "      width: 32px;\n",
              "    }\n",
              "\n",
              "    .colab-df-convert:hover {\n",
              "      background-color: #E2EBFA;\n",
              "      box-shadow: 0px 1px 2px rgba(60, 64, 67, 0.3), 0px 1px 3px 1px rgba(60, 64, 67, 0.15);\n",
              "      fill: #174EA6;\n",
              "    }\n",
              "\n",
              "    [theme=dark] .colab-df-convert {\n",
              "      background-color: #3B4455;\n",
              "      fill: #D2E3FC;\n",
              "    }\n",
              "\n",
              "    [theme=dark] .colab-df-convert:hover {\n",
              "      background-color: #434B5C;\n",
              "      box-shadow: 0px 1px 3px 1px rgba(0, 0, 0, 0.15);\n",
              "      filter: drop-shadow(0px 1px 2px rgba(0, 0, 0, 0.3));\n",
              "      fill: #FFFFFF;\n",
              "    }\n",
              "  </style>\n",
              "\n",
              "      <script>\n",
              "        const buttonEl =\n",
              "          document.querySelector('#df-c0ed7615-2123-46b0-a016-b8c922d5ca28 button.colab-df-convert');\n",
              "        buttonEl.style.display =\n",
              "          google.colab.kernel.accessAllowed ? 'block' : 'none';\n",
              "\n",
              "        async function convertToInteractive(key) {\n",
              "          const element = document.querySelector('#df-c0ed7615-2123-46b0-a016-b8c922d5ca28');\n",
              "          const dataTable =\n",
              "            await google.colab.kernel.invokeFunction('convertToInteractive',\n",
              "                                                     [key], {});\n",
              "          if (!dataTable) return;\n",
              "\n",
              "          const docLinkHtml = 'Like what you see? Visit the ' +\n",
              "            '<a target=\"_blank\" href=https://colab.research.google.com/notebooks/data_table.ipynb>data table notebook</a>'\n",
              "            + ' to learn more about interactive tables.';\n",
              "          element.innerHTML = '';\n",
              "          dataTable['output_type'] = 'display_data';\n",
              "          await google.colab.output.renderOutput(dataTable, element);\n",
              "          const docLink = document.createElement('div');\n",
              "          docLink.innerHTML = docLinkHtml;\n",
              "          element.appendChild(docLink);\n",
              "        }\n",
              "      </script>\n",
              "    </div>\n",
              "  </div>\n",
              "  "
            ]
          },
          "metadata": {},
          "execution_count": 52
        }
      ]
    },
    {
      "cell_type": "code",
      "source": [
        "import plotly.express as px\n",
        "from plotly.subplots import make_subplots\n",
        "import plotly.graph_objects as go"
      ],
      "metadata": {
        "id": "_SSBAoRbVBZP"
      },
      "execution_count": 53,
      "outputs": []
    },
    {
      "cell_type": "code",
      "source": [
        "stats_bot = df_groupby(input_df=df_stats, groupby_column='is_bot', sort_values=True)\n",
        "stats_bot"
      ],
      "metadata": {
        "colab": {
          "base_uri": "https://localhost:8080/"
        },
        "id": "u6_SEQvVVUsQ",
        "outputId": "fef239b0-c9bc-45db-b1e3-52dd813976ff"
      },
      "execution_count": 54,
      "outputs": [
        {
          "output_type": "execute_result",
          "data": {
            "text/plain": [
              "is_bot\n",
              "0    2486\n",
              "dtype: int64"
            ]
          },
          "metadata": {},
          "execution_count": 54
        }
      ]
    },
    {
      "cell_type": "code",
      "source": [
        "stats_state = df_groupby(input_df=df_stats, groupby_column='state', sort_values=True)\n",
        "stats_state"
      ],
      "metadata": {
        "colab": {
          "base_uri": "https://localhost:8080/"
        },
        "id": "rGzYJucLWBcP",
        "outputId": "3e262984-42f6-4cfe-8d50-f0b52a4c340c"
      },
      "execution_count": 55,
      "outputs": [
        {
          "output_type": "execute_result",
          "data": {
            "text/plain": [
              "state\n",
              "Awaiting Upstream       3\n",
              "Deferred                6\n",
              "RFC                     9\n",
              "Rejected               28\n",
              "Changes Requested      43\n",
              "Mainlined              47\n",
              "Not Applicable        150\n",
              "Accepted              153\n",
              "Superseded            321\n",
              "New                  1726\n",
              "dtype: int64"
            ]
          },
          "metadata": {},
          "execution_count": 55
        }
      ]
    },
    {
      "cell_type": "code",
      "source": [
        "stats_name = df_groupby(input_df=df_stats, groupby_column='project_name', sort_values=True)\n",
        "stats_name"
      ],
      "metadata": {
        "colab": {
          "base_uri": "https://localhost:8080/"
        },
        "id": "N2vUIajSWBZI",
        "outputId": "55f8abab-ee00-4a2b-e71f-cfa51113b7a9"
      },
      "execution_count": 56,
      "outputs": [
        {
          "output_type": "execute_result",
          "data": {
            "text/plain": [
              "project_name\n",
              "ath10k                1\n",
              "ceph-devel            1\n",
              "qemu-devel            1\n",
              "linux-wpan            1\n",
              "cifs-client           2\n",
              "                   ... \n",
              "linux-fsdevel       125\n",
              "linux-mediatek      127\n",
              "dri-devel           156\n",
              "linux-mm            180\n",
              "linux-arm-kernel    408\n",
              "Length: 61, dtype: int64"
            ]
          },
          "metadata": {},
          "execution_count": 56
        }
      ]
    },
    {
      "cell_type": "code",
      "source": [
        "stats_persuasion = df_groupby(input_df=df_stats, groupby_column='persuasion', sort_values=True)\n",
        "stats_persuasion"
      ],
      "metadata": {
        "colab": {
          "base_uri": "https://localhost:8080/"
        },
        "id": "8OqvSo_WcTPo",
        "outputId": "1e928fae-25c6-4a32-97d3-44b944319d27"
      },
      "execution_count": 57,
      "outputs": [
        {
          "output_type": "execute_result",
          "data": {
            "text/plain": [
              "persuasion\n",
              "Unknown    2486\n",
              "dtype: int64"
            ]
          },
          "metadata": {},
          "execution_count": 57
        }
      ]
    },
    {
      "cell_type": "code",
      "source": [
        "fig = make_subplots(rows=2, cols=2, subplot_titles=('Real Developer or Bots',  'Patch State', 'Projects',  'Persuasion Strategies'))\n",
        "\n",
        "fig.add_trace(\n",
        "    go.Bar(x=stats_bot.index, y=stats_bot),\n",
        "    row=1, col=1\n",
        ")\n",
        "\n",
        "fig.add_trace(\n",
        "    go.Bar(x=stats_state.index, y=stats_state),\n",
        "    row=1, col=2\n",
        ")\n",
        "\n",
        "fig.add_trace(\n",
        "    go.Bar(x=stats_name.index, y=stats_name),\n",
        "    row=2, col=1\n",
        ")\n",
        "\n",
        "fig.add_trace(\n",
        "    go.Bar(x=stats_persuasion.index, y=stats_persuasion),\n",
        "    row=2, col=2\n",
        ")\n",
        "\n",
        "# Update xaxis properties\n",
        "fig.update_xaxes(title_text=\"Real Dev/Bot\", row=1, col=1)\n",
        "fig.update_xaxes(title_text=\"State\", row=1, col=2)\n",
        "fig.update_xaxes(title_text=\"Project Name\", row=2, col=1)\n",
        "fig.update_xaxes(title_text=\"Persuasion Strategy\", row=2, col=2)\n",
        "\n",
        "# Update yaxis properties\n",
        "fig.update_yaxes(title_text=\"no. records\", row=1, col=1)\n",
        "fig.update_yaxes(title_text=\"no. records\", row=1, col=2, type=\"log\")\n",
        "fig.update_yaxes(title_text=\"no. records\", row=2, col=1)\n",
        "fig.update_yaxes(title_text=\"no. records\", row=2, col=2)\n",
        "\n",
        "fig.update_layout(title_text=\"SIGNAL Data Overview\", height=950, showlegend=False)\n",
        "fig.show()"
      ],
      "metadata": {
        "colab": {
          "base_uri": "https://localhost:8080/",
          "height": 967
        },
        "id": "LOyYgTreVBUz",
        "outputId": "6766f03f-c788-4ab0-e83a-76db0c27beb9"
      },
      "execution_count": 58,
      "outputs": [
        {
          "output_type": "display_data",
          "data": {
            "text/html": [
              "<html>\n",
              "<head><meta charset=\"utf-8\" /></head>\n",
              "<body>\n",
              "    <div>            <script src=\"https://cdnjs.cloudflare.com/ajax/libs/mathjax/2.7.5/MathJax.js?config=TeX-AMS-MML_SVG\"></script><script type=\"text/javascript\">if (window.MathJax) {MathJax.Hub.Config({SVG: {font: \"STIX-Web\"}});}</script>                <script type=\"text/javascript\">window.PlotlyConfig = {MathJaxConfig: 'local'};</script>\n",
              "        <script src=\"https://cdn.plot.ly/plotly-2.8.3.min.js\"></script>                <div id=\"74c6d558-9b7f-4e4f-a318-117da8051ad0\" class=\"plotly-graph-div\" style=\"height:950px; width:100%;\"></div>            <script type=\"text/javascript\">                                    window.PLOTLYENV=window.PLOTLYENV || {};                                    if (document.getElementById(\"74c6d558-9b7f-4e4f-a318-117da8051ad0\")) {                    Plotly.newPlot(                        \"74c6d558-9b7f-4e4f-a318-117da8051ad0\",                        [{\"x\":[0],\"y\":[2486],\"type\":\"bar\",\"xaxis\":\"x\",\"yaxis\":\"y\"},{\"x\":[\"Awaiting Upstream\",\"Deferred\",\"RFC\",\"Rejected\",\"Changes Requested\",\"Mainlined\",\"Not Applicable\",\"Accepted\",\"Superseded\",\"New\"],\"y\":[3,6,9,28,43,47,150,153,321,1726],\"type\":\"bar\",\"xaxis\":\"x2\",\"yaxis\":\"y2\"},{\"x\":[\"ath10k\",\"ceph-devel\",\"qemu-devel\",\"linux-wpan\",\"cifs-client\",\"linux-omap\",\"linux-amlogic\",\"linux-trace-devel\",\"linux-fscrypt\",\"linux-nfs\",\"linux-btrfs\",\"keyrings\",\"intel-gfx\",\"linux-remoteproc\",\"platform-driver-x86\",\"linux-soc\",\"linux-integrity\",\"xen-devel\",\"linux-audit\",\"linux-edac\",\"bluetooth\",\"linux-rockchip\",\"selinux\",\"linux-fpga\",\"linux-block\",\"linux-rdma\",\"linux-hardening\",\"linux-dmaengine\",\"xfs\",\"linux-wireless\",\"linux-sh\",\"linux-fbdev\",\"linux-clk\",\"linux-usb\",\"linux-watchdog\",\"linux-renesas-soc\",\"linux-hwmon\",\"linux-input\",\"linux-mmc\",\"spi-devel-general\",\"linux-mips\",\"linux-samsung-soc\",\"linux-kselftest\",\"linux-pm\",\"linux-kbuild\",\"linux-acpi\",\"linux-security-module\",\"linux-pci\",\"linux-scsi\",\"alsa-devel\",\"linux-nvdimm\",\"linux-iio\",\"linux-crypto\",\"linux-arm-msm\",\"kvm\",\"linux-media\",\"linux-fsdevel\",\"linux-mediatek\",\"dri-devel\",\"linux-mm\",\"linux-arm-kernel\"],\"y\":[1,1,1,1,2,2,2,2,2,3,3,3,4,4,4,5,6,7,7,8,10,11,11,12,12,12,13,13,14,15,17,17,19,20,21,23,24,24,30,32,45,47,47,49,49,51,58,59,60,63,69,69,74,99,109,124,125,127,156,180,408],\"type\":\"bar\",\"xaxis\":\"x3\",\"yaxis\":\"y3\"},{\"x\":[\"Unknown\"],\"y\":[2486],\"type\":\"bar\",\"xaxis\":\"x4\",\"yaxis\":\"y4\"}],                        {\"template\":{\"data\":{\"bar\":[{\"error_x\":{\"color\":\"#2a3f5f\"},\"error_y\":{\"color\":\"#2a3f5f\"},\"marker\":{\"line\":{\"color\":\"#E5ECF6\",\"width\":0.5},\"pattern\":{\"fillmode\":\"overlay\",\"size\":10,\"solidity\":0.2}},\"type\":\"bar\"}],\"barpolar\":[{\"marker\":{\"line\":{\"color\":\"#E5ECF6\",\"width\":0.5},\"pattern\":{\"fillmode\":\"overlay\",\"size\":10,\"solidity\":0.2}},\"type\":\"barpolar\"}],\"carpet\":[{\"aaxis\":{\"endlinecolor\":\"#2a3f5f\",\"gridcolor\":\"white\",\"linecolor\":\"white\",\"minorgridcolor\":\"white\",\"startlinecolor\":\"#2a3f5f\"},\"baxis\":{\"endlinecolor\":\"#2a3f5f\",\"gridcolor\":\"white\",\"linecolor\":\"white\",\"minorgridcolor\":\"white\",\"startlinecolor\":\"#2a3f5f\"},\"type\":\"carpet\"}],\"choropleth\":[{\"colorbar\":{\"outlinewidth\":0,\"ticks\":\"\"},\"type\":\"choropleth\"}],\"contour\":[{\"colorbar\":{\"outlinewidth\":0,\"ticks\":\"\"},\"colorscale\":[[0.0,\"#0d0887\"],[0.1111111111111111,\"#46039f\"],[0.2222222222222222,\"#7201a8\"],[0.3333333333333333,\"#9c179e\"],[0.4444444444444444,\"#bd3786\"],[0.5555555555555556,\"#d8576b\"],[0.6666666666666666,\"#ed7953\"],[0.7777777777777778,\"#fb9f3a\"],[0.8888888888888888,\"#fdca26\"],[1.0,\"#f0f921\"]],\"type\":\"contour\"}],\"contourcarpet\":[{\"colorbar\":{\"outlinewidth\":0,\"ticks\":\"\"},\"type\":\"contourcarpet\"}],\"heatmap\":[{\"colorbar\":{\"outlinewidth\":0,\"ticks\":\"\"},\"colorscale\":[[0.0,\"#0d0887\"],[0.1111111111111111,\"#46039f\"],[0.2222222222222222,\"#7201a8\"],[0.3333333333333333,\"#9c179e\"],[0.4444444444444444,\"#bd3786\"],[0.5555555555555556,\"#d8576b\"],[0.6666666666666666,\"#ed7953\"],[0.7777777777777778,\"#fb9f3a\"],[0.8888888888888888,\"#fdca26\"],[1.0,\"#f0f921\"]],\"type\":\"heatmap\"}],\"heatmapgl\":[{\"colorbar\":{\"outlinewidth\":0,\"ticks\":\"\"},\"colorscale\":[[0.0,\"#0d0887\"],[0.1111111111111111,\"#46039f\"],[0.2222222222222222,\"#7201a8\"],[0.3333333333333333,\"#9c179e\"],[0.4444444444444444,\"#bd3786\"],[0.5555555555555556,\"#d8576b\"],[0.6666666666666666,\"#ed7953\"],[0.7777777777777778,\"#fb9f3a\"],[0.8888888888888888,\"#fdca26\"],[1.0,\"#f0f921\"]],\"type\":\"heatmapgl\"}],\"histogram\":[{\"marker\":{\"pattern\":{\"fillmode\":\"overlay\",\"size\":10,\"solidity\":0.2}},\"type\":\"histogram\"}],\"histogram2d\":[{\"colorbar\":{\"outlinewidth\":0,\"ticks\":\"\"},\"colorscale\":[[0.0,\"#0d0887\"],[0.1111111111111111,\"#46039f\"],[0.2222222222222222,\"#7201a8\"],[0.3333333333333333,\"#9c179e\"],[0.4444444444444444,\"#bd3786\"],[0.5555555555555556,\"#d8576b\"],[0.6666666666666666,\"#ed7953\"],[0.7777777777777778,\"#fb9f3a\"],[0.8888888888888888,\"#fdca26\"],[1.0,\"#f0f921\"]],\"type\":\"histogram2d\"}],\"histogram2dcontour\":[{\"colorbar\":{\"outlinewidth\":0,\"ticks\":\"\"},\"colorscale\":[[0.0,\"#0d0887\"],[0.1111111111111111,\"#46039f\"],[0.2222222222222222,\"#7201a8\"],[0.3333333333333333,\"#9c179e\"],[0.4444444444444444,\"#bd3786\"],[0.5555555555555556,\"#d8576b\"],[0.6666666666666666,\"#ed7953\"],[0.7777777777777778,\"#fb9f3a\"],[0.8888888888888888,\"#fdca26\"],[1.0,\"#f0f921\"]],\"type\":\"histogram2dcontour\"}],\"mesh3d\":[{\"colorbar\":{\"outlinewidth\":0,\"ticks\":\"\"},\"type\":\"mesh3d\"}],\"parcoords\":[{\"line\":{\"colorbar\":{\"outlinewidth\":0,\"ticks\":\"\"}},\"type\":\"parcoords\"}],\"pie\":[{\"automargin\":true,\"type\":\"pie\"}],\"scatter\":[{\"marker\":{\"colorbar\":{\"outlinewidth\":0,\"ticks\":\"\"}},\"type\":\"scatter\"}],\"scatter3d\":[{\"line\":{\"colorbar\":{\"outlinewidth\":0,\"ticks\":\"\"}},\"marker\":{\"colorbar\":{\"outlinewidth\":0,\"ticks\":\"\"}},\"type\":\"scatter3d\"}],\"scattercarpet\":[{\"marker\":{\"colorbar\":{\"outlinewidth\":0,\"ticks\":\"\"}},\"type\":\"scattercarpet\"}],\"scattergeo\":[{\"marker\":{\"colorbar\":{\"outlinewidth\":0,\"ticks\":\"\"}},\"type\":\"scattergeo\"}],\"scattergl\":[{\"marker\":{\"colorbar\":{\"outlinewidth\":0,\"ticks\":\"\"}},\"type\":\"scattergl\"}],\"scattermapbox\":[{\"marker\":{\"colorbar\":{\"outlinewidth\":0,\"ticks\":\"\"}},\"type\":\"scattermapbox\"}],\"scatterpolar\":[{\"marker\":{\"colorbar\":{\"outlinewidth\":0,\"ticks\":\"\"}},\"type\":\"scatterpolar\"}],\"scatterpolargl\":[{\"marker\":{\"colorbar\":{\"outlinewidth\":0,\"ticks\":\"\"}},\"type\":\"scatterpolargl\"}],\"scatterternary\":[{\"marker\":{\"colorbar\":{\"outlinewidth\":0,\"ticks\":\"\"}},\"type\":\"scatterternary\"}],\"surface\":[{\"colorbar\":{\"outlinewidth\":0,\"ticks\":\"\"},\"colorscale\":[[0.0,\"#0d0887\"],[0.1111111111111111,\"#46039f\"],[0.2222222222222222,\"#7201a8\"],[0.3333333333333333,\"#9c179e\"],[0.4444444444444444,\"#bd3786\"],[0.5555555555555556,\"#d8576b\"],[0.6666666666666666,\"#ed7953\"],[0.7777777777777778,\"#fb9f3a\"],[0.8888888888888888,\"#fdca26\"],[1.0,\"#f0f921\"]],\"type\":\"surface\"}],\"table\":[{\"cells\":{\"fill\":{\"color\":\"#EBF0F8\"},\"line\":{\"color\":\"white\"}},\"header\":{\"fill\":{\"color\":\"#C8D4E3\"},\"line\":{\"color\":\"white\"}},\"type\":\"table\"}]},\"layout\":{\"annotationdefaults\":{\"arrowcolor\":\"#2a3f5f\",\"arrowhead\":0,\"arrowwidth\":1},\"autotypenumbers\":\"strict\",\"coloraxis\":{\"colorbar\":{\"outlinewidth\":0,\"ticks\":\"\"}},\"colorscale\":{\"diverging\":[[0,\"#8e0152\"],[0.1,\"#c51b7d\"],[0.2,\"#de77ae\"],[0.3,\"#f1b6da\"],[0.4,\"#fde0ef\"],[0.5,\"#f7f7f7\"],[0.6,\"#e6f5d0\"],[0.7,\"#b8e186\"],[0.8,\"#7fbc41\"],[0.9,\"#4d9221\"],[1,\"#276419\"]],\"sequential\":[[0.0,\"#0d0887\"],[0.1111111111111111,\"#46039f\"],[0.2222222222222222,\"#7201a8\"],[0.3333333333333333,\"#9c179e\"],[0.4444444444444444,\"#bd3786\"],[0.5555555555555556,\"#d8576b\"],[0.6666666666666666,\"#ed7953\"],[0.7777777777777778,\"#fb9f3a\"],[0.8888888888888888,\"#fdca26\"],[1.0,\"#f0f921\"]],\"sequentialminus\":[[0.0,\"#0d0887\"],[0.1111111111111111,\"#46039f\"],[0.2222222222222222,\"#7201a8\"],[0.3333333333333333,\"#9c179e\"],[0.4444444444444444,\"#bd3786\"],[0.5555555555555556,\"#d8576b\"],[0.6666666666666666,\"#ed7953\"],[0.7777777777777778,\"#fb9f3a\"],[0.8888888888888888,\"#fdca26\"],[1.0,\"#f0f921\"]]},\"colorway\":[\"#636efa\",\"#EF553B\",\"#00cc96\",\"#ab63fa\",\"#FFA15A\",\"#19d3f3\",\"#FF6692\",\"#B6E880\",\"#FF97FF\",\"#FECB52\"],\"font\":{\"color\":\"#2a3f5f\"},\"geo\":{\"bgcolor\":\"white\",\"lakecolor\":\"white\",\"landcolor\":\"#E5ECF6\",\"showlakes\":true,\"showland\":true,\"subunitcolor\":\"white\"},\"hoverlabel\":{\"align\":\"left\"},\"hovermode\":\"closest\",\"mapbox\":{\"style\":\"light\"},\"paper_bgcolor\":\"white\",\"plot_bgcolor\":\"#E5ECF6\",\"polar\":{\"angularaxis\":{\"gridcolor\":\"white\",\"linecolor\":\"white\",\"ticks\":\"\"},\"bgcolor\":\"#E5ECF6\",\"radialaxis\":{\"gridcolor\":\"white\",\"linecolor\":\"white\",\"ticks\":\"\"}},\"scene\":{\"xaxis\":{\"backgroundcolor\":\"#E5ECF6\",\"gridcolor\":\"white\",\"gridwidth\":2,\"linecolor\":\"white\",\"showbackground\":true,\"ticks\":\"\",\"zerolinecolor\":\"white\"},\"yaxis\":{\"backgroundcolor\":\"#E5ECF6\",\"gridcolor\":\"white\",\"gridwidth\":2,\"linecolor\":\"white\",\"showbackground\":true,\"ticks\":\"\",\"zerolinecolor\":\"white\"},\"zaxis\":{\"backgroundcolor\":\"#E5ECF6\",\"gridcolor\":\"white\",\"gridwidth\":2,\"linecolor\":\"white\",\"showbackground\":true,\"ticks\":\"\",\"zerolinecolor\":\"white\"}},\"shapedefaults\":{\"line\":{\"color\":\"#2a3f5f\"}},\"ternary\":{\"aaxis\":{\"gridcolor\":\"white\",\"linecolor\":\"white\",\"ticks\":\"\"},\"baxis\":{\"gridcolor\":\"white\",\"linecolor\":\"white\",\"ticks\":\"\"},\"bgcolor\":\"#E5ECF6\",\"caxis\":{\"gridcolor\":\"white\",\"linecolor\":\"white\",\"ticks\":\"\"}},\"title\":{\"x\":0.05},\"xaxis\":{\"automargin\":true,\"gridcolor\":\"white\",\"linecolor\":\"white\",\"ticks\":\"\",\"title\":{\"standoff\":15},\"zerolinecolor\":\"white\",\"zerolinewidth\":2},\"yaxis\":{\"automargin\":true,\"gridcolor\":\"white\",\"linecolor\":\"white\",\"ticks\":\"\",\"title\":{\"standoff\":15},\"zerolinecolor\":\"white\",\"zerolinewidth\":2}}},\"xaxis\":{\"anchor\":\"y\",\"domain\":[0.0,0.45],\"title\":{\"text\":\"Real Dev/Bot\"}},\"yaxis\":{\"anchor\":\"x\",\"domain\":[0.625,1.0],\"title\":{\"text\":\"no. records\"}},\"xaxis2\":{\"anchor\":\"y2\",\"domain\":[0.55,1.0],\"title\":{\"text\":\"State\"}},\"yaxis2\":{\"anchor\":\"x2\",\"domain\":[0.625,1.0],\"title\":{\"text\":\"no. records\"},\"type\":\"log\"},\"xaxis3\":{\"anchor\":\"y3\",\"domain\":[0.0,0.45],\"title\":{\"text\":\"Project Name\"}},\"yaxis3\":{\"anchor\":\"x3\",\"domain\":[0.0,0.375],\"title\":{\"text\":\"no. records\"}},\"xaxis4\":{\"anchor\":\"y4\",\"domain\":[0.55,1.0],\"title\":{\"text\":\"Persuasion Strategy\"}},\"yaxis4\":{\"anchor\":\"x4\",\"domain\":[0.0,0.375],\"title\":{\"text\":\"no. records\"}},\"annotations\":[{\"font\":{\"size\":16},\"showarrow\":false,\"text\":\"Real Developer or Bots\",\"x\":0.225,\"xanchor\":\"center\",\"xref\":\"paper\",\"y\":1.0,\"yanchor\":\"bottom\",\"yref\":\"paper\"},{\"font\":{\"size\":16},\"showarrow\":false,\"text\":\"Patch State\",\"x\":0.775,\"xanchor\":\"center\",\"xref\":\"paper\",\"y\":1.0,\"yanchor\":\"bottom\",\"yref\":\"paper\"},{\"font\":{\"size\":16},\"showarrow\":false,\"text\":\"Projects\",\"x\":0.225,\"xanchor\":\"center\",\"xref\":\"paper\",\"y\":0.375,\"yanchor\":\"bottom\",\"yref\":\"paper\"},{\"font\":{\"size\":16},\"showarrow\":false,\"text\":\"Persuasion Strategies\",\"x\":0.775,\"xanchor\":\"center\",\"xref\":\"paper\",\"y\":0.375,\"yanchor\":\"bottom\",\"yref\":\"paper\"}],\"title\":{\"text\":\"SIGNAL Data Overview\"},\"height\":950,\"showlegend\":false},                        {\"responsive\": true}                    ).then(function(){\n",
              "                            \n",
              "var gd = document.getElementById('74c6d558-9b7f-4e4f-a318-117da8051ad0');\n",
              "var x = new MutationObserver(function (mutations, observer) {{\n",
              "        var display = window.getComputedStyle(gd).display;\n",
              "        if (!display || display === 'none') {{\n",
              "            console.log([gd, 'removed!']);\n",
              "            Plotly.purge(gd);\n",
              "            observer.disconnect();\n",
              "        }}\n",
              "}});\n",
              "\n",
              "// Listen for the removal of the full notebook cells\n",
              "var notebookContainer = gd.closest('#notebook-container');\n",
              "if (notebookContainer) {{\n",
              "    x.observe(notebookContainer, {childList: true});\n",
              "}}\n",
              "\n",
              "// Listen for the clearing of the current output cell\n",
              "var outputEl = gd.closest('.output');\n",
              "if (outputEl) {{\n",
              "    x.observe(outputEl, {childList: true});\n",
              "}}\n",
              "\n",
              "                        })                };                            </script>        </div>\n",
              "</body>\n",
              "</html>"
            ]
          },
          "metadata": {}
        }
      ]
    }
  ]
}