{
  "nbformat": 4,
  "nbformat_minor": 0,
  "metadata": {
    "colab": {
      "provenance": [],
      "collapsed_sections": [],
      "toc_visible": true,
      "authorship_tag": "ABX9TyMXo594DnNB4Ymgwr5ao8w1",
      "include_colab_link": true
    },
    "kernelspec": {
      "name": "python3",
      "display_name": "Python 3"
    },
    "language_info": {
      "name": "python"
    }
  },
  "cells": [
    {
      "cell_type": "markdown",
      "metadata": {
        "id": "view-in-github",
        "colab_type": "text"
      },
      "source": [
        "<a href=\"https://colab.research.google.com/github/SRI-CSL/signal-public/blob/signal-demonstration/colabs/signal_api_part_1.ipynb\" target=\"_parent\"><img src=\"https://colab.research.google.com/assets/colab-badge.svg\" alt=\"Open In Colab\"/></a>"
      ]
    },
    {
      "cell_type": "markdown",
      "source": [
        "# **SIGNAL**ing Interest Data\n",
        "\n",
        "**Description:** Installation, basic APIs, and Dashboards, see [HERE](https://github.com/SRI-CSL/SIGNAL/blob/main/reports/milestone-7/signal-demo.org)\n",
        "\n",
        "**Copyright 2022 SRI International.**\n",
        "\n",
        "This project is under the GPL3 License. See the [LICENSE](https://www.gnu.org/licenses/gpl-3.0.en.html) file for the full license text."
      ],
      "metadata": {
        "id": "--4z2fpmSRbl"
      }
    },
    {
      "cell_type": "markdown",
      "source": [
        "## &#128640; Getting Started"
      ],
      "metadata": {
        "id": "aDuf5ihcSadD"
      }
    },
    {
      "cell_type": "markdown",
      "source": [
        "Install the `SIGNAL API` client"
      ],
      "metadata": {
        "id": "CrBwUmDsTsSb"
      }
    },
    {
      "cell_type": "code",
      "source": [
        "!curl https://signal.cta.sri.com/client > client.tgz\n",
        "!tar xzf client.tgz\n",
        "!pip install -r signal_api_client/requirements.txt\n",
        "!pip install -e signal_api_client\n",
        "!pip install ipympl\n",
        "%cd /content/signal_api_client   "
      ],
      "metadata": {
        "id": "kXaiQzHaRCV4"
      },
      "execution_count": null,
      "outputs": []
    },
    {
      "cell_type": "markdown",
      "source": [
        "Download the `funcs` utilities repository."
      ],
      "metadata": {
        "id": "8UaF_4QnT1l7"
      }
    },
    {
      "cell_type": "code",
      "source": [
        "import os\n",
        "import sys"
      ],
      "metadata": {
        "id": "Ss-jg60OvHrY"
      },
      "execution_count": 1,
      "outputs": []
    },
    {
      "cell_type": "code",
      "source": [
        "!git clone https://github.com/hsanchez/funcs.git &> /dev/null"
      ],
      "metadata": {
        "id": "fveFG9JuTppn"
      },
      "execution_count": 2,
      "outputs": []
    },
    {
      "cell_type": "code",
      "source": [
        "os.chdir(f'./funcs')\n",
        "!git fetch"
      ],
      "metadata": {
        "id": "LEAbSQ7BqVc-"
      },
      "execution_count": 3,
      "outputs": []
    },
    {
      "cell_type": "code",
      "source": [
        "!git checkout activity_roles_detection_colab &> /dev/null"
      ],
      "metadata": {
        "id": "Ixa2MBmoqaFz"
      },
      "execution_count": 4,
      "outputs": []
    },
    {
      "cell_type": "markdown",
      "source": [
        "## &#9776; Dependencies"
      ],
      "metadata": {
        "id": "sIMm3y5HSjln"
      }
    },
    {
      "cell_type": "code",
      "execution_count": 5,
      "metadata": {
        "id": "3bJ7eePCQ4J2"
      },
      "outputs": [],
      "source": [
        "import time\n",
        "import warnings\n",
        "\n",
        "import re\n",
        "\n",
        "import numpy as np\n",
        "import pandas as pd\n",
        "import matplotlib.pyplot as plt\n",
        "\n",
        "from typing import List, Any, Dict, Tuple\n",
        "from datetime import date, datetime"
      ]
    },
    {
      "cell_type": "code",
      "source": [
        "import funcs as utils"
      ],
      "metadata": {
        "id": "4buhY0e0ULHh"
      },
      "execution_count": 6,
      "outputs": []
    },
    {
      "cell_type": "code",
      "source": [
        "from signal_api import signal"
      ],
      "metadata": {
        "id": "-Zabla_JWC11"
      },
      "execution_count": 7,
      "outputs": []
    },
    {
      "cell_type": "markdown",
      "source": [
        "## &#9997; Configuration"
      ],
      "metadata": {
        "id": "swVZEtyxUvJT"
      }
    },
    {
      "cell_type": "code",
      "source": [
        "warnings.filterwarnings(\"ignore\")"
      ],
      "metadata": {
        "id": "3PYox-GMUsNd"
      },
      "execution_count": 8,
      "outputs": []
    },
    {
      "cell_type": "code",
      "source": [
        "%matplotlib inline\n",
        "%config InlineBackend.figure_format='retina'"
      ],
      "metadata": {
        "id": "mI21zr5RV0Kd"
      },
      "execution_count": 9,
      "outputs": []
    },
    {
      "cell_type": "code",
      "source": [
        "np.random.seed(0)"
      ],
      "metadata": {
        "id": "CMUvjPyTxBdn"
      },
      "execution_count": 10,
      "outputs": []
    },
    {
      "cell_type": "code",
      "source": [
        "from IPython import get_ipython\n",
        "utils.common.set_default_vars(os.environ, ipython_val=get_ipython())"
      ],
      "metadata": {
        "id": "GkYzO6auqvY-"
      },
      "execution_count": 11,
      "outputs": []
    },
    {
      "cell_type": "code",
      "source": [
        "utils.console.stdout.print(utils.common.is_run_in_colab())"
      ],
      "metadata": {
        "colab": {
          "base_uri": "https://localhost:8080/",
          "height": 33
        },
        "id": "wmbyDJ4Qq05f",
        "outputId": "b079406e-b38d-4d98-d8b2-44aa613b2011"
      },
      "execution_count": 12,
      "outputs": [
        {
          "output_type": "display_data",
          "data": {
            "text/plain": [
              "\u001b[3;92mTrue\u001b[0m\n"
            ],
            "text/html": [
              "<pre style=\"white-space:pre;overflow-x:auto;line-height:normal;font-family:Menlo,'DejaVu Sans Mono',consolas,'Courier New',monospace\"><span style=\"color: #00ff00; text-decoration-color: #00ff00; font-style: italic\">True</span>\n",
              "</pre>\n"
            ]
          },
          "metadata": {}
        }
      ]
    },
    {
      "cell_type": "markdown",
      "source": [
        "## &#128272; Login"
      ],
      "metadata": {
        "id": "VgWxF-0CVEoJ"
      }
    },
    {
      "cell_type": "code",
      "source": [
        "signal.login()"
      ],
      "metadata": {
        "colab": {
          "base_uri": "https://localhost:8080/"
        },
        "id": "T3Yxx02UVHK3",
        "outputId": "dd664310-96d0-404a-fcbc-e507f8888ae4"
      },
      "execution_count": 13,
      "outputs": [
        {
          "name": "stdout",
          "output_type": "stream",
          "text": [
            "username?: ··········\n",
            "password?: ··········\n"
          ]
        },
        {
          "output_type": "execute_result",
          "data": {
            "text/plain": [
              "True"
            ]
          },
          "metadata": {},
          "execution_count": 13
        }
      ]
    },
    {
      "cell_type": "markdown",
      "source": [
        "## &#128722; Data"
      ],
      "metadata": {
        "id": "WJcBUDqgyu2V"
      }
    },
    {
      "cell_type": "markdown",
      "source": [
        "### &#9759; Tables"
      ],
      "metadata": {
        "id": "rDlRXb7G0l0w"
      }
    },
    {
      "cell_type": "code",
      "source": [
        "def get_record_count(table_name: str) -> int:\n",
        "    query = f\"SELECT COUNT(*) FROM {table_name};\"\n",
        "    df_result = signal.query_dataframe(query)\n",
        "    result = df_result['count'].iloc[0]\n",
        "    return result"
      ],
      "metadata": {
        "id": "hl_pvYd0YSd6"
      },
      "execution_count": 20,
      "outputs": []
    },
    {
      "cell_type": "code",
      "source": [
        "def get_table_columns(table_name: str) -> List[str]:\n",
        "    query = f\"SELECT column_name FROM INFORMATION_SCHEMA.COLUMNS WHERE TABLE_NAME = N'{table_name}';\"\n",
        "    df_result = signal.query_dataframe(query)\n",
        "    result_list = df_result.column_name.tolist()\n",
        "    return result_list"
      ],
      "metadata": {
        "id": "FgGLb7nAezkd"
      },
      "execution_count": 41,
      "outputs": []
    },
    {
      "cell_type": "code",
      "source": [
        "def print_table_info(table_name: str) -> None:\n",
        "    total_records = get_record_count(table_name=table_name)\n",
        "    table_columns = get_table_columns(table_name=table_name)\n",
        "\n",
        "    print(f\"- In total, there are {total_records:,} records in the {table_name} table.\\n\"\\\n",
        "          f\"-- Table {table_name} contains {len(table_columns)} columns, namely: {table_columns}.\\n\")"
      ],
      "metadata": {
        "id": "0vKdqABLYoB5"
      },
      "execution_count": 51,
      "outputs": []
    },
    {
      "cell_type": "code",
      "source": [
        "TABLES_QUERY = \"SELECT * FROM information_schema.tables WHERE table_type='BASE TABLE';\""
      ],
      "metadata": {
        "id": "Iu5Eb1dQ0q0r"
      },
      "execution_count": 14,
      "outputs": []
    },
    {
      "cell_type": "code",
      "source": [
        "df_tables = signal.query_dataframe(TABLES_QUERY)"
      ],
      "metadata": {
        "id": "MA-wn1lk0yYD"
      },
      "execution_count": 15,
      "outputs": []
    },
    {
      "cell_type": "code",
      "source": [
        "table_names = df_tables.table_name.unique()"
      ],
      "metadata": {
        "id": "simEHVpW1vAH"
      },
      "execution_count": 16,
      "outputs": []
    },
    {
      "cell_type": "code",
      "source": [
        "print(f\"There are {len(table_names)} tables currently present in the SIGNAL database.\")"
      ],
      "metadata": {
        "colab": {
          "base_uri": "https://localhost:8080/"
        },
        "id": "eFLHvQGS1u7o",
        "outputId": "b985af81-0472-4d90-a7d1-8fe526aa4b41"
      },
      "execution_count": 17,
      "outputs": [
        {
          "output_type": "stream",
          "name": "stdout",
          "text": [
            "There are 87 tables currently present in the SIGNAL database.\n"
          ]
        }
      ]
    },
    {
      "cell_type": "code",
      "source": [
        "df_tables.head()"
      ],
      "metadata": {
        "colab": {
          "base_uri": "https://localhost:8080/",
          "height": 206
        },
        "id": "bJ3ny5e21u4f",
        "outputId": "3cee233f-bf9f-473f-85f2-0ba49b53121a"
      },
      "execution_count": 18,
      "outputs": [
        {
          "output_type": "execute_result",
          "data": {
            "text/plain": [
              "  table_catalog table_schema            table_name  table_type  \\\n",
              "0        signal       public      scraped_projects  BASE TABLE   \n",
              "1        signal       public  scraped_patch_series  BASE TABLE   \n",
              "2        signal       public                  diff  BASE TABLE   \n",
              "3        signal       public                thread  BASE TABLE   \n",
              "4        signal       public             git_files  BASE TABLE   \n",
              "\n",
              "  self_referencing_column_name reference_generation user_defined_type_catalog  \\\n",
              "0                         None                 None                      None   \n",
              "1                         None                 None                      None   \n",
              "2                         None                 None                      None   \n",
              "3                         None                 None                      None   \n",
              "4                         None                 None                      None   \n",
              "\n",
              "  user_defined_type_schema user_defined_type_name is_insertable_into is_typed  \\\n",
              "0                     None                   None                YES       NO   \n",
              "1                     None                   None                YES       NO   \n",
              "2                     None                   None                YES       NO   \n",
              "3                     None                   None                YES       NO   \n",
              "4                     None                   None                YES       NO   \n",
              "\n",
              "  commit_action  \n",
              "0          None  \n",
              "1          None  \n",
              "2          None  \n",
              "3          None  \n",
              "4          None  "
            ],
            "text/html": [
              "\n",
              "  <div id=\"df-375ef292-b587-4655-beae-caa1fb0de3a6\">\n",
              "    <div class=\"colab-df-container\">\n",
              "      <div>\n",
              "<style scoped>\n",
              "    .dataframe tbody tr th:only-of-type {\n",
              "        vertical-align: middle;\n",
              "    }\n",
              "\n",
              "    .dataframe tbody tr th {\n",
              "        vertical-align: top;\n",
              "    }\n",
              "\n",
              "    .dataframe thead th {\n",
              "        text-align: right;\n",
              "    }\n",
              "</style>\n",
              "<table border=\"1\" class=\"dataframe\">\n",
              "  <thead>\n",
              "    <tr style=\"text-align: right;\">\n",
              "      <th></th>\n",
              "      <th>table_catalog</th>\n",
              "      <th>table_schema</th>\n",
              "      <th>table_name</th>\n",
              "      <th>table_type</th>\n",
              "      <th>self_referencing_column_name</th>\n",
              "      <th>reference_generation</th>\n",
              "      <th>user_defined_type_catalog</th>\n",
              "      <th>user_defined_type_schema</th>\n",
              "      <th>user_defined_type_name</th>\n",
              "      <th>is_insertable_into</th>\n",
              "      <th>is_typed</th>\n",
              "      <th>commit_action</th>\n",
              "    </tr>\n",
              "  </thead>\n",
              "  <tbody>\n",
              "    <tr>\n",
              "      <th>0</th>\n",
              "      <td>signal</td>\n",
              "      <td>public</td>\n",
              "      <td>scraped_projects</td>\n",
              "      <td>BASE TABLE</td>\n",
              "      <td>None</td>\n",
              "      <td>None</td>\n",
              "      <td>None</td>\n",
              "      <td>None</td>\n",
              "      <td>None</td>\n",
              "      <td>YES</td>\n",
              "      <td>NO</td>\n",
              "      <td>None</td>\n",
              "    </tr>\n",
              "    <tr>\n",
              "      <th>1</th>\n",
              "      <td>signal</td>\n",
              "      <td>public</td>\n",
              "      <td>scraped_patch_series</td>\n",
              "      <td>BASE TABLE</td>\n",
              "      <td>None</td>\n",
              "      <td>None</td>\n",
              "      <td>None</td>\n",
              "      <td>None</td>\n",
              "      <td>None</td>\n",
              "      <td>YES</td>\n",
              "      <td>NO</td>\n",
              "      <td>None</td>\n",
              "    </tr>\n",
              "    <tr>\n",
              "      <th>2</th>\n",
              "      <td>signal</td>\n",
              "      <td>public</td>\n",
              "      <td>diff</td>\n",
              "      <td>BASE TABLE</td>\n",
              "      <td>None</td>\n",
              "      <td>None</td>\n",
              "      <td>None</td>\n",
              "      <td>None</td>\n",
              "      <td>None</td>\n",
              "      <td>YES</td>\n",
              "      <td>NO</td>\n",
              "      <td>None</td>\n",
              "    </tr>\n",
              "    <tr>\n",
              "      <th>3</th>\n",
              "      <td>signal</td>\n",
              "      <td>public</td>\n",
              "      <td>thread</td>\n",
              "      <td>BASE TABLE</td>\n",
              "      <td>None</td>\n",
              "      <td>None</td>\n",
              "      <td>None</td>\n",
              "      <td>None</td>\n",
              "      <td>None</td>\n",
              "      <td>YES</td>\n",
              "      <td>NO</td>\n",
              "      <td>None</td>\n",
              "    </tr>\n",
              "    <tr>\n",
              "      <th>4</th>\n",
              "      <td>signal</td>\n",
              "      <td>public</td>\n",
              "      <td>git_files</td>\n",
              "      <td>BASE TABLE</td>\n",
              "      <td>None</td>\n",
              "      <td>None</td>\n",
              "      <td>None</td>\n",
              "      <td>None</td>\n",
              "      <td>None</td>\n",
              "      <td>YES</td>\n",
              "      <td>NO</td>\n",
              "      <td>None</td>\n",
              "    </tr>\n",
              "  </tbody>\n",
              "</table>\n",
              "</div>\n",
              "      <button class=\"colab-df-convert\" onclick=\"convertToInteractive('df-375ef292-b587-4655-beae-caa1fb0de3a6')\"\n",
              "              title=\"Convert this dataframe to an interactive table.\"\n",
              "              style=\"display:none;\">\n",
              "        \n",
              "  <svg xmlns=\"http://www.w3.org/2000/svg\" height=\"24px\"viewBox=\"0 0 24 24\"\n",
              "       width=\"24px\">\n",
              "    <path d=\"M0 0h24v24H0V0z\" fill=\"none\"/>\n",
              "    <path d=\"M18.56 5.44l.94 2.06.94-2.06 2.06-.94-2.06-.94-.94-2.06-.94 2.06-2.06.94zm-11 1L8.5 8.5l.94-2.06 2.06-.94-2.06-.94L8.5 2.5l-.94 2.06-2.06.94zm10 10l.94 2.06.94-2.06 2.06-.94-2.06-.94-.94-2.06-.94 2.06-2.06.94z\"/><path d=\"M17.41 7.96l-1.37-1.37c-.4-.4-.92-.59-1.43-.59-.52 0-1.04.2-1.43.59L10.3 9.45l-7.72 7.72c-.78.78-.78 2.05 0 2.83L4 21.41c.39.39.9.59 1.41.59.51 0 1.02-.2 1.41-.59l7.78-7.78 2.81-2.81c.8-.78.8-2.07 0-2.86zM5.41 20L4 18.59l7.72-7.72 1.47 1.35L5.41 20z\"/>\n",
              "  </svg>\n",
              "      </button>\n",
              "      \n",
              "  <style>\n",
              "    .colab-df-container {\n",
              "      display:flex;\n",
              "      flex-wrap:wrap;\n",
              "      gap: 12px;\n",
              "    }\n",
              "\n",
              "    .colab-df-convert {\n",
              "      background-color: #E8F0FE;\n",
              "      border: none;\n",
              "      border-radius: 50%;\n",
              "      cursor: pointer;\n",
              "      display: none;\n",
              "      fill: #1967D2;\n",
              "      height: 32px;\n",
              "      padding: 0 0 0 0;\n",
              "      width: 32px;\n",
              "    }\n",
              "\n",
              "    .colab-df-convert:hover {\n",
              "      background-color: #E2EBFA;\n",
              "      box-shadow: 0px 1px 2px rgba(60, 64, 67, 0.3), 0px 1px 3px 1px rgba(60, 64, 67, 0.15);\n",
              "      fill: #174EA6;\n",
              "    }\n",
              "\n",
              "    [theme=dark] .colab-df-convert {\n",
              "      background-color: #3B4455;\n",
              "      fill: #D2E3FC;\n",
              "    }\n",
              "\n",
              "    [theme=dark] .colab-df-convert:hover {\n",
              "      background-color: #434B5C;\n",
              "      box-shadow: 0px 1px 3px 1px rgba(0, 0, 0, 0.15);\n",
              "      filter: drop-shadow(0px 1px 2px rgba(0, 0, 0, 0.3));\n",
              "      fill: #FFFFFF;\n",
              "    }\n",
              "  </style>\n",
              "\n",
              "      <script>\n",
              "        const buttonEl =\n",
              "          document.querySelector('#df-375ef292-b587-4655-beae-caa1fb0de3a6 button.colab-df-convert');\n",
              "        buttonEl.style.display =\n",
              "          google.colab.kernel.accessAllowed ? 'block' : 'none';\n",
              "\n",
              "        async function convertToInteractive(key) {\n",
              "          const element = document.querySelector('#df-375ef292-b587-4655-beae-caa1fb0de3a6');\n",
              "          const dataTable =\n",
              "            await google.colab.kernel.invokeFunction('convertToInteractive',\n",
              "                                                     [key], {});\n",
              "          if (!dataTable) return;\n",
              "\n",
              "          const docLinkHtml = 'Like what you see? Visit the ' +\n",
              "            '<a target=\"_blank\" href=https://colab.research.google.com/notebooks/data_table.ipynb>data table notebook</a>'\n",
              "            + ' to learn more about interactive tables.';\n",
              "          element.innerHTML = '';\n",
              "          dataTable['output_type'] = 'display_data';\n",
              "          await google.colab.output.renderOutput(dataTable, element);\n",
              "          const docLink = document.createElement('div');\n",
              "          docLink.innerHTML = docLinkHtml;\n",
              "          element.appendChild(docLink);\n",
              "        }\n",
              "      </script>\n",
              "    </div>\n",
              "  </div>\n",
              "  "
            ]
          },
          "metadata": {},
          "execution_count": 18
        }
      ]
    },
    {
      "cell_type": "code",
      "source": [
        "table_names"
      ],
      "metadata": {
        "id": "fDIf58l1_xhA",
        "outputId": "dfef668c-22e1-4cc7-8b0e-261f4a53b03e",
        "colab": {
          "base_uri": "https://localhost:8080/"
        }
      },
      "execution_count": 19,
      "outputs": [
        {
          "output_type": "execute_result",
          "data": {
            "text/plain": [
              "array(['scraped_projects', 'scraped_patch_series', 'diff', 'thread',\n",
              "       'git_files', 'email', 'git_commit_edges', 'pg_statistic',\n",
              "       'pg_type', 'git_file_changes', 'scraped_patches',\n",
              "       'alembic_version', 'api_key', 'pg_foreign_table', 'pg_authid',\n",
              "       'signal_history', 'pg_statistic_ext_data', 'git_repos',\n",
              "       'user_identities', 'person', 'scraped_patch_submitters',\n",
              "       'mailing_list', 'git_sigs', 'pg_user_mapping', 'pg_subscription',\n",
              "       'pg_attribute', 'pg_proc', 'pg_class', 'pg_attrdef',\n",
              "       'pg_constraint', 'pg_inherits', 'pg_index', 'pg_operator',\n",
              "       'pg_opfamily', 'pg_opclass', 'pg_am', 'pg_amop', 'pg_amproc',\n",
              "       'pg_language', 'pg_largeobject_metadata', 'pg_aggregate',\n",
              "       'pg_statistic_ext', 'pg_rewrite', 'pg_trigger', 'pg_event_trigger',\n",
              "       'pg_description', 'pg_cast', 'pg_enum', 'pg_namespace',\n",
              "       'pg_conversion', 'pg_depend', 'pg_database', 'pg_db_role_setting',\n",
              "       'pg_tablespace', 'pg_auth_members', 'pg_shdepend',\n",
              "       'pg_shdescription', 'pg_ts_config', 'pg_ts_config_map',\n",
              "       'pg_ts_dict', 'pg_ts_parser', 'pg_ts_template', 'pg_extension',\n",
              "       'pg_foreign_data_wrapper', 'pg_foreign_server', 'pg_policy',\n",
              "       'pg_replication_origin', 'pg_default_acl', 'pg_init_privs',\n",
              "       'pg_seclabel', 'pg_shseclabel', 'pg_collation',\n",
              "       'pg_partitioned_table', 'pg_range', 'pg_transform', 'pg_sequence',\n",
              "       'pg_publication', 'pg_publication_rel', 'pg_subscription_rel',\n",
              "       'pg_largeobject', 'git_xrefs', 'sql_parts',\n",
              "       'sql_implementation_info', 'sql_features', 'sql_sizing',\n",
              "       'patchwork_person_id', 'git_commits'], dtype=object)"
            ]
          },
          "metadata": {},
          "execution_count": 19
        }
      ]
    },
    {
      "cell_type": "code",
      "source": [
        "print_table_info(table_name='email')\n",
        "print_table_info(table_name='scraped_projects')\n",
        "print_table_info(table_name='scraped_patch_series')\n",
        "print_table_info(table_name='diff')\n",
        "print_table_info(table_name='thread')\n",
        "print_table_info(table_name='git_files')\n",
        "print_table_info(table_name='git_commit_edges')\n",
        "print_table_info(table_name='git_file_changes')\n",
        "print_table_info(table_name='scraped_patches')\n",
        "print_table_info(table_name='git_repos')\n",
        "print_table_info(table_name='user_identities')\n",
        "print_table_info(table_name='person')\n",
        "print_table_info(table_name='scraped_patch_submitters')\n",
        "print_table_info(table_name='mailing_list')\n",
        "print_table_info(table_name='git_sigs')\n",
        "print_table_info(table_name='patchwork_person_id')\n",
        "print_table_info(table_name='git_commits')\n",
        "print_table_info(table_name='git_xrefs')"
      ],
      "metadata": {
        "colab": {
          "base_uri": "https://localhost:8080/"
        },
        "id": "H7WPgUJqYKJo",
        "outputId": "9b503cdb-d9d9-473d-e9bf-ba1fa4248bb3"
      },
      "execution_count": 53,
      "outputs": [
        {
          "output_type": "stream",
          "name": "stdout",
          "text": [
            "- In total, there are 828,219 records in the email table.\n",
            "-- Table email contains 15 columns, namely: ['id', 'mailing_list_id', 'author_id', 'timestamp_sent', 'timestamp_recv', 'reply_to_url', 'thread_id', 'persuasion', 'reply_to_message_id', 'subject', 'body', 'url', 'clean_body', 'email_id', 'message_id'].\n",
            "\n",
            "- In total, there are 93 records in the scraped_projects table.\n",
            "-- Table scraped_projects contains 2 columns, namely: ['id', 'name'].\n",
            "\n",
            "- In total, there are 280,722 records in the scraped_patch_series table.\n",
            "-- Table scraped_patch_series contains 3 columns, namely: ['id', 'patchwork_id', 'name'].\n",
            "\n",
            "- In total, there are 667,972 records in the diff table.\n",
            "-- Table diff contains 4 columns, namely: ['id', 'email_id', 'file', 'contents'].\n",
            "\n",
            "- In total, there are 10,387 records in the thread table.\n",
            "-- Table thread contains 20 columns, namely: ['id', 'deg_max', 'deg_max_2', 'deg_max_3', 'deg_max_4', 'deg_max_5', 'patch', 'emails', 'users', 'start', 'days', 'depth', 'star_nodes', 'h_index', 'deg_gini', 'name', 'root_message_id', 'url', 'subject', 'category'].\n",
            "\n",
            "- In total, there are 62,131 records in the git_files table.\n",
            "-- Table git_files contains 3 columns, namely: ['id', 'repository_id', 'file_path'].\n",
            "\n",
            "- In total, there are 190,448 records in the git_commit_edges table.\n",
            "-- Table git_commit_edges contains 2 columns, namely: ['parent_hash', 'child_hash'].\n",
            "\n",
            "- In total, there are 2,530,931 records in the git_file_changes table.\n",
            "-- Table git_file_changes contains 4 columns, namely: ['file_id', 'insertions', 'deletions', 'commit_hash'].\n",
            "\n",
            "- In total, there are 938,137 records in the scraped_patches table.\n",
            "-- Table scraped_patches contains 17 columns, namely: ['id', 'project_id', 'patch_id', 'review_count', 'tested_count', 'success_count', 'warning_count', 'fail_count', 'submitter_id', 'series_id', 'ack_count', 'mail_id', 'name', 'commit_hash', 'delegate', 'state', 'date'].\n",
            "\n",
            "- In total, there are 1 records in the git_repos table.\n",
            "-- Table git_repos contains 2 columns, namely: ['id', 'name'].\n",
            "\n",
            "- In total, there are 6,891 records in the user_identities table.\n",
            "-- Table user_identities contains 2 columns, namely: ['id', 'name'].\n",
            "\n",
            "- In total, there are 21,345 records in the person table.\n",
            "-- Table person contains 5 columns, namely: ['id', 'is_bot', 'cluster_id', 'name', 'email_address'].\n",
            "\n",
            "- In total, there are 10,793 records in the scraped_patch_submitters table.\n",
            "-- Table scraped_patch_submitters contains 4 columns, namely: ['id', 'patchwork_id', 'cluster_id', 'name'].\n",
            "\n",
            "- In total, there are 1 records in the mailing_list table.\n",
            "-- Table mailing_list contains 2 columns, namely: ['id', 'name'].\n",
            "\n",
            "- In total, there are 461,571 records in the git_sigs table.\n",
            "-- Table git_sigs contains 5 columns, namely: ['id', 'commit_hash', 'signature_type', 'signature_name', 'signature_email'].\n",
            "\n",
            "- In total, there are 0 records in the patchwork_person_id table.\n",
            "-- Table patchwork_person_id contains 3 columns, namely: ['id', 'person_id', 'patchwork_id'].\n",
            "\n",
            "- In total, there are 176,620 records in the git_commits table.\n",
            "-- Table git_commits contains 28 columns, namely: ['coverage', 'repository_id', 'is_merge', 'authored_tz_offset', 'committed_tz_offset', 'density', 'effort', 'importance', 'new_branch', 'quality', 'rank', 'author_identity_id', 'authored_date', 'committed_date', 'files_touched', 'insertions', 'deletions', 'directories_touched', 'commit_name', 'author_name', 'author_email', 'commit_hash', 'committer_name', 'committer_email', 'commit_size', 'message', 'commit_type', 'activity'].\n",
            "\n",
            "- In total, there are 41,237 records in the git_xrefs table.\n",
            "-- Table git_xrefs contains 5 columns, namely: ['id', 'referencing_commit_hash', 'referenced_commit_hash', 'reference_type', 'ref_line'].\n",
            "\n"
          ]
        }
      ]
    },
    {
      "cell_type": "code",
      "source": [
        "print(e)"
      ],
      "metadata": {
        "colab": {
          "base_uri": "https://localhost:8080/"
        },
        "id": "b8xktbZ5d13O",
        "outputId": "9c6b6995-bec0-46b2-a907-da620f352c3a"
      },
      "execution_count": 36,
      "outputs": [
        {
          "output_type": "stream",
          "name": "stdout",
          "text": [
            "['id', 'mailing_list_id', 'author_id', 'timestamp_sent', 'timestamp_recv', 'reply_to_url', 'thread_id', 'persuasion', 'reply_to_message_id', 'subject', 'body', 'url', 'clean_body', 'email_id', 'message_id']\n"
          ]
        }
      ]
    },
    {
      "cell_type": "markdown",
      "source": [
        "## &#129504; Plots"
      ],
      "metadata": {
        "id": "nSoeZAsTEePz"
      }
    },
    {
      "cell_type": "code",
      "source": [],
      "metadata": {
        "id": "2Zb4yexoy_zL"
      },
      "execution_count": null,
      "outputs": []
    }
  ]
}