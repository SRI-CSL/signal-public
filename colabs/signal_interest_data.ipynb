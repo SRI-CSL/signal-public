{
  "nbformat": 4,
  "nbformat_minor": 0,
  "metadata": {
    "colab": {
      "provenance": [],
      "collapsed_sections": [
        "aDuf5ihcSadD",
        "rDlRXb7G0l0w",
        "yO8asjU-4dVu"
      ],
      "authorship_tag": "ABX9TyPixvOT4OK2nT3sIVLZgKMJ",
      "include_colab_link": true
    },
    "kernelspec": {
      "name": "python3",
      "display_name": "Python 3"
    },
    "language_info": {
      "name": "python"
    }
  },
  "cells": [
    {
      "cell_type": "markdown",
      "metadata": {
        "id": "view-in-github",
        "colab_type": "text"
      },
      "source": [
        "<a href=\"https://colab.research.google.com/github/SRI-CSL/signal-public/blob/signal-demonstration/colabs/signal_interest_data.ipynb\" target=\"_parent\"><img src=\"https://colab.research.google.com/assets/colab-badge.svg\" alt=\"Open In Colab\"/></a>"
      ]
    },
    {
      "cell_type": "markdown",
      "source": [
        "# **SIGNAL**ing Interest Data\n",
        "\n",
        "**Description:** Generating `interest` dataframe via SIGNAL API.\n",
        "\n",
        "**Copyright 2022 SRI International.**\n",
        "\n",
        "This project is under the GPL3 License. See the [LICENSE](https://www.gnu.org/licenses/gpl-3.0.en.html) file for the full license text."
      ],
      "metadata": {
        "id": "--4z2fpmSRbl"
      }
    },
    {
      "cell_type": "markdown",
      "source": [
        "## &#9776; Preamble"
      ],
      "metadata": {
        "id": "aDuf5ihcSadD"
      }
    },
    {
      "cell_type": "markdown",
      "source": [
        "Install the `SIGNAL API` client"
      ],
      "metadata": {
        "id": "CrBwUmDsTsSb"
      }
    },
    {
      "cell_type": "code",
      "source": [
        "!curl https://signal.cta.sri.com/client > client.tgz\n",
        "!tar xzf client.tgz\n",
        "!pip install -r signal_api_client/requirements.txt\n",
        "!pip install -e signal_api_client\n",
        "!pip install ipympl\n",
        "%cd /content/signal_api_client   "
      ],
      "metadata": {
        "id": "kXaiQzHaRCV4"
      },
      "execution_count": null,
      "outputs": []
    },
    {
      "cell_type": "markdown",
      "source": [
        "Download the `funcs` utilities repository."
      ],
      "metadata": {
        "id": "8UaF_4QnT1l7"
      }
    },
    {
      "cell_type": "code",
      "source": [
        "!git clone https://github.com/hsanchez/funcs.git &> /dev/null"
      ],
      "metadata": {
        "id": "fveFG9JuTppn"
      },
      "execution_count": 1,
      "outputs": []
    },
    {
      "cell_type": "markdown",
      "source": [
        "## &#9776; Dependencies"
      ],
      "metadata": {
        "id": "sIMm3y5HSjln"
      }
    },
    {
      "cell_type": "code",
      "execution_count": 2,
      "metadata": {
        "id": "3bJ7eePCQ4J2"
      },
      "outputs": [],
      "source": [
        "import os\n",
        "import sys\n",
        "import time\n",
        "import warnings\n",
        "\n",
        "import json\n",
        "import pickle\n",
        "import pathlib\n",
        "import zipfile\n",
        "import re\n",
        "\n",
        "import numpy as np\n",
        "import pandas as pd\n",
        "import matplotlib.pyplot as plt\n",
        "\n",
        "from typing import List, Any, Dict, Tuple\n",
        "from datetime import date, datetime"
      ]
    },
    {
      "cell_type": "code",
      "source": [
        "os.chdir(f'./funcs')\n",
        "!git fetch"
      ],
      "metadata": {
        "id": "LEAbSQ7BqVc-"
      },
      "execution_count": 3,
      "outputs": []
    },
    {
      "cell_type": "code",
      "source": [
        "!git checkout activity_roles_detection_colab &> /dev/null"
      ],
      "metadata": {
        "id": "Ixa2MBmoqaFz"
      },
      "execution_count": 4,
      "outputs": []
    },
    {
      "cell_type": "code",
      "source": [
        "import funcs as utils"
      ],
      "metadata": {
        "id": "4buhY0e0ULHh"
      },
      "execution_count": 5,
      "outputs": []
    },
    {
      "cell_type": "code",
      "source": [
        "import spacy"
      ],
      "metadata": {
        "id": "kKHTQGw9v0yS"
      },
      "execution_count": 6,
      "outputs": []
    },
    {
      "cell_type": "code",
      "source": [
        "# try:\n",
        "#     from google.colab import data_table, output\n",
        "#     data_table.disable_dataframe_formatter()\n",
        "#     output.enable_custom_widget_manager()\n",
        "# except Exception:\n",
        "#     print(\"Launched notebook locally\")"
      ],
      "metadata": {
        "id": "CJ8nC5P6UQd9"
      },
      "execution_count": 7,
      "outputs": []
    },
    {
      "cell_type": "code",
      "source": [
        "# from signal_api import signal"
      ],
      "metadata": {
        "id": "-Zabla_JWC11"
      },
      "execution_count": 8,
      "outputs": []
    },
    {
      "cell_type": "markdown",
      "source": [
        "## &#9997; Configuration"
      ],
      "metadata": {
        "id": "swVZEtyxUvJT"
      }
    },
    {
      "cell_type": "code",
      "source": [
        "warnings.filterwarnings(\"ignore\")"
      ],
      "metadata": {
        "id": "3PYox-GMUsNd"
      },
      "execution_count": 9,
      "outputs": []
    },
    {
      "cell_type": "code",
      "source": [
        "%matplotlib inline\n",
        "%config InlineBackend.figure_format='retina'"
      ],
      "metadata": {
        "id": "mI21zr5RV0Kd"
      },
      "execution_count": 10,
      "outputs": []
    },
    {
      "cell_type": "code",
      "source": [
        "pd.options.display.float_format = \"{:,.8f}\".format"
      ],
      "metadata": {
        "id": "w0tPT3qkw_wC"
      },
      "execution_count": 11,
      "outputs": []
    },
    {
      "cell_type": "code",
      "source": [
        "np.random.seed(0)"
      ],
      "metadata": {
        "id": "CMUvjPyTxBdn"
      },
      "execution_count": 12,
      "outputs": []
    },
    {
      "cell_type": "code",
      "source": [
        "nlp = spacy.load('en_core_web_sm')"
      ],
      "metadata": {
        "id": "qUot8PpMv6j7"
      },
      "execution_count": 13,
      "outputs": []
    },
    {
      "cell_type": "code",
      "source": [
        "from IPython import get_ipython\n",
        "utils.common.set_default_vars(os.environ, ipython_val=get_ipython())"
      ],
      "metadata": {
        "id": "GkYzO6auqvY-"
      },
      "execution_count": 14,
      "outputs": []
    },
    {
      "cell_type": "code",
      "source": [
        "utils.console.stdout.print(utils.common.is_run_in_colab())"
      ],
      "metadata": {
        "colab": {
          "base_uri": "https://localhost:8080/",
          "height": 33
        },
        "id": "wmbyDJ4Qq05f",
        "outputId": "f04ec005-63fa-4925-89b8-3c7e953bb293"
      },
      "execution_count": 15,
      "outputs": [
        {
          "output_type": "display_data",
          "data": {
            "text/plain": [
              "\u001b[3;92mTrue\u001b[0m\n"
            ],
            "text/html": [
              "<pre style=\"white-space:pre;overflow-x:auto;line-height:normal;font-family:Menlo,'DejaVu Sans Mono',consolas,'Courier New',monospace\"><span style=\"color: #00ff00; text-decoration-color: #00ff00; font-style: italic\">True</span>\n",
              "</pre>\n"
            ]
          },
          "metadata": {}
        }
      ]
    },
    {
      "cell_type": "code",
      "source": [
        "DATA_DICT = {\n",
        "    \"linux-kernel-data.zip\": \"1h1AGfQkOhvgtcCR8tWVzObBSpBTURWM2\",\n",
        "    \"lkml_email_patches_data.zip\" : \"12V2v3BNjF4RLkvKQZIBEqnBfqxQN1iVK\",\n",
        "    \"lkml_content_all.csv\": \"1iksk8RkfXEk07B5rSoN8JRz_bxukDnuC\"\n",
        "    }"
      ],
      "metadata": {
        "id": "bjUyuIdLsGT5"
      },
      "execution_count": 30,
      "outputs": []
    },
    {
      "cell_type": "markdown",
      "source": [
        "## &#9881; Functions"
      ],
      "metadata": {
        "id": "N39WXYGdyiO0"
      }
    },
    {
      "cell_type": "code",
      "source": [
        "# B.H. note: Add functions that are not already in funcs here..."
      ],
      "metadata": {
        "id": "_JNq4b1mylNV"
      },
      "execution_count": 12,
      "outputs": []
    },
    {
      "cell_type": "code",
      "source": [
        "def get_record_count(table_name: str) -> int:\n",
        "    query = f\"SELECT COUNT(*) FROM {table_name};\"\n",
        "    df_result = signal.query_dataframe(query)\n",
        "    result = df_result['count'].iloc[0]\n",
        "    return result"
      ],
      "metadata": {
        "id": "mxjoxnXG9jdp"
      },
      "execution_count": 13,
      "outputs": []
    },
    {
      "cell_type": "markdown",
      "source": [
        "### &#9759; Bot Analysis Functions"
      ],
      "metadata": {
        "id": "vCmVt3B4SnzX"
      }
    },
    {
      "cell_type": "code",
      "source": [
        "REGEX_GREG_ADDED = re.compile('patch \\\".*\\\" added to .*')\n",
        "\n",
        "BOTS = {'tip-bot2@linutronix.de', 'tipbot@zytor.com', 'tip-bot2@tip-bot2',\n",
        "        'lkp@ff58d72860ac', 'lkp@shao2-debian', 'lkp@xsang-OptiPlex-9020',\n",
        "        'rong.a.chen@shao2-debian', 'lkp@b50bd4e4e446', 'rong.a.chen@shao2-debian',\n",
        "        'noreply@ciplatform.org', 'patchwork@emeril.freedesktop.org',\n",
        "        'pr-tracker-bot@kernel.org'}\n",
        "        \n",
        "POTENTIAL_BOTS = {'broonie@kernel.org', 'lkp@intel.com',\n",
        "                  'boqun.feng@debian-boqun.qqnc3lrjykvubdpftowmye0fmh.lx.internal.cloudapp.net'}"
      ],
      "metadata": {
        "id": "NuSk1NtqSokP"
      },
      "execution_count": 14,
      "outputs": []
    },
    {
      "cell_type": "code",
      "source": [
        "def is_bot(patch: dict) -> bool:\n",
        "    email_address = patch['email']\n",
        "    if email_address in BOTS:\n",
        "        return True\n",
        "    \n",
        "    subject_line = patch.get('subject', '')\n",
        "    if email_address in POTENTIAL_BOTS:\n",
        "        # Mark Brown's bot and lkp\n",
        "        if subject_line.startswith('applied'):\n",
        "            return True\n",
        "    sender_name = patch.get('senderName', None)\n",
        "    sender_name = patch.get('name', '') if sender_name is None else sender_name\n",
        "    if 'tip-bot2' in sender_name or 'syzbot' in sender_name:\n",
        "        return True\n",
        "    if 'tip-bot' in sender_name:\n",
        "        return True\n",
        "    if sender_name in POTENTIAL_BOTS:\n",
        "        return True\n",
        "    if 'kernel test robot' in sender_name:\n",
        "        return True\n",
        "    \n",
        "    if REGEX_GREG_ADDED.match(subject_line):\n",
        "        return True\n",
        "    \n",
        "    # AKPM's bot. AKPM uses s-nail for automated mails, and sylpheed for all\n",
        "    # other mails. That's how we can easily separate automated mails from\n",
        "    # real mails. Further, akpm acts as bot if the subject contains [merged]\n",
        "    if email_address == 'akpm@linux-foundation.org':\n",
        "        if '[merged]' in subject_line:\n",
        "            return True\n",
        "\n",
        "    # syzbot - email format: syzbot-hash@syzkaller.appspotmail.com\n",
        "    if 'syzbot' in email_address and 'syzkaller.appspotmail.com' in email_address:\n",
        "        return True\n",
        "    \n",
        "    # Github Bot\n",
        "    if 'noreply@github.com' in email_address:\n",
        "        return True\n",
        "    \n",
        "    # Buildroot's daily results bot\n",
        "    if '[autobuild.buildroot.net] daily results' in subject_line or \\\n",
        "        'oe-core cve metrics' in subject_line:\n",
        "            return True\n",
        "    \n",
        "    return False"
      ],
      "metadata": {
        "id": "cLZfbIA0SpSh"
      },
      "execution_count": 15,
      "outputs": []
    },
    {
      "cell_type": "markdown",
      "source": [
        "### &#9759; NLP"
      ],
      "metadata": {
        "id": "AtCy7-vJRk1-"
      }
    },
    {
      "cell_type": "code",
      "source": [
        "def fkre_score(total_words: int, total_sentences: int, total_syllables: int) -> float:\n",
        "    \"\"\"Flesch Kincaid Reading Ease (FKRE) score\"\"\"\n",
        "\n",
        "    return round(206.835 - 1.015 * (total_words/total_sentences) - 84.6 * (total_syllables/total_words), 2)"
      ],
      "metadata": {
        "id": "l4esqDWQRoAX"
      },
      "execution_count": 16,
      "outputs": []
    },
    {
      "cell_type": "code",
      "source": [
        "def fkgl_score(total_words: int, total_sentences: int, total_syllables: int) -> float:\n",
        "    \"\"\"Flesch Kincaid Grade Level (FKGL) score\"\"\"\n",
        "\n",
        "    return round(0.39 * (total_words/total_sentences) + 11.8 * (total_syllables/total_words) - 15.59, 2)"
      ],
      "metadata": {
        "id": "3nfT281PRn4L"
      },
      "execution_count": 17,
      "outputs": []
    },
    {
      "cell_type": "code",
      "source": [
        "def count_syllables(word):\n",
        "    \"\"\"source: https://codereview.stackexchange.com/questions/224177/python-function-to-count-syllables-in-a-word\"\"\"\n",
        "    return len(\n",
        "        re.findall('(?!e$)[aeiouy]+', word, re.I) +\n",
        "        re.findall('^[^aeiouy]*e$', word, re.I)\n",
        "    )"
      ],
      "metadata": {
        "id": "RkDk1oa4R0Yp"
      },
      "execution_count": 18,
      "outputs": []
    },
    {
      "cell_type": "code",
      "source": [
        "def message_length(email_body: str) -> int:\n",
        "    return len(email_body.split(\"\\n\"))"
      ],
      "metadata": {
        "id": "tSjvkmeDR3fu"
      },
      "execution_count": 19,
      "outputs": []
    },
    {
      "cell_type": "code",
      "source": [
        "def text_to_spacy_nlp(email_body: str):\n",
        "    \"\"\"spacy nlp transformation\"\"\"\n",
        "    return nlp(email_body)"
      ],
      "metadata": {
        "id": "Nz-jg7v2R7OT"
      },
      "execution_count": 20,
      "outputs": []
    },
    {
      "cell_type": "code",
      "source": [
        "def sentence_count(spacy_txt):\n",
        "    \"\"\"calculate the number of sentences in an input text\n",
        "    pre-requisite: run text_to_spacy_nlp() on the original email body\n",
        "    \"\"\"\n",
        "    return len(list(spacy_txt.sents))"
      ],
      "metadata": {
        "id": "p4ctOo0cSAtd"
      },
      "execution_count": 21,
      "outputs": []
    },
    {
      "cell_type": "code",
      "source": [
        "def retrieve_words(spacy_txt):\n",
        "    return [token.text for token in spacy_txt if not token.is_punct]"
      ],
      "metadata": {
        "id": "6VAaXtWzSE6-"
      },
      "execution_count": 22,
      "outputs": []
    },
    {
      "cell_type": "code",
      "source": [
        "def word_count(spacy_txt):\n",
        "    \"\"\"calculate the number of words in an input text\n",
        "    pre-requisite: run text_to_spacy_nlp() on the original email body\n",
        "    \"\"\"\n",
        "    return len(retrieve_words(spacy_txt))"
      ],
      "metadata": {
        "id": "b17U98xoSIIa"
      },
      "execution_count": 23,
      "outputs": []
    },
    {
      "cell_type": "markdown",
      "source": [
        "## &#128272; Login"
      ],
      "metadata": {
        "id": "VgWxF-0CVEoJ"
      }
    },
    {
      "cell_type": "code",
      "source": [
        "signal.login()"
      ],
      "metadata": {
        "colab": {
          "base_uri": "https://localhost:8080/"
        },
        "id": "T3Yxx02UVHK3",
        "outputId": "b6e7859a-75e5-4a26-f93d-dc0b1b1fa0b2"
      },
      "execution_count": 24,
      "outputs": [
        {
          "name": "stdout",
          "output_type": "stream",
          "text": [
            "username?: ··········\n",
            "password?: ··········\n"
          ]
        },
        {
          "output_type": "execute_result",
          "data": {
            "text/plain": [
              "True"
            ]
          },
          "metadata": {},
          "execution_count": 24
        }
      ]
    },
    {
      "cell_type": "markdown",
      "source": [
        "## &#128722; Data"
      ],
      "metadata": {
        "id": "WJcBUDqgyu2V"
      }
    },
    {
      "cell_type": "code",
      "source": [],
      "metadata": {
        "id": "bQizcWWErC9Q"
      },
      "execution_count": null,
      "outputs": []
    },
    {
      "cell_type": "markdown",
      "source": [
        "### &#9759; Tables"
      ],
      "metadata": {
        "id": "rDlRXb7G0l0w"
      }
    },
    {
      "cell_type": "code",
      "source": [
        "TABLES_QUERY = \"SELECT * FROM information_schema.tables WHERE table_type='BASE TABLE';\""
      ],
      "metadata": {
        "id": "Iu5Eb1dQ0q0r"
      },
      "execution_count": 25,
      "outputs": []
    },
    {
      "cell_type": "code",
      "source": [
        "df_tables = signal.query_dataframe(TABLES_QUERY)"
      ],
      "metadata": {
        "id": "MA-wn1lk0yYD"
      },
      "execution_count": 26,
      "outputs": []
    },
    {
      "cell_type": "code",
      "source": [
        "table_names = df_tables.table_name.unique()"
      ],
      "metadata": {
        "id": "simEHVpW1vAH"
      },
      "execution_count": 27,
      "outputs": []
    },
    {
      "cell_type": "code",
      "source": [
        "print(f\"There are {len(table_names)} tables currently present in the SIGNAL database.\")"
      ],
      "metadata": {
        "colab": {
          "base_uri": "https://localhost:8080/"
        },
        "id": "eFLHvQGS1u7o",
        "outputId": "5dcda04f-d289-47bc-ca1d-a05e0cd46962"
      },
      "execution_count": 28,
      "outputs": [
        {
          "output_type": "stream",
          "name": "stdout",
          "text": [
            "There are 84 tables currently present in the SIGNAL database.\n"
          ]
        }
      ]
    },
    {
      "cell_type": "code",
      "source": [
        "df_tables.head()"
      ],
      "metadata": {
        "colab": {
          "base_uri": "https://localhost:8080/",
          "height": 206
        },
        "id": "bJ3ny5e21u4f",
        "outputId": "4917b2d8-d8ef-4f61-a728-337b78ca065e"
      },
      "execution_count": 29,
      "outputs": [
        {
          "output_type": "execute_result",
          "data": {
            "text/plain": [
              "  table_catalog table_schema            table_name  table_type  \\\n",
              "0        signal       public      scraped_projects  BASE TABLE   \n",
              "1        signal       public       scraped_patches  BASE TABLE   \n",
              "2        signal       public  scraped_patch_series  BASE TABLE   \n",
              "3        signal       public                  diff  BASE TABLE   \n",
              "4        signal       public                thread  BASE TABLE   \n",
              "\n",
              "  self_referencing_column_name reference_generation user_defined_type_catalog  \\\n",
              "0                         None                 None                      None   \n",
              "1                         None                 None                      None   \n",
              "2                         None                 None                      None   \n",
              "3                         None                 None                      None   \n",
              "4                         None                 None                      None   \n",
              "\n",
              "  user_defined_type_schema user_defined_type_name is_insertable_into is_typed  \\\n",
              "0                     None                   None                YES       NO   \n",
              "1                     None                   None                YES       NO   \n",
              "2                     None                   None                YES       NO   \n",
              "3                     None                   None                YES       NO   \n",
              "4                     None                   None                YES       NO   \n",
              "\n",
              "  commit_action  \n",
              "0          None  \n",
              "1          None  \n",
              "2          None  \n",
              "3          None  \n",
              "4          None  "
            ],
            "text/html": [
              "\n",
              "  <div id=\"df-bb5200e4-8ced-424d-89a4-2f1e93197691\">\n",
              "    <div class=\"colab-df-container\">\n",
              "      <div>\n",
              "<style scoped>\n",
              "    .dataframe tbody tr th:only-of-type {\n",
              "        vertical-align: middle;\n",
              "    }\n",
              "\n",
              "    .dataframe tbody tr th {\n",
              "        vertical-align: top;\n",
              "    }\n",
              "\n",
              "    .dataframe thead th {\n",
              "        text-align: right;\n",
              "    }\n",
              "</style>\n",
              "<table border=\"1\" class=\"dataframe\">\n",
              "  <thead>\n",
              "    <tr style=\"text-align: right;\">\n",
              "      <th></th>\n",
              "      <th>table_catalog</th>\n",
              "      <th>table_schema</th>\n",
              "      <th>table_name</th>\n",
              "      <th>table_type</th>\n",
              "      <th>self_referencing_column_name</th>\n",
              "      <th>reference_generation</th>\n",
              "      <th>user_defined_type_catalog</th>\n",
              "      <th>user_defined_type_schema</th>\n",
              "      <th>user_defined_type_name</th>\n",
              "      <th>is_insertable_into</th>\n",
              "      <th>is_typed</th>\n",
              "      <th>commit_action</th>\n",
              "    </tr>\n",
              "  </thead>\n",
              "  <tbody>\n",
              "    <tr>\n",
              "      <th>0</th>\n",
              "      <td>signal</td>\n",
              "      <td>public</td>\n",
              "      <td>scraped_projects</td>\n",
              "      <td>BASE TABLE</td>\n",
              "      <td>None</td>\n",
              "      <td>None</td>\n",
              "      <td>None</td>\n",
              "      <td>None</td>\n",
              "      <td>None</td>\n",
              "      <td>YES</td>\n",
              "      <td>NO</td>\n",
              "      <td>None</td>\n",
              "    </tr>\n",
              "    <tr>\n",
              "      <th>1</th>\n",
              "      <td>signal</td>\n",
              "      <td>public</td>\n",
              "      <td>scraped_patches</td>\n",
              "      <td>BASE TABLE</td>\n",
              "      <td>None</td>\n",
              "      <td>None</td>\n",
              "      <td>None</td>\n",
              "      <td>None</td>\n",
              "      <td>None</td>\n",
              "      <td>YES</td>\n",
              "      <td>NO</td>\n",
              "      <td>None</td>\n",
              "    </tr>\n",
              "    <tr>\n",
              "      <th>2</th>\n",
              "      <td>signal</td>\n",
              "      <td>public</td>\n",
              "      <td>scraped_patch_series</td>\n",
              "      <td>BASE TABLE</td>\n",
              "      <td>None</td>\n",
              "      <td>None</td>\n",
              "      <td>None</td>\n",
              "      <td>None</td>\n",
              "      <td>None</td>\n",
              "      <td>YES</td>\n",
              "      <td>NO</td>\n",
              "      <td>None</td>\n",
              "    </tr>\n",
              "    <tr>\n",
              "      <th>3</th>\n",
              "      <td>signal</td>\n",
              "      <td>public</td>\n",
              "      <td>diff</td>\n",
              "      <td>BASE TABLE</td>\n",
              "      <td>None</td>\n",
              "      <td>None</td>\n",
              "      <td>None</td>\n",
              "      <td>None</td>\n",
              "      <td>None</td>\n",
              "      <td>YES</td>\n",
              "      <td>NO</td>\n",
              "      <td>None</td>\n",
              "    </tr>\n",
              "    <tr>\n",
              "      <th>4</th>\n",
              "      <td>signal</td>\n",
              "      <td>public</td>\n",
              "      <td>thread</td>\n",
              "      <td>BASE TABLE</td>\n",
              "      <td>None</td>\n",
              "      <td>None</td>\n",
              "      <td>None</td>\n",
              "      <td>None</td>\n",
              "      <td>None</td>\n",
              "      <td>YES</td>\n",
              "      <td>NO</td>\n",
              "      <td>None</td>\n",
              "    </tr>\n",
              "  </tbody>\n",
              "</table>\n",
              "</div>\n",
              "      <button class=\"colab-df-convert\" onclick=\"convertToInteractive('df-bb5200e4-8ced-424d-89a4-2f1e93197691')\"\n",
              "              title=\"Convert this dataframe to an interactive table.\"\n",
              "              style=\"display:none;\">\n",
              "        \n",
              "  <svg xmlns=\"http://www.w3.org/2000/svg\" height=\"24px\"viewBox=\"0 0 24 24\"\n",
              "       width=\"24px\">\n",
              "    <path d=\"M0 0h24v24H0V0z\" fill=\"none\"/>\n",
              "    <path d=\"M18.56 5.44l.94 2.06.94-2.06 2.06-.94-2.06-.94-.94-2.06-.94 2.06-2.06.94zm-11 1L8.5 8.5l.94-2.06 2.06-.94-2.06-.94L8.5 2.5l-.94 2.06-2.06.94zm10 10l.94 2.06.94-2.06 2.06-.94-2.06-.94-.94-2.06-.94 2.06-2.06.94z\"/><path d=\"M17.41 7.96l-1.37-1.37c-.4-.4-.92-.59-1.43-.59-.52 0-1.04.2-1.43.59L10.3 9.45l-7.72 7.72c-.78.78-.78 2.05 0 2.83L4 21.41c.39.39.9.59 1.41.59.51 0 1.02-.2 1.41-.59l7.78-7.78 2.81-2.81c.8-.78.8-2.07 0-2.86zM5.41 20L4 18.59l7.72-7.72 1.47 1.35L5.41 20z\"/>\n",
              "  </svg>\n",
              "      </button>\n",
              "      \n",
              "  <style>\n",
              "    .colab-df-container {\n",
              "      display:flex;\n",
              "      flex-wrap:wrap;\n",
              "      gap: 12px;\n",
              "    }\n",
              "\n",
              "    .colab-df-convert {\n",
              "      background-color: #E8F0FE;\n",
              "      border: none;\n",
              "      border-radius: 50%;\n",
              "      cursor: pointer;\n",
              "      display: none;\n",
              "      fill: #1967D2;\n",
              "      height: 32px;\n",
              "      padding: 0 0 0 0;\n",
              "      width: 32px;\n",
              "    }\n",
              "\n",
              "    .colab-df-convert:hover {\n",
              "      background-color: #E2EBFA;\n",
              "      box-shadow: 0px 1px 2px rgba(60, 64, 67, 0.3), 0px 1px 3px 1px rgba(60, 64, 67, 0.15);\n",
              "      fill: #174EA6;\n",
              "    }\n",
              "\n",
              "    [theme=dark] .colab-df-convert {\n",
              "      background-color: #3B4455;\n",
              "      fill: #D2E3FC;\n",
              "    }\n",
              "\n",
              "    [theme=dark] .colab-df-convert:hover {\n",
              "      background-color: #434B5C;\n",
              "      box-shadow: 0px 1px 3px 1px rgba(0, 0, 0, 0.15);\n",
              "      filter: drop-shadow(0px 1px 2px rgba(0, 0, 0, 0.3));\n",
              "      fill: #FFFFFF;\n",
              "    }\n",
              "  </style>\n",
              "\n",
              "      <script>\n",
              "        const buttonEl =\n",
              "          document.querySelector('#df-bb5200e4-8ced-424d-89a4-2f1e93197691 button.colab-df-convert');\n",
              "        buttonEl.style.display =\n",
              "          google.colab.kernel.accessAllowed ? 'block' : 'none';\n",
              "\n",
              "        async function convertToInteractive(key) {\n",
              "          const element = document.querySelector('#df-bb5200e4-8ced-424d-89a4-2f1e93197691');\n",
              "          const dataTable =\n",
              "            await google.colab.kernel.invokeFunction('convertToInteractive',\n",
              "                                                     [key], {});\n",
              "          if (!dataTable) return;\n",
              "\n",
              "          const docLinkHtml = 'Like what you see? Visit the ' +\n",
              "            '<a target=\"_blank\" href=https://colab.research.google.com/notebooks/data_table.ipynb>data table notebook</a>'\n",
              "            + ' to learn more about interactive tables.';\n",
              "          element.innerHTML = '';\n",
              "          dataTable['output_type'] = 'display_data';\n",
              "          await google.colab.output.renderOutput(dataTable, element);\n",
              "          const docLink = document.createElement('div');\n",
              "          docLink.innerHTML = docLinkHtml;\n",
              "          element.appendChild(docLink);\n",
              "        }\n",
              "      </script>\n",
              "    </div>\n",
              "  </div>\n",
              "  "
            ]
          },
          "metadata": {},
          "execution_count": 29
        }
      ]
    },
    {
      "cell_type": "code",
      "source": [
        "table_names"
      ],
      "metadata": {
        "id": "fDIf58l1_xhA",
        "outputId": "b742355b-dfa2-44ed-d941-a28a70bf103d",
        "colab": {
          "base_uri": "https://localhost:8080/"
        }
      },
      "execution_count": 30,
      "outputs": [
        {
          "output_type": "execute_result",
          "data": {
            "text/plain": [
              "array(['scraped_projects', 'scraped_patches', 'scraped_patch_series',\n",
              "       'diff', 'thread', 'email', 'pg_statistic', 'pg_type',\n",
              "       'alembic_version', 'api_key', 'pg_foreign_table', 'pg_authid',\n",
              "       'signal_history', 'pg_statistic_ext_data', 'git_repos',\n",
              "       'git_commits', 'user_identities', 'person',\n",
              "       'scraped_patch_submitters', 'mailing_list', 'git_sigs',\n",
              "       'pg_user_mapping', 'pg_subscription', 'pg_attribute', 'pg_proc',\n",
              "       'pg_class', 'pg_attrdef', 'pg_constraint', 'pg_inherits',\n",
              "       'pg_index', 'pg_operator', 'pg_opfamily', 'pg_opclass', 'pg_am',\n",
              "       'pg_amop', 'pg_amproc', 'pg_language', 'pg_largeobject_metadata',\n",
              "       'pg_aggregate', 'pg_statistic_ext', 'pg_rewrite', 'pg_trigger',\n",
              "       'pg_event_trigger', 'pg_description', 'pg_cast', 'pg_enum',\n",
              "       'pg_namespace', 'pg_conversion', 'pg_depend', 'pg_database',\n",
              "       'pg_db_role_setting', 'pg_tablespace', 'pg_auth_members',\n",
              "       'pg_shdepend', 'pg_shdescription', 'pg_ts_config',\n",
              "       'pg_ts_config_map', 'pg_ts_dict', 'pg_ts_parser', 'pg_ts_template',\n",
              "       'pg_extension', 'pg_foreign_data_wrapper', 'pg_foreign_server',\n",
              "       'pg_policy', 'pg_replication_origin', 'pg_default_acl',\n",
              "       'pg_init_privs', 'pg_seclabel', 'pg_shseclabel', 'pg_collation',\n",
              "       'pg_partitioned_table', 'pg_range', 'pg_transform', 'pg_sequence',\n",
              "       'pg_publication', 'pg_publication_rel', 'pg_subscription_rel',\n",
              "       'pg_largeobject', 'git_xrefs', 'sql_parts',\n",
              "       'sql_implementation_info', 'sql_features', 'sql_sizing',\n",
              "       'patchwork_person_id'], dtype=object)"
            ]
          },
          "metadata": {},
          "execution_count": 30
        }
      ]
    },
    {
      "cell_type": "markdown",
      "source": [
        "### &#9759; Email Data"
      ],
      "metadata": {
        "id": "gjrd9zuB0Spe"
      }
    },
    {
      "cell_type": "code",
      "source": [
        "START_DATE = datetime(2020, 8, 1)\n",
        "END_DATE = datetime(2020, 8, 2)"
      ],
      "metadata": {
        "id": "7CjU1mWI0Ysa"
      },
      "execution_count": 31,
      "outputs": []
    },
    {
      "cell_type": "code",
      "source": [
        "df_email = signal.query_dataframe(f\"SELECT * FROM email WHERE timestamp_sent > {START_DATE.timestamp()} and timestamp_sent < {END_DATE.timestamp()};\")"
      ],
      "metadata": {
        "id": "RWMyJ1JFWQ5B"
      },
      "execution_count": 32,
      "outputs": []
    },
    {
      "cell_type": "code",
      "source": [
        "df_email.info()"
      ],
      "metadata": {
        "colab": {
          "base_uri": "https://localhost:8080/"
        },
        "id": "cPN1ckzUWamU",
        "outputId": "18360243-1ab6-4500-a186-dea20099f36d"
      },
      "execution_count": 33,
      "outputs": [
        {
          "output_type": "stream",
          "name": "stdout",
          "text": [
            "<class 'pandas.core.frame.DataFrame'>\n",
            "RangeIndex: 276 entries, 0 to 275\n",
            "Data columns (total 15 columns):\n",
            " #   Column               Non-Null Count  Dtype \n",
            "---  ------               --------------  ----- \n",
            " 0   id                   276 non-null    int64 \n",
            " 1   url                  276 non-null    object\n",
            " 2   mailing_list_id      276 non-null    int64 \n",
            " 3   email_id             276 non-null    object\n",
            " 4   message_id           276 non-null    object\n",
            " 5   reply_to_url         112 non-null    object\n",
            " 6   author_id            276 non-null    int64 \n",
            " 7   timestamp_sent       276 non-null    int64 \n",
            " 8   timestamp_recv       276 non-null    int64 \n",
            " 9   subject              276 non-null    object\n",
            " 10  body                 276 non-null    object\n",
            " 11  clean_body           276 non-null    object\n",
            " 12  thread_id            276 non-null    object\n",
            " 13  persuasion           276 non-null    object\n",
            " 14  reply_to_message_id  276 non-null    object\n",
            "dtypes: int64(5), object(10)\n",
            "memory usage: 32.5+ KB\n"
          ]
        }
      ]
    },
    {
      "cell_type": "code",
      "source": [
        "df_email.head()"
      ],
      "metadata": {
        "colab": {
          "base_uri": "https://localhost:8080/",
          "height": 600
        },
        "id": "nL6s1P7nWb99",
        "outputId": "51a47ff9-3861-42a5-c0bf-20cb709b4a1c"
      },
      "execution_count": 34,
      "outputs": [
        {
          "output_type": "execute_result",
          "data": {
            "text/plain": [
              "   id                                                url  mailing_list_id  \\\n",
              "0  59  https://lkml.iu.edu/hypermail/linux/kernel/200...                1   \n",
              "1  34  https://lkml.iu.edu/hypermail/linux/kernel/200...                1   \n",
              "2  35  https://lkml.iu.edu/hypermail/linux/kernel/200...                1   \n",
              "3  39  https://lkml.iu.edu/hypermail/linux/kernel/200...                1   \n",
              "4  40  https://lkml.iu.edu/hypermail/linux/kernel/200...                1   \n",
              "\n",
              "          email_id                               message_id  \\\n",
              "0   20200801175938  20200801215806.2659-1-cengiz@kernel.wtf   \n",
              "1   20200801021814           202007312237.4F385EB3@keescook   \n",
              "2   20200801021841      202008011403.PtFkHpqE%lkp@intel.com   \n",
              "3  202008010218140      202008011419.67BkWnAl%lkp@intel.com   \n",
              "4   20200801053958             s5h7dui902e.wl-tiwai@suse.de   \n",
              "\n",
              "                                        reply_to_url  author_id  \\\n",
              "0                                               None         35   \n",
              "1                                               None         23   \n",
              "2  https://lkml.iu.edu/hypermail/linux/kernel/200...         24   \n",
              "3                                               None         24   \n",
              "4  https://lkml.iu.edu/hypermail/linux/kernel/200...          3   \n",
              "\n",
              "   timestamp_sent  timestamp_recv  \\\n",
              "0      1596319178      1596322778   \n",
              "1      1596262694      1596266294   \n",
              "2      1596262721      1596266321   \n",
              "3      1596262694      1596266294   \n",
              "4      1596274798      1596278398   \n",
              "\n",
              "                                             subject  \\\n",
              "0  [PATCH v5] staging: atomisp: move null check t...   \n",
              "1  Re: [PATCH v5 13/36] vmlinux.lds.h: add PGO an...   \n",
              "2  Re: [PATCH v3 21/23] device-dax: Add an 'align...   \n",
              "3  Re: [PATCH v3 21/23] device-dax: Add an 'align...   \n",
              "4  Re: [PATCH] ALSA: seq: KASAN: use-after-free R...   \n",
              "\n",
              "                                                body  \\\n",
              "0  `find_gmin_subdev()` that returns a pointer to...   \n",
              "1  On Fri, Jul 31, 2020 at 11:51:28PM -0400, Arvi...   \n",
              "2  Hi Dan,\\n\\nThank you for the patch! Yet someth...   \n",
              "3  Hi Dan,\\n\\nThank you for the patch! Yet someth...   \n",
              "4  On Sat, 01 Aug 2020 08:24:03 +0200,\\n<qiang.zh...   \n",
              "\n",
              "                                          clean_body  \\\n",
              "0  `find_gmin_subdev()` that returns a pointer to...   \n",
              "1  On Fri, Jul 31, 2020 at 11:51:28PM -0400, Arvi...   \n",
              "2  Hi Dan,\\n\\nThank you for the patch! Yet someth...   \n",
              "3  Hi Dan,\\n\\nThank you for the patch! Yet someth...   \n",
              "4  On Sat, 01 Aug 2020 08:24:03 +0200,\\n<qiang.zh...   \n",
              "\n",
              "                                           thread_id persuasion  \\\n",
              "0        20200731083856.GF3703480@smile.fi.intel.com    Unknown   \n",
              "1     20200731230820.1742553-1-keescook@chromium.org    Unknown   \n",
              "2  159625241660.3040297.3801913809845542130.stgit...    Unknown   \n",
              "3  159625241660.3040297.3801913809845542130.stgit...    Unknown   \n",
              "4    20200801062403.8005-1-qiang.zhang@windriver.com    Unknown   \n",
              "\n",
              "                                 reply_to_message_id  \n",
              "0        20200731083856.GF3703480@smile.fi.intel.com  \n",
              "1        20200801035128.GB2800311@rani.riverdale.lan  \n",
              "2  159625241660.3040297.3801913809845542130.stgit...  \n",
              "3  159625241660.3040297.3801913809845542130.stgit...  \n",
              "4    20200801062403.8005-1-qiang.zhang@windriver.com  "
            ],
            "text/html": [
              "\n",
              "  <div id=\"df-275514b8-1286-4ac6-bbb8-02fdf0c615c9\">\n",
              "    <div class=\"colab-df-container\">\n",
              "      <div>\n",
              "<style scoped>\n",
              "    .dataframe tbody tr th:only-of-type {\n",
              "        vertical-align: middle;\n",
              "    }\n",
              "\n",
              "    .dataframe tbody tr th {\n",
              "        vertical-align: top;\n",
              "    }\n",
              "\n",
              "    .dataframe thead th {\n",
              "        text-align: right;\n",
              "    }\n",
              "</style>\n",
              "<table border=\"1\" class=\"dataframe\">\n",
              "  <thead>\n",
              "    <tr style=\"text-align: right;\">\n",
              "      <th></th>\n",
              "      <th>id</th>\n",
              "      <th>url</th>\n",
              "      <th>mailing_list_id</th>\n",
              "      <th>email_id</th>\n",
              "      <th>message_id</th>\n",
              "      <th>reply_to_url</th>\n",
              "      <th>author_id</th>\n",
              "      <th>timestamp_sent</th>\n",
              "      <th>timestamp_recv</th>\n",
              "      <th>subject</th>\n",
              "      <th>body</th>\n",
              "      <th>clean_body</th>\n",
              "      <th>thread_id</th>\n",
              "      <th>persuasion</th>\n",
              "      <th>reply_to_message_id</th>\n",
              "    </tr>\n",
              "  </thead>\n",
              "  <tbody>\n",
              "    <tr>\n",
              "      <th>0</th>\n",
              "      <td>59</td>\n",
              "      <td>https://lkml.iu.edu/hypermail/linux/kernel/200...</td>\n",
              "      <td>1</td>\n",
              "      <td>20200801175938</td>\n",
              "      <td>20200801215806.2659-1-cengiz@kernel.wtf</td>\n",
              "      <td>None</td>\n",
              "      <td>35</td>\n",
              "      <td>1596319178</td>\n",
              "      <td>1596322778</td>\n",
              "      <td>[PATCH v5] staging: atomisp: move null check t...</td>\n",
              "      <td>`find_gmin_subdev()` that returns a pointer to...</td>\n",
              "      <td>`find_gmin_subdev()` that returns a pointer to...</td>\n",
              "      <td>20200731083856.GF3703480@smile.fi.intel.com</td>\n",
              "      <td>Unknown</td>\n",
              "      <td>20200731083856.GF3703480@smile.fi.intel.com</td>\n",
              "    </tr>\n",
              "    <tr>\n",
              "      <th>1</th>\n",
              "      <td>34</td>\n",
              "      <td>https://lkml.iu.edu/hypermail/linux/kernel/200...</td>\n",
              "      <td>1</td>\n",
              "      <td>20200801021814</td>\n",
              "      <td>202007312237.4F385EB3@keescook</td>\n",
              "      <td>None</td>\n",
              "      <td>23</td>\n",
              "      <td>1596262694</td>\n",
              "      <td>1596266294</td>\n",
              "      <td>Re: [PATCH v5 13/36] vmlinux.lds.h: add PGO an...</td>\n",
              "      <td>On Fri, Jul 31, 2020 at 11:51:28PM -0400, Arvi...</td>\n",
              "      <td>On Fri, Jul 31, 2020 at 11:51:28PM -0400, Arvi...</td>\n",
              "      <td>20200731230820.1742553-1-keescook@chromium.org</td>\n",
              "      <td>Unknown</td>\n",
              "      <td>20200801035128.GB2800311@rani.riverdale.lan</td>\n",
              "    </tr>\n",
              "    <tr>\n",
              "      <th>2</th>\n",
              "      <td>35</td>\n",
              "      <td>https://lkml.iu.edu/hypermail/linux/kernel/200...</td>\n",
              "      <td>1</td>\n",
              "      <td>20200801021841</td>\n",
              "      <td>202008011403.PtFkHpqE%lkp@intel.com</td>\n",
              "      <td>https://lkml.iu.edu/hypermail/linux/kernel/200...</td>\n",
              "      <td>24</td>\n",
              "      <td>1596262721</td>\n",
              "      <td>1596266321</td>\n",
              "      <td>Re: [PATCH v3 21/23] device-dax: Add an 'align...</td>\n",
              "      <td>Hi Dan,\\n\\nThank you for the patch! Yet someth...</td>\n",
              "      <td>Hi Dan,\\n\\nThank you for the patch! Yet someth...</td>\n",
              "      <td>159625241660.3040297.3801913809845542130.stgit...</td>\n",
              "      <td>Unknown</td>\n",
              "      <td>159625241660.3040297.3801913809845542130.stgit...</td>\n",
              "    </tr>\n",
              "    <tr>\n",
              "      <th>3</th>\n",
              "      <td>39</td>\n",
              "      <td>https://lkml.iu.edu/hypermail/linux/kernel/200...</td>\n",
              "      <td>1</td>\n",
              "      <td>202008010218140</td>\n",
              "      <td>202008011419.67BkWnAl%lkp@intel.com</td>\n",
              "      <td>None</td>\n",
              "      <td>24</td>\n",
              "      <td>1596262694</td>\n",
              "      <td>1596266294</td>\n",
              "      <td>Re: [PATCH v3 21/23] device-dax: Add an 'align...</td>\n",
              "      <td>Hi Dan,\\n\\nThank you for the patch! Yet someth...</td>\n",
              "      <td>Hi Dan,\\n\\nThank you for the patch! Yet someth...</td>\n",
              "      <td>159625241660.3040297.3801913809845542130.stgit...</td>\n",
              "      <td>Unknown</td>\n",
              "      <td>159625241660.3040297.3801913809845542130.stgit...</td>\n",
              "    </tr>\n",
              "    <tr>\n",
              "      <th>4</th>\n",
              "      <td>40</td>\n",
              "      <td>https://lkml.iu.edu/hypermail/linux/kernel/200...</td>\n",
              "      <td>1</td>\n",
              "      <td>20200801053958</td>\n",
              "      <td>s5h7dui902e.wl-tiwai@suse.de</td>\n",
              "      <td>https://lkml.iu.edu/hypermail/linux/kernel/200...</td>\n",
              "      <td>3</td>\n",
              "      <td>1596274798</td>\n",
              "      <td>1596278398</td>\n",
              "      <td>Re: [PATCH] ALSA: seq: KASAN: use-after-free R...</td>\n",
              "      <td>On Sat, 01 Aug 2020 08:24:03 +0200,\\n&lt;qiang.zh...</td>\n",
              "      <td>On Sat, 01 Aug 2020 08:24:03 +0200,\\n&lt;qiang.zh...</td>\n",
              "      <td>20200801062403.8005-1-qiang.zhang@windriver.com</td>\n",
              "      <td>Unknown</td>\n",
              "      <td>20200801062403.8005-1-qiang.zhang@windriver.com</td>\n",
              "    </tr>\n",
              "  </tbody>\n",
              "</table>\n",
              "</div>\n",
              "      <button class=\"colab-df-convert\" onclick=\"convertToInteractive('df-275514b8-1286-4ac6-bbb8-02fdf0c615c9')\"\n",
              "              title=\"Convert this dataframe to an interactive table.\"\n",
              "              style=\"display:none;\">\n",
              "        \n",
              "  <svg xmlns=\"http://www.w3.org/2000/svg\" height=\"24px\"viewBox=\"0 0 24 24\"\n",
              "       width=\"24px\">\n",
              "    <path d=\"M0 0h24v24H0V0z\" fill=\"none\"/>\n",
              "    <path d=\"M18.56 5.44l.94 2.06.94-2.06 2.06-.94-2.06-.94-.94-2.06-.94 2.06-2.06.94zm-11 1L8.5 8.5l.94-2.06 2.06-.94-2.06-.94L8.5 2.5l-.94 2.06-2.06.94zm10 10l.94 2.06.94-2.06 2.06-.94-2.06-.94-.94-2.06-.94 2.06-2.06.94z\"/><path d=\"M17.41 7.96l-1.37-1.37c-.4-.4-.92-.59-1.43-.59-.52 0-1.04.2-1.43.59L10.3 9.45l-7.72 7.72c-.78.78-.78 2.05 0 2.83L4 21.41c.39.39.9.59 1.41.59.51 0 1.02-.2 1.41-.59l7.78-7.78 2.81-2.81c.8-.78.8-2.07 0-2.86zM5.41 20L4 18.59l7.72-7.72 1.47 1.35L5.41 20z\"/>\n",
              "  </svg>\n",
              "      </button>\n",
              "      \n",
              "  <style>\n",
              "    .colab-df-container {\n",
              "      display:flex;\n",
              "      flex-wrap:wrap;\n",
              "      gap: 12px;\n",
              "    }\n",
              "\n",
              "    .colab-df-convert {\n",
              "      background-color: #E8F0FE;\n",
              "      border: none;\n",
              "      border-radius: 50%;\n",
              "      cursor: pointer;\n",
              "      display: none;\n",
              "      fill: #1967D2;\n",
              "      height: 32px;\n",
              "      padding: 0 0 0 0;\n",
              "      width: 32px;\n",
              "    }\n",
              "\n",
              "    .colab-df-convert:hover {\n",
              "      background-color: #E2EBFA;\n",
              "      box-shadow: 0px 1px 2px rgba(60, 64, 67, 0.3), 0px 1px 3px 1px rgba(60, 64, 67, 0.15);\n",
              "      fill: #174EA6;\n",
              "    }\n",
              "\n",
              "    [theme=dark] .colab-df-convert {\n",
              "      background-color: #3B4455;\n",
              "      fill: #D2E3FC;\n",
              "    }\n",
              "\n",
              "    [theme=dark] .colab-df-convert:hover {\n",
              "      background-color: #434B5C;\n",
              "      box-shadow: 0px 1px 3px 1px rgba(0, 0, 0, 0.15);\n",
              "      filter: drop-shadow(0px 1px 2px rgba(0, 0, 0, 0.3));\n",
              "      fill: #FFFFFF;\n",
              "    }\n",
              "  </style>\n",
              "\n",
              "      <script>\n",
              "        const buttonEl =\n",
              "          document.querySelector('#df-275514b8-1286-4ac6-bbb8-02fdf0c615c9 button.colab-df-convert');\n",
              "        buttonEl.style.display =\n",
              "          google.colab.kernel.accessAllowed ? 'block' : 'none';\n",
              "\n",
              "        async function convertToInteractive(key) {\n",
              "          const element = document.querySelector('#df-275514b8-1286-4ac6-bbb8-02fdf0c615c9');\n",
              "          const dataTable =\n",
              "            await google.colab.kernel.invokeFunction('convertToInteractive',\n",
              "                                                     [key], {});\n",
              "          if (!dataTable) return;\n",
              "\n",
              "          const docLinkHtml = 'Like what you see? Visit the ' +\n",
              "            '<a target=\"_blank\" href=https://colab.research.google.com/notebooks/data_table.ipynb>data table notebook</a>'\n",
              "            + ' to learn more about interactive tables.';\n",
              "          element.innerHTML = '';\n",
              "          dataTable['output_type'] = 'display_data';\n",
              "          await google.colab.output.renderOutput(dataTable, element);\n",
              "          const docLink = document.createElement('div');\n",
              "          docLink.innerHTML = docLinkHtml;\n",
              "          element.appendChild(docLink);\n",
              "        }\n",
              "      </script>\n",
              "    </div>\n",
              "  </div>\n",
              "  "
            ]
          },
          "metadata": {},
          "execution_count": 34
        }
      ]
    },
    {
      "cell_type": "code",
      "source": [
        "total_email_records = get_record_count(table_name='email')\n",
        "print(f\"In total, there are {total_email_records:,} email records in the database.\")"
      ],
      "metadata": {
        "colab": {
          "base_uri": "https://localhost:8080/"
        },
        "id": "XyoKEdbL9LXb",
        "outputId": "d096270a-a47a-42c8-c26d-120d261420b5"
      },
      "execution_count": 35,
      "outputs": [
        {
          "output_type": "stream",
          "name": "stdout",
          "text": [
            "In total, there are 73,069 email records in the database.\n"
          ]
        }
      ]
    },
    {
      "cell_type": "markdown",
      "source": [
        "### &#9759; Patches Data"
      ],
      "metadata": {
        "id": "fbWarhXhy0ob"
      }
    },
    {
      "cell_type": "code",
      "source": [
        "total_patch_records = get_record_count(table_name='scraped_patches')\n",
        "print(f\"In total, there are {total_patch_records:,} patch records in the database.\")"
      ],
      "metadata": {
        "colab": {
          "base_uri": "https://localhost:8080/"
        },
        "id": "IvTknH-ay7Pw",
        "outputId": "a2399c10-9db1-49d6-cbd1-4bbf89d77e29"
      },
      "execution_count": 40,
      "outputs": [
        {
          "output_type": "stream",
          "name": "stdout",
          "text": [
            "In total, there are 0 patch records in the database.\n"
          ]
        }
      ]
    },
    {
      "cell_type": "code",
      "source": [
        "df_patches = signal.query_dataframe(f\"SELECT * FROM scraped_patches;\")"
      ],
      "metadata": {
        "id": "cNdyDBNuy7JR"
      },
      "execution_count": 37,
      "outputs": []
    },
    {
      "cell_type": "code",
      "source": [
        "df_patches.info()"
      ],
      "metadata": {
        "colab": {
          "base_uri": "https://localhost:8080/"
        },
        "id": "3aBLpbIHy7Aj",
        "outputId": "71a93c1f-2a14-4209-9321-aa1833ca61ae"
      },
      "execution_count": 38,
      "outputs": [
        {
          "output_type": "stream",
          "name": "stdout",
          "text": [
            "<class 'pandas.core.frame.DataFrame'>\n",
            "Index: 0 entries\n",
            "Data columns (total 16 columns):\n",
            " #   Column         Non-Null Count  Dtype \n",
            "---  ------         --------------  ----- \n",
            " 0   id             0 non-null      object\n",
            " 1   project_id     0 non-null      object\n",
            " 2   patch_id       0 non-null      object\n",
            " 3   mail_id        0 non-null      object\n",
            " 4   name           0 non-null      object\n",
            " 5   series_id      0 non-null      object\n",
            " 6   ack_count      0 non-null      object\n",
            " 7   review_count   0 non-null      object\n",
            " 8   tested_count   0 non-null      object\n",
            " 9   success_count  0 non-null      object\n",
            " 10  warning_count  0 non-null      object\n",
            " 11  fail_count     0 non-null      object\n",
            " 12  date           0 non-null      object\n",
            " 13  submitter_id   0 non-null      object\n",
            " 14  delegate       0 non-null      object\n",
            " 15  state          0 non-null      object\n",
            "dtypes: object(16)\n",
            "memory usage: 0.0+ bytes\n"
          ]
        }
      ]
    },
    {
      "cell_type": "code",
      "source": [
        "# patch data\n",
        "patches_data_file = utils.gdrive.get_dataset(dataset_name='lkml_email_patches_data.zip', is_local_file=False, name2gdid=DATA_DICT)"
      ],
      "metadata": {
        "id": "0Bik_Nrdycuq"
      },
      "execution_count": 33,
      "outputs": []
    },
    {
      "cell_type": "code",
      "source": [
        "patches_data_file"
      ],
      "metadata": {
        "colab": {
          "base_uri": "https://localhost:8080/",
          "height": 35
        },
        "id": "Zl2CEzJrzQJG",
        "outputId": "c050cfbb-84f9-45dd-a4a0-96998add24b2"
      },
      "execution_count": 36,
      "outputs": [
        {
          "output_type": "execute_result",
          "data": {
            "text/plain": [
              "'/content/funcs/lkml_email_patches_data.zip'"
            ],
            "application/vnd.google.colaboratory.intrinsic+json": {
              "type": "string"
            }
          },
          "metadata": {},
          "execution_count": 36
        }
      ]
    },
    {
      "cell_type": "code",
      "source": [
        "with zipfile.ZipFile(f'{patches_data_file}', 'r') as lk_data:\n",
        "    lk_data.extractall('./lkml_data')"
      ],
      "metadata": {
        "id": "cgqZUp0m1B2c"
      },
      "execution_count": 37,
      "outputs": []
    },
    {
      "cell_type": "code",
      "source": [
        "path_patches_data = os.path.join(os.getcwd(), 'lkml_data', 'lkml_email_patches_data', 'lkmlByPatches.csv')\n",
        "path_patches_data"
      ],
      "metadata": {
        "colab": {
          "base_uri": "https://localhost:8080/",
          "height": 35
        },
        "id": "B4gvR9Y61ByX",
        "outputId": "9fed010c-8f0b-44bf-8131-03afef4f75f7"
      },
      "execution_count": 39,
      "outputs": [
        {
          "output_type": "execute_result",
          "data": {
            "text/plain": [
              "'/content/funcs/lkml_data/lkml_email_patches_data/lkmlByPatches.csv'"
            ],
            "application/vnd.google.colaboratory.intrinsic+json": {
              "type": "string"
            }
          },
          "metadata": {},
          "execution_count": 39
        }
      ]
    },
    {
      "cell_type": "code",
      "source": [
        "df_lkmlby_patches = pd.read_csv(path_patches_data)"
      ],
      "metadata": {
        "id": "dLgZ7TXk1Bu5"
      },
      "execution_count": 40,
      "outputs": []
    },
    {
      "cell_type": "code",
      "source": [
        "df_lkmlby_patches.info()"
      ],
      "metadata": {
        "colab": {
          "base_uri": "https://localhost:8080/"
        },
        "id": "i_T7oU2I2Tmu",
        "outputId": "effd12c0-5a4e-4bda-c0a5-5ab8c1aa6acf"
      },
      "execution_count": 41,
      "outputs": [
        {
          "output_type": "stream",
          "name": "stdout",
          "text": [
            "<class 'pandas.core.frame.DataFrame'>\n",
            "RangeIndex: 130864 entries, 0 to 130863\n",
            "Data columns (total 10 columns):\n",
            " #   Column     Non-Null Count   Dtype  \n",
            "---  ------     --------------   -----  \n",
            " 0   id         130864 non-null  int64  \n",
            " 1   project    130864 non-null  object \n",
            " 2   date       130864 non-null  float64\n",
            " 3   filename   130861 non-null  object \n",
            " 4   msgid      130864 non-null  object \n",
            " 5   name       130861 non-null  object \n",
            " 6   state      130864 non-null  object \n",
            " 7   submitter  130864 non-null  object \n",
            " 8   commit     61482 non-null   object \n",
            " 9   hash       128369 non-null  object \n",
            "dtypes: float64(1), int64(1), object(8)\n",
            "memory usage: 10.0+ MB\n"
          ]
        }
      ]
    },
    {
      "cell_type": "code",
      "source": [
        "df_lkmlby_patches.head()"
      ],
      "metadata": {
        "colab": {
          "base_uri": "https://localhost:8080/",
          "height": 337
        },
        "id": "8E6Y58WP2TkJ",
        "outputId": "ee2ec0d9-f5e1-4888-c872-4399f8c8405e"
      },
      "execution_count": 42,
      "outputs": [
        {
          "output_type": "execute_result",
          "data": {
            "text/plain": [
              "         id                      project                   date  \\\n",
              "0  11052191  Linux Wireless Mailing List 1,563,820,390.00000000   \n",
              "1  11052195  Linux Wireless Mailing List 1,563,820,392.00000000   \n",
              "2  11117603  Linux Wireless Mailing List 1,566,970,879.00000000   \n",
              "3  11117605  Linux Wireless Mailing List 1,566,970,880.00000000   \n",
              "4  11119923  Linux Wireless Mailing List 1,567,051,870.00000000   \n",
              "\n",
              "                                            filename  \\\n",
              "0  v4-1-3-nl80211-Update-uapi-for-CMD_FRAME_WAIT_...   \n",
              "1  v4-3-3-nl80211-Include-wiphy-address-setup-in-...   \n",
              "2  1-2-mac80211-Don-t-memset-RXCB-prior-to-PAE-in...   \n",
              "3  2-2-mac80211-Correctly-set-noencrypt-for-PAE-f...   \n",
              "4  cfg80211-Purge-frame-registrations-on-iftype-c...   \n",
              "\n",
              "                                        msgid  \\\n",
              "0  <20190722113312.14031-1-denkenz@gmail.com>   \n",
              "1  <20190722113312.14031-3-denkenz@gmail.com>   \n",
              "2  <20190827224120.14545-2-denkenz@gmail.com>   \n",
              "3  <20190827224120.14545-3-denkenz@gmail.com>   \n",
              "4  <20190828211110.15005-1-denkenz@gmail.com>   \n",
              "\n",
              "                                                name     state  \\\n",
              "0  [v4,1/3] nl80211: Update uapi for CMD_FRAME_WA...  Accepted   \n",
              "1  [v4,3/3] nl80211: Include wiphy address setup ...  Accepted   \n",
              "2  [1/2] mac80211: Don't memset RXCB prior to PAE...  Accepted   \n",
              "3  [2/2] mac80211: Correctly set noencrypt for PA...  Accepted   \n",
              "4  cfg80211: Purge frame registrations on iftype ...  Accepted   \n",
              "\n",
              "                           submitter commit  \\\n",
              "0  Denis Kenzior <denkenz@gmail.com>    NaN   \n",
              "1  Denis Kenzior <denkenz@gmail.com>    NaN   \n",
              "2  Denis Kenzior <denkenz@gmail.com>    NaN   \n",
              "3  Denis Kenzior <denkenz@gmail.com>    NaN   \n",
              "4  Denis Kenzior <denkenz@gmail.com>    NaN   \n",
              "\n",
              "                                       hash  \n",
              "0  08322f85498bd5735275bf3626194d531bd58d05  \n",
              "1  678efa2da3b96691e9fc11fdb1eadc10e2184f7e  \n",
              "2  2905c51a09ce9680eaadea6fc37c4319b31a6f79  \n",
              "3  4a8754dda8a4f5ed5b21dfc977d10bb70b9baf29  \n",
              "4  eda432593b03a9194e82df03f61bc8b83087b32d  "
            ],
            "text/html": [
              "\n",
              "  <div id=\"df-d39acb3a-1f3e-4412-9135-b2f6bc1fa815\">\n",
              "    <div class=\"colab-df-container\">\n",
              "      <div>\n",
              "<style scoped>\n",
              "    .dataframe tbody tr th:only-of-type {\n",
              "        vertical-align: middle;\n",
              "    }\n",
              "\n",
              "    .dataframe tbody tr th {\n",
              "        vertical-align: top;\n",
              "    }\n",
              "\n",
              "    .dataframe thead th {\n",
              "        text-align: right;\n",
              "    }\n",
              "</style>\n",
              "<table border=\"1\" class=\"dataframe\">\n",
              "  <thead>\n",
              "    <tr style=\"text-align: right;\">\n",
              "      <th></th>\n",
              "      <th>id</th>\n",
              "      <th>project</th>\n",
              "      <th>date</th>\n",
              "      <th>filename</th>\n",
              "      <th>msgid</th>\n",
              "      <th>name</th>\n",
              "      <th>state</th>\n",
              "      <th>submitter</th>\n",
              "      <th>commit</th>\n",
              "      <th>hash</th>\n",
              "    </tr>\n",
              "  </thead>\n",
              "  <tbody>\n",
              "    <tr>\n",
              "      <th>0</th>\n",
              "      <td>11052191</td>\n",
              "      <td>Linux Wireless Mailing List</td>\n",
              "      <td>1,563,820,390.00000000</td>\n",
              "      <td>v4-1-3-nl80211-Update-uapi-for-CMD_FRAME_WAIT_...</td>\n",
              "      <td>&lt;20190722113312.14031-1-denkenz@gmail.com&gt;</td>\n",
              "      <td>[v4,1/3] nl80211: Update uapi for CMD_FRAME_WA...</td>\n",
              "      <td>Accepted</td>\n",
              "      <td>Denis Kenzior &lt;denkenz@gmail.com&gt;</td>\n",
              "      <td>NaN</td>\n",
              "      <td>08322f85498bd5735275bf3626194d531bd58d05</td>\n",
              "    </tr>\n",
              "    <tr>\n",
              "      <th>1</th>\n",
              "      <td>11052195</td>\n",
              "      <td>Linux Wireless Mailing List</td>\n",
              "      <td>1,563,820,392.00000000</td>\n",
              "      <td>v4-3-3-nl80211-Include-wiphy-address-setup-in-...</td>\n",
              "      <td>&lt;20190722113312.14031-3-denkenz@gmail.com&gt;</td>\n",
              "      <td>[v4,3/3] nl80211: Include wiphy address setup ...</td>\n",
              "      <td>Accepted</td>\n",
              "      <td>Denis Kenzior &lt;denkenz@gmail.com&gt;</td>\n",
              "      <td>NaN</td>\n",
              "      <td>678efa2da3b96691e9fc11fdb1eadc10e2184f7e</td>\n",
              "    </tr>\n",
              "    <tr>\n",
              "      <th>2</th>\n",
              "      <td>11117603</td>\n",
              "      <td>Linux Wireless Mailing List</td>\n",
              "      <td>1,566,970,879.00000000</td>\n",
              "      <td>1-2-mac80211-Don-t-memset-RXCB-prior-to-PAE-in...</td>\n",
              "      <td>&lt;20190827224120.14545-2-denkenz@gmail.com&gt;</td>\n",
              "      <td>[1/2] mac80211: Don't memset RXCB prior to PAE...</td>\n",
              "      <td>Accepted</td>\n",
              "      <td>Denis Kenzior &lt;denkenz@gmail.com&gt;</td>\n",
              "      <td>NaN</td>\n",
              "      <td>2905c51a09ce9680eaadea6fc37c4319b31a6f79</td>\n",
              "    </tr>\n",
              "    <tr>\n",
              "      <th>3</th>\n",
              "      <td>11117605</td>\n",
              "      <td>Linux Wireless Mailing List</td>\n",
              "      <td>1,566,970,880.00000000</td>\n",
              "      <td>2-2-mac80211-Correctly-set-noencrypt-for-PAE-f...</td>\n",
              "      <td>&lt;20190827224120.14545-3-denkenz@gmail.com&gt;</td>\n",
              "      <td>[2/2] mac80211: Correctly set noencrypt for PA...</td>\n",
              "      <td>Accepted</td>\n",
              "      <td>Denis Kenzior &lt;denkenz@gmail.com&gt;</td>\n",
              "      <td>NaN</td>\n",
              "      <td>4a8754dda8a4f5ed5b21dfc977d10bb70b9baf29</td>\n",
              "    </tr>\n",
              "    <tr>\n",
              "      <th>4</th>\n",
              "      <td>11119923</td>\n",
              "      <td>Linux Wireless Mailing List</td>\n",
              "      <td>1,567,051,870.00000000</td>\n",
              "      <td>cfg80211-Purge-frame-registrations-on-iftype-c...</td>\n",
              "      <td>&lt;20190828211110.15005-1-denkenz@gmail.com&gt;</td>\n",
              "      <td>cfg80211: Purge frame registrations on iftype ...</td>\n",
              "      <td>Accepted</td>\n",
              "      <td>Denis Kenzior &lt;denkenz@gmail.com&gt;</td>\n",
              "      <td>NaN</td>\n",
              "      <td>eda432593b03a9194e82df03f61bc8b83087b32d</td>\n",
              "    </tr>\n",
              "  </tbody>\n",
              "</table>\n",
              "</div>\n",
              "      <button class=\"colab-df-convert\" onclick=\"convertToInteractive('df-d39acb3a-1f3e-4412-9135-b2f6bc1fa815')\"\n",
              "              title=\"Convert this dataframe to an interactive table.\"\n",
              "              style=\"display:none;\">\n",
              "        \n",
              "  <svg xmlns=\"http://www.w3.org/2000/svg\" height=\"24px\"viewBox=\"0 0 24 24\"\n",
              "       width=\"24px\">\n",
              "    <path d=\"M0 0h24v24H0V0z\" fill=\"none\"/>\n",
              "    <path d=\"M18.56 5.44l.94 2.06.94-2.06 2.06-.94-2.06-.94-.94-2.06-.94 2.06-2.06.94zm-11 1L8.5 8.5l.94-2.06 2.06-.94-2.06-.94L8.5 2.5l-.94 2.06-2.06.94zm10 10l.94 2.06.94-2.06 2.06-.94-2.06-.94-.94-2.06-.94 2.06-2.06.94z\"/><path d=\"M17.41 7.96l-1.37-1.37c-.4-.4-.92-.59-1.43-.59-.52 0-1.04.2-1.43.59L10.3 9.45l-7.72 7.72c-.78.78-.78 2.05 0 2.83L4 21.41c.39.39.9.59 1.41.59.51 0 1.02-.2 1.41-.59l7.78-7.78 2.81-2.81c.8-.78.8-2.07 0-2.86zM5.41 20L4 18.59l7.72-7.72 1.47 1.35L5.41 20z\"/>\n",
              "  </svg>\n",
              "      </button>\n",
              "      \n",
              "  <style>\n",
              "    .colab-df-container {\n",
              "      display:flex;\n",
              "      flex-wrap:wrap;\n",
              "      gap: 12px;\n",
              "    }\n",
              "\n",
              "    .colab-df-convert {\n",
              "      background-color: #E8F0FE;\n",
              "      border: none;\n",
              "      border-radius: 50%;\n",
              "      cursor: pointer;\n",
              "      display: none;\n",
              "      fill: #1967D2;\n",
              "      height: 32px;\n",
              "      padding: 0 0 0 0;\n",
              "      width: 32px;\n",
              "    }\n",
              "\n",
              "    .colab-df-convert:hover {\n",
              "      background-color: #E2EBFA;\n",
              "      box-shadow: 0px 1px 2px rgba(60, 64, 67, 0.3), 0px 1px 3px 1px rgba(60, 64, 67, 0.15);\n",
              "      fill: #174EA6;\n",
              "    }\n",
              "\n",
              "    [theme=dark] .colab-df-convert {\n",
              "      background-color: #3B4455;\n",
              "      fill: #D2E3FC;\n",
              "    }\n",
              "\n",
              "    [theme=dark] .colab-df-convert:hover {\n",
              "      background-color: #434B5C;\n",
              "      box-shadow: 0px 1px 3px 1px rgba(0, 0, 0, 0.15);\n",
              "      filter: drop-shadow(0px 1px 2px rgba(0, 0, 0, 0.3));\n",
              "      fill: #FFFFFF;\n",
              "    }\n",
              "  </style>\n",
              "\n",
              "      <script>\n",
              "        const buttonEl =\n",
              "          document.querySelector('#df-d39acb3a-1f3e-4412-9135-b2f6bc1fa815 button.colab-df-convert');\n",
              "        buttonEl.style.display =\n",
              "          google.colab.kernel.accessAllowed ? 'block' : 'none';\n",
              "\n",
              "        async function convertToInteractive(key) {\n",
              "          const element = document.querySelector('#df-d39acb3a-1f3e-4412-9135-b2f6bc1fa815');\n",
              "          const dataTable =\n",
              "            await google.colab.kernel.invokeFunction('convertToInteractive',\n",
              "                                                     [key], {});\n",
              "          if (!dataTable) return;\n",
              "\n",
              "          const docLinkHtml = 'Like what you see? Visit the ' +\n",
              "            '<a target=\"_blank\" href=https://colab.research.google.com/notebooks/data_table.ipynb>data table notebook</a>'\n",
              "            + ' to learn more about interactive tables.';\n",
              "          element.innerHTML = '';\n",
              "          dataTable['output_type'] = 'display_data';\n",
              "          await google.colab.output.renderOutput(dataTable, element);\n",
              "          const docLink = document.createElement('div');\n",
              "          docLink.innerHTML = docLinkHtml;\n",
              "          element.appendChild(docLink);\n",
              "        }\n",
              "      </script>\n",
              "    </div>\n",
              "  </div>\n",
              "  "
            ]
          },
          "metadata": {},
          "execution_count": 42
        }
      ]
    },
    {
      "cell_type": "code",
      "source": [
        "# projectID\n",
        "df_lkmlby_patches['projectID'] = df_lkmlby_patches['project'].factorize()[0]"
      ],
      "metadata": {
        "id": "nm9mlm0t2Tg_"
      },
      "execution_count": 43,
      "outputs": []
    },
    {
      "cell_type": "code",
      "source": [
        "# stateID\n",
        "df_lkmlby_patches['stateID'] = df_lkmlby_patches['state'].factorize()[0]"
      ],
      "metadata": {
        "id": "cy0tW0K02ga3"
      },
      "execution_count": 44,
      "outputs": []
    },
    {
      "cell_type": "code",
      "source": [
        "df_lkmlby_patches.drop_duplicates(inplace=True)"
      ],
      "metadata": {
        "id": "S8vDJ9nG2gXD"
      },
      "execution_count": 45,
      "outputs": []
    },
    {
      "cell_type": "code",
      "source": [
        "df_lkmlby_patches.head()"
      ],
      "metadata": {
        "colab": {
          "base_uri": "https://localhost:8080/",
          "height": 337
        },
        "id": "HfsuYDYK2gTy",
        "outputId": "0afbee0a-6113-4e4c-e819-3c8ec7943236"
      },
      "execution_count": 46,
      "outputs": [
        {
          "output_type": "execute_result",
          "data": {
            "text/plain": [
              "         id                      project                   date  \\\n",
              "0  11052191  Linux Wireless Mailing List 1,563,820,390.00000000   \n",
              "1  11052195  Linux Wireless Mailing List 1,563,820,392.00000000   \n",
              "2  11117603  Linux Wireless Mailing List 1,566,970,879.00000000   \n",
              "3  11117605  Linux Wireless Mailing List 1,566,970,880.00000000   \n",
              "4  11119923  Linux Wireless Mailing List 1,567,051,870.00000000   \n",
              "\n",
              "                                            filename  \\\n",
              "0  v4-1-3-nl80211-Update-uapi-for-CMD_FRAME_WAIT_...   \n",
              "1  v4-3-3-nl80211-Include-wiphy-address-setup-in-...   \n",
              "2  1-2-mac80211-Don-t-memset-RXCB-prior-to-PAE-in...   \n",
              "3  2-2-mac80211-Correctly-set-noencrypt-for-PAE-f...   \n",
              "4  cfg80211-Purge-frame-registrations-on-iftype-c...   \n",
              "\n",
              "                                        msgid  \\\n",
              "0  <20190722113312.14031-1-denkenz@gmail.com>   \n",
              "1  <20190722113312.14031-3-denkenz@gmail.com>   \n",
              "2  <20190827224120.14545-2-denkenz@gmail.com>   \n",
              "3  <20190827224120.14545-3-denkenz@gmail.com>   \n",
              "4  <20190828211110.15005-1-denkenz@gmail.com>   \n",
              "\n",
              "                                                name     state  \\\n",
              "0  [v4,1/3] nl80211: Update uapi for CMD_FRAME_WA...  Accepted   \n",
              "1  [v4,3/3] nl80211: Include wiphy address setup ...  Accepted   \n",
              "2  [1/2] mac80211: Don't memset RXCB prior to PAE...  Accepted   \n",
              "3  [2/2] mac80211: Correctly set noencrypt for PA...  Accepted   \n",
              "4  cfg80211: Purge frame registrations on iftype ...  Accepted   \n",
              "\n",
              "                           submitter commit  \\\n",
              "0  Denis Kenzior <denkenz@gmail.com>    NaN   \n",
              "1  Denis Kenzior <denkenz@gmail.com>    NaN   \n",
              "2  Denis Kenzior <denkenz@gmail.com>    NaN   \n",
              "3  Denis Kenzior <denkenz@gmail.com>    NaN   \n",
              "4  Denis Kenzior <denkenz@gmail.com>    NaN   \n",
              "\n",
              "                                       hash  projectID  stateID  \n",
              "0  08322f85498bd5735275bf3626194d531bd58d05          0        0  \n",
              "1  678efa2da3b96691e9fc11fdb1eadc10e2184f7e          0        0  \n",
              "2  2905c51a09ce9680eaadea6fc37c4319b31a6f79          0        0  \n",
              "3  4a8754dda8a4f5ed5b21dfc977d10bb70b9baf29          0        0  \n",
              "4  eda432593b03a9194e82df03f61bc8b83087b32d          0        0  "
            ],
            "text/html": [
              "\n",
              "  <div id=\"df-fc8b5e98-854d-4a41-8a84-47843def4ab2\">\n",
              "    <div class=\"colab-df-container\">\n",
              "      <div>\n",
              "<style scoped>\n",
              "    .dataframe tbody tr th:only-of-type {\n",
              "        vertical-align: middle;\n",
              "    }\n",
              "\n",
              "    .dataframe tbody tr th {\n",
              "        vertical-align: top;\n",
              "    }\n",
              "\n",
              "    .dataframe thead th {\n",
              "        text-align: right;\n",
              "    }\n",
              "</style>\n",
              "<table border=\"1\" class=\"dataframe\">\n",
              "  <thead>\n",
              "    <tr style=\"text-align: right;\">\n",
              "      <th></th>\n",
              "      <th>id</th>\n",
              "      <th>project</th>\n",
              "      <th>date</th>\n",
              "      <th>filename</th>\n",
              "      <th>msgid</th>\n",
              "      <th>name</th>\n",
              "      <th>state</th>\n",
              "      <th>submitter</th>\n",
              "      <th>commit</th>\n",
              "      <th>hash</th>\n",
              "      <th>projectID</th>\n",
              "      <th>stateID</th>\n",
              "    </tr>\n",
              "  </thead>\n",
              "  <tbody>\n",
              "    <tr>\n",
              "      <th>0</th>\n",
              "      <td>11052191</td>\n",
              "      <td>Linux Wireless Mailing List</td>\n",
              "      <td>1,563,820,390.00000000</td>\n",
              "      <td>v4-1-3-nl80211-Update-uapi-for-CMD_FRAME_WAIT_...</td>\n",
              "      <td>&lt;20190722113312.14031-1-denkenz@gmail.com&gt;</td>\n",
              "      <td>[v4,1/3] nl80211: Update uapi for CMD_FRAME_WA...</td>\n",
              "      <td>Accepted</td>\n",
              "      <td>Denis Kenzior &lt;denkenz@gmail.com&gt;</td>\n",
              "      <td>NaN</td>\n",
              "      <td>08322f85498bd5735275bf3626194d531bd58d05</td>\n",
              "      <td>0</td>\n",
              "      <td>0</td>\n",
              "    </tr>\n",
              "    <tr>\n",
              "      <th>1</th>\n",
              "      <td>11052195</td>\n",
              "      <td>Linux Wireless Mailing List</td>\n",
              "      <td>1,563,820,392.00000000</td>\n",
              "      <td>v4-3-3-nl80211-Include-wiphy-address-setup-in-...</td>\n",
              "      <td>&lt;20190722113312.14031-3-denkenz@gmail.com&gt;</td>\n",
              "      <td>[v4,3/3] nl80211: Include wiphy address setup ...</td>\n",
              "      <td>Accepted</td>\n",
              "      <td>Denis Kenzior &lt;denkenz@gmail.com&gt;</td>\n",
              "      <td>NaN</td>\n",
              "      <td>678efa2da3b96691e9fc11fdb1eadc10e2184f7e</td>\n",
              "      <td>0</td>\n",
              "      <td>0</td>\n",
              "    </tr>\n",
              "    <tr>\n",
              "      <th>2</th>\n",
              "      <td>11117603</td>\n",
              "      <td>Linux Wireless Mailing List</td>\n",
              "      <td>1,566,970,879.00000000</td>\n",
              "      <td>1-2-mac80211-Don-t-memset-RXCB-prior-to-PAE-in...</td>\n",
              "      <td>&lt;20190827224120.14545-2-denkenz@gmail.com&gt;</td>\n",
              "      <td>[1/2] mac80211: Don't memset RXCB prior to PAE...</td>\n",
              "      <td>Accepted</td>\n",
              "      <td>Denis Kenzior &lt;denkenz@gmail.com&gt;</td>\n",
              "      <td>NaN</td>\n",
              "      <td>2905c51a09ce9680eaadea6fc37c4319b31a6f79</td>\n",
              "      <td>0</td>\n",
              "      <td>0</td>\n",
              "    </tr>\n",
              "    <tr>\n",
              "      <th>3</th>\n",
              "      <td>11117605</td>\n",
              "      <td>Linux Wireless Mailing List</td>\n",
              "      <td>1,566,970,880.00000000</td>\n",
              "      <td>2-2-mac80211-Correctly-set-noencrypt-for-PAE-f...</td>\n",
              "      <td>&lt;20190827224120.14545-3-denkenz@gmail.com&gt;</td>\n",
              "      <td>[2/2] mac80211: Correctly set noencrypt for PA...</td>\n",
              "      <td>Accepted</td>\n",
              "      <td>Denis Kenzior &lt;denkenz@gmail.com&gt;</td>\n",
              "      <td>NaN</td>\n",
              "      <td>4a8754dda8a4f5ed5b21dfc977d10bb70b9baf29</td>\n",
              "      <td>0</td>\n",
              "      <td>0</td>\n",
              "    </tr>\n",
              "    <tr>\n",
              "      <th>4</th>\n",
              "      <td>11119923</td>\n",
              "      <td>Linux Wireless Mailing List</td>\n",
              "      <td>1,567,051,870.00000000</td>\n",
              "      <td>cfg80211-Purge-frame-registrations-on-iftype-c...</td>\n",
              "      <td>&lt;20190828211110.15005-1-denkenz@gmail.com&gt;</td>\n",
              "      <td>cfg80211: Purge frame registrations on iftype ...</td>\n",
              "      <td>Accepted</td>\n",
              "      <td>Denis Kenzior &lt;denkenz@gmail.com&gt;</td>\n",
              "      <td>NaN</td>\n",
              "      <td>eda432593b03a9194e82df03f61bc8b83087b32d</td>\n",
              "      <td>0</td>\n",
              "      <td>0</td>\n",
              "    </tr>\n",
              "  </tbody>\n",
              "</table>\n",
              "</div>\n",
              "      <button class=\"colab-df-convert\" onclick=\"convertToInteractive('df-fc8b5e98-854d-4a41-8a84-47843def4ab2')\"\n",
              "              title=\"Convert this dataframe to an interactive table.\"\n",
              "              style=\"display:none;\">\n",
              "        \n",
              "  <svg xmlns=\"http://www.w3.org/2000/svg\" height=\"24px\"viewBox=\"0 0 24 24\"\n",
              "       width=\"24px\">\n",
              "    <path d=\"M0 0h24v24H0V0z\" fill=\"none\"/>\n",
              "    <path d=\"M18.56 5.44l.94 2.06.94-2.06 2.06-.94-2.06-.94-.94-2.06-.94 2.06-2.06.94zm-11 1L8.5 8.5l.94-2.06 2.06-.94-2.06-.94L8.5 2.5l-.94 2.06-2.06.94zm10 10l.94 2.06.94-2.06 2.06-.94-2.06-.94-.94-2.06-.94 2.06-2.06.94z\"/><path d=\"M17.41 7.96l-1.37-1.37c-.4-.4-.92-.59-1.43-.59-.52 0-1.04.2-1.43.59L10.3 9.45l-7.72 7.72c-.78.78-.78 2.05 0 2.83L4 21.41c.39.39.9.59 1.41.59.51 0 1.02-.2 1.41-.59l7.78-7.78 2.81-2.81c.8-.78.8-2.07 0-2.86zM5.41 20L4 18.59l7.72-7.72 1.47 1.35L5.41 20z\"/>\n",
              "  </svg>\n",
              "      </button>\n",
              "      \n",
              "  <style>\n",
              "    .colab-df-container {\n",
              "      display:flex;\n",
              "      flex-wrap:wrap;\n",
              "      gap: 12px;\n",
              "    }\n",
              "\n",
              "    .colab-df-convert {\n",
              "      background-color: #E8F0FE;\n",
              "      border: none;\n",
              "      border-radius: 50%;\n",
              "      cursor: pointer;\n",
              "      display: none;\n",
              "      fill: #1967D2;\n",
              "      height: 32px;\n",
              "      padding: 0 0 0 0;\n",
              "      width: 32px;\n",
              "    }\n",
              "\n",
              "    .colab-df-convert:hover {\n",
              "      background-color: #E2EBFA;\n",
              "      box-shadow: 0px 1px 2px rgba(60, 64, 67, 0.3), 0px 1px 3px 1px rgba(60, 64, 67, 0.15);\n",
              "      fill: #174EA6;\n",
              "    }\n",
              "\n",
              "    [theme=dark] .colab-df-convert {\n",
              "      background-color: #3B4455;\n",
              "      fill: #D2E3FC;\n",
              "    }\n",
              "\n",
              "    [theme=dark] .colab-df-convert:hover {\n",
              "      background-color: #434B5C;\n",
              "      box-shadow: 0px 1px 3px 1px rgba(0, 0, 0, 0.15);\n",
              "      filter: drop-shadow(0px 1px 2px rgba(0, 0, 0, 0.3));\n",
              "      fill: #FFFFFF;\n",
              "    }\n",
              "  </style>\n",
              "\n",
              "      <script>\n",
              "        const buttonEl =\n",
              "          document.querySelector('#df-fc8b5e98-854d-4a41-8a84-47843def4ab2 button.colab-df-convert');\n",
              "        buttonEl.style.display =\n",
              "          google.colab.kernel.accessAllowed ? 'block' : 'none';\n",
              "\n",
              "        async function convertToInteractive(key) {\n",
              "          const element = document.querySelector('#df-fc8b5e98-854d-4a41-8a84-47843def4ab2');\n",
              "          const dataTable =\n",
              "            await google.colab.kernel.invokeFunction('convertToInteractive',\n",
              "                                                     [key], {});\n",
              "          if (!dataTable) return;\n",
              "\n",
              "          const docLinkHtml = 'Like what you see? Visit the ' +\n",
              "            '<a target=\"_blank\" href=https://colab.research.google.com/notebooks/data_table.ipynb>data table notebook</a>'\n",
              "            + ' to learn more about interactive tables.';\n",
              "          element.innerHTML = '';\n",
              "          dataTable['output_type'] = 'display_data';\n",
              "          await google.colab.output.renderOutput(dataTable, element);\n",
              "          const docLink = document.createElement('div');\n",
              "          docLink.innerHTML = docLinkHtml;\n",
              "          element.appendChild(docLink);\n",
              "        }\n",
              "      </script>\n",
              "    </div>\n",
              "  </div>\n",
              "  "
            ]
          },
          "metadata": {},
          "execution_count": 46
        }
      ]
    },
    {
      "cell_type": "code",
      "source": [
        "df_lkmlby_patches.info()"
      ],
      "metadata": {
        "colab": {
          "base_uri": "https://localhost:8080/"
        },
        "id": "xtS229wG2p6d",
        "outputId": "5f2da5f4-ac8c-4a37-f139-10c67ce903c9"
      },
      "execution_count": 47,
      "outputs": [
        {
          "output_type": "stream",
          "name": "stdout",
          "text": [
            "<class 'pandas.core.frame.DataFrame'>\n",
            "Int64Index: 54932 entries, 0 to 130822\n",
            "Data columns (total 12 columns):\n",
            " #   Column     Non-Null Count  Dtype  \n",
            "---  ------     --------------  -----  \n",
            " 0   id         54932 non-null  int64  \n",
            " 1   project    54932 non-null  object \n",
            " 2   date       54932 non-null  float64\n",
            " 3   filename   54930 non-null  object \n",
            " 4   msgid      54932 non-null  object \n",
            " 5   name       54930 non-null  object \n",
            " 6   state      54932 non-null  object \n",
            " 7   submitter  54932 non-null  object \n",
            " 8   commit     24964 non-null  object \n",
            " 9   hash       53819 non-null  object \n",
            " 10  projectID  54932 non-null  int64  \n",
            " 11  stateID    54932 non-null  int64  \n",
            "dtypes: float64(1), int64(3), object(8)\n",
            "memory usage: 5.4+ MB\n"
          ]
        }
      ]
    },
    {
      "cell_type": "markdown",
      "source": [
        "## &#129504; Generate Interest Data"
      ],
      "metadata": {
        "id": "nSoeZAsTEePz"
      }
    },
    {
      "cell_type": "markdown",
      "source": [
        "Features of interest:\n",
        "\n",
        "```python\n",
        "['fkre_score',\n",
        " 'fkgl_score',\n",
        " 'message_exper',\n",
        " 'commit_exper',\n",
        " 'word_cnt',\n",
        " 'sentence_cnt',\n",
        " 'exert_influence',\n",
        " 'patch_email',\n",
        " 'first_patch_thread',\n",
        " 'sent_time',\n",
        " 'received_time',\n",
        " 'reply_within_4hr',\n",
        " 'patch_churn',\n",
        " 'bug_fix',\n",
        " 'new_feature',\n",
        " 'accepted_patch',\n",
        " 'accepted_commit']\n",
        " ```"
      ],
      "metadata": {
        "id": "Sjo5ZQDRSWWf"
      }
    },
    {
      "cell_type": "markdown",
      "source": [
        "### &#9759; Exert Influence Feature"
      ],
      "metadata": {
        "id": "_J9bbM16y_ZY"
      }
    },
    {
      "cell_type": "code",
      "source": [
        "# Based on the persuasion strategies in \n",
        "# Wang, X., Shi, W., Kim, R., Oh, Y., Yang, S., Zhang, J., & Yu, Z. (2019). \n",
        "# Persuasion for good: Towards a personalized persuasive dialogue system for social good.\n",
        "# arXiv preprint [arXiv:1906.06725](https://arxiv.org/abs/1906.06725) \n",
        "persuasion_label = dict({\n",
        "    0: 'task-related-inquiry', \n",
        "    1: 'credibility-appeal', \n",
        "    2: 'logical-appeal', \n",
        "    3: 'personal-related-inquiry', \n",
        "    4: 'source-related-inquiry', \n",
        "    5: 'donation-information', \n",
        "    6: 'foot-in-the-door', \n",
        "    7: 'emotion-appeal', \n",
        "    8: 'self-modeling', \n",
        "    9: 'personal-story',\n",
        "    10: 'Unknown'})"
      ],
      "metadata": {
        "id": "zXspnow4YK_v"
      },
      "execution_count": null,
      "outputs": []
    },
    {
      "cell_type": "code",
      "source": [
        "# all persuasion strategies - the unknown one\n",
        "persuasion_set = persuasion_label.keys() - {10}\n",
        "persuasion_set"
      ],
      "metadata": {
        "colab": {
          "base_uri": "https://localhost:8080/"
        },
        "id": "PoL73RwDxbfR",
        "outputId": "10b55494-eb96-43b6-c3a3-be30f798d5ca"
      },
      "execution_count": null,
      "outputs": [
        {
          "output_type": "execute_result",
          "data": {
            "text/plain": [
              "{0, 1, 2, 3, 4, 5, 6, 7, 8, 9}"
            ]
          },
          "metadata": {},
          "execution_count": 36
        }
      ]
    },
    {
      "cell_type": "code",
      "source": [
        "# exert influence through persuasion\n",
        "df_email['exert_influence'] = df_email['persuasion'].apply(lambda x: 1 if (x in persuasion_set) else 0)"
      ],
      "metadata": {
        "id": "ENgujM69xcaH"
      },
      "execution_count": null,
      "outputs": []
    },
    {
      "cell_type": "code",
      "source": [
        "tmp_influence = df_email.groupby(df_email['exert_influence']).size().sort_values()\n",
        "tmp_influence"
      ],
      "metadata": {
        "colab": {
          "base_uri": "https://localhost:8080/"
        },
        "id": "STI0NUVGxuwx",
        "outputId": "2aa61d04-a34c-457c-dd2a-6a77fd829593"
      },
      "execution_count": null,
      "outputs": [
        {
          "output_type": "execute_result",
          "data": {
            "text/plain": [
              "exert_influence\n",
              "0    276\n",
              "dtype: int64"
            ]
          },
          "metadata": {},
          "execution_count": 38
        }
      ]
    },
    {
      "cell_type": "code",
      "source": [
        "tmp_influence.plot.barh(title=\"Influence Records\", xlabel=\"Influence\", ylabel=\"Number of records\", log=True)"
      ],
      "metadata": {
        "colab": {
          "base_uri": "https://localhost:8080/",
          "height": 299
        },
        "id": "9xmBAuobx97S",
        "outputId": "d44c0789-b6f7-4568-96ea-40fb4ede922b"
      },
      "execution_count": null,
      "outputs": [
        {
          "output_type": "execute_result",
          "data": {
            "text/plain": [
              "<AxesSubplot:title={'center':'Influence Records'}, ylabel='Influence'>"
            ]
          },
          "metadata": {},
          "execution_count": 40
        },
        {
          "output_type": "display_data",
          "data": {
            "text/plain": [
              "<Figure size 432x288 with 1 Axes>"
            ],
            "image/png": "[encoded data removed]"
          },
          "metadata": {
            "image/png": {
              "width": 376,
              "height": 265
            },
            "needs_background": "light"
          }
        }
      ]
    },
    {
      "cell_type": "markdown",
      "source": [
        "### &#9759; NLP Features\n",
        "\n",
        "* fkre_score\n",
        "* fkgl_score\n",
        "* message_exper\n",
        "* commit_exper\n",
        "* word_cnt\n",
        "* sentence_cnt"
      ],
      "metadata": {
        "id": "bSi3GfxEzKIV"
      }
    },
    {
      "cell_type": "markdown",
      "source": [
        "#### &#9759; Test"
      ],
      "metadata": {
        "id": "yO8asjU-4dVu"
      }
    },
    {
      "cell_type": "code",
      "source": [
        "email_0 = df_email.loc[0]"
      ],
      "metadata": {
        "id": "RerLiB3d0afH"
      },
      "execution_count": null,
      "outputs": []
    },
    {
      "cell_type": "code",
      "source": [
        "email_0"
      ],
      "metadata": {
        "colab": {
          "base_uri": "https://localhost:8080/"
        },
        "id": "bNSzl2WU0lnX",
        "outputId": "a5f1e9ec-7159-4afc-867a-fa83e18368c0"
      },
      "execution_count": null,
      "outputs": [
        {
          "output_type": "execute_result",
          "data": {
            "text/plain": [
              "id                                                                    59\n",
              "url                    https://lkml.iu.edu/hypermail/linux/kernel/200...\n",
              "mailing_list_id                                                        1\n",
              "email_id                                                  20200801175938\n",
              "message_id                       20200801215806.2659-1-cengiz@kernel.wtf\n",
              "reply_to_url                                                        None\n",
              "author_id                                                             35\n",
              "timestamp_sent                                                1596319178\n",
              "timestamp_recv                                                1596322778\n",
              "subject                [PATCH v5] staging: atomisp: move null check t...\n",
              "body                   `find_gmin_subdev()` that returns a pointer to...\n",
              "clean_body             `find_gmin_subdev()` that returns a pointer to...\n",
              "thread_id                    20200731083856.GF3703480@smile.fi.intel.com\n",
              "persuasion                                                       Unknown\n",
              "reply_to_message_id          20200731083856.GF3703480@smile.fi.intel.com\n",
              "exert_influence                                                        0\n",
              "Name: 0, dtype: object"
            ]
          },
          "metadata": {},
          "execution_count": 44
        }
      ]
    },
    {
      "cell_type": "code",
      "source": [
        "txt_to_spacy = text_to_spacy_nlp(email_body=email_0.clean_body)"
      ],
      "metadata": {
        "id": "hz4ySTxg0mvn"
      },
      "execution_count": null,
      "outputs": []
    },
    {
      "cell_type": "code",
      "source": [
        "txt_to_spacy"
      ],
      "metadata": {
        "colab": {
          "base_uri": "https://localhost:8080/"
        },
        "id": "ZQnRefDf1ptU",
        "outputId": "38cb4b74-672e-41ce-f2ee-487cfc430a98"
      },
      "execution_count": null,
      "outputs": [
        {
          "output_type": "execute_result",
          "data": {
            "text/plain": [
              "`find_gmin_subdev()` that returns a pointer to `struct\n",
              "gmin_subdev` can return NULL.\n",
              "\n",
              "In `gmin_v2p8_ctrl()` there's a call to this function but the\n",
              "possibility of a NULL was not checked before its being dereferenced,\n",
              "i.e.:\n",
              "\n",
              "  /* Acquired here --------v */\n",
              "  struct gmin_subdev *gs = find_gmin_subdev(subdev);\n",
              "\n",
              "  /*  v------Dereferenced here */\n",
              "  if (gs->v2p8_gpio >= 0) {\n",
              "      ...\n",
              "  }\n",
              "\n",
              "With this change we're null checking `find_gmin_subdev()` result\n",
              "and we return an error if that's the case. We also WARN()\n",
              "for the sake of debugging.\n",
              "\n",
              "Signed-off-by: Cengiz Can <cengiz@xxxxxxxxxx>\n",
              "Reported-by: Coverity Static Analyzer CID 1465536\n",
              "Suggested-by: Mauro Carvalho Chehab <mchehab@xxxxxxxxxx>\n",
              "Signed-off-by: Cengiz Can <cengiz@xxxxxxxxxx>\n",
              "\n",
              "-- \n",
              "2.27.0\n",
              "\n"
            ]
          },
          "metadata": {},
          "execution_count": 48
        }
      ]
    },
    {
      "cell_type": "code",
      "source": [
        "sentence_cnt = sentence_count(spacy_txt=txt_to_spacy)\n",
        "sentence_cnt"
      ],
      "metadata": {
        "colab": {
          "base_uri": "https://localhost:8080/"
        },
        "id": "5-CeoEuF08iX",
        "outputId": "b0f463e1-bef6-4fc5-fc2c-b93497b5a0f5"
      },
      "execution_count": null,
      "outputs": [
        {
          "output_type": "execute_result",
          "data": {
            "text/plain": [
              "5"
            ]
          },
          "metadata": {},
          "execution_count": 46
        }
      ]
    },
    {
      "cell_type": "code",
      "source": [
        "word_cnt = word_count(spacy_txt=txt_to_spacy)\n",
        "word_cnt"
      ],
      "metadata": {
        "colab": {
          "base_uri": "https://localhost:8080/"
        },
        "id": "38iq18_F1FVn",
        "outputId": "4751a4cf-3f70-4d32-c0a2-e31db364a53e"
      },
      "execution_count": null,
      "outputs": [
        {
          "output_type": "execute_result",
          "data": {
            "text/plain": [
              "137"
            ]
          },
          "metadata": {},
          "execution_count": 49
        }
      ]
    },
    {
      "cell_type": "code",
      "source": [
        "syllables_cnt = sum([count_syllables(s) for s in retrieve_words(spacy_txt=txt_to_spacy)])\n",
        "syllables_cnt"
      ],
      "metadata": {
        "colab": {
          "base_uri": "https://localhost:8080/"
        },
        "id": "ox3FAHb21lAA",
        "outputId": "bc531d4d-083b-40a2-eeb3-079eb35bf7e9"
      },
      "execution_count": null,
      "outputs": [
        {
          "output_type": "execute_result",
          "data": {
            "text/plain": [
              "157"
            ]
          },
          "metadata": {},
          "execution_count": 50
        }
      ]
    },
    {
      "cell_type": "markdown",
      "source": [
        "#### &#9759; Deployment"
      ],
      "metadata": {
        "id": "yuArh9-O5esr"
      }
    },
    {
      "cell_type": "code",
      "source": [
        "df_email['txt_to_spacy'] = df_email.apply(lambda row: text_to_spacy_nlp(email_body=row.clean_body), axis=1)"
      ],
      "metadata": {
        "id": "JrgYmiMX2vM5"
      },
      "execution_count": null,
      "outputs": []
    },
    {
      "cell_type": "code",
      "source": [
        "df_email['sentence_cnt'] = df_email.apply(lambda row: sentence_count(spacy_txt=row.txt_to_spacy), axis=1)"
      ],
      "metadata": {
        "id": "MREKEngr5mBh"
      },
      "execution_count": null,
      "outputs": []
    },
    {
      "cell_type": "code",
      "source": [
        "df_email['word_cnt'] = df_email.apply(lambda row: word_count(spacy_txt=row.txt_to_spacy), axis=1)"
      ],
      "metadata": {
        "id": "4MqYlqrn6TzP"
      },
      "execution_count": null,
      "outputs": []
    },
    {
      "cell_type": "code",
      "source": [
        "df_email['syllables_cnt'] = df_email.apply(lambda row: sum([count_syllables(s) for s in retrieve_words(spacy_txt=row.txt_to_spacy)]), axis=1)"
      ],
      "metadata": {
        "id": "bqHWqmPk6TjG"
      },
      "execution_count": null,
      "outputs": []
    },
    {
      "cell_type": "code",
      "source": [
        "df_email['fkre_score'] = df_email.apply(lambda row: fkre_score(\n",
        "    total_words=row.word_cnt, \n",
        "    total_sentences=row.sentence_cnt, \n",
        "    total_syllables=row.syllables_cnt), axis=1)"
      ],
      "metadata": {
        "id": "31BEI0MN6ylu"
      },
      "execution_count": null,
      "outputs": []
    },
    {
      "cell_type": "code",
      "source": [
        "df_email['fkgl_score'] = df_email.apply(lambda row: fkgl_score(\n",
        "    total_words=row.word_cnt, \n",
        "    total_sentences=row.sentence_cnt, \n",
        "    total_syllables=row.syllables_cnt), axis=1)"
      ],
      "metadata": {
        "id": "5TTnYCz18k8d"
      },
      "execution_count": null,
      "outputs": []
    },
    {
      "cell_type": "code",
      "source": [
        "df_email.head()"
      ],
      "metadata": {
        "colab": {
          "base_uri": "https://localhost:8080/",
          "height": 629
        },
        "id": "Dslu0A1a8xSk",
        "outputId": "b757917a-1398-41f1-f317-ea87e4631eea"
      },
      "execution_count": null,
      "outputs": [
        {
          "output_type": "execute_result",
          "data": {
            "text/plain": [
              "   id                                                url  mailing_list_id  \\\n",
              "0  59  https://lkml.iu.edu/hypermail/linux/kernel/200...                1   \n",
              "1  34  https://lkml.iu.edu/hypermail/linux/kernel/200...                1   \n",
              "2  35  https://lkml.iu.edu/hypermail/linux/kernel/200...                1   \n",
              "3  39  https://lkml.iu.edu/hypermail/linux/kernel/200...                1   \n",
              "4  40  https://lkml.iu.edu/hypermail/linux/kernel/200...                1   \n",
              "\n",
              "          email_id                               message_id  \\\n",
              "0   20200801175938  20200801215806.2659-1-cengiz@kernel.wtf   \n",
              "1   20200801021814           202007312237.4F385EB3@keescook   \n",
              "2   20200801021841      202008011403.PtFkHpqE%lkp@intel.com   \n",
              "3  202008010218140      202008011419.67BkWnAl%lkp@intel.com   \n",
              "4   20200801053958             s5h7dui902e.wl-tiwai@suse.de   \n",
              "\n",
              "                                        reply_to_url  author_id  \\\n",
              "0                                               None         35   \n",
              "1                                               None         23   \n",
              "2  https://lkml.iu.edu/hypermail/linux/kernel/200...         24   \n",
              "3                                               None         24   \n",
              "4  https://lkml.iu.edu/hypermail/linux/kernel/200...          3   \n",
              "\n",
              "   timestamp_sent  timestamp_recv  \\\n",
              "0      1596319178      1596322778   \n",
              "1      1596262694      1596266294   \n",
              "2      1596262721      1596266321   \n",
              "3      1596262694      1596266294   \n",
              "4      1596274798      1596278398   \n",
              "\n",
              "                                             subject  ...  \\\n",
              "0  [PATCH v5] staging: atomisp: move null check t...  ...   \n",
              "1  Re: [PATCH v5 13/36] vmlinux.lds.h: add PGO an...  ...   \n",
              "2  Re: [PATCH v3 21/23] device-dax: Add an 'align...  ...   \n",
              "3  Re: [PATCH v3 21/23] device-dax: Add an 'align...  ...   \n",
              "4  Re: [PATCH] ALSA: seq: KASAN: use-after-free R...  ...   \n",
              "\n",
              "                                           thread_id persuasion  \\\n",
              "0        20200731083856.GF3703480@smile.fi.intel.com    Unknown   \n",
              "1     20200731230820.1742553-1-keescook@chromium.org    Unknown   \n",
              "2  159625241660.3040297.3801913809845542130.stgit...    Unknown   \n",
              "3  159625241660.3040297.3801913809845542130.stgit...    Unknown   \n",
              "4    20200801062403.8005-1-qiang.zhang@windriver.com    Unknown   \n",
              "\n",
              "                                 reply_to_message_id exert_influence  \\\n",
              "0        20200731083856.GF3703480@smile.fi.intel.com               0   \n",
              "1        20200801035128.GB2800311@rani.riverdale.lan               0   \n",
              "2  159625241660.3040297.3801913809845542130.stgit...               0   \n",
              "3  159625241660.3040297.3801913809845542130.stgit...               0   \n",
              "4    20200801062403.8005-1-qiang.zhang@windriver.com               0   \n",
              "\n",
              "                                        txt_to_spacy  sentence_cnt word_cnt  \\\n",
              "0  (`, find_gmin_subdev, (, ), `, that, returns, ...             5      137   \n",
              "1  (On, Fri, ,, Jul, 31, ,, 2020, at, 11:51:28PM,...           119     1856   \n",
              "2  (Hi, Dan, ,, \\n\\n, Thank, you, for, the, patch...            18     1031   \n",
              "3  (Hi, Dan, ,, \\n\\n, Thank, you, for, the, patch...            21     1378   \n",
              "4  (On, Sat, ,, 01, Aug, 2020, 08:24:03, +0200, ,...           124     1572   \n",
              "\n",
              "   syllables_cnt   fkre_score  fkgl_score  \n",
              "0            157  82.07000000  8.62000000  \n",
              "1           1897 104.54000000  2.55000000  \n",
              "2           1141  55.07000000 19.81000000  \n",
              "3           1534  46.05000000 23.14000000  \n",
              "4           1279 125.14000000 -1.05000000  \n",
              "\n",
              "[5 rows x 22 columns]"
            ],
            "text/html": [
              "\n",
              "  <div id=\"df-c681c0d5-7c86-4273-9777-51dbda118685\">\n",
              "    <div class=\"colab-df-container\">\n",
              "      <div>\n",
              "<style scoped>\n",
              "    .dataframe tbody tr th:only-of-type {\n",
              "        vertical-align: middle;\n",
              "    }\n",
              "\n",
              "    .dataframe tbody tr th {\n",
              "        vertical-align: top;\n",
              "    }\n",
              "\n",
              "    .dataframe thead th {\n",
              "        text-align: right;\n",
              "    }\n",
              "</style>\n",
              "<table border=\"1\" class=\"dataframe\">\n",
              "  <thead>\n",
              "    <tr style=\"text-align: right;\">\n",
              "      <th></th>\n",
              "      <th>id</th>\n",
              "      <th>url</th>\n",
              "      <th>mailing_list_id</th>\n",
              "      <th>email_id</th>\n",
              "      <th>message_id</th>\n",
              "      <th>reply_to_url</th>\n",
              "      <th>author_id</th>\n",
              "      <th>timestamp_sent</th>\n",
              "      <th>timestamp_recv</th>\n",
              "      <th>subject</th>\n",
              "      <th>...</th>\n",
              "      <th>thread_id</th>\n",
              "      <th>persuasion</th>\n",
              "      <th>reply_to_message_id</th>\n",
              "      <th>exert_influence</th>\n",
              "      <th>txt_to_spacy</th>\n",
              "      <th>sentence_cnt</th>\n",
              "      <th>word_cnt</th>\n",
              "      <th>syllables_cnt</th>\n",
              "      <th>fkre_score</th>\n",
              "      <th>fkgl_score</th>\n",
              "    </tr>\n",
              "  </thead>\n",
              "  <tbody>\n",
              "    <tr>\n",
              "      <th>0</th>\n",
              "      <td>59</td>\n",
              "      <td>https://lkml.iu.edu/hypermail/linux/kernel/200...</td>\n",
              "      <td>1</td>\n",
              "      <td>20200801175938</td>\n",
              "      <td>20200801215806.2659-1-cengiz@kernel.wtf</td>\n",
              "      <td>None</td>\n",
              "      <td>35</td>\n",
              "      <td>1596319178</td>\n",
              "      <td>1596322778</td>\n",
              "      <td>[PATCH v5] staging: atomisp: move null check t...</td>\n",
              "      <td>...</td>\n",
              "      <td>20200731083856.GF3703480@smile.fi.intel.com</td>\n",
              "      <td>Unknown</td>\n",
              "      <td>20200731083856.GF3703480@smile.fi.intel.com</td>\n",
              "      <td>0</td>\n",
              "      <td>(`, find_gmin_subdev, (, ), `, that, returns, ...</td>\n",
              "      <td>5</td>\n",
              "      <td>137</td>\n",
              "      <td>157</td>\n",
              "      <td>82.07000000</td>\n",
              "      <td>8.62000000</td>\n",
              "    </tr>\n",
              "    <tr>\n",
              "      <th>1</th>\n",
              "      <td>34</td>\n",
              "      <td>https://lkml.iu.edu/hypermail/linux/kernel/200...</td>\n",
              "      <td>1</td>\n",
              "      <td>20200801021814</td>\n",
              "      <td>202007312237.4F385EB3@keescook</td>\n",
              "      <td>None</td>\n",
              "      <td>23</td>\n",
              "      <td>1596262694</td>\n",
              "      <td>1596266294</td>\n",
              "      <td>Re: [PATCH v5 13/36] vmlinux.lds.h: add PGO an...</td>\n",
              "      <td>...</td>\n",
              "      <td>20200731230820.1742553-1-keescook@chromium.org</td>\n",
              "      <td>Unknown</td>\n",
              "      <td>20200801035128.GB2800311@rani.riverdale.lan</td>\n",
              "      <td>0</td>\n",
              "      <td>(On, Fri, ,, Jul, 31, ,, 2020, at, 11:51:28PM,...</td>\n",
              "      <td>119</td>\n",
              "      <td>1856</td>\n",
              "      <td>1897</td>\n",
              "      <td>104.54000000</td>\n",
              "      <td>2.55000000</td>\n",
              "    </tr>\n",
              "    <tr>\n",
              "      <th>2</th>\n",
              "      <td>35</td>\n",
              "      <td>https://lkml.iu.edu/hypermail/linux/kernel/200...</td>\n",
              "      <td>1</td>\n",
              "      <td>20200801021841</td>\n",
              "      <td>202008011403.PtFkHpqE%lkp@intel.com</td>\n",
              "      <td>https://lkml.iu.edu/hypermail/linux/kernel/200...</td>\n",
              "      <td>24</td>\n",
              "      <td>1596262721</td>\n",
              "      <td>1596266321</td>\n",
              "      <td>Re: [PATCH v3 21/23] device-dax: Add an 'align...</td>\n",
              "      <td>...</td>\n",
              "      <td>159625241660.3040297.3801913809845542130.stgit...</td>\n",
              "      <td>Unknown</td>\n",
              "      <td>159625241660.3040297.3801913809845542130.stgit...</td>\n",
              "      <td>0</td>\n",
              "      <td>(Hi, Dan, ,, \\n\\n, Thank, you, for, the, patch...</td>\n",
              "      <td>18</td>\n",
              "      <td>1031</td>\n",
              "      <td>1141</td>\n",
              "      <td>55.07000000</td>\n",
              "      <td>19.81000000</td>\n",
              "    </tr>\n",
              "    <tr>\n",
              "      <th>3</th>\n",
              "      <td>39</td>\n",
              "      <td>https://lkml.iu.edu/hypermail/linux/kernel/200...</td>\n",
              "      <td>1</td>\n",
              "      <td>202008010218140</td>\n",
              "      <td>202008011419.67BkWnAl%lkp@intel.com</td>\n",
              "      <td>None</td>\n",
              "      <td>24</td>\n",
              "      <td>1596262694</td>\n",
              "      <td>1596266294</td>\n",
              "      <td>Re: [PATCH v3 21/23] device-dax: Add an 'align...</td>\n",
              "      <td>...</td>\n",
              "      <td>159625241660.3040297.3801913809845542130.stgit...</td>\n",
              "      <td>Unknown</td>\n",
              "      <td>159625241660.3040297.3801913809845542130.stgit...</td>\n",
              "      <td>0</td>\n",
              "      <td>(Hi, Dan, ,, \\n\\n, Thank, you, for, the, patch...</td>\n",
              "      <td>21</td>\n",
              "      <td>1378</td>\n",
              "      <td>1534</td>\n",
              "      <td>46.05000000</td>\n",
              "      <td>23.14000000</td>\n",
              "    </tr>\n",
              "    <tr>\n",
              "      <th>4</th>\n",
              "      <td>40</td>\n",
              "      <td>https://lkml.iu.edu/hypermail/linux/kernel/200...</td>\n",
              "      <td>1</td>\n",
              "      <td>20200801053958</td>\n",
              "      <td>s5h7dui902e.wl-tiwai@suse.de</td>\n",
              "      <td>https://lkml.iu.edu/hypermail/linux/kernel/200...</td>\n",
              "      <td>3</td>\n",
              "      <td>1596274798</td>\n",
              "      <td>1596278398</td>\n",
              "      <td>Re: [PATCH] ALSA: seq: KASAN: use-after-free R...</td>\n",
              "      <td>...</td>\n",
              "      <td>20200801062403.8005-1-qiang.zhang@windriver.com</td>\n",
              "      <td>Unknown</td>\n",
              "      <td>20200801062403.8005-1-qiang.zhang@windriver.com</td>\n",
              "      <td>0</td>\n",
              "      <td>(On, Sat, ,, 01, Aug, 2020, 08:24:03, +0200, ,...</td>\n",
              "      <td>124</td>\n",
              "      <td>1572</td>\n",
              "      <td>1279</td>\n",
              "      <td>125.14000000</td>\n",
              "      <td>-1.05000000</td>\n",
              "    </tr>\n",
              "  </tbody>\n",
              "</table>\n",
              "<p>5 rows × 22 columns</p>\n",
              "</div>\n",
              "      <button class=\"colab-df-convert\" onclick=\"convertToInteractive('df-c681c0d5-7c86-4273-9777-51dbda118685')\"\n",
              "              title=\"Convert this dataframe to an interactive table.\"\n",
              "              style=\"display:none;\">\n",
              "        \n",
              "  <svg xmlns=\"http://www.w3.org/2000/svg\" height=\"24px\"viewBox=\"0 0 24 24\"\n",
              "       width=\"24px\">\n",
              "    <path d=\"M0 0h24v24H0V0z\" fill=\"none\"/>\n",
              "    <path d=\"M18.56 5.44l.94 2.06.94-2.06 2.06-.94-2.06-.94-.94-2.06-.94 2.06-2.06.94zm-11 1L8.5 8.5l.94-2.06 2.06-.94-2.06-.94L8.5 2.5l-.94 2.06-2.06.94zm10 10l.94 2.06.94-2.06 2.06-.94-2.06-.94-.94-2.06-.94 2.06-2.06.94z\"/><path d=\"M17.41 7.96l-1.37-1.37c-.4-.4-.92-.59-1.43-.59-.52 0-1.04.2-1.43.59L10.3 9.45l-7.72 7.72c-.78.78-.78 2.05 0 2.83L4 21.41c.39.39.9.59 1.41.59.51 0 1.02-.2 1.41-.59l7.78-7.78 2.81-2.81c.8-.78.8-2.07 0-2.86zM5.41 20L4 18.59l7.72-7.72 1.47 1.35L5.41 20z\"/>\n",
              "  </svg>\n",
              "      </button>\n",
              "      \n",
              "  <style>\n",
              "    .colab-df-container {\n",
              "      display:flex;\n",
              "      flex-wrap:wrap;\n",
              "      gap: 12px;\n",
              "    }\n",
              "\n",
              "    .colab-df-convert {\n",
              "      background-color: #E8F0FE;\n",
              "      border: none;\n",
              "      border-radius: 50%;\n",
              "      cursor: pointer;\n",
              "      display: none;\n",
              "      fill: #1967D2;\n",
              "      height: 32px;\n",
              "      padding: 0 0 0 0;\n",
              "      width: 32px;\n",
              "    }\n",
              "\n",
              "    .colab-df-convert:hover {\n",
              "      background-color: #E2EBFA;\n",
              "      box-shadow: 0px 1px 2px rgba(60, 64, 67, 0.3), 0px 1px 3px 1px rgba(60, 64, 67, 0.15);\n",
              "      fill: #174EA6;\n",
              "    }\n",
              "\n",
              "    [theme=dark] .colab-df-convert {\n",
              "      background-color: #3B4455;\n",
              "      fill: #D2E3FC;\n",
              "    }\n",
              "\n",
              "    [theme=dark] .colab-df-convert:hover {\n",
              "      background-color: #434B5C;\n",
              "      box-shadow: 0px 1px 3px 1px rgba(0, 0, 0, 0.15);\n",
              "      filter: drop-shadow(0px 1px 2px rgba(0, 0, 0, 0.3));\n",
              "      fill: #FFFFFF;\n",
              "    }\n",
              "  </style>\n",
              "\n",
              "      <script>\n",
              "        const buttonEl =\n",
              "          document.querySelector('#df-c681c0d5-7c86-4273-9777-51dbda118685 button.colab-df-convert');\n",
              "        buttonEl.style.display =\n",
              "          google.colab.kernel.accessAllowed ? 'block' : 'none';\n",
              "\n",
              "        async function convertToInteractive(key) {\n",
              "          const element = document.querySelector('#df-c681c0d5-7c86-4273-9777-51dbda118685');\n",
              "          const dataTable =\n",
              "            await google.colab.kernel.invokeFunction('convertToInteractive',\n",
              "                                                     [key], {});\n",
              "          if (!dataTable) return;\n",
              "\n",
              "          const docLinkHtml = 'Like what you see? Visit the ' +\n",
              "            '<a target=\"_blank\" href=https://colab.research.google.com/notebooks/data_table.ipynb>data table notebook</a>'\n",
              "            + ' to learn more about interactive tables.';\n",
              "          element.innerHTML = '';\n",
              "          dataTable['output_type'] = 'display_data';\n",
              "          await google.colab.output.renderOutput(dataTable, element);\n",
              "          const docLink = document.createElement('div');\n",
              "          docLink.innerHTML = docLinkHtml;\n",
              "          element.appendChild(docLink);\n",
              "        }\n",
              "      </script>\n",
              "    </div>\n",
              "  </div>\n",
              "  "
            ]
          },
          "metadata": {},
          "execution_count": 57
        }
      ]
    },
    {
      "cell_type": "code",
      "source": [],
      "metadata": {
        "id": "hX5rv00x8zCZ"
      },
      "execution_count": null,
      "outputs": []
    }
  ]
}