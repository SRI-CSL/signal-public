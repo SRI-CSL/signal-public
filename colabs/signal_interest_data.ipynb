{
  "nbformat": 4,
  "nbformat_minor": 0,
  "metadata": {
    "colab": {
      "provenance": [],
      "collapsed_sections": [
        "rDlRXb7G0l0w"
      ],
      "toc_visible": true,
      "authorship_tag": "ABX9TyN8zmoW+L23CxR0mCXxseHE",
      "include_colab_link": true
    },
    "kernelspec": {
      "name": "python3",
      "display_name": "Python 3"
    },
    "language_info": {
      "name": "python"
    }
  },
  "cells": [
    {
      "cell_type": "markdown",
      "metadata": {
        "id": "view-in-github",
        "colab_type": "text"
      },
      "source": [
        "<a href=\"https://colab.research.google.com/github/SRI-CSL/signal-public/blob/signal-demonstration/colabs/signal_interest_data.ipynb\" target=\"_parent\"><img src=\"https://colab.research.google.com/assets/colab-badge.svg\" alt=\"Open In Colab\"/></a>"
      ]
    },
    {
      "cell_type": "markdown",
      "source": [
        "# **SIGNAL**ing Interest Data\n",
        "\n",
        "**Description:** Generating `interest` dataframe via SIGNAL API.\n",
        "\n",
        "**Copyright 2022 SRI International.**\n",
        "\n",
        "This project is under the GPL3 License. See the [LICENSE](https://www.gnu.org/licenses/gpl-3.0.en.html) file for the full license text."
      ],
      "metadata": {
        "id": "--4z2fpmSRbl"
      }
    },
    {
      "cell_type": "markdown",
      "source": [
        "## &#9776; Preamble"
      ],
      "metadata": {
        "id": "aDuf5ihcSadD"
      }
    },
    {
      "cell_type": "markdown",
      "source": [
        "Install the `SIGNAL API` client"
      ],
      "metadata": {
        "id": "CrBwUmDsTsSb"
      }
    },
    {
      "cell_type": "code",
      "source": [
        "!curl https://signal.cta.sri.com/client > client.tgz\n",
        "!tar xzf client.tgz\n",
        "!pip install -r signal_api_client/requirements.txt\n",
        "!pip install -e signal_api_client\n",
        "!pip install ipympl\n",
        "%cd /content/signal_api_client   "
      ],
      "metadata": {
        "id": "kXaiQzHaRCV4"
      },
      "execution_count": null,
      "outputs": []
    },
    {
      "cell_type": "markdown",
      "source": [
        "Download the `funcs` utilities repository."
      ],
      "metadata": {
        "id": "8UaF_4QnT1l7"
      }
    },
    {
      "cell_type": "code",
      "source": [
        "!git clone https://github.com/hsanchez/funcs.git &> /dev/null"
      ],
      "metadata": {
        "id": "fveFG9JuTppn"
      },
      "execution_count": 1,
      "outputs": []
    },
    {
      "cell_type": "markdown",
      "source": [
        "## &#9776; Dependencies"
      ],
      "metadata": {
        "id": "sIMm3y5HSjln"
      }
    },
    {
      "cell_type": "code",
      "execution_count": 2,
      "metadata": {
        "id": "3bJ7eePCQ4J2"
      },
      "outputs": [],
      "source": [
        "import os\n",
        "import sys\n",
        "import time\n",
        "import warnings\n",
        "\n",
        "import json\n",
        "import pickle\n",
        "import pathlib\n",
        "import zipfile\n",
        "import re\n",
        "\n",
        "import numpy as np\n",
        "import pandas as pd\n",
        "import matplotlib.pyplot as plt\n",
        "\n",
        "from typing import List, Any, Dict, Tuple\n",
        "from datetime import date, datetime"
      ]
    },
    {
      "cell_type": "code",
      "source": [
        "os.chdir(f'./funcs')\n",
        "!git fetch"
      ],
      "metadata": {
        "id": "LEAbSQ7BqVc-"
      },
      "execution_count": 3,
      "outputs": []
    },
    {
      "cell_type": "code",
      "source": [
        "!git checkout activity_roles_detection_colab &> /dev/null"
      ],
      "metadata": {
        "id": "Ixa2MBmoqaFz"
      },
      "execution_count": 4,
      "outputs": []
    },
    {
      "cell_type": "code",
      "source": [
        "import funcs as utils"
      ],
      "metadata": {
        "id": "4buhY0e0ULHh"
      },
      "execution_count": 5,
      "outputs": []
    },
    {
      "cell_type": "code",
      "source": [
        "import spacy"
      ],
      "metadata": {
        "id": "kKHTQGw9v0yS"
      },
      "execution_count": 6,
      "outputs": []
    },
    {
      "cell_type": "code",
      "source": [
        "from signal_api import signal"
      ],
      "metadata": {
        "id": "-Zabla_JWC11"
      },
      "execution_count": 7,
      "outputs": []
    },
    {
      "cell_type": "markdown",
      "source": [
        "## &#9997; Configuration"
      ],
      "metadata": {
        "id": "swVZEtyxUvJT"
      }
    },
    {
      "cell_type": "code",
      "source": [
        "warnings.filterwarnings(\"ignore\")"
      ],
      "metadata": {
        "id": "3PYox-GMUsNd"
      },
      "execution_count": 8,
      "outputs": []
    },
    {
      "cell_type": "code",
      "source": [
        "%matplotlib inline\n",
        "%config InlineBackend.figure_format='retina'"
      ],
      "metadata": {
        "id": "mI21zr5RV0Kd"
      },
      "execution_count": 9,
      "outputs": []
    },
    {
      "cell_type": "code",
      "source": [
        "np.random.seed(0)"
      ],
      "metadata": {
        "id": "CMUvjPyTxBdn"
      },
      "execution_count": 10,
      "outputs": []
    },
    {
      "cell_type": "code",
      "source": [
        "nlp = spacy.load('en_core_web_sm')"
      ],
      "metadata": {
        "id": "qUot8PpMv6j7"
      },
      "execution_count": 11,
      "outputs": []
    },
    {
      "cell_type": "code",
      "source": [
        "from IPython import get_ipython\n",
        "utils.common.set_default_vars(os.environ, ipython_val=get_ipython())"
      ],
      "metadata": {
        "id": "GkYzO6auqvY-"
      },
      "execution_count": 12,
      "outputs": []
    },
    {
      "cell_type": "code",
      "source": [
        "utils.console.stdout.print(utils.common.is_run_in_colab())"
      ],
      "metadata": {
        "colab": {
          "base_uri": "https://localhost:8080/",
          "height": 33
        },
        "id": "wmbyDJ4Qq05f",
        "outputId": "d1fb8214-92c2-4cf4-bd4b-16c4ecca2182"
      },
      "execution_count": 13,
      "outputs": [
        {
          "output_type": "display_data",
          "data": {
            "text/plain": [
              "\u001b[3;92mTrue\u001b[0m\n"
            ],
            "text/html": [
              "<pre style=\"white-space:pre;overflow-x:auto;line-height:normal;font-family:Menlo,'DejaVu Sans Mono',consolas,'Courier New',monospace\"><span style=\"color: #00ff00; text-decoration-color: #00ff00; font-style: italic\">True</span>\n",
              "</pre>\n"
            ]
          },
          "metadata": {}
        }
      ]
    },
    {
      "cell_type": "markdown",
      "source": [
        "## &#9881; Functions"
      ],
      "metadata": {
        "id": "N39WXYGdyiO0"
      }
    },
    {
      "cell_type": "code",
      "source": [
        "# B.H. note: Add functions that are not already in funcs here..."
      ],
      "metadata": {
        "id": "_JNq4b1mylNV"
      },
      "execution_count": 14,
      "outputs": []
    },
    {
      "cell_type": "code",
      "source": [
        "def get_record_count(table_name: str) -> int:\n",
        "    query = f\"SELECT COUNT(*) FROM {table_name};\"\n",
        "    df_result = signal.query_dataframe(query)\n",
        "    result = df_result['count'].iloc[0]\n",
        "    return result"
      ],
      "metadata": {
        "id": "mxjoxnXG9jdp"
      },
      "execution_count": 15,
      "outputs": []
    },
    {
      "cell_type": "markdown",
      "source": [
        "### &#9759; Bot Analysis Functions"
      ],
      "metadata": {
        "id": "vCmVt3B4SnzX"
      }
    },
    {
      "cell_type": "code",
      "source": [
        "REGEX_GREG_ADDED = re.compile('patch \\\".*\\\" added to .*')\n",
        "\n",
        "BOTS = {'tip-bot2@linutronix.de', 'tipbot@zytor.com', 'tip-bot2@tip-bot2',\n",
        "        'lkp@ff58d72860ac', 'lkp@shao2-debian', 'lkp@xsang-OptiPlex-9020',\n",
        "        'rong.a.chen@shao2-debian', 'lkp@b50bd4e4e446', 'rong.a.chen@shao2-debian',\n",
        "        'noreply@ciplatform.org', 'patchwork@emeril.freedesktop.org',\n",
        "        'pr-tracker-bot@kernel.org'}\n",
        "        \n",
        "POTENTIAL_BOTS = {'broonie@kernel.org', 'lkp@intel.com',\n",
        "                  'boqun.feng@debian-boqun.qqnc3lrjykvubdpftowmye0fmh.lx.internal.cloudapp.net'}"
      ],
      "metadata": {
        "id": "NuSk1NtqSokP"
      },
      "execution_count": 16,
      "outputs": []
    },
    {
      "cell_type": "code",
      "source": [
        "def is_bot(patch: dict) -> bool:\n",
        "    email_address = patch['email']\n",
        "    if email_address in BOTS:\n",
        "        return True\n",
        "    \n",
        "    subject_line = patch.get('subject', '')\n",
        "    if email_address in POTENTIAL_BOTS:\n",
        "        # Mark Brown's bot and lkp\n",
        "        if subject_line.startswith('applied'):\n",
        "            return True\n",
        "    sender_name = patch.get('senderName', None)\n",
        "    sender_name = patch.get('name', '') if sender_name is None else sender_name\n",
        "    if 'tip-bot2' in sender_name or 'syzbot' in sender_name:\n",
        "        return True\n",
        "    if 'tip-bot' in sender_name:\n",
        "        return True\n",
        "    if sender_name in POTENTIAL_BOTS:\n",
        "        return True\n",
        "    if 'kernel test robot' in sender_name:\n",
        "        return True\n",
        "    \n",
        "    if REGEX_GREG_ADDED.match(subject_line):\n",
        "        return True\n",
        "    \n",
        "    # AKPM's bot. AKPM uses s-nail for automated mails, and sylpheed for all\n",
        "    # other mails. That's how we can easily separate automated mails from\n",
        "    # real mails. Further, akpm acts as bot if the subject contains [merged]\n",
        "    if email_address == 'akpm@linux-foundation.org':\n",
        "        if '[merged]' in subject_line:\n",
        "            return True\n",
        "\n",
        "    # syzbot - email format: syzbot-hash@syzkaller.appspotmail.com\n",
        "    if 'syzbot' in email_address and 'syzkaller.appspotmail.com' in email_address:\n",
        "        return True\n",
        "    \n",
        "    # Github Bot\n",
        "    if 'noreply@github.com' in email_address:\n",
        "        return True\n",
        "    \n",
        "    # Buildroot's daily results bot\n",
        "    if '[autobuild.buildroot.net] daily results' in subject_line or \\\n",
        "        'oe-core cve metrics' in subject_line:\n",
        "            return True\n",
        "    \n",
        "    return False"
      ],
      "metadata": {
        "id": "cLZfbIA0SpSh"
      },
      "execution_count": 17,
      "outputs": []
    },
    {
      "cell_type": "markdown",
      "source": [
        "### &#9759; NLP"
      ],
      "metadata": {
        "id": "AtCy7-vJRk1-"
      }
    },
    {
      "cell_type": "code",
      "source": [
        "def fkre_score(total_words: int, total_sentences: int, total_syllables: int) -> float:\n",
        "    \"\"\"Flesch Kincaid Reading Ease (FKRE) score\"\"\"\n",
        "\n",
        "    return round(206.835 - 1.015 * (total_words/total_sentences) - 84.6 * (total_syllables/total_words), 2)"
      ],
      "metadata": {
        "id": "l4esqDWQRoAX"
      },
      "execution_count": 18,
      "outputs": []
    },
    {
      "cell_type": "code",
      "source": [
        "def fkgl_score(total_words: int, total_sentences: int, total_syllables: int) -> float:\n",
        "    \"\"\"Flesch Kincaid Grade Level (FKGL) score\"\"\"\n",
        "\n",
        "    return round(0.39 * (total_words/total_sentences) + 11.8 * (total_syllables/total_words) - 15.59, 2)"
      ],
      "metadata": {
        "id": "3nfT281PRn4L"
      },
      "execution_count": 19,
      "outputs": []
    },
    {
      "cell_type": "code",
      "source": [
        "def count_syllables(word: str) -> int:\n",
        "    \"\"\"source: https://codereview.stackexchange.com/questions/224177/python-function-to-count-syllables-in-a-word\"\"\"\n",
        "    return len(\n",
        "        re.findall('(?!e$)[aeiouy]+', word, re.I) +\n",
        "        re.findall('^[^aeiouy]*e$', word, re.I)\n",
        "    )"
      ],
      "metadata": {
        "id": "RkDk1oa4R0Yp"
      },
      "execution_count": 22,
      "outputs": []
    },
    {
      "cell_type": "code",
      "source": [
        "def message_length(email_body: str) -> int:\n",
        "    return len(email_body.split(\"\\n\"))"
      ],
      "metadata": {
        "id": "tSjvkmeDR3fu"
      },
      "execution_count": 23,
      "outputs": []
    },
    {
      "cell_type": "code",
      "source": [
        "def text_to_spacy_nlp(email_body: str):\n",
        "    \"\"\"spacy nlp transformation\"\"\"\n",
        "    return nlp(email_body)"
      ],
      "metadata": {
        "id": "Nz-jg7v2R7OT"
      },
      "execution_count": 24,
      "outputs": []
    },
    {
      "cell_type": "code",
      "source": [
        "def sentence_count(spacy_txt):\n",
        "    \"\"\"calculate the number of sentences in an input text\n",
        "    pre-requisite: run text_to_spacy_nlp() on the original email body\n",
        "    \"\"\"\n",
        "    return len(list(spacy_txt.sents))"
      ],
      "metadata": {
        "id": "p4ctOo0cSAtd"
      },
      "execution_count": 25,
      "outputs": []
    },
    {
      "cell_type": "code",
      "source": [
        "def retrieve_words(spacy_txt):\n",
        "    return [token.text for token in spacy_txt if not token.is_punct]"
      ],
      "metadata": {
        "id": "6VAaXtWzSE6-"
      },
      "execution_count": 26,
      "outputs": []
    },
    {
      "cell_type": "code",
      "source": [
        "def word_count(spacy_txt):\n",
        "    \"\"\"calculate the number of words in an input text\n",
        "    pre-requisite: run text_to_spacy_nlp() on the original email body\n",
        "    \"\"\"\n",
        "    return len(retrieve_words(spacy_txt))"
      ],
      "metadata": {
        "id": "b17U98xoSIIa"
      },
      "execution_count": 27,
      "outputs": []
    },
    {
      "cell_type": "markdown",
      "source": [
        "## &#128272; Login"
      ],
      "metadata": {
        "id": "VgWxF-0CVEoJ"
      }
    },
    {
      "cell_type": "code",
      "source": [
        "signal.login()"
      ],
      "metadata": {
        "colab": {
          "base_uri": "https://localhost:8080/"
        },
        "id": "T3Yxx02UVHK3",
        "outputId": "374e89f8-c9d3-4490-d08c-9c191646a23b"
      },
      "execution_count": 28,
      "outputs": [
        {
          "name": "stdout",
          "output_type": "stream",
          "text": [
            "username?: ··········\n",
            "password?: ··········\n"
          ]
        },
        {
          "output_type": "execute_result",
          "data": {
            "text/plain": [
              "True"
            ]
          },
          "metadata": {},
          "execution_count": 28
        }
      ]
    },
    {
      "cell_type": "markdown",
      "source": [
        "## &#128722; Data"
      ],
      "metadata": {
        "id": "WJcBUDqgyu2V"
      }
    },
    {
      "cell_type": "markdown",
      "source": [
        "### &#9759; Tables"
      ],
      "metadata": {
        "id": "rDlRXb7G0l0w"
      }
    },
    {
      "cell_type": "code",
      "source": [
        "TABLES_QUERY = \"SELECT * FROM information_schema.tables WHERE table_type='BASE TABLE';\""
      ],
      "metadata": {
        "id": "Iu5Eb1dQ0q0r"
      },
      "execution_count": 29,
      "outputs": []
    },
    {
      "cell_type": "code",
      "source": [
        "df_tables = signal.query_dataframe(TABLES_QUERY)"
      ],
      "metadata": {
        "id": "MA-wn1lk0yYD"
      },
      "execution_count": 30,
      "outputs": []
    },
    {
      "cell_type": "code",
      "source": [
        "table_names = df_tables.table_name.unique()"
      ],
      "metadata": {
        "id": "simEHVpW1vAH"
      },
      "execution_count": 31,
      "outputs": []
    },
    {
      "cell_type": "code",
      "source": [
        "print(f\"There are {len(table_names)} tables currently present in the SIGNAL database.\")"
      ],
      "metadata": {
        "colab": {
          "base_uri": "https://localhost:8080/"
        },
        "id": "eFLHvQGS1u7o",
        "outputId": "0c14c87b-1f00-46da-d6e8-6ed55737df2d"
      },
      "execution_count": 32,
      "outputs": [
        {
          "output_type": "stream",
          "name": "stdout",
          "text": [
            "There are 87 tables currently present in the SIGNAL database.\n"
          ]
        }
      ]
    },
    {
      "cell_type": "code",
      "source": [
        "df_tables.head()"
      ],
      "metadata": {
        "colab": {
          "base_uri": "https://localhost:8080/",
          "height": 0
        },
        "id": "bJ3ny5e21u4f",
        "outputId": "1230c79d-f01e-4d62-dc40-6708a0e77486"
      },
      "execution_count": 33,
      "outputs": [
        {
          "output_type": "execute_result",
          "data": {
            "text/plain": [
              "  table_catalog table_schema            table_name  table_type  \\\n",
              "0        signal       public      scraped_projects  BASE TABLE   \n",
              "1        signal       public  scraped_patch_series  BASE TABLE   \n",
              "2        signal       public                  diff  BASE TABLE   \n",
              "3        signal       public                thread  BASE TABLE   \n",
              "4        signal       public             git_files  BASE TABLE   \n",
              "\n",
              "  self_referencing_column_name reference_generation user_defined_type_catalog  \\\n",
              "0                         None                 None                      None   \n",
              "1                         None                 None                      None   \n",
              "2                         None                 None                      None   \n",
              "3                         None                 None                      None   \n",
              "4                         None                 None                      None   \n",
              "\n",
              "  user_defined_type_schema user_defined_type_name is_insertable_into is_typed  \\\n",
              "0                     None                   None                YES       NO   \n",
              "1                     None                   None                YES       NO   \n",
              "2                     None                   None                YES       NO   \n",
              "3                     None                   None                YES       NO   \n",
              "4                     None                   None                YES       NO   \n",
              "\n",
              "  commit_action  \n",
              "0          None  \n",
              "1          None  \n",
              "2          None  \n",
              "3          None  \n",
              "4          None  "
            ],
            "text/html": [
              "\n",
              "  <div id=\"df-ba38ee0b-3912-470b-9d4b-1fea5cbd5cd4\">\n",
              "    <div class=\"colab-df-container\">\n",
              "      <div>\n",
              "<style scoped>\n",
              "    .dataframe tbody tr th:only-of-type {\n",
              "        vertical-align: middle;\n",
              "    }\n",
              "\n",
              "    .dataframe tbody tr th {\n",
              "        vertical-align: top;\n",
              "    }\n",
              "\n",
              "    .dataframe thead th {\n",
              "        text-align: right;\n",
              "    }\n",
              "</style>\n",
              "<table border=\"1\" class=\"dataframe\">\n",
              "  <thead>\n",
              "    <tr style=\"text-align: right;\">\n",
              "      <th></th>\n",
              "      <th>table_catalog</th>\n",
              "      <th>table_schema</th>\n",
              "      <th>table_name</th>\n",
              "      <th>table_type</th>\n",
              "      <th>self_referencing_column_name</th>\n",
              "      <th>reference_generation</th>\n",
              "      <th>user_defined_type_catalog</th>\n",
              "      <th>user_defined_type_schema</th>\n",
              "      <th>user_defined_type_name</th>\n",
              "      <th>is_insertable_into</th>\n",
              "      <th>is_typed</th>\n",
              "      <th>commit_action</th>\n",
              "    </tr>\n",
              "  </thead>\n",
              "  <tbody>\n",
              "    <tr>\n",
              "      <th>0</th>\n",
              "      <td>signal</td>\n",
              "      <td>public</td>\n",
              "      <td>scraped_projects</td>\n",
              "      <td>BASE TABLE</td>\n",
              "      <td>None</td>\n",
              "      <td>None</td>\n",
              "      <td>None</td>\n",
              "      <td>None</td>\n",
              "      <td>None</td>\n",
              "      <td>YES</td>\n",
              "      <td>NO</td>\n",
              "      <td>None</td>\n",
              "    </tr>\n",
              "    <tr>\n",
              "      <th>1</th>\n",
              "      <td>signal</td>\n",
              "      <td>public</td>\n",
              "      <td>scraped_patch_series</td>\n",
              "      <td>BASE TABLE</td>\n",
              "      <td>None</td>\n",
              "      <td>None</td>\n",
              "      <td>None</td>\n",
              "      <td>None</td>\n",
              "      <td>None</td>\n",
              "      <td>YES</td>\n",
              "      <td>NO</td>\n",
              "      <td>None</td>\n",
              "    </tr>\n",
              "    <tr>\n",
              "      <th>2</th>\n",
              "      <td>signal</td>\n",
              "      <td>public</td>\n",
              "      <td>diff</td>\n",
              "      <td>BASE TABLE</td>\n",
              "      <td>None</td>\n",
              "      <td>None</td>\n",
              "      <td>None</td>\n",
              "      <td>None</td>\n",
              "      <td>None</td>\n",
              "      <td>YES</td>\n",
              "      <td>NO</td>\n",
              "      <td>None</td>\n",
              "    </tr>\n",
              "    <tr>\n",
              "      <th>3</th>\n",
              "      <td>signal</td>\n",
              "      <td>public</td>\n",
              "      <td>thread</td>\n",
              "      <td>BASE TABLE</td>\n",
              "      <td>None</td>\n",
              "      <td>None</td>\n",
              "      <td>None</td>\n",
              "      <td>None</td>\n",
              "      <td>None</td>\n",
              "      <td>YES</td>\n",
              "      <td>NO</td>\n",
              "      <td>None</td>\n",
              "    </tr>\n",
              "    <tr>\n",
              "      <th>4</th>\n",
              "      <td>signal</td>\n",
              "      <td>public</td>\n",
              "      <td>git_files</td>\n",
              "      <td>BASE TABLE</td>\n",
              "      <td>None</td>\n",
              "      <td>None</td>\n",
              "      <td>None</td>\n",
              "      <td>None</td>\n",
              "      <td>None</td>\n",
              "      <td>YES</td>\n",
              "      <td>NO</td>\n",
              "      <td>None</td>\n",
              "    </tr>\n",
              "  </tbody>\n",
              "</table>\n",
              "</div>\n",
              "      <button class=\"colab-df-convert\" onclick=\"convertToInteractive('df-ba38ee0b-3912-470b-9d4b-1fea5cbd5cd4')\"\n",
              "              title=\"Convert this dataframe to an interactive table.\"\n",
              "              style=\"display:none;\">\n",
              "        \n",
              "  <svg xmlns=\"http://www.w3.org/2000/svg\" height=\"24px\"viewBox=\"0 0 24 24\"\n",
              "       width=\"24px\">\n",
              "    <path d=\"M0 0h24v24H0V0z\" fill=\"none\"/>\n",
              "    <path d=\"M18.56 5.44l.94 2.06.94-2.06 2.06-.94-2.06-.94-.94-2.06-.94 2.06-2.06.94zm-11 1L8.5 8.5l.94-2.06 2.06-.94-2.06-.94L8.5 2.5l-.94 2.06-2.06.94zm10 10l.94 2.06.94-2.06 2.06-.94-2.06-.94-.94-2.06-.94 2.06-2.06.94z\"/><path d=\"M17.41 7.96l-1.37-1.37c-.4-.4-.92-.59-1.43-.59-.52 0-1.04.2-1.43.59L10.3 9.45l-7.72 7.72c-.78.78-.78 2.05 0 2.83L4 21.41c.39.39.9.59 1.41.59.51 0 1.02-.2 1.41-.59l7.78-7.78 2.81-2.81c.8-.78.8-2.07 0-2.86zM5.41 20L4 18.59l7.72-7.72 1.47 1.35L5.41 20z\"/>\n",
              "  </svg>\n",
              "      </button>\n",
              "      \n",
              "  <style>\n",
              "    .colab-df-container {\n",
              "      display:flex;\n",
              "      flex-wrap:wrap;\n",
              "      gap: 12px;\n",
              "    }\n",
              "\n",
              "    .colab-df-convert {\n",
              "      background-color: #E8F0FE;\n",
              "      border: none;\n",
              "      border-radius: 50%;\n",
              "      cursor: pointer;\n",
              "      display: none;\n",
              "      fill: #1967D2;\n",
              "      height: 32px;\n",
              "      padding: 0 0 0 0;\n",
              "      width: 32px;\n",
              "    }\n",
              "\n",
              "    .colab-df-convert:hover {\n",
              "      background-color: #E2EBFA;\n",
              "      box-shadow: 0px 1px 2px rgba(60, 64, 67, 0.3), 0px 1px 3px 1px rgba(60, 64, 67, 0.15);\n",
              "      fill: #174EA6;\n",
              "    }\n",
              "\n",
              "    [theme=dark] .colab-df-convert {\n",
              "      background-color: #3B4455;\n",
              "      fill: #D2E3FC;\n",
              "    }\n",
              "\n",
              "    [theme=dark] .colab-df-convert:hover {\n",
              "      background-color: #434B5C;\n",
              "      box-shadow: 0px 1px 3px 1px rgba(0, 0, 0, 0.15);\n",
              "      filter: drop-shadow(0px 1px 2px rgba(0, 0, 0, 0.3));\n",
              "      fill: #FFFFFF;\n",
              "    }\n",
              "  </style>\n",
              "\n",
              "      <script>\n",
              "        const buttonEl =\n",
              "          document.querySelector('#df-ba38ee0b-3912-470b-9d4b-1fea5cbd5cd4 button.colab-df-convert');\n",
              "        buttonEl.style.display =\n",
              "          google.colab.kernel.accessAllowed ? 'block' : 'none';\n",
              "\n",
              "        async function convertToInteractive(key) {\n",
              "          const element = document.querySelector('#df-ba38ee0b-3912-470b-9d4b-1fea5cbd5cd4');\n",
              "          const dataTable =\n",
              "            await google.colab.kernel.invokeFunction('convertToInteractive',\n",
              "                                                     [key], {});\n",
              "          if (!dataTable) return;\n",
              "\n",
              "          const docLinkHtml = 'Like what you see? Visit the ' +\n",
              "            '<a target=\"_blank\" href=https://colab.research.google.com/notebooks/data_table.ipynb>data table notebook</a>'\n",
              "            + ' to learn more about interactive tables.';\n",
              "          element.innerHTML = '';\n",
              "          dataTable['output_type'] = 'display_data';\n",
              "          await google.colab.output.renderOutput(dataTable, element);\n",
              "          const docLink = document.createElement('div');\n",
              "          docLink.innerHTML = docLinkHtml;\n",
              "          element.appendChild(docLink);\n",
              "        }\n",
              "      </script>\n",
              "    </div>\n",
              "  </div>\n",
              "  "
            ]
          },
          "metadata": {},
          "execution_count": 33
        }
      ]
    },
    {
      "cell_type": "code",
      "source": [
        "table_names"
      ],
      "metadata": {
        "id": "fDIf58l1_xhA",
        "outputId": "141d8679-b321-4e84-ffde-07e22544dc90",
        "colab": {
          "base_uri": "https://localhost:8080/"
        }
      },
      "execution_count": 34,
      "outputs": [
        {
          "output_type": "execute_result",
          "data": {
            "text/plain": [
              "array(['scraped_projects', 'scraped_patch_series', 'diff', 'thread',\n",
              "       'git_files', 'email', 'git_commit_edges', 'pg_statistic',\n",
              "       'pg_type', 'git_file_changes', 'scraped_patches',\n",
              "       'alembic_version', 'api_key', 'pg_foreign_table', 'pg_authid',\n",
              "       'signal_history', 'pg_statistic_ext_data', 'git_repos',\n",
              "       'user_identities', 'person', 'scraped_patch_submitters',\n",
              "       'mailing_list', 'git_sigs', 'pg_user_mapping', 'pg_subscription',\n",
              "       'pg_attribute', 'pg_proc', 'pg_class', 'pg_attrdef',\n",
              "       'pg_constraint', 'pg_inherits', 'pg_index', 'pg_operator',\n",
              "       'pg_opfamily', 'pg_opclass', 'pg_am', 'pg_amop', 'pg_amproc',\n",
              "       'pg_language', 'pg_largeobject_metadata', 'pg_aggregate',\n",
              "       'pg_statistic_ext', 'pg_rewrite', 'pg_trigger', 'pg_event_trigger',\n",
              "       'pg_description', 'pg_cast', 'pg_enum', 'pg_namespace',\n",
              "       'pg_conversion', 'pg_depend', 'pg_database', 'pg_db_role_setting',\n",
              "       'pg_tablespace', 'pg_auth_members', 'pg_shdepend',\n",
              "       'pg_shdescription', 'pg_ts_config', 'pg_ts_config_map',\n",
              "       'pg_ts_dict', 'pg_ts_parser', 'pg_ts_template', 'pg_extension',\n",
              "       'pg_foreign_data_wrapper', 'pg_foreign_server', 'pg_policy',\n",
              "       'pg_replication_origin', 'pg_default_acl', 'pg_init_privs',\n",
              "       'pg_seclabel', 'pg_shseclabel', 'pg_collation',\n",
              "       'pg_partitioned_table', 'pg_range', 'pg_transform', 'pg_sequence',\n",
              "       'pg_publication', 'pg_publication_rel', 'pg_subscription_rel',\n",
              "       'pg_largeobject', 'git_xrefs', 'sql_parts',\n",
              "       'sql_implementation_info', 'sql_features', 'sql_sizing',\n",
              "       'patchwork_person_id', 'git_commits'], dtype=object)"
            ]
          },
          "metadata": {},
          "execution_count": 34
        }
      ]
    },
    {
      "cell_type": "markdown",
      "source": [
        "### &#9759; Email Data"
      ],
      "metadata": {
        "id": "gjrd9zuB0Spe"
      }
    },
    {
      "cell_type": "code",
      "source": [
        "START_DATE = datetime(2020, 8, 1)\n",
        "END_DATE = datetime(2020, 8, 2)"
      ],
      "metadata": {
        "id": "7CjU1mWI0Ysa"
      },
      "execution_count": 45,
      "outputs": []
    },
    {
      "cell_type": "code",
      "source": [
        "df_email = signal.query_dataframe(f\"SELECT * FROM email WHERE timestamp_sent > {START_DATE.timestamp()} and timestamp_sent < {END_DATE.timestamp()};\")"
      ],
      "metadata": {
        "id": "RWMyJ1JFWQ5B"
      },
      "execution_count": 46,
      "outputs": []
    },
    {
      "cell_type": "code",
      "source": [
        "df_email.info()"
      ],
      "metadata": {
        "colab": {
          "base_uri": "https://localhost:8080/"
        },
        "id": "cPN1ckzUWamU",
        "outputId": "f697f899-6bc8-4411-d2ff-cc18a6108ea7"
      },
      "execution_count": 47,
      "outputs": [
        {
          "output_type": "stream",
          "name": "stdout",
          "text": [
            "<class 'pandas.core.frame.DataFrame'>\n",
            "RangeIndex: 370 entries, 0 to 369\n",
            "Data columns (total 15 columns):\n",
            " #   Column               Non-Null Count  Dtype \n",
            "---  ------               --------------  ----- \n",
            " 0   id                   370 non-null    int64 \n",
            " 1   url                  370 non-null    object\n",
            " 2   mailing_list_id      370 non-null    int64 \n",
            " 3   email_id             370 non-null    object\n",
            " 4   message_id           370 non-null    object\n",
            " 5   reply_to_url         193 non-null    object\n",
            " 6   author_id            370 non-null    int64 \n",
            " 7   timestamp_sent       370 non-null    int64 \n",
            " 8   timestamp_recv       370 non-null    int64 \n",
            " 9   subject              370 non-null    object\n",
            " 10  body                 370 non-null    object\n",
            " 11  clean_body           370 non-null    object\n",
            " 12  thread_id            370 non-null    object\n",
            " 13  persuasion           370 non-null    object\n",
            " 14  reply_to_message_id  370 non-null    object\n",
            "dtypes: int64(5), object(10)\n",
            "memory usage: 43.5+ KB\n"
          ]
        }
      ]
    },
    {
      "cell_type": "code",
      "source": [
        "df_email.head()"
      ],
      "metadata": {
        "colab": {
          "base_uri": "https://localhost:8080/",
          "height": 496
        },
        "id": "nL6s1P7nWb99",
        "outputId": "5cee6166-441d-4380-800a-d86758f4a33f"
      },
      "execution_count": 48,
      "outputs": [
        {
          "output_type": "execute_result",
          "data": {
            "text/plain": [
              "      id                                                url  mailing_list_id  \\\n",
              "0  31413  https://lkml.iu.edu/hypermail/linux/kernel/200...                1   \n",
              "1  30807  https://lkml.iu.edu/hypermail/linux/kernel/200...                1   \n",
              "2  30820  https://lkml.iu.edu/hypermail/linux/kernel/200...                1   \n",
              "3  33521  https://lkml.iu.edu/hypermail/linux/kernel/200...                1   \n",
              "4  31045  https://lkml.iu.edu/hypermail/linux/kernel/200...                1   \n",
              "\n",
              "          email_id                                         message_id  \\\n",
              "0   20200801044951     20200801084721.1812607-4-songliubraving@fb.com   \n",
              "1   20200801110231       20200801150050.767038-2-masahiroy@kernel.org   \n",
              "2   20200801090629       20200801130856.86625-3-chenzhou10@huawei.com   \n",
              "3  202008011049310  d43150db4486c8e4f23336d0266fefc1@NO-ID-FOUND.m...   \n",
              "4   20200801130229     636faf6f-4c85-0582-2482-b99002888d0d@kernel.dk   \n",
              "\n",
              "                                        reply_to_url  author_id  \\\n",
              "0  https://lkml.iu.edu/hypermail/linux/kernel/200...       1062   \n",
              "1  https://lkml.iu.edu/hypermail/linux/kernel/200...        208   \n",
              "2  https://lkml.iu.edu/hypermail/linux/kernel/200...       2724   \n",
              "3                                               None        858   \n",
              "4  https://lkml.iu.edu/hypermail/linux/kernel/200...        158   \n",
              "\n",
              "   timestamp_sent  timestamp_recv  \\\n",
              "0      1596271791      1596275391   \n",
              "1      1596294151      1596297751   \n",
              "2      1596287189      1596290789   \n",
              "3      1596293371      1596296971   \n",
              "4      1596301349      1596304949   \n",
              "\n",
              "                                             subject  \\\n",
              "0  [PATCH bpf-next 3/5] selftests/bpf: add selfte...   \n",
              "1  [PATCH 2/2] kbuild: stop filtering out $(GCC_P...   \n",
              "2  [PATCH v11 2/5] x86: kdump: move reserve_crash...   \n",
              "3  [PATCH] mm/swap.c: optimizing __pagevec_lru_ad...   \n",
              "4      Re: [PATCH] fs: optimise kiocb_set_rw_flags()   \n",
              "\n",
              "                                                body  \\\n",
              "0  This test checks the correctness of BPF_PROG_T...   \n",
              "1  Commit d26e94149276 (\"kbuild: no gcc-plugins d...   \n",
              "2  In preparation for supporting reserve_crashker...   \n",
              "3  The current relock logical will change lru_loc...   \n",
              "4  On 8/1/20 4:36 AM, Pavel Begunkov wrote:\\n><i>...   \n",
              "\n",
              "                                          clean_body  \\\n",
              "0  This test checks the correctness of BPF_PROG_T...   \n",
              "1  Commit d26e94149276 (\"kbuild: no gcc-plugins d...   \n",
              "2  In preparation for supporting reserve_crashker...   \n",
              "3  The current relock logical will change lru_loc...   \n",
              "4  On 8/1/20 4:36 AM, Pavel Begunkov wrote:\\n><i>...   \n",
              "\n",
              "                                           thread_id persuasion  \\\n",
              "0     20200801084721.1812607-1-songliubraving@fb.com    Unknown   \n",
              "1       20200801150050.767038-1-masahiroy@kernel.org    Unknown   \n",
              "2       20200801130856.86625-1-chenzhou10@huawei.com    Unknown   \n",
              "3  d43150db4486c8e4f23336d0266fefc1@NO-ID-FOUND.m...    Unknown   \n",
              "4  e523f51f59ad6ecdad4ad22c560cb9c913e96e1a.15962...    Unknown   \n",
              "\n",
              "                                 reply_to_message_id  \n",
              "0     20200801084721.1812607-1-songliubraving@fb.com  \n",
              "1       20200801150050.767038-1-masahiroy@kernel.org  \n",
              "2       20200801130856.86625-1-chenzhou10@huawei.com  \n",
              "3                                                     \n",
              "4  e523f51f59ad6ecdad4ad22c560cb9c913e96e1a.15962...  "
            ],
            "text/html": [
              "\n",
              "  <div id=\"df-946e02b8-592f-4936-917d-686cdad2a704\">\n",
              "    <div class=\"colab-df-container\">\n",
              "      <div>\n",
              "<style scoped>\n",
              "    .dataframe tbody tr th:only-of-type {\n",
              "        vertical-align: middle;\n",
              "    }\n",
              "\n",
              "    .dataframe tbody tr th {\n",
              "        vertical-align: top;\n",
              "    }\n",
              "\n",
              "    .dataframe thead th {\n",
              "        text-align: right;\n",
              "    }\n",
              "</style>\n",
              "<table border=\"1\" class=\"dataframe\">\n",
              "  <thead>\n",
              "    <tr style=\"text-align: right;\">\n",
              "      <th></th>\n",
              "      <th>id</th>\n",
              "      <th>url</th>\n",
              "      <th>mailing_list_id</th>\n",
              "      <th>email_id</th>\n",
              "      <th>message_id</th>\n",
              "      <th>reply_to_url</th>\n",
              "      <th>author_id</th>\n",
              "      <th>timestamp_sent</th>\n",
              "      <th>timestamp_recv</th>\n",
              "      <th>subject</th>\n",
              "      <th>body</th>\n",
              "      <th>clean_body</th>\n",
              "      <th>thread_id</th>\n",
              "      <th>persuasion</th>\n",
              "      <th>reply_to_message_id</th>\n",
              "    </tr>\n",
              "  </thead>\n",
              "  <tbody>\n",
              "    <tr>\n",
              "      <th>0</th>\n",
              "      <td>31413</td>\n",
              "      <td>https://lkml.iu.edu/hypermail/linux/kernel/200...</td>\n",
              "      <td>1</td>\n",
              "      <td>20200801044951</td>\n",
              "      <td>20200801084721.1812607-4-songliubraving@fb.com</td>\n",
              "      <td>https://lkml.iu.edu/hypermail/linux/kernel/200...</td>\n",
              "      <td>1062</td>\n",
              "      <td>1596271791</td>\n",
              "      <td>1596275391</td>\n",
              "      <td>[PATCH bpf-next 3/5] selftests/bpf: add selfte...</td>\n",
              "      <td>This test checks the correctness of BPF_PROG_T...</td>\n",
              "      <td>This test checks the correctness of BPF_PROG_T...</td>\n",
              "      <td>20200801084721.1812607-1-songliubraving@fb.com</td>\n",
              "      <td>Unknown</td>\n",
              "      <td>20200801084721.1812607-1-songliubraving@fb.com</td>\n",
              "    </tr>\n",
              "    <tr>\n",
              "      <th>1</th>\n",
              "      <td>30807</td>\n",
              "      <td>https://lkml.iu.edu/hypermail/linux/kernel/200...</td>\n",
              "      <td>1</td>\n",
              "      <td>20200801110231</td>\n",
              "      <td>20200801150050.767038-2-masahiroy@kernel.org</td>\n",
              "      <td>https://lkml.iu.edu/hypermail/linux/kernel/200...</td>\n",
              "      <td>208</td>\n",
              "      <td>1596294151</td>\n",
              "      <td>1596297751</td>\n",
              "      <td>[PATCH 2/2] kbuild: stop filtering out $(GCC_P...</td>\n",
              "      <td>Commit d26e94149276 (\"kbuild: no gcc-plugins d...</td>\n",
              "      <td>Commit d26e94149276 (\"kbuild: no gcc-plugins d...</td>\n",
              "      <td>20200801150050.767038-1-masahiroy@kernel.org</td>\n",
              "      <td>Unknown</td>\n",
              "      <td>20200801150050.767038-1-masahiroy@kernel.org</td>\n",
              "    </tr>\n",
              "    <tr>\n",
              "      <th>2</th>\n",
              "      <td>30820</td>\n",
              "      <td>https://lkml.iu.edu/hypermail/linux/kernel/200...</td>\n",
              "      <td>1</td>\n",
              "      <td>20200801090629</td>\n",
              "      <td>20200801130856.86625-3-chenzhou10@huawei.com</td>\n",
              "      <td>https://lkml.iu.edu/hypermail/linux/kernel/200...</td>\n",
              "      <td>2724</td>\n",
              "      <td>1596287189</td>\n",
              "      <td>1596290789</td>\n",
              "      <td>[PATCH v11 2/5] x86: kdump: move reserve_crash...</td>\n",
              "      <td>In preparation for supporting reserve_crashker...</td>\n",
              "      <td>In preparation for supporting reserve_crashker...</td>\n",
              "      <td>20200801130856.86625-1-chenzhou10@huawei.com</td>\n",
              "      <td>Unknown</td>\n",
              "      <td>20200801130856.86625-1-chenzhou10@huawei.com</td>\n",
              "    </tr>\n",
              "    <tr>\n",
              "      <th>3</th>\n",
              "      <td>33521</td>\n",
              "      <td>https://lkml.iu.edu/hypermail/linux/kernel/200...</td>\n",
              "      <td>1</td>\n",
              "      <td>202008011049310</td>\n",
              "      <td>d43150db4486c8e4f23336d0266fefc1@NO-ID-FOUND.m...</td>\n",
              "      <td>None</td>\n",
              "      <td>858</td>\n",
              "      <td>1596293371</td>\n",
              "      <td>1596296971</td>\n",
              "      <td>[PATCH] mm/swap.c: optimizing __pagevec_lru_ad...</td>\n",
              "      <td>The current relock logical will change lru_loc...</td>\n",
              "      <td>The current relock logical will change lru_loc...</td>\n",
              "      <td>d43150db4486c8e4f23336d0266fefc1@NO-ID-FOUND.m...</td>\n",
              "      <td>Unknown</td>\n",
              "      <td></td>\n",
              "    </tr>\n",
              "    <tr>\n",
              "      <th>4</th>\n",
              "      <td>31045</td>\n",
              "      <td>https://lkml.iu.edu/hypermail/linux/kernel/200...</td>\n",
              "      <td>1</td>\n",
              "      <td>20200801130229</td>\n",
              "      <td>636faf6f-4c85-0582-2482-b99002888d0d@kernel.dk</td>\n",
              "      <td>https://lkml.iu.edu/hypermail/linux/kernel/200...</td>\n",
              "      <td>158</td>\n",
              "      <td>1596301349</td>\n",
              "      <td>1596304949</td>\n",
              "      <td>Re: [PATCH] fs: optimise kiocb_set_rw_flags()</td>\n",
              "      <td>On 8/1/20 4:36 AM, Pavel Begunkov wrote:\\n&gt;&lt;i&gt;...</td>\n",
              "      <td>On 8/1/20 4:36 AM, Pavel Begunkov wrote:\\n&gt;&lt;i&gt;...</td>\n",
              "      <td>e523f51f59ad6ecdad4ad22c560cb9c913e96e1a.15962...</td>\n",
              "      <td>Unknown</td>\n",
              "      <td>e523f51f59ad6ecdad4ad22c560cb9c913e96e1a.15962...</td>\n",
              "    </tr>\n",
              "  </tbody>\n",
              "</table>\n",
              "</div>\n",
              "      <button class=\"colab-df-convert\" onclick=\"convertToInteractive('df-946e02b8-592f-4936-917d-686cdad2a704')\"\n",
              "              title=\"Convert this dataframe to an interactive table.\"\n",
              "              style=\"display:none;\">\n",
              "        \n",
              "  <svg xmlns=\"http://www.w3.org/2000/svg\" height=\"24px\"viewBox=\"0 0 24 24\"\n",
              "       width=\"24px\">\n",
              "    <path d=\"M0 0h24v24H0V0z\" fill=\"none\"/>\n",
              "    <path d=\"M18.56 5.44l.94 2.06.94-2.06 2.06-.94-2.06-.94-.94-2.06-.94 2.06-2.06.94zm-11 1L8.5 8.5l.94-2.06 2.06-.94-2.06-.94L8.5 2.5l-.94 2.06-2.06.94zm10 10l.94 2.06.94-2.06 2.06-.94-2.06-.94-.94-2.06-.94 2.06-2.06.94z\"/><path d=\"M17.41 7.96l-1.37-1.37c-.4-.4-.92-.59-1.43-.59-.52 0-1.04.2-1.43.59L10.3 9.45l-7.72 7.72c-.78.78-.78 2.05 0 2.83L4 21.41c.39.39.9.59 1.41.59.51 0 1.02-.2 1.41-.59l7.78-7.78 2.81-2.81c.8-.78.8-2.07 0-2.86zM5.41 20L4 18.59l7.72-7.72 1.47 1.35L5.41 20z\"/>\n",
              "  </svg>\n",
              "      </button>\n",
              "      \n",
              "  <style>\n",
              "    .colab-df-container {\n",
              "      display:flex;\n",
              "      flex-wrap:wrap;\n",
              "      gap: 12px;\n",
              "    }\n",
              "\n",
              "    .colab-df-convert {\n",
              "      background-color: #E8F0FE;\n",
              "      border: none;\n",
              "      border-radius: 50%;\n",
              "      cursor: pointer;\n",
              "      display: none;\n",
              "      fill: #1967D2;\n",
              "      height: 32px;\n",
              "      padding: 0 0 0 0;\n",
              "      width: 32px;\n",
              "    }\n",
              "\n",
              "    .colab-df-convert:hover {\n",
              "      background-color: #E2EBFA;\n",
              "      box-shadow: 0px 1px 2px rgba(60, 64, 67, 0.3), 0px 1px 3px 1px rgba(60, 64, 67, 0.15);\n",
              "      fill: #174EA6;\n",
              "    }\n",
              "\n",
              "    [theme=dark] .colab-df-convert {\n",
              "      background-color: #3B4455;\n",
              "      fill: #D2E3FC;\n",
              "    }\n",
              "\n",
              "    [theme=dark] .colab-df-convert:hover {\n",
              "      background-color: #434B5C;\n",
              "      box-shadow: 0px 1px 3px 1px rgba(0, 0, 0, 0.15);\n",
              "      filter: drop-shadow(0px 1px 2px rgba(0, 0, 0, 0.3));\n",
              "      fill: #FFFFFF;\n",
              "    }\n",
              "  </style>\n",
              "\n",
              "      <script>\n",
              "        const buttonEl =\n",
              "          document.querySelector('#df-946e02b8-592f-4936-917d-686cdad2a704 button.colab-df-convert');\n",
              "        buttonEl.style.display =\n",
              "          google.colab.kernel.accessAllowed ? 'block' : 'none';\n",
              "\n",
              "        async function convertToInteractive(key) {\n",
              "          const element = document.querySelector('#df-946e02b8-592f-4936-917d-686cdad2a704');\n",
              "          const dataTable =\n",
              "            await google.colab.kernel.invokeFunction('convertToInteractive',\n",
              "                                                     [key], {});\n",
              "          if (!dataTable) return;\n",
              "\n",
              "          const docLinkHtml = 'Like what you see? Visit the ' +\n",
              "            '<a target=\"_blank\" href=https://colab.research.google.com/notebooks/data_table.ipynb>data table notebook</a>'\n",
              "            + ' to learn more about interactive tables.';\n",
              "          element.innerHTML = '';\n",
              "          dataTable['output_type'] = 'display_data';\n",
              "          await google.colab.output.renderOutput(dataTable, element);\n",
              "          const docLink = document.createElement('div');\n",
              "          docLink.innerHTML = docLinkHtml;\n",
              "          element.appendChild(docLink);\n",
              "        }\n",
              "      </script>\n",
              "    </div>\n",
              "  </div>\n",
              "  "
            ]
          },
          "metadata": {},
          "execution_count": 48
        }
      ]
    },
    {
      "cell_type": "code",
      "source": [
        "df_email['sent_time'] = pd.to_datetime(df_email['timestamp_sent'] * 10**9) \n",
        "\n",
        "# @Huascar, please double-check the method below\n",
        "# df_email = utils.data.datetime_column_to_timestamp(input_df=df_email, column='timestamp_sent')"
      ],
      "metadata": {
        "id": "0JXQbiqzDwzA"
      },
      "execution_count": 49,
      "outputs": []
    },
    {
      "cell_type": "code",
      "source": [
        "df_email['timestamp_recv'] = pd.to_datetime(df_email['timestamp_recv'] * 10**9)"
      ],
      "metadata": {
        "id": "uIgWKdRBfNal"
      },
      "execution_count": 50,
      "outputs": []
    },
    {
      "cell_type": "code",
      "source": [
        "df_email.head()"
      ],
      "metadata": {
        "colab": {
          "base_uri": "https://localhost:8080/",
          "height": 496
        },
        "id": "SEV6L30UD7_D",
        "outputId": "cd95c861-6fef-4026-b64d-4dd39fdada75"
      },
      "execution_count": 51,
      "outputs": [
        {
          "output_type": "execute_result",
          "data": {
            "text/plain": [
              "      id                                                url  mailing_list_id  \\\n",
              "0  31413  https://lkml.iu.edu/hypermail/linux/kernel/200...                1   \n",
              "1  30807  https://lkml.iu.edu/hypermail/linux/kernel/200...                1   \n",
              "2  30820  https://lkml.iu.edu/hypermail/linux/kernel/200...                1   \n",
              "3  33521  https://lkml.iu.edu/hypermail/linux/kernel/200...                1   \n",
              "4  31045  https://lkml.iu.edu/hypermail/linux/kernel/200...                1   \n",
              "\n",
              "          email_id                                         message_id  \\\n",
              "0   20200801044951     20200801084721.1812607-4-songliubraving@fb.com   \n",
              "1   20200801110231       20200801150050.767038-2-masahiroy@kernel.org   \n",
              "2   20200801090629       20200801130856.86625-3-chenzhou10@huawei.com   \n",
              "3  202008011049310  d43150db4486c8e4f23336d0266fefc1@NO-ID-FOUND.m...   \n",
              "4   20200801130229     636faf6f-4c85-0582-2482-b99002888d0d@kernel.dk   \n",
              "\n",
              "                                        reply_to_url  author_id  \\\n",
              "0  https://lkml.iu.edu/hypermail/linux/kernel/200...       1062   \n",
              "1  https://lkml.iu.edu/hypermail/linux/kernel/200...        208   \n",
              "2  https://lkml.iu.edu/hypermail/linux/kernel/200...       2724   \n",
              "3                                               None        858   \n",
              "4  https://lkml.iu.edu/hypermail/linux/kernel/200...        158   \n",
              "\n",
              "   timestamp_sent      timestamp_recv  \\\n",
              "0      1596271791 2020-08-01 09:49:51   \n",
              "1      1596294151 2020-08-01 16:02:31   \n",
              "2      1596287189 2020-08-01 14:06:29   \n",
              "3      1596293371 2020-08-01 15:49:31   \n",
              "4      1596301349 2020-08-01 18:02:29   \n",
              "\n",
              "                                             subject  \\\n",
              "0  [PATCH bpf-next 3/5] selftests/bpf: add selfte...   \n",
              "1  [PATCH 2/2] kbuild: stop filtering out $(GCC_P...   \n",
              "2  [PATCH v11 2/5] x86: kdump: move reserve_crash...   \n",
              "3  [PATCH] mm/swap.c: optimizing __pagevec_lru_ad...   \n",
              "4      Re: [PATCH] fs: optimise kiocb_set_rw_flags()   \n",
              "\n",
              "                                                body  \\\n",
              "0  This test checks the correctness of BPF_PROG_T...   \n",
              "1  Commit d26e94149276 (\"kbuild: no gcc-plugins d...   \n",
              "2  In preparation for supporting reserve_crashker...   \n",
              "3  The current relock logical will change lru_loc...   \n",
              "4  On 8/1/20 4:36 AM, Pavel Begunkov wrote:\\n><i>...   \n",
              "\n",
              "                                          clean_body  \\\n",
              "0  This test checks the correctness of BPF_PROG_T...   \n",
              "1  Commit d26e94149276 (\"kbuild: no gcc-plugins d...   \n",
              "2  In preparation for supporting reserve_crashker...   \n",
              "3  The current relock logical will change lru_loc...   \n",
              "4  On 8/1/20 4:36 AM, Pavel Begunkov wrote:\\n><i>...   \n",
              "\n",
              "                                           thread_id persuasion  \\\n",
              "0     20200801084721.1812607-1-songliubraving@fb.com    Unknown   \n",
              "1       20200801150050.767038-1-masahiroy@kernel.org    Unknown   \n",
              "2       20200801130856.86625-1-chenzhou10@huawei.com    Unknown   \n",
              "3  d43150db4486c8e4f23336d0266fefc1@NO-ID-FOUND.m...    Unknown   \n",
              "4  e523f51f59ad6ecdad4ad22c560cb9c913e96e1a.15962...    Unknown   \n",
              "\n",
              "                                 reply_to_message_id           sent_time  \n",
              "0     20200801084721.1812607-1-songliubraving@fb.com 2020-08-01 08:49:51  \n",
              "1       20200801150050.767038-1-masahiroy@kernel.org 2020-08-01 15:02:31  \n",
              "2       20200801130856.86625-1-chenzhou10@huawei.com 2020-08-01 13:06:29  \n",
              "3                                                    2020-08-01 14:49:31  \n",
              "4  e523f51f59ad6ecdad4ad22c560cb9c913e96e1a.15962... 2020-08-01 17:02:29  "
            ],
            "text/html": [
              "\n",
              "  <div id=\"df-0bb204ea-381c-4086-8e42-dfd5f9c70b1a\">\n",
              "    <div class=\"colab-df-container\">\n",
              "      <div>\n",
              "<style scoped>\n",
              "    .dataframe tbody tr th:only-of-type {\n",
              "        vertical-align: middle;\n",
              "    }\n",
              "\n",
              "    .dataframe tbody tr th {\n",
              "        vertical-align: top;\n",
              "    }\n",
              "\n",
              "    .dataframe thead th {\n",
              "        text-align: right;\n",
              "    }\n",
              "</style>\n",
              "<table border=\"1\" class=\"dataframe\">\n",
              "  <thead>\n",
              "    <tr style=\"text-align: right;\">\n",
              "      <th></th>\n",
              "      <th>id</th>\n",
              "      <th>url</th>\n",
              "      <th>mailing_list_id</th>\n",
              "      <th>email_id</th>\n",
              "      <th>message_id</th>\n",
              "      <th>reply_to_url</th>\n",
              "      <th>author_id</th>\n",
              "      <th>timestamp_sent</th>\n",
              "      <th>timestamp_recv</th>\n",
              "      <th>subject</th>\n",
              "      <th>body</th>\n",
              "      <th>clean_body</th>\n",
              "      <th>thread_id</th>\n",
              "      <th>persuasion</th>\n",
              "      <th>reply_to_message_id</th>\n",
              "      <th>sent_time</th>\n",
              "    </tr>\n",
              "  </thead>\n",
              "  <tbody>\n",
              "    <tr>\n",
              "      <th>0</th>\n",
              "      <td>31413</td>\n",
              "      <td>https://lkml.iu.edu/hypermail/linux/kernel/200...</td>\n",
              "      <td>1</td>\n",
              "      <td>20200801044951</td>\n",
              "      <td>20200801084721.1812607-4-songliubraving@fb.com</td>\n",
              "      <td>https://lkml.iu.edu/hypermail/linux/kernel/200...</td>\n",
              "      <td>1062</td>\n",
              "      <td>1596271791</td>\n",
              "      <td>2020-08-01 09:49:51</td>\n",
              "      <td>[PATCH bpf-next 3/5] selftests/bpf: add selfte...</td>\n",
              "      <td>This test checks the correctness of BPF_PROG_T...</td>\n",
              "      <td>This test checks the correctness of BPF_PROG_T...</td>\n",
              "      <td>20200801084721.1812607-1-songliubraving@fb.com</td>\n",
              "      <td>Unknown</td>\n",
              "      <td>20200801084721.1812607-1-songliubraving@fb.com</td>\n",
              "      <td>2020-08-01 08:49:51</td>\n",
              "    </tr>\n",
              "    <tr>\n",
              "      <th>1</th>\n",
              "      <td>30807</td>\n",
              "      <td>https://lkml.iu.edu/hypermail/linux/kernel/200...</td>\n",
              "      <td>1</td>\n",
              "      <td>20200801110231</td>\n",
              "      <td>20200801150050.767038-2-masahiroy@kernel.org</td>\n",
              "      <td>https://lkml.iu.edu/hypermail/linux/kernel/200...</td>\n",
              "      <td>208</td>\n",
              "      <td>1596294151</td>\n",
              "      <td>2020-08-01 16:02:31</td>\n",
              "      <td>[PATCH 2/2] kbuild: stop filtering out $(GCC_P...</td>\n",
              "      <td>Commit d26e94149276 (\"kbuild: no gcc-plugins d...</td>\n",
              "      <td>Commit d26e94149276 (\"kbuild: no gcc-plugins d...</td>\n",
              "      <td>20200801150050.767038-1-masahiroy@kernel.org</td>\n",
              "      <td>Unknown</td>\n",
              "      <td>20200801150050.767038-1-masahiroy@kernel.org</td>\n",
              "      <td>2020-08-01 15:02:31</td>\n",
              "    </tr>\n",
              "    <tr>\n",
              "      <th>2</th>\n",
              "      <td>30820</td>\n",
              "      <td>https://lkml.iu.edu/hypermail/linux/kernel/200...</td>\n",
              "      <td>1</td>\n",
              "      <td>20200801090629</td>\n",
              "      <td>20200801130856.86625-3-chenzhou10@huawei.com</td>\n",
              "      <td>https://lkml.iu.edu/hypermail/linux/kernel/200...</td>\n",
              "      <td>2724</td>\n",
              "      <td>1596287189</td>\n",
              "      <td>2020-08-01 14:06:29</td>\n",
              "      <td>[PATCH v11 2/5] x86: kdump: move reserve_crash...</td>\n",
              "      <td>In preparation for supporting reserve_crashker...</td>\n",
              "      <td>In preparation for supporting reserve_crashker...</td>\n",
              "      <td>20200801130856.86625-1-chenzhou10@huawei.com</td>\n",
              "      <td>Unknown</td>\n",
              "      <td>20200801130856.86625-1-chenzhou10@huawei.com</td>\n",
              "      <td>2020-08-01 13:06:29</td>\n",
              "    </tr>\n",
              "    <tr>\n",
              "      <th>3</th>\n",
              "      <td>33521</td>\n",
              "      <td>https://lkml.iu.edu/hypermail/linux/kernel/200...</td>\n",
              "      <td>1</td>\n",
              "      <td>202008011049310</td>\n",
              "      <td>d43150db4486c8e4f23336d0266fefc1@NO-ID-FOUND.m...</td>\n",
              "      <td>None</td>\n",
              "      <td>858</td>\n",
              "      <td>1596293371</td>\n",
              "      <td>2020-08-01 15:49:31</td>\n",
              "      <td>[PATCH] mm/swap.c: optimizing __pagevec_lru_ad...</td>\n",
              "      <td>The current relock logical will change lru_loc...</td>\n",
              "      <td>The current relock logical will change lru_loc...</td>\n",
              "      <td>d43150db4486c8e4f23336d0266fefc1@NO-ID-FOUND.m...</td>\n",
              "      <td>Unknown</td>\n",
              "      <td></td>\n",
              "      <td>2020-08-01 14:49:31</td>\n",
              "    </tr>\n",
              "    <tr>\n",
              "      <th>4</th>\n",
              "      <td>31045</td>\n",
              "      <td>https://lkml.iu.edu/hypermail/linux/kernel/200...</td>\n",
              "      <td>1</td>\n",
              "      <td>20200801130229</td>\n",
              "      <td>636faf6f-4c85-0582-2482-b99002888d0d@kernel.dk</td>\n",
              "      <td>https://lkml.iu.edu/hypermail/linux/kernel/200...</td>\n",
              "      <td>158</td>\n",
              "      <td>1596301349</td>\n",
              "      <td>2020-08-01 18:02:29</td>\n",
              "      <td>Re: [PATCH] fs: optimise kiocb_set_rw_flags()</td>\n",
              "      <td>On 8/1/20 4:36 AM, Pavel Begunkov wrote:\\n&gt;&lt;i&gt;...</td>\n",
              "      <td>On 8/1/20 4:36 AM, Pavel Begunkov wrote:\\n&gt;&lt;i&gt;...</td>\n",
              "      <td>e523f51f59ad6ecdad4ad22c560cb9c913e96e1a.15962...</td>\n",
              "      <td>Unknown</td>\n",
              "      <td>e523f51f59ad6ecdad4ad22c560cb9c913e96e1a.15962...</td>\n",
              "      <td>2020-08-01 17:02:29</td>\n",
              "    </tr>\n",
              "  </tbody>\n",
              "</table>\n",
              "</div>\n",
              "      <button class=\"colab-df-convert\" onclick=\"convertToInteractive('df-0bb204ea-381c-4086-8e42-dfd5f9c70b1a')\"\n",
              "              title=\"Convert this dataframe to an interactive table.\"\n",
              "              style=\"display:none;\">\n",
              "        \n",
              "  <svg xmlns=\"http://www.w3.org/2000/svg\" height=\"24px\"viewBox=\"0 0 24 24\"\n",
              "       width=\"24px\">\n",
              "    <path d=\"M0 0h24v24H0V0z\" fill=\"none\"/>\n",
              "    <path d=\"M18.56 5.44l.94 2.06.94-2.06 2.06-.94-2.06-.94-.94-2.06-.94 2.06-2.06.94zm-11 1L8.5 8.5l.94-2.06 2.06-.94-2.06-.94L8.5 2.5l-.94 2.06-2.06.94zm10 10l.94 2.06.94-2.06 2.06-.94-2.06-.94-.94-2.06-.94 2.06-2.06.94z\"/><path d=\"M17.41 7.96l-1.37-1.37c-.4-.4-.92-.59-1.43-.59-.52 0-1.04.2-1.43.59L10.3 9.45l-7.72 7.72c-.78.78-.78 2.05 0 2.83L4 21.41c.39.39.9.59 1.41.59.51 0 1.02-.2 1.41-.59l7.78-7.78 2.81-2.81c.8-.78.8-2.07 0-2.86zM5.41 20L4 18.59l7.72-7.72 1.47 1.35L5.41 20z\"/>\n",
              "  </svg>\n",
              "      </button>\n",
              "      \n",
              "  <style>\n",
              "    .colab-df-container {\n",
              "      display:flex;\n",
              "      flex-wrap:wrap;\n",
              "      gap: 12px;\n",
              "    }\n",
              "\n",
              "    .colab-df-convert {\n",
              "      background-color: #E8F0FE;\n",
              "      border: none;\n",
              "      border-radius: 50%;\n",
              "      cursor: pointer;\n",
              "      display: none;\n",
              "      fill: #1967D2;\n",
              "      height: 32px;\n",
              "      padding: 0 0 0 0;\n",
              "      width: 32px;\n",
              "    }\n",
              "\n",
              "    .colab-df-convert:hover {\n",
              "      background-color: #E2EBFA;\n",
              "      box-shadow: 0px 1px 2px rgba(60, 64, 67, 0.3), 0px 1px 3px 1px rgba(60, 64, 67, 0.15);\n",
              "      fill: #174EA6;\n",
              "    }\n",
              "\n",
              "    [theme=dark] .colab-df-convert {\n",
              "      background-color: #3B4455;\n",
              "      fill: #D2E3FC;\n",
              "    }\n",
              "\n",
              "    [theme=dark] .colab-df-convert:hover {\n",
              "      background-color: #434B5C;\n",
              "      box-shadow: 0px 1px 3px 1px rgba(0, 0, 0, 0.15);\n",
              "      filter: drop-shadow(0px 1px 2px rgba(0, 0, 0, 0.3));\n",
              "      fill: #FFFFFF;\n",
              "    }\n",
              "  </style>\n",
              "\n",
              "      <script>\n",
              "        const buttonEl =\n",
              "          document.querySelector('#df-0bb204ea-381c-4086-8e42-dfd5f9c70b1a button.colab-df-convert');\n",
              "        buttonEl.style.display =\n",
              "          google.colab.kernel.accessAllowed ? 'block' : 'none';\n",
              "\n",
              "        async function convertToInteractive(key) {\n",
              "          const element = document.querySelector('#df-0bb204ea-381c-4086-8e42-dfd5f9c70b1a');\n",
              "          const dataTable =\n",
              "            await google.colab.kernel.invokeFunction('convertToInteractive',\n",
              "                                                     [key], {});\n",
              "          if (!dataTable) return;\n",
              "\n",
              "          const docLinkHtml = 'Like what you see? Visit the ' +\n",
              "            '<a target=\"_blank\" href=https://colab.research.google.com/notebooks/data_table.ipynb>data table notebook</a>'\n",
              "            + ' to learn more about interactive tables.';\n",
              "          element.innerHTML = '';\n",
              "          dataTable['output_type'] = 'display_data';\n",
              "          await google.colab.output.renderOutput(dataTable, element);\n",
              "          const docLink = document.createElement('div');\n",
              "          docLink.innerHTML = docLinkHtml;\n",
              "          element.appendChild(docLink);\n",
              "        }\n",
              "      </script>\n",
              "    </div>\n",
              "  </div>\n",
              "  "
            ]
          },
          "metadata": {},
          "execution_count": 51
        }
      ]
    },
    {
      "cell_type": "code",
      "source": [
        "total_email_records = get_record_count(table_name='email')\n",
        "print(f\"In total, there are {total_email_records:,} email records in the database.\")"
      ],
      "metadata": {
        "colab": {
          "base_uri": "https://localhost:8080/"
        },
        "id": "XyoKEdbL9LXb",
        "outputId": "9827ca77-aa79-42c1-9811-25b0998efe57"
      },
      "execution_count": 52,
      "outputs": [
        {
          "output_type": "stream",
          "name": "stdout",
          "text": [
            "In total, there are 421,403 email records in the database.\n"
          ]
        }
      ]
    },
    {
      "cell_type": "markdown",
      "source": [
        "### &#9759; Patches Data"
      ],
      "metadata": {
        "id": "fbWarhXhy0ob"
      }
    },
    {
      "cell_type": "code",
      "source": [
        "total_patch_records = get_record_count(table_name='scraped_patches')\n",
        "print(f\"In total, there are {total_patch_records:,} patch records in the database.\")"
      ],
      "metadata": {
        "colab": {
          "base_uri": "https://localhost:8080/"
        },
        "id": "IvTknH-ay7Pw",
        "outputId": "ac50a502-1c90-4b06-f478-3533ae4ac4f9"
      },
      "execution_count": 53,
      "outputs": [
        {
          "output_type": "stream",
          "name": "stdout",
          "text": [
            "In total, there are 938,137 patch records in the database.\n"
          ]
        }
      ]
    },
    {
      "cell_type": "code",
      "source": [
        "df_patches = signal.query_dataframe(f\"SELECT * FROM scraped_patches;\")"
      ],
      "metadata": {
        "id": "cNdyDBNuy7JR"
      },
      "execution_count": 54,
      "outputs": []
    },
    {
      "cell_type": "code",
      "source": [
        "df_patches.info()"
      ],
      "metadata": {
        "colab": {
          "base_uri": "https://localhost:8080/"
        },
        "id": "3aBLpbIHy7Aj",
        "outputId": "e4561fe2-ef89-4bc6-bafc-7404e6684a6a"
      },
      "execution_count": 55,
      "outputs": [
        {
          "output_type": "stream",
          "name": "stdout",
          "text": [
            "<class 'pandas.core.frame.DataFrame'>\n",
            "RangeIndex: 938137 entries, 0 to 938136\n",
            "Data columns (total 17 columns):\n",
            " #   Column         Non-Null Count   Dtype  \n",
            "---  ------         --------------   -----  \n",
            " 0   id             938137 non-null  int64  \n",
            " 1   project_id     938137 non-null  int64  \n",
            " 2   patch_id       938137 non-null  int64  \n",
            " 3   mail_id        938137 non-null  object \n",
            " 4   name           938137 non-null  object \n",
            " 5   series_id      935162 non-null  float64\n",
            " 6   ack_count      938137 non-null  int64  \n",
            " 7   review_count   938137 non-null  int64  \n",
            " 8   tested_count   938137 non-null  int64  \n",
            " 9   success_count  938137 non-null  int64  \n",
            " 10  warning_count  938137 non-null  int64  \n",
            " 11  fail_count     938137 non-null  int64  \n",
            " 12  date           938137 non-null  object \n",
            " 13  submitter_id   938137 non-null  int64  \n",
            " 14  delegate       125878 non-null  object \n",
            " 15  state          938137 non-null  object \n",
            " 16  commit_hash    0 non-null       object \n",
            "dtypes: float64(1), int64(10), object(6)\n",
            "memory usage: 121.7+ MB\n"
          ]
        }
      ]
    },
    {
      "cell_type": "code",
      "source": [
        "df_patches.head()"
      ],
      "metadata": {
        "colab": {
          "base_uri": "https://localhost:8080/",
          "height": 337
        },
        "id": "bin785qhFYur",
        "outputId": "9a47c35b-9269-44b5-faf2-88339b5aec2e"
      },
      "execution_count": 56,
      "outputs": [
        {
          "output_type": "execute_result",
          "data": {
            "text/plain": [
              "   id  project_id  patch_id  \\\n",
              "0   1           1  11614315   \n",
              "1   2           1  11611413   \n",
              "2   3           1  11611417   \n",
              "3   4           1  11611415   \n",
              "4   5           1  11610073   \n",
              "\n",
              "                                             mail_id  \\\n",
              "0                     20200619142922.GA267142@mwanda   \n",
              "1  1592458104-2961-4-git-send-email-akolli@codeau...   \n",
              "2  1592458104-2961-3-git-send-email-akolli@codeau...   \n",
              "3  1592458104-2961-2-git-send-email-akolli@codeau...   \n",
              "4          20200617150021.4183253-3-john@phrozen.org   \n",
              "\n",
              "                                                name  series_id  ack_count  \\\n",
              "0  [net-next] ath11k: fix uninitialized return in...        1.0          0   \n",
              "1               [v3,3/3] ath11k: add IPQ6018 support        2.0          0   \n",
              "2  [v3,2/3] ath11k: copy ce service configs to hw...        2.0          0   \n",
              "3  [v3,1/3] dt: bindings: net: update compatible ...        2.0          0   \n",
              "4         [3/3] ath11k: add support for BSS coloring        3.0          0   \n",
              "\n",
              "   review_count  tested_count  success_count  warning_count  fail_count  \\\n",
              "0             0             0              0              0           0   \n",
              "1             0             0              0              0           0   \n",
              "2             0             0              0              0           0   \n",
              "3             0             0              0              0           0   \n",
              "4             0             0              0              0           0   \n",
              "\n",
              "                  date  submitter_id delegate state commit_hash  \n",
              "0  2020-06-19T00:00:00             1     None   New        None  \n",
              "1  2020-06-18T00:00:00             2     None   New        None  \n",
              "2  2020-06-18T00:00:00             2     None   New        None  \n",
              "3  2020-06-18T00:00:00             2     None   New        None  \n",
              "4  2020-06-17T00:00:00             3     None   New        None  "
            ],
            "text/html": [
              "\n",
              "  <div id=\"df-396bcb4e-eb9d-4a20-994f-a10d3a012a90\">\n",
              "    <div class=\"colab-df-container\">\n",
              "      <div>\n",
              "<style scoped>\n",
              "    .dataframe tbody tr th:only-of-type {\n",
              "        vertical-align: middle;\n",
              "    }\n",
              "\n",
              "    .dataframe tbody tr th {\n",
              "        vertical-align: top;\n",
              "    }\n",
              "\n",
              "    .dataframe thead th {\n",
              "        text-align: right;\n",
              "    }\n",
              "</style>\n",
              "<table border=\"1\" class=\"dataframe\">\n",
              "  <thead>\n",
              "    <tr style=\"text-align: right;\">\n",
              "      <th></th>\n",
              "      <th>id</th>\n",
              "      <th>project_id</th>\n",
              "      <th>patch_id</th>\n",
              "      <th>mail_id</th>\n",
              "      <th>name</th>\n",
              "      <th>series_id</th>\n",
              "      <th>ack_count</th>\n",
              "      <th>review_count</th>\n",
              "      <th>tested_count</th>\n",
              "      <th>success_count</th>\n",
              "      <th>warning_count</th>\n",
              "      <th>fail_count</th>\n",
              "      <th>date</th>\n",
              "      <th>submitter_id</th>\n",
              "      <th>delegate</th>\n",
              "      <th>state</th>\n",
              "      <th>commit_hash</th>\n",
              "    </tr>\n",
              "  </thead>\n",
              "  <tbody>\n",
              "    <tr>\n",
              "      <th>0</th>\n",
              "      <td>1</td>\n",
              "      <td>1</td>\n",
              "      <td>11614315</td>\n",
              "      <td>20200619142922.GA267142@mwanda</td>\n",
              "      <td>[net-next] ath11k: fix uninitialized return in...</td>\n",
              "      <td>1.0</td>\n",
              "      <td>0</td>\n",
              "      <td>0</td>\n",
              "      <td>0</td>\n",
              "      <td>0</td>\n",
              "      <td>0</td>\n",
              "      <td>0</td>\n",
              "      <td>2020-06-19T00:00:00</td>\n",
              "      <td>1</td>\n",
              "      <td>None</td>\n",
              "      <td>New</td>\n",
              "      <td>None</td>\n",
              "    </tr>\n",
              "    <tr>\n",
              "      <th>1</th>\n",
              "      <td>2</td>\n",
              "      <td>1</td>\n",
              "      <td>11611413</td>\n",
              "      <td>1592458104-2961-4-git-send-email-akolli@codeau...</td>\n",
              "      <td>[v3,3/3] ath11k: add IPQ6018 support</td>\n",
              "      <td>2.0</td>\n",
              "      <td>0</td>\n",
              "      <td>0</td>\n",
              "      <td>0</td>\n",
              "      <td>0</td>\n",
              "      <td>0</td>\n",
              "      <td>0</td>\n",
              "      <td>2020-06-18T00:00:00</td>\n",
              "      <td>2</td>\n",
              "      <td>None</td>\n",
              "      <td>New</td>\n",
              "      <td>None</td>\n",
              "    </tr>\n",
              "    <tr>\n",
              "      <th>2</th>\n",
              "      <td>3</td>\n",
              "      <td>1</td>\n",
              "      <td>11611417</td>\n",
              "      <td>1592458104-2961-3-git-send-email-akolli@codeau...</td>\n",
              "      <td>[v3,2/3] ath11k: copy ce service configs to hw...</td>\n",
              "      <td>2.0</td>\n",
              "      <td>0</td>\n",
              "      <td>0</td>\n",
              "      <td>0</td>\n",
              "      <td>0</td>\n",
              "      <td>0</td>\n",
              "      <td>0</td>\n",
              "      <td>2020-06-18T00:00:00</td>\n",
              "      <td>2</td>\n",
              "      <td>None</td>\n",
              "      <td>New</td>\n",
              "      <td>None</td>\n",
              "    </tr>\n",
              "    <tr>\n",
              "      <th>3</th>\n",
              "      <td>4</td>\n",
              "      <td>1</td>\n",
              "      <td>11611415</td>\n",
              "      <td>1592458104-2961-2-git-send-email-akolli@codeau...</td>\n",
              "      <td>[v3,1/3] dt: bindings: net: update compatible ...</td>\n",
              "      <td>2.0</td>\n",
              "      <td>0</td>\n",
              "      <td>0</td>\n",
              "      <td>0</td>\n",
              "      <td>0</td>\n",
              "      <td>0</td>\n",
              "      <td>0</td>\n",
              "      <td>2020-06-18T00:00:00</td>\n",
              "      <td>2</td>\n",
              "      <td>None</td>\n",
              "      <td>New</td>\n",
              "      <td>None</td>\n",
              "    </tr>\n",
              "    <tr>\n",
              "      <th>4</th>\n",
              "      <td>5</td>\n",
              "      <td>1</td>\n",
              "      <td>11610073</td>\n",
              "      <td>20200617150021.4183253-3-john@phrozen.org</td>\n",
              "      <td>[3/3] ath11k: add support for BSS coloring</td>\n",
              "      <td>3.0</td>\n",
              "      <td>0</td>\n",
              "      <td>0</td>\n",
              "      <td>0</td>\n",
              "      <td>0</td>\n",
              "      <td>0</td>\n",
              "      <td>0</td>\n",
              "      <td>2020-06-17T00:00:00</td>\n",
              "      <td>3</td>\n",
              "      <td>None</td>\n",
              "      <td>New</td>\n",
              "      <td>None</td>\n",
              "    </tr>\n",
              "  </tbody>\n",
              "</table>\n",
              "</div>\n",
              "      <button class=\"colab-df-convert\" onclick=\"convertToInteractive('df-396bcb4e-eb9d-4a20-994f-a10d3a012a90')\"\n",
              "              title=\"Convert this dataframe to an interactive table.\"\n",
              "              style=\"display:none;\">\n",
              "        \n",
              "  <svg xmlns=\"http://www.w3.org/2000/svg\" height=\"24px\"viewBox=\"0 0 24 24\"\n",
              "       width=\"24px\">\n",
              "    <path d=\"M0 0h24v24H0V0z\" fill=\"none\"/>\n",
              "    <path d=\"M18.56 5.44l.94 2.06.94-2.06 2.06-.94-2.06-.94-.94-2.06-.94 2.06-2.06.94zm-11 1L8.5 8.5l.94-2.06 2.06-.94-2.06-.94L8.5 2.5l-.94 2.06-2.06.94zm10 10l.94 2.06.94-2.06 2.06-.94-2.06-.94-.94-2.06-.94 2.06-2.06.94z\"/><path d=\"M17.41 7.96l-1.37-1.37c-.4-.4-.92-.59-1.43-.59-.52 0-1.04.2-1.43.59L10.3 9.45l-7.72 7.72c-.78.78-.78 2.05 0 2.83L4 21.41c.39.39.9.59 1.41.59.51 0 1.02-.2 1.41-.59l7.78-7.78 2.81-2.81c.8-.78.8-2.07 0-2.86zM5.41 20L4 18.59l7.72-7.72 1.47 1.35L5.41 20z\"/>\n",
              "  </svg>\n",
              "      </button>\n",
              "      \n",
              "  <style>\n",
              "    .colab-df-container {\n",
              "      display:flex;\n",
              "      flex-wrap:wrap;\n",
              "      gap: 12px;\n",
              "    }\n",
              "\n",
              "    .colab-df-convert {\n",
              "      background-color: #E8F0FE;\n",
              "      border: none;\n",
              "      border-radius: 50%;\n",
              "      cursor: pointer;\n",
              "      display: none;\n",
              "      fill: #1967D2;\n",
              "      height: 32px;\n",
              "      padding: 0 0 0 0;\n",
              "      width: 32px;\n",
              "    }\n",
              "\n",
              "    .colab-df-convert:hover {\n",
              "      background-color: #E2EBFA;\n",
              "      box-shadow: 0px 1px 2px rgba(60, 64, 67, 0.3), 0px 1px 3px 1px rgba(60, 64, 67, 0.15);\n",
              "      fill: #174EA6;\n",
              "    }\n",
              "\n",
              "    [theme=dark] .colab-df-convert {\n",
              "      background-color: #3B4455;\n",
              "      fill: #D2E3FC;\n",
              "    }\n",
              "\n",
              "    [theme=dark] .colab-df-convert:hover {\n",
              "      background-color: #434B5C;\n",
              "      box-shadow: 0px 1px 3px 1px rgba(0, 0, 0, 0.15);\n",
              "      filter: drop-shadow(0px 1px 2px rgba(0, 0, 0, 0.3));\n",
              "      fill: #FFFFFF;\n",
              "    }\n",
              "  </style>\n",
              "\n",
              "      <script>\n",
              "        const buttonEl =\n",
              "          document.querySelector('#df-396bcb4e-eb9d-4a20-994f-a10d3a012a90 button.colab-df-convert');\n",
              "        buttonEl.style.display =\n",
              "          google.colab.kernel.accessAllowed ? 'block' : 'none';\n",
              "\n",
              "        async function convertToInteractive(key) {\n",
              "          const element = document.querySelector('#df-396bcb4e-eb9d-4a20-994f-a10d3a012a90');\n",
              "          const dataTable =\n",
              "            await google.colab.kernel.invokeFunction('convertToInteractive',\n",
              "                                                     [key], {});\n",
              "          if (!dataTable) return;\n",
              "\n",
              "          const docLinkHtml = 'Like what you see? Visit the ' +\n",
              "            '<a target=\"_blank\" href=https://colab.research.google.com/notebooks/data_table.ipynb>data table notebook</a>'\n",
              "            + ' to learn more about interactive tables.';\n",
              "          element.innerHTML = '';\n",
              "          dataTable['output_type'] = 'display_data';\n",
              "          await google.colab.output.renderOutput(dataTable, element);\n",
              "          const docLink = document.createElement('div');\n",
              "          docLink.innerHTML = docLinkHtml;\n",
              "          element.appendChild(docLink);\n",
              "        }\n",
              "      </script>\n",
              "    </div>\n",
              "  </div>\n",
              "  "
            ]
          },
          "metadata": {},
          "execution_count": 56
        }
      ]
    },
    {
      "cell_type": "code",
      "source": [
        "tmp_state = df_patches.groupby(df_patches['state']).size().sort_values()\n",
        "tmp_state"
      ],
      "metadata": {
        "colab": {
          "base_uri": "https://localhost:8080/"
        },
        "id": "yfEOAyNfFfAU",
        "outputId": "82d75dee-0ab0-4f2e-94b0-83b945496fee"
      },
      "execution_count": 57,
      "outputs": [
        {
          "output_type": "execute_result",
          "data": {
            "text/plain": [
              "state\n",
              "Needs ACK                48\n",
              "In Next                 124\n",
              "Under Review            744\n",
              "Queued                  941\n",
              "Rejected               2136\n",
              "Deferred               4252\n",
              "RFC                    6300\n",
              "Awaiting Upstream      7308\n",
              "Handled Elsewhere      7809\n",
              "Mainlined             14739\n",
              "Changes Requested     26867\n",
              "Not Applicable        49217\n",
              "Accepted              91480\n",
              "Superseded           135830\n",
              "New                  590342\n",
              "dtype: int64"
            ]
          },
          "metadata": {},
          "execution_count": 57
        }
      ]
    },
    {
      "cell_type": "code",
      "source": [
        "tmp_state.plot.barh(title=\"Patch State Records\", xlabel=\"State\", ylabel=\"Number of records\", log=True, figsize=(20,8))"
      ],
      "metadata": {
        "colab": {
          "base_uri": "https://localhost:8080/",
          "height": 516
        },
        "id": "V5uJnXEbFtQX",
        "outputId": "28262edf-5c52-46a3-87c7-36cf94e14293"
      },
      "execution_count": 59,
      "outputs": [
        {
          "output_type": "execute_result",
          "data": {
            "text/plain": [
              "<AxesSubplot:title={'center':'Patch State Records'}, ylabel='State'>"
            ]
          },
          "metadata": {},
          "execution_count": 59
        },
        {
          "output_type": "display_data",
          "data": {
            "text/plain": [
              "<Figure size 1440x576 with 1 Axes>"
            ],
            "image/png": "[encoded data removed]"
          },
          "metadata": {
            "image/png": {
              "width": 1251,
              "height": 482
            },
            "needs_background": "light"
          }
        }
      ]
    },
    {
      "cell_type": "markdown",
      "source": [
        "## &#129504; Generate Interest Data"
      ],
      "metadata": {
        "id": "nSoeZAsTEePz"
      }
    },
    {
      "cell_type": "markdown",
      "source": [
        "Features of interest:\n",
        "\n",
        "```python\n",
        "['fkre_score',\n",
        " 'fkgl_score',\n",
        " 'message_exper',\n",
        " 'commit_exper',\n",
        " 'word_cnt',\n",
        " 'sentence_cnt',\n",
        " 'exert_influence',\n",
        " 'patch_email',\n",
        " 'first_patch_thread',\n",
        " 'sent_time',\n",
        " 'received_time',\n",
        " 'reply_within_4hr',\n",
        " 'patch_churn',\n",
        " 'bug_fix',\n",
        " 'new_feature',\n",
        " 'accepted_patch',\n",
        " 'accepted_commit']\n",
        " ```"
      ],
      "metadata": {
        "id": "Sjo5ZQDRSWWf"
      }
    },
    {
      "cell_type": "markdown",
      "source": [
        "### &#9759; Exert Influence Feature"
      ],
      "metadata": {
        "id": "_J9bbM16y_ZY"
      }
    },
    {
      "cell_type": "code",
      "source": [
        "# Based on the persuasion strategies in \n",
        "# Wang, X., Shi, W., Kim, R., Oh, Y., Yang, S., Zhang, J., & Yu, Z. (2019). \n",
        "# Persuasion for good: Towards a personalized persuasive dialogue system for social good.\n",
        "# arXiv preprint [arXiv:1906.06725](https://arxiv.org/abs/1906.06725) \n",
        "persuasion_label = dict({\n",
        "    0: 'task-related-inquiry', \n",
        "    1: 'credibility-appeal', \n",
        "    2: 'logical-appeal', \n",
        "    3: 'personal-related-inquiry', \n",
        "    4: 'source-related-inquiry', \n",
        "    5: 'donation-information', \n",
        "    6: 'foot-in-the-door', \n",
        "    7: 'emotion-appeal', \n",
        "    8: 'self-modeling', \n",
        "    9: 'personal-story',\n",
        "    10: 'Unknown'})"
      ],
      "metadata": {
        "id": "zXspnow4YK_v"
      },
      "execution_count": 60,
      "outputs": []
    },
    {
      "cell_type": "code",
      "source": [
        "# all persuasion strategies - the unknown one\n",
        "persuasion_set = persuasion_label.keys() - {10}\n",
        "persuasion_set"
      ],
      "metadata": {
        "colab": {
          "base_uri": "https://localhost:8080/"
        },
        "id": "PoL73RwDxbfR",
        "outputId": "14e3c508-2a50-401e-b075-d205007febb4"
      },
      "execution_count": 61,
      "outputs": [
        {
          "output_type": "execute_result",
          "data": {
            "text/plain": [
              "{0, 1, 2, 3, 4, 5, 6, 7, 8, 9}"
            ]
          },
          "metadata": {},
          "execution_count": 61
        }
      ]
    },
    {
      "cell_type": "code",
      "source": [
        "# exert influence through persuasion\n",
        "df_email['exert_influence'] = df_email['persuasion'].apply(lambda x: 1 if (x in persuasion_set) else 0)"
      ],
      "metadata": {
        "id": "ENgujM69xcaH"
      },
      "execution_count": 62,
      "outputs": []
    },
    {
      "cell_type": "code",
      "source": [
        "tmp_influence = df_email.groupby(df_email['exert_influence']).size().sort_values()\n",
        "tmp_influence"
      ],
      "metadata": {
        "colab": {
          "base_uri": "https://localhost:8080/"
        },
        "id": "STI0NUVGxuwx",
        "outputId": "b6afb76e-ed11-4e73-b56d-86b43c5edf86"
      },
      "execution_count": 63,
      "outputs": [
        {
          "output_type": "execute_result",
          "data": {
            "text/plain": [
              "exert_influence\n",
              "0    370\n",
              "dtype: int64"
            ]
          },
          "metadata": {},
          "execution_count": 63
        }
      ]
    },
    {
      "cell_type": "code",
      "source": [
        "tmp_influence.plot.barh(title=\"Influence Records\", xlabel=\"Influence\", ylabel=\"Number of records\", log=True)"
      ],
      "metadata": {
        "colab": {
          "base_uri": "https://localhost:8080/",
          "height": 299
        },
        "id": "9xmBAuobx97S",
        "outputId": "8b26dc96-79a6-4fc8-df97-1085933798e0"
      },
      "execution_count": 64,
      "outputs": [
        {
          "output_type": "execute_result",
          "data": {
            "text/plain": [
              "<AxesSubplot:title={'center':'Influence Records'}, ylabel='Influence'>"
            ]
          },
          "metadata": {},
          "execution_count": 64
        },
        {
          "output_type": "display_data",
          "data": {
            "text/plain": [
              "<Figure size 432x288 with 1 Axes>"
            ],
            "image/png": "[encoded data removed]"
          },
          "metadata": {
            "image/png": {
              "width": 376,
              "height": 265
            },
            "needs_background": "light"
          }
        }
      ]
    },
    {
      "cell_type": "markdown",
      "source": [
        "### &#9759; NLP Features\n",
        "\n",
        "* fkre_score\n",
        "* fkgl_score\n",
        "* word_cnt\n",
        "* sentence_cnt"
      ],
      "metadata": {
        "id": "bSi3GfxEzKIV"
      }
    },
    {
      "cell_type": "code",
      "source": [
        "df_email['txt_to_spacy'] = df_email.apply(lambda row: text_to_spacy_nlp(email_body=row.clean_body), axis=1)"
      ],
      "metadata": {
        "id": "JrgYmiMX2vM5"
      },
      "execution_count": 72,
      "outputs": []
    },
    {
      "cell_type": "code",
      "source": [
        "df_email['syllables_cnt'] = df_email.apply(lambda row: sum([count_syllables(s) for s in retrieve_words(spacy_txt=row.txt_to_spacy)]), axis=1)"
      ],
      "metadata": {
        "id": "bqHWqmPk6TjG"
      },
      "execution_count": 73,
      "outputs": []
    },
    {
      "cell_type": "markdown",
      "source": [
        "### &#9759; Sentence Count Feature"
      ],
      "metadata": {
        "id": "kFg9dD9NhQXX"
      }
    },
    {
      "cell_type": "code",
      "source": [
        "df_email['sentence_cnt'] = df_email.apply(lambda row: sentence_count(spacy_txt=row.txt_to_spacy), axis=1)"
      ],
      "metadata": {
        "id": "MREKEngr5mBh"
      },
      "execution_count": 74,
      "outputs": []
    },
    {
      "cell_type": "markdown",
      "source": [
        "### &#9759; Word Count Feature"
      ],
      "metadata": {
        "id": "_9cYSTK6hUi-"
      }
    },
    {
      "cell_type": "code",
      "source": [
        "df_email['word_cnt'] = df_email.apply(lambda row: word_count(spacy_txt=row.txt_to_spacy), axis=1)"
      ],
      "metadata": {
        "id": "4MqYlqrn6TzP"
      },
      "execution_count": 75,
      "outputs": []
    },
    {
      "cell_type": "markdown",
      "source": [
        "### &#9759; FKRE Score Feature"
      ],
      "metadata": {
        "id": "AciLHRcAhXcH"
      }
    },
    {
      "cell_type": "code",
      "source": [
        "df_email['fkre_score'] = df_email.apply(lambda row: fkre_score(\n",
        "    total_words=row.word_cnt, \n",
        "    total_sentences=row.sentence_cnt, \n",
        "    total_syllables=row.syllables_cnt), axis=1)"
      ],
      "metadata": {
        "id": "31BEI0MN6ylu"
      },
      "execution_count": 76,
      "outputs": []
    },
    {
      "cell_type": "markdown",
      "source": [
        "### &#9759; FKGL Score Feature"
      ],
      "metadata": {
        "id": "mtQcKkdlhbrA"
      }
    },
    {
      "cell_type": "code",
      "source": [
        "df_email['fkgl_score'] = df_email.apply(lambda row: fkgl_score(\n",
        "    total_words=row.word_cnt, \n",
        "    total_sentences=row.sentence_cnt, \n",
        "    total_syllables=row.syllables_cnt), axis=1)"
      ],
      "metadata": {
        "id": "5TTnYCz18k8d"
      },
      "execution_count": 77,
      "outputs": []
    },
    {
      "cell_type": "code",
      "source": [
        "df_email.head()"
      ],
      "metadata": {
        "colab": {
          "base_uri": "https://localhost:8080/",
          "height": 560
        },
        "id": "Dslu0A1a8xSk",
        "outputId": "15aa24b3-942a-4569-c045-940eb45c2bec"
      },
      "execution_count": 78,
      "outputs": [
        {
          "output_type": "execute_result",
          "data": {
            "text/plain": [
              "      id                                                url  mailing_list_id  \\\n",
              "0  31413  https://lkml.iu.edu/hypermail/linux/kernel/200...                1   \n",
              "1  30807  https://lkml.iu.edu/hypermail/linux/kernel/200...                1   \n",
              "2  30820  https://lkml.iu.edu/hypermail/linux/kernel/200...                1   \n",
              "3  33521  https://lkml.iu.edu/hypermail/linux/kernel/200...                1   \n",
              "4  31045  https://lkml.iu.edu/hypermail/linux/kernel/200...                1   \n",
              "\n",
              "          email_id                                         message_id  \\\n",
              "0   20200801044951     20200801084721.1812607-4-songliubraving@fb.com   \n",
              "1   20200801110231       20200801150050.767038-2-masahiroy@kernel.org   \n",
              "2   20200801090629       20200801130856.86625-3-chenzhou10@huawei.com   \n",
              "3  202008011049310  d43150db4486c8e4f23336d0266fefc1@NO-ID-FOUND.m...   \n",
              "4   20200801130229     636faf6f-4c85-0582-2482-b99002888d0d@kernel.dk   \n",
              "\n",
              "                                        reply_to_url  author_id  \\\n",
              "0  https://lkml.iu.edu/hypermail/linux/kernel/200...       1062   \n",
              "1  https://lkml.iu.edu/hypermail/linux/kernel/200...        208   \n",
              "2  https://lkml.iu.edu/hypermail/linux/kernel/200...       2724   \n",
              "3                                               None        858   \n",
              "4  https://lkml.iu.edu/hypermail/linux/kernel/200...        158   \n",
              "\n",
              "   timestamp_sent      timestamp_recv  \\\n",
              "0      1596271791 2020-08-01 09:49:51   \n",
              "1      1596294151 2020-08-01 16:02:31   \n",
              "2      1596287189 2020-08-01 14:06:29   \n",
              "3      1596293371 2020-08-01 15:49:31   \n",
              "4      1596301349 2020-08-01 18:02:29   \n",
              "\n",
              "                                             subject  ... persuasion  \\\n",
              "0  [PATCH bpf-next 3/5] selftests/bpf: add selfte...  ...    Unknown   \n",
              "1  [PATCH 2/2] kbuild: stop filtering out $(GCC_P...  ...    Unknown   \n",
              "2  [PATCH v11 2/5] x86: kdump: move reserve_crash...  ...    Unknown   \n",
              "3  [PATCH] mm/swap.c: optimizing __pagevec_lru_ad...  ...    Unknown   \n",
              "4      Re: [PATCH] fs: optimise kiocb_set_rw_flags()  ...    Unknown   \n",
              "\n",
              "                                 reply_to_message_id           sent_time  \\\n",
              "0     20200801084721.1812607-1-songliubraving@fb.com 2020-08-01 08:49:51   \n",
              "1       20200801150050.767038-1-masahiroy@kernel.org 2020-08-01 15:02:31   \n",
              "2       20200801130856.86625-1-chenzhou10@huawei.com 2020-08-01 13:06:29   \n",
              "3                                                    2020-08-01 14:49:31   \n",
              "4  e523f51f59ad6ecdad4ad22c560cb9c913e96e1a.15962... 2020-08-01 17:02:29   \n",
              "\n",
              "  exert_influence                                       txt_to_spacy  \\\n",
              "0               0  (This, test, checks, the, correctness, of, BPF...   \n",
              "1               0  (Commit, d26e94149276, (, \", kbuild, :, no, gc...   \n",
              "2               0  (In, preparation, for, supporting, reserve_cra...   \n",
              "3               0  (The, current, relock, logical, will, change, ...   \n",
              "4               0  (On, 8/1/20, 4:36, AM, ,, Pavel, Begunkov, wro...   \n",
              "\n",
              "  syllables_cnt  sentence_cnt word_cnt  fkre_score  fkgl_score  \n",
              "0            54             2       41       74.60        7.95  \n",
              "1            74             3       55       74.40        7.44  \n",
              "2            73             4       57       84.02        5.08  \n",
              "3           108             4       91       83.34        7.29  \n",
              "4            57             4       55      105.20        2.00  \n",
              "\n",
              "[5 rows x 23 columns]"
            ],
            "text/html": [
              "\n",
              "  <div id=\"df-3b46e380-d5e1-45c0-a017-f34441ce39a4\">\n",
              "    <div class=\"colab-df-container\">\n",
              "      <div>\n",
              "<style scoped>\n",
              "    .dataframe tbody tr th:only-of-type {\n",
              "        vertical-align: middle;\n",
              "    }\n",
              "\n",
              "    .dataframe tbody tr th {\n",
              "        vertical-align: top;\n",
              "    }\n",
              "\n",
              "    .dataframe thead th {\n",
              "        text-align: right;\n",
              "    }\n",
              "</style>\n",
              "<table border=\"1\" class=\"dataframe\">\n",
              "  <thead>\n",
              "    <tr style=\"text-align: right;\">\n",
              "      <th></th>\n",
              "      <th>id</th>\n",
              "      <th>url</th>\n",
              "      <th>mailing_list_id</th>\n",
              "      <th>email_id</th>\n",
              "      <th>message_id</th>\n",
              "      <th>reply_to_url</th>\n",
              "      <th>author_id</th>\n",
              "      <th>timestamp_sent</th>\n",
              "      <th>timestamp_recv</th>\n",
              "      <th>subject</th>\n",
              "      <th>...</th>\n",
              "      <th>persuasion</th>\n",
              "      <th>reply_to_message_id</th>\n",
              "      <th>sent_time</th>\n",
              "      <th>exert_influence</th>\n",
              "      <th>txt_to_spacy</th>\n",
              "      <th>syllables_cnt</th>\n",
              "      <th>sentence_cnt</th>\n",
              "      <th>word_cnt</th>\n",
              "      <th>fkre_score</th>\n",
              "      <th>fkgl_score</th>\n",
              "    </tr>\n",
              "  </thead>\n",
              "  <tbody>\n",
              "    <tr>\n",
              "      <th>0</th>\n",
              "      <td>31413</td>\n",
              "      <td>https://lkml.iu.edu/hypermail/linux/kernel/200...</td>\n",
              "      <td>1</td>\n",
              "      <td>20200801044951</td>\n",
              "      <td>20200801084721.1812607-4-songliubraving@fb.com</td>\n",
              "      <td>https://lkml.iu.edu/hypermail/linux/kernel/200...</td>\n",
              "      <td>1062</td>\n",
              "      <td>1596271791</td>\n",
              "      <td>2020-08-01 09:49:51</td>\n",
              "      <td>[PATCH bpf-next 3/5] selftests/bpf: add selfte...</td>\n",
              "      <td>...</td>\n",
              "      <td>Unknown</td>\n",
              "      <td>20200801084721.1812607-1-songliubraving@fb.com</td>\n",
              "      <td>2020-08-01 08:49:51</td>\n",
              "      <td>0</td>\n",
              "      <td>(This, test, checks, the, correctness, of, BPF...</td>\n",
              "      <td>54</td>\n",
              "      <td>2</td>\n",
              "      <td>41</td>\n",
              "      <td>74.60</td>\n",
              "      <td>7.95</td>\n",
              "    </tr>\n",
              "    <tr>\n",
              "      <th>1</th>\n",
              "      <td>30807</td>\n",
              "      <td>https://lkml.iu.edu/hypermail/linux/kernel/200...</td>\n",
              "      <td>1</td>\n",
              "      <td>20200801110231</td>\n",
              "      <td>20200801150050.767038-2-masahiroy@kernel.org</td>\n",
              "      <td>https://lkml.iu.edu/hypermail/linux/kernel/200...</td>\n",
              "      <td>208</td>\n",
              "      <td>1596294151</td>\n",
              "      <td>2020-08-01 16:02:31</td>\n",
              "      <td>[PATCH 2/2] kbuild: stop filtering out $(GCC_P...</td>\n",
              "      <td>...</td>\n",
              "      <td>Unknown</td>\n",
              "      <td>20200801150050.767038-1-masahiroy@kernel.org</td>\n",
              "      <td>2020-08-01 15:02:31</td>\n",
              "      <td>0</td>\n",
              "      <td>(Commit, d26e94149276, (, \", kbuild, :, no, gc...</td>\n",
              "      <td>74</td>\n",
              "      <td>3</td>\n",
              "      <td>55</td>\n",
              "      <td>74.40</td>\n",
              "      <td>7.44</td>\n",
              "    </tr>\n",
              "    <tr>\n",
              "      <th>2</th>\n",
              "      <td>30820</td>\n",
              "      <td>https://lkml.iu.edu/hypermail/linux/kernel/200...</td>\n",
              "      <td>1</td>\n",
              "      <td>20200801090629</td>\n",
              "      <td>20200801130856.86625-3-chenzhou10@huawei.com</td>\n",
              "      <td>https://lkml.iu.edu/hypermail/linux/kernel/200...</td>\n",
              "      <td>2724</td>\n",
              "      <td>1596287189</td>\n",
              "      <td>2020-08-01 14:06:29</td>\n",
              "      <td>[PATCH v11 2/5] x86: kdump: move reserve_crash...</td>\n",
              "      <td>...</td>\n",
              "      <td>Unknown</td>\n",
              "      <td>20200801130856.86625-1-chenzhou10@huawei.com</td>\n",
              "      <td>2020-08-01 13:06:29</td>\n",
              "      <td>0</td>\n",
              "      <td>(In, preparation, for, supporting, reserve_cra...</td>\n",
              "      <td>73</td>\n",
              "      <td>4</td>\n",
              "      <td>57</td>\n",
              "      <td>84.02</td>\n",
              "      <td>5.08</td>\n",
              "    </tr>\n",
              "    <tr>\n",
              "      <th>3</th>\n",
              "      <td>33521</td>\n",
              "      <td>https://lkml.iu.edu/hypermail/linux/kernel/200...</td>\n",
              "      <td>1</td>\n",
              "      <td>202008011049310</td>\n",
              "      <td>d43150db4486c8e4f23336d0266fefc1@NO-ID-FOUND.m...</td>\n",
              "      <td>None</td>\n",
              "      <td>858</td>\n",
              "      <td>1596293371</td>\n",
              "      <td>2020-08-01 15:49:31</td>\n",
              "      <td>[PATCH] mm/swap.c: optimizing __pagevec_lru_ad...</td>\n",
              "      <td>...</td>\n",
              "      <td>Unknown</td>\n",
              "      <td></td>\n",
              "      <td>2020-08-01 14:49:31</td>\n",
              "      <td>0</td>\n",
              "      <td>(The, current, relock, logical, will, change, ...</td>\n",
              "      <td>108</td>\n",
              "      <td>4</td>\n",
              "      <td>91</td>\n",
              "      <td>83.34</td>\n",
              "      <td>7.29</td>\n",
              "    </tr>\n",
              "    <tr>\n",
              "      <th>4</th>\n",
              "      <td>31045</td>\n",
              "      <td>https://lkml.iu.edu/hypermail/linux/kernel/200...</td>\n",
              "      <td>1</td>\n",
              "      <td>20200801130229</td>\n",
              "      <td>636faf6f-4c85-0582-2482-b99002888d0d@kernel.dk</td>\n",
              "      <td>https://lkml.iu.edu/hypermail/linux/kernel/200...</td>\n",
              "      <td>158</td>\n",
              "      <td>1596301349</td>\n",
              "      <td>2020-08-01 18:02:29</td>\n",
              "      <td>Re: [PATCH] fs: optimise kiocb_set_rw_flags()</td>\n",
              "      <td>...</td>\n",
              "      <td>Unknown</td>\n",
              "      <td>e523f51f59ad6ecdad4ad22c560cb9c913e96e1a.15962...</td>\n",
              "      <td>2020-08-01 17:02:29</td>\n",
              "      <td>0</td>\n",
              "      <td>(On, 8/1/20, 4:36, AM, ,, Pavel, Begunkov, wro...</td>\n",
              "      <td>57</td>\n",
              "      <td>4</td>\n",
              "      <td>55</td>\n",
              "      <td>105.20</td>\n",
              "      <td>2.00</td>\n",
              "    </tr>\n",
              "  </tbody>\n",
              "</table>\n",
              "<p>5 rows × 23 columns</p>\n",
              "</div>\n",
              "      <button class=\"colab-df-convert\" onclick=\"convertToInteractive('df-3b46e380-d5e1-45c0-a017-f34441ce39a4')\"\n",
              "              title=\"Convert this dataframe to an interactive table.\"\n",
              "              style=\"display:none;\">\n",
              "        \n",
              "  <svg xmlns=\"http://www.w3.org/2000/svg\" height=\"24px\"viewBox=\"0 0 24 24\"\n",
              "       width=\"24px\">\n",
              "    <path d=\"M0 0h24v24H0V0z\" fill=\"none\"/>\n",
              "    <path d=\"M18.56 5.44l.94 2.06.94-2.06 2.06-.94-2.06-.94-.94-2.06-.94 2.06-2.06.94zm-11 1L8.5 8.5l.94-2.06 2.06-.94-2.06-.94L8.5 2.5l-.94 2.06-2.06.94zm10 10l.94 2.06.94-2.06 2.06-.94-2.06-.94-.94-2.06-.94 2.06-2.06.94z\"/><path d=\"M17.41 7.96l-1.37-1.37c-.4-.4-.92-.59-1.43-.59-.52 0-1.04.2-1.43.59L10.3 9.45l-7.72 7.72c-.78.78-.78 2.05 0 2.83L4 21.41c.39.39.9.59 1.41.59.51 0 1.02-.2 1.41-.59l7.78-7.78 2.81-2.81c.8-.78.8-2.07 0-2.86zM5.41 20L4 18.59l7.72-7.72 1.47 1.35L5.41 20z\"/>\n",
              "  </svg>\n",
              "      </button>\n",
              "      \n",
              "  <style>\n",
              "    .colab-df-container {\n",
              "      display:flex;\n",
              "      flex-wrap:wrap;\n",
              "      gap: 12px;\n",
              "    }\n",
              "\n",
              "    .colab-df-convert {\n",
              "      background-color: #E8F0FE;\n",
              "      border: none;\n",
              "      border-radius: 50%;\n",
              "      cursor: pointer;\n",
              "      display: none;\n",
              "      fill: #1967D2;\n",
              "      height: 32px;\n",
              "      padding: 0 0 0 0;\n",
              "      width: 32px;\n",
              "    }\n",
              "\n",
              "    .colab-df-convert:hover {\n",
              "      background-color: #E2EBFA;\n",
              "      box-shadow: 0px 1px 2px rgba(60, 64, 67, 0.3), 0px 1px 3px 1px rgba(60, 64, 67, 0.15);\n",
              "      fill: #174EA6;\n",
              "    }\n",
              "\n",
              "    [theme=dark] .colab-df-convert {\n",
              "      background-color: #3B4455;\n",
              "      fill: #D2E3FC;\n",
              "    }\n",
              "\n",
              "    [theme=dark] .colab-df-convert:hover {\n",
              "      background-color: #434B5C;\n",
              "      box-shadow: 0px 1px 3px 1px rgba(0, 0, 0, 0.15);\n",
              "      filter: drop-shadow(0px 1px 2px rgba(0, 0, 0, 0.3));\n",
              "      fill: #FFFFFF;\n",
              "    }\n",
              "  </style>\n",
              "\n",
              "      <script>\n",
              "        const buttonEl =\n",
              "          document.querySelector('#df-3b46e380-d5e1-45c0-a017-f34441ce39a4 button.colab-df-convert');\n",
              "        buttonEl.style.display =\n",
              "          google.colab.kernel.accessAllowed ? 'block' : 'none';\n",
              "\n",
              "        async function convertToInteractive(key) {\n",
              "          const element = document.querySelector('#df-3b46e380-d5e1-45c0-a017-f34441ce39a4');\n",
              "          const dataTable =\n",
              "            await google.colab.kernel.invokeFunction('convertToInteractive',\n",
              "                                                     [key], {});\n",
              "          if (!dataTable) return;\n",
              "\n",
              "          const docLinkHtml = 'Like what you see? Visit the ' +\n",
              "            '<a target=\"_blank\" href=https://colab.research.google.com/notebooks/data_table.ipynb>data table notebook</a>'\n",
              "            + ' to learn more about interactive tables.';\n",
              "          element.innerHTML = '';\n",
              "          dataTable['output_type'] = 'display_data';\n",
              "          await google.colab.output.renderOutput(dataTable, element);\n",
              "          const docLink = document.createElement('div');\n",
              "          docLink.innerHTML = docLinkHtml;\n",
              "          element.appendChild(docLink);\n",
              "        }\n",
              "      </script>\n",
              "    </div>\n",
              "  </div>\n",
              "  "
            ]
          },
          "metadata": {},
          "execution_count": 78
        }
      ]
    },
    {
      "cell_type": "markdown",
      "source": [
        "### &#9759; Patch Email Feature"
      ],
      "metadata": {
        "id": "KnfbmhDHGjxo"
      }
    },
    {
      "cell_type": "code",
      "source": [
        "def check_if_patch(w):\n",
        "    \"\"\"https://stackoverflow.com/questions/5319922/python-check-if-word-is-in-a-string\"\"\"\n",
        "    return re.compile(r'\\b({0})\\b'.format(w), flags=re.IGNORECASE).search"
      ],
      "metadata": {
        "id": "hX5rv00x8zCZ"
      },
      "execution_count": 79,
      "outputs": []
    },
    {
      "cell_type": "code",
      "source": [
        "df_email['patch_email'] = df_email.apply(lambda row: 1 if check_if_patch(\"patch\")(row['subject']) else 0, axis=1)"
      ],
      "metadata": {
        "id": "f5WMFxHKG8sf"
      },
      "execution_count": 80,
      "outputs": []
    },
    {
      "cell_type": "code",
      "source": [
        "tmp_patch_email = df_email.groupby(df_email['patch_email']).size().sort_values()\n",
        "tmp_patch_email"
      ],
      "metadata": {
        "colab": {
          "base_uri": "https://localhost:8080/"
        },
        "id": "cjHq3gUiI6bS",
        "outputId": "8b381712-814c-45e6-e060-54a2ee89a1a5"
      },
      "execution_count": 81,
      "outputs": [
        {
          "output_type": "execute_result",
          "data": {
            "text/plain": [
              "patch_email\n",
              "0     43\n",
              "1    327\n",
              "dtype: int64"
            ]
          },
          "metadata": {},
          "execution_count": 81
        }
      ]
    },
    {
      "cell_type": "markdown",
      "source": [
        "### &#9759; Patch Churn Feature"
      ],
      "metadata": {
        "id": "O8M6NASxQL1O"
      }
    },
    {
      "cell_type": "code",
      "source": [
        "df_email['patch_churn'] = df_email.apply(lambda row: 1 if check_if_patch(\"patch\")(row['subject']) else 0, axis=1)"
      ],
      "metadata": {
        "id": "fAvEvcFDQOPR"
      },
      "execution_count": 82,
      "outputs": []
    },
    {
      "cell_type": "markdown",
      "source": [
        "### &#9759; Bug Fix Feature"
      ],
      "metadata": {
        "id": "2ViV_FdfQZRF"
      }
    },
    {
      "cell_type": "code",
      "source": [
        "# is_bug_fix = is_patch_churn\n",
        "# is_new_feature = is_patch_churn\n",
        "df_email['bug_fix'] = df_email.apply(lambda row: 1 if row['patch_churn'] == 1 else 0, axis=1)"
      ],
      "metadata": {
        "id": "8qjktOPOQY1H"
      },
      "execution_count": 83,
      "outputs": []
    },
    {
      "cell_type": "markdown",
      "source": [
        "### &#9759; New Feature"
      ],
      "metadata": {
        "id": "Xv4DqVWLQ4SB"
      }
    },
    {
      "cell_type": "code",
      "source": [
        "df_email['new_feature'] = df_email.apply(lambda row: 1 if row['patch_churn'] == 1 else 0, axis=1)"
      ],
      "metadata": {
        "id": "WCAYp-7LQ9Tc"
      },
      "execution_count": 84,
      "outputs": []
    },
    {
      "cell_type": "markdown",
      "source": [
        "### &#9759; First Patch Thread Feature"
      ],
      "metadata": {
        "id": "RlpnjsUwKTGE"
      }
    },
    {
      "cell_type": "code",
      "source": [
        "# thread_id: 20200801150050.767038-1-masahiroy@kernel.org\n",
        "\n",
        "# ORIGINAL LOGIC: CHECK WITH HUASCAR\n",
        "# is_first_patch_thread = 1 if not np.isnan(row['thread']) else 0"
      ],
      "metadata": {
        "id": "72kbP-z6I8FA"
      },
      "execution_count": null,
      "outputs": []
    },
    {
      "cell_type": "code",
      "source": [
        "df_email['first_patch_thread'] = df_email.apply(lambda row: 1 if row['thread_id'] and not row['reply_to_message_id'] else 0, axis=1)"
      ],
      "metadata": {
        "id": "3VJ33nGxPxQu"
      },
      "execution_count": 85,
      "outputs": []
    },
    {
      "cell_type": "code",
      "source": [
        "tmp_first_patch_thread = df_email.groupby(df_email['first_patch_thread']).size().sort_values()\n",
        "tmp_first_patch_thread"
      ],
      "metadata": {
        "colab": {
          "base_uri": "https://localhost:8080/"
        },
        "id": "UG1wadf6KsIj",
        "outputId": "49e7df54-5fa6-4cc8-ef1c-c28777198c2b"
      },
      "execution_count": 86,
      "outputs": [
        {
          "output_type": "execute_result",
          "data": {
            "text/plain": [
              "first_patch_thread\n",
              "1     78\n",
              "0    292\n",
              "dtype: int64"
            ]
          },
          "metadata": {},
          "execution_count": 86
        }
      ]
    },
    {
      "cell_type": "markdown",
      "source": [
        "### &#9759; Accepted Patch Feature"
      ],
      "metadata": {
        "id": "njxtQmLTXDxA"
      }
    },
    {
      "cell_type": "markdown",
      "source": [
        "* Patch is accepted if $state == Accepted$\n",
        "* Patch is integrated, also known as is_commit_accepted, if $state == Mainlined$"
      ],
      "metadata": {
        "id": "mCYMH3sZp5ap"
      }
    },
    {
      "cell_type": "code",
      "source": [
        "def check_patch_state(patches_df: pd.DataFrame, search_column: str, search_value: str, state_value: str='Accepted') -> int:\n",
        "    \"\"\"Searches the Patch data based on search column value and state value\n",
        "\n",
        "    Args:\n",
        "      patches_df: input patches dataframe\n",
        "      search_column: column to search at in patches dataframe\n",
        "      search_value: target value in search column\n",
        "      state_value: target state value, default: Accepted\n",
        "    \n",
        "    Returns:\n",
        "      1 (True) if record exists, 0 (False) otherwise\n",
        "    \"\"\"\n",
        "\n",
        "    res = patches_df[patches_df[search_column] == search_value]\n",
        "\n",
        "    if not res.empty:\n",
        "        # consider only the first result\n",
        "        if res.iloc[0].state.casefold() == state_value.casefold():\n",
        "            return 1\n",
        "        else:\n",
        "            return 0\n",
        "    return 0"
      ],
      "metadata": {
        "id": "MKDiFGuwjBu5"
      },
      "execution_count": 87,
      "outputs": []
    },
    {
      "cell_type": "code",
      "source": [
        "df_email['accepted_patch'] = df_email.apply(lambda row: check_patch_state(\n",
        "    patches_df=df_patches, \n",
        "    search_column='mail_id', \n",
        "    search_value=row['message_id'], \n",
        "    state_value='Accepted'), axis=1)"
      ],
      "metadata": {
        "id": "3H9OaAfEXlFx"
      },
      "execution_count": 88,
      "outputs": []
    },
    {
      "cell_type": "code",
      "source": [
        "tmp_accepted_patch = df_email.groupby(df_email['accepted_patch']).size().sort_values()\n",
        "tmp_accepted_patch"
      ],
      "metadata": {
        "colab": {
          "base_uri": "https://localhost:8080/"
        },
        "id": "SQMYXXkPYjmh",
        "outputId": "18ed3f70-5b4c-40d4-98ff-c00477566f85"
      },
      "execution_count": 89,
      "outputs": [
        {
          "output_type": "execute_result",
          "data": {
            "text/plain": [
              "accepted_patch\n",
              "1      5\n",
              "0    365\n",
              "dtype: int64"
            ]
          },
          "metadata": {},
          "execution_count": 89
        }
      ]
    },
    {
      "cell_type": "markdown",
      "source": [
        "### &#9759; Accepted Commit Feature"
      ],
      "metadata": {
        "id": "_M5udKqwXImm"
      }
    },
    {
      "cell_type": "code",
      "source": [
        "df_email['accepted_commit'] = df_email.apply(lambda row: check_patch_state(\n",
        "    patches_df=df_patches, \n",
        "    search_column='mail_id', \n",
        "    search_value=row['message_id'], \n",
        "    state_value='Mainlined'), axis=1)"
      ],
      "metadata": {
        "id": "5YgDPkumZPwZ"
      },
      "execution_count": 90,
      "outputs": []
    },
    {
      "cell_type": "code",
      "source": [
        "tmp_accepted_commit = df_email.groupby(df_email['accepted_commit']).size().sort_values()\n",
        "tmp_accepted_commit"
      ],
      "metadata": {
        "colab": {
          "base_uri": "https://localhost:8080/"
        },
        "id": "VuzoOaq6ZXMF",
        "outputId": "54a585c2-f76f-440d-9933-a93ba9cd981e"
      },
      "execution_count": 91,
      "outputs": [
        {
          "output_type": "execute_result",
          "data": {
            "text/plain": [
              "accepted_commit\n",
              "1      2\n",
              "0    368\n",
              "dtype: int64"
            ]
          },
          "metadata": {},
          "execution_count": 91
        }
      ]
    },
    {
      "cell_type": "markdown",
      "source": [
        "### &#9759; reply_within_4hr Feature"
      ],
      "metadata": {
        "id": "hnuqJ2zRZlks"
      }
    },
    {
      "cell_type": "code",
      "source": [
        "df_email.info()"
      ],
      "metadata": {
        "colab": {
          "base_uri": "https://localhost:8080/"
        },
        "id": "HjPXeB05uXGE",
        "outputId": "7c322de9-d04f-45fd-e255-20a5e7c94e44"
      },
      "execution_count": 98,
      "outputs": [
        {
          "output_type": "stream",
          "name": "stdout",
          "text": [
            "<class 'pandas.core.frame.DataFrame'>\n",
            "RangeIndex: 370 entries, 0 to 369\n",
            "Data columns (total 32 columns):\n",
            " #   Column               Non-Null Count  Dtype         \n",
            "---  ------               --------------  -----         \n",
            " 0   id                   370 non-null    int64         \n",
            " 1   url                  370 non-null    object        \n",
            " 2   mailing_list_id      370 non-null    int64         \n",
            " 3   email_id             370 non-null    object        \n",
            " 4   message_id           370 non-null    object        \n",
            " 5   reply_to_url         193 non-null    object        \n",
            " 6   author_id            370 non-null    int64         \n",
            " 7   timestamp_sent       370 non-null    int64         \n",
            " 8   timestamp_recv       370 non-null    datetime64[ns]\n",
            " 9   subject              370 non-null    object        \n",
            " 10  body                 370 non-null    object        \n",
            " 11  clean_body           370 non-null    object        \n",
            " 12  thread_id            370 non-null    object        \n",
            " 13  persuasion           370 non-null    object        \n",
            " 14  reply_to_message_id  370 non-null    object        \n",
            " 15  sent_time            370 non-null    datetime64[ns]\n",
            " 16  exert_influence      370 non-null    int64         \n",
            " 17  txt_to_spacy         370 non-null    object        \n",
            " 18  syllables_cnt        370 non-null    int64         \n",
            " 19  sentence_cnt         370 non-null    int64         \n",
            " 20  word_cnt             370 non-null    int64         \n",
            " 21  fkre_score           370 non-null    float64       \n",
            " 22  fkgl_score           370 non-null    float64       \n",
            " 23  patch_email          370 non-null    int64         \n",
            " 24  patch_churn          370 non-null    int64         \n",
            " 25  bug_fix              370 non-null    int64         \n",
            " 26  new_feature          370 non-null    int64         \n",
            " 27  first_patch_thread   370 non-null    int64         \n",
            " 28  accepted_patch       370 non-null    int64         \n",
            " 29  accepted_commit      370 non-null    int64         \n",
            " 30  commit_experience    370 non-null    int64         \n",
            " 31  message_experience   370 non-null    int64         \n",
            "dtypes: datetime64[ns](2), float64(2), int64(17), object(11)\n",
            "memory usage: 92.6+ KB\n"
          ]
        }
      ]
    },
    {
      "cell_type": "code",
      "source": [
        "def time_lapsed_in_seconds(email_df, target_email):\n",
        "    \"\"\"Given an email search for the earliest email in the dataframe \n",
        "       that replies to it and calculate time lapsed in seconds.\n",
        "       \n",
        "       TLDR: \n",
        "       1. Search for the emails where in_reply_to == email_id\n",
        "       2. Sort the answer if the returned DF is not empty\n",
        "       3. Get the earliest response\n",
        "       4. Do the time difference\n",
        "       \n",
        "       return time_lapsed_in_min if reply exists\n",
        "       return -1 if the email has not received any reply\n",
        "    \"\"\"\n",
        "    tmp_df = email_df[email_df['reply_to_message_id'] == target_email['message_id']]\n",
        "    \n",
        "    if not tmp_df.empty:\n",
        "        tmp_df_sorted = tmp_df.sort_values(by='sent_time', ascending=True)\n",
        "        time_diff = tmp_df_sorted.iloc[0]['sent_time'] - target_email['sent_time']\n",
        "        time_lapsed_secs = time_diff.total_seconds()\n",
        "        return abs(time_lapsed_secs)\n",
        "    else:\n",
        "        return -1"
      ],
      "metadata": {
        "id": "RPU1x7HWZeKN"
      },
      "execution_count": 99,
      "outputs": []
    },
    {
      "cell_type": "code",
      "source": [
        "df_email['time_lapsed'] = df_email.apply(lambda row: time_lapsed_in_seconds(email_df=df_email, target_email=row), axis=1)"
      ],
      "metadata": {
        "id": "l1kSRW3Fv1_e"
      },
      "execution_count": 100,
      "outputs": []
    },
    {
      "cell_type": "code",
      "source": [
        "df_email.head()"
      ],
      "metadata": {
        "colab": {
          "base_uri": "https://localhost:8080/",
          "height": 490
        },
        "id": "co17EX7XwCWa",
        "outputId": "48e24d9d-7268-425c-8af6-31ba657728b2"
      },
      "execution_count": 101,
      "outputs": [
        {
          "output_type": "execute_result",
          "data": {
            "text/plain": [
              "      id                                                url  mailing_list_id  \\\n",
              "0  31413  https://lkml.iu.edu/hypermail/linux/kernel/200...                1   \n",
              "1  30807  https://lkml.iu.edu/hypermail/linux/kernel/200...                1   \n",
              "2  30820  https://lkml.iu.edu/hypermail/linux/kernel/200...                1   \n",
              "3  33521  https://lkml.iu.edu/hypermail/linux/kernel/200...                1   \n",
              "4  31045  https://lkml.iu.edu/hypermail/linux/kernel/200...                1   \n",
              "\n",
              "          email_id                                         message_id  \\\n",
              "0   20200801044951     20200801084721.1812607-4-songliubraving@fb.com   \n",
              "1   20200801110231       20200801150050.767038-2-masahiroy@kernel.org   \n",
              "2   20200801090629       20200801130856.86625-3-chenzhou10@huawei.com   \n",
              "3  202008011049310  d43150db4486c8e4f23336d0266fefc1@NO-ID-FOUND.m...   \n",
              "4   20200801130229     636faf6f-4c85-0582-2482-b99002888d0d@kernel.dk   \n",
              "\n",
              "                                        reply_to_url  author_id  \\\n",
              "0  https://lkml.iu.edu/hypermail/linux/kernel/200...       1062   \n",
              "1  https://lkml.iu.edu/hypermail/linux/kernel/200...        208   \n",
              "2  https://lkml.iu.edu/hypermail/linux/kernel/200...       2724   \n",
              "3                                               None        858   \n",
              "4  https://lkml.iu.edu/hypermail/linux/kernel/200...        158   \n",
              "\n",
              "   timestamp_sent      timestamp_recv  \\\n",
              "0      1596271791 2020-08-01 09:49:51   \n",
              "1      1596294151 2020-08-01 16:02:31   \n",
              "2      1596287189 2020-08-01 14:06:29   \n",
              "3      1596293371 2020-08-01 15:49:31   \n",
              "4      1596301349 2020-08-01 18:02:29   \n",
              "\n",
              "                                             subject  ... patch_email  \\\n",
              "0  [PATCH bpf-next 3/5] selftests/bpf: add selfte...  ...           1   \n",
              "1  [PATCH 2/2] kbuild: stop filtering out $(GCC_P...  ...           1   \n",
              "2  [PATCH v11 2/5] x86: kdump: move reserve_crash...  ...           1   \n",
              "3  [PATCH] mm/swap.c: optimizing __pagevec_lru_ad...  ...           1   \n",
              "4      Re: [PATCH] fs: optimise kiocb_set_rw_flags()  ...           1   \n",
              "\n",
              "  patch_churn bug_fix new_feature first_patch_thread accepted_patch  \\\n",
              "0           1       1           1                  0              0   \n",
              "1           1       1           1                  0              0   \n",
              "2           1       1           1                  0              0   \n",
              "3           1       1           1                  1              0   \n",
              "4           1       1           1                  0              0   \n",
              "\n",
              "   accepted_commit commit_experience  message_experience  time_lapsed  \n",
              "0                0                 0                   0         -1.0  \n",
              "1                0                 0                   0         -1.0  \n",
              "2                0                 0                   0         -1.0  \n",
              "3                0                 0                   0         -1.0  \n",
              "4                0                 0                   0         -1.0  \n",
              "\n",
              "[5 rows x 33 columns]"
            ],
            "text/html": [
              "\n",
              "  <div id=\"df-3462917d-4082-4f4f-bf08-6c18ba695710\">\n",
              "    <div class=\"colab-df-container\">\n",
              "      <div>\n",
              "<style scoped>\n",
              "    .dataframe tbody tr th:only-of-type {\n",
              "        vertical-align: middle;\n",
              "    }\n",
              "\n",
              "    .dataframe tbody tr th {\n",
              "        vertical-align: top;\n",
              "    }\n",
              "\n",
              "    .dataframe thead th {\n",
              "        text-align: right;\n",
              "    }\n",
              "</style>\n",
              "<table border=\"1\" class=\"dataframe\">\n",
              "  <thead>\n",
              "    <tr style=\"text-align: right;\">\n",
              "      <th></th>\n",
              "      <th>id</th>\n",
              "      <th>url</th>\n",
              "      <th>mailing_list_id</th>\n",
              "      <th>email_id</th>\n",
              "      <th>message_id</th>\n",
              "      <th>reply_to_url</th>\n",
              "      <th>author_id</th>\n",
              "      <th>timestamp_sent</th>\n",
              "      <th>timestamp_recv</th>\n",
              "      <th>subject</th>\n",
              "      <th>...</th>\n",
              "      <th>patch_email</th>\n",
              "      <th>patch_churn</th>\n",
              "      <th>bug_fix</th>\n",
              "      <th>new_feature</th>\n",
              "      <th>first_patch_thread</th>\n",
              "      <th>accepted_patch</th>\n",
              "      <th>accepted_commit</th>\n",
              "      <th>commit_experience</th>\n",
              "      <th>message_experience</th>\n",
              "      <th>time_lapsed</th>\n",
              "    </tr>\n",
              "  </thead>\n",
              "  <tbody>\n",
              "    <tr>\n",
              "      <th>0</th>\n",
              "      <td>31413</td>\n",
              "      <td>https://lkml.iu.edu/hypermail/linux/kernel/200...</td>\n",
              "      <td>1</td>\n",
              "      <td>20200801044951</td>\n",
              "      <td>20200801084721.1812607-4-songliubraving@fb.com</td>\n",
              "      <td>https://lkml.iu.edu/hypermail/linux/kernel/200...</td>\n",
              "      <td>1062</td>\n",
              "      <td>1596271791</td>\n",
              "      <td>2020-08-01 09:49:51</td>\n",
              "      <td>[PATCH bpf-next 3/5] selftests/bpf: add selfte...</td>\n",
              "      <td>...</td>\n",
              "      <td>1</td>\n",
              "      <td>1</td>\n",
              "      <td>1</td>\n",
              "      <td>1</td>\n",
              "      <td>0</td>\n",
              "      <td>0</td>\n",
              "      <td>0</td>\n",
              "      <td>0</td>\n",
              "      <td>0</td>\n",
              "      <td>-1.0</td>\n",
              "    </tr>\n",
              "    <tr>\n",
              "      <th>1</th>\n",
              "      <td>30807</td>\n",
              "      <td>https://lkml.iu.edu/hypermail/linux/kernel/200...</td>\n",
              "      <td>1</td>\n",
              "      <td>20200801110231</td>\n",
              "      <td>20200801150050.767038-2-masahiroy@kernel.org</td>\n",
              "      <td>https://lkml.iu.edu/hypermail/linux/kernel/200...</td>\n",
              "      <td>208</td>\n",
              "      <td>1596294151</td>\n",
              "      <td>2020-08-01 16:02:31</td>\n",
              "      <td>[PATCH 2/2] kbuild: stop filtering out $(GCC_P...</td>\n",
              "      <td>...</td>\n",
              "      <td>1</td>\n",
              "      <td>1</td>\n",
              "      <td>1</td>\n",
              "      <td>1</td>\n",
              "      <td>0</td>\n",
              "      <td>0</td>\n",
              "      <td>0</td>\n",
              "      <td>0</td>\n",
              "      <td>0</td>\n",
              "      <td>-1.0</td>\n",
              "    </tr>\n",
              "    <tr>\n",
              "      <th>2</th>\n",
              "      <td>30820</td>\n",
              "      <td>https://lkml.iu.edu/hypermail/linux/kernel/200...</td>\n",
              "      <td>1</td>\n",
              "      <td>20200801090629</td>\n",
              "      <td>20200801130856.86625-3-chenzhou10@huawei.com</td>\n",
              "      <td>https://lkml.iu.edu/hypermail/linux/kernel/200...</td>\n",
              "      <td>2724</td>\n",
              "      <td>1596287189</td>\n",
              "      <td>2020-08-01 14:06:29</td>\n",
              "      <td>[PATCH v11 2/5] x86: kdump: move reserve_crash...</td>\n",
              "      <td>...</td>\n",
              "      <td>1</td>\n",
              "      <td>1</td>\n",
              "      <td>1</td>\n",
              "      <td>1</td>\n",
              "      <td>0</td>\n",
              "      <td>0</td>\n",
              "      <td>0</td>\n",
              "      <td>0</td>\n",
              "      <td>0</td>\n",
              "      <td>-1.0</td>\n",
              "    </tr>\n",
              "    <tr>\n",
              "      <th>3</th>\n",
              "      <td>33521</td>\n",
              "      <td>https://lkml.iu.edu/hypermail/linux/kernel/200...</td>\n",
              "      <td>1</td>\n",
              "      <td>202008011049310</td>\n",
              "      <td>d43150db4486c8e4f23336d0266fefc1@NO-ID-FOUND.m...</td>\n",
              "      <td>None</td>\n",
              "      <td>858</td>\n",
              "      <td>1596293371</td>\n",
              "      <td>2020-08-01 15:49:31</td>\n",
              "      <td>[PATCH] mm/swap.c: optimizing __pagevec_lru_ad...</td>\n",
              "      <td>...</td>\n",
              "      <td>1</td>\n",
              "      <td>1</td>\n",
              "      <td>1</td>\n",
              "      <td>1</td>\n",
              "      <td>1</td>\n",
              "      <td>0</td>\n",
              "      <td>0</td>\n",
              "      <td>0</td>\n",
              "      <td>0</td>\n",
              "      <td>-1.0</td>\n",
              "    </tr>\n",
              "    <tr>\n",
              "      <th>4</th>\n",
              "      <td>31045</td>\n",
              "      <td>https://lkml.iu.edu/hypermail/linux/kernel/200...</td>\n",
              "      <td>1</td>\n",
              "      <td>20200801130229</td>\n",
              "      <td>636faf6f-4c85-0582-2482-b99002888d0d@kernel.dk</td>\n",
              "      <td>https://lkml.iu.edu/hypermail/linux/kernel/200...</td>\n",
              "      <td>158</td>\n",
              "      <td>1596301349</td>\n",
              "      <td>2020-08-01 18:02:29</td>\n",
              "      <td>Re: [PATCH] fs: optimise kiocb_set_rw_flags()</td>\n",
              "      <td>...</td>\n",
              "      <td>1</td>\n",
              "      <td>1</td>\n",
              "      <td>1</td>\n",
              "      <td>1</td>\n",
              "      <td>0</td>\n",
              "      <td>0</td>\n",
              "      <td>0</td>\n",
              "      <td>0</td>\n",
              "      <td>0</td>\n",
              "      <td>-1.0</td>\n",
              "    </tr>\n",
              "  </tbody>\n",
              "</table>\n",
              "<p>5 rows × 33 columns</p>\n",
              "</div>\n",
              "      <button class=\"colab-df-convert\" onclick=\"convertToInteractive('df-3462917d-4082-4f4f-bf08-6c18ba695710')\"\n",
              "              title=\"Convert this dataframe to an interactive table.\"\n",
              "              style=\"display:none;\">\n",
              "        \n",
              "  <svg xmlns=\"http://www.w3.org/2000/svg\" height=\"24px\"viewBox=\"0 0 24 24\"\n",
              "       width=\"24px\">\n",
              "    <path d=\"M0 0h24v24H0V0z\" fill=\"none\"/>\n",
              "    <path d=\"M18.56 5.44l.94 2.06.94-2.06 2.06-.94-2.06-.94-.94-2.06-.94 2.06-2.06.94zm-11 1L8.5 8.5l.94-2.06 2.06-.94-2.06-.94L8.5 2.5l-.94 2.06-2.06.94zm10 10l.94 2.06.94-2.06 2.06-.94-2.06-.94-.94-2.06-.94 2.06-2.06.94z\"/><path d=\"M17.41 7.96l-1.37-1.37c-.4-.4-.92-.59-1.43-.59-.52 0-1.04.2-1.43.59L10.3 9.45l-7.72 7.72c-.78.78-.78 2.05 0 2.83L4 21.41c.39.39.9.59 1.41.59.51 0 1.02-.2 1.41-.59l7.78-7.78 2.81-2.81c.8-.78.8-2.07 0-2.86zM5.41 20L4 18.59l7.72-7.72 1.47 1.35L5.41 20z\"/>\n",
              "  </svg>\n",
              "      </button>\n",
              "      \n",
              "  <style>\n",
              "    .colab-df-container {\n",
              "      display:flex;\n",
              "      flex-wrap:wrap;\n",
              "      gap: 12px;\n",
              "    }\n",
              "\n",
              "    .colab-df-convert {\n",
              "      background-color: #E8F0FE;\n",
              "      border: none;\n",
              "      border-radius: 50%;\n",
              "      cursor: pointer;\n",
              "      display: none;\n",
              "      fill: #1967D2;\n",
              "      height: 32px;\n",
              "      padding: 0 0 0 0;\n",
              "      width: 32px;\n",
              "    }\n",
              "\n",
              "    .colab-df-convert:hover {\n",
              "      background-color: #E2EBFA;\n",
              "      box-shadow: 0px 1px 2px rgba(60, 64, 67, 0.3), 0px 1px 3px 1px rgba(60, 64, 67, 0.15);\n",
              "      fill: #174EA6;\n",
              "    }\n",
              "\n",
              "    [theme=dark] .colab-df-convert {\n",
              "      background-color: #3B4455;\n",
              "      fill: #D2E3FC;\n",
              "    }\n",
              "\n",
              "    [theme=dark] .colab-df-convert:hover {\n",
              "      background-color: #434B5C;\n",
              "      box-shadow: 0px 1px 3px 1px rgba(0, 0, 0, 0.15);\n",
              "      filter: drop-shadow(0px 1px 2px rgba(0, 0, 0, 0.3));\n",
              "      fill: #FFFFFF;\n",
              "    }\n",
              "  </style>\n",
              "\n",
              "      <script>\n",
              "        const buttonEl =\n",
              "          document.querySelector('#df-3462917d-4082-4f4f-bf08-6c18ba695710 button.colab-df-convert');\n",
              "        buttonEl.style.display =\n",
              "          google.colab.kernel.accessAllowed ? 'block' : 'none';\n",
              "\n",
              "        async function convertToInteractive(key) {\n",
              "          const element = document.querySelector('#df-3462917d-4082-4f4f-bf08-6c18ba695710');\n",
              "          const dataTable =\n",
              "            await google.colab.kernel.invokeFunction('convertToInteractive',\n",
              "                                                     [key], {});\n",
              "          if (!dataTable) return;\n",
              "\n",
              "          const docLinkHtml = 'Like what you see? Visit the ' +\n",
              "            '<a target=\"_blank\" href=https://colab.research.google.com/notebooks/data_table.ipynb>data table notebook</a>'\n",
              "            + ' to learn more about interactive tables.';\n",
              "          element.innerHTML = '';\n",
              "          dataTable['output_type'] = 'display_data';\n",
              "          await google.colab.output.renderOutput(dataTable, element);\n",
              "          const docLink = document.createElement('div');\n",
              "          docLink.innerHTML = docLinkHtml;\n",
              "          element.appendChild(docLink);\n",
              "        }\n",
              "      </script>\n",
              "    </div>\n",
              "  </div>\n",
              "  "
            ]
          },
          "metadata": {},
          "execution_count": 101
        }
      ]
    },
    {
      "cell_type": "code",
      "source": [
        "# is_quickly_replied\n",
        "# Prior analysis on the LKML confirmed that patch emails\n",
        "# tend to get a response within 3.5 hrs (on average).\n",
        "# For sake of simplicity, we used 4 hrs instead of 3.5 hrs. \n",
        "# 4 * 60 * 60\n",
        "four_h_lapse = 14400\n",
        "df_email['is_quickly_replied'] = df_email['time_lapsed'].apply(lambda x: 1 if (x <= four_h_lapse and x != -1) else 0)"
      ],
      "metadata": {
        "id": "Ps5jU8sJwQt-"
      },
      "execution_count": 102,
      "outputs": []
    },
    {
      "cell_type": "markdown",
      "source": [
        "### &#9759; Message Experience Feature"
      ],
      "metadata": {
        "id": "_Zf15kQAmELv"
      }
    },
    {
      "cell_type": "code",
      "source": [
        "# def retrieve_message_experience(developer_data_list, sender_id, timestamp_sent):\n",
        "#     cnt = 0\n",
        "#     if len(developer_data_list) > 0:\n",
        "#         for record in developer_data_list:\n",
        "#             # each record is a dictionary\n",
        "#             if record['sender_id'] == sender_id and record['sent_time'] <= timestamp_sent and record['is_patch_email'] == 1:\n",
        "#                 cnt += 1\n",
        "#     return cnt"
      ],
      "metadata": {
        "id": "n5nSXPjGmGj8"
      },
      "execution_count": null,
      "outputs": []
    },
    {
      "cell_type": "code",
      "source": [
        "def message_experience(email_df: pd.DataFrame, author_id: int, sent_time: np.datetime64) -> int:\n",
        "    \"\"\"Count the number of patch emails sent by a developer in earlier threads\n",
        "\n",
        "    Args:\n",
        "      email_df: input email dataframe\n",
        "      author_id: target author ID\n",
        "      sent_time: sent time of the current record into consideration\n",
        "    \n",
        "    Returns:\n",
        "      The number of prior records in the email data that were patch emails\n",
        "    \"\"\"\n",
        "\n",
        "    result_df = email_df.loc[(email_df.author_id == author_id) & (email_df.sent_time <= sent_time) & (email_df.accepted_patch == 1)]\n",
        "\n",
        "    records_number = len(result_df)\n",
        "    \n",
        "    return records_number"
      ],
      "metadata": {
        "id": "5g6F2RfbrcXF"
      },
      "execution_count": 96,
      "outputs": []
    },
    {
      "cell_type": "code",
      "source": [
        "df_email['message_experience'] = df_email.apply(lambda row: message_experience(email_df=df_email, author_id=row.author_id, sent_time=row.sent_time), axis=1)"
      ],
      "metadata": {
        "id": "K5xCtZJ2sRFX"
      },
      "execution_count": 97,
      "outputs": []
    },
    {
      "cell_type": "markdown",
      "source": [
        "### &#9759; Commit Experience Feature"
      ],
      "metadata": {
        "id": "P-lp6aOkmHEz"
      }
    },
    {
      "cell_type": "code",
      "source": [
        "# def retrieve_commit_experience(developer_data_list, sender_id, timestamp_sent):\n",
        "#     cnt = 0\n",
        "#     if len(developer_data_list) > 0:\n",
        "#         for record in developer_data_list:\n",
        "#             # parsing each record in the dictionary so far\n",
        "#             if record['sender_id'] == sender_id and record['sent_time'] <= timestamp_sent and record['is_accepted_commit'] == 1:\n",
        "#                 cnt += 1\n",
        "#     return cnt"
      ],
      "metadata": {
        "id": "9G6OnubDmIgs"
      },
      "execution_count": null,
      "outputs": []
    },
    {
      "cell_type": "code",
      "source": [
        "def commit_experience(email_df: pd.DataFrame, author_id: int, sent_time: np.datetime64) -> int:\n",
        "    \"\"\"Count the previous records of a user which resulted in an accepted commit\n",
        "\n",
        "    Args:\n",
        "      email_df: input email dataframe\n",
        "      author_id: target author ID\n",
        "      sent_time: sent time of the current record into consideration\n",
        "    \n",
        "    Returns:\n",
        "      The number of prior records in the email data that resulted in an accepted commit.\n",
        "    \"\"\"\n",
        "\n",
        "    result_df = email_df.loc[(email_df.author_id == author_id) & (email_df.sent_time <= sent_time) & (email_df.accepted_commit == 1)]\n",
        "\n",
        "    records_number = len(result_df)\n",
        "    \n",
        "    return records_number"
      ],
      "metadata": {
        "id": "G1wivglimwva"
      },
      "execution_count": 93,
      "outputs": []
    },
    {
      "cell_type": "code",
      "source": [
        "df_email['commit_experience'] = df_email.apply(lambda row: commit_experience(email_df=df_email, author_id=row.author_id, sent_time=row.sent_time), axis=1)"
      ],
      "metadata": {
        "id": "E1Qg0lU0p5ew"
      },
      "execution_count": 94,
      "outputs": []
    },
    {
      "cell_type": "code",
      "source": [
        "df_email.commit_experience.max(), df_email.commit_experience.min()"
      ],
      "metadata": {
        "colab": {
          "base_uri": "https://localhost:8080/"
        },
        "id": "ABHb46c2qQun",
        "outputId": "82472324-7a56-483b-910e-8f70107cfa45"
      },
      "execution_count": 95,
      "outputs": [
        {
          "output_type": "execute_result",
          "data": {
            "text/plain": [
              "(1, 0)"
            ]
          },
          "metadata": {},
          "execution_count": 95
        }
      ]
    },
    {
      "cell_type": "markdown",
      "source": [
        "## &#9759; Interest DF"
      ],
      "metadata": {
        "id": "FrGoJWiIyC10"
      }
    },
    {
      "cell_type": "code",
      "source": [
        "COLUMNS_OF_INTEREST = ['fkre_score', 'fkgl_score', 'message_experience', 'commit_experience', \n",
        "                       'word_cnt', 'sentence_cnt', 'exert_influence', 'patch_email', \n",
        "                       'first_patch_thread', 'sent_time', 'timestamp_recv', 'is_quickly_replied', \n",
        "                       'patch_churn', 'bug_fix', 'new_feature', 'accepted_patch', 'accepted_commit']"
      ],
      "metadata": {
        "id": "VtJjBYPDqXFp"
      },
      "execution_count": 104,
      "outputs": []
    },
    {
      "cell_type": "code",
      "source": [
        "interest_df = df_email[COLUMNS_OF_INTEREST].copy()\n",
        "\n",
        "# Compute catch email verbosity (ratio of word count to sentence count)\n",
        "interest_df['verbosity'] = interest_df['word_cnt'] / interest_df['sentence_cnt']\n",
        "## Replace NaN cases with Zero and the drop word and sentence counts\n",
        "interest_df.fillna(value={'verbosity': 0}, inplace=True)\n",
        "interest_df.drop(['word_cnt', 'sentence_cnt'], axis = 1, inplace=True)\n",
        "interest_df.head()"
      ],
      "metadata": {
        "colab": {
          "base_uri": "https://localhost:8080/",
          "height": 206
        },
        "id": "egZEaWnyyyf0",
        "outputId": "bd786739-7cc6-4b2b-d757-8de05fc2d2f7"
      },
      "execution_count": 105,
      "outputs": [
        {
          "output_type": "execute_result",
          "data": {
            "text/plain": [
              "   fkre_score  fkgl_score  message_experience  commit_experience  \\\n",
              "0       74.60        7.95                   0                  0   \n",
              "1       74.40        7.44                   0                  0   \n",
              "2       84.02        5.08                   0                  0   \n",
              "3       83.34        7.29                   0                  0   \n",
              "4      105.20        2.00                   0                  0   \n",
              "\n",
              "   exert_influence  patch_email  first_patch_thread           sent_time  \\\n",
              "0                0            1                   0 2020-08-01 08:49:51   \n",
              "1                0            1                   0 2020-08-01 15:02:31   \n",
              "2                0            1                   0 2020-08-01 13:06:29   \n",
              "3                0            1                   1 2020-08-01 14:49:31   \n",
              "4                0            1                   0 2020-08-01 17:02:29   \n",
              "\n",
              "       timestamp_recv  is_quickly_replied  patch_churn  bug_fix  new_feature  \\\n",
              "0 2020-08-01 09:49:51                   0            1        1            1   \n",
              "1 2020-08-01 16:02:31                   0            1        1            1   \n",
              "2 2020-08-01 14:06:29                   0            1        1            1   \n",
              "3 2020-08-01 15:49:31                   0            1        1            1   \n",
              "4 2020-08-01 18:02:29                   0            1        1            1   \n",
              "\n",
              "   accepted_patch  accepted_commit  verbosity  \n",
              "0               0                0  20.500000  \n",
              "1               0                0  18.333333  \n",
              "2               0                0  14.250000  \n",
              "3               0                0  22.750000  \n",
              "4               0                0  13.750000  "
            ],
            "text/html": [
              "\n",
              "  <div id=\"df-78a586f0-ed32-4f2e-a4e8-93f8930fade4\">\n",
              "    <div class=\"colab-df-container\">\n",
              "      <div>\n",
              "<style scoped>\n",
              "    .dataframe tbody tr th:only-of-type {\n",
              "        vertical-align: middle;\n",
              "    }\n",
              "\n",
              "    .dataframe tbody tr th {\n",
              "        vertical-align: top;\n",
              "    }\n",
              "\n",
              "    .dataframe thead th {\n",
              "        text-align: right;\n",
              "    }\n",
              "</style>\n",
              "<table border=\"1\" class=\"dataframe\">\n",
              "  <thead>\n",
              "    <tr style=\"text-align: right;\">\n",
              "      <th></th>\n",
              "      <th>fkre_score</th>\n",
              "      <th>fkgl_score</th>\n",
              "      <th>message_experience</th>\n",
              "      <th>commit_experience</th>\n",
              "      <th>exert_influence</th>\n",
              "      <th>patch_email</th>\n",
              "      <th>first_patch_thread</th>\n",
              "      <th>sent_time</th>\n",
              "      <th>timestamp_recv</th>\n",
              "      <th>is_quickly_replied</th>\n",
              "      <th>patch_churn</th>\n",
              "      <th>bug_fix</th>\n",
              "      <th>new_feature</th>\n",
              "      <th>accepted_patch</th>\n",
              "      <th>accepted_commit</th>\n",
              "      <th>verbosity</th>\n",
              "    </tr>\n",
              "  </thead>\n",
              "  <tbody>\n",
              "    <tr>\n",
              "      <th>0</th>\n",
              "      <td>74.60</td>\n",
              "      <td>7.95</td>\n",
              "      <td>0</td>\n",
              "      <td>0</td>\n",
              "      <td>0</td>\n",
              "      <td>1</td>\n",
              "      <td>0</td>\n",
              "      <td>2020-08-01 08:49:51</td>\n",
              "      <td>2020-08-01 09:49:51</td>\n",
              "      <td>0</td>\n",
              "      <td>1</td>\n",
              "      <td>1</td>\n",
              "      <td>1</td>\n",
              "      <td>0</td>\n",
              "      <td>0</td>\n",
              "      <td>20.500000</td>\n",
              "    </tr>\n",
              "    <tr>\n",
              "      <th>1</th>\n",
              "      <td>74.40</td>\n",
              "      <td>7.44</td>\n",
              "      <td>0</td>\n",
              "      <td>0</td>\n",
              "      <td>0</td>\n",
              "      <td>1</td>\n",
              "      <td>0</td>\n",
              "      <td>2020-08-01 15:02:31</td>\n",
              "      <td>2020-08-01 16:02:31</td>\n",
              "      <td>0</td>\n",
              "      <td>1</td>\n",
              "      <td>1</td>\n",
              "      <td>1</td>\n",
              "      <td>0</td>\n",
              "      <td>0</td>\n",
              "      <td>18.333333</td>\n",
              "    </tr>\n",
              "    <tr>\n",
              "      <th>2</th>\n",
              "      <td>84.02</td>\n",
              "      <td>5.08</td>\n",
              "      <td>0</td>\n",
              "      <td>0</td>\n",
              "      <td>0</td>\n",
              "      <td>1</td>\n",
              "      <td>0</td>\n",
              "      <td>2020-08-01 13:06:29</td>\n",
              "      <td>2020-08-01 14:06:29</td>\n",
              "      <td>0</td>\n",
              "      <td>1</td>\n",
              "      <td>1</td>\n",
              "      <td>1</td>\n",
              "      <td>0</td>\n",
              "      <td>0</td>\n",
              "      <td>14.250000</td>\n",
              "    </tr>\n",
              "    <tr>\n",
              "      <th>3</th>\n",
              "      <td>83.34</td>\n",
              "      <td>7.29</td>\n",
              "      <td>0</td>\n",
              "      <td>0</td>\n",
              "      <td>0</td>\n",
              "      <td>1</td>\n",
              "      <td>1</td>\n",
              "      <td>2020-08-01 14:49:31</td>\n",
              "      <td>2020-08-01 15:49:31</td>\n",
              "      <td>0</td>\n",
              "      <td>1</td>\n",
              "      <td>1</td>\n",
              "      <td>1</td>\n",
              "      <td>0</td>\n",
              "      <td>0</td>\n",
              "      <td>22.750000</td>\n",
              "    </tr>\n",
              "    <tr>\n",
              "      <th>4</th>\n",
              "      <td>105.20</td>\n",
              "      <td>2.00</td>\n",
              "      <td>0</td>\n",
              "      <td>0</td>\n",
              "      <td>0</td>\n",
              "      <td>1</td>\n",
              "      <td>0</td>\n",
              "      <td>2020-08-01 17:02:29</td>\n",
              "      <td>2020-08-01 18:02:29</td>\n",
              "      <td>0</td>\n",
              "      <td>1</td>\n",
              "      <td>1</td>\n",
              "      <td>1</td>\n",
              "      <td>0</td>\n",
              "      <td>0</td>\n",
              "      <td>13.750000</td>\n",
              "    </tr>\n",
              "  </tbody>\n",
              "</table>\n",
              "</div>\n",
              "      <button class=\"colab-df-convert\" onclick=\"convertToInteractive('df-78a586f0-ed32-4f2e-a4e8-93f8930fade4')\"\n",
              "              title=\"Convert this dataframe to an interactive table.\"\n",
              "              style=\"display:none;\">\n",
              "        \n",
              "  <svg xmlns=\"http://www.w3.org/2000/svg\" height=\"24px\"viewBox=\"0 0 24 24\"\n",
              "       width=\"24px\">\n",
              "    <path d=\"M0 0h24v24H0V0z\" fill=\"none\"/>\n",
              "    <path d=\"M18.56 5.44l.94 2.06.94-2.06 2.06-.94-2.06-.94-.94-2.06-.94 2.06-2.06.94zm-11 1L8.5 8.5l.94-2.06 2.06-.94-2.06-.94L8.5 2.5l-.94 2.06-2.06.94zm10 10l.94 2.06.94-2.06 2.06-.94-2.06-.94-.94-2.06-.94 2.06-2.06.94z\"/><path d=\"M17.41 7.96l-1.37-1.37c-.4-.4-.92-.59-1.43-.59-.52 0-1.04.2-1.43.59L10.3 9.45l-7.72 7.72c-.78.78-.78 2.05 0 2.83L4 21.41c.39.39.9.59 1.41.59.51 0 1.02-.2 1.41-.59l7.78-7.78 2.81-2.81c.8-.78.8-2.07 0-2.86zM5.41 20L4 18.59l7.72-7.72 1.47 1.35L5.41 20z\"/>\n",
              "  </svg>\n",
              "      </button>\n",
              "      \n",
              "  <style>\n",
              "    .colab-df-container {\n",
              "      display:flex;\n",
              "      flex-wrap:wrap;\n",
              "      gap: 12px;\n",
              "    }\n",
              "\n",
              "    .colab-df-convert {\n",
              "      background-color: #E8F0FE;\n",
              "      border: none;\n",
              "      border-radius: 50%;\n",
              "      cursor: pointer;\n",
              "      display: none;\n",
              "      fill: #1967D2;\n",
              "      height: 32px;\n",
              "      padding: 0 0 0 0;\n",
              "      width: 32px;\n",
              "    }\n",
              "\n",
              "    .colab-df-convert:hover {\n",
              "      background-color: #E2EBFA;\n",
              "      box-shadow: 0px 1px 2px rgba(60, 64, 67, 0.3), 0px 1px 3px 1px rgba(60, 64, 67, 0.15);\n",
              "      fill: #174EA6;\n",
              "    }\n",
              "\n",
              "    [theme=dark] .colab-df-convert {\n",
              "      background-color: #3B4455;\n",
              "      fill: #D2E3FC;\n",
              "    }\n",
              "\n",
              "    [theme=dark] .colab-df-convert:hover {\n",
              "      background-color: #434B5C;\n",
              "      box-shadow: 0px 1px 3px 1px rgba(0, 0, 0, 0.15);\n",
              "      filter: drop-shadow(0px 1px 2px rgba(0, 0, 0, 0.3));\n",
              "      fill: #FFFFFF;\n",
              "    }\n",
              "  </style>\n",
              "\n",
              "      <script>\n",
              "        const buttonEl =\n",
              "          document.querySelector('#df-78a586f0-ed32-4f2e-a4e8-93f8930fade4 button.colab-df-convert');\n",
              "        buttonEl.style.display =\n",
              "          google.colab.kernel.accessAllowed ? 'block' : 'none';\n",
              "\n",
              "        async function convertToInteractive(key) {\n",
              "          const element = document.querySelector('#df-78a586f0-ed32-4f2e-a4e8-93f8930fade4');\n",
              "          const dataTable =\n",
              "            await google.colab.kernel.invokeFunction('convertToInteractive',\n",
              "                                                     [key], {});\n",
              "          if (!dataTable) return;\n",
              "\n",
              "          const docLinkHtml = 'Like what you see? Visit the ' +\n",
              "            '<a target=\"_blank\" href=https://colab.research.google.com/notebooks/data_table.ipynb>data table notebook</a>'\n",
              "            + ' to learn more about interactive tables.';\n",
              "          element.innerHTML = '';\n",
              "          dataTable['output_type'] = 'display_data';\n",
              "          await google.colab.output.renderOutput(dataTable, element);\n",
              "          const docLink = document.createElement('div');\n",
              "          docLink.innerHTML = docLinkHtml;\n",
              "          element.appendChild(docLink);\n",
              "        }\n",
              "      </script>\n",
              "    </div>\n",
              "  </div>\n",
              "  "
            ]
          },
          "metadata": {},
          "execution_count": 105
        }
      ]
    },
    {
      "cell_type": "code",
      "source": [],
      "metadata": {
        "id": "2Zb4yexoy_zL"
      },
      "execution_count": null,
      "outputs": []
    }
  ]
}