{
  "nbformat": 4,
  "nbformat_minor": 0,
  "metadata": {
    "colab": {
      "provenance": [],
      "collapsed_sections": [],
      "toc_visible": true,
      "authorship_tag": "ABX9TyPAI53DV9E8Oj3UEdQy94lF",
      "include_colab_link": true
    },
    "kernelspec": {
      "name": "python3",
      "display_name": "Python 3"
    },
    "language_info": {
      "name": "python"
    }
  },
  "cells": [
    {
      "cell_type": "markdown",
      "metadata": {
        "id": "view-in-github",
        "colab_type": "text"
      },
      "source": [
        "<a href=\"https://colab.research.google.com/github/SRI-CSL/signal-public/blob/signal-demonstration/colabs/signal_interest_data.ipynb\" target=\"_parent\"><img src=\"https://colab.research.google.com/assets/colab-badge.svg\" alt=\"Open In Colab\"/></a>"
      ]
    },
    {
      "cell_type": "markdown",
      "source": [
        "# **SIGNAL**ing Interest Data\n",
        "\n",
        "**Description:** Generating `interest` dataframe via SIGNAL API.\n",
        "\n",
        "**Copyright 2022 SRI International.**\n",
        "\n",
        "This project is under the GPL3 License. See the [LICENSE](https://www.gnu.org/licenses/gpl-3.0.en.html) file for the full license text."
      ],
      "metadata": {
        "id": "--4z2fpmSRbl"
      }
    },
    {
      "cell_type": "markdown",
      "source": [
        "## &#9776; Preamble"
      ],
      "metadata": {
        "id": "aDuf5ihcSadD"
      }
    },
    {
      "cell_type": "markdown",
      "source": [
        "Install the `SIGNAL API` client"
      ],
      "metadata": {
        "id": "CrBwUmDsTsSb"
      }
    },
    {
      "cell_type": "code",
      "source": [
        "!curl https://signal.cta.sri.com/client > client.tgz\n",
        "!tar xzf client.tgz\n",
        "!pip install -r signal_api_client/requirements.txt\n",
        "!pip install -e signal_api_client\n",
        "!pip install ipympl\n",
        "%cd /content/signal_api_client   "
      ],
      "metadata": {
        "id": "kXaiQzHaRCV4"
      },
      "execution_count": null,
      "outputs": []
    },
    {
      "cell_type": "markdown",
      "source": [
        "Download the `funcs` utilities repository."
      ],
      "metadata": {
        "id": "8UaF_4QnT1l7"
      }
    },
    {
      "cell_type": "code",
      "source": [
        "!git clone https://github.com/hsanchez/funcs.git &> /dev/null"
      ],
      "metadata": {
        "id": "fveFG9JuTppn"
      },
      "execution_count": 11,
      "outputs": []
    },
    {
      "cell_type": "markdown",
      "source": [
        "## &#9776; Dependencies"
      ],
      "metadata": {
        "id": "sIMm3y5HSjln"
      }
    },
    {
      "cell_type": "code",
      "execution_count": 12,
      "metadata": {
        "id": "3bJ7eePCQ4J2"
      },
      "outputs": [],
      "source": [
        "import os\n",
        "import sys\n",
        "import time\n",
        "import warnings\n",
        "\n",
        "import json\n",
        "import pickle\n",
        "import pathlib\n",
        "import zipfile\n",
        "import re\n",
        "\n",
        "import numpy as np\n",
        "import pandas as pd\n",
        "import matplotlib.pyplot as plt\n",
        "\n",
        "from typing import List, Any, Dict, Tuple\n",
        "from datetime import date, datetime"
      ]
    },
    {
      "cell_type": "code",
      "source": [
        "import funcs as utils"
      ],
      "metadata": {
        "id": "4buhY0e0ULHh"
      },
      "execution_count": 13,
      "outputs": []
    },
    {
      "cell_type": "code",
      "source": [
        "try:\n",
        "    from google.colab import data_table, output\n",
        "    data_table.disable_dataframe_formatter()\n",
        "    output.enable_custom_widget_manager()\n",
        "except Exception:\n",
        "    print(\"Launched notebook locally\")"
      ],
      "metadata": {
        "id": "CJ8nC5P6UQd9"
      },
      "execution_count": 14,
      "outputs": []
    },
    {
      "cell_type": "code",
      "source": [
        "from signal_api import signal"
      ],
      "metadata": {
        "id": "-Zabla_JWC11"
      },
      "execution_count": 15,
      "outputs": []
    },
    {
      "cell_type": "markdown",
      "source": [
        "## &#9997; Configuration"
      ],
      "metadata": {
        "id": "swVZEtyxUvJT"
      }
    },
    {
      "cell_type": "code",
      "source": [
        "warnings.filterwarnings(\"ignore\")"
      ],
      "metadata": {
        "id": "3PYox-GMUsNd"
      },
      "execution_count": 16,
      "outputs": []
    },
    {
      "cell_type": "code",
      "source": [
        "%matplotlib inline\n",
        "%config InlineBackend.figure_format='retina'"
      ],
      "metadata": {
        "id": "mI21zr5RV0Kd"
      },
      "execution_count": 17,
      "outputs": []
    },
    {
      "cell_type": "markdown",
      "source": [
        "## &#9881; Functions"
      ],
      "metadata": {
        "id": "N39WXYGdyiO0"
      }
    },
    {
      "cell_type": "code",
      "source": [
        "# B.H. note: Add functions that are not already in funcs here..."
      ],
      "metadata": {
        "id": "_JNq4b1mylNV"
      },
      "execution_count": 18,
      "outputs": []
    },
    {
      "cell_type": "code",
      "source": [
        "def get_record_count(table_name: str) -> int:\n",
        "    query = f\"SELECT COUNT(*) FROM {table_name};\"\n",
        "    df_result = signal.query_dataframe(query)\n",
        "    result = df_result['count'].iloc[0]\n",
        "    return result"
      ],
      "metadata": {
        "id": "mxjoxnXG9jdp"
      },
      "execution_count": 38,
      "outputs": []
    },
    {
      "cell_type": "markdown",
      "source": [
        "### &#9759; Bot Analysis Functions"
      ],
      "metadata": {
        "id": "vCmVt3B4SnzX"
      }
    },
    {
      "cell_type": "code",
      "source": [
        "REGEX_GREG_ADDED = re.compile('patch \\\".*\\\" added to .*')\n",
        "\n",
        "BOTS = {'tip-bot2@linutronix.de', 'tipbot@zytor.com', 'tip-bot2@tip-bot2',\n",
        "        'lkp@ff58d72860ac', 'lkp@shao2-debian', 'lkp@xsang-OptiPlex-9020',\n",
        "        'rong.a.chen@shao2-debian', 'lkp@b50bd4e4e446', 'rong.a.chen@shao2-debian',\n",
        "        'noreply@ciplatform.org', 'patchwork@emeril.freedesktop.org',\n",
        "        'pr-tracker-bot@kernel.org'}\n",
        "        \n",
        "POTENTIAL_BOTS = {'broonie@kernel.org', 'lkp@intel.com',\n",
        "                  'boqun.feng@debian-boqun.qqnc3lrjykvubdpftowmye0fmh.lx.internal.cloudapp.net'}"
      ],
      "metadata": {
        "id": "NuSk1NtqSokP"
      },
      "execution_count": null,
      "outputs": []
    },
    {
      "cell_type": "code",
      "source": [
        "def is_bot(patch: dict) -> bool:\n",
        "    email_address = patch['email']\n",
        "    if email_address in BOTS:\n",
        "        return True\n",
        "    \n",
        "    subject_line = patch.get('subject', '')\n",
        "    if email_address in POTENTIAL_BOTS:\n",
        "        # Mark Brown's bot and lkp\n",
        "        if subject_line.startswith('applied'):\n",
        "            return True\n",
        "    sender_name = patch.get('senderName', None)\n",
        "    sender_name = patch.get('name', '') if sender_name is None else sender_name\n",
        "    if 'tip-bot2' in sender_name or 'syzbot' in sender_name:\n",
        "        return True\n",
        "    if 'tip-bot' in sender_name:\n",
        "        return True\n",
        "    if sender_name in POTENTIAL_BOTS:\n",
        "        return True\n",
        "    if 'kernel test robot' in sender_name:\n",
        "        return True\n",
        "    \n",
        "    if REGEX_GREG_ADDED.match(subject_line):\n",
        "        return True\n",
        "    \n",
        "    # AKPM's bot. AKPM uses s-nail for automated mails, and sylpheed for all\n",
        "    # other mails. That's how we can easily separate automated mails from\n",
        "    # real mails. Further, akpm acts as bot if the subject contains [merged]\n",
        "    if email_address == 'akpm@linux-foundation.org':\n",
        "        if '[merged]' in subject_line:\n",
        "            return True\n",
        "\n",
        "    # syzbot - email format: syzbot-hash@syzkaller.appspotmail.com\n",
        "    if 'syzbot' in email_address and 'syzkaller.appspotmail.com' in email_address:\n",
        "        return True\n",
        "    \n",
        "    # Github Bot\n",
        "    if 'noreply@github.com' in email_address:\n",
        "        return True\n",
        "    \n",
        "    # Buildroot's daily results bot\n",
        "    if '[autobuild.buildroot.net] daily results' in subject_line or \\\n",
        "        'oe-core cve metrics' in subject_line:\n",
        "            return True\n",
        "    \n",
        "    return False"
      ],
      "metadata": {
        "id": "cLZfbIA0SpSh"
      },
      "execution_count": null,
      "outputs": []
    },
    {
      "cell_type": "markdown",
      "source": [
        "## &#128272; Login"
      ],
      "metadata": {
        "id": "VgWxF-0CVEoJ"
      }
    },
    {
      "cell_type": "code",
      "source": [
        "signal.login()"
      ],
      "metadata": {
        "colab": {
          "base_uri": "https://localhost:8080/"
        },
        "id": "T3Yxx02UVHK3",
        "outputId": "9b89bc03-1bb9-425c-c7c0-97359dfd3125"
      },
      "execution_count": 19,
      "outputs": [
        {
          "name": "stdout",
          "output_type": "stream",
          "text": [
            "username?: ··········\n",
            "password?: ··········\n"
          ]
        },
        {
          "output_type": "execute_result",
          "data": {
            "text/plain": [
              "True"
            ]
          },
          "metadata": {},
          "execution_count": 19
        }
      ]
    },
    {
      "cell_type": "markdown",
      "source": [
        "## &#128722; Data"
      ],
      "metadata": {
        "id": "WJcBUDqgyu2V"
      }
    },
    {
      "cell_type": "markdown",
      "source": [
        "### &#9759; Tables"
      ],
      "metadata": {
        "id": "rDlRXb7G0l0w"
      }
    },
    {
      "cell_type": "code",
      "source": [
        "TABLES_QUERY = \"SELECT * FROM information_schema.tables WHERE table_type='BASE TABLE';\""
      ],
      "metadata": {
        "id": "Iu5Eb1dQ0q0r"
      },
      "execution_count": 20,
      "outputs": []
    },
    {
      "cell_type": "code",
      "source": [
        "df_tables = signal.query_dataframe(TABLES_QUERY)"
      ],
      "metadata": {
        "id": "MA-wn1lk0yYD"
      },
      "execution_count": 21,
      "outputs": []
    },
    {
      "cell_type": "code",
      "source": [
        "table_names = df_tables.table_name.unique()"
      ],
      "metadata": {
        "id": "simEHVpW1vAH"
      },
      "execution_count": 22,
      "outputs": []
    },
    {
      "cell_type": "code",
      "source": [
        "print(f\"There are {len(table_names)} tables currently present in the SIGNAL database.\")"
      ],
      "metadata": {
        "colab": {
          "base_uri": "https://localhost:8080/"
        },
        "id": "eFLHvQGS1u7o",
        "outputId": "304f05af-5e9e-478c-d9ea-475b12282c8e"
      },
      "execution_count": 23,
      "outputs": [
        {
          "output_type": "stream",
          "name": "stdout",
          "text": [
            "There are 84 tables currently present in the SIGNAL database.\n"
          ]
        }
      ]
    },
    {
      "cell_type": "code",
      "source": [
        "df_tables.head()"
      ],
      "metadata": {
        "colab": {
          "base_uri": "https://localhost:8080/",
          "height": 206
        },
        "id": "bJ3ny5e21u4f",
        "outputId": "27a5edff-678c-4ed8-bb63-61ac1a4caa79"
      },
      "execution_count": 24,
      "outputs": [
        {
          "output_type": "execute_result",
          "data": {
            "text/plain": [
              "  table_catalog table_schema            table_name  table_type  \\\n",
              "0        signal       public      scraped_projects  BASE TABLE   \n",
              "1        signal       public       scraped_patches  BASE TABLE   \n",
              "2        signal       public  scraped_patch_series  BASE TABLE   \n",
              "3        signal       public                  diff  BASE TABLE   \n",
              "4        signal       public                thread  BASE TABLE   \n",
              "\n",
              "  self_referencing_column_name reference_generation user_defined_type_catalog  \\\n",
              "0                         None                 None                      None   \n",
              "1                         None                 None                      None   \n",
              "2                         None                 None                      None   \n",
              "3                         None                 None                      None   \n",
              "4                         None                 None                      None   \n",
              "\n",
              "  user_defined_type_schema user_defined_type_name is_insertable_into is_typed  \\\n",
              "0                     None                   None                YES       NO   \n",
              "1                     None                   None                YES       NO   \n",
              "2                     None                   None                YES       NO   \n",
              "3                     None                   None                YES       NO   \n",
              "4                     None                   None                YES       NO   \n",
              "\n",
              "  commit_action  \n",
              "0          None  \n",
              "1          None  \n",
              "2          None  \n",
              "3          None  \n",
              "4          None  "
            ],
            "text/html": [
              "\n",
              "  <div id=\"df-fadba0cd-ea98-4200-b926-87e9407d8cc1\">\n",
              "    <div class=\"colab-df-container\">\n",
              "      <div>\n",
              "<style scoped>\n",
              "    .dataframe tbody tr th:only-of-type {\n",
              "        vertical-align: middle;\n",
              "    }\n",
              "\n",
              "    .dataframe tbody tr th {\n",
              "        vertical-align: top;\n",
              "    }\n",
              "\n",
              "    .dataframe thead th {\n",
              "        text-align: right;\n",
              "    }\n",
              "</style>\n",
              "<table border=\"1\" class=\"dataframe\">\n",
              "  <thead>\n",
              "    <tr style=\"text-align: right;\">\n",
              "      <th></th>\n",
              "      <th>table_catalog</th>\n",
              "      <th>table_schema</th>\n",
              "      <th>table_name</th>\n",
              "      <th>table_type</th>\n",
              "      <th>self_referencing_column_name</th>\n",
              "      <th>reference_generation</th>\n",
              "      <th>user_defined_type_catalog</th>\n",
              "      <th>user_defined_type_schema</th>\n",
              "      <th>user_defined_type_name</th>\n",
              "      <th>is_insertable_into</th>\n",
              "      <th>is_typed</th>\n",
              "      <th>commit_action</th>\n",
              "    </tr>\n",
              "  </thead>\n",
              "  <tbody>\n",
              "    <tr>\n",
              "      <th>0</th>\n",
              "      <td>signal</td>\n",
              "      <td>public</td>\n",
              "      <td>scraped_projects</td>\n",
              "      <td>BASE TABLE</td>\n",
              "      <td>None</td>\n",
              "      <td>None</td>\n",
              "      <td>None</td>\n",
              "      <td>None</td>\n",
              "      <td>None</td>\n",
              "      <td>YES</td>\n",
              "      <td>NO</td>\n",
              "      <td>None</td>\n",
              "    </tr>\n",
              "    <tr>\n",
              "      <th>1</th>\n",
              "      <td>signal</td>\n",
              "      <td>public</td>\n",
              "      <td>scraped_patches</td>\n",
              "      <td>BASE TABLE</td>\n",
              "      <td>None</td>\n",
              "      <td>None</td>\n",
              "      <td>None</td>\n",
              "      <td>None</td>\n",
              "      <td>None</td>\n",
              "      <td>YES</td>\n",
              "      <td>NO</td>\n",
              "      <td>None</td>\n",
              "    </tr>\n",
              "    <tr>\n",
              "      <th>2</th>\n",
              "      <td>signal</td>\n",
              "      <td>public</td>\n",
              "      <td>scraped_patch_series</td>\n",
              "      <td>BASE TABLE</td>\n",
              "      <td>None</td>\n",
              "      <td>None</td>\n",
              "      <td>None</td>\n",
              "      <td>None</td>\n",
              "      <td>None</td>\n",
              "      <td>YES</td>\n",
              "      <td>NO</td>\n",
              "      <td>None</td>\n",
              "    </tr>\n",
              "    <tr>\n",
              "      <th>3</th>\n",
              "      <td>signal</td>\n",
              "      <td>public</td>\n",
              "      <td>diff</td>\n",
              "      <td>BASE TABLE</td>\n",
              "      <td>None</td>\n",
              "      <td>None</td>\n",
              "      <td>None</td>\n",
              "      <td>None</td>\n",
              "      <td>None</td>\n",
              "      <td>YES</td>\n",
              "      <td>NO</td>\n",
              "      <td>None</td>\n",
              "    </tr>\n",
              "    <tr>\n",
              "      <th>4</th>\n",
              "      <td>signal</td>\n",
              "      <td>public</td>\n",
              "      <td>thread</td>\n",
              "      <td>BASE TABLE</td>\n",
              "      <td>None</td>\n",
              "      <td>None</td>\n",
              "      <td>None</td>\n",
              "      <td>None</td>\n",
              "      <td>None</td>\n",
              "      <td>YES</td>\n",
              "      <td>NO</td>\n",
              "      <td>None</td>\n",
              "    </tr>\n",
              "  </tbody>\n",
              "</table>\n",
              "</div>\n",
              "      <button class=\"colab-df-convert\" onclick=\"convertToInteractive('df-fadba0cd-ea98-4200-b926-87e9407d8cc1')\"\n",
              "              title=\"Convert this dataframe to an interactive table.\"\n",
              "              style=\"display:none;\">\n",
              "        \n",
              "  <svg xmlns=\"http://www.w3.org/2000/svg\" height=\"24px\"viewBox=\"0 0 24 24\"\n",
              "       width=\"24px\">\n",
              "    <path d=\"M0 0h24v24H0V0z\" fill=\"none\"/>\n",
              "    <path d=\"M18.56 5.44l.94 2.06.94-2.06 2.06-.94-2.06-.94-.94-2.06-.94 2.06-2.06.94zm-11 1L8.5 8.5l.94-2.06 2.06-.94-2.06-.94L8.5 2.5l-.94 2.06-2.06.94zm10 10l.94 2.06.94-2.06 2.06-.94-2.06-.94-.94-2.06-.94 2.06-2.06.94z\"/><path d=\"M17.41 7.96l-1.37-1.37c-.4-.4-.92-.59-1.43-.59-.52 0-1.04.2-1.43.59L10.3 9.45l-7.72 7.72c-.78.78-.78 2.05 0 2.83L4 21.41c.39.39.9.59 1.41.59.51 0 1.02-.2 1.41-.59l7.78-7.78 2.81-2.81c.8-.78.8-2.07 0-2.86zM5.41 20L4 18.59l7.72-7.72 1.47 1.35L5.41 20z\"/>\n",
              "  </svg>\n",
              "      </button>\n",
              "      \n",
              "  <style>\n",
              "    .colab-df-container {\n",
              "      display:flex;\n",
              "      flex-wrap:wrap;\n",
              "      gap: 12px;\n",
              "    }\n",
              "\n",
              "    .colab-df-convert {\n",
              "      background-color: #E8F0FE;\n",
              "      border: none;\n",
              "      border-radius: 50%;\n",
              "      cursor: pointer;\n",
              "      display: none;\n",
              "      fill: #1967D2;\n",
              "      height: 32px;\n",
              "      padding: 0 0 0 0;\n",
              "      width: 32px;\n",
              "    }\n",
              "\n",
              "    .colab-df-convert:hover {\n",
              "      background-color: #E2EBFA;\n",
              "      box-shadow: 0px 1px 2px rgba(60, 64, 67, 0.3), 0px 1px 3px 1px rgba(60, 64, 67, 0.15);\n",
              "      fill: #174EA6;\n",
              "    }\n",
              "\n",
              "    [theme=dark] .colab-df-convert {\n",
              "      background-color: #3B4455;\n",
              "      fill: #D2E3FC;\n",
              "    }\n",
              "\n",
              "    [theme=dark] .colab-df-convert:hover {\n",
              "      background-color: #434B5C;\n",
              "      box-shadow: 0px 1px 3px 1px rgba(0, 0, 0, 0.15);\n",
              "      filter: drop-shadow(0px 1px 2px rgba(0, 0, 0, 0.3));\n",
              "      fill: #FFFFFF;\n",
              "    }\n",
              "  </style>\n",
              "\n",
              "      <script>\n",
              "        const buttonEl =\n",
              "          document.querySelector('#df-fadba0cd-ea98-4200-b926-87e9407d8cc1 button.colab-df-convert');\n",
              "        buttonEl.style.display =\n",
              "          google.colab.kernel.accessAllowed ? 'block' : 'none';\n",
              "\n",
              "        async function convertToInteractive(key) {\n",
              "          const element = document.querySelector('#df-fadba0cd-ea98-4200-b926-87e9407d8cc1');\n",
              "          const dataTable =\n",
              "            await google.colab.kernel.invokeFunction('convertToInteractive',\n",
              "                                                     [key], {});\n",
              "          if (!dataTable) return;\n",
              "\n",
              "          const docLinkHtml = 'Like what you see? Visit the ' +\n",
              "            '<a target=\"_blank\" href=https://colab.research.google.com/notebooks/data_table.ipynb>data table notebook</a>'\n",
              "            + ' to learn more about interactive tables.';\n",
              "          element.innerHTML = '';\n",
              "          dataTable['output_type'] = 'display_data';\n",
              "          await google.colab.output.renderOutput(dataTable, element);\n",
              "          const docLink = document.createElement('div');\n",
              "          docLink.innerHTML = docLinkHtml;\n",
              "          element.appendChild(docLink);\n",
              "        }\n",
              "      </script>\n",
              "    </div>\n",
              "  </div>\n",
              "  "
            ]
          },
          "metadata": {},
          "execution_count": 24
        }
      ]
    },
    {
      "cell_type": "markdown",
      "source": [
        "### &#9759; Email Data"
      ],
      "metadata": {
        "id": "gjrd9zuB0Spe"
      }
    },
    {
      "cell_type": "code",
      "source": [
        "START_DATE = datetime(2020, 8, 1)\n",
        "END_DATE = datetime(2020, 8, 2)"
      ],
      "metadata": {
        "id": "7CjU1mWI0Ysa"
      },
      "execution_count": 25,
      "outputs": []
    },
    {
      "cell_type": "code",
      "source": [
        "df_email = signal.query_dataframe(f\"SELECT * FROM email WHERE timestamp_sent > {START_DATE.timestamp()} and timestamp_sent < {END_DATE.timestamp()};\")"
      ],
      "metadata": {
        "id": "RWMyJ1JFWQ5B"
      },
      "execution_count": 26,
      "outputs": []
    },
    {
      "cell_type": "code",
      "source": [
        "df_email.info()"
      ],
      "metadata": {
        "colab": {
          "base_uri": "https://localhost:8080/"
        },
        "id": "cPN1ckzUWamU",
        "outputId": "f8ede949-0c33-48ce-d324-facd568b51c0"
      },
      "execution_count": 27,
      "outputs": [
        {
          "output_type": "stream",
          "name": "stdout",
          "text": [
            "<class 'pandas.core.frame.DataFrame'>\n",
            "RangeIndex: 276 entries, 0 to 275\n",
            "Data columns (total 15 columns):\n",
            " #   Column               Non-Null Count  Dtype \n",
            "---  ------               --------------  ----- \n",
            " 0   id                   276 non-null    int64 \n",
            " 1   url                  276 non-null    object\n",
            " 2   mailing_list_id      276 non-null    int64 \n",
            " 3   email_id             276 non-null    object\n",
            " 4   message_id           276 non-null    object\n",
            " 5   reply_to_url         112 non-null    object\n",
            " 6   author_id            276 non-null    int64 \n",
            " 7   timestamp_sent       276 non-null    int64 \n",
            " 8   timestamp_recv       276 non-null    int64 \n",
            " 9   subject              276 non-null    object\n",
            " 10  body                 276 non-null    object\n",
            " 11  clean_body           276 non-null    object\n",
            " 12  thread_id            276 non-null    object\n",
            " 13  persuasion           276 non-null    object\n",
            " 14  reply_to_message_id  276 non-null    object\n",
            "dtypes: int64(5), object(10)\n",
            "memory usage: 32.5+ KB\n"
          ]
        }
      ]
    },
    {
      "cell_type": "code",
      "source": [
        "df_email.head()"
      ],
      "metadata": {
        "colab": {
          "base_uri": "https://localhost:8080/",
          "height": 600
        },
        "id": "nL6s1P7nWb99",
        "outputId": "c6f48c6f-d189-4fa6-f2b9-232e53b17e1f"
      },
      "execution_count": 28,
      "outputs": [
        {
          "output_type": "execute_result",
          "data": {
            "text/plain": [
              "   id                                                url  mailing_list_id  \\\n",
              "0  59  https://lkml.iu.edu/hypermail/linux/kernel/200...                1   \n",
              "1  34  https://lkml.iu.edu/hypermail/linux/kernel/200...                1   \n",
              "2  35  https://lkml.iu.edu/hypermail/linux/kernel/200...                1   \n",
              "3  39  https://lkml.iu.edu/hypermail/linux/kernel/200...                1   \n",
              "4  40  https://lkml.iu.edu/hypermail/linux/kernel/200...                1   \n",
              "\n",
              "          email_id                               message_id  \\\n",
              "0   20200801175938  20200801215806.2659-1-cengiz@kernel.wtf   \n",
              "1   20200801021814           202007312237.4F385EB3@keescook   \n",
              "2   20200801021841      202008011403.PtFkHpqE%lkp@intel.com   \n",
              "3  202008010218140      202008011419.67BkWnAl%lkp@intel.com   \n",
              "4   20200801053958             s5h7dui902e.wl-tiwai@suse.de   \n",
              "\n",
              "                                        reply_to_url  author_id  \\\n",
              "0                                               None         35   \n",
              "1                                               None         23   \n",
              "2  https://lkml.iu.edu/hypermail/linux/kernel/200...         24   \n",
              "3                                               None         24   \n",
              "4  https://lkml.iu.edu/hypermail/linux/kernel/200...          3   \n",
              "\n",
              "   timestamp_sent  timestamp_recv  \\\n",
              "0      1596319178      1596322778   \n",
              "1      1596262694      1596266294   \n",
              "2      1596262721      1596266321   \n",
              "3      1596262694      1596266294   \n",
              "4      1596274798      1596278398   \n",
              "\n",
              "                                             subject  \\\n",
              "0  [PATCH v5] staging: atomisp: move null check t...   \n",
              "1  Re: [PATCH v5 13/36] vmlinux.lds.h: add PGO an...   \n",
              "2  Re: [PATCH v3 21/23] device-dax: Add an 'align...   \n",
              "3  Re: [PATCH v3 21/23] device-dax: Add an 'align...   \n",
              "4  Re: [PATCH] ALSA: seq: KASAN: use-after-free R...   \n",
              "\n",
              "                                                body  \\\n",
              "0  `find_gmin_subdev()` that returns a pointer to...   \n",
              "1  On Fri, Jul 31, 2020 at 11:51:28PM -0400, Arvi...   \n",
              "2  Hi Dan,\\n\\nThank you for the patch! Yet someth...   \n",
              "3  Hi Dan,\\n\\nThank you for the patch! Yet someth...   \n",
              "4  On Sat, 01 Aug 2020 08:24:03 +0200,\\n<qiang.zh...   \n",
              "\n",
              "                                          clean_body  \\\n",
              "0  `find_gmin_subdev()` that returns a pointer to...   \n",
              "1  On Fri, Jul 31, 2020 at 11:51:28PM -0400, Arvi...   \n",
              "2  Hi Dan,\\n\\nThank you for the patch! Yet someth...   \n",
              "3  Hi Dan,\\n\\nThank you for the patch! Yet someth...   \n",
              "4  On Sat, 01 Aug 2020 08:24:03 +0200,\\n<qiang.zh...   \n",
              "\n",
              "                                           thread_id persuasion  \\\n",
              "0        20200731083856.GF3703480@smile.fi.intel.com    Unknown   \n",
              "1     20200731230820.1742553-1-keescook@chromium.org    Unknown   \n",
              "2  159625241660.3040297.3801913809845542130.stgit...    Unknown   \n",
              "3  159625241660.3040297.3801913809845542130.stgit...    Unknown   \n",
              "4    20200801062403.8005-1-qiang.zhang@windriver.com    Unknown   \n",
              "\n",
              "                                 reply_to_message_id  \n",
              "0        20200731083856.GF3703480@smile.fi.intel.com  \n",
              "1        20200801035128.GB2800311@rani.riverdale.lan  \n",
              "2  159625241660.3040297.3801913809845542130.stgit...  \n",
              "3  159625241660.3040297.3801913809845542130.stgit...  \n",
              "4    20200801062403.8005-1-qiang.zhang@windriver.com  "
            ],
            "text/html": [
              "\n",
              "  <div id=\"df-8f6a2a35-64a3-4c3d-8694-40c73e587af7\">\n",
              "    <div class=\"colab-df-container\">\n",
              "      <div>\n",
              "<style scoped>\n",
              "    .dataframe tbody tr th:only-of-type {\n",
              "        vertical-align: middle;\n",
              "    }\n",
              "\n",
              "    .dataframe tbody tr th {\n",
              "        vertical-align: top;\n",
              "    }\n",
              "\n",
              "    .dataframe thead th {\n",
              "        text-align: right;\n",
              "    }\n",
              "</style>\n",
              "<table border=\"1\" class=\"dataframe\">\n",
              "  <thead>\n",
              "    <tr style=\"text-align: right;\">\n",
              "      <th></th>\n",
              "      <th>id</th>\n",
              "      <th>url</th>\n",
              "      <th>mailing_list_id</th>\n",
              "      <th>email_id</th>\n",
              "      <th>message_id</th>\n",
              "      <th>reply_to_url</th>\n",
              "      <th>author_id</th>\n",
              "      <th>timestamp_sent</th>\n",
              "      <th>timestamp_recv</th>\n",
              "      <th>subject</th>\n",
              "      <th>body</th>\n",
              "      <th>clean_body</th>\n",
              "      <th>thread_id</th>\n",
              "      <th>persuasion</th>\n",
              "      <th>reply_to_message_id</th>\n",
              "    </tr>\n",
              "  </thead>\n",
              "  <tbody>\n",
              "    <tr>\n",
              "      <th>0</th>\n",
              "      <td>59</td>\n",
              "      <td>https://lkml.iu.edu/hypermail/linux/kernel/200...</td>\n",
              "      <td>1</td>\n",
              "      <td>20200801175938</td>\n",
              "      <td>20200801215806.2659-1-cengiz@kernel.wtf</td>\n",
              "      <td>None</td>\n",
              "      <td>35</td>\n",
              "      <td>1596319178</td>\n",
              "      <td>1596322778</td>\n",
              "      <td>[PATCH v5] staging: atomisp: move null check t...</td>\n",
              "      <td>`find_gmin_subdev()` that returns a pointer to...</td>\n",
              "      <td>`find_gmin_subdev()` that returns a pointer to...</td>\n",
              "      <td>20200731083856.GF3703480@smile.fi.intel.com</td>\n",
              "      <td>Unknown</td>\n",
              "      <td>20200731083856.GF3703480@smile.fi.intel.com</td>\n",
              "    </tr>\n",
              "    <tr>\n",
              "      <th>1</th>\n",
              "      <td>34</td>\n",
              "      <td>https://lkml.iu.edu/hypermail/linux/kernel/200...</td>\n",
              "      <td>1</td>\n",
              "      <td>20200801021814</td>\n",
              "      <td>202007312237.4F385EB3@keescook</td>\n",
              "      <td>None</td>\n",
              "      <td>23</td>\n",
              "      <td>1596262694</td>\n",
              "      <td>1596266294</td>\n",
              "      <td>Re: [PATCH v5 13/36] vmlinux.lds.h: add PGO an...</td>\n",
              "      <td>On Fri, Jul 31, 2020 at 11:51:28PM -0400, Arvi...</td>\n",
              "      <td>On Fri, Jul 31, 2020 at 11:51:28PM -0400, Arvi...</td>\n",
              "      <td>20200731230820.1742553-1-keescook@chromium.org</td>\n",
              "      <td>Unknown</td>\n",
              "      <td>20200801035128.GB2800311@rani.riverdale.lan</td>\n",
              "    </tr>\n",
              "    <tr>\n",
              "      <th>2</th>\n",
              "      <td>35</td>\n",
              "      <td>https://lkml.iu.edu/hypermail/linux/kernel/200...</td>\n",
              "      <td>1</td>\n",
              "      <td>20200801021841</td>\n",
              "      <td>202008011403.PtFkHpqE%lkp@intel.com</td>\n",
              "      <td>https://lkml.iu.edu/hypermail/linux/kernel/200...</td>\n",
              "      <td>24</td>\n",
              "      <td>1596262721</td>\n",
              "      <td>1596266321</td>\n",
              "      <td>Re: [PATCH v3 21/23] device-dax: Add an 'align...</td>\n",
              "      <td>Hi Dan,\\n\\nThank you for the patch! Yet someth...</td>\n",
              "      <td>Hi Dan,\\n\\nThank you for the patch! Yet someth...</td>\n",
              "      <td>159625241660.3040297.3801913809845542130.stgit...</td>\n",
              "      <td>Unknown</td>\n",
              "      <td>159625241660.3040297.3801913809845542130.stgit...</td>\n",
              "    </tr>\n",
              "    <tr>\n",
              "      <th>3</th>\n",
              "      <td>39</td>\n",
              "      <td>https://lkml.iu.edu/hypermail/linux/kernel/200...</td>\n",
              "      <td>1</td>\n",
              "      <td>202008010218140</td>\n",
              "      <td>202008011419.67BkWnAl%lkp@intel.com</td>\n",
              "      <td>None</td>\n",
              "      <td>24</td>\n",
              "      <td>1596262694</td>\n",
              "      <td>1596266294</td>\n",
              "      <td>Re: [PATCH v3 21/23] device-dax: Add an 'align...</td>\n",
              "      <td>Hi Dan,\\n\\nThank you for the patch! Yet someth...</td>\n",
              "      <td>Hi Dan,\\n\\nThank you for the patch! Yet someth...</td>\n",
              "      <td>159625241660.3040297.3801913809845542130.stgit...</td>\n",
              "      <td>Unknown</td>\n",
              "      <td>159625241660.3040297.3801913809845542130.stgit...</td>\n",
              "    </tr>\n",
              "    <tr>\n",
              "      <th>4</th>\n",
              "      <td>40</td>\n",
              "      <td>https://lkml.iu.edu/hypermail/linux/kernel/200...</td>\n",
              "      <td>1</td>\n",
              "      <td>20200801053958</td>\n",
              "      <td>s5h7dui902e.wl-tiwai@suse.de</td>\n",
              "      <td>https://lkml.iu.edu/hypermail/linux/kernel/200...</td>\n",
              "      <td>3</td>\n",
              "      <td>1596274798</td>\n",
              "      <td>1596278398</td>\n",
              "      <td>Re: [PATCH] ALSA: seq: KASAN: use-after-free R...</td>\n",
              "      <td>On Sat, 01 Aug 2020 08:24:03 +0200,\\n&lt;qiang.zh...</td>\n",
              "      <td>On Sat, 01 Aug 2020 08:24:03 +0200,\\n&lt;qiang.zh...</td>\n",
              "      <td>20200801062403.8005-1-qiang.zhang@windriver.com</td>\n",
              "      <td>Unknown</td>\n",
              "      <td>20200801062403.8005-1-qiang.zhang@windriver.com</td>\n",
              "    </tr>\n",
              "  </tbody>\n",
              "</table>\n",
              "</div>\n",
              "      <button class=\"colab-df-convert\" onclick=\"convertToInteractive('df-8f6a2a35-64a3-4c3d-8694-40c73e587af7')\"\n",
              "              title=\"Convert this dataframe to an interactive table.\"\n",
              "              style=\"display:none;\">\n",
              "        \n",
              "  <svg xmlns=\"http://www.w3.org/2000/svg\" height=\"24px\"viewBox=\"0 0 24 24\"\n",
              "       width=\"24px\">\n",
              "    <path d=\"M0 0h24v24H0V0z\" fill=\"none\"/>\n",
              "    <path d=\"M18.56 5.44l.94 2.06.94-2.06 2.06-.94-2.06-.94-.94-2.06-.94 2.06-2.06.94zm-11 1L8.5 8.5l.94-2.06 2.06-.94-2.06-.94L8.5 2.5l-.94 2.06-2.06.94zm10 10l.94 2.06.94-2.06 2.06-.94-2.06-.94-.94-2.06-.94 2.06-2.06.94z\"/><path d=\"M17.41 7.96l-1.37-1.37c-.4-.4-.92-.59-1.43-.59-.52 0-1.04.2-1.43.59L10.3 9.45l-7.72 7.72c-.78.78-.78 2.05 0 2.83L4 21.41c.39.39.9.59 1.41.59.51 0 1.02-.2 1.41-.59l7.78-7.78 2.81-2.81c.8-.78.8-2.07 0-2.86zM5.41 20L4 18.59l7.72-7.72 1.47 1.35L5.41 20z\"/>\n",
              "  </svg>\n",
              "      </button>\n",
              "      \n",
              "  <style>\n",
              "    .colab-df-container {\n",
              "      display:flex;\n",
              "      flex-wrap:wrap;\n",
              "      gap: 12px;\n",
              "    }\n",
              "\n",
              "    .colab-df-convert {\n",
              "      background-color: #E8F0FE;\n",
              "      border: none;\n",
              "      border-radius: 50%;\n",
              "      cursor: pointer;\n",
              "      display: none;\n",
              "      fill: #1967D2;\n",
              "      height: 32px;\n",
              "      padding: 0 0 0 0;\n",
              "      width: 32px;\n",
              "    }\n",
              "\n",
              "    .colab-df-convert:hover {\n",
              "      background-color: #E2EBFA;\n",
              "      box-shadow: 0px 1px 2px rgba(60, 64, 67, 0.3), 0px 1px 3px 1px rgba(60, 64, 67, 0.15);\n",
              "      fill: #174EA6;\n",
              "    }\n",
              "\n",
              "    [theme=dark] .colab-df-convert {\n",
              "      background-color: #3B4455;\n",
              "      fill: #D2E3FC;\n",
              "    }\n",
              "\n",
              "    [theme=dark] .colab-df-convert:hover {\n",
              "      background-color: #434B5C;\n",
              "      box-shadow: 0px 1px 3px 1px rgba(0, 0, 0, 0.15);\n",
              "      filter: drop-shadow(0px 1px 2px rgba(0, 0, 0, 0.3));\n",
              "      fill: #FFFFFF;\n",
              "    }\n",
              "  </style>\n",
              "\n",
              "      <script>\n",
              "        const buttonEl =\n",
              "          document.querySelector('#df-8f6a2a35-64a3-4c3d-8694-40c73e587af7 button.colab-df-convert');\n",
              "        buttonEl.style.display =\n",
              "          google.colab.kernel.accessAllowed ? 'block' : 'none';\n",
              "\n",
              "        async function convertToInteractive(key) {\n",
              "          const element = document.querySelector('#df-8f6a2a35-64a3-4c3d-8694-40c73e587af7');\n",
              "          const dataTable =\n",
              "            await google.colab.kernel.invokeFunction('convertToInteractive',\n",
              "                                                     [key], {});\n",
              "          if (!dataTable) return;\n",
              "\n",
              "          const docLinkHtml = 'Like what you see? Visit the ' +\n",
              "            '<a target=\"_blank\" href=https://colab.research.google.com/notebooks/data_table.ipynb>data table notebook</a>'\n",
              "            + ' to learn more about interactive tables.';\n",
              "          element.innerHTML = '';\n",
              "          dataTable['output_type'] = 'display_data';\n",
              "          await google.colab.output.renderOutput(dataTable, element);\n",
              "          const docLink = document.createElement('div');\n",
              "          docLink.innerHTML = docLinkHtml;\n",
              "          element.appendChild(docLink);\n",
              "        }\n",
              "      </script>\n",
              "    </div>\n",
              "  </div>\n",
              "  "
            ]
          },
          "metadata": {},
          "execution_count": 28
        }
      ]
    },
    {
      "cell_type": "code",
      "source": [
        "total_email_records = get_record_count(table_name='email')\n",
        "print(f\"In total, there are {total_email_records:,} email records in the database.\")"
      ],
      "metadata": {
        "colab": {
          "base_uri": "https://localhost:8080/"
        },
        "id": "XyoKEdbL9LXb",
        "outputId": "f1f52973-4920-42d6-c6d1-6e31f7d84690"
      },
      "execution_count": 40,
      "outputs": [
        {
          "output_type": "stream",
          "name": "stdout",
          "text": [
            "In total, there are 73,069 email records in the database.\n"
          ]
        }
      ]
    },
    {
      "cell_type": "markdown",
      "source": [
        "## &#129504; Generate Interest Data"
      ],
      "metadata": {
        "id": "nSoeZAsTEePz"
      }
    },
    {
      "cell_type": "markdown",
      "source": [
        "Features of interest:\n",
        "\n",
        "```python\n",
        "['fkre_score',\n",
        " 'fkgl_score',\n",
        " 'message_exper',\n",
        " 'commit_exper',\n",
        " 'word_cnt',\n",
        " 'sentence_cnt',\n",
        " 'exert_influence',\n",
        " 'patch_email',\n",
        " 'first_patch_thread',\n",
        " 'sent_time',\n",
        " 'received_time',\n",
        " 'reply_within_4hr',\n",
        " 'patch_churn',\n",
        " 'bug_fix',\n",
        " 'new_feature',\n",
        " 'accepted_patch',\n",
        " 'accepted_commit']\n",
        " ```"
      ],
      "metadata": {
        "id": "Sjo5ZQDRSWWf"
      }
    },
    {
      "cell_type": "code",
      "source": [],
      "metadata": {
        "id": "zXspnow4YK_v"
      },
      "execution_count": null,
      "outputs": []
    }
  ]
}