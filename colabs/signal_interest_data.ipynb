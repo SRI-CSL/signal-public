{
  "nbformat": 4,
  "nbformat_minor": 0,
  "metadata": {
    "colab": {
      "provenance": [],
      "collapsed_sections": [
        "rDlRXb7G0l0w"
      ],
      "toc_visible": true,
      "authorship_tag": "ABX9TyNcqJEGzSIlT+2pCSa0P4KK",
      "include_colab_link": true
    },
    "kernelspec": {
      "name": "python3",
      "display_name": "Python 3"
    },
    "language_info": {
      "name": "python"
    }
  },
  "cells": [
    {
      "cell_type": "markdown",
      "metadata": {
        "id": "view-in-github",
        "colab_type": "text"
      },
      "source": [
        "<a href=\"https://colab.research.google.com/github/SRI-CSL/signal-public/blob/signal-demonstration/colabs/signal_interest_data.ipynb\" target=\"_parent\"><img src=\"https://colab.research.google.com/assets/colab-badge.svg\" alt=\"Open In Colab\"/></a>"
      ]
    },
    {
      "cell_type": "markdown",
      "source": [
        "# **SIGNAL**ing Interest Data\n",
        "\n",
        "**Description:** Generating `interest` dataframe via SIGNAL API.\n",
        "\n",
        "**Copyright 2022 SRI International.**\n",
        "\n",
        "This project is under the GPL3 License. See the [LICENSE](https://www.gnu.org/licenses/gpl-3.0.en.html) file for the full license text."
      ],
      "metadata": {
        "id": "--4z2fpmSRbl"
      }
    },
    {
      "cell_type": "markdown",
      "source": [
        "## &#9776; Preamble"
      ],
      "metadata": {
        "id": "aDuf5ihcSadD"
      }
    },
    {
      "cell_type": "markdown",
      "source": [
        "Install the `SIGNAL API` client"
      ],
      "metadata": {
        "id": "CrBwUmDsTsSb"
      }
    },
    {
      "cell_type": "code",
      "source": [
        "!curl https://signal.cta.sri.com/client > client.tgz\n",
        "!tar xzf client.tgz\n",
        "!pip install -r signal_api_client/requirements.txt\n",
        "!pip install -e signal_api_client\n",
        "!pip install ipympl\n",
        "%cd /content/signal_api_client   "
      ],
      "metadata": {
        "id": "kXaiQzHaRCV4"
      },
      "execution_count": null,
      "outputs": []
    },
    {
      "cell_type": "markdown",
      "source": [
        "Download the `funcs` utilities repository."
      ],
      "metadata": {
        "id": "8UaF_4QnT1l7"
      }
    },
    {
      "cell_type": "code",
      "source": [
        "!git clone https://github.com/hsanchez/funcs.git &> /dev/null"
      ],
      "metadata": {
        "id": "fveFG9JuTppn"
      },
      "execution_count": 1,
      "outputs": []
    },
    {
      "cell_type": "markdown",
      "source": [
        "## &#9776; Dependencies"
      ],
      "metadata": {
        "id": "sIMm3y5HSjln"
      }
    },
    {
      "cell_type": "code",
      "execution_count": 2,
      "metadata": {
        "id": "3bJ7eePCQ4J2"
      },
      "outputs": [],
      "source": [
        "import os\n",
        "import sys\n",
        "import time\n",
        "import warnings\n",
        "\n",
        "import json\n",
        "import pickle\n",
        "import pathlib\n",
        "import zipfile\n",
        "import re\n",
        "\n",
        "import numpy as np\n",
        "import pandas as pd\n",
        "import matplotlib.pyplot as plt\n",
        "\n",
        "from typing import List, Any, Dict, Tuple\n",
        "from datetime import date, datetime"
      ]
    },
    {
      "cell_type": "code",
      "source": [
        "os.chdir(f'./funcs')\n",
        "!git fetch"
      ],
      "metadata": {
        "id": "LEAbSQ7BqVc-"
      },
      "execution_count": 3,
      "outputs": []
    },
    {
      "cell_type": "code",
      "source": [
        "!git checkout activity_roles_detection_colab &> /dev/null"
      ],
      "metadata": {
        "id": "Ixa2MBmoqaFz"
      },
      "execution_count": 4,
      "outputs": []
    },
    {
      "cell_type": "code",
      "source": [
        "import funcs as utils"
      ],
      "metadata": {
        "id": "4buhY0e0ULHh"
      },
      "execution_count": 5,
      "outputs": []
    },
    {
      "cell_type": "code",
      "source": [
        "import spacy"
      ],
      "metadata": {
        "id": "kKHTQGw9v0yS"
      },
      "execution_count": 6,
      "outputs": []
    },
    {
      "cell_type": "code",
      "source": [
        "from signal_api import signal"
      ],
      "metadata": {
        "id": "-Zabla_JWC11"
      },
      "execution_count": 7,
      "outputs": []
    },
    {
      "cell_type": "markdown",
      "source": [
        "## &#9997; Configuration"
      ],
      "metadata": {
        "id": "swVZEtyxUvJT"
      }
    },
    {
      "cell_type": "code",
      "source": [
        "warnings.filterwarnings(\"ignore\")"
      ],
      "metadata": {
        "id": "3PYox-GMUsNd"
      },
      "execution_count": 8,
      "outputs": []
    },
    {
      "cell_type": "code",
      "source": [
        "%matplotlib inline\n",
        "%config InlineBackend.figure_format='retina'"
      ],
      "metadata": {
        "id": "mI21zr5RV0Kd"
      },
      "execution_count": 9,
      "outputs": []
    },
    {
      "cell_type": "code",
      "source": [
        "np.random.seed(0)"
      ],
      "metadata": {
        "id": "CMUvjPyTxBdn"
      },
      "execution_count": 10,
      "outputs": []
    },
    {
      "cell_type": "code",
      "source": [
        "nlp = spacy.load('en_core_web_sm')"
      ],
      "metadata": {
        "id": "qUot8PpMv6j7"
      },
      "execution_count": 11,
      "outputs": []
    },
    {
      "cell_type": "code",
      "source": [
        "from IPython import get_ipython\n",
        "utils.common.set_default_vars(os.environ, ipython_val=get_ipython())"
      ],
      "metadata": {
        "id": "GkYzO6auqvY-"
      },
      "execution_count": 12,
      "outputs": []
    },
    {
      "cell_type": "code",
      "source": [
        "utils.console.stdout.print(utils.common.is_run_in_colab())"
      ],
      "metadata": {
        "colab": {
          "base_uri": "https://localhost:8080/",
          "height": 33
        },
        "id": "wmbyDJ4Qq05f",
        "outputId": "a839a812-9d09-4b83-9e88-34561aec70e7"
      },
      "execution_count": 13,
      "outputs": [
        {
          "output_type": "display_data",
          "data": {
            "text/plain": [
              "\u001b[3;92mTrue\u001b[0m\n"
            ],
            "text/html": [
              "<pre style=\"white-space:pre;overflow-x:auto;line-height:normal;font-family:Menlo,'DejaVu Sans Mono',consolas,'Courier New',monospace\"><span style=\"color: #00ff00; text-decoration-color: #00ff00; font-style: italic\">True</span>\n",
              "</pre>\n"
            ]
          },
          "metadata": {}
        }
      ]
    },
    {
      "cell_type": "code",
      "source": [
        "DATA_DICT = {\n",
        "    \"linux-kernel-data.zip\": \"1h1AGfQkOhvgtcCR8tWVzObBSpBTURWM2\",\n",
        "    \"lkml_email_patches_data.zip\" : \"12V2v3BNjF4RLkvKQZIBEqnBfqxQN1iVK\",\n",
        "    \"lkml_content_all.csv\": \"1iksk8RkfXEk07B5rSoN8JRz_bxukDnuC\"\n",
        "    }"
      ],
      "metadata": {
        "id": "bjUyuIdLsGT5"
      },
      "execution_count": 14,
      "outputs": []
    },
    {
      "cell_type": "markdown",
      "source": [
        "## &#9881; Functions"
      ],
      "metadata": {
        "id": "N39WXYGdyiO0"
      }
    },
    {
      "cell_type": "code",
      "source": [
        "# B.H. note: Add functions that are not already in funcs here..."
      ],
      "metadata": {
        "id": "_JNq4b1mylNV"
      },
      "execution_count": 15,
      "outputs": []
    },
    {
      "cell_type": "code",
      "source": [
        "def get_record_count(table_name: str) -> int:\n",
        "    query = f\"SELECT COUNT(*) FROM {table_name};\"\n",
        "    df_result = signal.query_dataframe(query)\n",
        "    result = df_result['count'].iloc[0]\n",
        "    return result"
      ],
      "metadata": {
        "id": "mxjoxnXG9jdp"
      },
      "execution_count": 16,
      "outputs": []
    },
    {
      "cell_type": "markdown",
      "source": [
        "### &#9759; Bot Analysis Functions"
      ],
      "metadata": {
        "id": "vCmVt3B4SnzX"
      }
    },
    {
      "cell_type": "code",
      "source": [
        "REGEX_GREG_ADDED = re.compile('patch \\\".*\\\" added to .*')\n",
        "\n",
        "BOTS = {'tip-bot2@linutronix.de', 'tipbot@zytor.com', 'tip-bot2@tip-bot2',\n",
        "        'lkp@ff58d72860ac', 'lkp@shao2-debian', 'lkp@xsang-OptiPlex-9020',\n",
        "        'rong.a.chen@shao2-debian', 'lkp@b50bd4e4e446', 'rong.a.chen@shao2-debian',\n",
        "        'noreply@ciplatform.org', 'patchwork@emeril.freedesktop.org',\n",
        "        'pr-tracker-bot@kernel.org'}\n",
        "        \n",
        "POTENTIAL_BOTS = {'broonie@kernel.org', 'lkp@intel.com',\n",
        "                  'boqun.feng@debian-boqun.qqnc3lrjykvubdpftowmye0fmh.lx.internal.cloudapp.net'}"
      ],
      "metadata": {
        "id": "NuSk1NtqSokP"
      },
      "execution_count": 17,
      "outputs": []
    },
    {
      "cell_type": "code",
      "source": [
        "def is_bot(patch: dict) -> bool:\n",
        "    email_address = patch['email']\n",
        "    if email_address in BOTS:\n",
        "        return True\n",
        "    \n",
        "    subject_line = patch.get('subject', '')\n",
        "    if email_address in POTENTIAL_BOTS:\n",
        "        # Mark Brown's bot and lkp\n",
        "        if subject_line.startswith('applied'):\n",
        "            return True\n",
        "    sender_name = patch.get('senderName', None)\n",
        "    sender_name = patch.get('name', '') if sender_name is None else sender_name\n",
        "    if 'tip-bot2' in sender_name or 'syzbot' in sender_name:\n",
        "        return True\n",
        "    if 'tip-bot' in sender_name:\n",
        "        return True\n",
        "    if sender_name in POTENTIAL_BOTS:\n",
        "        return True\n",
        "    if 'kernel test robot' in sender_name:\n",
        "        return True\n",
        "    \n",
        "    if REGEX_GREG_ADDED.match(subject_line):\n",
        "        return True\n",
        "    \n",
        "    # AKPM's bot. AKPM uses s-nail for automated mails, and sylpheed for all\n",
        "    # other mails. That's how we can easily separate automated mails from\n",
        "    # real mails. Further, akpm acts as bot if the subject contains [merged]\n",
        "    if email_address == 'akpm@linux-foundation.org':\n",
        "        if '[merged]' in subject_line:\n",
        "            return True\n",
        "\n",
        "    # syzbot - email format: syzbot-hash@syzkaller.appspotmail.com\n",
        "    if 'syzbot' in email_address and 'syzkaller.appspotmail.com' in email_address:\n",
        "        return True\n",
        "    \n",
        "    # Github Bot\n",
        "    if 'noreply@github.com' in email_address:\n",
        "        return True\n",
        "    \n",
        "    # Buildroot's daily results bot\n",
        "    if '[autobuild.buildroot.net] daily results' in subject_line or \\\n",
        "        'oe-core cve metrics' in subject_line:\n",
        "            return True\n",
        "    \n",
        "    return False"
      ],
      "metadata": {
        "id": "cLZfbIA0SpSh"
      },
      "execution_count": 18,
      "outputs": []
    },
    {
      "cell_type": "markdown",
      "source": [
        "### &#9759; NLP"
      ],
      "metadata": {
        "id": "AtCy7-vJRk1-"
      }
    },
    {
      "cell_type": "code",
      "source": [
        "def fkre_score(total_words: int, total_sentences: int, total_syllables: int) -> float:\n",
        "    \"\"\"Flesch Kincaid Reading Ease (FKRE) score\"\"\"\n",
        "\n",
        "    return round(206.835 - 1.015 * (total_words/total_sentences) - 84.6 * (total_syllables/total_words), 2)"
      ],
      "metadata": {
        "id": "l4esqDWQRoAX"
      },
      "execution_count": 19,
      "outputs": []
    },
    {
      "cell_type": "code",
      "source": [
        "def fkgl_score(total_words: int, total_sentences: int, total_syllables: int) -> float:\n",
        "    \"\"\"Flesch Kincaid Grade Level (FKGL) score\"\"\"\n",
        "\n",
        "    return round(0.39 * (total_words/total_sentences) + 11.8 * (total_syllables/total_words) - 15.59, 2)"
      ],
      "metadata": {
        "id": "3nfT281PRn4L"
      },
      "execution_count": 20,
      "outputs": []
    },
    {
      "cell_type": "code",
      "source": [
        "def count_syllables(word):\n",
        "    \"\"\"source: https://codereview.stackexchange.com/questions/224177/python-function-to-count-syllables-in-a-word\"\"\"\n",
        "    return len(\n",
        "        re.findall('(?!e$)[aeiouy]+', word, re.I) +\n",
        "        re.findall('^[^aeiouy]*e$', word, re.I)\n",
        "    )"
      ],
      "metadata": {
        "id": "RkDk1oa4R0Yp"
      },
      "execution_count": 21,
      "outputs": []
    },
    {
      "cell_type": "code",
      "source": [
        "def message_length(email_body: str) -> int:\n",
        "    return len(email_body.split(\"\\n\"))"
      ],
      "metadata": {
        "id": "tSjvkmeDR3fu"
      },
      "execution_count": 22,
      "outputs": []
    },
    {
      "cell_type": "code",
      "source": [
        "def text_to_spacy_nlp(email_body: str):\n",
        "    \"\"\"spacy nlp transformation\"\"\"\n",
        "    return nlp(email_body)"
      ],
      "metadata": {
        "id": "Nz-jg7v2R7OT"
      },
      "execution_count": 23,
      "outputs": []
    },
    {
      "cell_type": "code",
      "source": [
        "def sentence_count(spacy_txt):\n",
        "    \"\"\"calculate the number of sentences in an input text\n",
        "    pre-requisite: run text_to_spacy_nlp() on the original email body\n",
        "    \"\"\"\n",
        "    return len(list(spacy_txt.sents))"
      ],
      "metadata": {
        "id": "p4ctOo0cSAtd"
      },
      "execution_count": 24,
      "outputs": []
    },
    {
      "cell_type": "code",
      "source": [
        "def retrieve_words(spacy_txt):\n",
        "    return [token.text for token in spacy_txt if not token.is_punct]"
      ],
      "metadata": {
        "id": "6VAaXtWzSE6-"
      },
      "execution_count": 25,
      "outputs": []
    },
    {
      "cell_type": "code",
      "source": [
        "def word_count(spacy_txt):\n",
        "    \"\"\"calculate the number of words in an input text\n",
        "    pre-requisite: run text_to_spacy_nlp() on the original email body\n",
        "    \"\"\"\n",
        "    return len(retrieve_words(spacy_txt))"
      ],
      "metadata": {
        "id": "b17U98xoSIIa"
      },
      "execution_count": 26,
      "outputs": []
    },
    {
      "cell_type": "markdown",
      "source": [
        "## &#128272; Login"
      ],
      "metadata": {
        "id": "VgWxF-0CVEoJ"
      }
    },
    {
      "cell_type": "code",
      "source": [
        "signal.login()"
      ],
      "metadata": {
        "colab": {
          "base_uri": "https://localhost:8080/"
        },
        "id": "T3Yxx02UVHK3",
        "outputId": "a24ed775-05c7-436e-d798-735664d44e07"
      },
      "execution_count": 27,
      "outputs": [
        {
          "name": "stdout",
          "output_type": "stream",
          "text": [
            "username?: ··········\n",
            "password?: ··········\n"
          ]
        },
        {
          "output_type": "execute_result",
          "data": {
            "text/plain": [
              "True"
            ]
          },
          "metadata": {},
          "execution_count": 27
        }
      ]
    },
    {
      "cell_type": "markdown",
      "source": [
        "## &#128722; Data"
      ],
      "metadata": {
        "id": "WJcBUDqgyu2V"
      }
    },
    {
      "cell_type": "markdown",
      "source": [
        "### &#9759; Tables"
      ],
      "metadata": {
        "id": "rDlRXb7G0l0w"
      }
    },
    {
      "cell_type": "code",
      "source": [
        "TABLES_QUERY = \"SELECT * FROM information_schema.tables WHERE table_type='BASE TABLE';\""
      ],
      "metadata": {
        "id": "Iu5Eb1dQ0q0r"
      },
      "execution_count": 28,
      "outputs": []
    },
    {
      "cell_type": "code",
      "source": [
        "df_tables = signal.query_dataframe(TABLES_QUERY)"
      ],
      "metadata": {
        "id": "MA-wn1lk0yYD"
      },
      "execution_count": 29,
      "outputs": []
    },
    {
      "cell_type": "code",
      "source": [
        "table_names = df_tables.table_name.unique()"
      ],
      "metadata": {
        "id": "simEHVpW1vAH"
      },
      "execution_count": 30,
      "outputs": []
    },
    {
      "cell_type": "code",
      "source": [
        "print(f\"There are {len(table_names)} tables currently present in the SIGNAL database.\")"
      ],
      "metadata": {
        "colab": {
          "base_uri": "https://localhost:8080/"
        },
        "id": "eFLHvQGS1u7o",
        "outputId": "41586816-2f22-43cc-d0b5-f34b8dca1192"
      },
      "execution_count": 31,
      "outputs": [
        {
          "output_type": "stream",
          "name": "stdout",
          "text": [
            "There are 87 tables currently present in the SIGNAL database.\n"
          ]
        }
      ]
    },
    {
      "cell_type": "code",
      "source": [
        "df_tables.head()"
      ],
      "metadata": {
        "colab": {
          "base_uri": "https://localhost:8080/",
          "height": 0
        },
        "id": "bJ3ny5e21u4f",
        "outputId": "26871ebd-89c6-489d-99d7-0dafb32cabeb"
      },
      "execution_count": 32,
      "outputs": [
        {
          "output_type": "execute_result",
          "data": {
            "text/plain": [
              "  table_catalog table_schema            table_name  table_type  \\\n",
              "0        signal       public      scraped_projects  BASE TABLE   \n",
              "1        signal       public  scraped_patch_series  BASE TABLE   \n",
              "2        signal       public                  diff  BASE TABLE   \n",
              "3        signal       public                thread  BASE TABLE   \n",
              "4        signal       public             git_files  BASE TABLE   \n",
              "\n",
              "  self_referencing_column_name reference_generation user_defined_type_catalog  \\\n",
              "0                         None                 None                      None   \n",
              "1                         None                 None                      None   \n",
              "2                         None                 None                      None   \n",
              "3                         None                 None                      None   \n",
              "4                         None                 None                      None   \n",
              "\n",
              "  user_defined_type_schema user_defined_type_name is_insertable_into is_typed  \\\n",
              "0                     None                   None                YES       NO   \n",
              "1                     None                   None                YES       NO   \n",
              "2                     None                   None                YES       NO   \n",
              "3                     None                   None                YES       NO   \n",
              "4                     None                   None                YES       NO   \n",
              "\n",
              "  commit_action  \n",
              "0          None  \n",
              "1          None  \n",
              "2          None  \n",
              "3          None  \n",
              "4          None  "
            ],
            "text/html": [
              "\n",
              "  <div id=\"df-5d386c85-da01-440f-b6cd-e122c3432627\">\n",
              "    <div class=\"colab-df-container\">\n",
              "      <div>\n",
              "<style scoped>\n",
              "    .dataframe tbody tr th:only-of-type {\n",
              "        vertical-align: middle;\n",
              "    }\n",
              "\n",
              "    .dataframe tbody tr th {\n",
              "        vertical-align: top;\n",
              "    }\n",
              "\n",
              "    .dataframe thead th {\n",
              "        text-align: right;\n",
              "    }\n",
              "</style>\n",
              "<table border=\"1\" class=\"dataframe\">\n",
              "  <thead>\n",
              "    <tr style=\"text-align: right;\">\n",
              "      <th></th>\n",
              "      <th>table_catalog</th>\n",
              "      <th>table_schema</th>\n",
              "      <th>table_name</th>\n",
              "      <th>table_type</th>\n",
              "      <th>self_referencing_column_name</th>\n",
              "      <th>reference_generation</th>\n",
              "      <th>user_defined_type_catalog</th>\n",
              "      <th>user_defined_type_schema</th>\n",
              "      <th>user_defined_type_name</th>\n",
              "      <th>is_insertable_into</th>\n",
              "      <th>is_typed</th>\n",
              "      <th>commit_action</th>\n",
              "    </tr>\n",
              "  </thead>\n",
              "  <tbody>\n",
              "    <tr>\n",
              "      <th>0</th>\n",
              "      <td>signal</td>\n",
              "      <td>public</td>\n",
              "      <td>scraped_projects</td>\n",
              "      <td>BASE TABLE</td>\n",
              "      <td>None</td>\n",
              "      <td>None</td>\n",
              "      <td>None</td>\n",
              "      <td>None</td>\n",
              "      <td>None</td>\n",
              "      <td>YES</td>\n",
              "      <td>NO</td>\n",
              "      <td>None</td>\n",
              "    </tr>\n",
              "    <tr>\n",
              "      <th>1</th>\n",
              "      <td>signal</td>\n",
              "      <td>public</td>\n",
              "      <td>scraped_patch_series</td>\n",
              "      <td>BASE TABLE</td>\n",
              "      <td>None</td>\n",
              "      <td>None</td>\n",
              "      <td>None</td>\n",
              "      <td>None</td>\n",
              "      <td>None</td>\n",
              "      <td>YES</td>\n",
              "      <td>NO</td>\n",
              "      <td>None</td>\n",
              "    </tr>\n",
              "    <tr>\n",
              "      <th>2</th>\n",
              "      <td>signal</td>\n",
              "      <td>public</td>\n",
              "      <td>diff</td>\n",
              "      <td>BASE TABLE</td>\n",
              "      <td>None</td>\n",
              "      <td>None</td>\n",
              "      <td>None</td>\n",
              "      <td>None</td>\n",
              "      <td>None</td>\n",
              "      <td>YES</td>\n",
              "      <td>NO</td>\n",
              "      <td>None</td>\n",
              "    </tr>\n",
              "    <tr>\n",
              "      <th>3</th>\n",
              "      <td>signal</td>\n",
              "      <td>public</td>\n",
              "      <td>thread</td>\n",
              "      <td>BASE TABLE</td>\n",
              "      <td>None</td>\n",
              "      <td>None</td>\n",
              "      <td>None</td>\n",
              "      <td>None</td>\n",
              "      <td>None</td>\n",
              "      <td>YES</td>\n",
              "      <td>NO</td>\n",
              "      <td>None</td>\n",
              "    </tr>\n",
              "    <tr>\n",
              "      <th>4</th>\n",
              "      <td>signal</td>\n",
              "      <td>public</td>\n",
              "      <td>git_files</td>\n",
              "      <td>BASE TABLE</td>\n",
              "      <td>None</td>\n",
              "      <td>None</td>\n",
              "      <td>None</td>\n",
              "      <td>None</td>\n",
              "      <td>None</td>\n",
              "      <td>YES</td>\n",
              "      <td>NO</td>\n",
              "      <td>None</td>\n",
              "    </tr>\n",
              "  </tbody>\n",
              "</table>\n",
              "</div>\n",
              "      <button class=\"colab-df-convert\" onclick=\"convertToInteractive('df-5d386c85-da01-440f-b6cd-e122c3432627')\"\n",
              "              title=\"Convert this dataframe to an interactive table.\"\n",
              "              style=\"display:none;\">\n",
              "        \n",
              "  <svg xmlns=\"http://www.w3.org/2000/svg\" height=\"24px\"viewBox=\"0 0 24 24\"\n",
              "       width=\"24px\">\n",
              "    <path d=\"M0 0h24v24H0V0z\" fill=\"none\"/>\n",
              "    <path d=\"M18.56 5.44l.94 2.06.94-2.06 2.06-.94-2.06-.94-.94-2.06-.94 2.06-2.06.94zm-11 1L8.5 8.5l.94-2.06 2.06-.94-2.06-.94L8.5 2.5l-.94 2.06-2.06.94zm10 10l.94 2.06.94-2.06 2.06-.94-2.06-.94-.94-2.06-.94 2.06-2.06.94z\"/><path d=\"M17.41 7.96l-1.37-1.37c-.4-.4-.92-.59-1.43-.59-.52 0-1.04.2-1.43.59L10.3 9.45l-7.72 7.72c-.78.78-.78 2.05 0 2.83L4 21.41c.39.39.9.59 1.41.59.51 0 1.02-.2 1.41-.59l7.78-7.78 2.81-2.81c.8-.78.8-2.07 0-2.86zM5.41 20L4 18.59l7.72-7.72 1.47 1.35L5.41 20z\"/>\n",
              "  </svg>\n",
              "      </button>\n",
              "      \n",
              "  <style>\n",
              "    .colab-df-container {\n",
              "      display:flex;\n",
              "      flex-wrap:wrap;\n",
              "      gap: 12px;\n",
              "    }\n",
              "\n",
              "    .colab-df-convert {\n",
              "      background-color: #E8F0FE;\n",
              "      border: none;\n",
              "      border-radius: 50%;\n",
              "      cursor: pointer;\n",
              "      display: none;\n",
              "      fill: #1967D2;\n",
              "      height: 32px;\n",
              "      padding: 0 0 0 0;\n",
              "      width: 32px;\n",
              "    }\n",
              "\n",
              "    .colab-df-convert:hover {\n",
              "      background-color: #E2EBFA;\n",
              "      box-shadow: 0px 1px 2px rgba(60, 64, 67, 0.3), 0px 1px 3px 1px rgba(60, 64, 67, 0.15);\n",
              "      fill: #174EA6;\n",
              "    }\n",
              "\n",
              "    [theme=dark] .colab-df-convert {\n",
              "      background-color: #3B4455;\n",
              "      fill: #D2E3FC;\n",
              "    }\n",
              "\n",
              "    [theme=dark] .colab-df-convert:hover {\n",
              "      background-color: #434B5C;\n",
              "      box-shadow: 0px 1px 3px 1px rgba(0, 0, 0, 0.15);\n",
              "      filter: drop-shadow(0px 1px 2px rgba(0, 0, 0, 0.3));\n",
              "      fill: #FFFFFF;\n",
              "    }\n",
              "  </style>\n",
              "\n",
              "      <script>\n",
              "        const buttonEl =\n",
              "          document.querySelector('#df-5d386c85-da01-440f-b6cd-e122c3432627 button.colab-df-convert');\n",
              "        buttonEl.style.display =\n",
              "          google.colab.kernel.accessAllowed ? 'block' : 'none';\n",
              "\n",
              "        async function convertToInteractive(key) {\n",
              "          const element = document.querySelector('#df-5d386c85-da01-440f-b6cd-e122c3432627');\n",
              "          const dataTable =\n",
              "            await google.colab.kernel.invokeFunction('convertToInteractive',\n",
              "                                                     [key], {});\n",
              "          if (!dataTable) return;\n",
              "\n",
              "          const docLinkHtml = 'Like what you see? Visit the ' +\n",
              "            '<a target=\"_blank\" href=https://colab.research.google.com/notebooks/data_table.ipynb>data table notebook</a>'\n",
              "            + ' to learn more about interactive tables.';\n",
              "          element.innerHTML = '';\n",
              "          dataTable['output_type'] = 'display_data';\n",
              "          await google.colab.output.renderOutput(dataTable, element);\n",
              "          const docLink = document.createElement('div');\n",
              "          docLink.innerHTML = docLinkHtml;\n",
              "          element.appendChild(docLink);\n",
              "        }\n",
              "      </script>\n",
              "    </div>\n",
              "  </div>\n",
              "  "
            ]
          },
          "metadata": {},
          "execution_count": 32
        }
      ]
    },
    {
      "cell_type": "code",
      "source": [
        "table_names"
      ],
      "metadata": {
        "id": "fDIf58l1_xhA",
        "outputId": "2bdd63b7-2c29-4fa0-ed01-e4512c0a0466",
        "colab": {
          "base_uri": "https://localhost:8080/"
        }
      },
      "execution_count": 33,
      "outputs": [
        {
          "output_type": "execute_result",
          "data": {
            "text/plain": [
              "array(['scraped_projects', 'scraped_patch_series', 'diff', 'thread',\n",
              "       'git_files', 'email', 'git_commit_edges', 'pg_statistic',\n",
              "       'pg_type', 'git_file_changes', 'scraped_patches',\n",
              "       'alembic_version', 'api_key', 'pg_foreign_table', 'pg_authid',\n",
              "       'signal_history', 'pg_statistic_ext_data', 'git_repos',\n",
              "       'user_identities', 'person', 'scraped_patch_submitters',\n",
              "       'mailing_list', 'git_sigs', 'pg_user_mapping', 'pg_subscription',\n",
              "       'pg_attribute', 'pg_proc', 'pg_class', 'pg_attrdef',\n",
              "       'pg_constraint', 'pg_inherits', 'pg_index', 'pg_operator',\n",
              "       'pg_opfamily', 'pg_opclass', 'pg_am', 'pg_amop', 'pg_amproc',\n",
              "       'pg_language', 'pg_largeobject_metadata', 'pg_aggregate',\n",
              "       'pg_statistic_ext', 'pg_rewrite', 'pg_trigger', 'pg_event_trigger',\n",
              "       'pg_description', 'pg_cast', 'pg_enum', 'pg_namespace',\n",
              "       'pg_conversion', 'pg_depend', 'pg_database', 'pg_db_role_setting',\n",
              "       'pg_tablespace', 'pg_auth_members', 'pg_shdepend',\n",
              "       'pg_shdescription', 'pg_ts_config', 'pg_ts_config_map',\n",
              "       'pg_ts_dict', 'pg_ts_parser', 'pg_ts_template', 'pg_extension',\n",
              "       'pg_foreign_data_wrapper', 'pg_foreign_server', 'pg_policy',\n",
              "       'pg_replication_origin', 'pg_default_acl', 'pg_init_privs',\n",
              "       'pg_seclabel', 'pg_shseclabel', 'pg_collation',\n",
              "       'pg_partitioned_table', 'pg_range', 'pg_transform', 'pg_sequence',\n",
              "       'pg_publication', 'pg_publication_rel', 'pg_subscription_rel',\n",
              "       'pg_largeobject', 'git_xrefs', 'sql_parts',\n",
              "       'sql_implementation_info', 'sql_features', 'sql_sizing',\n",
              "       'patchwork_person_id', 'git_commits'], dtype=object)"
            ]
          },
          "metadata": {},
          "execution_count": 33
        }
      ]
    },
    {
      "cell_type": "markdown",
      "source": [
        "### &#9759; Email Data"
      ],
      "metadata": {
        "id": "gjrd9zuB0Spe"
      }
    },
    {
      "cell_type": "code",
      "source": [
        "START_DATE = datetime(2020, 8, 1)\n",
        "END_DATE = datetime(2020, 8, 2)"
      ],
      "metadata": {
        "id": "7CjU1mWI0Ysa"
      },
      "execution_count": 34,
      "outputs": []
    },
    {
      "cell_type": "code",
      "source": [
        "df_email = signal.query_dataframe(f\"SELECT * FROM email WHERE timestamp_sent > {START_DATE.timestamp()} and timestamp_sent < {END_DATE.timestamp()};\")"
      ],
      "metadata": {
        "id": "RWMyJ1JFWQ5B"
      },
      "execution_count": 35,
      "outputs": []
    },
    {
      "cell_type": "code",
      "source": [
        "df_email.info()"
      ],
      "metadata": {
        "colab": {
          "base_uri": "https://localhost:8080/"
        },
        "id": "cPN1ckzUWamU",
        "outputId": "a25e17bc-3a6c-4851-e9e4-2f1d56a3d9a4"
      },
      "execution_count": 36,
      "outputs": [
        {
          "output_type": "stream",
          "name": "stdout",
          "text": [
            "<class 'pandas.core.frame.DataFrame'>\n",
            "RangeIndex: 276 entries, 0 to 275\n",
            "Data columns (total 15 columns):\n",
            " #   Column               Non-Null Count  Dtype \n",
            "---  ------               --------------  ----- \n",
            " 0   id                   276 non-null    int64 \n",
            " 1   url                  276 non-null    object\n",
            " 2   mailing_list_id      276 non-null    int64 \n",
            " 3   email_id             276 non-null    object\n",
            " 4   message_id           276 non-null    object\n",
            " 5   reply_to_url         112 non-null    object\n",
            " 6   author_id            276 non-null    int64 \n",
            " 7   timestamp_sent       276 non-null    int64 \n",
            " 8   timestamp_recv       276 non-null    int64 \n",
            " 9   subject              276 non-null    object\n",
            " 10  body                 276 non-null    object\n",
            " 11  clean_body           276 non-null    object\n",
            " 12  thread_id            276 non-null    object\n",
            " 13  persuasion           276 non-null    object\n",
            " 14  reply_to_message_id  276 non-null    object\n",
            "dtypes: int64(5), object(10)\n",
            "memory usage: 32.5+ KB\n"
          ]
        }
      ]
    },
    {
      "cell_type": "code",
      "source": [
        "df_email.head()"
      ],
      "metadata": {
        "colab": {
          "base_uri": "https://localhost:8080/",
          "height": 496
        },
        "id": "nL6s1P7nWb99",
        "outputId": "89c3a9e0-fe25-4568-8ca8-4675b2fdc76b"
      },
      "execution_count": 37,
      "outputs": [
        {
          "output_type": "execute_result",
          "data": {
            "text/plain": [
              "      id                                                url  mailing_list_id  \\\n",
              "0  30807  https://lkml.iu.edu/hypermail/linux/kernel/200...                1   \n",
              "1  30820  https://lkml.iu.edu/hypermail/linux/kernel/200...                1   \n",
              "2  31413  https://lkml.iu.edu/hypermail/linux/kernel/200...                1   \n",
              "3  31045  https://lkml.iu.edu/hypermail/linux/kernel/200...                1   \n",
              "4  31061  https://lkml.iu.edu/hypermail/linux/kernel/200...                1   \n",
              "\n",
              "         email_id                                         message_id  \\\n",
              "0  20200801110231       20200801150050.767038-2-masahiroy@kernel.org   \n",
              "1  20200801090629       20200801130856.86625-3-chenzhou10@huawei.com   \n",
              "2  20200801044951     20200801084721.1812607-4-songliubraving@fb.com   \n",
              "3  20200801130229     636faf6f-4c85-0582-2482-b99002888d0d@kernel.dk   \n",
              "4  20200801062550  d515fa07-5198-fc3c-24ac-d35aa4e08668@molgen.mp...   \n",
              "\n",
              "                                        reply_to_url  author_id  \\\n",
              "0  https://lkml.iu.edu/hypermail/linux/kernel/200...        208   \n",
              "1  https://lkml.iu.edu/hypermail/linux/kernel/200...       2724   \n",
              "2  https://lkml.iu.edu/hypermail/linux/kernel/200...       1062   \n",
              "3  https://lkml.iu.edu/hypermail/linux/kernel/200...        158   \n",
              "4                                               None       1977   \n",
              "\n",
              "   timestamp_sent  timestamp_recv  \\\n",
              "0      1596294151      1596297751   \n",
              "1      1596287189      1596290789   \n",
              "2      1596271791      1596275391   \n",
              "3      1596301349      1596304949   \n",
              "4      1596277550      1596281150   \n",
              "\n",
              "                                             subject  \\\n",
              "0  [PATCH 2/2] kbuild: stop filtering out $(GCC_P...   \n",
              "1  [PATCH v11 2/5] x86: kdump: move reserve_crash...   \n",
              "2  [PATCH bpf-next 3/5] selftests/bpf: add selfte...   \n",
              "3      Re: [PATCH] fs: optimise kiocb_set_rw_flags()   \n",
              "4   Re: xfs_reclaim_inodes_ag taking several seconds   \n",
              "\n",
              "                                                body  \\\n",
              "0  Commit d26e94149276 (\"kbuild: no gcc-plugins d...   \n",
              "1  In preparation for supporting reserve_crashker...   \n",
              "2  This test checks the correctness of BPF_PROG_T...   \n",
              "3  On 8/1/20 4:36 AM, Pavel Begunkov wrote:\\n><i>...   \n",
              "4  On 01.08.20 00:32, Dave Chinner wrote:\\n<block...   \n",
              "\n",
              "                                          clean_body  \\\n",
              "0  Commit d26e94149276 (\"kbuild: no gcc-plugins d...   \n",
              "1  In preparation for supporting reserve_crashker...   \n",
              "2  This test checks the correctness of BPF_PROG_T...   \n",
              "3  On 8/1/20 4:36 AM, Pavel Begunkov wrote:\\n><i>...   \n",
              "4  On 01.08.20 00:32, Dave Chinner wrote:\\n<block...   \n",
              "\n",
              "                                           thread_id persuasion  \\\n",
              "0       20200801150050.767038-1-masahiroy@kernel.org    Unknown   \n",
              "1       20200801130856.86625-1-chenzhou10@huawei.com    Unknown   \n",
              "2     20200801084721.1812607-1-songliubraving@fb.com    Unknown   \n",
              "3  e523f51f59ad6ecdad4ad22c560cb9c913e96e1a.15962...    Unknown   \n",
              "4  8284912e-b99a-31af-1901-a38ea03b8648@molgen.mp...    Unknown   \n",
              "\n",
              "                                 reply_to_message_id  \n",
              "0       20200801150050.767038-1-masahiroy@kernel.org  \n",
              "1       20200801130856.86625-1-chenzhou10@huawei.com  \n",
              "2     20200801084721.1812607-1-songliubraving@fb.com  \n",
              "3  e523f51f59ad6ecdad4ad22c560cb9c913e96e1a.15962...  \n",
              "4          20200731223255.GG2005@dread.disaster.area  "
            ],
            "text/html": [
              "\n",
              "  <div id=\"df-0de1e9e6-2947-4ac0-9002-600c9dae940b\">\n",
              "    <div class=\"colab-df-container\">\n",
              "      <div>\n",
              "<style scoped>\n",
              "    .dataframe tbody tr th:only-of-type {\n",
              "        vertical-align: middle;\n",
              "    }\n",
              "\n",
              "    .dataframe tbody tr th {\n",
              "        vertical-align: top;\n",
              "    }\n",
              "\n",
              "    .dataframe thead th {\n",
              "        text-align: right;\n",
              "    }\n",
              "</style>\n",
              "<table border=\"1\" class=\"dataframe\">\n",
              "  <thead>\n",
              "    <tr style=\"text-align: right;\">\n",
              "      <th></th>\n",
              "      <th>id</th>\n",
              "      <th>url</th>\n",
              "      <th>mailing_list_id</th>\n",
              "      <th>email_id</th>\n",
              "      <th>message_id</th>\n",
              "      <th>reply_to_url</th>\n",
              "      <th>author_id</th>\n",
              "      <th>timestamp_sent</th>\n",
              "      <th>timestamp_recv</th>\n",
              "      <th>subject</th>\n",
              "      <th>body</th>\n",
              "      <th>clean_body</th>\n",
              "      <th>thread_id</th>\n",
              "      <th>persuasion</th>\n",
              "      <th>reply_to_message_id</th>\n",
              "    </tr>\n",
              "  </thead>\n",
              "  <tbody>\n",
              "    <tr>\n",
              "      <th>0</th>\n",
              "      <td>30807</td>\n",
              "      <td>https://lkml.iu.edu/hypermail/linux/kernel/200...</td>\n",
              "      <td>1</td>\n",
              "      <td>20200801110231</td>\n",
              "      <td>20200801150050.767038-2-masahiroy@kernel.org</td>\n",
              "      <td>https://lkml.iu.edu/hypermail/linux/kernel/200...</td>\n",
              "      <td>208</td>\n",
              "      <td>1596294151</td>\n",
              "      <td>1596297751</td>\n",
              "      <td>[PATCH 2/2] kbuild: stop filtering out $(GCC_P...</td>\n",
              "      <td>Commit d26e94149276 (\"kbuild: no gcc-plugins d...</td>\n",
              "      <td>Commit d26e94149276 (\"kbuild: no gcc-plugins d...</td>\n",
              "      <td>20200801150050.767038-1-masahiroy@kernel.org</td>\n",
              "      <td>Unknown</td>\n",
              "      <td>20200801150050.767038-1-masahiroy@kernel.org</td>\n",
              "    </tr>\n",
              "    <tr>\n",
              "      <th>1</th>\n",
              "      <td>30820</td>\n",
              "      <td>https://lkml.iu.edu/hypermail/linux/kernel/200...</td>\n",
              "      <td>1</td>\n",
              "      <td>20200801090629</td>\n",
              "      <td>20200801130856.86625-3-chenzhou10@huawei.com</td>\n",
              "      <td>https://lkml.iu.edu/hypermail/linux/kernel/200...</td>\n",
              "      <td>2724</td>\n",
              "      <td>1596287189</td>\n",
              "      <td>1596290789</td>\n",
              "      <td>[PATCH v11 2/5] x86: kdump: move reserve_crash...</td>\n",
              "      <td>In preparation for supporting reserve_crashker...</td>\n",
              "      <td>In preparation for supporting reserve_crashker...</td>\n",
              "      <td>20200801130856.86625-1-chenzhou10@huawei.com</td>\n",
              "      <td>Unknown</td>\n",
              "      <td>20200801130856.86625-1-chenzhou10@huawei.com</td>\n",
              "    </tr>\n",
              "    <tr>\n",
              "      <th>2</th>\n",
              "      <td>31413</td>\n",
              "      <td>https://lkml.iu.edu/hypermail/linux/kernel/200...</td>\n",
              "      <td>1</td>\n",
              "      <td>20200801044951</td>\n",
              "      <td>20200801084721.1812607-4-songliubraving@fb.com</td>\n",
              "      <td>https://lkml.iu.edu/hypermail/linux/kernel/200...</td>\n",
              "      <td>1062</td>\n",
              "      <td>1596271791</td>\n",
              "      <td>1596275391</td>\n",
              "      <td>[PATCH bpf-next 3/5] selftests/bpf: add selfte...</td>\n",
              "      <td>This test checks the correctness of BPF_PROG_T...</td>\n",
              "      <td>This test checks the correctness of BPF_PROG_T...</td>\n",
              "      <td>20200801084721.1812607-1-songliubraving@fb.com</td>\n",
              "      <td>Unknown</td>\n",
              "      <td>20200801084721.1812607-1-songliubraving@fb.com</td>\n",
              "    </tr>\n",
              "    <tr>\n",
              "      <th>3</th>\n",
              "      <td>31045</td>\n",
              "      <td>https://lkml.iu.edu/hypermail/linux/kernel/200...</td>\n",
              "      <td>1</td>\n",
              "      <td>20200801130229</td>\n",
              "      <td>636faf6f-4c85-0582-2482-b99002888d0d@kernel.dk</td>\n",
              "      <td>https://lkml.iu.edu/hypermail/linux/kernel/200...</td>\n",
              "      <td>158</td>\n",
              "      <td>1596301349</td>\n",
              "      <td>1596304949</td>\n",
              "      <td>Re: [PATCH] fs: optimise kiocb_set_rw_flags()</td>\n",
              "      <td>On 8/1/20 4:36 AM, Pavel Begunkov wrote:\\n&gt;&lt;i&gt;...</td>\n",
              "      <td>On 8/1/20 4:36 AM, Pavel Begunkov wrote:\\n&gt;&lt;i&gt;...</td>\n",
              "      <td>e523f51f59ad6ecdad4ad22c560cb9c913e96e1a.15962...</td>\n",
              "      <td>Unknown</td>\n",
              "      <td>e523f51f59ad6ecdad4ad22c560cb9c913e96e1a.15962...</td>\n",
              "    </tr>\n",
              "    <tr>\n",
              "      <th>4</th>\n",
              "      <td>31061</td>\n",
              "      <td>https://lkml.iu.edu/hypermail/linux/kernel/200...</td>\n",
              "      <td>1</td>\n",
              "      <td>20200801062550</td>\n",
              "      <td>d515fa07-5198-fc3c-24ac-d35aa4e08668@molgen.mp...</td>\n",
              "      <td>None</td>\n",
              "      <td>1977</td>\n",
              "      <td>1596277550</td>\n",
              "      <td>1596281150</td>\n",
              "      <td>Re: xfs_reclaim_inodes_ag taking several seconds</td>\n",
              "      <td>On 01.08.20 00:32, Dave Chinner wrote:\\n&lt;block...</td>\n",
              "      <td>On 01.08.20 00:32, Dave Chinner wrote:\\n&lt;block...</td>\n",
              "      <td>8284912e-b99a-31af-1901-a38ea03b8648@molgen.mp...</td>\n",
              "      <td>Unknown</td>\n",
              "      <td>20200731223255.GG2005@dread.disaster.area</td>\n",
              "    </tr>\n",
              "  </tbody>\n",
              "</table>\n",
              "</div>\n",
              "      <button class=\"colab-df-convert\" onclick=\"convertToInteractive('df-0de1e9e6-2947-4ac0-9002-600c9dae940b')\"\n",
              "              title=\"Convert this dataframe to an interactive table.\"\n",
              "              style=\"display:none;\">\n",
              "        \n",
              "  <svg xmlns=\"http://www.w3.org/2000/svg\" height=\"24px\"viewBox=\"0 0 24 24\"\n",
              "       width=\"24px\">\n",
              "    <path d=\"M0 0h24v24H0V0z\" fill=\"none\"/>\n",
              "    <path d=\"M18.56 5.44l.94 2.06.94-2.06 2.06-.94-2.06-.94-.94-2.06-.94 2.06-2.06.94zm-11 1L8.5 8.5l.94-2.06 2.06-.94-2.06-.94L8.5 2.5l-.94 2.06-2.06.94zm10 10l.94 2.06.94-2.06 2.06-.94-2.06-.94-.94-2.06-.94 2.06-2.06.94z\"/><path d=\"M17.41 7.96l-1.37-1.37c-.4-.4-.92-.59-1.43-.59-.52 0-1.04.2-1.43.59L10.3 9.45l-7.72 7.72c-.78.78-.78 2.05 0 2.83L4 21.41c.39.39.9.59 1.41.59.51 0 1.02-.2 1.41-.59l7.78-7.78 2.81-2.81c.8-.78.8-2.07 0-2.86zM5.41 20L4 18.59l7.72-7.72 1.47 1.35L5.41 20z\"/>\n",
              "  </svg>\n",
              "      </button>\n",
              "      \n",
              "  <style>\n",
              "    .colab-df-container {\n",
              "      display:flex;\n",
              "      flex-wrap:wrap;\n",
              "      gap: 12px;\n",
              "    }\n",
              "\n",
              "    .colab-df-convert {\n",
              "      background-color: #E8F0FE;\n",
              "      border: none;\n",
              "      border-radius: 50%;\n",
              "      cursor: pointer;\n",
              "      display: none;\n",
              "      fill: #1967D2;\n",
              "      height: 32px;\n",
              "      padding: 0 0 0 0;\n",
              "      width: 32px;\n",
              "    }\n",
              "\n",
              "    .colab-df-convert:hover {\n",
              "      background-color: #E2EBFA;\n",
              "      box-shadow: 0px 1px 2px rgba(60, 64, 67, 0.3), 0px 1px 3px 1px rgba(60, 64, 67, 0.15);\n",
              "      fill: #174EA6;\n",
              "    }\n",
              "\n",
              "    [theme=dark] .colab-df-convert {\n",
              "      background-color: #3B4455;\n",
              "      fill: #D2E3FC;\n",
              "    }\n",
              "\n",
              "    [theme=dark] .colab-df-convert:hover {\n",
              "      background-color: #434B5C;\n",
              "      box-shadow: 0px 1px 3px 1px rgba(0, 0, 0, 0.15);\n",
              "      filter: drop-shadow(0px 1px 2px rgba(0, 0, 0, 0.3));\n",
              "      fill: #FFFFFF;\n",
              "    }\n",
              "  </style>\n",
              "\n",
              "      <script>\n",
              "        const buttonEl =\n",
              "          document.querySelector('#df-0de1e9e6-2947-4ac0-9002-600c9dae940b button.colab-df-convert');\n",
              "        buttonEl.style.display =\n",
              "          google.colab.kernel.accessAllowed ? 'block' : 'none';\n",
              "\n",
              "        async function convertToInteractive(key) {\n",
              "          const element = document.querySelector('#df-0de1e9e6-2947-4ac0-9002-600c9dae940b');\n",
              "          const dataTable =\n",
              "            await google.colab.kernel.invokeFunction('convertToInteractive',\n",
              "                                                     [key], {});\n",
              "          if (!dataTable) return;\n",
              "\n",
              "          const docLinkHtml = 'Like what you see? Visit the ' +\n",
              "            '<a target=\"_blank\" href=https://colab.research.google.com/notebooks/data_table.ipynb>data table notebook</a>'\n",
              "            + ' to learn more about interactive tables.';\n",
              "          element.innerHTML = '';\n",
              "          dataTable['output_type'] = 'display_data';\n",
              "          await google.colab.output.renderOutput(dataTable, element);\n",
              "          const docLink = document.createElement('div');\n",
              "          docLink.innerHTML = docLinkHtml;\n",
              "          element.appendChild(docLink);\n",
              "        }\n",
              "      </script>\n",
              "    </div>\n",
              "  </div>\n",
              "  "
            ]
          },
          "metadata": {},
          "execution_count": 37
        }
      ]
    },
    {
      "cell_type": "markdown",
      "source": [
        "**BRILAND NOTE** Check timestamp generation with Tim & Huascar"
      ],
      "metadata": {
        "id": "V34al8iBEGmt"
      }
    },
    {
      "cell_type": "code",
      "source": [
        "df_email['sent_time'] = pd.to_datetime(df_email['timestamp_sent'])"
      ],
      "metadata": {
        "id": "0JXQbiqzDwzA"
      },
      "execution_count": 41,
      "outputs": []
    },
    {
      "cell_type": "code",
      "source": [
        "df_email.head()"
      ],
      "metadata": {
        "colab": {
          "base_uri": "https://localhost:8080/",
          "height": 496
        },
        "id": "SEV6L30UD7_D",
        "outputId": "f030fc3c-9de6-4fba-d70d-81837213d9b6"
      },
      "execution_count": 42,
      "outputs": [
        {
          "output_type": "execute_result",
          "data": {
            "text/plain": [
              "      id                                                url  mailing_list_id  \\\n",
              "0  30807  https://lkml.iu.edu/hypermail/linux/kernel/200...                1   \n",
              "1  30820  https://lkml.iu.edu/hypermail/linux/kernel/200...                1   \n",
              "2  31413  https://lkml.iu.edu/hypermail/linux/kernel/200...                1   \n",
              "3  31045  https://lkml.iu.edu/hypermail/linux/kernel/200...                1   \n",
              "4  31061  https://lkml.iu.edu/hypermail/linux/kernel/200...                1   \n",
              "\n",
              "         email_id                                         message_id  \\\n",
              "0  20200801110231       20200801150050.767038-2-masahiroy@kernel.org   \n",
              "1  20200801090629       20200801130856.86625-3-chenzhou10@huawei.com   \n",
              "2  20200801044951     20200801084721.1812607-4-songliubraving@fb.com   \n",
              "3  20200801130229     636faf6f-4c85-0582-2482-b99002888d0d@kernel.dk   \n",
              "4  20200801062550  d515fa07-5198-fc3c-24ac-d35aa4e08668@molgen.mp...   \n",
              "\n",
              "                                        reply_to_url  author_id  \\\n",
              "0  https://lkml.iu.edu/hypermail/linux/kernel/200...        208   \n",
              "1  https://lkml.iu.edu/hypermail/linux/kernel/200...       2724   \n",
              "2  https://lkml.iu.edu/hypermail/linux/kernel/200...       1062   \n",
              "3  https://lkml.iu.edu/hypermail/linux/kernel/200...        158   \n",
              "4                                               None       1977   \n",
              "\n",
              "   timestamp_sent  timestamp_recv  \\\n",
              "0      1596294151      1596297751   \n",
              "1      1596287189      1596290789   \n",
              "2      1596271791      1596275391   \n",
              "3      1596301349      1596304949   \n",
              "4      1596277550      1596281150   \n",
              "\n",
              "                                             subject  \\\n",
              "0  [PATCH 2/2] kbuild: stop filtering out $(GCC_P...   \n",
              "1  [PATCH v11 2/5] x86: kdump: move reserve_crash...   \n",
              "2  [PATCH bpf-next 3/5] selftests/bpf: add selfte...   \n",
              "3      Re: [PATCH] fs: optimise kiocb_set_rw_flags()   \n",
              "4   Re: xfs_reclaim_inodes_ag taking several seconds   \n",
              "\n",
              "                                                body  \\\n",
              "0  Commit d26e94149276 (\"kbuild: no gcc-plugins d...   \n",
              "1  In preparation for supporting reserve_crashker...   \n",
              "2  This test checks the correctness of BPF_PROG_T...   \n",
              "3  On 8/1/20 4:36 AM, Pavel Begunkov wrote:\\n><i>...   \n",
              "4  On 01.08.20 00:32, Dave Chinner wrote:\\n<block...   \n",
              "\n",
              "                                          clean_body  \\\n",
              "0  Commit d26e94149276 (\"kbuild: no gcc-plugins d...   \n",
              "1  In preparation for supporting reserve_crashker...   \n",
              "2  This test checks the correctness of BPF_PROG_T...   \n",
              "3  On 8/1/20 4:36 AM, Pavel Begunkov wrote:\\n><i>...   \n",
              "4  On 01.08.20 00:32, Dave Chinner wrote:\\n<block...   \n",
              "\n",
              "                                           thread_id persuasion  \\\n",
              "0       20200801150050.767038-1-masahiroy@kernel.org    Unknown   \n",
              "1       20200801130856.86625-1-chenzhou10@huawei.com    Unknown   \n",
              "2     20200801084721.1812607-1-songliubraving@fb.com    Unknown   \n",
              "3  e523f51f59ad6ecdad4ad22c560cb9c913e96e1a.15962...    Unknown   \n",
              "4  8284912e-b99a-31af-1901-a38ea03b8648@molgen.mp...    Unknown   \n",
              "\n",
              "                                 reply_to_message_id  \\\n",
              "0       20200801150050.767038-1-masahiroy@kernel.org   \n",
              "1       20200801130856.86625-1-chenzhou10@huawei.com   \n",
              "2     20200801084721.1812607-1-songliubraving@fb.com   \n",
              "3  e523f51f59ad6ecdad4ad22c560cb9c913e96e1a.15962...   \n",
              "4          20200731223255.GG2005@dread.disaster.area   \n",
              "\n",
              "                      sent_time  \n",
              "0 1970-01-01 00:00:01.596294151  \n",
              "1 1970-01-01 00:00:01.596287189  \n",
              "2 1970-01-01 00:00:01.596271791  \n",
              "3 1970-01-01 00:00:01.596301349  \n",
              "4 1970-01-01 00:00:01.596277550  "
            ],
            "text/html": [
              "\n",
              "  <div id=\"df-1d0b8259-873d-48f0-a273-6b16b2f7f3ae\">\n",
              "    <div class=\"colab-df-container\">\n",
              "      <div>\n",
              "<style scoped>\n",
              "    .dataframe tbody tr th:only-of-type {\n",
              "        vertical-align: middle;\n",
              "    }\n",
              "\n",
              "    .dataframe tbody tr th {\n",
              "        vertical-align: top;\n",
              "    }\n",
              "\n",
              "    .dataframe thead th {\n",
              "        text-align: right;\n",
              "    }\n",
              "</style>\n",
              "<table border=\"1\" class=\"dataframe\">\n",
              "  <thead>\n",
              "    <tr style=\"text-align: right;\">\n",
              "      <th></th>\n",
              "      <th>id</th>\n",
              "      <th>url</th>\n",
              "      <th>mailing_list_id</th>\n",
              "      <th>email_id</th>\n",
              "      <th>message_id</th>\n",
              "      <th>reply_to_url</th>\n",
              "      <th>author_id</th>\n",
              "      <th>timestamp_sent</th>\n",
              "      <th>timestamp_recv</th>\n",
              "      <th>subject</th>\n",
              "      <th>body</th>\n",
              "      <th>clean_body</th>\n",
              "      <th>thread_id</th>\n",
              "      <th>persuasion</th>\n",
              "      <th>reply_to_message_id</th>\n",
              "      <th>sent_time</th>\n",
              "    </tr>\n",
              "  </thead>\n",
              "  <tbody>\n",
              "    <tr>\n",
              "      <th>0</th>\n",
              "      <td>30807</td>\n",
              "      <td>https://lkml.iu.edu/hypermail/linux/kernel/200...</td>\n",
              "      <td>1</td>\n",
              "      <td>20200801110231</td>\n",
              "      <td>20200801150050.767038-2-masahiroy@kernel.org</td>\n",
              "      <td>https://lkml.iu.edu/hypermail/linux/kernel/200...</td>\n",
              "      <td>208</td>\n",
              "      <td>1596294151</td>\n",
              "      <td>1596297751</td>\n",
              "      <td>[PATCH 2/2] kbuild: stop filtering out $(GCC_P...</td>\n",
              "      <td>Commit d26e94149276 (\"kbuild: no gcc-plugins d...</td>\n",
              "      <td>Commit d26e94149276 (\"kbuild: no gcc-plugins d...</td>\n",
              "      <td>20200801150050.767038-1-masahiroy@kernel.org</td>\n",
              "      <td>Unknown</td>\n",
              "      <td>20200801150050.767038-1-masahiroy@kernel.org</td>\n",
              "      <td>1970-01-01 00:00:01.596294151</td>\n",
              "    </tr>\n",
              "    <tr>\n",
              "      <th>1</th>\n",
              "      <td>30820</td>\n",
              "      <td>https://lkml.iu.edu/hypermail/linux/kernel/200...</td>\n",
              "      <td>1</td>\n",
              "      <td>20200801090629</td>\n",
              "      <td>20200801130856.86625-3-chenzhou10@huawei.com</td>\n",
              "      <td>https://lkml.iu.edu/hypermail/linux/kernel/200...</td>\n",
              "      <td>2724</td>\n",
              "      <td>1596287189</td>\n",
              "      <td>1596290789</td>\n",
              "      <td>[PATCH v11 2/5] x86: kdump: move reserve_crash...</td>\n",
              "      <td>In preparation for supporting reserve_crashker...</td>\n",
              "      <td>In preparation for supporting reserve_crashker...</td>\n",
              "      <td>20200801130856.86625-1-chenzhou10@huawei.com</td>\n",
              "      <td>Unknown</td>\n",
              "      <td>20200801130856.86625-1-chenzhou10@huawei.com</td>\n",
              "      <td>1970-01-01 00:00:01.596287189</td>\n",
              "    </tr>\n",
              "    <tr>\n",
              "      <th>2</th>\n",
              "      <td>31413</td>\n",
              "      <td>https://lkml.iu.edu/hypermail/linux/kernel/200...</td>\n",
              "      <td>1</td>\n",
              "      <td>20200801044951</td>\n",
              "      <td>20200801084721.1812607-4-songliubraving@fb.com</td>\n",
              "      <td>https://lkml.iu.edu/hypermail/linux/kernel/200...</td>\n",
              "      <td>1062</td>\n",
              "      <td>1596271791</td>\n",
              "      <td>1596275391</td>\n",
              "      <td>[PATCH bpf-next 3/5] selftests/bpf: add selfte...</td>\n",
              "      <td>This test checks the correctness of BPF_PROG_T...</td>\n",
              "      <td>This test checks the correctness of BPF_PROG_T...</td>\n",
              "      <td>20200801084721.1812607-1-songliubraving@fb.com</td>\n",
              "      <td>Unknown</td>\n",
              "      <td>20200801084721.1812607-1-songliubraving@fb.com</td>\n",
              "      <td>1970-01-01 00:00:01.596271791</td>\n",
              "    </tr>\n",
              "    <tr>\n",
              "      <th>3</th>\n",
              "      <td>31045</td>\n",
              "      <td>https://lkml.iu.edu/hypermail/linux/kernel/200...</td>\n",
              "      <td>1</td>\n",
              "      <td>20200801130229</td>\n",
              "      <td>636faf6f-4c85-0582-2482-b99002888d0d@kernel.dk</td>\n",
              "      <td>https://lkml.iu.edu/hypermail/linux/kernel/200...</td>\n",
              "      <td>158</td>\n",
              "      <td>1596301349</td>\n",
              "      <td>1596304949</td>\n",
              "      <td>Re: [PATCH] fs: optimise kiocb_set_rw_flags()</td>\n",
              "      <td>On 8/1/20 4:36 AM, Pavel Begunkov wrote:\\n&gt;&lt;i&gt;...</td>\n",
              "      <td>On 8/1/20 4:36 AM, Pavel Begunkov wrote:\\n&gt;&lt;i&gt;...</td>\n",
              "      <td>e523f51f59ad6ecdad4ad22c560cb9c913e96e1a.15962...</td>\n",
              "      <td>Unknown</td>\n",
              "      <td>e523f51f59ad6ecdad4ad22c560cb9c913e96e1a.15962...</td>\n",
              "      <td>1970-01-01 00:00:01.596301349</td>\n",
              "    </tr>\n",
              "    <tr>\n",
              "      <th>4</th>\n",
              "      <td>31061</td>\n",
              "      <td>https://lkml.iu.edu/hypermail/linux/kernel/200...</td>\n",
              "      <td>1</td>\n",
              "      <td>20200801062550</td>\n",
              "      <td>d515fa07-5198-fc3c-24ac-d35aa4e08668@molgen.mp...</td>\n",
              "      <td>None</td>\n",
              "      <td>1977</td>\n",
              "      <td>1596277550</td>\n",
              "      <td>1596281150</td>\n",
              "      <td>Re: xfs_reclaim_inodes_ag taking several seconds</td>\n",
              "      <td>On 01.08.20 00:32, Dave Chinner wrote:\\n&lt;block...</td>\n",
              "      <td>On 01.08.20 00:32, Dave Chinner wrote:\\n&lt;block...</td>\n",
              "      <td>8284912e-b99a-31af-1901-a38ea03b8648@molgen.mp...</td>\n",
              "      <td>Unknown</td>\n",
              "      <td>20200731223255.GG2005@dread.disaster.area</td>\n",
              "      <td>1970-01-01 00:00:01.596277550</td>\n",
              "    </tr>\n",
              "  </tbody>\n",
              "</table>\n",
              "</div>\n",
              "      <button class=\"colab-df-convert\" onclick=\"convertToInteractive('df-1d0b8259-873d-48f0-a273-6b16b2f7f3ae')\"\n",
              "              title=\"Convert this dataframe to an interactive table.\"\n",
              "              style=\"display:none;\">\n",
              "        \n",
              "  <svg xmlns=\"http://www.w3.org/2000/svg\" height=\"24px\"viewBox=\"0 0 24 24\"\n",
              "       width=\"24px\">\n",
              "    <path d=\"M0 0h24v24H0V0z\" fill=\"none\"/>\n",
              "    <path d=\"M18.56 5.44l.94 2.06.94-2.06 2.06-.94-2.06-.94-.94-2.06-.94 2.06-2.06.94zm-11 1L8.5 8.5l.94-2.06 2.06-.94-2.06-.94L8.5 2.5l-.94 2.06-2.06.94zm10 10l.94 2.06.94-2.06 2.06-.94-2.06-.94-.94-2.06-.94 2.06-2.06.94z\"/><path d=\"M17.41 7.96l-1.37-1.37c-.4-.4-.92-.59-1.43-.59-.52 0-1.04.2-1.43.59L10.3 9.45l-7.72 7.72c-.78.78-.78 2.05 0 2.83L4 21.41c.39.39.9.59 1.41.59.51 0 1.02-.2 1.41-.59l7.78-7.78 2.81-2.81c.8-.78.8-2.07 0-2.86zM5.41 20L4 18.59l7.72-7.72 1.47 1.35L5.41 20z\"/>\n",
              "  </svg>\n",
              "      </button>\n",
              "      \n",
              "  <style>\n",
              "    .colab-df-container {\n",
              "      display:flex;\n",
              "      flex-wrap:wrap;\n",
              "      gap: 12px;\n",
              "    }\n",
              "\n",
              "    .colab-df-convert {\n",
              "      background-color: #E8F0FE;\n",
              "      border: none;\n",
              "      border-radius: 50%;\n",
              "      cursor: pointer;\n",
              "      display: none;\n",
              "      fill: #1967D2;\n",
              "      height: 32px;\n",
              "      padding: 0 0 0 0;\n",
              "      width: 32px;\n",
              "    }\n",
              "\n",
              "    .colab-df-convert:hover {\n",
              "      background-color: #E2EBFA;\n",
              "      box-shadow: 0px 1px 2px rgba(60, 64, 67, 0.3), 0px 1px 3px 1px rgba(60, 64, 67, 0.15);\n",
              "      fill: #174EA6;\n",
              "    }\n",
              "\n",
              "    [theme=dark] .colab-df-convert {\n",
              "      background-color: #3B4455;\n",
              "      fill: #D2E3FC;\n",
              "    }\n",
              "\n",
              "    [theme=dark] .colab-df-convert:hover {\n",
              "      background-color: #434B5C;\n",
              "      box-shadow: 0px 1px 3px 1px rgba(0, 0, 0, 0.15);\n",
              "      filter: drop-shadow(0px 1px 2px rgba(0, 0, 0, 0.3));\n",
              "      fill: #FFFFFF;\n",
              "    }\n",
              "  </style>\n",
              "\n",
              "      <script>\n",
              "        const buttonEl =\n",
              "          document.querySelector('#df-1d0b8259-873d-48f0-a273-6b16b2f7f3ae button.colab-df-convert');\n",
              "        buttonEl.style.display =\n",
              "          google.colab.kernel.accessAllowed ? 'block' : 'none';\n",
              "\n",
              "        async function convertToInteractive(key) {\n",
              "          const element = document.querySelector('#df-1d0b8259-873d-48f0-a273-6b16b2f7f3ae');\n",
              "          const dataTable =\n",
              "            await google.colab.kernel.invokeFunction('convertToInteractive',\n",
              "                                                     [key], {});\n",
              "          if (!dataTable) return;\n",
              "\n",
              "          const docLinkHtml = 'Like what you see? Visit the ' +\n",
              "            '<a target=\"_blank\" href=https://colab.research.google.com/notebooks/data_table.ipynb>data table notebook</a>'\n",
              "            + ' to learn more about interactive tables.';\n",
              "          element.innerHTML = '';\n",
              "          dataTable['output_type'] = 'display_data';\n",
              "          await google.colab.output.renderOutput(dataTable, element);\n",
              "          const docLink = document.createElement('div');\n",
              "          docLink.innerHTML = docLinkHtml;\n",
              "          element.appendChild(docLink);\n",
              "        }\n",
              "      </script>\n",
              "    </div>\n",
              "  </div>\n",
              "  "
            ]
          },
          "metadata": {},
          "execution_count": 42
        }
      ]
    },
    {
      "cell_type": "code",
      "source": [
        "total_email_records = get_record_count(table_name='email')\n",
        "print(f\"In total, there are {total_email_records:,} email records in the database.\")"
      ],
      "metadata": {
        "colab": {
          "base_uri": "https://localhost:8080/"
        },
        "id": "XyoKEdbL9LXb",
        "outputId": "1774e791-212b-4375-9348-991880d3cec8"
      },
      "execution_count": 38,
      "outputs": [
        {
          "output_type": "stream",
          "name": "stdout",
          "text": [
            "In total, there are 73,069 email records in the database.\n"
          ]
        }
      ]
    },
    {
      "cell_type": "markdown",
      "source": [
        "### &#9759; Patches Data"
      ],
      "metadata": {
        "id": "fbWarhXhy0ob"
      }
    },
    {
      "cell_type": "code",
      "source": [
        "total_patch_records = get_record_count(table_name='scraped_patches')\n",
        "print(f\"In total, there are {total_patch_records:,} patch records in the database.\")"
      ],
      "metadata": {
        "colab": {
          "base_uri": "https://localhost:8080/"
        },
        "id": "IvTknH-ay7Pw",
        "outputId": "05cda92d-da06-41cb-e1fc-845fb1942243"
      },
      "execution_count": 43,
      "outputs": [
        {
          "output_type": "stream",
          "name": "stdout",
          "text": [
            "In total, there are 938,137 patch records in the database.\n"
          ]
        }
      ]
    },
    {
      "cell_type": "code",
      "source": [
        "df_patches = signal.query_dataframe(f\"SELECT * FROM scraped_patches;\")"
      ],
      "metadata": {
        "id": "cNdyDBNuy7JR"
      },
      "execution_count": 44,
      "outputs": []
    },
    {
      "cell_type": "code",
      "source": [
        "df_patches.info()"
      ],
      "metadata": {
        "colab": {
          "base_uri": "https://localhost:8080/"
        },
        "id": "3aBLpbIHy7Aj",
        "outputId": "6af07afe-6ca5-46d2-9c97-2f28bbada660"
      },
      "execution_count": 45,
      "outputs": [
        {
          "output_type": "stream",
          "name": "stdout",
          "text": [
            "<class 'pandas.core.frame.DataFrame'>\n",
            "RangeIndex: 938137 entries, 0 to 938136\n",
            "Data columns (total 17 columns):\n",
            " #   Column         Non-Null Count   Dtype  \n",
            "---  ------         --------------   -----  \n",
            " 0   id             938137 non-null  int64  \n",
            " 1   project_id     938137 non-null  int64  \n",
            " 2   patch_id       938137 non-null  int64  \n",
            " 3   mail_id        938137 non-null  object \n",
            " 4   name           938137 non-null  object \n",
            " 5   series_id      935162 non-null  float64\n",
            " 6   ack_count      938137 non-null  int64  \n",
            " 7   review_count   938137 non-null  int64  \n",
            " 8   tested_count   938137 non-null  int64  \n",
            " 9   success_count  938137 non-null  int64  \n",
            " 10  warning_count  938137 non-null  int64  \n",
            " 11  fail_count     938137 non-null  int64  \n",
            " 12  date           938137 non-null  object \n",
            " 13  submitter_id   938137 non-null  int64  \n",
            " 14  delegate       125878 non-null  object \n",
            " 15  state          938137 non-null  object \n",
            " 16  commit_hash    0 non-null       object \n",
            "dtypes: float64(1), int64(10), object(6)\n",
            "memory usage: 121.7+ MB\n"
          ]
        }
      ]
    },
    {
      "cell_type": "code",
      "source": [
        "df_patches.head()"
      ],
      "metadata": {
        "colab": {
          "base_uri": "https://localhost:8080/",
          "height": 337
        },
        "id": "bin785qhFYur",
        "outputId": "ef27b6c9-3954-4aef-87e6-26bffc099403"
      },
      "execution_count": 46,
      "outputs": [
        {
          "output_type": "execute_result",
          "data": {
            "text/plain": [
              "   id  project_id  patch_id  \\\n",
              "0   1           1  11614315   \n",
              "1   2           1  11611413   \n",
              "2   3           1  11611417   \n",
              "3   4           1  11611415   \n",
              "4   5           1  11610073   \n",
              "\n",
              "                                             mail_id  \\\n",
              "0                     20200619142922.GA267142@mwanda   \n",
              "1  1592458104-2961-4-git-send-email-akolli@codeau...   \n",
              "2  1592458104-2961-3-git-send-email-akolli@codeau...   \n",
              "3  1592458104-2961-2-git-send-email-akolli@codeau...   \n",
              "4          20200617150021.4183253-3-john@phrozen.org   \n",
              "\n",
              "                                                name  series_id  ack_count  \\\n",
              "0  [net-next] ath11k: fix uninitialized return in...        1.0          0   \n",
              "1               [v3,3/3] ath11k: add IPQ6018 support        2.0          0   \n",
              "2  [v3,2/3] ath11k: copy ce service configs to hw...        2.0          0   \n",
              "3  [v3,1/3] dt: bindings: net: update compatible ...        2.0          0   \n",
              "4         [3/3] ath11k: add support for BSS coloring        3.0          0   \n",
              "\n",
              "   review_count  tested_count  success_count  warning_count  fail_count  \\\n",
              "0             0             0              0              0           0   \n",
              "1             0             0              0              0           0   \n",
              "2             0             0              0              0           0   \n",
              "3             0             0              0              0           0   \n",
              "4             0             0              0              0           0   \n",
              "\n",
              "                  date  submitter_id delegate state commit_hash  \n",
              "0  2020-06-19T00:00:00             1     None   New        None  \n",
              "1  2020-06-18T00:00:00             2     None   New        None  \n",
              "2  2020-06-18T00:00:00             2     None   New        None  \n",
              "3  2020-06-18T00:00:00             2     None   New        None  \n",
              "4  2020-06-17T00:00:00             3     None   New        None  "
            ],
            "text/html": [
              "\n",
              "  <div id=\"df-a6adbb1e-5125-4780-8bd1-a0dc8f7a670f\">\n",
              "    <div class=\"colab-df-container\">\n",
              "      <div>\n",
              "<style scoped>\n",
              "    .dataframe tbody tr th:only-of-type {\n",
              "        vertical-align: middle;\n",
              "    }\n",
              "\n",
              "    .dataframe tbody tr th {\n",
              "        vertical-align: top;\n",
              "    }\n",
              "\n",
              "    .dataframe thead th {\n",
              "        text-align: right;\n",
              "    }\n",
              "</style>\n",
              "<table border=\"1\" class=\"dataframe\">\n",
              "  <thead>\n",
              "    <tr style=\"text-align: right;\">\n",
              "      <th></th>\n",
              "      <th>id</th>\n",
              "      <th>project_id</th>\n",
              "      <th>patch_id</th>\n",
              "      <th>mail_id</th>\n",
              "      <th>name</th>\n",
              "      <th>series_id</th>\n",
              "      <th>ack_count</th>\n",
              "      <th>review_count</th>\n",
              "      <th>tested_count</th>\n",
              "      <th>success_count</th>\n",
              "      <th>warning_count</th>\n",
              "      <th>fail_count</th>\n",
              "      <th>date</th>\n",
              "      <th>submitter_id</th>\n",
              "      <th>delegate</th>\n",
              "      <th>state</th>\n",
              "      <th>commit_hash</th>\n",
              "    </tr>\n",
              "  </thead>\n",
              "  <tbody>\n",
              "    <tr>\n",
              "      <th>0</th>\n",
              "      <td>1</td>\n",
              "      <td>1</td>\n",
              "      <td>11614315</td>\n",
              "      <td>20200619142922.GA267142@mwanda</td>\n",
              "      <td>[net-next] ath11k: fix uninitialized return in...</td>\n",
              "      <td>1.0</td>\n",
              "      <td>0</td>\n",
              "      <td>0</td>\n",
              "      <td>0</td>\n",
              "      <td>0</td>\n",
              "      <td>0</td>\n",
              "      <td>0</td>\n",
              "      <td>2020-06-19T00:00:00</td>\n",
              "      <td>1</td>\n",
              "      <td>None</td>\n",
              "      <td>New</td>\n",
              "      <td>None</td>\n",
              "    </tr>\n",
              "    <tr>\n",
              "      <th>1</th>\n",
              "      <td>2</td>\n",
              "      <td>1</td>\n",
              "      <td>11611413</td>\n",
              "      <td>1592458104-2961-4-git-send-email-akolli@codeau...</td>\n",
              "      <td>[v3,3/3] ath11k: add IPQ6018 support</td>\n",
              "      <td>2.0</td>\n",
              "      <td>0</td>\n",
              "      <td>0</td>\n",
              "      <td>0</td>\n",
              "      <td>0</td>\n",
              "      <td>0</td>\n",
              "      <td>0</td>\n",
              "      <td>2020-06-18T00:00:00</td>\n",
              "      <td>2</td>\n",
              "      <td>None</td>\n",
              "      <td>New</td>\n",
              "      <td>None</td>\n",
              "    </tr>\n",
              "    <tr>\n",
              "      <th>2</th>\n",
              "      <td>3</td>\n",
              "      <td>1</td>\n",
              "      <td>11611417</td>\n",
              "      <td>1592458104-2961-3-git-send-email-akolli@codeau...</td>\n",
              "      <td>[v3,2/3] ath11k: copy ce service configs to hw...</td>\n",
              "      <td>2.0</td>\n",
              "      <td>0</td>\n",
              "      <td>0</td>\n",
              "      <td>0</td>\n",
              "      <td>0</td>\n",
              "      <td>0</td>\n",
              "      <td>0</td>\n",
              "      <td>2020-06-18T00:00:00</td>\n",
              "      <td>2</td>\n",
              "      <td>None</td>\n",
              "      <td>New</td>\n",
              "      <td>None</td>\n",
              "    </tr>\n",
              "    <tr>\n",
              "      <th>3</th>\n",
              "      <td>4</td>\n",
              "      <td>1</td>\n",
              "      <td>11611415</td>\n",
              "      <td>1592458104-2961-2-git-send-email-akolli@codeau...</td>\n",
              "      <td>[v3,1/3] dt: bindings: net: update compatible ...</td>\n",
              "      <td>2.0</td>\n",
              "      <td>0</td>\n",
              "      <td>0</td>\n",
              "      <td>0</td>\n",
              "      <td>0</td>\n",
              "      <td>0</td>\n",
              "      <td>0</td>\n",
              "      <td>2020-06-18T00:00:00</td>\n",
              "      <td>2</td>\n",
              "      <td>None</td>\n",
              "      <td>New</td>\n",
              "      <td>None</td>\n",
              "    </tr>\n",
              "    <tr>\n",
              "      <th>4</th>\n",
              "      <td>5</td>\n",
              "      <td>1</td>\n",
              "      <td>11610073</td>\n",
              "      <td>20200617150021.4183253-3-john@phrozen.org</td>\n",
              "      <td>[3/3] ath11k: add support for BSS coloring</td>\n",
              "      <td>3.0</td>\n",
              "      <td>0</td>\n",
              "      <td>0</td>\n",
              "      <td>0</td>\n",
              "      <td>0</td>\n",
              "      <td>0</td>\n",
              "      <td>0</td>\n",
              "      <td>2020-06-17T00:00:00</td>\n",
              "      <td>3</td>\n",
              "      <td>None</td>\n",
              "      <td>New</td>\n",
              "      <td>None</td>\n",
              "    </tr>\n",
              "  </tbody>\n",
              "</table>\n",
              "</div>\n",
              "      <button class=\"colab-df-convert\" onclick=\"convertToInteractive('df-a6adbb1e-5125-4780-8bd1-a0dc8f7a670f')\"\n",
              "              title=\"Convert this dataframe to an interactive table.\"\n",
              "              style=\"display:none;\">\n",
              "        \n",
              "  <svg xmlns=\"http://www.w3.org/2000/svg\" height=\"24px\"viewBox=\"0 0 24 24\"\n",
              "       width=\"24px\">\n",
              "    <path d=\"M0 0h24v24H0V0z\" fill=\"none\"/>\n",
              "    <path d=\"M18.56 5.44l.94 2.06.94-2.06 2.06-.94-2.06-.94-.94-2.06-.94 2.06-2.06.94zm-11 1L8.5 8.5l.94-2.06 2.06-.94-2.06-.94L8.5 2.5l-.94 2.06-2.06.94zm10 10l.94 2.06.94-2.06 2.06-.94-2.06-.94-.94-2.06-.94 2.06-2.06.94z\"/><path d=\"M17.41 7.96l-1.37-1.37c-.4-.4-.92-.59-1.43-.59-.52 0-1.04.2-1.43.59L10.3 9.45l-7.72 7.72c-.78.78-.78 2.05 0 2.83L4 21.41c.39.39.9.59 1.41.59.51 0 1.02-.2 1.41-.59l7.78-7.78 2.81-2.81c.8-.78.8-2.07 0-2.86zM5.41 20L4 18.59l7.72-7.72 1.47 1.35L5.41 20z\"/>\n",
              "  </svg>\n",
              "      </button>\n",
              "      \n",
              "  <style>\n",
              "    .colab-df-container {\n",
              "      display:flex;\n",
              "      flex-wrap:wrap;\n",
              "      gap: 12px;\n",
              "    }\n",
              "\n",
              "    .colab-df-convert {\n",
              "      background-color: #E8F0FE;\n",
              "      border: none;\n",
              "      border-radius: 50%;\n",
              "      cursor: pointer;\n",
              "      display: none;\n",
              "      fill: #1967D2;\n",
              "      height: 32px;\n",
              "      padding: 0 0 0 0;\n",
              "      width: 32px;\n",
              "    }\n",
              "\n",
              "    .colab-df-convert:hover {\n",
              "      background-color: #E2EBFA;\n",
              "      box-shadow: 0px 1px 2px rgba(60, 64, 67, 0.3), 0px 1px 3px 1px rgba(60, 64, 67, 0.15);\n",
              "      fill: #174EA6;\n",
              "    }\n",
              "\n",
              "    [theme=dark] .colab-df-convert {\n",
              "      background-color: #3B4455;\n",
              "      fill: #D2E3FC;\n",
              "    }\n",
              "\n",
              "    [theme=dark] .colab-df-convert:hover {\n",
              "      background-color: #434B5C;\n",
              "      box-shadow: 0px 1px 3px 1px rgba(0, 0, 0, 0.15);\n",
              "      filter: drop-shadow(0px 1px 2px rgba(0, 0, 0, 0.3));\n",
              "      fill: #FFFFFF;\n",
              "    }\n",
              "  </style>\n",
              "\n",
              "      <script>\n",
              "        const buttonEl =\n",
              "          document.querySelector('#df-a6adbb1e-5125-4780-8bd1-a0dc8f7a670f button.colab-df-convert');\n",
              "        buttonEl.style.display =\n",
              "          google.colab.kernel.accessAllowed ? 'block' : 'none';\n",
              "\n",
              "        async function convertToInteractive(key) {\n",
              "          const element = document.querySelector('#df-a6adbb1e-5125-4780-8bd1-a0dc8f7a670f');\n",
              "          const dataTable =\n",
              "            await google.colab.kernel.invokeFunction('convertToInteractive',\n",
              "                                                     [key], {});\n",
              "          if (!dataTable) return;\n",
              "\n",
              "          const docLinkHtml = 'Like what you see? Visit the ' +\n",
              "            '<a target=\"_blank\" href=https://colab.research.google.com/notebooks/data_table.ipynb>data table notebook</a>'\n",
              "            + ' to learn more about interactive tables.';\n",
              "          element.innerHTML = '';\n",
              "          dataTable['output_type'] = 'display_data';\n",
              "          await google.colab.output.renderOutput(dataTable, element);\n",
              "          const docLink = document.createElement('div');\n",
              "          docLink.innerHTML = docLinkHtml;\n",
              "          element.appendChild(docLink);\n",
              "        }\n",
              "      </script>\n",
              "    </div>\n",
              "  </div>\n",
              "  "
            ]
          },
          "metadata": {},
          "execution_count": 46
        }
      ]
    },
    {
      "cell_type": "code",
      "source": [
        "tmp_state = df_patches.groupby(df_patches['state']).size().sort_values()\n",
        "tmp_state"
      ],
      "metadata": {
        "colab": {
          "base_uri": "https://localhost:8080/"
        },
        "id": "yfEOAyNfFfAU",
        "outputId": "2d710d10-4b5f-4b42-a5c4-3ca055e3b103"
      },
      "execution_count": 47,
      "outputs": [
        {
          "output_type": "execute_result",
          "data": {
            "text/plain": [
              "state\n",
              "Needs ACK                48\n",
              "In Next                 124\n",
              "Under Review            744\n",
              "Queued                  941\n",
              "Rejected               2136\n",
              "Deferred               4252\n",
              "RFC                    6300\n",
              "Awaiting Upstream      7308\n",
              "Handled Elsewhere      7809\n",
              "Mainlined             14739\n",
              "Changes Requested     26867\n",
              "Not Applicable        49217\n",
              "Accepted              91480\n",
              "Superseded           135830\n",
              "New                  590342\n",
              "dtype: int64"
            ]
          },
          "metadata": {},
          "execution_count": 47
        }
      ]
    },
    {
      "cell_type": "code",
      "source": [
        "tmp_state.plot.barh(title=\"Patch State Records\", xlabel=\"State\", ylabel=\"Number of records\", log=True, figsize=(20,8))"
      ],
      "metadata": {
        "colab": {
          "base_uri": "https://localhost:8080/",
          "height": 516
        },
        "id": "V5uJnXEbFtQX",
        "outputId": "8be7b2f3-2062-4c10-ae4b-2c5122aa38d4"
      },
      "execution_count": 51,
      "outputs": [
        {
          "output_type": "execute_result",
          "data": {
            "text/plain": [
              "<AxesSubplot:title={'center':'Patch State Records'}, ylabel='State'>"
            ]
          },
          "metadata": {},
          "execution_count": 51
        },
        {
          "output_type": "display_data",
          "data": {
            "text/plain": [
              "<Figure size 1440x576 with 1 Axes>"
            ],
            "image/png": "[encoded data removed]"
          },
          "metadata": {
            "image/png": {
              "width": 1251,
              "height": 482
            },
            "needs_background": "light"
          }
        }
      ]
    },
    {
      "cell_type": "markdown",
      "source": [
        "<font color='red'>The cells below correspond to the lkmlByPatches.csv data and are to be removed/replaced with the corresponding SIGNAL API queries once the later become available.</font>"
      ],
      "metadata": {
        "id": "MskhpymW8iIK"
      }
    },
    {
      "cell_type": "code",
      "source": [
        "# patch data\n",
        "patches_data_file = utils.gdrive.get_dataset(dataset_name='lkml_email_patches_data.zip', is_local_file=False, name2gdid=DATA_DICT)"
      ],
      "metadata": {
        "id": "0Bik_Nrdycuq"
      },
      "execution_count": 13,
      "outputs": []
    },
    {
      "cell_type": "code",
      "source": [
        "patches_data_file"
      ],
      "metadata": {
        "colab": {
          "base_uri": "https://localhost:8080/",
          "height": 35
        },
        "id": "Zl2CEzJrzQJG",
        "outputId": "2a93b223-9840-4937-f389-993dff594724"
      },
      "execution_count": 14,
      "outputs": [
        {
          "output_type": "execute_result",
          "data": {
            "text/plain": [
              "'/content/funcs/lkml_email_patches_data.zip'"
            ],
            "application/vnd.google.colaboratory.intrinsic+json": {
              "type": "string"
            }
          },
          "metadata": {},
          "execution_count": 14
        }
      ]
    },
    {
      "cell_type": "code",
      "source": [
        "with zipfile.ZipFile(f'{patches_data_file}', 'r') as lk_data:\n",
        "    lk_data.extractall('./lkml_data')"
      ],
      "metadata": {
        "id": "cgqZUp0m1B2c"
      },
      "execution_count": 15,
      "outputs": []
    },
    {
      "cell_type": "code",
      "source": [
        "path_patches_data = os.path.join(os.getcwd(), 'lkml_data', 'lkml_email_patches_data', 'lkmlByPatches.csv')\n",
        "path_patches_data"
      ],
      "metadata": {
        "colab": {
          "base_uri": "https://localhost:8080/",
          "height": 35
        },
        "id": "B4gvR9Y61ByX",
        "outputId": "4617f969-7d97-42f2-b89b-ffeb1521c8b8"
      },
      "execution_count": 16,
      "outputs": [
        {
          "output_type": "execute_result",
          "data": {
            "text/plain": [
              "'/content/funcs/lkml_data/lkml_email_patches_data/lkmlByPatches.csv'"
            ],
            "application/vnd.google.colaboratory.intrinsic+json": {
              "type": "string"
            }
          },
          "metadata": {},
          "execution_count": 16
        }
      ]
    },
    {
      "cell_type": "code",
      "source": [
        "df_lkmlby_patches = pd.read_csv(path_patches_data)"
      ],
      "metadata": {
        "id": "dLgZ7TXk1Bu5"
      },
      "execution_count": 17,
      "outputs": []
    },
    {
      "cell_type": "code",
      "source": [
        "df_lkmlby_patches.info()"
      ],
      "metadata": {
        "colab": {
          "base_uri": "https://localhost:8080/"
        },
        "id": "i_T7oU2I2Tmu",
        "outputId": "e8754a8a-217c-482c-ea0a-d5e995c7873d"
      },
      "execution_count": 18,
      "outputs": [
        {
          "output_type": "stream",
          "name": "stdout",
          "text": [
            "<class 'pandas.core.frame.DataFrame'>\n",
            "RangeIndex: 130864 entries, 0 to 130863\n",
            "Data columns (total 10 columns):\n",
            " #   Column     Non-Null Count   Dtype  \n",
            "---  ------     --------------   -----  \n",
            " 0   id         130864 non-null  int64  \n",
            " 1   project    130864 non-null  object \n",
            " 2   date       130864 non-null  float64\n",
            " 3   filename   130861 non-null  object \n",
            " 4   msgid      130864 non-null  object \n",
            " 5   name       130861 non-null  object \n",
            " 6   state      130864 non-null  object \n",
            " 7   submitter  130864 non-null  object \n",
            " 8   commit     61482 non-null   object \n",
            " 9   hash       128369 non-null  object \n",
            "dtypes: float64(1), int64(1), object(8)\n",
            "memory usage: 10.0+ MB\n"
          ]
        }
      ]
    },
    {
      "cell_type": "code",
      "source": [
        "df_lkmlby_patches.head()"
      ],
      "metadata": {
        "colab": {
          "base_uri": "https://localhost:8080/",
          "height": 250
        },
        "id": "8E6Y58WP2TkJ",
        "outputId": "8e7f6fd4-3e2c-4d65-a224-25fc3b018d2a"
      },
      "execution_count": 19,
      "outputs": [
        {
          "output_type": "execute_result",
          "data": {
            "text/plain": [
              "         id                      project          date  \\\n",
              "0  11052191  Linux Wireless Mailing List  1.563820e+09   \n",
              "1  11052195  Linux Wireless Mailing List  1.563820e+09   \n",
              "2  11117603  Linux Wireless Mailing List  1.566971e+09   \n",
              "3  11117605  Linux Wireless Mailing List  1.566971e+09   \n",
              "4  11119923  Linux Wireless Mailing List  1.567052e+09   \n",
              "\n",
              "                                            filename  \\\n",
              "0  v4-1-3-nl80211-Update-uapi-for-CMD_FRAME_WAIT_...   \n",
              "1  v4-3-3-nl80211-Include-wiphy-address-setup-in-...   \n",
              "2  1-2-mac80211-Don-t-memset-RXCB-prior-to-PAE-in...   \n",
              "3  2-2-mac80211-Correctly-set-noencrypt-for-PAE-f...   \n",
              "4  cfg80211-Purge-frame-registrations-on-iftype-c...   \n",
              "\n",
              "                                        msgid  \\\n",
              "0  <20190722113312.14031-1-denkenz@gmail.com>   \n",
              "1  <20190722113312.14031-3-denkenz@gmail.com>   \n",
              "2  <20190827224120.14545-2-denkenz@gmail.com>   \n",
              "3  <20190827224120.14545-3-denkenz@gmail.com>   \n",
              "4  <20190828211110.15005-1-denkenz@gmail.com>   \n",
              "\n",
              "                                                name     state  \\\n",
              "0  [v4,1/3] nl80211: Update uapi for CMD_FRAME_WA...  Accepted   \n",
              "1  [v4,3/3] nl80211: Include wiphy address setup ...  Accepted   \n",
              "2  [1/2] mac80211: Don't memset RXCB prior to PAE...  Accepted   \n",
              "3  [2/2] mac80211: Correctly set noencrypt for PA...  Accepted   \n",
              "4  cfg80211: Purge frame registrations on iftype ...  Accepted   \n",
              "\n",
              "                           submitter commit  \\\n",
              "0  Denis Kenzior <denkenz@gmail.com>    NaN   \n",
              "1  Denis Kenzior <denkenz@gmail.com>    NaN   \n",
              "2  Denis Kenzior <denkenz@gmail.com>    NaN   \n",
              "3  Denis Kenzior <denkenz@gmail.com>    NaN   \n",
              "4  Denis Kenzior <denkenz@gmail.com>    NaN   \n",
              "\n",
              "                                       hash  \n",
              "0  08322f85498bd5735275bf3626194d531bd58d05  \n",
              "1  678efa2da3b96691e9fc11fdb1eadc10e2184f7e  \n",
              "2  2905c51a09ce9680eaadea6fc37c4319b31a6f79  \n",
              "3  4a8754dda8a4f5ed5b21dfc977d10bb70b9baf29  \n",
              "4  eda432593b03a9194e82df03f61bc8b83087b32d  "
            ],
            "text/html": [
              "\n",
              "  <div id=\"df-44783f3a-28c3-4c36-ae5f-f8e38de4d24e\">\n",
              "    <div class=\"colab-df-container\">\n",
              "      <div>\n",
              "<style scoped>\n",
              "    .dataframe tbody tr th:only-of-type {\n",
              "        vertical-align: middle;\n",
              "    }\n",
              "\n",
              "    .dataframe tbody tr th {\n",
              "        vertical-align: top;\n",
              "    }\n",
              "\n",
              "    .dataframe thead th {\n",
              "        text-align: right;\n",
              "    }\n",
              "</style>\n",
              "<table border=\"1\" class=\"dataframe\">\n",
              "  <thead>\n",
              "    <tr style=\"text-align: right;\">\n",
              "      <th></th>\n",
              "      <th>id</th>\n",
              "      <th>project</th>\n",
              "      <th>date</th>\n",
              "      <th>filename</th>\n",
              "      <th>msgid</th>\n",
              "      <th>name</th>\n",
              "      <th>state</th>\n",
              "      <th>submitter</th>\n",
              "      <th>commit</th>\n",
              "      <th>hash</th>\n",
              "    </tr>\n",
              "  </thead>\n",
              "  <tbody>\n",
              "    <tr>\n",
              "      <th>0</th>\n",
              "      <td>11052191</td>\n",
              "      <td>Linux Wireless Mailing List</td>\n",
              "      <td>1.563820e+09</td>\n",
              "      <td>v4-1-3-nl80211-Update-uapi-for-CMD_FRAME_WAIT_...</td>\n",
              "      <td>&lt;20190722113312.14031-1-denkenz@gmail.com&gt;</td>\n",
              "      <td>[v4,1/3] nl80211: Update uapi for CMD_FRAME_WA...</td>\n",
              "      <td>Accepted</td>\n",
              "      <td>Denis Kenzior &lt;denkenz@gmail.com&gt;</td>\n",
              "      <td>NaN</td>\n",
              "      <td>08322f85498bd5735275bf3626194d531bd58d05</td>\n",
              "    </tr>\n",
              "    <tr>\n",
              "      <th>1</th>\n",
              "      <td>11052195</td>\n",
              "      <td>Linux Wireless Mailing List</td>\n",
              "      <td>1.563820e+09</td>\n",
              "      <td>v4-3-3-nl80211-Include-wiphy-address-setup-in-...</td>\n",
              "      <td>&lt;20190722113312.14031-3-denkenz@gmail.com&gt;</td>\n",
              "      <td>[v4,3/3] nl80211: Include wiphy address setup ...</td>\n",
              "      <td>Accepted</td>\n",
              "      <td>Denis Kenzior &lt;denkenz@gmail.com&gt;</td>\n",
              "      <td>NaN</td>\n",
              "      <td>678efa2da3b96691e9fc11fdb1eadc10e2184f7e</td>\n",
              "    </tr>\n",
              "    <tr>\n",
              "      <th>2</th>\n",
              "      <td>11117603</td>\n",
              "      <td>Linux Wireless Mailing List</td>\n",
              "      <td>1.566971e+09</td>\n",
              "      <td>1-2-mac80211-Don-t-memset-RXCB-prior-to-PAE-in...</td>\n",
              "      <td>&lt;20190827224120.14545-2-denkenz@gmail.com&gt;</td>\n",
              "      <td>[1/2] mac80211: Don't memset RXCB prior to PAE...</td>\n",
              "      <td>Accepted</td>\n",
              "      <td>Denis Kenzior &lt;denkenz@gmail.com&gt;</td>\n",
              "      <td>NaN</td>\n",
              "      <td>2905c51a09ce9680eaadea6fc37c4319b31a6f79</td>\n",
              "    </tr>\n",
              "    <tr>\n",
              "      <th>3</th>\n",
              "      <td>11117605</td>\n",
              "      <td>Linux Wireless Mailing List</td>\n",
              "      <td>1.566971e+09</td>\n",
              "      <td>2-2-mac80211-Correctly-set-noencrypt-for-PAE-f...</td>\n",
              "      <td>&lt;20190827224120.14545-3-denkenz@gmail.com&gt;</td>\n",
              "      <td>[2/2] mac80211: Correctly set noencrypt for PA...</td>\n",
              "      <td>Accepted</td>\n",
              "      <td>Denis Kenzior &lt;denkenz@gmail.com&gt;</td>\n",
              "      <td>NaN</td>\n",
              "      <td>4a8754dda8a4f5ed5b21dfc977d10bb70b9baf29</td>\n",
              "    </tr>\n",
              "    <tr>\n",
              "      <th>4</th>\n",
              "      <td>11119923</td>\n",
              "      <td>Linux Wireless Mailing List</td>\n",
              "      <td>1.567052e+09</td>\n",
              "      <td>cfg80211-Purge-frame-registrations-on-iftype-c...</td>\n",
              "      <td>&lt;20190828211110.15005-1-denkenz@gmail.com&gt;</td>\n",
              "      <td>cfg80211: Purge frame registrations on iftype ...</td>\n",
              "      <td>Accepted</td>\n",
              "      <td>Denis Kenzior &lt;denkenz@gmail.com&gt;</td>\n",
              "      <td>NaN</td>\n",
              "      <td>eda432593b03a9194e82df03f61bc8b83087b32d</td>\n",
              "    </tr>\n",
              "  </tbody>\n",
              "</table>\n",
              "</div>\n",
              "      <button class=\"colab-df-convert\" onclick=\"convertToInteractive('df-44783f3a-28c3-4c36-ae5f-f8e38de4d24e')\"\n",
              "              title=\"Convert this dataframe to an interactive table.\"\n",
              "              style=\"display:none;\">\n",
              "        \n",
              "  <svg xmlns=\"http://www.w3.org/2000/svg\" height=\"24px\"viewBox=\"0 0 24 24\"\n",
              "       width=\"24px\">\n",
              "    <path d=\"M0 0h24v24H0V0z\" fill=\"none\"/>\n",
              "    <path d=\"M18.56 5.44l.94 2.06.94-2.06 2.06-.94-2.06-.94-.94-2.06-.94 2.06-2.06.94zm-11 1L8.5 8.5l.94-2.06 2.06-.94-2.06-.94L8.5 2.5l-.94 2.06-2.06.94zm10 10l.94 2.06.94-2.06 2.06-.94-2.06-.94-.94-2.06-.94 2.06-2.06.94z\"/><path d=\"M17.41 7.96l-1.37-1.37c-.4-.4-.92-.59-1.43-.59-.52 0-1.04.2-1.43.59L10.3 9.45l-7.72 7.72c-.78.78-.78 2.05 0 2.83L4 21.41c.39.39.9.59 1.41.59.51 0 1.02-.2 1.41-.59l7.78-7.78 2.81-2.81c.8-.78.8-2.07 0-2.86zM5.41 20L4 18.59l7.72-7.72 1.47 1.35L5.41 20z\"/>\n",
              "  </svg>\n",
              "      </button>\n",
              "      \n",
              "  <style>\n",
              "    .colab-df-container {\n",
              "      display:flex;\n",
              "      flex-wrap:wrap;\n",
              "      gap: 12px;\n",
              "    }\n",
              "\n",
              "    .colab-df-convert {\n",
              "      background-color: #E8F0FE;\n",
              "      border: none;\n",
              "      border-radius: 50%;\n",
              "      cursor: pointer;\n",
              "      display: none;\n",
              "      fill: #1967D2;\n",
              "      height: 32px;\n",
              "      padding: 0 0 0 0;\n",
              "      width: 32px;\n",
              "    }\n",
              "\n",
              "    .colab-df-convert:hover {\n",
              "      background-color: #E2EBFA;\n",
              "      box-shadow: 0px 1px 2px rgba(60, 64, 67, 0.3), 0px 1px 3px 1px rgba(60, 64, 67, 0.15);\n",
              "      fill: #174EA6;\n",
              "    }\n",
              "\n",
              "    [theme=dark] .colab-df-convert {\n",
              "      background-color: #3B4455;\n",
              "      fill: #D2E3FC;\n",
              "    }\n",
              "\n",
              "    [theme=dark] .colab-df-convert:hover {\n",
              "      background-color: #434B5C;\n",
              "      box-shadow: 0px 1px 3px 1px rgba(0, 0, 0, 0.15);\n",
              "      filter: drop-shadow(0px 1px 2px rgba(0, 0, 0, 0.3));\n",
              "      fill: #FFFFFF;\n",
              "    }\n",
              "  </style>\n",
              "\n",
              "      <script>\n",
              "        const buttonEl =\n",
              "          document.querySelector('#df-44783f3a-28c3-4c36-ae5f-f8e38de4d24e button.colab-df-convert');\n",
              "        buttonEl.style.display =\n",
              "          google.colab.kernel.accessAllowed ? 'block' : 'none';\n",
              "\n",
              "        async function convertToInteractive(key) {\n",
              "          const element = document.querySelector('#df-44783f3a-28c3-4c36-ae5f-f8e38de4d24e');\n",
              "          const dataTable =\n",
              "            await google.colab.kernel.invokeFunction('convertToInteractive',\n",
              "                                                     [key], {});\n",
              "          if (!dataTable) return;\n",
              "\n",
              "          const docLinkHtml = 'Like what you see? Visit the ' +\n",
              "            '<a target=\"_blank\" href=https://colab.research.google.com/notebooks/data_table.ipynb>data table notebook</a>'\n",
              "            + ' to learn more about interactive tables.';\n",
              "          element.innerHTML = '';\n",
              "          dataTable['output_type'] = 'display_data';\n",
              "          await google.colab.output.renderOutput(dataTable, element);\n",
              "          const docLink = document.createElement('div');\n",
              "          docLink.innerHTML = docLinkHtml;\n",
              "          element.appendChild(docLink);\n",
              "        }\n",
              "      </script>\n",
              "    </div>\n",
              "  </div>\n",
              "  "
            ]
          },
          "metadata": {},
          "execution_count": 19
        }
      ]
    },
    {
      "cell_type": "code",
      "source": [
        "# projectID\n",
        "df_lkmlby_patches['projectID'] = df_lkmlby_patches['project'].factorize()[0]"
      ],
      "metadata": {
        "id": "nm9mlm0t2Tg_"
      },
      "execution_count": 20,
      "outputs": []
    },
    {
      "cell_type": "code",
      "source": [
        "# stateID\n",
        "df_lkmlby_patches['stateID'] = df_lkmlby_patches['state'].factorize()[0]"
      ],
      "metadata": {
        "id": "cy0tW0K02ga3"
      },
      "execution_count": 21,
      "outputs": []
    },
    {
      "cell_type": "code",
      "source": [
        "df_lkmlby_patches.drop_duplicates(inplace=True)"
      ],
      "metadata": {
        "id": "S8vDJ9nG2gXD"
      },
      "execution_count": 22,
      "outputs": []
    },
    {
      "cell_type": "code",
      "source": [
        "df_lkmlby_patches.head()"
      ],
      "metadata": {
        "colab": {
          "base_uri": "https://localhost:8080/",
          "height": 337
        },
        "id": "HfsuYDYK2gTy",
        "outputId": "2b9e4b8f-43a5-4034-db2c-295d097b6a3d"
      },
      "execution_count": 23,
      "outputs": [
        {
          "output_type": "execute_result",
          "data": {
            "text/plain": [
              "         id                      project          date  \\\n",
              "0  11052191  Linux Wireless Mailing List  1.563820e+09   \n",
              "1  11052195  Linux Wireless Mailing List  1.563820e+09   \n",
              "2  11117603  Linux Wireless Mailing List  1.566971e+09   \n",
              "3  11117605  Linux Wireless Mailing List  1.566971e+09   \n",
              "4  11119923  Linux Wireless Mailing List  1.567052e+09   \n",
              "\n",
              "                                            filename  \\\n",
              "0  v4-1-3-nl80211-Update-uapi-for-CMD_FRAME_WAIT_...   \n",
              "1  v4-3-3-nl80211-Include-wiphy-address-setup-in-...   \n",
              "2  1-2-mac80211-Don-t-memset-RXCB-prior-to-PAE-in...   \n",
              "3  2-2-mac80211-Correctly-set-noencrypt-for-PAE-f...   \n",
              "4  cfg80211-Purge-frame-registrations-on-iftype-c...   \n",
              "\n",
              "                                        msgid  \\\n",
              "0  <20190722113312.14031-1-denkenz@gmail.com>   \n",
              "1  <20190722113312.14031-3-denkenz@gmail.com>   \n",
              "2  <20190827224120.14545-2-denkenz@gmail.com>   \n",
              "3  <20190827224120.14545-3-denkenz@gmail.com>   \n",
              "4  <20190828211110.15005-1-denkenz@gmail.com>   \n",
              "\n",
              "                                                name     state  \\\n",
              "0  [v4,1/3] nl80211: Update uapi for CMD_FRAME_WA...  Accepted   \n",
              "1  [v4,3/3] nl80211: Include wiphy address setup ...  Accepted   \n",
              "2  [1/2] mac80211: Don't memset RXCB prior to PAE...  Accepted   \n",
              "3  [2/2] mac80211: Correctly set noencrypt for PA...  Accepted   \n",
              "4  cfg80211: Purge frame registrations on iftype ...  Accepted   \n",
              "\n",
              "                           submitter commit  \\\n",
              "0  Denis Kenzior <denkenz@gmail.com>    NaN   \n",
              "1  Denis Kenzior <denkenz@gmail.com>    NaN   \n",
              "2  Denis Kenzior <denkenz@gmail.com>    NaN   \n",
              "3  Denis Kenzior <denkenz@gmail.com>    NaN   \n",
              "4  Denis Kenzior <denkenz@gmail.com>    NaN   \n",
              "\n",
              "                                       hash  projectID  stateID  \n",
              "0  08322f85498bd5735275bf3626194d531bd58d05          0        0  \n",
              "1  678efa2da3b96691e9fc11fdb1eadc10e2184f7e          0        0  \n",
              "2  2905c51a09ce9680eaadea6fc37c4319b31a6f79          0        0  \n",
              "3  4a8754dda8a4f5ed5b21dfc977d10bb70b9baf29          0        0  \n",
              "4  eda432593b03a9194e82df03f61bc8b83087b32d          0        0  "
            ],
            "text/html": [
              "\n",
              "  <div id=\"df-94ae5c86-9b3e-4be8-b480-6fc7c56fd5f5\">\n",
              "    <div class=\"colab-df-container\">\n",
              "      <div>\n",
              "<style scoped>\n",
              "    .dataframe tbody tr th:only-of-type {\n",
              "        vertical-align: middle;\n",
              "    }\n",
              "\n",
              "    .dataframe tbody tr th {\n",
              "        vertical-align: top;\n",
              "    }\n",
              "\n",
              "    .dataframe thead th {\n",
              "        text-align: right;\n",
              "    }\n",
              "</style>\n",
              "<table border=\"1\" class=\"dataframe\">\n",
              "  <thead>\n",
              "    <tr style=\"text-align: right;\">\n",
              "      <th></th>\n",
              "      <th>id</th>\n",
              "      <th>project</th>\n",
              "      <th>date</th>\n",
              "      <th>filename</th>\n",
              "      <th>msgid</th>\n",
              "      <th>name</th>\n",
              "      <th>state</th>\n",
              "      <th>submitter</th>\n",
              "      <th>commit</th>\n",
              "      <th>hash</th>\n",
              "      <th>projectID</th>\n",
              "      <th>stateID</th>\n",
              "    </tr>\n",
              "  </thead>\n",
              "  <tbody>\n",
              "    <tr>\n",
              "      <th>0</th>\n",
              "      <td>11052191</td>\n",
              "      <td>Linux Wireless Mailing List</td>\n",
              "      <td>1.563820e+09</td>\n",
              "      <td>v4-1-3-nl80211-Update-uapi-for-CMD_FRAME_WAIT_...</td>\n",
              "      <td>&lt;20190722113312.14031-1-denkenz@gmail.com&gt;</td>\n",
              "      <td>[v4,1/3] nl80211: Update uapi for CMD_FRAME_WA...</td>\n",
              "      <td>Accepted</td>\n",
              "      <td>Denis Kenzior &lt;denkenz@gmail.com&gt;</td>\n",
              "      <td>NaN</td>\n",
              "      <td>08322f85498bd5735275bf3626194d531bd58d05</td>\n",
              "      <td>0</td>\n",
              "      <td>0</td>\n",
              "    </tr>\n",
              "    <tr>\n",
              "      <th>1</th>\n",
              "      <td>11052195</td>\n",
              "      <td>Linux Wireless Mailing List</td>\n",
              "      <td>1.563820e+09</td>\n",
              "      <td>v4-3-3-nl80211-Include-wiphy-address-setup-in-...</td>\n",
              "      <td>&lt;20190722113312.14031-3-denkenz@gmail.com&gt;</td>\n",
              "      <td>[v4,3/3] nl80211: Include wiphy address setup ...</td>\n",
              "      <td>Accepted</td>\n",
              "      <td>Denis Kenzior &lt;denkenz@gmail.com&gt;</td>\n",
              "      <td>NaN</td>\n",
              "      <td>678efa2da3b96691e9fc11fdb1eadc10e2184f7e</td>\n",
              "      <td>0</td>\n",
              "      <td>0</td>\n",
              "    </tr>\n",
              "    <tr>\n",
              "      <th>2</th>\n",
              "      <td>11117603</td>\n",
              "      <td>Linux Wireless Mailing List</td>\n",
              "      <td>1.566971e+09</td>\n",
              "      <td>1-2-mac80211-Don-t-memset-RXCB-prior-to-PAE-in...</td>\n",
              "      <td>&lt;20190827224120.14545-2-denkenz@gmail.com&gt;</td>\n",
              "      <td>[1/2] mac80211: Don't memset RXCB prior to PAE...</td>\n",
              "      <td>Accepted</td>\n",
              "      <td>Denis Kenzior &lt;denkenz@gmail.com&gt;</td>\n",
              "      <td>NaN</td>\n",
              "      <td>2905c51a09ce9680eaadea6fc37c4319b31a6f79</td>\n",
              "      <td>0</td>\n",
              "      <td>0</td>\n",
              "    </tr>\n",
              "    <tr>\n",
              "      <th>3</th>\n",
              "      <td>11117605</td>\n",
              "      <td>Linux Wireless Mailing List</td>\n",
              "      <td>1.566971e+09</td>\n",
              "      <td>2-2-mac80211-Correctly-set-noencrypt-for-PAE-f...</td>\n",
              "      <td>&lt;20190827224120.14545-3-denkenz@gmail.com&gt;</td>\n",
              "      <td>[2/2] mac80211: Correctly set noencrypt for PA...</td>\n",
              "      <td>Accepted</td>\n",
              "      <td>Denis Kenzior &lt;denkenz@gmail.com&gt;</td>\n",
              "      <td>NaN</td>\n",
              "      <td>4a8754dda8a4f5ed5b21dfc977d10bb70b9baf29</td>\n",
              "      <td>0</td>\n",
              "      <td>0</td>\n",
              "    </tr>\n",
              "    <tr>\n",
              "      <th>4</th>\n",
              "      <td>11119923</td>\n",
              "      <td>Linux Wireless Mailing List</td>\n",
              "      <td>1.567052e+09</td>\n",
              "      <td>cfg80211-Purge-frame-registrations-on-iftype-c...</td>\n",
              "      <td>&lt;20190828211110.15005-1-denkenz@gmail.com&gt;</td>\n",
              "      <td>cfg80211: Purge frame registrations on iftype ...</td>\n",
              "      <td>Accepted</td>\n",
              "      <td>Denis Kenzior &lt;denkenz@gmail.com&gt;</td>\n",
              "      <td>NaN</td>\n",
              "      <td>eda432593b03a9194e82df03f61bc8b83087b32d</td>\n",
              "      <td>0</td>\n",
              "      <td>0</td>\n",
              "    </tr>\n",
              "  </tbody>\n",
              "</table>\n",
              "</div>\n",
              "      <button class=\"colab-df-convert\" onclick=\"convertToInteractive('df-94ae5c86-9b3e-4be8-b480-6fc7c56fd5f5')\"\n",
              "              title=\"Convert this dataframe to an interactive table.\"\n",
              "              style=\"display:none;\">\n",
              "        \n",
              "  <svg xmlns=\"http://www.w3.org/2000/svg\" height=\"24px\"viewBox=\"0 0 24 24\"\n",
              "       width=\"24px\">\n",
              "    <path d=\"M0 0h24v24H0V0z\" fill=\"none\"/>\n",
              "    <path d=\"M18.56 5.44l.94 2.06.94-2.06 2.06-.94-2.06-.94-.94-2.06-.94 2.06-2.06.94zm-11 1L8.5 8.5l.94-2.06 2.06-.94-2.06-.94L8.5 2.5l-.94 2.06-2.06.94zm10 10l.94 2.06.94-2.06 2.06-.94-2.06-.94-.94-2.06-.94 2.06-2.06.94z\"/><path d=\"M17.41 7.96l-1.37-1.37c-.4-.4-.92-.59-1.43-.59-.52 0-1.04.2-1.43.59L10.3 9.45l-7.72 7.72c-.78.78-.78 2.05 0 2.83L4 21.41c.39.39.9.59 1.41.59.51 0 1.02-.2 1.41-.59l7.78-7.78 2.81-2.81c.8-.78.8-2.07 0-2.86zM5.41 20L4 18.59l7.72-7.72 1.47 1.35L5.41 20z\"/>\n",
              "  </svg>\n",
              "      </button>\n",
              "      \n",
              "  <style>\n",
              "    .colab-df-container {\n",
              "      display:flex;\n",
              "      flex-wrap:wrap;\n",
              "      gap: 12px;\n",
              "    }\n",
              "\n",
              "    .colab-df-convert {\n",
              "      background-color: #E8F0FE;\n",
              "      border: none;\n",
              "      border-radius: 50%;\n",
              "      cursor: pointer;\n",
              "      display: none;\n",
              "      fill: #1967D2;\n",
              "      height: 32px;\n",
              "      padding: 0 0 0 0;\n",
              "      width: 32px;\n",
              "    }\n",
              "\n",
              "    .colab-df-convert:hover {\n",
              "      background-color: #E2EBFA;\n",
              "      box-shadow: 0px 1px 2px rgba(60, 64, 67, 0.3), 0px 1px 3px 1px rgba(60, 64, 67, 0.15);\n",
              "      fill: #174EA6;\n",
              "    }\n",
              "\n",
              "    [theme=dark] .colab-df-convert {\n",
              "      background-color: #3B4455;\n",
              "      fill: #D2E3FC;\n",
              "    }\n",
              "\n",
              "    [theme=dark] .colab-df-convert:hover {\n",
              "      background-color: #434B5C;\n",
              "      box-shadow: 0px 1px 3px 1px rgba(0, 0, 0, 0.15);\n",
              "      filter: drop-shadow(0px 1px 2px rgba(0, 0, 0, 0.3));\n",
              "      fill: #FFFFFF;\n",
              "    }\n",
              "  </style>\n",
              "\n",
              "      <script>\n",
              "        const buttonEl =\n",
              "          document.querySelector('#df-94ae5c86-9b3e-4be8-b480-6fc7c56fd5f5 button.colab-df-convert');\n",
              "        buttonEl.style.display =\n",
              "          google.colab.kernel.accessAllowed ? 'block' : 'none';\n",
              "\n",
              "        async function convertToInteractive(key) {\n",
              "          const element = document.querySelector('#df-94ae5c86-9b3e-4be8-b480-6fc7c56fd5f5');\n",
              "          const dataTable =\n",
              "            await google.colab.kernel.invokeFunction('convertToInteractive',\n",
              "                                                     [key], {});\n",
              "          if (!dataTable) return;\n",
              "\n",
              "          const docLinkHtml = 'Like what you see? Visit the ' +\n",
              "            '<a target=\"_blank\" href=https://colab.research.google.com/notebooks/data_table.ipynb>data table notebook</a>'\n",
              "            + ' to learn more about interactive tables.';\n",
              "          element.innerHTML = '';\n",
              "          dataTable['output_type'] = 'display_data';\n",
              "          await google.colab.output.renderOutput(dataTable, element);\n",
              "          const docLink = document.createElement('div');\n",
              "          docLink.innerHTML = docLinkHtml;\n",
              "          element.appendChild(docLink);\n",
              "        }\n",
              "      </script>\n",
              "    </div>\n",
              "  </div>\n",
              "  "
            ]
          },
          "metadata": {},
          "execution_count": 23
        }
      ]
    },
    {
      "cell_type": "code",
      "source": [
        "df_lkmlby_patches.info()"
      ],
      "metadata": {
        "colab": {
          "base_uri": "https://localhost:8080/"
        },
        "id": "xtS229wG2p6d",
        "outputId": "d487aa0d-b7e8-48a8-a4a7-60435dc19823"
      },
      "execution_count": 24,
      "outputs": [
        {
          "output_type": "stream",
          "name": "stdout",
          "text": [
            "<class 'pandas.core.frame.DataFrame'>\n",
            "Int64Index: 54932 entries, 0 to 130822\n",
            "Data columns (total 12 columns):\n",
            " #   Column     Non-Null Count  Dtype  \n",
            "---  ------     --------------  -----  \n",
            " 0   id         54932 non-null  int64  \n",
            " 1   project    54932 non-null  object \n",
            " 2   date       54932 non-null  float64\n",
            " 3   filename   54930 non-null  object \n",
            " 4   msgid      54932 non-null  object \n",
            " 5   name       54930 non-null  object \n",
            " 6   state      54932 non-null  object \n",
            " 7   submitter  54932 non-null  object \n",
            " 8   commit     24964 non-null  object \n",
            " 9   hash       53819 non-null  object \n",
            " 10  projectID  54932 non-null  int64  \n",
            " 11  stateID    54932 non-null  int64  \n",
            "dtypes: float64(1), int64(3), object(8)\n",
            "memory usage: 5.4+ MB\n"
          ]
        }
      ]
    },
    {
      "cell_type": "code",
      "source": [
        "df_lkmlby_patches.date.min(), df_lkmlby_patches.date.max()"
      ],
      "metadata": {
        "colab": {
          "base_uri": "https://localhost:8080/"
        },
        "id": "3mS0HTRYVKHr",
        "outputId": "b20152b4-aa67-4a18-fbce-3a279c670e48"
      },
      "execution_count": 25,
      "outputs": [
        {
          "output_type": "execute_result",
          "data": {
            "text/plain": [
              "(1546296174.0, 1625121590.0)"
            ]
          },
          "metadata": {},
          "execution_count": 25
        }
      ]
    },
    {
      "cell_type": "code",
      "source": [
        "df_lkmlby_patches['date'] = pd.to_datetime(df_lkmlby_patches['date'], utc=True)"
      ],
      "metadata": {
        "id": "sr51Li2aV9ll"
      },
      "execution_count": 26,
      "outputs": []
    },
    {
      "cell_type": "code",
      "source": [
        "df_lkmlby_patches.date.min(), df_lkmlby_patches.date.max()"
      ],
      "metadata": {
        "colab": {
          "base_uri": "https://localhost:8080/"
        },
        "id": "98BKOwedWzMP",
        "outputId": "a1088ac5-1305-4cf6-d4a3-7bcde7d6bf7b"
      },
      "execution_count": 33,
      "outputs": [
        {
          "output_type": "execute_result",
          "data": {
            "text/plain": [
              "(Timestamp('1970-01-01 00:00:01.546296174+0000', tz='UTC'),\n",
              " Timestamp('1970-01-01 00:00:01.625121590+0000', tz='UTC'))"
            ]
          },
          "metadata": {},
          "execution_count": 33
        }
      ]
    },
    {
      "cell_type": "code",
      "source": [
        "df_lkmlby_patches = df_lkmlby_patches.sort_values(by=['date'])"
      ],
      "metadata": {
        "id": "j-uee38nXbhw"
      },
      "execution_count": 28,
      "outputs": []
    },
    {
      "cell_type": "code",
      "source": [
        "df_lkmlby_patches.head()"
      ],
      "metadata": {
        "colab": {
          "base_uri": "https://localhost:8080/",
          "height": 337
        },
        "id": "mwUbt1Y_Xg6k",
        "outputId": "f0f8d2b9-57b9-4320-d1f9-2abd16641708"
      },
      "execution_count": 30,
      "outputs": [
        {
          "output_type": "execute_result",
          "data": {
            "text/plain": [
              "              id                      project  \\\n",
              "104353  10745399  Linux Wireless Mailing List   \n",
              "17359   10745559                    XFS devel   \n",
              "17360   10745583                    XFS devel   \n",
              "17361   10745587                    XFS devel   \n",
              "17362   10745589                    XFS devel   \n",
              "\n",
              "                                      date  \\\n",
              "104353 1970-01-01 00:00:01.546296174+00:00   \n",
              "17359  1970-01-01 00:00:01.546312728+00:00   \n",
              "17360  1970-01-01 00:00:01.546337319+00:00   \n",
              "17361  1970-01-01 00:00:01.546337332+00:00   \n",
              "17362  1970-01-01 00:00:01.546337338+00:00   \n",
              "\n",
              "                                                 filename  \\\n",
              "104353  mt76-dma-avoid-indirect-call-in-mt76_dma_tx_qu...   \n",
              "17359   xfs_db-fix-finobt-record-decoding-when-sparse-...   \n",
              "17360    2-8-xfs-check-the-ir_startino-alignment-directly   \n",
              "17361      4-8-xfs-hoist-inode-cluster-checks-out-of-loop   \n",
              "17362   5-8-xfs-clean-up-the-inode-cluster-checking-in...   \n",
              "\n",
              "                                                    msgid  \\\n",
              "104353  <c4d933d0332d09c2c2377876c07383691ca50396.1546...   \n",
              "17359                   <20181231191848.GB20475@magnolia>   \n",
              "17360   <154630851978.14372.12986942629611980027.stgit...   \n",
              "17361   <154630853205.14372.8548651680958822032.stgit@...   \n",
              "17362   <154630853834.14372.13119540305623771045.stgit...   \n",
              "\n",
              "                                                     name     state  \\\n",
              "104353  mt76: dma: avoid indirect call in mt76_dma_tx_...  Accepted   \n",
              "17359   xfs_db: fix finobt record decoding when sparse...  Accepted   \n",
              "17360   [2/8] xfs: check the ir_startino alignment dir...  Accepted   \n",
              "17361   [4/8] xfs: hoist inode cluster checks out of loop  Accepted   \n",
              "17362   [5/8] xfs: clean up the inode cluster checking...  Accepted   \n",
              "\n",
              "                                             submitter commit  \\\n",
              "104353  Lorenzo Bianconi <lorenzo.bianconi@redhat.com>    NaN   \n",
              "17359        Darrick J. Wong <darrick.wong@oracle.com>    NaN   \n",
              "17360        Darrick J. Wong <darrick.wong@oracle.com>    NaN   \n",
              "17361        Darrick J. Wong <darrick.wong@oracle.com>    NaN   \n",
              "17362        Darrick J. Wong <darrick.wong@oracle.com>    NaN   \n",
              "\n",
              "                                            hash  projectID  stateID  \n",
              "104353  4105f3c4d0060a01c5c3ed898ec562015b5fb2fe          0        0  \n",
              "17359   4517e7308c61378dd0bf1ab2b2a36f176d4c3b7c         34        0  \n",
              "17360   e89f86a7e48a058ab2d5b23be5d42737f4e0aa36         34        0  \n",
              "17361   26ae88560baccc1e7d912189957e53cbd16bce4b         34        0  \n",
              "17362   c7639e8ee64fa530cc194fd7fb69795b152f7371         34        0  "
            ],
            "text/html": [
              "\n",
              "  <div id=\"df-b31153a2-31b3-4a06-b3e6-166ebd50ae94\">\n",
              "    <div class=\"colab-df-container\">\n",
              "      <div>\n",
              "<style scoped>\n",
              "    .dataframe tbody tr th:only-of-type {\n",
              "        vertical-align: middle;\n",
              "    }\n",
              "\n",
              "    .dataframe tbody tr th {\n",
              "        vertical-align: top;\n",
              "    }\n",
              "\n",
              "    .dataframe thead th {\n",
              "        text-align: right;\n",
              "    }\n",
              "</style>\n",
              "<table border=\"1\" class=\"dataframe\">\n",
              "  <thead>\n",
              "    <tr style=\"text-align: right;\">\n",
              "      <th></th>\n",
              "      <th>id</th>\n",
              "      <th>project</th>\n",
              "      <th>date</th>\n",
              "      <th>filename</th>\n",
              "      <th>msgid</th>\n",
              "      <th>name</th>\n",
              "      <th>state</th>\n",
              "      <th>submitter</th>\n",
              "      <th>commit</th>\n",
              "      <th>hash</th>\n",
              "      <th>projectID</th>\n",
              "      <th>stateID</th>\n",
              "    </tr>\n",
              "  </thead>\n",
              "  <tbody>\n",
              "    <tr>\n",
              "      <th>104353</th>\n",
              "      <td>10745399</td>\n",
              "      <td>Linux Wireless Mailing List</td>\n",
              "      <td>1970-01-01 00:00:01.546296174+00:00</td>\n",
              "      <td>mt76-dma-avoid-indirect-call-in-mt76_dma_tx_qu...</td>\n",
              "      <td>&lt;c4d933d0332d09c2c2377876c07383691ca50396.1546...</td>\n",
              "      <td>mt76: dma: avoid indirect call in mt76_dma_tx_...</td>\n",
              "      <td>Accepted</td>\n",
              "      <td>Lorenzo Bianconi &lt;lorenzo.bianconi@redhat.com&gt;</td>\n",
              "      <td>NaN</td>\n",
              "      <td>4105f3c4d0060a01c5c3ed898ec562015b5fb2fe</td>\n",
              "      <td>0</td>\n",
              "      <td>0</td>\n",
              "    </tr>\n",
              "    <tr>\n",
              "      <th>17359</th>\n",
              "      <td>10745559</td>\n",
              "      <td>XFS devel</td>\n",
              "      <td>1970-01-01 00:00:01.546312728+00:00</td>\n",
              "      <td>xfs_db-fix-finobt-record-decoding-when-sparse-...</td>\n",
              "      <td>&lt;20181231191848.GB20475@magnolia&gt;</td>\n",
              "      <td>xfs_db: fix finobt record decoding when sparse...</td>\n",
              "      <td>Accepted</td>\n",
              "      <td>Darrick J. Wong &lt;darrick.wong@oracle.com&gt;</td>\n",
              "      <td>NaN</td>\n",
              "      <td>4517e7308c61378dd0bf1ab2b2a36f176d4c3b7c</td>\n",
              "      <td>34</td>\n",
              "      <td>0</td>\n",
              "    </tr>\n",
              "    <tr>\n",
              "      <th>17360</th>\n",
              "      <td>10745583</td>\n",
              "      <td>XFS devel</td>\n",
              "      <td>1970-01-01 00:00:01.546337319+00:00</td>\n",
              "      <td>2-8-xfs-check-the-ir_startino-alignment-directly</td>\n",
              "      <td>&lt;154630851978.14372.12986942629611980027.stgit...</td>\n",
              "      <td>[2/8] xfs: check the ir_startino alignment dir...</td>\n",
              "      <td>Accepted</td>\n",
              "      <td>Darrick J. Wong &lt;darrick.wong@oracle.com&gt;</td>\n",
              "      <td>NaN</td>\n",
              "      <td>e89f86a7e48a058ab2d5b23be5d42737f4e0aa36</td>\n",
              "      <td>34</td>\n",
              "      <td>0</td>\n",
              "    </tr>\n",
              "    <tr>\n",
              "      <th>17361</th>\n",
              "      <td>10745587</td>\n",
              "      <td>XFS devel</td>\n",
              "      <td>1970-01-01 00:00:01.546337332+00:00</td>\n",
              "      <td>4-8-xfs-hoist-inode-cluster-checks-out-of-loop</td>\n",
              "      <td>&lt;154630853205.14372.8548651680958822032.stgit@...</td>\n",
              "      <td>[4/8] xfs: hoist inode cluster checks out of loop</td>\n",
              "      <td>Accepted</td>\n",
              "      <td>Darrick J. Wong &lt;darrick.wong@oracle.com&gt;</td>\n",
              "      <td>NaN</td>\n",
              "      <td>26ae88560baccc1e7d912189957e53cbd16bce4b</td>\n",
              "      <td>34</td>\n",
              "      <td>0</td>\n",
              "    </tr>\n",
              "    <tr>\n",
              "      <th>17362</th>\n",
              "      <td>10745589</td>\n",
              "      <td>XFS devel</td>\n",
              "      <td>1970-01-01 00:00:01.546337338+00:00</td>\n",
              "      <td>5-8-xfs-clean-up-the-inode-cluster-checking-in...</td>\n",
              "      <td>&lt;154630853834.14372.13119540305623771045.stgit...</td>\n",
              "      <td>[5/8] xfs: clean up the inode cluster checking...</td>\n",
              "      <td>Accepted</td>\n",
              "      <td>Darrick J. Wong &lt;darrick.wong@oracle.com&gt;</td>\n",
              "      <td>NaN</td>\n",
              "      <td>c7639e8ee64fa530cc194fd7fb69795b152f7371</td>\n",
              "      <td>34</td>\n",
              "      <td>0</td>\n",
              "    </tr>\n",
              "  </tbody>\n",
              "</table>\n",
              "</div>\n",
              "      <button class=\"colab-df-convert\" onclick=\"convertToInteractive('df-b31153a2-31b3-4a06-b3e6-166ebd50ae94')\"\n",
              "              title=\"Convert this dataframe to an interactive table.\"\n",
              "              style=\"display:none;\">\n",
              "        \n",
              "  <svg xmlns=\"http://www.w3.org/2000/svg\" height=\"24px\"viewBox=\"0 0 24 24\"\n",
              "       width=\"24px\">\n",
              "    <path d=\"M0 0h24v24H0V0z\" fill=\"none\"/>\n",
              "    <path d=\"M18.56 5.44l.94 2.06.94-2.06 2.06-.94-2.06-.94-.94-2.06-.94 2.06-2.06.94zm-11 1L8.5 8.5l.94-2.06 2.06-.94-2.06-.94L8.5 2.5l-.94 2.06-2.06.94zm10 10l.94 2.06.94-2.06 2.06-.94-2.06-.94-.94-2.06-.94 2.06-2.06.94z\"/><path d=\"M17.41 7.96l-1.37-1.37c-.4-.4-.92-.59-1.43-.59-.52 0-1.04.2-1.43.59L10.3 9.45l-7.72 7.72c-.78.78-.78 2.05 0 2.83L4 21.41c.39.39.9.59 1.41.59.51 0 1.02-.2 1.41-.59l7.78-7.78 2.81-2.81c.8-.78.8-2.07 0-2.86zM5.41 20L4 18.59l7.72-7.72 1.47 1.35L5.41 20z\"/>\n",
              "  </svg>\n",
              "      </button>\n",
              "      \n",
              "  <style>\n",
              "    .colab-df-container {\n",
              "      display:flex;\n",
              "      flex-wrap:wrap;\n",
              "      gap: 12px;\n",
              "    }\n",
              "\n",
              "    .colab-df-convert {\n",
              "      background-color: #E8F0FE;\n",
              "      border: none;\n",
              "      border-radius: 50%;\n",
              "      cursor: pointer;\n",
              "      display: none;\n",
              "      fill: #1967D2;\n",
              "      height: 32px;\n",
              "      padding: 0 0 0 0;\n",
              "      width: 32px;\n",
              "    }\n",
              "\n",
              "    .colab-df-convert:hover {\n",
              "      background-color: #E2EBFA;\n",
              "      box-shadow: 0px 1px 2px rgba(60, 64, 67, 0.3), 0px 1px 3px 1px rgba(60, 64, 67, 0.15);\n",
              "      fill: #174EA6;\n",
              "    }\n",
              "\n",
              "    [theme=dark] .colab-df-convert {\n",
              "      background-color: #3B4455;\n",
              "      fill: #D2E3FC;\n",
              "    }\n",
              "\n",
              "    [theme=dark] .colab-df-convert:hover {\n",
              "      background-color: #434B5C;\n",
              "      box-shadow: 0px 1px 3px 1px rgba(0, 0, 0, 0.15);\n",
              "      filter: drop-shadow(0px 1px 2px rgba(0, 0, 0, 0.3));\n",
              "      fill: #FFFFFF;\n",
              "    }\n",
              "  </style>\n",
              "\n",
              "      <script>\n",
              "        const buttonEl =\n",
              "          document.querySelector('#df-b31153a2-31b3-4a06-b3e6-166ebd50ae94 button.colab-df-convert');\n",
              "        buttonEl.style.display =\n",
              "          google.colab.kernel.accessAllowed ? 'block' : 'none';\n",
              "\n",
              "        async function convertToInteractive(key) {\n",
              "          const element = document.querySelector('#df-b31153a2-31b3-4a06-b3e6-166ebd50ae94');\n",
              "          const dataTable =\n",
              "            await google.colab.kernel.invokeFunction('convertToInteractive',\n",
              "                                                     [key], {});\n",
              "          if (!dataTable) return;\n",
              "\n",
              "          const docLinkHtml = 'Like what you see? Visit the ' +\n",
              "            '<a target=\"_blank\" href=https://colab.research.google.com/notebooks/data_table.ipynb>data table notebook</a>'\n",
              "            + ' to learn more about interactive tables.';\n",
              "          element.innerHTML = '';\n",
              "          dataTable['output_type'] = 'display_data';\n",
              "          await google.colab.output.renderOutput(dataTable, element);\n",
              "          const docLink = document.createElement('div');\n",
              "          docLink.innerHTML = docLinkHtml;\n",
              "          element.appendChild(docLink);\n",
              "        }\n",
              "      </script>\n",
              "    </div>\n",
              "  </div>\n",
              "  "
            ]
          },
          "metadata": {},
          "execution_count": 30
        }
      ]
    },
    {
      "cell_type": "code",
      "source": [
        "df_lkmlby_patches.tail()"
      ],
      "metadata": {
        "colab": {
          "base_uri": "https://localhost:8080/",
          "height": 389
        },
        "id": "N7E967VCXn4w",
        "outputId": "ac0d2cf4-46fa-4ebe-cc1c-c1899b600172"
      },
      "execution_count": 31,
      "outputs": [
        {
          "output_type": "execute_result",
          "data": {
            "text/plain": [
              "             id          project                                date  \\\n",
              "60638  12352865     Netdev + BPF 1970-01-01 00:00:01.625116948+00:00   \n",
              "60639  12352863     Netdev + BPF 1970-01-01 00:00:01.625116949+00:00   \n",
              "60640  12352867     Netdev + BPF 1970-01-01 00:00:01.625116950+00:00   \n",
              "60641  12352869     Netdev + BPF 1970-01-01 00:00:01.625116951+00:00   \n",
              "30546  12352955  Kernel Selftest 1970-01-01 00:00:01.625121590+00:00   \n",
              "\n",
              "                                                filename  \\\n",
              "60638  net-v2-3-6-net-dsa-mv88e6xxx-enable-.rmu_disab...   \n",
              "60639  net-v2-4-6-net-dsa-mv88e6xxx-enable-devlink-AT...   \n",
              "60640  net-v2-5-6-net-dsa-mv88e6xxx-enable-SerDes-RX-...   \n",
              "60641  net-v2-6-6-net-dsa-mv88e6xxx-enable-SerDes-PCS...   \n",
              "30546  kunit-tool-Fix-error-messages-for-cases-of-no-...   \n",
              "\n",
              "                                             msgid  \\\n",
              "60638     <20210630222231.2297-4-kabel@kernel.org>   \n",
              "60639     <20210630222231.2297-5-kabel@kernel.org>   \n",
              "60640     <20210630222231.2297-6-kabel@kernel.org>   \n",
              "60641     <20210630222231.2297-7-kabel@kernel.org>   \n",
              "30546  <20210630233950.1638536-1-rmoar@google.com>   \n",
              "\n",
              "                                                    name     state  \\\n",
              "60638  [net,v2,3/6] net: dsa: mv88e6xxx: enable .rmu_...  Accepted   \n",
              "60639  [net,v2,4/6] net: dsa: mv88e6xxx: enable devli...  Accepted   \n",
              "60640  [net,v2,5/6] net: dsa: mv88e6xxx: enable SerDe...  Accepted   \n",
              "60641  [net,v2,6/6] net: dsa: mv88e6xxx: enable SerDe...  Accepted   \n",
              "30546  kunit: tool: Fix error messages for cases of n...  Accepted   \n",
              "\n",
              "                             submitter  \\\n",
              "60638  Marek BehÃºn <kabel@kernel.org>   \n",
              "60639  Marek BehÃºn <kabel@kernel.org>   \n",
              "60640  Marek BehÃºn <kabel@kernel.org>   \n",
              "60641  Marek BehÃºn <kabel@kernel.org>   \n",
              "30546      Rae Moar <rmoar@google.com>   \n",
              "\n",
              "                                         commit  \\\n",
              "60638                                       NaN   \n",
              "60639                                       NaN   \n",
              "60640                                       NaN   \n",
              "60641                                       NaN   \n",
              "30546  ed01ad3a2fac8fff63f441ead4f8653da053c65b   \n",
              "\n",
              "                                           hash  projectID  stateID  \n",
              "60638  665812b5081bad631774ce2b705cda9b4a51e63d          9        0  \n",
              "60639  737f803f4b8d5a18328bd719bc21f0159fac6f36          9        0  \n",
              "60640  0040078c1baa7936e362b1e34ac9220adede9f1e          9        0  \n",
              "60641  ae5dbba75baf6096b42304f372a40dccc858a283          9        0  \n",
              "30546  613d1a4afbc3e834da1173b0bfc2c6ad21667d53          8        0  "
            ],
            "text/html": [
              "\n",
              "  <div id=\"df-4e2edb12-4b67-40c6-a24a-0983667f6e51\">\n",
              "    <div class=\"colab-df-container\">\n",
              "      <div>\n",
              "<style scoped>\n",
              "    .dataframe tbody tr th:only-of-type {\n",
              "        vertical-align: middle;\n",
              "    }\n",
              "\n",
              "    .dataframe tbody tr th {\n",
              "        vertical-align: top;\n",
              "    }\n",
              "\n",
              "    .dataframe thead th {\n",
              "        text-align: right;\n",
              "    }\n",
              "</style>\n",
              "<table border=\"1\" class=\"dataframe\">\n",
              "  <thead>\n",
              "    <tr style=\"text-align: right;\">\n",
              "      <th></th>\n",
              "      <th>id</th>\n",
              "      <th>project</th>\n",
              "      <th>date</th>\n",
              "      <th>filename</th>\n",
              "      <th>msgid</th>\n",
              "      <th>name</th>\n",
              "      <th>state</th>\n",
              "      <th>submitter</th>\n",
              "      <th>commit</th>\n",
              "      <th>hash</th>\n",
              "      <th>projectID</th>\n",
              "      <th>stateID</th>\n",
              "    </tr>\n",
              "  </thead>\n",
              "  <tbody>\n",
              "    <tr>\n",
              "      <th>60638</th>\n",
              "      <td>12352865</td>\n",
              "      <td>Netdev + BPF</td>\n",
              "      <td>1970-01-01 00:00:01.625116948+00:00</td>\n",
              "      <td>net-v2-3-6-net-dsa-mv88e6xxx-enable-.rmu_disab...</td>\n",
              "      <td>&lt;20210630222231.2297-4-kabel@kernel.org&gt;</td>\n",
              "      <td>[net,v2,3/6] net: dsa: mv88e6xxx: enable .rmu_...</td>\n",
              "      <td>Accepted</td>\n",
              "      <td>Marek BehÃºn &lt;kabel@kernel.org&gt;</td>\n",
              "      <td>NaN</td>\n",
              "      <td>665812b5081bad631774ce2b705cda9b4a51e63d</td>\n",
              "      <td>9</td>\n",
              "      <td>0</td>\n",
              "    </tr>\n",
              "    <tr>\n",
              "      <th>60639</th>\n",
              "      <td>12352863</td>\n",
              "      <td>Netdev + BPF</td>\n",
              "      <td>1970-01-01 00:00:01.625116949+00:00</td>\n",
              "      <td>net-v2-4-6-net-dsa-mv88e6xxx-enable-devlink-AT...</td>\n",
              "      <td>&lt;20210630222231.2297-5-kabel@kernel.org&gt;</td>\n",
              "      <td>[net,v2,4/6] net: dsa: mv88e6xxx: enable devli...</td>\n",
              "      <td>Accepted</td>\n",
              "      <td>Marek BehÃºn &lt;kabel@kernel.org&gt;</td>\n",
              "      <td>NaN</td>\n",
              "      <td>737f803f4b8d5a18328bd719bc21f0159fac6f36</td>\n",
              "      <td>9</td>\n",
              "      <td>0</td>\n",
              "    </tr>\n",
              "    <tr>\n",
              "      <th>60640</th>\n",
              "      <td>12352867</td>\n",
              "      <td>Netdev + BPF</td>\n",
              "      <td>1970-01-01 00:00:01.625116950+00:00</td>\n",
              "      <td>net-v2-5-6-net-dsa-mv88e6xxx-enable-SerDes-RX-...</td>\n",
              "      <td>&lt;20210630222231.2297-6-kabel@kernel.org&gt;</td>\n",
              "      <td>[net,v2,5/6] net: dsa: mv88e6xxx: enable SerDe...</td>\n",
              "      <td>Accepted</td>\n",
              "      <td>Marek BehÃºn &lt;kabel@kernel.org&gt;</td>\n",
              "      <td>NaN</td>\n",
              "      <td>0040078c1baa7936e362b1e34ac9220adede9f1e</td>\n",
              "      <td>9</td>\n",
              "      <td>0</td>\n",
              "    </tr>\n",
              "    <tr>\n",
              "      <th>60641</th>\n",
              "      <td>12352869</td>\n",
              "      <td>Netdev + BPF</td>\n",
              "      <td>1970-01-01 00:00:01.625116951+00:00</td>\n",
              "      <td>net-v2-6-6-net-dsa-mv88e6xxx-enable-SerDes-PCS...</td>\n",
              "      <td>&lt;20210630222231.2297-7-kabel@kernel.org&gt;</td>\n",
              "      <td>[net,v2,6/6] net: dsa: mv88e6xxx: enable SerDe...</td>\n",
              "      <td>Accepted</td>\n",
              "      <td>Marek BehÃºn &lt;kabel@kernel.org&gt;</td>\n",
              "      <td>NaN</td>\n",
              "      <td>ae5dbba75baf6096b42304f372a40dccc858a283</td>\n",
              "      <td>9</td>\n",
              "      <td>0</td>\n",
              "    </tr>\n",
              "    <tr>\n",
              "      <th>30546</th>\n",
              "      <td>12352955</td>\n",
              "      <td>Kernel Selftest</td>\n",
              "      <td>1970-01-01 00:00:01.625121590+00:00</td>\n",
              "      <td>kunit-tool-Fix-error-messages-for-cases-of-no-...</td>\n",
              "      <td>&lt;20210630233950.1638536-1-rmoar@google.com&gt;</td>\n",
              "      <td>kunit: tool: Fix error messages for cases of n...</td>\n",
              "      <td>Accepted</td>\n",
              "      <td>Rae Moar &lt;rmoar@google.com&gt;</td>\n",
              "      <td>ed01ad3a2fac8fff63f441ead4f8653da053c65b</td>\n",
              "      <td>613d1a4afbc3e834da1173b0bfc2c6ad21667d53</td>\n",
              "      <td>8</td>\n",
              "      <td>0</td>\n",
              "    </tr>\n",
              "  </tbody>\n",
              "</table>\n",
              "</div>\n",
              "      <button class=\"colab-df-convert\" onclick=\"convertToInteractive('df-4e2edb12-4b67-40c6-a24a-0983667f6e51')\"\n",
              "              title=\"Convert this dataframe to an interactive table.\"\n",
              "              style=\"display:none;\">\n",
              "        \n",
              "  <svg xmlns=\"http://www.w3.org/2000/svg\" height=\"24px\"viewBox=\"0 0 24 24\"\n",
              "       width=\"24px\">\n",
              "    <path d=\"M0 0h24v24H0V0z\" fill=\"none\"/>\n",
              "    <path d=\"M18.56 5.44l.94 2.06.94-2.06 2.06-.94-2.06-.94-.94-2.06-.94 2.06-2.06.94zm-11 1L8.5 8.5l.94-2.06 2.06-.94-2.06-.94L8.5 2.5l-.94 2.06-2.06.94zm10 10l.94 2.06.94-2.06 2.06-.94-2.06-.94-.94-2.06-.94 2.06-2.06.94z\"/><path d=\"M17.41 7.96l-1.37-1.37c-.4-.4-.92-.59-1.43-.59-.52 0-1.04.2-1.43.59L10.3 9.45l-7.72 7.72c-.78.78-.78 2.05 0 2.83L4 21.41c.39.39.9.59 1.41.59.51 0 1.02-.2 1.41-.59l7.78-7.78 2.81-2.81c.8-.78.8-2.07 0-2.86zM5.41 20L4 18.59l7.72-7.72 1.47 1.35L5.41 20z\"/>\n",
              "  </svg>\n",
              "      </button>\n",
              "      \n",
              "  <style>\n",
              "    .colab-df-container {\n",
              "      display:flex;\n",
              "      flex-wrap:wrap;\n",
              "      gap: 12px;\n",
              "    }\n",
              "\n",
              "    .colab-df-convert {\n",
              "      background-color: #E8F0FE;\n",
              "      border: none;\n",
              "      border-radius: 50%;\n",
              "      cursor: pointer;\n",
              "      display: none;\n",
              "      fill: #1967D2;\n",
              "      height: 32px;\n",
              "      padding: 0 0 0 0;\n",
              "      width: 32px;\n",
              "    }\n",
              "\n",
              "    .colab-df-convert:hover {\n",
              "      background-color: #E2EBFA;\n",
              "      box-shadow: 0px 1px 2px rgba(60, 64, 67, 0.3), 0px 1px 3px 1px rgba(60, 64, 67, 0.15);\n",
              "      fill: #174EA6;\n",
              "    }\n",
              "\n",
              "    [theme=dark] .colab-df-convert {\n",
              "      background-color: #3B4455;\n",
              "      fill: #D2E3FC;\n",
              "    }\n",
              "\n",
              "    [theme=dark] .colab-df-convert:hover {\n",
              "      background-color: #434B5C;\n",
              "      box-shadow: 0px 1px 3px 1px rgba(0, 0, 0, 0.15);\n",
              "      filter: drop-shadow(0px 1px 2px rgba(0, 0, 0, 0.3));\n",
              "      fill: #FFFFFF;\n",
              "    }\n",
              "  </style>\n",
              "\n",
              "      <script>\n",
              "        const buttonEl =\n",
              "          document.querySelector('#df-4e2edb12-4b67-40c6-a24a-0983667f6e51 button.colab-df-convert');\n",
              "        buttonEl.style.display =\n",
              "          google.colab.kernel.accessAllowed ? 'block' : 'none';\n",
              "\n",
              "        async function convertToInteractive(key) {\n",
              "          const element = document.querySelector('#df-4e2edb12-4b67-40c6-a24a-0983667f6e51');\n",
              "          const dataTable =\n",
              "            await google.colab.kernel.invokeFunction('convertToInteractive',\n",
              "                                                     [key], {});\n",
              "          if (!dataTable) return;\n",
              "\n",
              "          const docLinkHtml = 'Like what you see? Visit the ' +\n",
              "            '<a target=\"_blank\" href=https://colab.research.google.com/notebooks/data_table.ipynb>data table notebook</a>'\n",
              "            + ' to learn more about interactive tables.';\n",
              "          element.innerHTML = '';\n",
              "          dataTable['output_type'] = 'display_data';\n",
              "          await google.colab.output.renderOutput(dataTable, element);\n",
              "          const docLink = document.createElement('div');\n",
              "          docLink.innerHTML = docLinkHtml;\n",
              "          element.appendChild(docLink);\n",
              "        }\n",
              "      </script>\n",
              "    </div>\n",
              "  </div>\n",
              "  "
            ]
          },
          "metadata": {},
          "execution_count": 31
        }
      ]
    },
    {
      "cell_type": "markdown",
      "source": [
        "<font color='red'>END OF lkmlByPatches.csv DATA</font>"
      ],
      "metadata": {
        "id": "zviawJ2U9GFR"
      }
    },
    {
      "cell_type": "markdown",
      "source": [
        "## &#129504; Generate Interest Data"
      ],
      "metadata": {
        "id": "nSoeZAsTEePz"
      }
    },
    {
      "cell_type": "markdown",
      "source": [
        "Features of interest:\n",
        "\n",
        "```python\n",
        "['fkre_score',\n",
        " 'fkgl_score',\n",
        " 'message_exper',\n",
        " 'commit_exper',\n",
        " 'word_cnt',\n",
        " 'sentence_cnt',\n",
        " 'exert_influence',\n",
        " 'patch_email',\n",
        " 'first_patch_thread',\n",
        " 'sent_time',\n",
        " 'received_time',\n",
        " 'reply_within_4hr',\n",
        " 'patch_churn',\n",
        " 'bug_fix',\n",
        " 'new_feature',\n",
        " 'accepted_patch',\n",
        " 'accepted_commit']\n",
        " ```"
      ],
      "metadata": {
        "id": "Sjo5ZQDRSWWf"
      }
    },
    {
      "cell_type": "markdown",
      "source": [
        "### &#9759; Exert Influence Feature"
      ],
      "metadata": {
        "id": "_J9bbM16y_ZY"
      }
    },
    {
      "cell_type": "code",
      "source": [
        "# Based on the persuasion strategies in \n",
        "# Wang, X., Shi, W., Kim, R., Oh, Y., Yang, S., Zhang, J., & Yu, Z. (2019). \n",
        "# Persuasion for good: Towards a personalized persuasive dialogue system for social good.\n",
        "# arXiv preprint [arXiv:1906.06725](https://arxiv.org/abs/1906.06725) \n",
        "persuasion_label = dict({\n",
        "    0: 'task-related-inquiry', \n",
        "    1: 'credibility-appeal', \n",
        "    2: 'logical-appeal', \n",
        "    3: 'personal-related-inquiry', \n",
        "    4: 'source-related-inquiry', \n",
        "    5: 'donation-information', \n",
        "    6: 'foot-in-the-door', \n",
        "    7: 'emotion-appeal', \n",
        "    8: 'self-modeling', \n",
        "    9: 'personal-story',\n",
        "    10: 'Unknown'})"
      ],
      "metadata": {
        "id": "zXspnow4YK_v"
      },
      "execution_count": 52,
      "outputs": []
    },
    {
      "cell_type": "code",
      "source": [
        "# all persuasion strategies - the unknown one\n",
        "persuasion_set = persuasion_label.keys() - {10}\n",
        "persuasion_set"
      ],
      "metadata": {
        "colab": {
          "base_uri": "https://localhost:8080/"
        },
        "id": "PoL73RwDxbfR",
        "outputId": "4f0e8ab8-156c-41bb-e0a0-322e2b9076e8"
      },
      "execution_count": 53,
      "outputs": [
        {
          "output_type": "execute_result",
          "data": {
            "text/plain": [
              "{0, 1, 2, 3, 4, 5, 6, 7, 8, 9}"
            ]
          },
          "metadata": {},
          "execution_count": 53
        }
      ]
    },
    {
      "cell_type": "code",
      "source": [
        "# exert influence through persuasion\n",
        "df_email['exert_influence'] = df_email['persuasion'].apply(lambda x: 1 if (x in persuasion_set) else 0)"
      ],
      "metadata": {
        "id": "ENgujM69xcaH"
      },
      "execution_count": 54,
      "outputs": []
    },
    {
      "cell_type": "code",
      "source": [
        "tmp_influence = df_email.groupby(df_email['exert_influence']).size().sort_values()\n",
        "tmp_influence"
      ],
      "metadata": {
        "colab": {
          "base_uri": "https://localhost:8080/"
        },
        "id": "STI0NUVGxuwx",
        "outputId": "64d956dc-f428-43fc-f28d-8e3918528d1a"
      },
      "execution_count": 55,
      "outputs": [
        {
          "output_type": "execute_result",
          "data": {
            "text/plain": [
              "exert_influence\n",
              "0    276\n",
              "dtype: int64"
            ]
          },
          "metadata": {},
          "execution_count": 55
        }
      ]
    },
    {
      "cell_type": "code",
      "source": [
        "tmp_influence.plot.barh(title=\"Influence Records\", xlabel=\"Influence\", ylabel=\"Number of records\", log=True)"
      ],
      "metadata": {
        "colab": {
          "base_uri": "https://localhost:8080/",
          "height": 299
        },
        "id": "9xmBAuobx97S",
        "outputId": "6b728ae4-2924-4023-c7c9-df4bd5aeaa03"
      },
      "execution_count": 56,
      "outputs": [
        {
          "output_type": "execute_result",
          "data": {
            "text/plain": [
              "<AxesSubplot:title={'center':'Influence Records'}, ylabel='Influence'>"
            ]
          },
          "metadata": {},
          "execution_count": 56
        },
        {
          "output_type": "display_data",
          "data": {
            "text/plain": [
              "<Figure size 432x288 with 1 Axes>"
            ],
            "image/png": "[encoded data removed]"
          },
          "metadata": {
            "image/png": {
              "width": 376,
              "height": 265
            },
            "needs_background": "light"
          }
        }
      ]
    },
    {
      "cell_type": "markdown",
      "source": [
        "### &#9759; NLP Features\n",
        "\n",
        "* fkre_score\n",
        "* fkgl_score\n",
        "* message_exper\n",
        "* commit_exper\n",
        "* word_cnt\n",
        "* sentence_cnt"
      ],
      "metadata": {
        "id": "bSi3GfxEzKIV"
      }
    },
    {
      "cell_type": "markdown",
      "source": [
        "#### &#9759; Test"
      ],
      "metadata": {
        "id": "yO8asjU-4dVu"
      }
    },
    {
      "cell_type": "code",
      "source": [
        "email_0 = df_email.loc[0]"
      ],
      "metadata": {
        "id": "RerLiB3d0afH"
      },
      "execution_count": 57,
      "outputs": []
    },
    {
      "cell_type": "code",
      "source": [
        "email_0"
      ],
      "metadata": {
        "colab": {
          "base_uri": "https://localhost:8080/"
        },
        "id": "bNSzl2WU0lnX",
        "outputId": "bcfd7076-e9b5-44eb-e61b-76e42272faed"
      },
      "execution_count": 58,
      "outputs": [
        {
          "output_type": "execute_result",
          "data": {
            "text/plain": [
              "id                                                                 30807\n",
              "url                    https://lkml.iu.edu/hypermail/linux/kernel/200...\n",
              "mailing_list_id                                                        1\n",
              "email_id                                                  20200801110231\n",
              "message_id                  20200801150050.767038-2-masahiroy@kernel.org\n",
              "reply_to_url           https://lkml.iu.edu/hypermail/linux/kernel/200...\n",
              "author_id                                                            208\n",
              "timestamp_sent                                                1596294151\n",
              "timestamp_recv                                                1596297751\n",
              "subject                [PATCH 2/2] kbuild: stop filtering out $(GCC_P...\n",
              "body                   Commit d26e94149276 (\"kbuild: no gcc-plugins d...\n",
              "clean_body             Commit d26e94149276 (\"kbuild: no gcc-plugins d...\n",
              "thread_id                   20200801150050.767038-1-masahiroy@kernel.org\n",
              "persuasion                                                       Unknown\n",
              "reply_to_message_id         20200801150050.767038-1-masahiroy@kernel.org\n",
              "sent_time                                  1970-01-01 00:00:01.596294151\n",
              "exert_influence                                                        0\n",
              "Name: 0, dtype: object"
            ]
          },
          "metadata": {},
          "execution_count": 58
        }
      ]
    },
    {
      "cell_type": "code",
      "source": [
        "txt_to_spacy = text_to_spacy_nlp(email_body=email_0.clean_body)"
      ],
      "metadata": {
        "id": "hz4ySTxg0mvn"
      },
      "execution_count": 59,
      "outputs": []
    },
    {
      "cell_type": "code",
      "source": [
        "txt_to_spacy"
      ],
      "metadata": {
        "colab": {
          "base_uri": "https://localhost:8080/"
        },
        "id": "ZQnRefDf1ptU",
        "outputId": "49b3d7e7-36af-4f1a-c567-01b26a7a1b01"
      },
      "execution_count": 60,
      "outputs": [
        {
          "output_type": "execute_result",
          "data": {
            "text/plain": [
              "Commit d26e94149276 (\"kbuild: no gcc-plugins during cc-option tests\")\n",
              "was neeeded because scripts/Makefile.gcc-plugins was too early.\n",
              "\n",
              "This is unneeded by including scripts/Makefile.gcc-plugins last,\n",
              "and being careful to not add cc-option tests after it.\n",
              "\n",
              "Signed-off-by: Masahiro Yamada <masahiroy@xxxxxxxxxx>\n",
              "\n",
              "-- \n",
              "2.25.1\n",
              "\n"
            ]
          },
          "metadata": {},
          "execution_count": 60
        }
      ]
    },
    {
      "cell_type": "code",
      "source": [
        "sentence_cnt = sentence_count(spacy_txt=txt_to_spacy)\n",
        "sentence_cnt"
      ],
      "metadata": {
        "colab": {
          "base_uri": "https://localhost:8080/"
        },
        "id": "5-CeoEuF08iX",
        "outputId": "11b50a76-b8db-4c4d-f67c-27020b5b5631"
      },
      "execution_count": 61,
      "outputs": [
        {
          "output_type": "execute_result",
          "data": {
            "text/plain": [
              "3"
            ]
          },
          "metadata": {},
          "execution_count": 61
        }
      ]
    },
    {
      "cell_type": "code",
      "source": [
        "word_cnt = word_count(spacy_txt=txt_to_spacy)\n",
        "word_cnt"
      ],
      "metadata": {
        "colab": {
          "base_uri": "https://localhost:8080/"
        },
        "id": "38iq18_F1FVn",
        "outputId": "ebd04b3c-b693-45e4-a761-049b4035423b"
      },
      "execution_count": 62,
      "outputs": [
        {
          "output_type": "execute_result",
          "data": {
            "text/plain": [
              "55"
            ]
          },
          "metadata": {},
          "execution_count": 62
        }
      ]
    },
    {
      "cell_type": "code",
      "source": [
        "syllables_cnt = sum([count_syllables(s) for s in retrieve_words(spacy_txt=txt_to_spacy)])\n",
        "syllables_cnt"
      ],
      "metadata": {
        "colab": {
          "base_uri": "https://localhost:8080/"
        },
        "id": "ox3FAHb21lAA",
        "outputId": "2777415e-2ab9-488a-d777-5f149317fb70"
      },
      "execution_count": 63,
      "outputs": [
        {
          "output_type": "execute_result",
          "data": {
            "text/plain": [
              "74"
            ]
          },
          "metadata": {},
          "execution_count": 63
        }
      ]
    },
    {
      "cell_type": "markdown",
      "source": [
        "#### &#9759; Deployment"
      ],
      "metadata": {
        "id": "yuArh9-O5esr"
      }
    },
    {
      "cell_type": "code",
      "source": [
        "df_email['txt_to_spacy'] = df_email.apply(lambda row: text_to_spacy_nlp(email_body=row.clean_body), axis=1)"
      ],
      "metadata": {
        "id": "JrgYmiMX2vM5"
      },
      "execution_count": 64,
      "outputs": []
    },
    {
      "cell_type": "code",
      "source": [
        "df_email['sentence_cnt'] = df_email.apply(lambda row: sentence_count(spacy_txt=row.txt_to_spacy), axis=1)"
      ],
      "metadata": {
        "id": "MREKEngr5mBh"
      },
      "execution_count": 65,
      "outputs": []
    },
    {
      "cell_type": "code",
      "source": [
        "df_email['word_cnt'] = df_email.apply(lambda row: word_count(spacy_txt=row.txt_to_spacy), axis=1)"
      ],
      "metadata": {
        "id": "4MqYlqrn6TzP"
      },
      "execution_count": 66,
      "outputs": []
    },
    {
      "cell_type": "code",
      "source": [
        "df_email['syllables_cnt'] = df_email.apply(lambda row: sum([count_syllables(s) for s in retrieve_words(spacy_txt=row.txt_to_spacy)]), axis=1)"
      ],
      "metadata": {
        "id": "bqHWqmPk6TjG"
      },
      "execution_count": 67,
      "outputs": []
    },
    {
      "cell_type": "code",
      "source": [
        "df_email['fkre_score'] = df_email.apply(lambda row: fkre_score(\n",
        "    total_words=row.word_cnt, \n",
        "    total_sentences=row.sentence_cnt, \n",
        "    total_syllables=row.syllables_cnt), axis=1)"
      ],
      "metadata": {
        "id": "31BEI0MN6ylu"
      },
      "execution_count": 68,
      "outputs": []
    },
    {
      "cell_type": "code",
      "source": [
        "df_email['fkgl_score'] = df_email.apply(lambda row: fkgl_score(\n",
        "    total_words=row.word_cnt, \n",
        "    total_sentences=row.sentence_cnt, \n",
        "    total_syllables=row.syllables_cnt), axis=1)"
      ],
      "metadata": {
        "id": "5TTnYCz18k8d"
      },
      "execution_count": 69,
      "outputs": []
    },
    {
      "cell_type": "code",
      "source": [
        "df_email.head()"
      ],
      "metadata": {
        "colab": {
          "base_uri": "https://localhost:8080/",
          "height": 560
        },
        "id": "Dslu0A1a8xSk",
        "outputId": "1bc5f8e1-0bf8-4828-b523-2f7f9b2786a2"
      },
      "execution_count": 70,
      "outputs": [
        {
          "output_type": "execute_result",
          "data": {
            "text/plain": [
              "      id                                                url  mailing_list_id  \\\n",
              "0  30807  https://lkml.iu.edu/hypermail/linux/kernel/200...                1   \n",
              "1  30820  https://lkml.iu.edu/hypermail/linux/kernel/200...                1   \n",
              "2  31413  https://lkml.iu.edu/hypermail/linux/kernel/200...                1   \n",
              "3  31045  https://lkml.iu.edu/hypermail/linux/kernel/200...                1   \n",
              "4  31061  https://lkml.iu.edu/hypermail/linux/kernel/200...                1   \n",
              "\n",
              "         email_id                                         message_id  \\\n",
              "0  20200801110231       20200801150050.767038-2-masahiroy@kernel.org   \n",
              "1  20200801090629       20200801130856.86625-3-chenzhou10@huawei.com   \n",
              "2  20200801044951     20200801084721.1812607-4-songliubraving@fb.com   \n",
              "3  20200801130229     636faf6f-4c85-0582-2482-b99002888d0d@kernel.dk   \n",
              "4  20200801062550  d515fa07-5198-fc3c-24ac-d35aa4e08668@molgen.mp...   \n",
              "\n",
              "                                        reply_to_url  author_id  \\\n",
              "0  https://lkml.iu.edu/hypermail/linux/kernel/200...        208   \n",
              "1  https://lkml.iu.edu/hypermail/linux/kernel/200...       2724   \n",
              "2  https://lkml.iu.edu/hypermail/linux/kernel/200...       1062   \n",
              "3  https://lkml.iu.edu/hypermail/linux/kernel/200...        158   \n",
              "4                                               None       1977   \n",
              "\n",
              "   timestamp_sent  timestamp_recv  \\\n",
              "0      1596294151      1596297751   \n",
              "1      1596287189      1596290789   \n",
              "2      1596271791      1596275391   \n",
              "3      1596301349      1596304949   \n",
              "4      1596277550      1596281150   \n",
              "\n",
              "                                             subject  ... persuasion  \\\n",
              "0  [PATCH 2/2] kbuild: stop filtering out $(GCC_P...  ...    Unknown   \n",
              "1  [PATCH v11 2/5] x86: kdump: move reserve_crash...  ...    Unknown   \n",
              "2  [PATCH bpf-next 3/5] selftests/bpf: add selfte...  ...    Unknown   \n",
              "3      Re: [PATCH] fs: optimise kiocb_set_rw_flags()  ...    Unknown   \n",
              "4   Re: xfs_reclaim_inodes_ag taking several seconds  ...    Unknown   \n",
              "\n",
              "                                 reply_to_message_id  \\\n",
              "0       20200801150050.767038-1-masahiroy@kernel.org   \n",
              "1       20200801130856.86625-1-chenzhou10@huawei.com   \n",
              "2     20200801084721.1812607-1-songliubraving@fb.com   \n",
              "3  e523f51f59ad6ecdad4ad22c560cb9c913e96e1a.15962...   \n",
              "4          20200731223255.GG2005@dread.disaster.area   \n",
              "\n",
              "                      sent_time exert_influence  \\\n",
              "0 1970-01-01 00:00:01.596294151               0   \n",
              "1 1970-01-01 00:00:01.596287189               0   \n",
              "2 1970-01-01 00:00:01.596271791               0   \n",
              "3 1970-01-01 00:00:01.596301349               0   \n",
              "4 1970-01-01 00:00:01.596277550               0   \n",
              "\n",
              "                                        txt_to_spacy sentence_cnt  word_cnt  \\\n",
              "0  (Commit, d26e94149276, (, \", kbuild, :, no, gc...            3        55   \n",
              "1  (In, preparation, for, supporting, reserve_cra...            4        57   \n",
              "2  (This, test, checks, the, correctness, of, BPF...            2        41   \n",
              "3  (On, 8/1/20, 4:36, AM, ,, Pavel, Begunkov, wro...            4        55   \n",
              "4  (On, 01.08.20, 00:32, ,, Dave, Chinner, wrote,...           29      1005   \n",
              "\n",
              "  syllables_cnt  fkre_score  fkgl_score  \n",
              "0            74       74.40        7.44  \n",
              "1            73       84.02        5.08  \n",
              "2            54       74.60        7.95  \n",
              "3            57      105.20        2.00  \n",
              "4          1171       73.09       11.67  \n",
              "\n",
              "[5 rows x 23 columns]"
            ],
            "text/html": [
              "\n",
              "  <div id=\"df-d81191f0-ffb7-45eb-b9e2-a356ead23db8\">\n",
              "    <div class=\"colab-df-container\">\n",
              "      <div>\n",
              "<style scoped>\n",
              "    .dataframe tbody tr th:only-of-type {\n",
              "        vertical-align: middle;\n",
              "    }\n",
              "\n",
              "    .dataframe tbody tr th {\n",
              "        vertical-align: top;\n",
              "    }\n",
              "\n",
              "    .dataframe thead th {\n",
              "        text-align: right;\n",
              "    }\n",
              "</style>\n",
              "<table border=\"1\" class=\"dataframe\">\n",
              "  <thead>\n",
              "    <tr style=\"text-align: right;\">\n",
              "      <th></th>\n",
              "      <th>id</th>\n",
              "      <th>url</th>\n",
              "      <th>mailing_list_id</th>\n",
              "      <th>email_id</th>\n",
              "      <th>message_id</th>\n",
              "      <th>reply_to_url</th>\n",
              "      <th>author_id</th>\n",
              "      <th>timestamp_sent</th>\n",
              "      <th>timestamp_recv</th>\n",
              "      <th>subject</th>\n",
              "      <th>...</th>\n",
              "      <th>persuasion</th>\n",
              "      <th>reply_to_message_id</th>\n",
              "      <th>sent_time</th>\n",
              "      <th>exert_influence</th>\n",
              "      <th>txt_to_spacy</th>\n",
              "      <th>sentence_cnt</th>\n",
              "      <th>word_cnt</th>\n",
              "      <th>syllables_cnt</th>\n",
              "      <th>fkre_score</th>\n",
              "      <th>fkgl_score</th>\n",
              "    </tr>\n",
              "  </thead>\n",
              "  <tbody>\n",
              "    <tr>\n",
              "      <th>0</th>\n",
              "      <td>30807</td>\n",
              "      <td>https://lkml.iu.edu/hypermail/linux/kernel/200...</td>\n",
              "      <td>1</td>\n",
              "      <td>20200801110231</td>\n",
              "      <td>20200801150050.767038-2-masahiroy@kernel.org</td>\n",
              "      <td>https://lkml.iu.edu/hypermail/linux/kernel/200...</td>\n",
              "      <td>208</td>\n",
              "      <td>1596294151</td>\n",
              "      <td>1596297751</td>\n",
              "      <td>[PATCH 2/2] kbuild: stop filtering out $(GCC_P...</td>\n",
              "      <td>...</td>\n",
              "      <td>Unknown</td>\n",
              "      <td>20200801150050.767038-1-masahiroy@kernel.org</td>\n",
              "      <td>1970-01-01 00:00:01.596294151</td>\n",
              "      <td>0</td>\n",
              "      <td>(Commit, d26e94149276, (, \", kbuild, :, no, gc...</td>\n",
              "      <td>3</td>\n",
              "      <td>55</td>\n",
              "      <td>74</td>\n",
              "      <td>74.40</td>\n",
              "      <td>7.44</td>\n",
              "    </tr>\n",
              "    <tr>\n",
              "      <th>1</th>\n",
              "      <td>30820</td>\n",
              "      <td>https://lkml.iu.edu/hypermail/linux/kernel/200...</td>\n",
              "      <td>1</td>\n",
              "      <td>20200801090629</td>\n",
              "      <td>20200801130856.86625-3-chenzhou10@huawei.com</td>\n",
              "      <td>https://lkml.iu.edu/hypermail/linux/kernel/200...</td>\n",
              "      <td>2724</td>\n",
              "      <td>1596287189</td>\n",
              "      <td>1596290789</td>\n",
              "      <td>[PATCH v11 2/5] x86: kdump: move reserve_crash...</td>\n",
              "      <td>...</td>\n",
              "      <td>Unknown</td>\n",
              "      <td>20200801130856.86625-1-chenzhou10@huawei.com</td>\n",
              "      <td>1970-01-01 00:00:01.596287189</td>\n",
              "      <td>0</td>\n",
              "      <td>(In, preparation, for, supporting, reserve_cra...</td>\n",
              "      <td>4</td>\n",
              "      <td>57</td>\n",
              "      <td>73</td>\n",
              "      <td>84.02</td>\n",
              "      <td>5.08</td>\n",
              "    </tr>\n",
              "    <tr>\n",
              "      <th>2</th>\n",
              "      <td>31413</td>\n",
              "      <td>https://lkml.iu.edu/hypermail/linux/kernel/200...</td>\n",
              "      <td>1</td>\n",
              "      <td>20200801044951</td>\n",
              "      <td>20200801084721.1812607-4-songliubraving@fb.com</td>\n",
              "      <td>https://lkml.iu.edu/hypermail/linux/kernel/200...</td>\n",
              "      <td>1062</td>\n",
              "      <td>1596271791</td>\n",
              "      <td>1596275391</td>\n",
              "      <td>[PATCH bpf-next 3/5] selftests/bpf: add selfte...</td>\n",
              "      <td>...</td>\n",
              "      <td>Unknown</td>\n",
              "      <td>20200801084721.1812607-1-songliubraving@fb.com</td>\n",
              "      <td>1970-01-01 00:00:01.596271791</td>\n",
              "      <td>0</td>\n",
              "      <td>(This, test, checks, the, correctness, of, BPF...</td>\n",
              "      <td>2</td>\n",
              "      <td>41</td>\n",
              "      <td>54</td>\n",
              "      <td>74.60</td>\n",
              "      <td>7.95</td>\n",
              "    </tr>\n",
              "    <tr>\n",
              "      <th>3</th>\n",
              "      <td>31045</td>\n",
              "      <td>https://lkml.iu.edu/hypermail/linux/kernel/200...</td>\n",
              "      <td>1</td>\n",
              "      <td>20200801130229</td>\n",
              "      <td>636faf6f-4c85-0582-2482-b99002888d0d@kernel.dk</td>\n",
              "      <td>https://lkml.iu.edu/hypermail/linux/kernel/200...</td>\n",
              "      <td>158</td>\n",
              "      <td>1596301349</td>\n",
              "      <td>1596304949</td>\n",
              "      <td>Re: [PATCH] fs: optimise kiocb_set_rw_flags()</td>\n",
              "      <td>...</td>\n",
              "      <td>Unknown</td>\n",
              "      <td>e523f51f59ad6ecdad4ad22c560cb9c913e96e1a.15962...</td>\n",
              "      <td>1970-01-01 00:00:01.596301349</td>\n",
              "      <td>0</td>\n",
              "      <td>(On, 8/1/20, 4:36, AM, ,, Pavel, Begunkov, wro...</td>\n",
              "      <td>4</td>\n",
              "      <td>55</td>\n",
              "      <td>57</td>\n",
              "      <td>105.20</td>\n",
              "      <td>2.00</td>\n",
              "    </tr>\n",
              "    <tr>\n",
              "      <th>4</th>\n",
              "      <td>31061</td>\n",
              "      <td>https://lkml.iu.edu/hypermail/linux/kernel/200...</td>\n",
              "      <td>1</td>\n",
              "      <td>20200801062550</td>\n",
              "      <td>d515fa07-5198-fc3c-24ac-d35aa4e08668@molgen.mp...</td>\n",
              "      <td>None</td>\n",
              "      <td>1977</td>\n",
              "      <td>1596277550</td>\n",
              "      <td>1596281150</td>\n",
              "      <td>Re: xfs_reclaim_inodes_ag taking several seconds</td>\n",
              "      <td>...</td>\n",
              "      <td>Unknown</td>\n",
              "      <td>20200731223255.GG2005@dread.disaster.area</td>\n",
              "      <td>1970-01-01 00:00:01.596277550</td>\n",
              "      <td>0</td>\n",
              "      <td>(On, 01.08.20, 00:32, ,, Dave, Chinner, wrote,...</td>\n",
              "      <td>29</td>\n",
              "      <td>1005</td>\n",
              "      <td>1171</td>\n",
              "      <td>73.09</td>\n",
              "      <td>11.67</td>\n",
              "    </tr>\n",
              "  </tbody>\n",
              "</table>\n",
              "<p>5 rows × 23 columns</p>\n",
              "</div>\n",
              "      <button class=\"colab-df-convert\" onclick=\"convertToInteractive('df-d81191f0-ffb7-45eb-b9e2-a356ead23db8')\"\n",
              "              title=\"Convert this dataframe to an interactive table.\"\n",
              "              style=\"display:none;\">\n",
              "        \n",
              "  <svg xmlns=\"http://www.w3.org/2000/svg\" height=\"24px\"viewBox=\"0 0 24 24\"\n",
              "       width=\"24px\">\n",
              "    <path d=\"M0 0h24v24H0V0z\" fill=\"none\"/>\n",
              "    <path d=\"M18.56 5.44l.94 2.06.94-2.06 2.06-.94-2.06-.94-.94-2.06-.94 2.06-2.06.94zm-11 1L8.5 8.5l.94-2.06 2.06-.94-2.06-.94L8.5 2.5l-.94 2.06-2.06.94zm10 10l.94 2.06.94-2.06 2.06-.94-2.06-.94-.94-2.06-.94 2.06-2.06.94z\"/><path d=\"M17.41 7.96l-1.37-1.37c-.4-.4-.92-.59-1.43-.59-.52 0-1.04.2-1.43.59L10.3 9.45l-7.72 7.72c-.78.78-.78 2.05 0 2.83L4 21.41c.39.39.9.59 1.41.59.51 0 1.02-.2 1.41-.59l7.78-7.78 2.81-2.81c.8-.78.8-2.07 0-2.86zM5.41 20L4 18.59l7.72-7.72 1.47 1.35L5.41 20z\"/>\n",
              "  </svg>\n",
              "      </button>\n",
              "      \n",
              "  <style>\n",
              "    .colab-df-container {\n",
              "      display:flex;\n",
              "      flex-wrap:wrap;\n",
              "      gap: 12px;\n",
              "    }\n",
              "\n",
              "    .colab-df-convert {\n",
              "      background-color: #E8F0FE;\n",
              "      border: none;\n",
              "      border-radius: 50%;\n",
              "      cursor: pointer;\n",
              "      display: none;\n",
              "      fill: #1967D2;\n",
              "      height: 32px;\n",
              "      padding: 0 0 0 0;\n",
              "      width: 32px;\n",
              "    }\n",
              "\n",
              "    .colab-df-convert:hover {\n",
              "      background-color: #E2EBFA;\n",
              "      box-shadow: 0px 1px 2px rgba(60, 64, 67, 0.3), 0px 1px 3px 1px rgba(60, 64, 67, 0.15);\n",
              "      fill: #174EA6;\n",
              "    }\n",
              "\n",
              "    [theme=dark] .colab-df-convert {\n",
              "      background-color: #3B4455;\n",
              "      fill: #D2E3FC;\n",
              "    }\n",
              "\n",
              "    [theme=dark] .colab-df-convert:hover {\n",
              "      background-color: #434B5C;\n",
              "      box-shadow: 0px 1px 3px 1px rgba(0, 0, 0, 0.15);\n",
              "      filter: drop-shadow(0px 1px 2px rgba(0, 0, 0, 0.3));\n",
              "      fill: #FFFFFF;\n",
              "    }\n",
              "  </style>\n",
              "\n",
              "      <script>\n",
              "        const buttonEl =\n",
              "          document.querySelector('#df-d81191f0-ffb7-45eb-b9e2-a356ead23db8 button.colab-df-convert');\n",
              "        buttonEl.style.display =\n",
              "          google.colab.kernel.accessAllowed ? 'block' : 'none';\n",
              "\n",
              "        async function convertToInteractive(key) {\n",
              "          const element = document.querySelector('#df-d81191f0-ffb7-45eb-b9e2-a356ead23db8');\n",
              "          const dataTable =\n",
              "            await google.colab.kernel.invokeFunction('convertToInteractive',\n",
              "                                                     [key], {});\n",
              "          if (!dataTable) return;\n",
              "\n",
              "          const docLinkHtml = 'Like what you see? Visit the ' +\n",
              "            '<a target=\"_blank\" href=https://colab.research.google.com/notebooks/data_table.ipynb>data table notebook</a>'\n",
              "            + ' to learn more about interactive tables.';\n",
              "          element.innerHTML = '';\n",
              "          dataTable['output_type'] = 'display_data';\n",
              "          await google.colab.output.renderOutput(dataTable, element);\n",
              "          const docLink = document.createElement('div');\n",
              "          docLink.innerHTML = docLinkHtml;\n",
              "          element.appendChild(docLink);\n",
              "        }\n",
              "      </script>\n",
              "    </div>\n",
              "  </div>\n",
              "  "
            ]
          },
          "metadata": {},
          "execution_count": 70
        }
      ]
    },
    {
      "cell_type": "markdown",
      "source": [
        "### &#9759; Patch Email Feature"
      ],
      "metadata": {
        "id": "KnfbmhDHGjxo"
      }
    },
    {
      "cell_type": "code",
      "source": [
        "def check_if_patch(w):\n",
        "    \"\"\"https://stackoverflow.com/questions/5319922/python-check-if-word-is-in-a-string\"\"\"\n",
        "    return re.compile(r'\\b({0})\\b'.format(w), flags=re.IGNORECASE).search"
      ],
      "metadata": {
        "id": "hX5rv00x8zCZ"
      },
      "execution_count": 71,
      "outputs": []
    },
    {
      "cell_type": "code",
      "source": [
        "df_email['patch_email'] = df_email.apply(lambda row: 1 if check_if_patch(\"patch\")(row['subject']) else 0, axis=1)"
      ],
      "metadata": {
        "id": "f5WMFxHKG8sf"
      },
      "execution_count": 72,
      "outputs": []
    },
    {
      "cell_type": "code",
      "source": [
        "tmp_patch_email = df_email.groupby(df_email['patch_email']).size().sort_values()\n",
        "tmp_patch_email"
      ],
      "metadata": {
        "colab": {
          "base_uri": "https://localhost:8080/"
        },
        "id": "cjHq3gUiI6bS",
        "outputId": "90f14185-27b5-46e8-e93b-ac62964c610b"
      },
      "execution_count": 74,
      "outputs": [
        {
          "output_type": "execute_result",
          "data": {
            "text/plain": [
              "patch_email\n",
              "0     34\n",
              "1    242\n",
              "dtype: int64"
            ]
          },
          "metadata": {},
          "execution_count": 74
        }
      ]
    },
    {
      "cell_type": "markdown",
      "source": [
        "### &#9759; Patch Churn Feature"
      ],
      "metadata": {
        "id": "O8M6NASxQL1O"
      }
    },
    {
      "cell_type": "code",
      "source": [
        "df_email['patch_churn'] = df_email.apply(lambda row: 1 if check_if_patch(\"patch\")(row['subject']) else 0, axis=1)"
      ],
      "metadata": {
        "id": "fAvEvcFDQOPR"
      },
      "execution_count": 90,
      "outputs": []
    },
    {
      "cell_type": "markdown",
      "source": [
        "### &#9759; Bug Fix Feature"
      ],
      "metadata": {
        "id": "2ViV_FdfQZRF"
      }
    },
    {
      "cell_type": "code",
      "source": [
        "# is_bug_fix = is_patch_churn\n",
        "# is_new_feature = is_patch_churn\n",
        "df_email['bug_fix'] = df_email.apply(lambda row: 1 if row['patch_churn'] == 1 else 0, axis=1)"
      ],
      "metadata": {
        "id": "8qjktOPOQY1H"
      },
      "execution_count": 91,
      "outputs": []
    },
    {
      "cell_type": "markdown",
      "source": [
        "### &#9759; New Feature"
      ],
      "metadata": {
        "id": "Xv4DqVWLQ4SB"
      }
    },
    {
      "cell_type": "code",
      "source": [
        "df_email['new_feature'] = df_email.apply(lambda row: 1 if row['patch_churn'] == 1 else 0, axis=1)"
      ],
      "metadata": {
        "id": "WCAYp-7LQ9Tc"
      },
      "execution_count": 92,
      "outputs": []
    },
    {
      "cell_type": "markdown",
      "source": [
        "### &#9759; First Patch Thread Feature"
      ],
      "metadata": {
        "id": "RlpnjsUwKTGE"
      }
    },
    {
      "cell_type": "code",
      "source": [
        "# thread_id: 20200801150050.767038-1-masahiroy@kernel.org\n",
        "\n",
        "# ORIGINAL LOGIC: CHECK WITH HUASCAR\n",
        "# is_first_patch_thread = 1 if not np.isnan(row['thread']) else 0"
      ],
      "metadata": {
        "id": "72kbP-z6I8FA"
      },
      "execution_count": null,
      "outputs": []
    },
    {
      "cell_type": "code",
      "source": [
        "df_email['first_patch_thread'] = df_email.apply(lambda row: 1 if row['thread_id'] and not row['reply_to_message_id'] else 0, axis=1)"
      ],
      "metadata": {
        "id": "3VJ33nGxPxQu"
      },
      "execution_count": 88,
      "outputs": []
    },
    {
      "cell_type": "code",
      "source": [
        "tmp_first_patch_thread = df_email.groupby(df_email['first_patch_thread']).size().sort_values()\n",
        "tmp_first_patch_thread"
      ],
      "metadata": {
        "colab": {
          "base_uri": "https://localhost:8080/"
        },
        "id": "UG1wadf6KsIj",
        "outputId": "0de92120-d5f1-4b7b-b0c9-a8fb12d492b2"
      },
      "execution_count": 89,
      "outputs": [
        {
          "output_type": "execute_result",
          "data": {
            "text/plain": [
              "first_patch_thread\n",
              "1     67\n",
              "0    209\n",
              "dtype: int64"
            ]
          },
          "metadata": {},
          "execution_count": 89
        }
      ]
    },
    {
      "cell_type": "markdown",
      "source": [
        "### &#9759; Accepted Patch Feature"
      ],
      "metadata": {
        "id": "njxtQmLTXDxA"
      }
    },
    {
      "cell_type": "code",
      "source": [
        "def check_if_patch_is_accepted(patches_df: pd.DataFrame, patches_df_column: str, message_id: str) -> int:\n",
        "    \"\"\"checks if a patch email exists in lkmlByPatches.csv\n",
        "       return 1 if the patch is accepted\n",
        "       return 0 if the patch is not accepted\n",
        "       default 0\n",
        "    \"\"\"\n",
        "    # tmp_msgid = \"<\" + message_id + \">\"\n",
        "    # res = patches_df[patches_df[patches_df_column].str.contains(message_id)]\n",
        "    res = patches_df[patches_df[patches_df_column] == message_id]\n",
        "    if not res.empty:\n",
        "        # there were cases where multiple rows are returned, \n",
        "        # this might be an issue with how lkmlByPatches is constructed\n",
        "        # getting into consideration only the first row\n",
        "        # original: if res.state.tolist()[0].casefold() == 'Accepted'.casefold():\n",
        "        if res.iloc[0].state.casefold() == 'Accepted'.casefold():\n",
        "            return 1\n",
        "        else:\n",
        "            return 0\n",
        "    else:\n",
        "        return 0"
      ],
      "metadata": {
        "id": "0orMQ_E6MC06"
      },
      "execution_count": 94,
      "outputs": []
    },
    {
      "cell_type": "code",
      "source": [
        "df_email['accepted_patch'] = df_email.apply(lambda row: check_if_patch_is_accepted(patches_df=df_patches, patches_df_column='mail_id', message_id=row['message_id']), axis=1)"
      ],
      "metadata": {
        "id": "3H9OaAfEXlFx"
      },
      "execution_count": 95,
      "outputs": []
    },
    {
      "cell_type": "code",
      "source": [
        "tmp_accepted_patch = df_email.groupby(df_email['accepted_patch']).size().sort_values()\n",
        "tmp_accepted_patch"
      ],
      "metadata": {
        "colab": {
          "base_uri": "https://localhost:8080/"
        },
        "id": "SQMYXXkPYjmh",
        "outputId": "14adf465-e4e8-41ba-a6a6-c193a64ac6ec"
      },
      "execution_count": 96,
      "outputs": [
        {
          "output_type": "execute_result",
          "data": {
            "text/plain": [
              "accepted_patch\n",
              "1      5\n",
              "0    271\n",
              "dtype: int64"
            ]
          },
          "metadata": {},
          "execution_count": 96
        }
      ]
    },
    {
      "cell_type": "markdown",
      "source": [
        "### &#9759; Accepted Commit Feature"
      ],
      "metadata": {
        "id": "_M5udKqwXImm"
      }
    },
    {
      "cell_type": "code",
      "source": [
        "def check_if_commit_is_accepted(patches_df: pd.DataFrame, patches_df_column: str, message_id: str) -> int:\n",
        "    # tmp_msgid = \"<\" + message_id + \">\"\n",
        "    res = patches_df[patches_df[patches_df_column] == message_id]\n",
        "    if not res.empty:\n",
        "        # if str(res.iloc[0].commit) or str(res.iloc[0].hash):\n",
        "        if str(res.iloc[0].commit_hash):\n",
        "            return 1\n",
        "        else:\n",
        "            return 0\n",
        "    else:\n",
        "        return 0"
      ],
      "metadata": {
        "id": "E9_ieOSxXKs3"
      },
      "execution_count": 97,
      "outputs": []
    },
    {
      "cell_type": "code",
      "source": [
        "df_email['accepted_commit'] = df_email.apply(lambda row: check_if_commit_is_accepted(patches_df=df_patches, patches_df_column='mail_id', message_id=row['message_id']), axis=1)"
      ],
      "metadata": {
        "id": "5YgDPkumZPwZ"
      },
      "execution_count": 98,
      "outputs": []
    },
    {
      "cell_type": "code",
      "source": [
        "tmp_accepted_commit = df_email.groupby(df_email['accepted_commit']).size().sort_values()\n",
        "tmp_accepted_commit"
      ],
      "metadata": {
        "colab": {
          "base_uri": "https://localhost:8080/"
        },
        "id": "VuzoOaq6ZXMF",
        "outputId": "780e7eb9-a3b6-429f-895d-4e0ef6c90613"
      },
      "execution_count": 99,
      "outputs": [
        {
          "output_type": "execute_result",
          "data": {
            "text/plain": [
              "accepted_commit\n",
              "1     74\n",
              "0    202\n",
              "dtype: int64"
            ]
          },
          "metadata": {},
          "execution_count": 99
        }
      ]
    },
    {
      "cell_type": "markdown",
      "source": [
        "### &#9759; reply_within_4hr Feature"
      ],
      "metadata": {
        "id": "hnuqJ2zRZlks"
      }
    },
    {
      "cell_type": "code",
      "source": [
        "def time_lapsed_in_seconds(email_df, target_email):\n",
        "    \"\"\"Given an email search for the earliest email in the dataframe \n",
        "       that replies to it and calculate time lapsed in seconds.\n",
        "       \n",
        "       TLDR: \n",
        "       1. Search for the emails where in_reply_to == email_id\n",
        "       2. Sort the answer if the returned DF is not empty\n",
        "       3. Get the earliest response\n",
        "       4. Do the time difference\n",
        "       \n",
        "       return time_lapsed_in_min if reply exists\n",
        "       return -1 if the email has not received any reply\n",
        "    \"\"\"\n",
        "    tmp_df = email_df[email_df['in_reply_to'] == target_email['emailId']]\n",
        "    \n",
        "    if not tmp_df.empty:\n",
        "#         tmp_df_sorted = sort_emails_by_date(input_df=tmp_df, sort_column='timestampSent')\n",
        "        tmp_df_sorted = tmp_df.sort_values(by='timestampSent', ascending=True)\n",
        "#         print(tmp_df_sorted.iloc[0]['timestampSent'], row['timestampSent'])\n",
        "        time_diff = tmp_df_sorted.iloc[0]['timestampSent'] - row['timestampSent']\n",
        "        time_lapsed_secs = time_diff.total_seconds()\n",
        "        return abs(time_lapsed_secs)\n",
        "    else:\n",
        "        return -1"
      ],
      "metadata": {
        "id": "RPU1x7HWZeKN"
      },
      "execution_count": null,
      "outputs": []
    }
  ]
}