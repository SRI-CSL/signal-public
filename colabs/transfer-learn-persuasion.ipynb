{
 "cells": [
  {
   "cell_type": "markdown",
   "id": "014e2554",
   "metadata": {},
   "source": [
    "<h1 align=\"center\">Software Introspection for Signaling Emergent Cyber-Social Operations (SIGNAL)</h1>\n",
    "<h2 align=\"center\">SRI International</h2>\n",
    "<h3 align=\"center\">In support of DARPA AIE Hybrid AI to Protect Integrity of Open Source Code (SocialCyber)</h3>"
   ]
  },
  {
   "cell_type": "markdown",
   "id": "6ce5810f",
   "metadata": {},
   "source": [
    "## Introduction\n",
    "\n",
    "In this notebook, we provide pretrained RandomForest models trained on the Persuasion for Good (P4G) dataset from Wang et al. [1]. For the interested reader, the P4G dataset is publicly available on GitLab, see [HERE](https://gitlab.com/ucdavisnlp/persuasionforgood/tree/master/data). Wang et al. emphasize the need for understanding the intrinsic disclosure and appeal strategies taking place in human persuasion conversations. In their words, being able to model such properties would lead to advancements in the ethical developments of automated dialogue systems [1].\n",
    "\n",
    "In the context of the SIGNAL project, and SocialCyber overall program, we foresaw three main benefits resulting from the adoption and use of P4G dataset, namely:\n",
    "1. Assist in enriching the developer communication networks.,\n",
    "2. Help in understanding and modeling the developer communications in the LKML.,\n",
    "3. Provide an additional axis of information, indicating the persuasion strategies used by developers when trying to push their patches upstream in the Linux Kernel.\n",
    "\n",
    "### In this tutorial...\n",
    "\n",
    "We will start by demonstrating the performance of a Random Forest ([RF](https://scikit-learn.org/stable/modules/generated/sklearn.ensemble.RandomForestClassifier.html)) model pre-trained on P4G data. We opted for Random Forests, as the original Hybrid-RCNN architecture presented by [1] would take a substantial amount of time to train on the data (When testing Hybrid-RCNN, one single round of training required more than 12-hours when run over a single GPU). Furthermore, RFs provided comparable accuracy to the Hybrid-RCNN.\n",
    "\n",
    "#### Transfer Learning\n",
    "\n",
    "To adapt the RF model to the LKML data, we made use of *Transfer Learning* techniques. Transfer Learning enables re-purposing *trained* machine learning (ML) models to new tasks, as long as these tasks share some similarities with one another. TL is heavily used in deep learning tasks, where data or resource contraints prohibit the research community to train DL models from scratch.\n",
    "\n",
    "##### Structure Expansion Reduction Algorithm\n",
    "\n",
    "To enable the use of transfer learning on RF models, we turned our attention to the work of Segev et al. [2], where the authors introduce the structure expansion reduction (**SER**) algorithm. SER has two variants: 1) The first variant greedily searches and applies local modifications to each decision tree, expanding or reducing the tree around individual nodes; 2) The second variant of SER works by modifying the parameters of a selected decision tree component. We implement both of these variants using the original work by Segev et al. [2] and the subsequent work by Minvielle et al. [3] as basis.\n",
    "\n",
    "#### References\n",
    "\n",
    "[1] Wang, Xuewei, Weiyan Shi, Richard Kim, Yoojung Oh, Sijia Yang, Jingwen Zhang, and Zhou Yu. \"*Persuasion for good: Towards a personalized persuasive dialogue system for social good.*\" Proceedings of the 57th Annual Meeting of the Association for Computational Linguistics. ACL (2019). [PDF](https://arxiv.org/pdf/1906.06725.pdf).\n",
    "\n",
    "[2] Segev, Noam, Maayan Harel, Shie Mannor, Koby Crammer, and Ran El-Yaniv. \"*Learn on source, refine on target: A model transfer learning framework with random forests.*\" IEEE transactions on pattern analysis and machine intelligence 39, no. 9 (2016): 1811-1824. [PDF](https://arxiv.org/pdf/1511.01258.pdf).\n",
    "\n",
    "[3] Minvielle, Ludovic, Mounir Atiq, Sergio Peignier, and Mathilde Mougeot. \"*Transfer Learning on Decision Tree with Class Imbalance.*\" In 2019 IEEE 31st International Conference on Tools with Artificial Intelligence (ICTAI), pp. 1003-1010. IEEE, 2019. [PDF](https://ieeexplore.ieee.org/abstract/document/8995296).\n",
    "\n",
    "#### Disclaimer\n",
    "\n",
    "The content of this notebook is released under the **GNU General Public License v3.0**, see [LICENSE](https://github.com/SRI-CSL/signal-public/blob/main/LICENSE)."
   ]
  },
  {
   "cell_type": "markdown",
   "id": "27e38204",
   "metadata": {},
   "source": [
    "## Demo"
   ]
  },
  {
   "cell_type": "code",
   "execution_count": 8,
   "id": "39bcf87f",
   "metadata": {},
   "outputs": [
    {
     "ename": "ModuleNotFoundError",
     "evalue": "No module named 'ser_algo'",
     "output_type": "error",
     "traceback": [
      "\u001b[0;31m---------------------------------------------------------------------------\u001b[0m",
      "\u001b[0;31mModuleNotFoundError\u001b[0m                       Traceback (most recent call last)",
      "\u001b[0;32m/var/folders/6r/cpn3z61n00v00zjcctxm1b_wv1ktmg/T/ipykernel_84965/186404549.py\u001b[0m in \u001b[0;36m<module>\u001b[0;34m\u001b[0m\n\u001b[1;32m      7\u001b[0m \u001b[0;32mfrom\u001b[0m \u001b[0msklearn\u001b[0m\u001b[0;34m.\u001b[0m\u001b[0mensemble\u001b[0m \u001b[0;32mimport\u001b[0m \u001b[0mRandomForestClassifier\u001b[0m\u001b[0;34m\u001b[0m\u001b[0;34m\u001b[0m\u001b[0m\n\u001b[1;32m      8\u001b[0m \u001b[0;34m\u001b[0m\u001b[0m\n\u001b[0;32m----> 9\u001b[0;31m \u001b[0;32mfrom\u001b[0m \u001b[0mser\u001b[0m\u001b[0;34m.\u001b[0m\u001b[0mser_trees\u001b[0m \u001b[0;32mimport\u001b[0m \u001b[0;34m*\u001b[0m\u001b[0;34m\u001b[0m\u001b[0;34m\u001b[0m\u001b[0m\n\u001b[0m\u001b[1;32m     10\u001b[0m \u001b[0;32mimport\u001b[0m \u001b[0mser\u001b[0m\u001b[0;34m.\u001b[0m\u001b[0mapi\u001b[0m \u001b[0;32mas\u001b[0m \u001b[0mapi\u001b[0m\u001b[0;34m\u001b[0m\u001b[0;34m\u001b[0m\u001b[0m\n",
      "\u001b[0;32m~/Documents/SVN/SIGNAL/CODE/signal-public/colabs/ser/ser_trees.py\u001b[0m in \u001b[0;36m<module>\u001b[0;34m\u001b[0m\n\u001b[1;32m     12\u001b[0m \u001b[0;32mfrom\u001b[0m \u001b[0msklearn\u001b[0m\u001b[0;34m.\u001b[0m\u001b[0mtree\u001b[0m \u001b[0;32mimport\u001b[0m \u001b[0mDecisionTreeClassifier\u001b[0m\u001b[0;34m\u001b[0m\u001b[0;34m\u001b[0m\u001b[0m\n\u001b[1;32m     13\u001b[0m \u001b[0;34m\u001b[0m\u001b[0m\n\u001b[0;32m---> 14\u001b[0;31m \u001b[0;32mimport\u001b[0m \u001b[0mser_algo\u001b[0m \u001b[0;32mas\u001b[0m \u001b[0mser\u001b[0m\u001b[0;34m\u001b[0m\u001b[0;34m\u001b[0m\u001b[0m\n\u001b[0m\u001b[1;32m     15\u001b[0m \u001b[0;34m\u001b[0m\u001b[0m\n\u001b[1;32m     16\u001b[0m \u001b[0;34m\u001b[0m\u001b[0m\n",
      "\u001b[0;31mModuleNotFoundError\u001b[0m: No module named 'ser_algo'"
     ]
    }
   ],
   "source": [
    "import sys\n",
    "import os\n",
    "\n",
    "import pickle\n",
    "\n",
    "from sklearn.feature_extraction.text import TfidfVectorizer\n",
    "from sklearn.ensemble import RandomForestClassifier\n",
    "\n",
    "from ser.ser_trees import * \n",
    "import ser.api as api"
   ]
  },
  {
   "cell_type": "code",
   "execution_count": 4,
   "id": "85f0a507",
   "metadata": {},
   "outputs": [],
   "source": [
    "PARENT_DIR = os.path.abspath(os.path.join(os.getcwd(), os.pardir))\n",
    "sys.path.append(PARENT_DIR)\n",
    "\n",
    "DATASETS_DIR = os.path.join(PARENT_DIR, 'data')\n",
    "MODELS_DIR = os.path.join(PARENT_DIR, 'models')"
   ]
  },
  {
   "cell_type": "code",
   "execution_count": 5,
   "id": "1675a80c",
   "metadata": {},
   "outputs": [],
   "source": [
    "id2label = {0: 'task-related-inquiry',\n",
    "             1: 'credibility-appeal',\n",
    "             2: 'logical-appeal',\n",
    "             3: 'personal-related-inquiry',\n",
    "             4: 'source-related-inquiry',\n",
    "             5: 'donation-information',\n",
    "             6: 'foot-in-the-door',\n",
    "             7: 'emotion-appeal',\n",
    "             8: 'self-modeling',\n",
    "             9: 'personal-story'}"
   ]
  },
  {
   "cell_type": "code",
   "execution_count": 6,
   "id": "c0192b28",
   "metadata": {},
   "outputs": [
    {
     "name": "stderr",
     "output_type": "stream",
     "text": [
      "/anaconda2/envs/signal-env/lib/python3.9/site-packages/sklearn/base.py:329: UserWarning: Trying to unpickle estimator TfidfTransformer from version 0.24.2 when using version 1.0.2. This might lead to breaking code or invalid results. Use at your own risk. For more info please refer to:\n",
      "https://scikit-learn.org/stable/modules/model_persistence.html#security-maintainability-limitations\n",
      "  warnings.warn(\n",
      "/anaconda2/envs/signal-env/lib/python3.9/site-packages/sklearn/base.py:329: UserWarning: Trying to unpickle estimator TfidfVectorizer from version 0.24.2 when using version 1.0.2. This might lead to breaking code or invalid results. Use at your own risk. For more info please refer to:\n",
      "https://scikit-learn.org/stable/modules/model_persistence.html#security-maintainability-limitations\n",
      "  warnings.warn(\n",
      "/anaconda2/envs/signal-env/lib/python3.9/site-packages/sklearn/base.py:329: UserWarning: Trying to unpickle estimator DecisionTreeClassifier from version 0.24.2 when using version 1.0.2. This might lead to breaking code or invalid results. Use at your own risk. For more info please refer to:\n",
      "https://scikit-learn.org/stable/modules/model_persistence.html#security-maintainability-limitations\n",
      "  warnings.warn(\n",
      "/anaconda2/envs/signal-env/lib/python3.9/site-packages/sklearn/base.py:329: UserWarning: Trying to unpickle estimator RandomForestClassifier from version 0.24.2 when using version 1.0.2. This might lead to breaking code or invalid results. Use at your own risk. For more info please refer to:\n",
      "https://scikit-learn.org/stable/modules/model_persistence.html#security-maintainability-limitations\n",
      "  warnings.warn(\n"
     ]
    }
   ],
   "source": [
    "tfidf_file_path = os.path.join(MODELS_DIR, 'tfidf_09172021.pkl')\n",
    "rf_base_file_path = os.path.join(MODELS_DIR, 'rfclf_09172021.pkl')\n",
    "rf_ser_file_path = os.path.join(MODELS_DIR, 'rf_tl_model_red.pkl')\n",
    "\n",
    "with open(tfidf_file_path, 'rb') as tf:\n",
    "    tfidf = pickle.load(tf)\n",
    "\n",
    "with open(rf_base_file_path, 'rb') as rb:\n",
    "    rf_base = pickle.load(rb)\n",
    "\n",
    "# with open(rf_ser_file_path, 'rb') as rs:\n",
    "#     rf_ser = pickle.load(rs)"
   ]
  },
  {
   "cell_type": "code",
   "execution_count": 7,
   "id": "cd37029d",
   "metadata": {},
   "outputs": [
    {
     "data": {
      "text/plain": [
       "'task-related-inquiry'"
      ]
     },
     "execution_count": 7,
     "metadata": {},
     "output_type": "execute_result"
    }
   ],
   "source": [
    "id2label[rf_base.predict(tfidf.transform([\"Are you involved with charities?\"]))[0]]"
   ]
  },
  {
   "cell_type": "code",
   "execution_count": null,
   "id": "ce6862b0",
   "metadata": {},
   "outputs": [],
   "source": []
  }
 ],
 "metadata": {
  "kernelspec": {
   "display_name": "Python 3 (ipykernel)",
   "language": "python",
   "name": "python3"
  },
  "language_info": {
   "codemirror_mode": {
    "name": "ipython",
    "version": 3
   },
   "file_extension": ".py",
   "mimetype": "text/x-python",
   "name": "python",
   "nbconvert_exporter": "python",
   "pygments_lexer": "ipython3",
   "version": "3.9.6"
  }
 },
 "nbformat": 4,
 "nbformat_minor": 5
}
