{
  "cells": [
    {
      "cell_type": "markdown",
      "metadata": {
        "colab_type": "text",
        "id": "view-in-github"
      },
      "source": [
        "[![Open In Colab](https://colab.research.google.com/assets/colab-badge.svg)](https://colab.research.google.com/github/SRI-CSL/signal-public/blob/main/colabs/transfer_learning_persuasion_classification.ipynb)"
      ]
    },
    {
      "cell_type": "markdown",
      "metadata": {
        "id": "KOZVnPAGXODd"
      },
      "source": [
        "<!-- # **SIGNAL**ing LKML `activity usage` evolution  -->\n",
        "\n",
        "<!-- <h1 style=\"font-size:20em;\"> <strong>SIGNAL</strong><i>ing</i> <code>persuasion cues</code> in LKML<h1> -->\n",
        "\n",
        "# SIGNAL*ing* `persuasion cues` in LKML"
      ]
    },
    {
      "cell_type": "markdown",
      "metadata": {
        "id": "sp2pbWY7rMFm"
      },
      "source": [
        "##### **Copyright 2022 SRI International.**"
      ]
    },
    {
      "cell_type": "markdown",
      "metadata": {
        "id": "8Vz5HiwnreaY"
      },
      "source": [
        "This project is under the GPL3 License. \n",
        "See the [LICENSE](https://www.gnu.org/licenses/gpl-3.0.en.html) file for the full license text."
      ]
    },
    {
      "cell_type": "markdown",
      "metadata": {
        "id": "Dyox3EZ8kMx3"
      },
      "source": [
        "# 🏃‍♀️ Quickstart"
      ]
    },
    {
      "cell_type": "markdown",
      "metadata": {
        "id": "_He5GHPnAjp2"
      },
      "source": [
        "## 🪄 Install `needed` libraries\n"
      ]
    },
    {
      "cell_type": "code",
      "execution_count": 87,
      "metadata": {
        "id": "PCb8ZYT7Ahpl"
      },
      "outputs": [],
      "source": [
        "import os\n",
        "\n",
        "import joblib\n",
        "import matplotlib.pyplot as plt\n",
        "import numpy as np\n",
        "import pandas as pd\n",
        "import pickle\n",
        "\n",
        "from sklearn.ensemble import RandomForestClassifier\n",
        "from sklearn.feature_extraction.text import TfidfVectorizer\n",
        "from sklearn.metrics import (accuracy_score, confusion_matrix, classification_report, precision_score, recall_score)\n",
        "from sklearn.model_selection import (GridSearchCV, cross_val_score, train_test_split)"
      ]
    },
    {
      "cell_type": "code",
      "execution_count": null,
      "metadata": {},
      "outputs": [],
      "source": [
        "# Load preprocessed data and remove unnecessary columns\n",
        "ser_algo = 'https://raw.githubusercontent.com/SRI-CSL/signal-public/main/colabs/ser.py'\n",
        "!wget --no-cache --backups=1 {ser_algo}\n",
        "\n",
        "try:\n",
        "  # transfer learning setup for the Random forest classifier\n",
        "  import ser\n",
        "except:\n",
        "  !wget --no-cache --backups=1 {ser_algo}\n",
        "  import ser"
      ]
    },
    {
      "cell_type": "code",
      "execution_count": 2,
      "metadata": {
        "id": "OQG-l9KJAPEg"
      },
      "outputs": [],
      "source": [
        "%matplotlib inline\n",
        "%config InlineBackend.figure_format='retina'"
      ]
    },
    {
      "cell_type": "code",
      "execution_count": 3,
      "metadata": {
        "id": "ODSa-QVSA6b9"
      },
      "outputs": [],
      "source": [
        "np.random.seed(0)"
      ]
    },
    {
      "cell_type": "markdown",
      "metadata": {
        "id": "54yXJJRVBTTe"
      },
      "source": [
        "## ⚙ Define `helper` functions"
      ]
    },
    {
      "cell_type": "code",
      "execution_count": 4,
      "metadata": {
        "id": "yyFMvR2VCW72"
      },
      "outputs": [],
      "source": [
        "from itertools import islice\n",
        "\n",
        "# a few helper methods\n",
        "def take(n, iterable):\n",
        "  \"Return first n items of the iterable as a list\"\n",
        "  return list(islice(iterable, n))\n",
        "\n",
        "def take_from_dict(n, d):\n",
        "  return take(n, d.items())"
      ]
    },
    {
      "cell_type": "code",
      "execution_count": 5,
      "metadata": {},
      "outputs": [],
      "source": [
        "def print_results(results):\n",
        "  print('BEST PARAMS: {}\\n'.format(results.best_params_))\n",
        "\n",
        "  means = results.cv_results_['mean_test_score']\n",
        "  stds = results.cv_results_['std_test_score']\n",
        "  for mean, std, params in zip(means, stds, results.cv_results_['params']):\n",
        "    print('{} (+/-{}) for {}'.format(round(mean, 3), round(std * 2, 3), params))"
      ]
    },
    {
      "cell_type": "code",
      "execution_count": 6,
      "metadata": {},
      "outputs": [],
      "source": [
        "def get_best_estimator(clf, X, y, **fit_params):\n",
        "  f_dict = dict()\n",
        "  f_dict.update(fit_params)\n",
        "  cv = GridSearchCV(clf, f_dict, cv=5)\n",
        "  cv.fit(X, y)\n",
        "  print_results(cv)\n",
        "  return cv.best_estimator_"
      ]
    },
    {
      "cell_type": "code",
      "execution_count": 52,
      "metadata": {},
      "outputs": [],
      "source": [
        "def get_label(y_pred, mapping):\n",
        "  if len(y_pred) == 0:\n",
        "    raise ValueError(\"Nothing to humanize\")\n",
        "  \n",
        "  y_pred = y_pred[0]\n",
        "  return mapping.get(y_pred, \"Unknown strategy\")"
      ]
    },
    {
      "cell_type": "code",
      "execution_count": 8,
      "metadata": {},
      "outputs": [],
      "source": [
        "def pad_to_dense(M, maxlen=100):\n",
        "  \"\"\"thx to https://stackoverflow.com/questions/37676539:\n",
        "  Appends the minimal required amount of zeroes at the end of each \n",
        "  array in the jagged array `M`, such that `M` looses its jaggedness.\n",
        "  \"\"\"\n",
        "  Z = np.zeros((len(M), maxlen))\n",
        "  for enu, row in enumerate(M):\n",
        "    Z[enu, :len(row)] += row \n",
        "  return Z"
      ]
    },
    {
      "cell_type": "code",
      "execution_count": 9,
      "metadata": {},
      "outputs": [],
      "source": [
        "def get_padded_input_vector(tfidf, text, shape):\n",
        "  return pad_to_dense(tfidf.transform([text]).toarray(), shape[1])"
      ]
    },
    {
      "cell_type": "code",
      "execution_count": 60,
      "metadata": {},
      "outputs": [],
      "source": [
        "def predict_persuasion(txt, model, transformer, mapping, maxlen, padding=False):\n",
        "  X_pad = None\n",
        "  if padding:\n",
        "    X_pad = get_padded_input_vector(transformer, txt, (1, maxlen))\n",
        "  else:\n",
        "    X_pad = transformer.transform([txt])\n",
        "  y_pred = model.predict(X_pad)\n",
        "  \n",
        "  label = get_label(y_pred, mapping)\n",
        "  conf = model.predict_proba(X_pad)[0]\n",
        "  conf = round(max(conf), 3)\n",
        "  output = {'label': label, 'confidence': conf}\n",
        "  return output"
      ]
    },
    {
      "cell_type": "markdown",
      "metadata": {
        "id": "ElEdlNRBOSJ9"
      },
      "source": [
        "## 🧹 Data cleaning and preparation\n",
        "\n",
        "This section takes the existing P4G dataset and then prepare them to perform persuasion classification.\n",
        "If the `dialog_data.csv` is available, the next series of steps are then optional and one move directly to the cell the loads this file."
      ]
    },
    {
      "cell_type": "code",
      "execution_count": 10,
      "metadata": {},
      "outputs": [
        {
          "name": "stdout",
          "output_type": "stream",
          "text": [
            "Go to step: \"Re-load dialog_data.csv data\"\n"
          ]
        }
      ],
      "source": [
        "if os.path.exists('../data/dialog_data.csv'):\n",
        "  print('Go to step: \"Re-load dialog_data.csv data\"')\n",
        "else: \n",
        "  print('Continue with step: \"Re-process dialog_data.csv data\"')"
      ]
    },
    {
      "cell_type": "markdown",
      "metadata": {},
      "source": [
        "### Re-process `dialog_data.csv` data"
      ]
    },
    {
      "cell_type": "code",
      "execution_count": null,
      "metadata": {
        "id": "8NTTQy2p8Lc_"
      },
      "outputs": [],
      "source": [
        "# data are available locally.\n",
        "# In Colab mode, this variable should be set to False\n",
        "IS_LOCAL_FILE = True"
      ]
    },
    {
      "cell_type": "code",
      "execution_count": null,
      "metadata": {
        "id": "7wgHz7Ulg3Bh"
      },
      "outputs": [],
      "source": [
        "P4G_dialogs_xlsx = '300_dialog.xlsx'"
      ]
    },
    {
      "cell_type": "code",
      "execution_count": null,
      "metadata": {
        "colab": {
          "base_uri": "https://localhost:8080/"
        },
        "id": "hkPJPCudhPQh",
        "outputId": "67fa4185-e560-452b-8b49-c6803a7bc5f3"
      },
      "outputs": [
        {
          "name": "stdout",
          "output_type": "stream",
          "text": [
            "../data/300_dialog.xlsx already exist!\n"
          ]
        }
      ],
      "source": [
        "# Load preprocessed data and remove unnecessary columns\n",
        "data_file = f'https://raw.githubusercontent.com/SRI-CSL/signal-public/main/data/{P4G_dialogs_xlsx}'\n",
        "if IS_LOCAL_FILE:\n",
        "  data_file = f'../data/{P4G_dialogs_xlsx}'\n",
        "  if not os.path.exists(data_file):\n",
        "    !wget --load-cookies /tmp/cookies.txt \"https://docs.google.com/uc?export=download&confirm=$(wget --quiet --save-cookies /tmp/cookies.txt --keep-session-cookies --no-check-certificate 'https://docs.google.com/uc?export=download&id=1qw9CVHSH9gSpgVNmRH62IAF3tiJTjqC0' -O- | sed -rn 's/.*confirm=([0-9A-Za-z_]+).*/\\1\\n/p')&id=1qw9CVHSH9gSpgVNmRH62IAF3tiJTjqC0\" -O '300_dialog.xlsx' && rm -rf /tmp/cookies.txt\n",
        "  else:\n",
        "    print(f\"{data_file} already exist!\")"
      ]
    },
    {
      "cell_type": "code",
      "execution_count": null,
      "metadata": {
        "id": "WAttoN7NCV-6"
      },
      "outputs": [],
      "source": [
        "dialogs_df = pd.read_excel(data_file)"
      ]
    },
    {
      "cell_type": "code",
      "execution_count": null,
      "metadata": {
        "colab": {
          "base_uri": "https://localhost:8080/"
        },
        "id": "ePPJnPKgCWJl",
        "outputId": "92894b44-46f1-4172-9b7c-36276736ef95"
      },
      "outputs": [
        {
          "name": "stdout",
          "output_type": "stream",
          "text": [
            "<class 'pandas.core.frame.DataFrame'>\n",
            "RangeIndex: 10864 entries, 0 to 10863\n",
            "Data columns (total 12 columns):\n",
            " #   Column      Non-Null Count  Dtype  \n",
            "---  ------      --------------  -----  \n",
            " 0   Unnamed: 0  10864 non-null  int64  \n",
            " 1   B2          10864 non-null  object \n",
            " 2   B4          10864 non-null  int64  \n",
            " 3   Turn        10864 non-null  int64  \n",
            " 4   Unit        10864 non-null  object \n",
            " 5   er_label_1  6017 non-null   object \n",
            " 6   ee_label_1  4847 non-null   object \n",
            " 7   er_label_2  22 non-null     object \n",
            " 8   ee_label_2  15 non-null     object \n",
            " 9   neg         10235 non-null  float64\n",
            " 10  neu         10235 non-null  float64\n",
            " 11  pos         10235 non-null  float64\n",
            "dtypes: float64(3), int64(3), object(6)\n",
            "memory usage: 1018.6+ KB\n"
          ]
        }
      ],
      "source": [
        "dialogs_df.info()"
      ]
    },
    {
      "cell_type": "code",
      "execution_count": null,
      "metadata": {
        "colab": {
          "base_uri": "https://localhost:8080/",
          "height": 209
        },
        "id": "1NIb8v6yCWSW",
        "outputId": "2e14ed63-0995-4e5c-fbd2-ed27278c961b"
      },
      "outputs": [
        {
          "data": {
            "text/html": [
              "<div>\n",
              "<style scoped>\n",
              "    .dataframe tbody tr th:only-of-type {\n",
              "        vertical-align: middle;\n",
              "    }\n",
              "\n",
              "    .dataframe tbody tr th {\n",
              "        vertical-align: top;\n",
              "    }\n",
              "\n",
              "    .dataframe thead th {\n",
              "        text-align: right;\n",
              "    }\n",
              "</style>\n",
              "<table border=\"1\" class=\"dataframe\">\n",
              "  <thead>\n",
              "    <tr style=\"text-align: right;\">\n",
              "      <th></th>\n",
              "      <th>Unnamed: 0</th>\n",
              "      <th>B2</th>\n",
              "      <th>B4</th>\n",
              "      <th>Turn</th>\n",
              "      <th>Unit</th>\n",
              "      <th>er_label_1</th>\n",
              "      <th>ee_label_1</th>\n",
              "      <th>er_label_2</th>\n",
              "      <th>ee_label_2</th>\n",
              "      <th>neg</th>\n",
              "      <th>neu</th>\n",
              "      <th>pos</th>\n",
              "    </tr>\n",
              "  </thead>\n",
              "  <tbody>\n",
              "    <tr>\n",
              "      <th>0</th>\n",
              "      <td>0</td>\n",
              "      <td>20180719-210146_172_live</td>\n",
              "      <td>0</td>\n",
              "      <td>0</td>\n",
              "      <td>Hello.</td>\n",
              "      <td>greeting</td>\n",
              "      <td>NaN</td>\n",
              "      <td>NaN</td>\n",
              "      <td>NaN</td>\n",
              "      <td>0.0</td>\n",
              "      <td>1.0</td>\n",
              "      <td>0.0</td>\n",
              "    </tr>\n",
              "  </tbody>\n",
              "</table>\n",
              "</div>"
            ],
            "text/plain": [
              "   Unnamed: 0                        B2  B4  Turn    Unit er_label_1  \\\n",
              "0           0  20180719-210146_172_live   0     0  Hello.   greeting   \n",
              "\n",
              "  ee_label_1 er_label_2 ee_label_2  neg  neu  pos  \n",
              "0        NaN        NaN        NaN  0.0  1.0  0.0  "
            ]
          },
          "execution_count": 15,
          "metadata": {},
          "output_type": "execute_result"
        }
      ],
      "source": [
        "dialogs_df.head(1)"
      ]
    },
    {
      "cell_type": "code",
      "execution_count": null,
      "metadata": {},
      "outputs": [],
      "source": [
        "dialogs_df.values[pd.isna(dialogs_df.values)] = None"
      ]
    },
    {
      "cell_type": "code",
      "execution_count": null,
      "metadata": {},
      "outputs": [],
      "source": [
        "# get all the columns where 'er_label_1' is not NaN\n",
        "er_1_df = dialogs_df[dialogs_df['er_label_1'].notna()]"
      ]
    },
    {
      "cell_type": "code",
      "execution_count": null,
      "metadata": {},
      "outputs": [
        {
          "data": {
            "text/html": [
              "<div>\n",
              "<style scoped>\n",
              "    .dataframe tbody tr th:only-of-type {\n",
              "        vertical-align: middle;\n",
              "    }\n",
              "\n",
              "    .dataframe tbody tr th {\n",
              "        vertical-align: top;\n",
              "    }\n",
              "\n",
              "    .dataframe thead th {\n",
              "        text-align: right;\n",
              "    }\n",
              "</style>\n",
              "<table border=\"1\" class=\"dataframe\">\n",
              "  <thead>\n",
              "    <tr style=\"text-align: right;\">\n",
              "      <th></th>\n",
              "      <th>Unnamed: 0</th>\n",
              "      <th>B2</th>\n",
              "      <th>B4</th>\n",
              "      <th>Turn</th>\n",
              "      <th>Unit</th>\n",
              "      <th>er_label_1</th>\n",
              "      <th>ee_label_1</th>\n",
              "      <th>er_label_2</th>\n",
              "      <th>ee_label_2</th>\n",
              "      <th>neg</th>\n",
              "      <th>neu</th>\n",
              "      <th>pos</th>\n",
              "    </tr>\n",
              "  </thead>\n",
              "  <tbody>\n",
              "    <tr>\n",
              "      <th>0</th>\n",
              "      <td>0</td>\n",
              "      <td>20180719-210146_172_live</td>\n",
              "      <td>0</td>\n",
              "      <td>0</td>\n",
              "      <td>Hello.</td>\n",
              "      <td>greeting</td>\n",
              "      <td>NaN</td>\n",
              "      <td>NaN</td>\n",
              "      <td>NaN</td>\n",
              "      <td>0.0</td>\n",
              "      <td>1.000</td>\n",
              "      <td>0.000</td>\n",
              "    </tr>\n",
              "    <tr>\n",
              "      <th>1</th>\n",
              "      <td>1</td>\n",
              "      <td>20180719-210146_172_live</td>\n",
              "      <td>0</td>\n",
              "      <td>0</td>\n",
              "      <td>How are you?</td>\n",
              "      <td>greeting</td>\n",
              "      <td>NaN</td>\n",
              "      <td>NaN</td>\n",
              "      <td>NaN</td>\n",
              "      <td>0.0</td>\n",
              "      <td>1.000</td>\n",
              "      <td>0.000</td>\n",
              "    </tr>\n",
              "    <tr>\n",
              "      <th>3</th>\n",
              "      <td>3</td>\n",
              "      <td>20180719-210146_172_live</td>\n",
              "      <td>0</td>\n",
              "      <td>1</td>\n",
              "      <td>Very well.</td>\n",
              "      <td>greeting</td>\n",
              "      <td>NaN</td>\n",
              "      <td>NaN</td>\n",
              "      <td>NaN</td>\n",
              "      <td>0.0</td>\n",
              "      <td>0.295</td>\n",
              "      <td>0.705</td>\n",
              "    </tr>\n",
              "    <tr>\n",
              "      <th>4</th>\n",
              "      <td>4</td>\n",
              "      <td>20180719-210146_172_live</td>\n",
              "      <td>0</td>\n",
              "      <td>1</td>\n",
              "      <td>I'm just up organizing info for my charity.</td>\n",
              "      <td>other</td>\n",
              "      <td>NaN</td>\n",
              "      <td>NaN</td>\n",
              "      <td>NaN</td>\n",
              "      <td>0.0</td>\n",
              "      <td>0.714</td>\n",
              "      <td>0.286</td>\n",
              "    </tr>\n",
              "    <tr>\n",
              "      <th>5</th>\n",
              "      <td>5</td>\n",
              "      <td>20180719-210146_172_live</td>\n",
              "      <td>0</td>\n",
              "      <td>1</td>\n",
              "      <td>Are you involved with charities?</td>\n",
              "      <td>task-related-inquiry</td>\n",
              "      <td>NaN</td>\n",
              "      <td>NaN</td>\n",
              "      <td>NaN</td>\n",
              "      <td>0.0</td>\n",
              "      <td>0.556</td>\n",
              "      <td>0.444</td>\n",
              "    </tr>\n",
              "  </tbody>\n",
              "</table>\n",
              "</div>"
            ],
            "text/plain": [
              "   Unnamed: 0                        B2  B4  Turn  \\\n",
              "0           0  20180719-210146_172_live   0     0   \n",
              "1           1  20180719-210146_172_live   0     0   \n",
              "3           3  20180719-210146_172_live   0     1   \n",
              "4           4  20180719-210146_172_live   0     1   \n",
              "5           5  20180719-210146_172_live   0     1   \n",
              "\n",
              "                                          Unit            er_label_1  \\\n",
              "0                                       Hello.              greeting   \n",
              "1                                 How are you?              greeting   \n",
              "3                                   Very well.              greeting   \n",
              "4  I'm just up organizing info for my charity.                 other   \n",
              "5             Are you involved with charities?  task-related-inquiry   \n",
              "\n",
              "  ee_label_1 er_label_2 ee_label_2  neg    neu    pos  \n",
              "0        NaN        NaN        NaN  0.0  1.000  0.000  \n",
              "1        NaN        NaN        NaN  0.0  1.000  0.000  \n",
              "3        NaN        NaN        NaN  0.0  0.295  0.705  \n",
              "4        NaN        NaN        NaN  0.0  0.714  0.286  \n",
              "5        NaN        NaN        NaN  0.0  0.556  0.444  "
            ]
          },
          "execution_count": 36,
          "metadata": {},
          "output_type": "execute_result"
        }
      ],
      "source": [
        "er_1_df.head()"
      ]
    },
    {
      "cell_type": "code",
      "execution_count": null,
      "metadata": {},
      "outputs": [],
      "source": [
        "strategy_subset = {\n",
        "  'logical-appeal', 'emotion-appeal', 'credibility-appeal', 'foot-in-the-door', \n",
        "  'self-modeling', 'personal-story', 'donation-information', 'source-related-inquiry',\n",
        "  'task-related-inquiry', 'personal-related-inquiry'}"
      ]
    },
    {
      "cell_type": "code",
      "execution_count": null,
      "metadata": {},
      "outputs": [],
      "source": [
        "filtered_er_1_df = er_1_df.loc[er_1_df['er_label_1'].isin(strategy_subset)]"
      ]
    },
    {
      "cell_type": "code",
      "execution_count": null,
      "metadata": {},
      "outputs": [],
      "source": [
        "dialog_dataset_df = filtered_er_1_df.loc[:, ('Unit', 'er_label_1')]"
      ]
    },
    {
      "cell_type": "code",
      "execution_count": null,
      "metadata": {},
      "outputs": [],
      "source": [
        "dialog_dataset_df.rename(columns={\"Unit\": \"text\", \"er_label_1\": \"persuasion\"}, inplace=True)"
      ]
    },
    {
      "cell_type": "code",
      "execution_count": null,
      "metadata": {},
      "outputs": [
        {
          "data": {
            "text/html": [
              "<div>\n",
              "<style scoped>\n",
              "    .dataframe tbody tr th:only-of-type {\n",
              "        vertical-align: middle;\n",
              "    }\n",
              "\n",
              "    .dataframe tbody tr th {\n",
              "        vertical-align: top;\n",
              "    }\n",
              "\n",
              "    .dataframe thead th {\n",
              "        text-align: right;\n",
              "    }\n",
              "</style>\n",
              "<table border=\"1\" class=\"dataframe\">\n",
              "  <thead>\n",
              "    <tr style=\"text-align: right;\">\n",
              "      <th></th>\n",
              "      <th>text</th>\n",
              "      <th>persuasion</th>\n",
              "      <th>persuasion_id</th>\n",
              "    </tr>\n",
              "  </thead>\n",
              "  <tbody>\n",
              "    <tr>\n",
              "      <th>5</th>\n",
              "      <td>Are you involved with charities?</td>\n",
              "      <td>task-related-inquiry</td>\n",
              "      <td>0</td>\n",
              "    </tr>\n",
              "    <tr>\n",
              "      <th>18</th>\n",
              "      <td>Do you currently donate to your charity?</td>\n",
              "      <td>task-related-inquiry</td>\n",
              "      <td>0</td>\n",
              "    </tr>\n",
              "    <tr>\n",
              "      <th>22</th>\n",
              "      <td>Save The Children is an international non-gove...</td>\n",
              "      <td>credibility-appeal</td>\n",
              "      <td>1</td>\n",
              "    </tr>\n",
              "    <tr>\n",
              "      <th>28</th>\n",
              "      <td>These children really need the assistance.</td>\n",
              "      <td>logical-appeal</td>\n",
              "      <td>2</td>\n",
              "    </tr>\n",
              "    <tr>\n",
              "      <th>34</th>\n",
              "      <td>Do you have any more questions for me?</td>\n",
              "      <td>task-related-inquiry</td>\n",
              "      <td>0</td>\n",
              "    </tr>\n",
              "  </tbody>\n",
              "</table>\n",
              "</div>"
            ],
            "text/plain": [
              "                                                 text            persuasion  \\\n",
              "5                    Are you involved with charities?  task-related-inquiry   \n",
              "18           Do you currently donate to your charity?  task-related-inquiry   \n",
              "22  Save The Children is an international non-gove...    credibility-appeal   \n",
              "28         These children really need the assistance.        logical-appeal   \n",
              "34             Do you have any more questions for me?  task-related-inquiry   \n",
              "\n",
              "    persuasion_id  \n",
              "5               0  \n",
              "18              0  \n",
              "22              1  \n",
              "28              2  \n",
              "34              0  "
            ]
          },
          "execution_count": 129,
          "metadata": {},
          "output_type": "execute_result"
        }
      ],
      "source": [
        "dialog_dataset_df.head()"
      ]
    },
    {
      "cell_type": "code",
      "execution_count": null,
      "metadata": {},
      "outputs": [],
      "source": [
        "dialog_dataset_df.to_csv('../data/dialog_data.csv', index=False)"
      ]
    },
    {
      "cell_type": "markdown",
      "metadata": {},
      "source": [
        "### Re-load `dialog_data.csv` data"
      ]
    },
    {
      "cell_type": "code",
      "execution_count": 11,
      "metadata": {},
      "outputs": [],
      "source": [
        "# Guard clause to determine if the dialog_data.csv is indeed available\n",
        "# Raise an error if it is not.\n",
        "assert os.path.exists('../data/dialog_data.csv')\n",
        "\n",
        "dialog_dataset_df = pd.read_csv('../data/dialog_data.csv')"
      ]
    },
    {
      "cell_type": "markdown",
      "metadata": {},
      "source": [
        "### Data preparation"
      ]
    },
    {
      "cell_type": "code",
      "execution_count": 12,
      "metadata": {},
      "outputs": [],
      "source": [
        "dialog_dataset_df['persuasion_id'] = dialog_dataset_df['persuasion'].factorize()[0]\n",
        "er_dict_df = dialog_dataset_df[['persuasion', 'persuasion_id']].drop_duplicates().sort_values('persuasion_id')"
      ]
    },
    {
      "cell_type": "code",
      "execution_count": 13,
      "metadata": {},
      "outputs": [
        {
          "data": {
            "text/plain": [
              "[('task-related-inquiry', 0),\n",
              " ('credibility-appeal', 1),\n",
              " ('logical-appeal', 2),\n",
              " ('personal-related-inquiry', 3),\n",
              " ('source-related-inquiry', 4),\n",
              " ('donation-information', 5),\n",
              " ('foot-in-the-door', 6),\n",
              " ('emotion-appeal', 7),\n",
              " ('self-modeling', 8),\n",
              " ('personal-story', 9)]"
            ]
          },
          "execution_count": 13,
          "metadata": {},
          "output_type": "execute_result"
        }
      ],
      "source": [
        "label2idx = dict(er_dict_df.values)\n",
        "take_from_dict(len(label2idx), label2idx)"
      ]
    },
    {
      "cell_type": "code",
      "execution_count": 14,
      "metadata": {},
      "outputs": [
        {
          "data": {
            "text/plain": [
              "[(0, 'task-related-inquiry'),\n",
              " (1, 'credibility-appeal'),\n",
              " (2, 'logical-appeal'),\n",
              " (3, 'personal-related-inquiry'),\n",
              " (4, 'source-related-inquiry'),\n",
              " (5, 'donation-information'),\n",
              " (6, 'foot-in-the-door'),\n",
              " (7, 'emotion-appeal'),\n",
              " (8, 'self-modeling'),\n",
              " (9, 'personal-story')]"
            ]
          },
          "execution_count": 14,
          "metadata": {},
          "output_type": "execute_result"
        }
      ],
      "source": [
        "idx2label = dict(er_dict_df[['persuasion_id', 'persuasion']].values)\n",
        "take_from_dict(len(idx2label), idx2label)"
      ]
    },
    {
      "cell_type": "code",
      "execution_count": 15,
      "metadata": {},
      "outputs": [
        {
          "data": {
            "image/png": "[encoded data removed]",
            "text/plain": [
              "<Figure size 720x576 with 1 Axes>"
            ]
          },
          "metadata": {
            "image/png": {
              "height": 590,
              "width": 605
            },
            "needs_background": "light"
          },
          "output_type": "display_data"
        }
      ],
      "source": [
        "fig = plt.figure(figsize=(10,8))\n",
        "dialog_dataset_df.groupby('persuasion').text.count().plot.bar(ylim=0)\n",
        "plt.show()"
      ]
    },
    {
      "cell_type": "code",
      "execution_count": 16,
      "metadata": {},
      "outputs": [],
      "source": [
        "# Max features in 'source' and in 'target'\n",
        "N_FEATURES_SRC = 600\n",
        "N_FEATURES_TGT = 602"
      ]
    },
    {
      "cell_type": "code",
      "execution_count": 17,
      "metadata": {},
      "outputs": [],
      "source": [
        "X = dialog_dataset_df['text'][:N_FEATURES_SRC]\n",
        "y = dialog_dataset_df['persuasion_id'].to_numpy()[:N_FEATURES_SRC]"
      ]
    },
    {
      "cell_type": "code",
      "execution_count": 18,
      "metadata": {},
      "outputs": [
        {
          "data": {
            "text/plain": [
              "((600,), (600,))"
            ]
          },
          "execution_count": 18,
          "metadata": {},
          "output_type": "execute_result"
        }
      ],
      "source": [
        "X.shape, y.shape"
      ]
    },
    {
      "cell_type": "code",
      "execution_count": 19,
      "metadata": {},
      "outputs": [],
      "source": [
        "# vectorize text\n",
        "tfidf = TfidfVectorizer(\n",
        "  sublinear_tf=True, \n",
        "  min_df=2, \n",
        "  norm='l2', \n",
        "  encoding='latin-1', \n",
        "  ngram_range=(1, 2), \n",
        "  stop_words='english')"
      ]
    },
    {
      "cell_type": "code",
      "execution_count": 20,
      "metadata": {},
      "outputs": [
        {
          "name": "stdout",
          "output_type": "stream",
          "text": [
            "n_samples: 600, n_features: 626\n"
          ]
        }
      ],
      "source": [
        "# X = tfidf.fit_transform(dialog_dataset_df.text).toarray()\n",
        "X_src = tfidf.fit_transform(X).toarray()\n",
        "y_src = y\n",
        "print(f'n_samples: {X_src.shape[0]}, n_features: {X_src.shape[1]}')"
      ]
    },
    {
      "cell_type": "code",
      "execution_count": 21,
      "metadata": {},
      "outputs": [
        {
          "data": {
            "text/plain": [
              "((600, 626), (600,))"
            ]
          },
          "execution_count": 21,
          "metadata": {},
          "output_type": "execute_result"
        }
      ],
      "source": [
        "X_src.shape, y_src.shape"
      ]
    },
    {
      "cell_type": "code",
      "execution_count": 22,
      "metadata": {},
      "outputs": [],
      "source": [
        "X_train, X_test, y_train, y_test = train_test_split(X_src, y_src, test_size = 0.4, random_state = 42)\n",
        "X_test, X_val, y_test, y_val = train_test_split(X_test, y_test, test_size = 0.5, random_state = 42)"
      ]
    },
    {
      "cell_type": "code",
      "execution_count": 23,
      "metadata": {},
      "outputs": [
        {
          "name": "stdout",
          "output_type": "stream",
          "text": [
            "0.6\n",
            "0.2\n",
            "0.2\n"
          ]
        }
      ],
      "source": [
        "for dataset in [y_train, y_val, y_test]:\n",
        "  print(round(len(dataset) / len(y), 2))"
      ]
    },
    {
      "cell_type": "code",
      "execution_count": 24,
      "metadata": {},
      "outputs": [
        {
          "data": {
            "text/plain": [
              "((360, 626), (120, 626))"
            ]
          },
          "execution_count": 24,
          "metadata": {},
          "output_type": "execute_result"
        }
      ],
      "source": [
        "X_train.shape, X_test.shape"
      ]
    },
    {
      "cell_type": "markdown",
      "metadata": {},
      "source": [
        "## 🌳 Train a basic Random Forest classifier using cross validation"
      ]
    },
    {
      "cell_type": "code",
      "execution_count": 25,
      "metadata": {},
      "outputs": [
        {
          "name": "stdout",
          "output_type": "stream",
          "text": [
            "max acc: 0.575\n"
          ]
        }
      ],
      "source": [
        "# Fit a basic 🍬 model using cross validation\n",
        "acc_RF = cross_val_score(RandomForestClassifier(), X_src, y_src, scoring='accuracy', cv=5)\n",
        "print(f'max acc: {np.max(acc_RF)}')"
      ]
    },
    {
      "cell_type": "code",
      "execution_count": 26,
      "metadata": {},
      "outputs": [
        {
          "name": "stdout",
          "output_type": "stream",
          "text": [
            "BEST PARAMS: {'max_depth': 32, 'n_estimators': 20}\n",
            "\n",
            "0.358 (+/-0.064) for {'max_depth': 2, 'n_estimators': 5}\n",
            "0.383 (+/-0.074) for {'max_depth': 2, 'n_estimators': 10}\n",
            "0.342 (+/-0.052) for {'max_depth': 2, 'n_estimators': 15}\n",
            "0.381 (+/-0.057) for {'max_depth': 2, 'n_estimators': 20}\n",
            "0.392 (+/-0.054) for {'max_depth': 4, 'n_estimators': 5}\n",
            "0.414 (+/-0.081) for {'max_depth': 4, 'n_estimators': 10}\n",
            "0.419 (+/-0.054) for {'max_depth': 4, 'n_estimators': 15}\n",
            "0.397 (+/-0.052) for {'max_depth': 4, 'n_estimators': 20}\n",
            "0.439 (+/-0.057) for {'max_depth': 8, 'n_estimators': 5}\n",
            "0.433 (+/-0.051) for {'max_depth': 8, 'n_estimators': 10}\n",
            "0.458 (+/-0.05) for {'max_depth': 8, 'n_estimators': 15}\n",
            "0.453 (+/-0.057) for {'max_depth': 8, 'n_estimators': 20}\n",
            "0.472 (+/-0.03) for {'max_depth': 16, 'n_estimators': 5}\n",
            "0.478 (+/-0.078) for {'max_depth': 16, 'n_estimators': 10}\n",
            "0.497 (+/-0.064) for {'max_depth': 16, 'n_estimators': 15}\n",
            "0.483 (+/-0.085) for {'max_depth': 16, 'n_estimators': 20}\n",
            "0.469 (+/-0.103) for {'max_depth': 32, 'n_estimators': 5}\n",
            "0.478 (+/-0.065) for {'max_depth': 32, 'n_estimators': 10}\n",
            "0.492 (+/-0.069) for {'max_depth': 32, 'n_estimators': 15}\n",
            "0.503 (+/-0.092) for {'max_depth': 32, 'n_estimators': 20}\n",
            "0.453 (+/-0.076) for {'max_depth': None, 'n_estimators': 5}\n",
            "0.472 (+/-0.039) for {'max_depth': None, 'n_estimators': 10}\n",
            "0.483 (+/-0.054) for {'max_depth': None, 'n_estimators': 15}\n",
            "0.486 (+/-0.039) for {'max_depth': None, 'n_estimators': 20}\n"
          ]
        },
        {
          "data": {
            "text/plain": [
              "RandomForestClassifier(max_depth=32, n_estimators=20)"
            ]
          },
          "execution_count": 26,
          "metadata": {},
          "output_type": "execute_result"
        }
      ],
      "source": [
        "# 🚀 Tune hyper-parameters\n",
        "model = get_best_estimator(\n",
        "  RandomForestClassifier(), \n",
        "  X_train, \n",
        "  y_train, \n",
        "  n_estimators=[5, 10, 15, 20], \n",
        "  max_depth=[2, 4, 8, 16, 32, None])\n",
        "\n",
        "model"
      ]
    },
    {
      "cell_type": "code",
      "execution_count": 27,
      "metadata": {},
      "outputs": [
        {
          "name": "stdout",
          "output_type": "stream",
          "text": [
            "no models to be validated: 5\n"
          ]
        }
      ],
      "source": [
        "candidate_models = [\n",
        "  RandomForestClassifier(n_estimators=15, max_depth=16), \n",
        "  RandomForestClassifier(n_estimators=15, max_depth=32), \n",
        "  RandomForestClassifier(n_estimators=20, max_depth=None),\n",
        "  RandomForestClassifier(n_estimators=20, max_depth=16)]\n",
        "\n",
        "for idx in range(len(candidate_models)):\n",
        "  candidate_models[idx].fit(X_train, y_train)\n",
        "\n",
        "candidate_models += [model]\n",
        "print(f\"no models to be validated: {len(candidate_models)}\")"
      ]
    },
    {
      "cell_type": "code",
      "execution_count": 28,
      "metadata": {},
      "outputs": [
        {
          "name": "stdout",
          "output_type": "stream",
          "text": [
            "0 - MAX DEPTH: 16 / # OF EST: 15 -- A: 0.458 / B: 0.458 / C: 0.458\n",
            "1 - MAX DEPTH: 32 / # OF EST: 15 -- A: 0.492 / B: 0.492 / C: 0.492\n",
            "2 - MAX DEPTH: None / # OF EST: 20 -- A: 0.517 / B: 0.517 / C: 0.517\n",
            "3 - MAX DEPTH: 16 / # OF EST: 20 -- A: 0.467 / B: 0.467 / C: 0.467\n",
            "4 - MAX DEPTH: 32 / # OF EST: 20 -- A: 0.492 / B: 0.492 / C: 0.492\n"
          ]
        }
      ],
      "source": [
        "# Evaluate results on validation set\n",
        "for idx, mdl in enumerate(candidate_models):\n",
        "  y_pred = mdl.predict(X_val)\n",
        "  accuracy = round(accuracy_score(y_val, y_pred), 3)\n",
        "  precision = round(precision_score(y_val, y_pred, average='micro'), 3)\n",
        "  recall = round(recall_score(y_val, y_pred, average='micro'), 3)\n",
        "  \n",
        "  print(f'{idx} - MAX DEPTH: {mdl.max_depth} / # OF EST: {mdl.n_estimators} -- A: {accuracy} / B: {precision} / C: {recall}')"
      ]
    },
    {
      "cell_type": "code",
      "execution_count": 29,
      "metadata": {},
      "outputs": [
        {
          "name": "stdout",
          "output_type": "stream",
          "text": [
            "MAX DEPTH: None / # OF EST: 20 -- A: 0.517 / B: 0.517 / C: 0.517\n"
          ]
        }
      ],
      "source": [
        "# final model selection and evaluation on test set\n",
        "best_perf_model = candidate_models[2]\n",
        "\n",
        "y_pred = best_perf_model.predict(X_test)\n",
        "accuracy = round(accuracy_score(y_test, y_pred), 3)\n",
        "precision = round(precision_score(y_test, y_pred, average='micro'), 3)\n",
        "recall = round(recall_score(y_test, y_pred, average='micro'), 3)\n",
        "\n",
        "print(f'MAX DEPTH: {best_perf_model.max_depth} / # OF EST: {best_perf_model.n_estimators} -- A: {accuracy} / B: {precision} / C: {recall}')"
      ]
    },
    {
      "cell_type": "code",
      "execution_count": 62,
      "metadata": {},
      "outputs": [
        {
          "data": {
            "text/plain": [
              "{'label': 'credibility-appeal', 'confidence': 0.65}"
            ]
          },
          "execution_count": 62,
          "metadata": {},
          "output_type": "execute_result"
        }
      ],
      "source": [
        "# 🔥 Examples of persuasion inference\n",
        "predict_persuasion(\n",
        "  \"They help in the children's basic need like food and clothing\",\n",
        "  best_perf_model,\n",
        "  tfidf,\n",
        "  idx2label,\n",
        "  X_src.shape[1])"
      ]
    },
    {
      "cell_type": "code",
      "execution_count": 63,
      "metadata": {},
      "outputs": [
        {
          "data": {
            "text/plain": [
              "{'label': 'foot-in-the-door', 'confidence': 1.0}"
            ]
          },
          "execution_count": 63,
          "metadata": {},
          "output_type": "execute_result"
        }
      ],
      "source": [
        "predict_persuasion(\n",
        "  \"Every little bit helps\",\n",
        "  best_perf_model,\n",
        "  tfidf,\n",
        "  idx2label,\n",
        "  X_src.shape[1])"
      ]
    },
    {
      "cell_type": "code",
      "execution_count": 64,
      "metadata": {},
      "outputs": [
        {
          "data": {
            "text/plain": [
              "{'label': 'logical-appeal', 'confidence': 0.7}"
            ]
          },
          "execution_count": 64,
          "metadata": {},
          "output_type": "execute_result"
        }
      ],
      "source": [
        "predict_persuasion(\n",
        "  \"These children really need assistance\",\n",
        "  best_perf_model,\n",
        "  tfidf,\n",
        "  idx2label,\n",
        "  X_src.shape[1])"
      ]
    },
    {
      "cell_type": "markdown",
      "metadata": {
        "id": "XtoUR-4eV00q"
      },
      "source": [
        "# 🍃 Transfer learning on trees using SER\n",
        "\n",
        "Transfer learning setup for Sklearn's Random Forest Classifier."
      ]
    },
    {
      "cell_type": "code",
      "execution_count": 33,
      "metadata": {
        "id": "JgNPTVwHWkff"
      },
      "outputs": [],
      "source": [
        "# Get the dev_dialog_data.csv\n",
        "assert os.path.exists('../data/dev_dialog_data.csv')\n",
        "dev_dialog_data_df = pd.read_csv('../data/dev_dialog_data.csv')"
      ]
    },
    {
      "cell_type": "code",
      "execution_count": 34,
      "metadata": {
        "id": "sk34djViXacW"
      },
      "outputs": [
        {
          "data": {
            "text/html": [
              "<div>\n",
              "<style scoped>\n",
              "    .dataframe tbody tr th:only-of-type {\n",
              "        vertical-align: middle;\n",
              "    }\n",
              "\n",
              "    .dataframe tbody tr th {\n",
              "        vertical-align: top;\n",
              "    }\n",
              "\n",
              "    .dataframe thead th {\n",
              "        text-align: right;\n",
              "    }\n",
              "</style>\n",
              "<table border=\"1\" class=\"dataframe\">\n",
              "  <thead>\n",
              "    <tr style=\"text-align: right;\">\n",
              "      <th></th>\n",
              "      <th>text</th>\n",
              "      <th>persuasion</th>\n",
              "      <th>persuasion_id</th>\n",
              "    </tr>\n",
              "  </thead>\n",
              "  <tbody>\n",
              "    <tr>\n",
              "      <th>0</th>\n",
              "      <td>Are you involved with kernel modifications?</td>\n",
              "      <td>task-related-inquiry</td>\n",
              "      <td>0</td>\n",
              "    </tr>\n",
              "    <tr>\n",
              "      <th>1</th>\n",
              "      <td>Do you currently implicit declaration of funct...</td>\n",
              "      <td>task-related-inquiry</td>\n",
              "      <td>0</td>\n",
              "    </tr>\n",
              "    <tr>\n",
              "      <th>2</th>\n",
              "      <td>I would rather avoid breeding chain includes; ...</td>\n",
              "      <td>credibility-appeal</td>\n",
              "      <td>1</td>\n",
              "    </tr>\n",
              "    <tr>\n",
              "      <th>3</th>\n",
              "      <td>The kernel needs Rust support</td>\n",
              "      <td>logical-appeal</td>\n",
              "      <td>2</td>\n",
              "    </tr>\n",
              "    <tr>\n",
              "      <th>4</th>\n",
              "      <td>Add a CPUFreq driver which utilizes a fine gra...</td>\n",
              "      <td>task-related-inquiry</td>\n",
              "      <td>0</td>\n",
              "    </tr>\n",
              "  </tbody>\n",
              "</table>\n",
              "</div>"
            ],
            "text/plain": [
              "                                                text            persuasion  \\\n",
              "0        Are you involved with kernel modifications?  task-related-inquiry   \n",
              "1  Do you currently implicit declaration of funct...  task-related-inquiry   \n",
              "2  I would rather avoid breeding chain includes; ...    credibility-appeal   \n",
              "3                      The kernel needs Rust support        logical-appeal   \n",
              "4  Add a CPUFreq driver which utilizes a fine gra...  task-related-inquiry   \n",
              "\n",
              "   persuasion_id  \n",
              "0              0  \n",
              "1              0  \n",
              "2              1  \n",
              "3              2  \n",
              "4              0  "
            ]
          },
          "execution_count": 34,
          "metadata": {},
          "output_type": "execute_result"
        }
      ],
      "source": [
        "dev_dialog_data_df.head()"
      ]
    },
    {
      "cell_type": "code",
      "execution_count": 35,
      "metadata": {},
      "outputs": [],
      "source": [
        "# vectorize text\n",
        "dev_tfidf = TfidfVectorizer(\n",
        "  sublinear_tf=True, \n",
        "  min_df=2, \n",
        "  norm='l2', \n",
        "  encoding='latin-1', \n",
        "  ngram_range=(1, 2), \n",
        "  stop_words='english')"
      ]
    },
    {
      "cell_type": "code",
      "execution_count": 36,
      "metadata": {
        "id": "uItVZRDlm70s"
      },
      "outputs": [],
      "source": [
        "X_tgt = dev_tfidf.fit_transform(dev_dialog_data_df.text).toarray()\n",
        "y_tgt = dev_dialog_data_df.persuasion_id.to_numpy()"
      ]
    },
    {
      "cell_type": "code",
      "execution_count": 37,
      "metadata": {},
      "outputs": [
        {
          "data": {
            "text/plain": [
              "((150, 176), (150,))"
            ]
          },
          "execution_count": 37,
          "metadata": {},
          "output_type": "execute_result"
        }
      ],
      "source": [
        "X_tgt.shape, y_tgt.shape"
      ]
    },
    {
      "cell_type": "code",
      "execution_count": 38,
      "metadata": {},
      "outputs": [
        {
          "data": {
            "text/plain": [
              "(150, 626)"
            ]
          },
          "execution_count": 38,
          "metadata": {},
          "output_type": "execute_result"
        }
      ],
      "source": [
        "X_tgt = pad_to_dense(X_tgt, X_src.shape[1])\n",
        "X_tgt.shape"
      ]
    },
    {
      "cell_type": "code",
      "execution_count": 39,
      "metadata": {},
      "outputs": [],
      "source": [
        "# separating 5% & 95% of target data, stratified, random\n",
        "X_tgt_090, X_tgt_010, y_tgt_090, y_tgt_010 = train_test_split(X_tgt, y_tgt, test_size=0.10, stratify=y_tgt)"
      ]
    },
    {
      "cell_type": "code",
      "execution_count": 40,
      "metadata": {},
      "outputs": [
        {
          "data": {
            "text/plain": [
              "((135, 626), (135,))"
            ]
          },
          "execution_count": 40,
          "metadata": {},
          "output_type": "execute_result"
        }
      ],
      "source": [
        "# sanity check\n",
        "X_tgt_090.shape, y_tgt_090.shape"
      ]
    },
    {
      "cell_type": "code",
      "execution_count": 41,
      "metadata": {},
      "outputs": [
        {
          "name": "stderr",
          "output_type": "stream",
          "text": [
            "tune_rf: 100%|██████████| 20/20 [34:43<00:00, 104.17s/it, trial=19]\n"
          ]
        },
        {
          "data": {
            "text/plain": [
              "TreesTransferLearning(module=RandomForestClassifier(n_estimators=20))"
            ]
          },
          "execution_count": 41,
          "metadata": {},
          "output_type": "execute_result"
        }
      ],
      "source": [
        "ttl_model =  ser.TreesTransferLearning(best_perf_model, bootstrap_=True)\n",
        "ttl_model.fit(X_tgt_090, y_tgt_090)"
      ]
    },
    {
      "cell_type": "code",
      "execution_count": 71,
      "metadata": {},
      "outputs": [
        {
          "data": {
            "text/plain": [
              "{'label': 'logical-appeal', 'confidence': 0.454}"
            ]
          },
          "execution_count": 71,
          "metadata": {},
          "output_type": "execute_result"
        }
      ],
      "source": [
        "pred_i = predict_persuasion(\n",
        "  \"anything should have a BoF at the KS.\",\n",
        "  ttl_model,\n",
        "  dev_tfidf,\n",
        "  idx2label,\n",
        "  X_src.shape[1], \n",
        "  padding=True)\n",
        "pred_i"
      ]
    },
    {
      "cell_type": "markdown",
      "metadata": {},
      "source": [
        "### Save `Transfer learned Random Forest` models\n",
        "\n",
        "(do this only if you have retrained our developer persuasion model from scratch)"
      ]
    },
    {
      "cell_type": "code",
      "execution_count": 48,
      "metadata": {},
      "outputs": [],
      "source": [
        "pickle.dump(ttl_model, open('../models/tl_rf_model_03192022.pkl', 'wb'))\n",
        "pickle.dump(dev_tfidf, open('../models/dev_tfidf_03192022.pkl', 'wb'))"
      ]
    },
    {
      "cell_type": "markdown",
      "metadata": {},
      "source": [
        "### Load `Transfer learned Random Forest` models"
      ]
    },
    {
      "cell_type": "code",
      "execution_count": 68,
      "metadata": {},
      "outputs": [],
      "source": [
        "dev_tfidf_ = joblib.load('../models/dev_tfidf_03192022.pkl')\n",
        "tl_rf_mdl_ = joblib.load('../models/tl_rf_model_03192022.pkl')"
      ]
    },
    {
      "cell_type": "code",
      "execution_count": 76,
      "metadata": {},
      "outputs": [
        {
          "data": {
            "text/plain": [
              "True"
            ]
          },
          "execution_count": 76,
          "metadata": {},
          "output_type": "execute_result"
        }
      ],
      "source": [
        "pred_j = predict_persuasion(\n",
        "  \"anything should have a BoF at the KS.\",\n",
        "  tl_rf_mdl_,\n",
        "  dev_tfidf_,\n",
        "  idx2label,\n",
        "  X_src.shape[1], \n",
        "  padding=True)\n",
        "\n",
        "# prediction before and after persisting model\n",
        "pred_i == pred_j"
      ]
    },
    {
      "cell_type": "code",
      "execution_count": 81,
      "metadata": {},
      "outputs": [
        {
          "data": {
            "text/plain": [
              "array([1, 4, 1, 2, 1, 1, 1, 1, 7, 5, 7, 2, 0, 8, 2])"
            ]
          },
          "execution_count": 81,
          "metadata": {},
          "output_type": "execute_result"
        }
      ],
      "source": [
        "# get confusion matrix over testing sets\n",
        "predictions_test_set = tl_rf_mdl_.module.predict(X_tgt_010)\n",
        "predictions_test_set"
      ]
    },
    {
      "cell_type": "code",
      "execution_count": 82,
      "metadata": {},
      "outputs": [
        {
          "data": {
            "text/plain": [
              "array([[0, 0, 1, 0, 0, 0, 0, 0],\n",
              "       [0, 1, 2, 0, 0, 0, 2, 0],\n",
              "       [1, 1, 0, 0, 0, 0, 0, 0],\n",
              "       [0, 0, 0, 1, 0, 0, 0, 0],\n",
              "       [0, 1, 0, 0, 1, 0, 0, 0],\n",
              "       [0, 1, 0, 0, 0, 0, 0, 0],\n",
              "       [0, 1, 0, 0, 0, 0, 0, 1],\n",
              "       [0, 1, 0, 0, 0, 0, 0, 0]])"
            ]
          },
          "execution_count": 82,
          "metadata": {},
          "output_type": "execute_result"
        }
      ],
      "source": [
        "cf_matrix = confusion_matrix(y_tgt_010, predictions_test_set)\n",
        "cf_matrix"
      ]
    },
    {
      "cell_type": "code",
      "execution_count": 84,
      "metadata": {},
      "outputs": [
        {
          "data": {
            "text/plain": [
              "['task-related-inquiry',\n",
              " 'credibility-appeal',\n",
              " 'logical-appeal',\n",
              " 'personal-related-inquiry',\n",
              " 'source-related-inquiry',\n",
              " 'donation-information',\n",
              " 'foot-in-the-door',\n",
              " 'emotion-appeal',\n",
              " 'self-modeling',\n",
              " 'personal-story']"
            ]
          },
          "execution_count": 84,
          "metadata": {},
          "output_type": "execute_result"
        }
      ],
      "source": [
        "class_names = [idx2label[key] for key in idx2label]\n",
        "class_names"
      ]
    },
    {
      "cell_type": "code",
      "execution_count": 85,
      "metadata": {},
      "outputs": [
        {
          "data": {
            "image/png": "[encoded data removed]",
            "text/plain": [
              "<Figure size 864x432 with 2 Axes>"
            ]
          },
          "metadata": {
            "image/png": {
              "height": 469,
              "width": 821
            },
            "needs_background": "light"
          },
          "output_type": "display_data"
        }
      ],
      "source": [
        "import seaborn as sns\n",
        "\n",
        "# Get and reshape confusion matrix data\n",
        "cf_matrix = cf_matrix.astype('float') / cf_matrix.sum(axis=1)[:, np.newaxis]\n",
        "# Build the plot\n",
        "plt.figure(figsize=(12,6))\n",
        "sns.set(font_scale=1.4)\n",
        "sns.heatmap(cf_matrix, annot=True, annot_kws={'size':10}, cmap=plt.cm.Greens, linewidths=0.2)\n",
        "\n",
        "tick_marks = np.arange(len(class_names))\n",
        "tick_marks2 = tick_marks + 0.5\n",
        "plt.xticks(tick_marks, class_names, rotation=25)\n",
        "plt.yticks(tick_marks2, class_names, rotation=0)\n",
        "plt.xlabel('Predicted label')\n",
        "plt.ylabel('True label')\n",
        "plt.title('Confusion Matrix for Random Forest Model')\n",
        "plt.show()"
      ]
    },
    {
      "cell_type": "markdown",
      "metadata": {
        "id": "GC8nsD0IZZd0"
      },
      "source": [
        "# 🏃🏽‍♂️ Run the SER Random Forest Model\n",
        "\n",
        "💪 Run this model against a few developer communications"
      ]
    },
    {
      "cell_type": "code",
      "execution_count": 89,
      "metadata": {
        "id": "bER7SjHmbh_z"
      },
      "outputs": [
        {
          "data": {
            "text/plain": [
              "{'label': 'credibility-appeal', 'confidence': 0.95}"
            ]
          },
          "execution_count": 89,
          "metadata": {},
          "output_type": "execute_result"
        }
      ],
      "source": [
        "predict_persuasion(\n",
        "  \"It looks like a generic issue in dynamically toggling APICv scheme.\",\n",
        "  tl_rf_mdl_,\n",
        "  dev_tfidf_,\n",
        "  idx2label,\n",
        "  X_src.shape[1], \n",
        "  padding=True)"
      ]
    },
    {
      "cell_type": "code",
      "execution_count": 90,
      "metadata": {},
      "outputs": [
        {
          "data": {
            "text/plain": [
              "{'label': 'foot-in-the-door', 'confidence': 0.6}"
            ]
          },
          "execution_count": 90,
          "metadata": {},
          "output_type": "execute_result"
        }
      ],
      "source": [
        "predict_persuasion(\n",
        "  \"In particular, Pathname resolution is not locking-agnostic.\",\n",
        "  tl_rf_mdl_,\n",
        "  dev_tfidf_,\n",
        "  idx2label,\n",
        "  X_src.shape[1], \n",
        "  padding=True)"
      ]
    },
    {
      "cell_type": "code",
      "execution_count": 91,
      "metadata": {},
      "outputs": [
        {
          "data": {
            "text/plain": [
              "{'label': 'logical-appeal', 'confidence': 0.65}"
            ]
          },
          "execution_count": 91,
          "metadata": {},
          "output_type": "execute_result"
        }
      ],
      "source": [
        "predict_persuasion(\n",
        "  \"The kernel needs Rust support\",\n",
        "  tl_rf_mdl_,\n",
        "  dev_tfidf_,\n",
        "  idx2label,\n",
        "  X_src.shape[1], \n",
        "  padding=True)"
      ]
    }
  ],
  "metadata": {
    "accelerator": "TPU",
    "colab": {
      "collapsed_sections": [
        "Dyox3EZ8kMx3",
        "_He5GHPnAjp2",
        "54yXJJRVBTTe",
        "ElEdlNRBOSJ9",
        "XtoUR-4eV00q"
      ],
      "include_colab_link": true,
      "machine_shape": "hm",
      "name": " activity-evolution-trajectory-aw2v.ipynb",
      "provenance": []
    },
    "kernelspec": {
      "display_name": "Python 3",
      "name": "python3"
    },
    "language_info": {
      "codemirror_mode": {
        "name": "ipython",
        "version": 3
      },
      "file_extension": ".py",
      "mimetype": "text/x-python",
      "name": "python",
      "nbconvert_exporter": "python",
      "pygments_lexer": "ipython3",
      "version": "3.8.5"
    }
  },
  "nbformat": 4,
  "nbformat_minor": 0
}
