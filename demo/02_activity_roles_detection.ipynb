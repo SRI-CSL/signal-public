{
  "nbformat": 4,
  "nbformat_minor": 0,
  "metadata": {
    "colab": {
      "provenance": [],
      "collapsed_sections": [
        "9QXTBZz_v2-U",
        "E1ljF5fd-mmc",
        "Anzt-m7MTN8f",
        "0Caqm3s9UeSU",
        "6CkM6yNEYWzx",
        "YYgY5MSxhWrm",
        "jkmFQNJoD_0n",
        "5Dk8Ldw-HftU"
      ],
      "machine_shape": "hm",
      "toc_visible": true,
      "include_colab_link": true
    },
    "kernelspec": {
      "display_name": "Python 3",
      "name": "python3"
    },
    "language_info": {
      "name": "python"
    },
    "accelerator": "TPU",
    "widgets": {
      "application/vnd.jupyter.widget-state+json": {
        "5b62c5936bb34f888adeaa0c21164063": {
          "model_module": "@jupyter-widgets/output",
          "model_name": "OutputModel",
          "model_module_version": "1.0.0",
          "state": {
            "_dom_classes": [],
            "_model_module": "@jupyter-widgets/output",
            "_model_module_version": "1.0.0",
            "_model_name": "OutputModel",
            "_view_count": null,
            "_view_module": "@jupyter-widgets/output",
            "_view_module_version": "1.0.0",
            "_view_name": "OutputView",
            "layout": "IPY_MODEL_6abd05c7fe3f460b83e36523afba1c3a",
            "msg_id": "",
            "outputs": []
          }
        },
        "6abd05c7fe3f460b83e36523afba1c3a": {
          "model_module": "@jupyter-widgets/base",
          "model_name": "LayoutModel",
          "model_module_version": "1.2.0",
          "state": {
            "_model_module": "@jupyter-widgets/base",
            "_model_module_version": "1.2.0",
            "_model_name": "LayoutModel",
            "_view_count": null,
            "_view_module": "@jupyter-widgets/base",
            "_view_module_version": "1.2.0",
            "_view_name": "LayoutView",
            "align_content": null,
            "align_items": null,
            "align_self": null,
            "border": null,
            "bottom": null,
            "display": null,
            "flex": null,
            "flex_flow": null,
            "grid_area": null,
            "grid_auto_columns": null,
            "grid_auto_flow": null,
            "grid_auto_rows": null,
            "grid_column": null,
            "grid_gap": null,
            "grid_row": null,
            "grid_template_areas": null,
            "grid_template_columns": null,
            "grid_template_rows": null,
            "height": null,
            "justify_content": null,
            "justify_items": null,
            "left": null,
            "margin": null,
            "max_height": null,
            "max_width": null,
            "min_height": null,
            "min_width": null,
            "object_fit": null,
            "object_position": null,
            "order": null,
            "overflow": null,
            "overflow_x": null,
            "overflow_y": null,
            "padding": null,
            "right": null,
            "top": null,
            "visibility": null,
            "width": null
          }
        },
        "0b733ee5eabc4c7da29dc8eb63466c9e": {
          "model_module": "@jupyter-widgets/output",
          "model_name": "OutputModel",
          "model_module_version": "1.0.0",
          "state": {
            "_dom_classes": [],
            "_model_module": "@jupyter-widgets/output",
            "_model_module_version": "1.0.0",
            "_model_name": "OutputModel",
            "_view_count": null,
            "_view_module": "@jupyter-widgets/output",
            "_view_module_version": "1.0.0",
            "_view_name": "OutputView",
            "layout": "IPY_MODEL_7f8aee5adf364800953c9435dc148911",
            "msg_id": "",
            "outputs": []
          }
        },
        "7f8aee5adf364800953c9435dc148911": {
          "model_module": "@jupyter-widgets/base",
          "model_name": "LayoutModel",
          "model_module_version": "1.2.0",
          "state": {
            "_model_module": "@jupyter-widgets/base",
            "_model_module_version": "1.2.0",
            "_model_name": "LayoutModel",
            "_view_count": null,
            "_view_module": "@jupyter-widgets/base",
            "_view_module_version": "1.2.0",
            "_view_name": "LayoutView",
            "align_content": null,
            "align_items": null,
            "align_self": null,
            "border": null,
            "bottom": null,
            "display": null,
            "flex": null,
            "flex_flow": null,
            "grid_area": null,
            "grid_auto_columns": null,
            "grid_auto_flow": null,
            "grid_auto_rows": null,
            "grid_column": null,
            "grid_gap": null,
            "grid_row": null,
            "grid_template_areas": null,
            "grid_template_columns": null,
            "grid_template_rows": null,
            "height": null,
            "justify_content": null,
            "justify_items": null,
            "left": null,
            "margin": null,
            "max_height": null,
            "max_width": null,
            "min_height": null,
            "min_width": null,
            "object_fit": null,
            "object_position": null,
            "order": null,
            "overflow": null,
            "overflow_x": null,
            "overflow_y": null,
            "padding": null,
            "right": null,
            "top": null,
            "visibility": null,
            "width": null
          }
        },
        "d98914032d9244c28d98209dc768d2c3": {
          "model_module": "@jupyter-widgets/output",
          "model_name": "OutputModel",
          "model_module_version": "1.0.0",
          "state": {
            "_dom_classes": [],
            "_model_module": "@jupyter-widgets/output",
            "_model_module_version": "1.0.0",
            "_model_name": "OutputModel",
            "_view_count": null,
            "_view_module": "@jupyter-widgets/output",
            "_view_module_version": "1.0.0",
            "_view_name": "OutputView",
            "layout": "IPY_MODEL_c26b260c59cb428091fb66fddb897055",
            "msg_id": "",
            "outputs": []
          }
        },
        "c26b260c59cb428091fb66fddb897055": {
          "model_module": "@jupyter-widgets/base",
          "model_name": "LayoutModel",
          "model_module_version": "1.2.0",
          "state": {
            "_model_module": "@jupyter-widgets/base",
            "_model_module_version": "1.2.0",
            "_model_name": "LayoutModel",
            "_view_count": null,
            "_view_module": "@jupyter-widgets/base",
            "_view_module_version": "1.2.0",
            "_view_name": "LayoutView",
            "align_content": null,
            "align_items": null,
            "align_self": null,
            "border": null,
            "bottom": null,
            "display": null,
            "flex": null,
            "flex_flow": null,
            "grid_area": null,
            "grid_auto_columns": null,
            "grid_auto_flow": null,
            "grid_auto_rows": null,
            "grid_column": null,
            "grid_gap": null,
            "grid_row": null,
            "grid_template_areas": null,
            "grid_template_columns": null,
            "grid_template_rows": null,
            "height": null,
            "justify_content": null,
            "justify_items": null,
            "left": null,
            "margin": null,
            "max_height": null,
            "max_width": null,
            "min_height": null,
            "min_width": null,
            "object_fit": null,
            "object_position": null,
            "order": null,
            "overflow": null,
            "overflow_x": null,
            "overflow_y": null,
            "padding": null,
            "right": null,
            "top": null,
            "visibility": null,
            "width": null
          }
        },
        "f257fe2599984a8c913596bc15b8ba65": {
          "model_module": "@jupyter-widgets/output",
          "model_name": "OutputModel",
          "model_module_version": "1.0.0",
          "state": {
            "_dom_classes": [],
            "_model_module": "@jupyter-widgets/output",
            "_model_module_version": "1.0.0",
            "_model_name": "OutputModel",
            "_view_count": null,
            "_view_module": "@jupyter-widgets/output",
            "_view_module_version": "1.0.0",
            "_view_name": "OutputView",
            "layout": "IPY_MODEL_c3cf42f64aec4524a5eaa9bf4e20f715",
            "msg_id": "",
            "outputs": []
          }
        },
        "c3cf42f64aec4524a5eaa9bf4e20f715": {
          "model_module": "@jupyter-widgets/base",
          "model_name": "LayoutModel",
          "model_module_version": "1.2.0",
          "state": {
            "_model_module": "@jupyter-widgets/base",
            "_model_module_version": "1.2.0",
            "_model_name": "LayoutModel",
            "_view_count": null,
            "_view_module": "@jupyter-widgets/base",
            "_view_module_version": "1.2.0",
            "_view_name": "LayoutView",
            "align_content": null,
            "align_items": null,
            "align_self": null,
            "border": null,
            "bottom": null,
            "display": null,
            "flex": null,
            "flex_flow": null,
            "grid_area": null,
            "grid_auto_columns": null,
            "grid_auto_flow": null,
            "grid_auto_rows": null,
            "grid_column": null,
            "grid_gap": null,
            "grid_row": null,
            "grid_template_areas": null,
            "grid_template_columns": null,
            "grid_template_rows": null,
            "height": null,
            "justify_content": null,
            "justify_items": null,
            "left": null,
            "margin": null,
            "max_height": null,
            "max_width": null,
            "min_height": null,
            "min_width": null,
            "object_fit": null,
            "object_position": null,
            "order": null,
            "overflow": null,
            "overflow_x": null,
            "overflow_y": null,
            "padding": null,
            "right": null,
            "top": null,
            "visibility": null,
            "width": null
          }
        },
        "5d3c833289814822a08871bca23f50fd": {
          "model_module": "@jupyter-widgets/output",
          "model_name": "OutputModel",
          "model_module_version": "1.0.0",
          "state": {
            "_dom_classes": [],
            "_model_module": "@jupyter-widgets/output",
            "_model_module_version": "1.0.0",
            "_model_name": "OutputModel",
            "_view_count": null,
            "_view_module": "@jupyter-widgets/output",
            "_view_module_version": "1.0.0",
            "_view_name": "OutputView",
            "layout": "IPY_MODEL_8b83210ec9314f97985c077f080214a5",
            "msg_id": "",
            "outputs": []
          }
        },
        "8b83210ec9314f97985c077f080214a5": {
          "model_module": "@jupyter-widgets/base",
          "model_name": "LayoutModel",
          "model_module_version": "1.2.0",
          "state": {
            "_model_module": "@jupyter-widgets/base",
            "_model_module_version": "1.2.0",
            "_model_name": "LayoutModel",
            "_view_count": null,
            "_view_module": "@jupyter-widgets/base",
            "_view_module_version": "1.2.0",
            "_view_name": "LayoutView",
            "align_content": null,
            "align_items": null,
            "align_self": null,
            "border": null,
            "bottom": null,
            "display": null,
            "flex": null,
            "flex_flow": null,
            "grid_area": null,
            "grid_auto_columns": null,
            "grid_auto_flow": null,
            "grid_auto_rows": null,
            "grid_column": null,
            "grid_gap": null,
            "grid_row": null,
            "grid_template_areas": null,
            "grid_template_columns": null,
            "grid_template_rows": null,
            "height": null,
            "justify_content": null,
            "justify_items": null,
            "left": null,
            "margin": null,
            "max_height": null,
            "max_width": null,
            "min_height": null,
            "min_width": null,
            "object_fit": null,
            "object_position": null,
            "order": null,
            "overflow": null,
            "overflow_x": null,
            "overflow_y": null,
            "padding": null,
            "right": null,
            "top": null,
            "visibility": null,
            "width": null
          }
        },
        "2f531e45f71b45e8baec57a8dae9d624": {
          "model_module": "@jupyter-widgets/output",
          "model_name": "OutputModel",
          "model_module_version": "1.0.0",
          "state": {
            "_dom_classes": [],
            "_model_module": "@jupyter-widgets/output",
            "_model_module_version": "1.0.0",
            "_model_name": "OutputModel",
            "_view_count": null,
            "_view_module": "@jupyter-widgets/output",
            "_view_module_version": "1.0.0",
            "_view_name": "OutputView",
            "layout": "IPY_MODEL_e49d6ae036a04e8e9bc9a95ac5f2f013",
            "msg_id": "",
            "outputs": []
          }
        },
        "e49d6ae036a04e8e9bc9a95ac5f2f013": {
          "model_module": "@jupyter-widgets/base",
          "model_name": "LayoutModel",
          "model_module_version": "1.2.0",
          "state": {
            "_model_module": "@jupyter-widgets/base",
            "_model_module_version": "1.2.0",
            "_model_name": "LayoutModel",
            "_view_count": null,
            "_view_module": "@jupyter-widgets/base",
            "_view_module_version": "1.2.0",
            "_view_name": "LayoutView",
            "align_content": null,
            "align_items": null,
            "align_self": null,
            "border": null,
            "bottom": null,
            "display": null,
            "flex": null,
            "flex_flow": null,
            "grid_area": null,
            "grid_auto_columns": null,
            "grid_auto_flow": null,
            "grid_auto_rows": null,
            "grid_column": null,
            "grid_gap": null,
            "grid_row": null,
            "grid_template_areas": null,
            "grid_template_columns": null,
            "grid_template_rows": null,
            "height": null,
            "justify_content": null,
            "justify_items": null,
            "left": null,
            "margin": null,
            "max_height": null,
            "max_width": null,
            "min_height": null,
            "min_width": null,
            "object_fit": null,
            "object_position": null,
            "order": null,
            "overflow": null,
            "overflow_x": null,
            "overflow_y": null,
            "padding": null,
            "right": null,
            "top": null,
            "visibility": null,
            "width": null
          }
        },
        "a9e4172de3e44efea81d6847ac6e874c": {
          "model_module": "@jupyter-widgets/output",
          "model_name": "OutputModel",
          "model_module_version": "1.0.0",
          "state": {
            "_dom_classes": [],
            "_model_module": "@jupyter-widgets/output",
            "_model_module_version": "1.0.0",
            "_model_name": "OutputModel",
            "_view_count": null,
            "_view_module": "@jupyter-widgets/output",
            "_view_module_version": "1.0.0",
            "_view_name": "OutputView",
            "layout": "IPY_MODEL_94c036c2f48647568ef43ab3beb79f81",
            "msg_id": "",
            "outputs": []
          }
        },
        "94c036c2f48647568ef43ab3beb79f81": {
          "model_module": "@jupyter-widgets/base",
          "model_name": "LayoutModel",
          "model_module_version": "1.2.0",
          "state": {
            "_model_module": "@jupyter-widgets/base",
            "_model_module_version": "1.2.0",
            "_model_name": "LayoutModel",
            "_view_count": null,
            "_view_module": "@jupyter-widgets/base",
            "_view_module_version": "1.2.0",
            "_view_name": "LayoutView",
            "align_content": null,
            "align_items": null,
            "align_self": null,
            "border": null,
            "bottom": null,
            "display": null,
            "flex": null,
            "flex_flow": null,
            "grid_area": null,
            "grid_auto_columns": null,
            "grid_auto_flow": null,
            "grid_auto_rows": null,
            "grid_column": null,
            "grid_gap": null,
            "grid_row": null,
            "grid_template_areas": null,
            "grid_template_columns": null,
            "grid_template_rows": null,
            "height": null,
            "justify_content": null,
            "justify_items": null,
            "left": null,
            "margin": null,
            "max_height": null,
            "max_width": null,
            "min_height": null,
            "min_width": null,
            "object_fit": null,
            "object_position": null,
            "order": null,
            "overflow": null,
            "overflow_x": null,
            "overflow_y": null,
            "padding": null,
            "right": null,
            "top": null,
            "visibility": null,
            "width": null
          }
        },
        "536a3b19ef5c49588f1b76613d4493c5": {
          "model_module": "@jupyter-widgets/output",
          "model_name": "OutputModel",
          "model_module_version": "1.0.0",
          "state": {
            "_dom_classes": [],
            "_model_module": "@jupyter-widgets/output",
            "_model_module_version": "1.0.0",
            "_model_name": "OutputModel",
            "_view_count": null,
            "_view_module": "@jupyter-widgets/output",
            "_view_module_version": "1.0.0",
            "_view_name": "OutputView",
            "layout": "IPY_MODEL_b6ecff7089014e4a87f3db0245ec33b0",
            "msg_id": "",
            "outputs": []
          }
        },
        "b6ecff7089014e4a87f3db0245ec33b0": {
          "model_module": "@jupyter-widgets/base",
          "model_name": "LayoutModel",
          "model_module_version": "1.2.0",
          "state": {
            "_model_module": "@jupyter-widgets/base",
            "_model_module_version": "1.2.0",
            "_model_name": "LayoutModel",
            "_view_count": null,
            "_view_module": "@jupyter-widgets/base",
            "_view_module_version": "1.2.0",
            "_view_name": "LayoutView",
            "align_content": null,
            "align_items": null,
            "align_self": null,
            "border": null,
            "bottom": null,
            "display": null,
            "flex": null,
            "flex_flow": null,
            "grid_area": null,
            "grid_auto_columns": null,
            "grid_auto_flow": null,
            "grid_auto_rows": null,
            "grid_column": null,
            "grid_gap": null,
            "grid_row": null,
            "grid_template_areas": null,
            "grid_template_columns": null,
            "grid_template_rows": null,
            "height": null,
            "justify_content": null,
            "justify_items": null,
            "left": null,
            "margin": null,
            "max_height": null,
            "max_width": null,
            "min_height": null,
            "min_width": null,
            "object_fit": null,
            "object_position": null,
            "order": null,
            "overflow": null,
            "overflow_x": null,
            "overflow_y": null,
            "padding": null,
            "right": null,
            "top": null,
            "visibility": null,
            "width": null
          }
        },
        "8c94c42328804f509d6dfb2d1fd04fc9": {
          "model_module": "@jupyter-widgets/output",
          "model_name": "OutputModel",
          "model_module_version": "1.0.0",
          "state": {
            "_dom_classes": [],
            "_model_module": "@jupyter-widgets/output",
            "_model_module_version": "1.0.0",
            "_model_name": "OutputModel",
            "_view_count": null,
            "_view_module": "@jupyter-widgets/output",
            "_view_module_version": "1.0.0",
            "_view_name": "OutputView",
            "layout": "IPY_MODEL_22c66cfccb5345298c2d22fae2b438f1",
            "msg_id": "",
            "outputs": []
          }
        },
        "22c66cfccb5345298c2d22fae2b438f1": {
          "model_module": "@jupyter-widgets/base",
          "model_name": "LayoutModel",
          "model_module_version": "1.2.0",
          "state": {
            "_model_module": "@jupyter-widgets/base",
            "_model_module_version": "1.2.0",
            "_model_name": "LayoutModel",
            "_view_count": null,
            "_view_module": "@jupyter-widgets/base",
            "_view_module_version": "1.2.0",
            "_view_name": "LayoutView",
            "align_content": null,
            "align_items": null,
            "align_self": null,
            "border": null,
            "bottom": null,
            "display": null,
            "flex": null,
            "flex_flow": null,
            "grid_area": null,
            "grid_auto_columns": null,
            "grid_auto_flow": null,
            "grid_auto_rows": null,
            "grid_column": null,
            "grid_gap": null,
            "grid_row": null,
            "grid_template_areas": null,
            "grid_template_columns": null,
            "grid_template_rows": null,
            "height": null,
            "justify_content": null,
            "justify_items": null,
            "left": null,
            "margin": null,
            "max_height": null,
            "max_width": null,
            "min_height": null,
            "min_width": null,
            "object_fit": null,
            "object_position": null,
            "order": null,
            "overflow": null,
            "overflow_x": null,
            "overflow_y": null,
            "padding": null,
            "right": null,
            "top": null,
            "visibility": null,
            "width": null
          }
        },
        "f29ac3b17fc74d3fbd0513b9f3c4701d": {
          "model_module": "@jupyter-widgets/output",
          "model_name": "OutputModel",
          "model_module_version": "1.0.0",
          "state": {
            "_dom_classes": [],
            "_model_module": "@jupyter-widgets/output",
            "_model_module_version": "1.0.0",
            "_model_name": "OutputModel",
            "_view_count": null,
            "_view_module": "@jupyter-widgets/output",
            "_view_module_version": "1.0.0",
            "_view_name": "OutputView",
            "layout": "IPY_MODEL_8bca1ba687a74072a00f9709e9da3cd9",
            "msg_id": "",
            "outputs": []
          }
        },
        "8bca1ba687a74072a00f9709e9da3cd9": {
          "model_module": "@jupyter-widgets/base",
          "model_name": "LayoutModel",
          "model_module_version": "1.2.0",
          "state": {
            "_model_module": "@jupyter-widgets/base",
            "_model_module_version": "1.2.0",
            "_model_name": "LayoutModel",
            "_view_count": null,
            "_view_module": "@jupyter-widgets/base",
            "_view_module_version": "1.2.0",
            "_view_name": "LayoutView",
            "align_content": null,
            "align_items": null,
            "align_self": null,
            "border": null,
            "bottom": null,
            "display": null,
            "flex": null,
            "flex_flow": null,
            "grid_area": null,
            "grid_auto_columns": null,
            "grid_auto_flow": null,
            "grid_auto_rows": null,
            "grid_column": null,
            "grid_gap": null,
            "grid_row": null,
            "grid_template_areas": null,
            "grid_template_columns": null,
            "grid_template_rows": null,
            "height": null,
            "justify_content": null,
            "justify_items": null,
            "left": null,
            "margin": null,
            "max_height": null,
            "max_width": null,
            "min_height": null,
            "min_width": null,
            "object_fit": null,
            "object_position": null,
            "order": null,
            "overflow": null,
            "overflow_x": null,
            "overflow_y": null,
            "padding": null,
            "right": null,
            "top": null,
            "visibility": null,
            "width": null
          }
        },
        "be9df273c81d4b038db0b8a7b1c5a55e": {
          "model_module": "@jupyter-widgets/output",
          "model_name": "OutputModel",
          "model_module_version": "1.0.0",
          "state": {
            "_dom_classes": [],
            "_model_module": "@jupyter-widgets/output",
            "_model_module_version": "1.0.0",
            "_model_name": "OutputModel",
            "_view_count": null,
            "_view_module": "@jupyter-widgets/output",
            "_view_module_version": "1.0.0",
            "_view_name": "OutputView",
            "layout": "IPY_MODEL_27720ea58ffb4e0e98d05e66ffe1c217",
            "msg_id": "",
            "outputs": []
          }
        },
        "27720ea58ffb4e0e98d05e66ffe1c217": {
          "model_module": "@jupyter-widgets/base",
          "model_name": "LayoutModel",
          "model_module_version": "1.2.0",
          "state": {
            "_model_module": "@jupyter-widgets/base",
            "_model_module_version": "1.2.0",
            "_model_name": "LayoutModel",
            "_view_count": null,
            "_view_module": "@jupyter-widgets/base",
            "_view_module_version": "1.2.0",
            "_view_name": "LayoutView",
            "align_content": null,
            "align_items": null,
            "align_self": null,
            "border": null,
            "bottom": null,
            "display": null,
            "flex": null,
            "flex_flow": null,
            "grid_area": null,
            "grid_auto_columns": null,
            "grid_auto_flow": null,
            "grid_auto_rows": null,
            "grid_column": null,
            "grid_gap": null,
            "grid_row": null,
            "grid_template_areas": null,
            "grid_template_columns": null,
            "grid_template_rows": null,
            "height": null,
            "justify_content": null,
            "justify_items": null,
            "left": null,
            "margin": null,
            "max_height": null,
            "max_width": null,
            "min_height": null,
            "min_width": null,
            "object_fit": null,
            "object_position": null,
            "order": null,
            "overflow": null,
            "overflow_x": null,
            "overflow_y": null,
            "padding": null,
            "right": null,
            "top": null,
            "visibility": null,
            "width": null
          }
        },
        "f05c07743d0f4590beb8817e9aebeac3": {
          "model_module": "@jupyter-widgets/output",
          "model_name": "OutputModel",
          "model_module_version": "1.0.0",
          "state": {
            "_dom_classes": [],
            "_model_module": "@jupyter-widgets/output",
            "_model_module_version": "1.0.0",
            "_model_name": "OutputModel",
            "_view_count": null,
            "_view_module": "@jupyter-widgets/output",
            "_view_module_version": "1.0.0",
            "_view_name": "OutputView",
            "layout": "IPY_MODEL_43ce3f4d78644527984a7ea9dbb9f3c8",
            "msg_id": "",
            "outputs": []
          }
        },
        "43ce3f4d78644527984a7ea9dbb9f3c8": {
          "model_module": "@jupyter-widgets/base",
          "model_name": "LayoutModel",
          "model_module_version": "1.2.0",
          "state": {
            "_model_module": "@jupyter-widgets/base",
            "_model_module_version": "1.2.0",
            "_model_name": "LayoutModel",
            "_view_count": null,
            "_view_module": "@jupyter-widgets/base",
            "_view_module_version": "1.2.0",
            "_view_name": "LayoutView",
            "align_content": null,
            "align_items": null,
            "align_self": null,
            "border": null,
            "bottom": null,
            "display": null,
            "flex": null,
            "flex_flow": null,
            "grid_area": null,
            "grid_auto_columns": null,
            "grid_auto_flow": null,
            "grid_auto_rows": null,
            "grid_column": null,
            "grid_gap": null,
            "grid_row": null,
            "grid_template_areas": null,
            "grid_template_columns": null,
            "grid_template_rows": null,
            "height": null,
            "justify_content": null,
            "justify_items": null,
            "left": null,
            "margin": null,
            "max_height": null,
            "max_width": null,
            "min_height": null,
            "min_width": null,
            "object_fit": null,
            "object_position": null,
            "order": null,
            "overflow": null,
            "overflow_x": null,
            "overflow_y": null,
            "padding": null,
            "right": null,
            "top": null,
            "visibility": null,
            "width": null
          }
        },
        "8e17b23e0c8241b992ff831dc0cebbf8": {
          "model_module": "@jupyter-widgets/output",
          "model_name": "OutputModel",
          "model_module_version": "1.0.0",
          "state": {
            "_dom_classes": [],
            "_model_module": "@jupyter-widgets/output",
            "_model_module_version": "1.0.0",
            "_model_name": "OutputModel",
            "_view_count": null,
            "_view_module": "@jupyter-widgets/output",
            "_view_module_version": "1.0.0",
            "_view_name": "OutputView",
            "layout": "IPY_MODEL_c55a031eb569435181495c06881ef23c",
            "msg_id": "",
            "outputs": []
          }
        },
        "c55a031eb569435181495c06881ef23c": {
          "model_module": "@jupyter-widgets/base",
          "model_name": "LayoutModel",
          "model_module_version": "1.2.0",
          "state": {
            "_model_module": "@jupyter-widgets/base",
            "_model_module_version": "1.2.0",
            "_model_name": "LayoutModel",
            "_view_count": null,
            "_view_module": "@jupyter-widgets/base",
            "_view_module_version": "1.2.0",
            "_view_name": "LayoutView",
            "align_content": null,
            "align_items": null,
            "align_self": null,
            "border": null,
            "bottom": null,
            "display": null,
            "flex": null,
            "flex_flow": null,
            "grid_area": null,
            "grid_auto_columns": null,
            "grid_auto_flow": null,
            "grid_auto_rows": null,
            "grid_column": null,
            "grid_gap": null,
            "grid_row": null,
            "grid_template_areas": null,
            "grid_template_columns": null,
            "grid_template_rows": null,
            "height": null,
            "justify_content": null,
            "justify_items": null,
            "left": null,
            "margin": null,
            "max_height": null,
            "max_width": null,
            "min_height": null,
            "min_width": null,
            "object_fit": null,
            "object_position": null,
            "order": null,
            "overflow": null,
            "overflow_x": null,
            "overflow_y": null,
            "padding": null,
            "right": null,
            "top": null,
            "visibility": null,
            "width": null
          }
        },
        "775e52841cfe481cad7550ae64f5440a": {
          "model_module": "@jupyter-widgets/output",
          "model_name": "OutputModel",
          "model_module_version": "1.0.0",
          "state": {
            "_dom_classes": [],
            "_model_module": "@jupyter-widgets/output",
            "_model_module_version": "1.0.0",
            "_model_name": "OutputModel",
            "_view_count": null,
            "_view_module": "@jupyter-widgets/output",
            "_view_module_version": "1.0.0",
            "_view_name": "OutputView",
            "layout": "IPY_MODEL_6c6e36ccd53d4bf7895eaca266da0b9d",
            "msg_id": "",
            "outputs": [
              {
                "output_type": "display_data",
                "data": {
                  "text/plain": "Compute metrics \u001b[1;32m[\u001b[0m\u001b[32m✔\u001b[0m\u001b[1;32m]\u001b[0m\u001b[32m \u001b[0m\u001b[1;32m(\u001b[0m\u001b[1;32m0:00:00\u001b[0m\u001b[32m.\u001b[0m\u001b[1;32m033370\u001b[0m\u001b[1;32m)\u001b[0m\u001b[32m \u001b[0m\n",
                  "text/html": "<pre style=\"white-space:pre;overflow-x:auto;line-height:normal;font-family:Menlo,'DejaVu Sans Mono',consolas,'Courier New',monospace\">Compute metrics <span style=\"color: #008000; text-decoration-color: #008000; font-weight: bold\">[</span><span style=\"color: #008000; text-decoration-color: #008000\">✔</span><span style=\"color: #008000; text-decoration-color: #008000; font-weight: bold\">]</span><span style=\"color: #008000; text-decoration-color: #008000\"> </span><span style=\"color: #008000; text-decoration-color: #008000; font-weight: bold\">(0:00:00</span><span style=\"color: #008000; text-decoration-color: #008000\">.</span><span style=\"color: #008000; text-decoration-color: #008000; font-weight: bold\">033370</span><span style=\"color: #008000; text-decoration-color: #008000; font-weight: bold\">)</span><span style=\"color: #008000; text-decoration-color: #008000\"> </span>\n</pre>\n"
                },
                "metadata": {}
              }
            ]
          }
        },
        "6c6e36ccd53d4bf7895eaca266da0b9d": {
          "model_module": "@jupyter-widgets/base",
          "model_name": "LayoutModel",
          "model_module_version": "1.2.0",
          "state": {
            "_model_module": "@jupyter-widgets/base",
            "_model_module_version": "1.2.0",
            "_model_name": "LayoutModel",
            "_view_count": null,
            "_view_module": "@jupyter-widgets/base",
            "_view_module_version": "1.2.0",
            "_view_name": "LayoutView",
            "align_content": null,
            "align_items": null,
            "align_self": null,
            "border": null,
            "bottom": null,
            "display": null,
            "flex": null,
            "flex_flow": null,
            "grid_area": null,
            "grid_auto_columns": null,
            "grid_auto_flow": null,
            "grid_auto_rows": null,
            "grid_column": null,
            "grid_gap": null,
            "grid_row": null,
            "grid_template_areas": null,
            "grid_template_columns": null,
            "grid_template_rows": null,
            "height": null,
            "justify_content": null,
            "justify_items": null,
            "left": null,
            "margin": null,
            "max_height": null,
            "max_width": null,
            "min_height": null,
            "min_width": null,
            "object_fit": null,
            "object_position": null,
            "order": null,
            "overflow": null,
            "overflow_x": null,
            "overflow_y": null,
            "padding": null,
            "right": null,
            "top": null,
            "visibility": null,
            "width": null
          }
        },
        "9b5f7f937ada477599fdf8686f711d69": {
          "model_module": "@jupyter-widgets/output",
          "model_name": "OutputModel",
          "model_module_version": "1.0.0",
          "state": {
            "_dom_classes": [],
            "_model_module": "@jupyter-widgets/output",
            "_model_module_version": "1.0.0",
            "_model_name": "OutputModel",
            "_view_count": null,
            "_view_module": "@jupyter-widgets/output",
            "_view_module_version": "1.0.0",
            "_view_name": "OutputView",
            "layout": "IPY_MODEL_50ea010ca0cb490984d3dadac2b225cd",
            "msg_id": "",
            "outputs": [
              {
                "output_type": "display_data",
                "data": {
                  "text/plain": "Compute eigenvalues \u001b[1;32m[\u001b[0m\u001b[32m✔\u001b[0m\u001b[1;32m]\u001b[0m\u001b[32m \u001b[0m\u001b[1;32m(\u001b[0m\u001b[1;32m0:00:00\u001b[0m\u001b[32m.\u001b[0m\u001b[1;32m002772\u001b[0m\u001b[1;32m)\u001b[0m\u001b[32m \u001b[0m\n",
                  "text/html": "<pre style=\"white-space:pre;overflow-x:auto;line-height:normal;font-family:Menlo,'DejaVu Sans Mono',consolas,'Courier New',monospace\">Compute eigenvalues <span style=\"color: #008000; text-decoration-color: #008000; font-weight: bold\">[</span><span style=\"color: #008000; text-decoration-color: #008000\">✔</span><span style=\"color: #008000; text-decoration-color: #008000; font-weight: bold\">]</span><span style=\"color: #008000; text-decoration-color: #008000\"> </span><span style=\"color: #008000; text-decoration-color: #008000; font-weight: bold\">(0:00:00</span><span style=\"color: #008000; text-decoration-color: #008000\">.</span><span style=\"color: #008000; text-decoration-color: #008000; font-weight: bold\">002772</span><span style=\"color: #008000; text-decoration-color: #008000; font-weight: bold\">)</span><span style=\"color: #008000; text-decoration-color: #008000\"> </span>\n</pre>\n"
                },
                "metadata": {}
              }
            ]
          }
        },
        "50ea010ca0cb490984d3dadac2b225cd": {
          "model_module": "@jupyter-widgets/base",
          "model_name": "LayoutModel",
          "model_module_version": "1.2.0",
          "state": {
            "_model_module": "@jupyter-widgets/base",
            "_model_module_version": "1.2.0",
            "_model_name": "LayoutModel",
            "_view_count": null,
            "_view_module": "@jupyter-widgets/base",
            "_view_module_version": "1.2.0",
            "_view_name": "LayoutView",
            "align_content": null,
            "align_items": null,
            "align_self": null,
            "border": null,
            "bottom": null,
            "display": null,
            "flex": null,
            "flex_flow": null,
            "grid_area": null,
            "grid_auto_columns": null,
            "grid_auto_flow": null,
            "grid_auto_rows": null,
            "grid_column": null,
            "grid_gap": null,
            "grid_row": null,
            "grid_template_areas": null,
            "grid_template_columns": null,
            "grid_template_rows": null,
            "height": null,
            "justify_content": null,
            "justify_items": null,
            "left": null,
            "margin": null,
            "max_height": null,
            "max_width": null,
            "min_height": null,
            "min_width": null,
            "object_fit": null,
            "object_position": null,
            "order": null,
            "overflow": null,
            "overflow_x": null,
            "overflow_y": null,
            "padding": null,
            "right": null,
            "top": null,
            "visibility": null,
            "width": null
          }
        },
        "0f17d7351ec747f8aa406937af0a900e": {
          "model_module": "@jupyter-widgets/output",
          "model_name": "OutputModel",
          "model_module_version": "1.0.0",
          "state": {
            "_dom_classes": [],
            "_model_module": "@jupyter-widgets/output",
            "_model_module_version": "1.0.0",
            "_model_name": "OutputModel",
            "_view_count": null,
            "_view_module": "@jupyter-widgets/output",
            "_view_module_version": "1.0.0",
            "_view_name": "OutputView",
            "layout": "IPY_MODEL_76f5155633794a049dfd0ce8553ebae7",
            "msg_id": "",
            "outputs": []
          }
        },
        "76f5155633794a049dfd0ce8553ebae7": {
          "model_module": "@jupyter-widgets/base",
          "model_name": "LayoutModel",
          "model_module_version": "1.2.0",
          "state": {
            "_model_module": "@jupyter-widgets/base",
            "_model_module_version": "1.2.0",
            "_model_name": "LayoutModel",
            "_view_count": null,
            "_view_module": "@jupyter-widgets/base",
            "_view_module_version": "1.2.0",
            "_view_name": "LayoutView",
            "align_content": null,
            "align_items": null,
            "align_self": null,
            "border": null,
            "bottom": null,
            "display": null,
            "flex": null,
            "flex_flow": null,
            "grid_area": null,
            "grid_auto_columns": null,
            "grid_auto_flow": null,
            "grid_auto_rows": null,
            "grid_column": null,
            "grid_gap": null,
            "grid_row": null,
            "grid_template_areas": null,
            "grid_template_columns": null,
            "grid_template_rows": null,
            "height": null,
            "justify_content": null,
            "justify_items": null,
            "left": null,
            "margin": null,
            "max_height": null,
            "max_width": null,
            "min_height": null,
            "min_width": null,
            "object_fit": null,
            "object_position": null,
            "order": null,
            "overflow": null,
            "overflow_x": null,
            "overflow_y": null,
            "padding": null,
            "right": null,
            "top": null,
            "visibility": null,
            "width": null
          }
        },
        "0f4c9017ccf44be49668d6a7da9152bb": {
          "model_module": "@jupyter-widgets/output",
          "model_name": "OutputModel",
          "model_module_version": "1.0.0",
          "state": {
            "_dom_classes": [],
            "_model_module": "@jupyter-widgets/output",
            "_model_module_version": "1.0.0",
            "_model_name": "OutputModel",
            "_view_count": null,
            "_view_module": "@jupyter-widgets/output",
            "_view_module_version": "1.0.0",
            "_view_name": "OutputView",
            "layout": "IPY_MODEL_0f13f6af236d4d6981fadc43771bf2be",
            "msg_id": "",
            "outputs": []
          }
        },
        "0f13f6af236d4d6981fadc43771bf2be": {
          "model_module": "@jupyter-widgets/base",
          "model_name": "LayoutModel",
          "model_module_version": "1.2.0",
          "state": {
            "_model_module": "@jupyter-widgets/base",
            "_model_module_version": "1.2.0",
            "_model_name": "LayoutModel",
            "_view_count": null,
            "_view_module": "@jupyter-widgets/base",
            "_view_module_version": "1.2.0",
            "_view_name": "LayoutView",
            "align_content": null,
            "align_items": null,
            "align_self": null,
            "border": null,
            "bottom": null,
            "display": null,
            "flex": null,
            "flex_flow": null,
            "grid_area": null,
            "grid_auto_columns": null,
            "grid_auto_flow": null,
            "grid_auto_rows": null,
            "grid_column": null,
            "grid_gap": null,
            "grid_row": null,
            "grid_template_areas": null,
            "grid_template_columns": null,
            "grid_template_rows": null,
            "height": null,
            "justify_content": null,
            "justify_items": null,
            "left": null,
            "margin": null,
            "max_height": null,
            "max_width": null,
            "min_height": null,
            "min_width": null,
            "object_fit": null,
            "object_position": null,
            "order": null,
            "overflow": null,
            "overflow_x": null,
            "overflow_y": null,
            "padding": null,
            "right": null,
            "top": null,
            "visibility": null,
            "width": null
          }
        },
        "2768aad896b1475db204d1cfb1d0dabb": {
          "model_module": "@jupyter-widgets/output",
          "model_name": "OutputModel",
          "model_module_version": "1.0.0",
          "state": {
            "_dom_classes": [],
            "_model_module": "@jupyter-widgets/output",
            "_model_module_version": "1.0.0",
            "_model_name": "OutputModel",
            "_view_count": null,
            "_view_module": "@jupyter-widgets/output",
            "_view_module_version": "1.0.0",
            "_view_name": "OutputView",
            "layout": "IPY_MODEL_f680f266b8744ade95a49f98225ceca3",
            "msg_id": "",
            "outputs": []
          }
        },
        "f680f266b8744ade95a49f98225ceca3": {
          "model_module": "@jupyter-widgets/base",
          "model_name": "LayoutModel",
          "model_module_version": "1.2.0",
          "state": {
            "_model_module": "@jupyter-widgets/base",
            "_model_module_version": "1.2.0",
            "_model_name": "LayoutModel",
            "_view_count": null,
            "_view_module": "@jupyter-widgets/base",
            "_view_module_version": "1.2.0",
            "_view_name": "LayoutView",
            "align_content": null,
            "align_items": null,
            "align_self": null,
            "border": null,
            "bottom": null,
            "display": null,
            "flex": null,
            "flex_flow": null,
            "grid_area": null,
            "grid_auto_columns": null,
            "grid_auto_flow": null,
            "grid_auto_rows": null,
            "grid_column": null,
            "grid_gap": null,
            "grid_row": null,
            "grid_template_areas": null,
            "grid_template_columns": null,
            "grid_template_rows": null,
            "height": null,
            "justify_content": null,
            "justify_items": null,
            "left": null,
            "margin": null,
            "max_height": null,
            "max_width": null,
            "min_height": null,
            "min_width": null,
            "object_fit": null,
            "object_position": null,
            "order": null,
            "overflow": null,
            "overflow_x": null,
            "overflow_y": null,
            "padding": null,
            "right": null,
            "top": null,
            "visibility": null,
            "width": null
          }
        },
        "c8dd4f1fc4fb434ea869de9400677161": {
          "model_module": "@jupyter-widgets/output",
          "model_name": "OutputModel",
          "model_module_version": "1.0.0",
          "state": {
            "_dom_classes": [],
            "_model_module": "@jupyter-widgets/output",
            "_model_module_version": "1.0.0",
            "_model_name": "OutputModel",
            "_view_count": null,
            "_view_module": "@jupyter-widgets/output",
            "_view_module_version": "1.0.0",
            "_view_name": "OutputView",
            "layout": "IPY_MODEL_e62bbc3b0835418bae77cc68d6a59d04",
            "msg_id": "",
            "outputs": []
          }
        },
        "e62bbc3b0835418bae77cc68d6a59d04": {
          "model_module": "@jupyter-widgets/base",
          "model_name": "LayoutModel",
          "model_module_version": "1.2.0",
          "state": {
            "_model_module": "@jupyter-widgets/base",
            "_model_module_version": "1.2.0",
            "_model_name": "LayoutModel",
            "_view_count": null,
            "_view_module": "@jupyter-widgets/base",
            "_view_module_version": "1.2.0",
            "_view_name": "LayoutView",
            "align_content": null,
            "align_items": null,
            "align_self": null,
            "border": null,
            "bottom": null,
            "display": null,
            "flex": null,
            "flex_flow": null,
            "grid_area": null,
            "grid_auto_columns": null,
            "grid_auto_flow": null,
            "grid_auto_rows": null,
            "grid_column": null,
            "grid_gap": null,
            "grid_row": null,
            "grid_template_areas": null,
            "grid_template_columns": null,
            "grid_template_rows": null,
            "height": null,
            "justify_content": null,
            "justify_items": null,
            "left": null,
            "margin": null,
            "max_height": null,
            "max_width": null,
            "min_height": null,
            "min_width": null,
            "object_fit": null,
            "object_position": null,
            "order": null,
            "overflow": null,
            "overflow_x": null,
            "overflow_y": null,
            "padding": null,
            "right": null,
            "top": null,
            "visibility": null,
            "width": null
          }
        }
      }
    }
  },
  "cells": [
    {
      "cell_type": "markdown",
      "metadata": {
        "id": "view-in-github",
        "colab_type": "text"
      },
      "source": [
        "<a href=\"https://colab.research.google.com/github/SRI-CSL/signal-public/blob/main/demo/02_activity_roles_detection.ipynb\" target=\"_parent\"><img src=\"https://colab.research.google.com/assets/colab-badge.svg\" alt=\"Open In Colab\"/></a>"
      ]
    },
    {
      "cell_type": "markdown",
      "source": [
        "# Software Introspection for Signaling Emergent Cyber-Social Operations (SIGNAL) \n",
        "\n",
        "## `Developer Activities and Roles in the Linux Kernel Mailing List (LKML)`\n",
        "\n",
        "**In support of DARPA AIE Hybrid AI to Protect Integrity of Open-Source Code (SocialCyber)**\n",
        "\n",
        "This project is under the GPL3 License. See the [LICENSE](https://www.gnu.org/licenses/gpl-3.0.en.html) file for the full license text.\n",
        "\n",
        "**Copyright 2022 SRI International.**"
      ],
      "metadata": {
        "id": "0SQ6SlvguJln"
      }
    },
    {
      "cell_type": "markdown",
      "source": [
        "# 🏃‍♀️ Quickstart"
      ],
      "metadata": {
        "id": "nzF48zcLvU83"
      }
    },
    {
      "cell_type": "markdown",
      "source": [
        "## 🪄 Install `needed` libraries"
      ],
      "metadata": {
        "id": "zF-OlHscvZN_"
      }
    },
    {
      "cell_type": "code",
      "source": [
        "# Install the SIGNAL API\n",
        "!curl https://signal.cta.sri.com/client | tar xz\n",
        "!pip install ./signal_api_client"
      ],
      "metadata": {
        "id": "9wlMaeRYwuNq"
      },
      "execution_count": null,
      "outputs": []
    },
    {
      "cell_type": "code",
      "source": [
        "import signal_api.util as utils"
      ],
      "metadata": {
        "id": "-vbhCKadw40x"
      },
      "execution_count": null,
      "outputs": []
    },
    {
      "cell_type": "code",
      "source": [
        "import os\n",
        "\n",
        "import matplotlib.pyplot as plt\n",
        "import numpy as np\n",
        "import pandas as pd"
      ],
      "metadata": {
        "id": "YuQThUckvdmu"
      },
      "execution_count": null,
      "outputs": []
    },
    {
      "cell_type": "code",
      "source": [
        "import warnings"
      ],
      "metadata": {
        "id": "Cu4aTzuCvqrl"
      },
      "execution_count": null,
      "outputs": []
    },
    {
      "cell_type": "markdown",
      "source": [
        "## ✍ Set `needed` configuration"
      ],
      "metadata": {
        "id": "9QXTBZz_v2-U"
      }
    },
    {
      "cell_type": "code",
      "source": [
        "warnings.filterwarnings('ignore')"
      ],
      "metadata": {
        "id": "nw7_C9Wwv_VT"
      },
      "execution_count": null,
      "outputs": []
    },
    {
      "cell_type": "code",
      "source": [
        "%matplotlib inline\n",
        "%config InlineBackend.figure_format='retina'"
      ],
      "metadata": {
        "id": "8hWcocRhwIzz"
      },
      "execution_count": null,
      "outputs": []
    },
    {
      "cell_type": "code",
      "source": [
        "from IPython import get_ipython\n",
        "utils.common.set_default_vars(os.environ, ipython_val=get_ipython())"
      ],
      "metadata": {
        "id": "weHySq_7Yqzo"
      },
      "execution_count": null,
      "outputs": []
    },
    {
      "cell_type": "code",
      "source": [
        "utils.dl.set_random_seed(2222)"
      ],
      "metadata": {
        "id": "1oDpVkuojeP3"
      },
      "execution_count": null,
      "outputs": []
    },
    {
      "cell_type": "markdown",
      "source": [
        "## 🧹 Data cleaning and preparation"
      ],
      "metadata": {
        "id": "E1ljF5fd-mmc"
      }
    },
    {
      "cell_type": "code",
      "metadata": {
        "colab": {
          "base_uri": "https://localhost:8080/"
        },
        "id": "EaR14lyhEtw9",
        "outputId": "7b30b286-346a-412a-fd46-2afb71e7011f"
      },
      "source": [
        "data_file = \"../data/lkml_developer_from0820_0121.csv\"\n",
        "if utils.common.is_run_in_colab():\n",
        "  data_file = utils.gdrive.get_dataset('lkml_developer_from0820_0121', False)\n",
        "\n",
        "df = pd.read_csv(data_file, sep='\\t')\n",
        "df = df.loc[:, ~df.columns.str.contains('^Unnamed')]\n",
        "df.head()\n"
      ],
      "execution_count": null,
      "outputs": [
        {
          "output_type": "execute_result",
          "data": {
            "text/plain": [
              "          sender_name                sender_email  sender_id  is_maintainer  \\\n",
              "0  Greg Kroah-Hartman  gregkh@linuxfoundation.org          0              1   \n",
              "1  Greg Kroah-Hartman  gregkh@linuxfoundation.org          0              1   \n",
              "2  Greg Kroah-Hartman  gregkh@linuxfoundation.org          0              1   \n",
              "3  Greg Kroah-Hartman  gregkh@linuxfoundation.org          0              1   \n",
              "4  Greg Kroah-Hartman  gregkh@linuxfoundation.org          0              1   \n",
              "\n",
              "   nr_aliases  is_bot        email_id                  sent_time  \\\n",
              "0           0       0  20200820053535  2020-08-20 09:35:35+00:00   \n",
              "1           0       0  20200820053552  2020-08-20 09:35:52+00:00   \n",
              "2           0       0  20200820053555  2020-08-20 09:35:55+00:00   \n",
              "3           0       0  20200820053602  2020-08-20 09:36:02+00:00   \n",
              "4           0       0  20200820053606  2020-08-20 09:36:06+00:00   \n",
              "\n",
              "              received_time  message_exper  ...  is_patch_churn  is_patch_set  \\\n",
              "0  2020-08-20 05:35:35-0500              0  ...               1             1   \n",
              "1  2020-08-20 05:35:52-0500              1  ...               1             1   \n",
              "2  2020-08-20 05:35:55-0500              2  ...               1             1   \n",
              "3  2020-08-20 05:36:02-0500              3  ...               1             1   \n",
              "4  2020-08-20 05:36:06-0500              4  ...               1             1   \n",
              "\n",
              "   is_bug_fix  is_new_feature  is_accepted_patch  is_accepted_commit  \\\n",
              "0           1               1                  0                   0   \n",
              "1           1               1                  0                   0   \n",
              "2           1               1                  0                   0   \n",
              "3           1               1                  0                   0   \n",
              "4           1               1                  0                   0   \n",
              "\n",
              "    in_reply_to  project_id  commit_exper  time_lapse  \n",
              "0  2.020082e+13          -1             0        17.0  \n",
              "1  2.020082e+13          -1             0         3.0  \n",
              "2  2.020082e+13          -1             0         7.0  \n",
              "3  2.020082e+13          -1             0         4.0  \n",
              "4  2.020082e+13          -1             0         3.0  \n",
              "\n",
              "[5 rows x 27 columns]"
            ],
            "text/html": [
              "\n",
              "  <div id=\"df-1faa3134-56c4-4568-ad68-64a49d21c25d\">\n",
              "    <div class=\"colab-df-container\">\n",
              "      <div>\n",
              "<style scoped>\n",
              "    .dataframe tbody tr th:only-of-type {\n",
              "        vertical-align: middle;\n",
              "    }\n",
              "\n",
              "    .dataframe tbody tr th {\n",
              "        vertical-align: top;\n",
              "    }\n",
              "\n",
              "    .dataframe thead th {\n",
              "        text-align: right;\n",
              "    }\n",
              "</style>\n",
              "<table border=\"1\" class=\"dataframe\">\n",
              "  <thead>\n",
              "    <tr style=\"text-align: right;\">\n",
              "      <th></th>\n",
              "      <th>sender_name</th>\n",
              "      <th>sender_email</th>\n",
              "      <th>sender_id</th>\n",
              "      <th>is_maintainer</th>\n",
              "      <th>nr_aliases</th>\n",
              "      <th>is_bot</th>\n",
              "      <th>email_id</th>\n",
              "      <th>sent_time</th>\n",
              "      <th>received_time</th>\n",
              "      <th>message_exper</th>\n",
              "      <th>...</th>\n",
              "      <th>is_patch_churn</th>\n",
              "      <th>is_patch_set</th>\n",
              "      <th>is_bug_fix</th>\n",
              "      <th>is_new_feature</th>\n",
              "      <th>is_accepted_patch</th>\n",
              "      <th>is_accepted_commit</th>\n",
              "      <th>in_reply_to</th>\n",
              "      <th>project_id</th>\n",
              "      <th>commit_exper</th>\n",
              "      <th>time_lapse</th>\n",
              "    </tr>\n",
              "  </thead>\n",
              "  <tbody>\n",
              "    <tr>\n",
              "      <th>0</th>\n",
              "      <td>Greg Kroah-Hartman</td>\n",
              "      <td>gregkh@linuxfoundation.org</td>\n",
              "      <td>0</td>\n",
              "      <td>1</td>\n",
              "      <td>0</td>\n",
              "      <td>0</td>\n",
              "      <td>20200820053535</td>\n",
              "      <td>2020-08-20 09:35:35+00:00</td>\n",
              "      <td>2020-08-20 05:35:35-0500</td>\n",
              "      <td>0</td>\n",
              "      <td>...</td>\n",
              "      <td>1</td>\n",
              "      <td>1</td>\n",
              "      <td>1</td>\n",
              "      <td>1</td>\n",
              "      <td>0</td>\n",
              "      <td>0</td>\n",
              "      <td>2.020082e+13</td>\n",
              "      <td>-1</td>\n",
              "      <td>0</td>\n",
              "      <td>17.0</td>\n",
              "    </tr>\n",
              "    <tr>\n",
              "      <th>1</th>\n",
              "      <td>Greg Kroah-Hartman</td>\n",
              "      <td>gregkh@linuxfoundation.org</td>\n",
              "      <td>0</td>\n",
              "      <td>1</td>\n",
              "      <td>0</td>\n",
              "      <td>0</td>\n",
              "      <td>20200820053552</td>\n",
              "      <td>2020-08-20 09:35:52+00:00</td>\n",
              "      <td>2020-08-20 05:35:52-0500</td>\n",
              "      <td>1</td>\n",
              "      <td>...</td>\n",
              "      <td>1</td>\n",
              "      <td>1</td>\n",
              "      <td>1</td>\n",
              "      <td>1</td>\n",
              "      <td>0</td>\n",
              "      <td>0</td>\n",
              "      <td>2.020082e+13</td>\n",
              "      <td>-1</td>\n",
              "      <td>0</td>\n",
              "      <td>3.0</td>\n",
              "    </tr>\n",
              "    <tr>\n",
              "      <th>2</th>\n",
              "      <td>Greg Kroah-Hartman</td>\n",
              "      <td>gregkh@linuxfoundation.org</td>\n",
              "      <td>0</td>\n",
              "      <td>1</td>\n",
              "      <td>0</td>\n",
              "      <td>0</td>\n",
              "      <td>20200820053555</td>\n",
              "      <td>2020-08-20 09:35:55+00:00</td>\n",
              "      <td>2020-08-20 05:35:55-0500</td>\n",
              "      <td>2</td>\n",
              "      <td>...</td>\n",
              "      <td>1</td>\n",
              "      <td>1</td>\n",
              "      <td>1</td>\n",
              "      <td>1</td>\n",
              "      <td>0</td>\n",
              "      <td>0</td>\n",
              "      <td>2.020082e+13</td>\n",
              "      <td>-1</td>\n",
              "      <td>0</td>\n",
              "      <td>7.0</td>\n",
              "    </tr>\n",
              "    <tr>\n",
              "      <th>3</th>\n",
              "      <td>Greg Kroah-Hartman</td>\n",
              "      <td>gregkh@linuxfoundation.org</td>\n",
              "      <td>0</td>\n",
              "      <td>1</td>\n",
              "      <td>0</td>\n",
              "      <td>0</td>\n",
              "      <td>20200820053602</td>\n",
              "      <td>2020-08-20 09:36:02+00:00</td>\n",
              "      <td>2020-08-20 05:36:02-0500</td>\n",
              "      <td>3</td>\n",
              "      <td>...</td>\n",
              "      <td>1</td>\n",
              "      <td>1</td>\n",
              "      <td>1</td>\n",
              "      <td>1</td>\n",
              "      <td>0</td>\n",
              "      <td>0</td>\n",
              "      <td>2.020082e+13</td>\n",
              "      <td>-1</td>\n",
              "      <td>0</td>\n",
              "      <td>4.0</td>\n",
              "    </tr>\n",
              "    <tr>\n",
              "      <th>4</th>\n",
              "      <td>Greg Kroah-Hartman</td>\n",
              "      <td>gregkh@linuxfoundation.org</td>\n",
              "      <td>0</td>\n",
              "      <td>1</td>\n",
              "      <td>0</td>\n",
              "      <td>0</td>\n",
              "      <td>20200820053606</td>\n",
              "      <td>2020-08-20 09:36:06+00:00</td>\n",
              "      <td>2020-08-20 05:36:06-0500</td>\n",
              "      <td>4</td>\n",
              "      <td>...</td>\n",
              "      <td>1</td>\n",
              "      <td>1</td>\n",
              "      <td>1</td>\n",
              "      <td>1</td>\n",
              "      <td>0</td>\n",
              "      <td>0</td>\n",
              "      <td>2.020082e+13</td>\n",
              "      <td>-1</td>\n",
              "      <td>0</td>\n",
              "      <td>3.0</td>\n",
              "    </tr>\n",
              "  </tbody>\n",
              "</table>\n",
              "<p>5 rows × 27 columns</p>\n",
              "</div>\n",
              "      <button class=\"colab-df-convert\" onclick=\"convertToInteractive('df-1faa3134-56c4-4568-ad68-64a49d21c25d')\"\n",
              "              title=\"Convert this dataframe to an interactive table.\"\n",
              "              style=\"display:none;\">\n",
              "        \n",
              "  <svg xmlns=\"http://www.w3.org/2000/svg\" height=\"24px\"viewBox=\"0 0 24 24\"\n",
              "       width=\"24px\">\n",
              "    <path d=\"M0 0h24v24H0V0z\" fill=\"none\"/>\n",
              "    <path d=\"M18.56 5.44l.94 2.06.94-2.06 2.06-.94-2.06-.94-.94-2.06-.94 2.06-2.06.94zm-11 1L8.5 8.5l.94-2.06 2.06-.94-2.06-.94L8.5 2.5l-.94 2.06-2.06.94zm10 10l.94 2.06.94-2.06 2.06-.94-2.06-.94-.94-2.06-.94 2.06-2.06.94z\"/><path d=\"M17.41 7.96l-1.37-1.37c-.4-.4-.92-.59-1.43-.59-.52 0-1.04.2-1.43.59L10.3 9.45l-7.72 7.72c-.78.78-.78 2.05 0 2.83L4 21.41c.39.39.9.59 1.41.59.51 0 1.02-.2 1.41-.59l7.78-7.78 2.81-2.81c.8-.78.8-2.07 0-2.86zM5.41 20L4 18.59l7.72-7.72 1.47 1.35L5.41 20z\"/>\n",
              "  </svg>\n",
              "      </button>\n",
              "      \n",
              "  <style>\n",
              "    .colab-df-container {\n",
              "      display:flex;\n",
              "      flex-wrap:wrap;\n",
              "      gap: 12px;\n",
              "    }\n",
              "\n",
              "    .colab-df-convert {\n",
              "      background-color: #E8F0FE;\n",
              "      border: none;\n",
              "      border-radius: 50%;\n",
              "      cursor: pointer;\n",
              "      display: none;\n",
              "      fill: #1967D2;\n",
              "      height: 32px;\n",
              "      padding: 0 0 0 0;\n",
              "      width: 32px;\n",
              "    }\n",
              "\n",
              "    .colab-df-convert:hover {\n",
              "      background-color: #E2EBFA;\n",
              "      box-shadow: 0px 1px 2px rgba(60, 64, 67, 0.3), 0px 1px 3px 1px rgba(60, 64, 67, 0.15);\n",
              "      fill: #174EA6;\n",
              "    }\n",
              "\n",
              "    [theme=dark] .colab-df-convert {\n",
              "      background-color: #3B4455;\n",
              "      fill: #D2E3FC;\n",
              "    }\n",
              "\n",
              "    [theme=dark] .colab-df-convert:hover {\n",
              "      background-color: #434B5C;\n",
              "      box-shadow: 0px 1px 3px 1px rgba(0, 0, 0, 0.15);\n",
              "      filter: drop-shadow(0px 1px 2px rgba(0, 0, 0, 0.3));\n",
              "      fill: #FFFFFF;\n",
              "    }\n",
              "  </style>\n",
              "\n",
              "      <script>\n",
              "        const buttonEl =\n",
              "          document.querySelector('#df-1faa3134-56c4-4568-ad68-64a49d21c25d button.colab-df-convert');\n",
              "        buttonEl.style.display =\n",
              "          google.colab.kernel.accessAllowed ? 'block' : 'none';\n",
              "\n",
              "        async function convertToInteractive(key) {\n",
              "          const element = document.querySelector('#df-1faa3134-56c4-4568-ad68-64a49d21c25d');\n",
              "          const dataTable =\n",
              "            await google.colab.kernel.invokeFunction('convertToInteractive',\n",
              "                                                     [key], {});\n",
              "          if (!dataTable) return;\n",
              "\n",
              "          const docLinkHtml = 'Like what you see? Visit the ' +\n",
              "            '<a target=\"_blank\" href=https://colab.research.google.com/notebooks/data_table.ipynb>data table notebook</a>'\n",
              "            + ' to learn more about interactive tables.';\n",
              "          element.innerHTML = '';\n",
              "          dataTable['output_type'] = 'display_data';\n",
              "          await google.colab.output.renderOutput(dataTable, element);\n",
              "          const docLink = document.createElement('div');\n",
              "          docLink.innerHTML = docLinkHtml;\n",
              "          element.appendChild(docLink);\n",
              "        }\n",
              "      </script>\n",
              "    </div>\n",
              "  </div>\n",
              "  "
            ]
          },
          "metadata": {},
          "execution_count": 9
        }
      ]
    },
    {
      "cell_type": "markdown",
      "metadata": {
        "id": "CYf10nkVnBjq"
      },
      "source": [
        "We draw our data from the data we produced in milestone 2, which describes developers participating in the LKML, their patch emails, and their socio-technical activity. However, we restricted our analysis to those patch emails meeting certain criteria: They must indicate either *accepted* or *rejected* patch emails, have been sent by valid submitters (i.e, developers whose identities can be confirmed in `patchwork`), have at least one reply, have written at least 50 words (or at least one sentence) in their email bodies, have a *known* persuasion strategy, and have been sent within a user specified time window (e.g., all emails sent to the LKML in 2020). This resulted dataframe (interest_df_norm) that holds a picture of the wealth of socio-technical activity occurring in the LKML."
      ]
    },
    {
      "cell_type": "code",
      "source": [
        "interest_df_norm, report = utils.data.process_and_clean_dataframe(df, quiet=True)"
      ],
      "metadata": {
        "colab": {
          "base_uri": "https://localhost:8080/",
          "referenced_widgets": [
            "be9df273c81d4b038db0b8a7b1c5a55e",
            "27720ea58ffb4e0e98d05e66ffe1c217",
            "f05c07743d0f4590beb8817e9aebeac3",
            "43ce3f4d78644527984a7ea9dbb9f3c8"
          ]
        },
        "id": "UaKvhHKvMjJ9",
        "outputId": "1084d5ae-5f65-455d-fc5b-b0bebc30f086"
      },
      "execution_count": null,
      "outputs": [
        {
          "output_type": "display_data",
          "data": {
            "text/plain": [
              "Output()"
            ],
            "application/vnd.jupyter.widget-view+json": {
              "version_major": 2,
              "version_minor": 0,
              "model_id": "be9df273c81d4b038db0b8a7b1c5a55e"
            }
          },
          "metadata": {}
        },
        {
          "output_type": "display_data",
          "data": {
            "text/plain": [
              "Output()"
            ],
            "application/vnd.jupyter.widget-view+json": {
              "version_major": 2,
              "version_minor": 0,
              "model_id": "f05c07743d0f4590beb8817e9aebeac3"
            }
          },
          "metadata": {}
        }
      ]
    },
    {
      "cell_type": "code",
      "source": [
        "interest_df_norm.head(1)"
      ],
      "metadata": {
        "colab": {
          "base_uri": "https://localhost:8080/"
        },
        "id": "AfEac_lqMuhY",
        "outputId": "242ecc54-c0a0-4778-f300-1958dfb2570b"
      },
      "execution_count": null,
      "outputs": [
        {
          "output_type": "execute_result",
          "data": {
            "text/plain": [
              "   sender_commitment  sender_experience  fkre_score  fkgl_score  \\\n",
              "1          -0.472421          -0.227836   -0.013093   -0.007443   \n",
              "\n",
              "   is_persuasive  is_patch_email  is_first_patch_in_thread  sent_time  \\\n",
              "1       0.615009        0.004239                 -0.305672  -2.052674   \n",
              "\n",
              "   received_time  is_quickly_replied  is_patch_update  is_bug_fix  \\\n",
              "1      -2.179544            0.788616         0.737443    0.032799   \n",
              "\n",
              "   is_new_feature  is_accepted_patch  is_accepted_commit  verbosity  \n",
              "1        0.450693          -0.282126            0.423065   0.022807  "
            ],
            "text/html": [
              "\n",
              "  <div id=\"df-a4655d17-db4a-4728-9354-2fdf10e95832\">\n",
              "    <div class=\"colab-df-container\">\n",
              "      <div>\n",
              "<style scoped>\n",
              "    .dataframe tbody tr th:only-of-type {\n",
              "        vertical-align: middle;\n",
              "    }\n",
              "\n",
              "    .dataframe tbody tr th {\n",
              "        vertical-align: top;\n",
              "    }\n",
              "\n",
              "    .dataframe thead th {\n",
              "        text-align: right;\n",
              "    }\n",
              "</style>\n",
              "<table border=\"1\" class=\"dataframe\">\n",
              "  <thead>\n",
              "    <tr style=\"text-align: right;\">\n",
              "      <th></th>\n",
              "      <th>sender_commitment</th>\n",
              "      <th>sender_experience</th>\n",
              "      <th>fkre_score</th>\n",
              "      <th>fkgl_score</th>\n",
              "      <th>is_persuasive</th>\n",
              "      <th>is_patch_email</th>\n",
              "      <th>is_first_patch_in_thread</th>\n",
              "      <th>sent_time</th>\n",
              "      <th>received_time</th>\n",
              "      <th>is_quickly_replied</th>\n",
              "      <th>is_patch_update</th>\n",
              "      <th>is_bug_fix</th>\n",
              "      <th>is_new_feature</th>\n",
              "      <th>is_accepted_patch</th>\n",
              "      <th>is_accepted_commit</th>\n",
              "      <th>verbosity</th>\n",
              "    </tr>\n",
              "  </thead>\n",
              "  <tbody>\n",
              "    <tr>\n",
              "      <th>1</th>\n",
              "      <td>-0.472421</td>\n",
              "      <td>-0.227836</td>\n",
              "      <td>-0.013093</td>\n",
              "      <td>-0.007443</td>\n",
              "      <td>0.615009</td>\n",
              "      <td>0.004239</td>\n",
              "      <td>-0.305672</td>\n",
              "      <td>-2.052674</td>\n",
              "      <td>-2.179544</td>\n",
              "      <td>0.788616</td>\n",
              "      <td>0.737443</td>\n",
              "      <td>0.032799</td>\n",
              "      <td>0.450693</td>\n",
              "      <td>-0.282126</td>\n",
              "      <td>0.423065</td>\n",
              "      <td>0.022807</td>\n",
              "    </tr>\n",
              "  </tbody>\n",
              "</table>\n",
              "</div>\n",
              "      <button class=\"colab-df-convert\" onclick=\"convertToInteractive('df-a4655d17-db4a-4728-9354-2fdf10e95832')\"\n",
              "              title=\"Convert this dataframe to an interactive table.\"\n",
              "              style=\"display:none;\">\n",
              "        \n",
              "  <svg xmlns=\"http://www.w3.org/2000/svg\" height=\"24px\"viewBox=\"0 0 24 24\"\n",
              "       width=\"24px\">\n",
              "    <path d=\"M0 0h24v24H0V0z\" fill=\"none\"/>\n",
              "    <path d=\"M18.56 5.44l.94 2.06.94-2.06 2.06-.94-2.06-.94-.94-2.06-.94 2.06-2.06.94zm-11 1L8.5 8.5l.94-2.06 2.06-.94-2.06-.94L8.5 2.5l-.94 2.06-2.06.94zm10 10l.94 2.06.94-2.06 2.06-.94-2.06-.94-.94-2.06-.94 2.06-2.06.94z\"/><path d=\"M17.41 7.96l-1.37-1.37c-.4-.4-.92-.59-1.43-.59-.52 0-1.04.2-1.43.59L10.3 9.45l-7.72 7.72c-.78.78-.78 2.05 0 2.83L4 21.41c.39.39.9.59 1.41.59.51 0 1.02-.2 1.41-.59l7.78-7.78 2.81-2.81c.8-.78.8-2.07 0-2.86zM5.41 20L4 18.59l7.72-7.72 1.47 1.35L5.41 20z\"/>\n",
              "  </svg>\n",
              "      </button>\n",
              "      \n",
              "  <style>\n",
              "    .colab-df-container {\n",
              "      display:flex;\n",
              "      flex-wrap:wrap;\n",
              "      gap: 12px;\n",
              "    }\n",
              "\n",
              "    .colab-df-convert {\n",
              "      background-color: #E8F0FE;\n",
              "      border: none;\n",
              "      border-radius: 50%;\n",
              "      cursor: pointer;\n",
              "      display: none;\n",
              "      fill: #1967D2;\n",
              "      height: 32px;\n",
              "      padding: 0 0 0 0;\n",
              "      width: 32px;\n",
              "    }\n",
              "\n",
              "    .colab-df-convert:hover {\n",
              "      background-color: #E2EBFA;\n",
              "      box-shadow: 0px 1px 2px rgba(60, 64, 67, 0.3), 0px 1px 3px 1px rgba(60, 64, 67, 0.15);\n",
              "      fill: #174EA6;\n",
              "    }\n",
              "\n",
              "    [theme=dark] .colab-df-convert {\n",
              "      background-color: #3B4455;\n",
              "      fill: #D2E3FC;\n",
              "    }\n",
              "\n",
              "    [theme=dark] .colab-df-convert:hover {\n",
              "      background-color: #434B5C;\n",
              "      box-shadow: 0px 1px 3px 1px rgba(0, 0, 0, 0.15);\n",
              "      filter: drop-shadow(0px 1px 2px rgba(0, 0, 0, 0.3));\n",
              "      fill: #FFFFFF;\n",
              "    }\n",
              "  </style>\n",
              "\n",
              "      <script>\n",
              "        const buttonEl =\n",
              "          document.querySelector('#df-a4655d17-db4a-4728-9354-2fdf10e95832 button.colab-df-convert');\n",
              "        buttonEl.style.display =\n",
              "          google.colab.kernel.accessAllowed ? 'block' : 'none';\n",
              "\n",
              "        async function convertToInteractive(key) {\n",
              "          const element = document.querySelector('#df-a4655d17-db4a-4728-9354-2fdf10e95832');\n",
              "          const dataTable =\n",
              "            await google.colab.kernel.invokeFunction('convertToInteractive',\n",
              "                                                     [key], {});\n",
              "          if (!dataTable) return;\n",
              "\n",
              "          const docLinkHtml = 'Like what you see? Visit the ' +\n",
              "            '<a target=\"_blank\" href=https://colab.research.google.com/notebooks/data_table.ipynb>data table notebook</a>'\n",
              "            + ' to learn more about interactive tables.';\n",
              "          element.innerHTML = '';\n",
              "          dataTable['output_type'] = 'display_data';\n",
              "          await google.colab.output.renderOutput(dataTable, element);\n",
              "          const docLink = document.createElement('div');\n",
              "          docLink.innerHTML = docLinkHtml;\n",
              "          element.appendChild(docLink);\n",
              "        }\n",
              "      </script>\n",
              "    </div>\n",
              "  </div>\n",
              "  "
            ]
          },
          "metadata": {},
          "execution_count": 11
        }
      ]
    },
    {
      "cell_type": "code",
      "source": [
        "report.metrics"
      ],
      "metadata": {
        "colab": {
          "base_uri": "https://localhost:8080/"
        },
        "id": "RtwVjsIQMyxo",
        "outputId": "26a8c521-63fd-4467-a1f8-af5c3a787f45"
      },
      "execution_count": null,
      "outputs": [
        {
          "output_type": "execute_result",
          "data": {
            "text/plain": [
              "   RecordCount  FeatureCount  NumericFeatures  BinaryFeatures\n",
              "0        27411            16                7               9"
            ],
            "text/html": [
              "\n",
              "  <div id=\"df-662221c7-67fb-4b8e-8da3-7460ce089403\">\n",
              "    <div class=\"colab-df-container\">\n",
              "      <div>\n",
              "<style scoped>\n",
              "    .dataframe tbody tr th:only-of-type {\n",
              "        vertical-align: middle;\n",
              "    }\n",
              "\n",
              "    .dataframe tbody tr th {\n",
              "        vertical-align: top;\n",
              "    }\n",
              "\n",
              "    .dataframe thead th {\n",
              "        text-align: right;\n",
              "    }\n",
              "</style>\n",
              "<table border=\"1\" class=\"dataframe\">\n",
              "  <thead>\n",
              "    <tr style=\"text-align: right;\">\n",
              "      <th></th>\n",
              "      <th>RecordCount</th>\n",
              "      <th>FeatureCount</th>\n",
              "      <th>NumericFeatures</th>\n",
              "      <th>BinaryFeatures</th>\n",
              "    </tr>\n",
              "  </thead>\n",
              "  <tbody>\n",
              "    <tr>\n",
              "      <th>0</th>\n",
              "      <td>27411</td>\n",
              "      <td>16</td>\n",
              "      <td>7</td>\n",
              "      <td>9</td>\n",
              "    </tr>\n",
              "  </tbody>\n",
              "</table>\n",
              "</div>\n",
              "      <button class=\"colab-df-convert\" onclick=\"convertToInteractive('df-662221c7-67fb-4b8e-8da3-7460ce089403')\"\n",
              "              title=\"Convert this dataframe to an interactive table.\"\n",
              "              style=\"display:none;\">\n",
              "        \n",
              "  <svg xmlns=\"http://www.w3.org/2000/svg\" height=\"24px\"viewBox=\"0 0 24 24\"\n",
              "       width=\"24px\">\n",
              "    <path d=\"M0 0h24v24H0V0z\" fill=\"none\"/>\n",
              "    <path d=\"M18.56 5.44l.94 2.06.94-2.06 2.06-.94-2.06-.94-.94-2.06-.94 2.06-2.06.94zm-11 1L8.5 8.5l.94-2.06 2.06-.94-2.06-.94L8.5 2.5l-.94 2.06-2.06.94zm10 10l.94 2.06.94-2.06 2.06-.94-2.06-.94-.94-2.06-.94 2.06-2.06.94z\"/><path d=\"M17.41 7.96l-1.37-1.37c-.4-.4-.92-.59-1.43-.59-.52 0-1.04.2-1.43.59L10.3 9.45l-7.72 7.72c-.78.78-.78 2.05 0 2.83L4 21.41c.39.39.9.59 1.41.59.51 0 1.02-.2 1.41-.59l7.78-7.78 2.81-2.81c.8-.78.8-2.07 0-2.86zM5.41 20L4 18.59l7.72-7.72 1.47 1.35L5.41 20z\"/>\n",
              "  </svg>\n",
              "      </button>\n",
              "      \n",
              "  <style>\n",
              "    .colab-df-container {\n",
              "      display:flex;\n",
              "      flex-wrap:wrap;\n",
              "      gap: 12px;\n",
              "    }\n",
              "\n",
              "    .colab-df-convert {\n",
              "      background-color: #E8F0FE;\n",
              "      border: none;\n",
              "      border-radius: 50%;\n",
              "      cursor: pointer;\n",
              "      display: none;\n",
              "      fill: #1967D2;\n",
              "      height: 32px;\n",
              "      padding: 0 0 0 0;\n",
              "      width: 32px;\n",
              "    }\n",
              "\n",
              "    .colab-df-convert:hover {\n",
              "      background-color: #E2EBFA;\n",
              "      box-shadow: 0px 1px 2px rgba(60, 64, 67, 0.3), 0px 1px 3px 1px rgba(60, 64, 67, 0.15);\n",
              "      fill: #174EA6;\n",
              "    }\n",
              "\n",
              "    [theme=dark] .colab-df-convert {\n",
              "      background-color: #3B4455;\n",
              "      fill: #D2E3FC;\n",
              "    }\n",
              "\n",
              "    [theme=dark] .colab-df-convert:hover {\n",
              "      background-color: #434B5C;\n",
              "      box-shadow: 0px 1px 3px 1px rgba(0, 0, 0, 0.15);\n",
              "      filter: drop-shadow(0px 1px 2px rgba(0, 0, 0, 0.3));\n",
              "      fill: #FFFFFF;\n",
              "    }\n",
              "  </style>\n",
              "\n",
              "      <script>\n",
              "        const buttonEl =\n",
              "          document.querySelector('#df-662221c7-67fb-4b8e-8da3-7460ce089403 button.colab-df-convert');\n",
              "        buttonEl.style.display =\n",
              "          google.colab.kernel.accessAllowed ? 'block' : 'none';\n",
              "\n",
              "        async function convertToInteractive(key) {\n",
              "          const element = document.querySelector('#df-662221c7-67fb-4b8e-8da3-7460ce089403');\n",
              "          const dataTable =\n",
              "            await google.colab.kernel.invokeFunction('convertToInteractive',\n",
              "                                                     [key], {});\n",
              "          if (!dataTable) return;\n",
              "\n",
              "          const docLinkHtml = 'Like what you see? Visit the ' +\n",
              "            '<a target=\"_blank\" href=https://colab.research.google.com/notebooks/data_table.ipynb>data table notebook</a>'\n",
              "            + ' to learn more about interactive tables.';\n",
              "          element.innerHTML = '';\n",
              "          dataTable['output_type'] = 'display_data';\n",
              "          await google.colab.output.renderOutput(dataTable, element);\n",
              "          const docLink = document.createElement('div');\n",
              "          docLink.innerHTML = docLinkHtml;\n",
              "          element.appendChild(docLink);\n",
              "        }\n",
              "      </script>\n",
              "    </div>\n",
              "  </div>\n",
              "  "
            ]
          },
          "metadata": {},
          "execution_count": 12
        }
      ]
    },
    {
      "cell_type": "markdown",
      "metadata": {
        "id": "P6zu_S-cSXyo"
      },
      "source": [
        "<!-- # 1. Introduction (REMOVE)\n",
        "\n",
        "In the following sections, we perform factor analysis to identify activities and roles. We then introduce `dev2vec`, our hybrid neural model for describing types of developers (roles) participating in the LKML, without human expert supervision. This model is trained on data generated by our factor analysis effort. -->\n",
        "\n"
      ]
    },
    {
      "cell_type": "markdown",
      "metadata": {
        "id": "tKk1cC1ejc7c"
      },
      "source": [
        "We also keep checkpoint of the **unprocessed and uncleaned** data\n"
      ]
    },
    {
      "cell_type": "code",
      "metadata": {
        "id": "UQJmnJwCxrWd",
        "colab": {
          "base_uri": "https://localhost:8080/"
        },
        "outputId": "46b6d82b-fda2-4ae7-c4bc-77ad68ab93c1"
      },
      "source": [
        "# raw_data (aka, interest_df)\n",
        "report.raw_data.head(1)"
      ],
      "execution_count": null,
      "outputs": [
        {
          "output_type": "execute_result",
          "data": {
            "text/plain": [
              "          sender_name                sender_email  sender_id  is_maintainer  \\\n",
              "1  Greg Kroah-Hartman  gregkh@linuxfoundation.org          0              1   \n",
              "\n",
              "   nr_aliases  is_bot        email_id   sent_time  received_time  \\\n",
              "1           0       0  20200820053552  1597916152     1597919752   \n",
              "\n",
              "   sender_commitment  ...  is_bug_fix  is_new_feature  is_accepted_patch  \\\n",
              "1                  1  ...           1               1                  0   \n",
              "\n",
              "   is_accepted_commit   in_reply_to  project_id  sender_experience  \\\n",
              "1                   0  2.020082e+13          -1                  0   \n",
              "\n",
              "   time_lapse  is_quickly_replied  is_persuasive  \n",
              "1         3.0                   1              1  \n",
              "\n",
              "[1 rows x 28 columns]"
            ],
            "text/html": [
              "\n",
              "  <div id=\"df-e915349c-298c-44e1-9bc0-833bfb1d5f91\">\n",
              "    <div class=\"colab-df-container\">\n",
              "      <div>\n",
              "<style scoped>\n",
              "    .dataframe tbody tr th:only-of-type {\n",
              "        vertical-align: middle;\n",
              "    }\n",
              "\n",
              "    .dataframe tbody tr th {\n",
              "        vertical-align: top;\n",
              "    }\n",
              "\n",
              "    .dataframe thead th {\n",
              "        text-align: right;\n",
              "    }\n",
              "</style>\n",
              "<table border=\"1\" class=\"dataframe\">\n",
              "  <thead>\n",
              "    <tr style=\"text-align: right;\">\n",
              "      <th></th>\n",
              "      <th>sender_name</th>\n",
              "      <th>sender_email</th>\n",
              "      <th>sender_id</th>\n",
              "      <th>is_maintainer</th>\n",
              "      <th>nr_aliases</th>\n",
              "      <th>is_bot</th>\n",
              "      <th>email_id</th>\n",
              "      <th>sent_time</th>\n",
              "      <th>received_time</th>\n",
              "      <th>sender_commitment</th>\n",
              "      <th>...</th>\n",
              "      <th>is_bug_fix</th>\n",
              "      <th>is_new_feature</th>\n",
              "      <th>is_accepted_patch</th>\n",
              "      <th>is_accepted_commit</th>\n",
              "      <th>in_reply_to</th>\n",
              "      <th>project_id</th>\n",
              "      <th>sender_experience</th>\n",
              "      <th>time_lapse</th>\n",
              "      <th>is_quickly_replied</th>\n",
              "      <th>is_persuasive</th>\n",
              "    </tr>\n",
              "  </thead>\n",
              "  <tbody>\n",
              "    <tr>\n",
              "      <th>1</th>\n",
              "      <td>Greg Kroah-Hartman</td>\n",
              "      <td>gregkh@linuxfoundation.org</td>\n",
              "      <td>0</td>\n",
              "      <td>1</td>\n",
              "      <td>0</td>\n",
              "      <td>0</td>\n",
              "      <td>20200820053552</td>\n",
              "      <td>1597916152</td>\n",
              "      <td>1597919752</td>\n",
              "      <td>1</td>\n",
              "      <td>...</td>\n",
              "      <td>1</td>\n",
              "      <td>1</td>\n",
              "      <td>0</td>\n",
              "      <td>0</td>\n",
              "      <td>2.020082e+13</td>\n",
              "      <td>-1</td>\n",
              "      <td>0</td>\n",
              "      <td>3.0</td>\n",
              "      <td>1</td>\n",
              "      <td>1</td>\n",
              "    </tr>\n",
              "  </tbody>\n",
              "</table>\n",
              "<p>1 rows × 28 columns</p>\n",
              "</div>\n",
              "      <button class=\"colab-df-convert\" onclick=\"convertToInteractive('df-e915349c-298c-44e1-9bc0-833bfb1d5f91')\"\n",
              "              title=\"Convert this dataframe to an interactive table.\"\n",
              "              style=\"display:none;\">\n",
              "        \n",
              "  <svg xmlns=\"http://www.w3.org/2000/svg\" height=\"24px\"viewBox=\"0 0 24 24\"\n",
              "       width=\"24px\">\n",
              "    <path d=\"M0 0h24v24H0V0z\" fill=\"none\"/>\n",
              "    <path d=\"M18.56 5.44l.94 2.06.94-2.06 2.06-.94-2.06-.94-.94-2.06-.94 2.06-2.06.94zm-11 1L8.5 8.5l.94-2.06 2.06-.94-2.06-.94L8.5 2.5l-.94 2.06-2.06.94zm10 10l.94 2.06.94-2.06 2.06-.94-2.06-.94-.94-2.06-.94 2.06-2.06.94z\"/><path d=\"M17.41 7.96l-1.37-1.37c-.4-.4-.92-.59-1.43-.59-.52 0-1.04.2-1.43.59L10.3 9.45l-7.72 7.72c-.78.78-.78 2.05 0 2.83L4 21.41c.39.39.9.59 1.41.59.51 0 1.02-.2 1.41-.59l7.78-7.78 2.81-2.81c.8-.78.8-2.07 0-2.86zM5.41 20L4 18.59l7.72-7.72 1.47 1.35L5.41 20z\"/>\n",
              "  </svg>\n",
              "      </button>\n",
              "      \n",
              "  <style>\n",
              "    .colab-df-container {\n",
              "      display:flex;\n",
              "      flex-wrap:wrap;\n",
              "      gap: 12px;\n",
              "    }\n",
              "\n",
              "    .colab-df-convert {\n",
              "      background-color: #E8F0FE;\n",
              "      border: none;\n",
              "      border-radius: 50%;\n",
              "      cursor: pointer;\n",
              "      display: none;\n",
              "      fill: #1967D2;\n",
              "      height: 32px;\n",
              "      padding: 0 0 0 0;\n",
              "      width: 32px;\n",
              "    }\n",
              "\n",
              "    .colab-df-convert:hover {\n",
              "      background-color: #E2EBFA;\n",
              "      box-shadow: 0px 1px 2px rgba(60, 64, 67, 0.3), 0px 1px 3px 1px rgba(60, 64, 67, 0.15);\n",
              "      fill: #174EA6;\n",
              "    }\n",
              "\n",
              "    [theme=dark] .colab-df-convert {\n",
              "      background-color: #3B4455;\n",
              "      fill: #D2E3FC;\n",
              "    }\n",
              "\n",
              "    [theme=dark] .colab-df-convert:hover {\n",
              "      background-color: #434B5C;\n",
              "      box-shadow: 0px 1px 3px 1px rgba(0, 0, 0, 0.15);\n",
              "      filter: drop-shadow(0px 1px 2px rgba(0, 0, 0, 0.3));\n",
              "      fill: #FFFFFF;\n",
              "    }\n",
              "  </style>\n",
              "\n",
              "      <script>\n",
              "        const buttonEl =\n",
              "          document.querySelector('#df-e915349c-298c-44e1-9bc0-833bfb1d5f91 button.colab-df-convert');\n",
              "        buttonEl.style.display =\n",
              "          google.colab.kernel.accessAllowed ? 'block' : 'none';\n",
              "\n",
              "        async function convertToInteractive(key) {\n",
              "          const element = document.querySelector('#df-e915349c-298c-44e1-9bc0-833bfb1d5f91');\n",
              "          const dataTable =\n",
              "            await google.colab.kernel.invokeFunction('convertToInteractive',\n",
              "                                                     [key], {});\n",
              "          if (!dataTable) return;\n",
              "\n",
              "          const docLinkHtml = 'Like what you see? Visit the ' +\n",
              "            '<a target=\"_blank\" href=https://colab.research.google.com/notebooks/data_table.ipynb>data table notebook</a>'\n",
              "            + ' to learn more about interactive tables.';\n",
              "          element.innerHTML = '';\n",
              "          dataTable['output_type'] = 'display_data';\n",
              "          await google.colab.output.renderOutput(dataTable, element);\n",
              "          const docLink = document.createElement('div');\n",
              "          docLink.innerHTML = docLinkHtml;\n",
              "          element.appendChild(docLink);\n",
              "        }\n",
              "      </script>\n",
              "    </div>\n",
              "  </div>\n",
              "  "
            ]
          },
          "metadata": {},
          "execution_count": 13
        }
      ]
    },
    {
      "cell_type": "markdown",
      "source": [
        "# 👇 Identifying typical developer activities 🤸 in the LKML data"
      ],
      "metadata": {
        "id": "Anzt-m7MTN8f"
      }
    },
    {
      "cell_type": "markdown",
      "source": [
        "## (Optional) Adequacy test to evaluate the factorability of the data.\n",
        "\n",
        "Based on prior analysis, we know we can do factor analysis on our data. However, if you want to test this, this is how to check for \"factorability\".\n",
        "\n",
        "The followng code evaluates the factorability of our data. In this context, factorability means we can find some factors in our data. For this, we can use two methods: **(1) the Bartlett's test, and (2) the Kaiser-Meyer-Olkin test.**     "
      ],
      "metadata": {
        "id": "0Caqm3s9UeSU"
      }
    },
    {
      "cell_type": "code",
      "source": [
        "interest_df_norm, metrics_report = utils.ml.factor_analysis(interest_df_norm, metrics_only=True, quiet=True)"
      ],
      "metadata": {
        "id": "FOwN9Qj2M8Z_",
        "colab": {
          "base_uri": "https://localhost:8080/",
          "referenced_widgets": [
            "8e17b23e0c8241b992ff831dc0cebbf8",
            "c55a031eb569435181495c06881ef23c"
          ]
        },
        "outputId": "008d1d1c-a529-4ef0-c7d1-1a8bae39b2d7"
      },
      "execution_count": null,
      "outputs": [
        {
          "output_type": "display_data",
          "data": {
            "text/plain": [
              "Output()"
            ],
            "application/vnd.jupyter.widget-view+json": {
              "version_major": 2,
              "version_minor": 0,
              "model_id": "8e17b23e0c8241b992ff831dc0cebbf8"
            }
          },
          "metadata": {}
        }
      ]
    },
    {
      "cell_type": "markdown",
      "source": [
        "### 🧪 Bartlett's test and Kaiser-Meyer-Olkin test\n",
        "\n",
        "The **Bartlett's test** of sphericity checks whether or not the observed variables (features of interest) intercorrelate at all. To do that, it uses the observed correlation matrix against the identity matrix. If the test found statistically insignificant, you should not employ a factor analysis.\n",
        "\n",
        "The **Kaiser-Meyer-Olkin (KMO)** test measures the suitability of data for factor analysis. It determines the adequacy for each observed variable and for the complete model. KMO estimates the proportion of variance among all the observed variable. Lower proportion id more suitable for factor analysis. KMO values range between 0 and 1. Value of KMO less than 0.6 is considered inadequate."
      ],
      "metadata": {
        "id": "akBDEev_VdLn"
      }
    },
    {
      "cell_type": "code",
      "source": [
        "metrics_report.metrics"
      ],
      "metadata": {
        "colab": {
          "base_uri": "https://localhost:8080/"
        },
        "id": "KYXdovlyOyi4",
        "outputId": "d2eb9eec-3394-4ffc-f92b-3ca361a27ffc"
      },
      "execution_count": null,
      "outputs": [
        {
          "output_type": "execute_result",
          "data": {
            "text/plain": [
              "   Chi_Square_Value  P_Value  Kaiser_Meyer_Olkin_Score\n",
              "0         515371.85      0.0                      0.77"
            ],
            "text/html": [
              "\n",
              "  <div id=\"df-81d646e5-23ce-4b51-af60-89c098dd55bd\">\n",
              "    <div class=\"colab-df-container\">\n",
              "      <div>\n",
              "<style scoped>\n",
              "    .dataframe tbody tr th:only-of-type {\n",
              "        vertical-align: middle;\n",
              "    }\n",
              "\n",
              "    .dataframe tbody tr th {\n",
              "        vertical-align: top;\n",
              "    }\n",
              "\n",
              "    .dataframe thead th {\n",
              "        text-align: right;\n",
              "    }\n",
              "</style>\n",
              "<table border=\"1\" class=\"dataframe\">\n",
              "  <thead>\n",
              "    <tr style=\"text-align: right;\">\n",
              "      <th></th>\n",
              "      <th>Chi_Square_Value</th>\n",
              "      <th>P_Value</th>\n",
              "      <th>Kaiser_Meyer_Olkin_Score</th>\n",
              "    </tr>\n",
              "  </thead>\n",
              "  <tbody>\n",
              "    <tr>\n",
              "      <th>0</th>\n",
              "      <td>515371.85</td>\n",
              "      <td>0.0</td>\n",
              "      <td>0.77</td>\n",
              "    </tr>\n",
              "  </tbody>\n",
              "</table>\n",
              "</div>\n",
              "      <button class=\"colab-df-convert\" onclick=\"convertToInteractive('df-81d646e5-23ce-4b51-af60-89c098dd55bd')\"\n",
              "              title=\"Convert this dataframe to an interactive table.\"\n",
              "              style=\"display:none;\">\n",
              "        \n",
              "  <svg xmlns=\"http://www.w3.org/2000/svg\" height=\"24px\"viewBox=\"0 0 24 24\"\n",
              "       width=\"24px\">\n",
              "    <path d=\"M0 0h24v24H0V0z\" fill=\"none\"/>\n",
              "    <path d=\"M18.56 5.44l.94 2.06.94-2.06 2.06-.94-2.06-.94-.94-2.06-.94 2.06-2.06.94zm-11 1L8.5 8.5l.94-2.06 2.06-.94-2.06-.94L8.5 2.5l-.94 2.06-2.06.94zm10 10l.94 2.06.94-2.06 2.06-.94-2.06-.94-.94-2.06-.94 2.06-2.06.94z\"/><path d=\"M17.41 7.96l-1.37-1.37c-.4-.4-.92-.59-1.43-.59-.52 0-1.04.2-1.43.59L10.3 9.45l-7.72 7.72c-.78.78-.78 2.05 0 2.83L4 21.41c.39.39.9.59 1.41.59.51 0 1.02-.2 1.41-.59l7.78-7.78 2.81-2.81c.8-.78.8-2.07 0-2.86zM5.41 20L4 18.59l7.72-7.72 1.47 1.35L5.41 20z\"/>\n",
              "  </svg>\n",
              "      </button>\n",
              "      \n",
              "  <style>\n",
              "    .colab-df-container {\n",
              "      display:flex;\n",
              "      flex-wrap:wrap;\n",
              "      gap: 12px;\n",
              "    }\n",
              "\n",
              "    .colab-df-convert {\n",
              "      background-color: #E8F0FE;\n",
              "      border: none;\n",
              "      border-radius: 50%;\n",
              "      cursor: pointer;\n",
              "      display: none;\n",
              "      fill: #1967D2;\n",
              "      height: 32px;\n",
              "      padding: 0 0 0 0;\n",
              "      width: 32px;\n",
              "    }\n",
              "\n",
              "    .colab-df-convert:hover {\n",
              "      background-color: #E2EBFA;\n",
              "      box-shadow: 0px 1px 2px rgba(60, 64, 67, 0.3), 0px 1px 3px 1px rgba(60, 64, 67, 0.15);\n",
              "      fill: #174EA6;\n",
              "    }\n",
              "\n",
              "    [theme=dark] .colab-df-convert {\n",
              "      background-color: #3B4455;\n",
              "      fill: #D2E3FC;\n",
              "    }\n",
              "\n",
              "    [theme=dark] .colab-df-convert:hover {\n",
              "      background-color: #434B5C;\n",
              "      box-shadow: 0px 1px 3px 1px rgba(0, 0, 0, 0.15);\n",
              "      filter: drop-shadow(0px 1px 2px rgba(0, 0, 0, 0.3));\n",
              "      fill: #FFFFFF;\n",
              "    }\n",
              "  </style>\n",
              "\n",
              "      <script>\n",
              "        const buttonEl =\n",
              "          document.querySelector('#df-81d646e5-23ce-4b51-af60-89c098dd55bd button.colab-df-convert');\n",
              "        buttonEl.style.display =\n",
              "          google.colab.kernel.accessAllowed ? 'block' : 'none';\n",
              "\n",
              "        async function convertToInteractive(key) {\n",
              "          const element = document.querySelector('#df-81d646e5-23ce-4b51-af60-89c098dd55bd');\n",
              "          const dataTable =\n",
              "            await google.colab.kernel.invokeFunction('convertToInteractive',\n",
              "                                                     [key], {});\n",
              "          if (!dataTable) return;\n",
              "\n",
              "          const docLinkHtml = 'Like what you see? Visit the ' +\n",
              "            '<a target=\"_blank\" href=https://colab.research.google.com/notebooks/data_table.ipynb>data table notebook</a>'\n",
              "            + ' to learn more about interactive tables.';\n",
              "          element.innerHTML = '';\n",
              "          dataTable['output_type'] = 'display_data';\n",
              "          await google.colab.output.renderOutput(dataTable, element);\n",
              "          const docLink = document.createElement('div');\n",
              "          docLink.innerHTML = docLinkHtml;\n",
              "          element.appendChild(docLink);\n",
              "        }\n",
              "      </script>\n",
              "    </div>\n",
              "  </div>\n",
              "  "
            ]
          },
          "metadata": {},
          "execution_count": 15
        }
      ]
    },
    {
      "cell_type": "markdown",
      "source": [
        "We can observe that the *p-value is 0.0*. This means our test was statistically significant, and thus we can use factor analysis. Note that having statistically significant test means that the observed correlation matrix is not an identity matrix."
      ],
      "metadata": {
        "id": "4Jth-ubYS-6-"
      }
    },
    {
      "cell_type": "markdown",
      "source": [
        "The overall KMO for our data is **0.66**, which is good. This value indicates that you can proceed with your planned factor analysis."
      ],
      "metadata": {
        "id": "9RRyGrljS_GC"
      }
    },
    {
      "cell_type": "markdown",
      "source": [
        "## 👀 Activity recognition using factor analysis\n",
        "\n",
        "Factor Analysis is an exploratory data analysis method we used to search influential latent variables (factors) from the set of observed variables in the new dataset. In other words, we use it to check whether a number of variables (features of interest) are linearly related to a smaller number of unobservable factors. To search for these influencial factors, we use *factor extraction* (Principal Axis Factors) and *factor rotation* (Oblique) operations.\n",
        "\n",
        "To perform factor analysis, we are going to use the `signal.factor_analysis` API. For *factor extraction*, we will start with 10 factors (just an arbitrary number; factor_analyzer can produce more factors) and no rotation."
      ],
      "metadata": {
        "id": "6CkM6yNEYWzx"
      }
    },
    {
      "cell_type": "code",
      "source": [
        "eigenval_df, exploration_report = utils.ml.factor_analysis(\n",
        "    interest_df_norm, 10, plot_summary=True)"
      ],
      "metadata": {
        "colab": {
          "base_uri": "https://localhost:8080/",
          "height": 543,
          "referenced_widgets": [
            "775e52841cfe481cad7550ae64f5440a",
            "6c6e36ccd53d4bf7895eaca266da0b9d",
            "9b5f7f937ada477599fdf8686f711d69",
            "50ea010ca0cb490984d3dadac2b225cd"
          ]
        },
        "id": "KBWkpAC6dHH1",
        "outputId": "5179879e-2887-4a1b-dac9-f557f1933813"
      },
      "execution_count": null,
      "outputs": [
        {
          "output_type": "display_data",
          "data": {
            "text/plain": [
              "Output()"
            ],
            "application/vnd.jupyter.widget-view+json": {
              "version_major": 2,
              "version_minor": 0,
              "model_id": "775e52841cfe481cad7550ae64f5440a"
            }
          },
          "metadata": {}
        },
        {
          "output_type": "display_data",
          "data": {
            "text/plain": [],
            "text/html": [
              "<pre style=\"white-space:pre;overflow-x:auto;line-height:normal;font-family:Menlo,'DejaVu Sans Mono',consolas,'Courier New',monospace\"></pre>\n"
            ]
          },
          "metadata": {}
        },
        {
          "output_type": "display_data",
          "data": {
            "text/plain": [
              "Output()"
            ],
            "application/vnd.jupyter.widget-view+json": {
              "version_major": 2,
              "version_minor": 0,
              "model_id": "9b5f7f937ada477599fdf8686f711d69"
            }
          },
          "metadata": {}
        },
        {
          "output_type": "display_data",
          "data": {
            "text/plain": [],
            "text/html": [
              "<pre style=\"white-space:pre;overflow-x:auto;line-height:normal;font-family:Menlo,'DejaVu Sans Mono',consolas,'Courier New',monospace\"></pre>\n"
            ]
          },
          "metadata": {}
        },
        {
          "output_type": "display_data",
          "data": {
            "text/plain": [
              "<Figure size 576x576 with 1 Axes>"
            ],
            "image/png": "[encoded data removed]"
          },
          "metadata": {
            "image/png": {
              "width": 497,
              "height": 494
            },
            "needs_background": "light"
          }
        }
      ]
    },
    {
      "cell_type": "markdown",
      "source": [
        "The `signal.factor_analysis` API returns the result of factor analysis and a *report* of the operation. From the report, you can see the estimated eigenvalues, which represent the descriptive categories that describe our developer activity data."
      ],
      "metadata": {
        "id": "UQ039oV6SpxP"
      }
    },
    {
      "cell_type": "code",
      "source": [
        "exploration_report.factors"
      ],
      "metadata": {
        "colab": {
          "base_uri": "https://localhost:8080/",
          "height": 551
        },
        "id": "iOwexMfAX1Jr",
        "outputId": "b9bf1a6f-7455-462b-f3fd-bce4a2fac75f"
      },
      "execution_count": null,
      "outputs": [
        {
          "output_type": "execute_result",
          "data": {
            "text/plain": [
              "<pandas.io.formats.style.Styler at 0x7f7dda3a8450>"
            ],
            "text/html": [
              "<style type=\"text/css\">\n",
              "#T_af4d6_row0_col0, #T_af4d6_row1_col0, #T_af4d6_row2_col0, #T_af4d6_row3_col0, #T_af4d6_row4_col0, #T_af4d6_row5_col0 {\n",
              "  background-color: yellow;\n",
              "}\n",
              "</style>\n",
              "<table id=\"T_af4d6_\" class=\"dataframe\">\n",
              "  <thead>\n",
              "    <tr>\n",
              "      <th class=\"blank level0\" >&nbsp;</th>\n",
              "      <th class=\"col_heading level0 col0\" >Eigenvalue</th>\n",
              "    </tr>\n",
              "  </thead>\n",
              "  <tbody>\n",
              "    <tr>\n",
              "      <th id=\"T_af4d6_level0_row0\" class=\"row_heading level0 row0\" >Factor 1</th>\n",
              "      <td id=\"T_af4d6_row0_col0\" class=\"data row0 col0\" >3.800934</td>\n",
              "    </tr>\n",
              "    <tr>\n",
              "      <th id=\"T_af4d6_level0_row1\" class=\"row_heading level0 row1\" >Factor 2</th>\n",
              "      <td id=\"T_af4d6_row1_col0\" class=\"data row1 col0\" >2.979690</td>\n",
              "    </tr>\n",
              "    <tr>\n",
              "      <th id=\"T_af4d6_level0_row2\" class=\"row_heading level0 row2\" >Factor 3</th>\n",
              "      <td id=\"T_af4d6_row2_col0\" class=\"data row2 col0\" >2.141027</td>\n",
              "    </tr>\n",
              "    <tr>\n",
              "      <th id=\"T_af4d6_level0_row3\" class=\"row_heading level0 row3\" >Factor 4</th>\n",
              "      <td id=\"T_af4d6_row3_col0\" class=\"data row3 col0\" >2.070445</td>\n",
              "    </tr>\n",
              "    <tr>\n",
              "      <th id=\"T_af4d6_level0_row4\" class=\"row_heading level0 row4\" >Factor 5</th>\n",
              "      <td id=\"T_af4d6_row4_col0\" class=\"data row4 col0\" >1.323535</td>\n",
              "    </tr>\n",
              "    <tr>\n",
              "      <th id=\"T_af4d6_level0_row5\" class=\"row_heading level0 row5\" >Factor 6</th>\n",
              "      <td id=\"T_af4d6_row5_col0\" class=\"data row5 col0\" >1.000356</td>\n",
              "    </tr>\n",
              "    <tr>\n",
              "      <th id=\"T_af4d6_level0_row6\" class=\"row_heading level0 row6\" >Factor 7</th>\n",
              "      <td id=\"T_af4d6_row6_col0\" class=\"data row6 col0\" >0.836347</td>\n",
              "    </tr>\n",
              "    <tr>\n",
              "      <th id=\"T_af4d6_level0_row7\" class=\"row_heading level0 row7\" >Factor 8</th>\n",
              "      <td id=\"T_af4d6_row7_col0\" class=\"data row7 col0\" >0.650056</td>\n",
              "    </tr>\n",
              "    <tr>\n",
              "      <th id=\"T_af4d6_level0_row8\" class=\"row_heading level0 row8\" >Factor 9</th>\n",
              "      <td id=\"T_af4d6_row8_col0\" class=\"data row8 col0\" >0.603586</td>\n",
              "    </tr>\n",
              "    <tr>\n",
              "      <th id=\"T_af4d6_level0_row9\" class=\"row_heading level0 row9\" >Factor 10</th>\n",
              "      <td id=\"T_af4d6_row9_col0\" class=\"data row9 col0\" >0.229730</td>\n",
              "    </tr>\n",
              "    <tr>\n",
              "      <th id=\"T_af4d6_level0_row10\" class=\"row_heading level0 row10\" >Factor 11</th>\n",
              "      <td id=\"T_af4d6_row10_col0\" class=\"data row10 col0\" >0.112337</td>\n",
              "    </tr>\n",
              "    <tr>\n",
              "      <th id=\"T_af4d6_level0_row11\" class=\"row_heading level0 row11\" >Factor 12</th>\n",
              "      <td id=\"T_af4d6_row11_col0\" class=\"data row11 col0\" >0.112059</td>\n",
              "    </tr>\n",
              "    <tr>\n",
              "      <th id=\"T_af4d6_level0_row12\" class=\"row_heading level0 row12\" >Factor 13</th>\n",
              "      <td id=\"T_af4d6_row12_col0\" class=\"data row12 col0\" >0.110112</td>\n",
              "    </tr>\n",
              "    <tr>\n",
              "      <th id=\"T_af4d6_level0_row13\" class=\"row_heading level0 row13\" >Factor 14</th>\n",
              "      <td id=\"T_af4d6_row13_col0\" class=\"data row13 col0\" >0.009972</td>\n",
              "    </tr>\n",
              "    <tr>\n",
              "      <th id=\"T_af4d6_level0_row14\" class=\"row_heading level0 row14\" >Factor 15</th>\n",
              "      <td id=\"T_af4d6_row14_col0\" class=\"data row14 col0\" >0.009911</td>\n",
              "    </tr>\n",
              "    <tr>\n",
              "      <th id=\"T_af4d6_level0_row15\" class=\"row_heading level0 row15\" >Factor 16</th>\n",
              "      <td id=\"T_af4d6_row15_col0\" class=\"data row15 col0\" >0.009904</td>\n",
              "    </tr>\n",
              "  </tbody>\n",
              "</table>\n"
            ]
          },
          "metadata": {},
          "execution_count": 17
        }
      ]
    },
    {
      "cell_type": "markdown",
      "source": [
        "*5 factors* were identified. You can see this in the scree plot the API generated, a visual representation of these factors' eigenvalues."
      ],
      "metadata": {
        "id": "qu7bwDa3YW2j"
      }
    },
    {
      "cell_type": "markdown",
      "source": [
        "To generate more accurate results when these factors correlate, we use *factor rotation* (i.e., oblique rotation). This will generate a correlation matrix plot, which users can evaluate to generate descriptive names for the estimated factors. Same as before this operation will produce a processed output (factor loadins) and a report (`factor_analysis_report`)."
      ],
      "metadata": {
        "id": "fexvH-1HYW5X"
      }
    },
    {
      "cell_type": "code",
      "source": [
        "loadings_df, factor_analysis_report = utils.ml.factor_analysis(\n",
        "    interest_df_norm, \n",
        "    5, \n",
        "    plot_summary=True, \n",
        "    rotation=\"oblimin\", \n",
        "    quiet=True)"
      ],
      "metadata": {
        "colab": {
          "base_uri": "https://localhost:8080/",
          "height": 529,
          "referenced_widgets": [
            "0f17d7351ec747f8aa406937af0a900e",
            "76f5155633794a049dfd0ce8553ebae7",
            "0f4c9017ccf44be49668d6a7da9152bb",
            "0f13f6af236d4d6981fadc43771bf2be"
          ]
        },
        "id": "XHTwlIrFgIrW",
        "outputId": "98d709b6-4873-4ab3-fd69-2673364a281e"
      },
      "execution_count": null,
      "outputs": [
        {
          "output_type": "display_data",
          "data": {
            "text/plain": [
              "Output()"
            ],
            "application/vnd.jupyter.widget-view+json": {
              "version_major": 2,
              "version_minor": 0,
              "model_id": "0f17d7351ec747f8aa406937af0a900e"
            }
          },
          "metadata": {}
        },
        {
          "output_type": "display_data",
          "data": {
            "text/plain": [
              "Output()"
            ],
            "application/vnd.jupyter.widget-view+json": {
              "version_major": 2,
              "version_minor": 0,
              "model_id": "0f4c9017ccf44be49668d6a7da9152bb"
            }
          },
          "metadata": {}
        },
        {
          "output_type": "display_data",
          "data": {
            "text/plain": [
              "<Figure size 720x576 with 2 Axes>"
            ],
            "image/png": "[encoded data removed]"
          },
          "metadata": {
            "image/png": {
              "width": 358,
              "height": 512
            },
            "needs_background": "light"
          }
        }
      ]
    },
    {
      "cell_type": "code",
      "source": [
        "loadings_df.head(1)"
      ],
      "metadata": {
        "colab": {
          "base_uri": "https://localhost:8080/",
          "height": 81
        },
        "id": "Ue8xnr-ZF0cl",
        "outputId": "19ed1e35-6458-4d5b-9639-8c59086898d8"
      },
      "execution_count": null,
      "outputs": [
        {
          "output_type": "execute_result",
          "data": {
            "text/plain": [
              "                   Factor 1  Factor 2  Factor 3  Factor 4  Factor 5\n",
              "sender_commitment -0.012064 -0.001421  0.008803 -0.011802  0.830643"
            ],
            "text/html": [
              "\n",
              "  <div id=\"df-b3fc0377-a057-41af-8462-cb2fc1d75639\">\n",
              "    <div class=\"colab-df-container\">\n",
              "      <div>\n",
              "<style scoped>\n",
              "    .dataframe tbody tr th:only-of-type {\n",
              "        vertical-align: middle;\n",
              "    }\n",
              "\n",
              "    .dataframe tbody tr th {\n",
              "        vertical-align: top;\n",
              "    }\n",
              "\n",
              "    .dataframe thead th {\n",
              "        text-align: right;\n",
              "    }\n",
              "</style>\n",
              "<table border=\"1\" class=\"dataframe\">\n",
              "  <thead>\n",
              "    <tr style=\"text-align: right;\">\n",
              "      <th></th>\n",
              "      <th>Factor 1</th>\n",
              "      <th>Factor 2</th>\n",
              "      <th>Factor 3</th>\n",
              "      <th>Factor 4</th>\n",
              "      <th>Factor 5</th>\n",
              "    </tr>\n",
              "  </thead>\n",
              "  <tbody>\n",
              "    <tr>\n",
              "      <th>sender_commitment</th>\n",
              "      <td>-0.012064</td>\n",
              "      <td>-0.001421</td>\n",
              "      <td>0.008803</td>\n",
              "      <td>-0.011802</td>\n",
              "      <td>0.830643</td>\n",
              "    </tr>\n",
              "  </tbody>\n",
              "</table>\n",
              "</div>\n",
              "      <button class=\"colab-df-convert\" onclick=\"convertToInteractive('df-b3fc0377-a057-41af-8462-cb2fc1d75639')\"\n",
              "              title=\"Convert this dataframe to an interactive table.\"\n",
              "              style=\"display:none;\">\n",
              "        \n",
              "  <svg xmlns=\"http://www.w3.org/2000/svg\" height=\"24px\"viewBox=\"0 0 24 24\"\n",
              "       width=\"24px\">\n",
              "    <path d=\"M0 0h24v24H0V0z\" fill=\"none\"/>\n",
              "    <path d=\"M18.56 5.44l.94 2.06.94-2.06 2.06-.94-2.06-.94-.94-2.06-.94 2.06-2.06.94zm-11 1L8.5 8.5l.94-2.06 2.06-.94-2.06-.94L8.5 2.5l-.94 2.06-2.06.94zm10 10l.94 2.06.94-2.06 2.06-.94-2.06-.94-.94-2.06-.94 2.06-2.06.94z\"/><path d=\"M17.41 7.96l-1.37-1.37c-.4-.4-.92-.59-1.43-.59-.52 0-1.04.2-1.43.59L10.3 9.45l-7.72 7.72c-.78.78-.78 2.05 0 2.83L4 21.41c.39.39.9.59 1.41.59.51 0 1.02-.2 1.41-.59l7.78-7.78 2.81-2.81c.8-.78.8-2.07 0-2.86zM5.41 20L4 18.59l7.72-7.72 1.47 1.35L5.41 20z\"/>\n",
              "  </svg>\n",
              "      </button>\n",
              "      \n",
              "  <style>\n",
              "    .colab-df-container {\n",
              "      display:flex;\n",
              "      flex-wrap:wrap;\n",
              "      gap: 12px;\n",
              "    }\n",
              "\n",
              "    .colab-df-convert {\n",
              "      background-color: #E8F0FE;\n",
              "      border: none;\n",
              "      border-radius: 50%;\n",
              "      cursor: pointer;\n",
              "      display: none;\n",
              "      fill: #1967D2;\n",
              "      height: 32px;\n",
              "      padding: 0 0 0 0;\n",
              "      width: 32px;\n",
              "    }\n",
              "\n",
              "    .colab-df-convert:hover {\n",
              "      background-color: #E2EBFA;\n",
              "      box-shadow: 0px 1px 2px rgba(60, 64, 67, 0.3), 0px 1px 3px 1px rgba(60, 64, 67, 0.15);\n",
              "      fill: #174EA6;\n",
              "    }\n",
              "\n",
              "    [theme=dark] .colab-df-convert {\n",
              "      background-color: #3B4455;\n",
              "      fill: #D2E3FC;\n",
              "    }\n",
              "\n",
              "    [theme=dark] .colab-df-convert:hover {\n",
              "      background-color: #434B5C;\n",
              "      box-shadow: 0px 1px 3px 1px rgba(0, 0, 0, 0.15);\n",
              "      filter: drop-shadow(0px 1px 2px rgba(0, 0, 0, 0.3));\n",
              "      fill: #FFFFFF;\n",
              "    }\n",
              "  </style>\n",
              "\n",
              "      <script>\n",
              "        const buttonEl =\n",
              "          document.querySelector('#df-b3fc0377-a057-41af-8462-cb2fc1d75639 button.colab-df-convert');\n",
              "        buttonEl.style.display =\n",
              "          google.colab.kernel.accessAllowed ? 'block' : 'none';\n",
              "\n",
              "        async function convertToInteractive(key) {\n",
              "          const element = document.querySelector('#df-b3fc0377-a057-41af-8462-cb2fc1d75639');\n",
              "          const dataTable =\n",
              "            await google.colab.kernel.invokeFunction('convertToInteractive',\n",
              "                                                     [key], {});\n",
              "          if (!dataTable) return;\n",
              "\n",
              "          const docLinkHtml = 'Like what you see? Visit the ' +\n",
              "            '<a target=\"_blank\" href=https://colab.research.google.com/notebooks/data_table.ipynb>data table notebook</a>'\n",
              "            + ' to learn more about interactive tables.';\n",
              "          element.innerHTML = '';\n",
              "          dataTable['output_type'] = 'display_data';\n",
              "          await google.colab.output.renderOutput(dataTable, element);\n",
              "          const docLink = document.createElement('div');\n",
              "          docLink.innerHTML = docLinkHtml;\n",
              "          element.appendChild(docLink);\n",
              "        }\n",
              "      </script>\n",
              "    </div>\n",
              "  </div>\n",
              "  "
            ]
          },
          "metadata": {},
          "execution_count": 19
        }
      ]
    },
    {
      "cell_type": "code",
      "source": [
        "factor_analysis_report.metrics"
      ],
      "metadata": {
        "colab": {
          "base_uri": "https://localhost:8080/",
          "height": 125
        },
        "id": "HJA2F_BztDvG",
        "outputId": "cd9c9cca-3b7c-4867-895e-47bd208f247e"
      },
      "execution_count": null,
      "outputs": [
        {
          "output_type": "execute_result",
          "data": {
            "text/plain": [
              "   Chi_Square_Value  P_Value  Kaiser_Meyer_Olkin_Score  Number_of_Factors\n",
              "0         515371.85      0.0                      0.77                  5"
            ],
            "text/html": [
              "\n",
              "  <div id=\"df-c706966d-eb6b-4d06-94c4-7251d2ddef8c\">\n",
              "    <div class=\"colab-df-container\">\n",
              "      <div>\n",
              "<style scoped>\n",
              "    .dataframe tbody tr th:only-of-type {\n",
              "        vertical-align: middle;\n",
              "    }\n",
              "\n",
              "    .dataframe tbody tr th {\n",
              "        vertical-align: top;\n",
              "    }\n",
              "\n",
              "    .dataframe thead th {\n",
              "        text-align: right;\n",
              "    }\n",
              "</style>\n",
              "<table border=\"1\" class=\"dataframe\">\n",
              "  <thead>\n",
              "    <tr style=\"text-align: right;\">\n",
              "      <th></th>\n",
              "      <th>Chi_Square_Value</th>\n",
              "      <th>P_Value</th>\n",
              "      <th>Kaiser_Meyer_Olkin_Score</th>\n",
              "      <th>Number_of_Factors</th>\n",
              "    </tr>\n",
              "  </thead>\n",
              "  <tbody>\n",
              "    <tr>\n",
              "      <th>0</th>\n",
              "      <td>515371.85</td>\n",
              "      <td>0.0</td>\n",
              "      <td>0.77</td>\n",
              "      <td>5</td>\n",
              "    </tr>\n",
              "  </tbody>\n",
              "</table>\n",
              "</div>\n",
              "      <button class=\"colab-df-convert\" onclick=\"convertToInteractive('df-c706966d-eb6b-4d06-94c4-7251d2ddef8c')\"\n",
              "              title=\"Convert this dataframe to an interactive table.\"\n",
              "              style=\"display:none;\">\n",
              "        \n",
              "  <svg xmlns=\"http://www.w3.org/2000/svg\" height=\"24px\"viewBox=\"0 0 24 24\"\n",
              "       width=\"24px\">\n",
              "    <path d=\"M0 0h24v24H0V0z\" fill=\"none\"/>\n",
              "    <path d=\"M18.56 5.44l.94 2.06.94-2.06 2.06-.94-2.06-.94-.94-2.06-.94 2.06-2.06.94zm-11 1L8.5 8.5l.94-2.06 2.06-.94-2.06-.94L8.5 2.5l-.94 2.06-2.06.94zm10 10l.94 2.06.94-2.06 2.06-.94-2.06-.94-.94-2.06-.94 2.06-2.06.94z\"/><path d=\"M17.41 7.96l-1.37-1.37c-.4-.4-.92-.59-1.43-.59-.52 0-1.04.2-1.43.59L10.3 9.45l-7.72 7.72c-.78.78-.78 2.05 0 2.83L4 21.41c.39.39.9.59 1.41.59.51 0 1.02-.2 1.41-.59l7.78-7.78 2.81-2.81c.8-.78.8-2.07 0-2.86zM5.41 20L4 18.59l7.72-7.72 1.47 1.35L5.41 20z\"/>\n",
              "  </svg>\n",
              "      </button>\n",
              "      \n",
              "  <style>\n",
              "    .colab-df-container {\n",
              "      display:flex;\n",
              "      flex-wrap:wrap;\n",
              "      gap: 12px;\n",
              "    }\n",
              "\n",
              "    .colab-df-convert {\n",
              "      background-color: #E8F0FE;\n",
              "      border: none;\n",
              "      border-radius: 50%;\n",
              "      cursor: pointer;\n",
              "      display: none;\n",
              "      fill: #1967D2;\n",
              "      height: 32px;\n",
              "      padding: 0 0 0 0;\n",
              "      width: 32px;\n",
              "    }\n",
              "\n",
              "    .colab-df-convert:hover {\n",
              "      background-color: #E2EBFA;\n",
              "      box-shadow: 0px 1px 2px rgba(60, 64, 67, 0.3), 0px 1px 3px 1px rgba(60, 64, 67, 0.15);\n",
              "      fill: #174EA6;\n",
              "    }\n",
              "\n",
              "    [theme=dark] .colab-df-convert {\n",
              "      background-color: #3B4455;\n",
              "      fill: #D2E3FC;\n",
              "    }\n",
              "\n",
              "    [theme=dark] .colab-df-convert:hover {\n",
              "      background-color: #434B5C;\n",
              "      box-shadow: 0px 1px 3px 1px rgba(0, 0, 0, 0.15);\n",
              "      filter: drop-shadow(0px 1px 2px rgba(0, 0, 0, 0.3));\n",
              "      fill: #FFFFFF;\n",
              "    }\n",
              "  </style>\n",
              "\n",
              "      <script>\n",
              "        const buttonEl =\n",
              "          document.querySelector('#df-c706966d-eb6b-4d06-94c4-7251d2ddef8c button.colab-df-convert');\n",
              "        buttonEl.style.display =\n",
              "          google.colab.kernel.accessAllowed ? 'block' : 'none';\n",
              "\n",
              "        async function convertToInteractive(key) {\n",
              "          const element = document.querySelector('#df-c706966d-eb6b-4d06-94c4-7251d2ddef8c');\n",
              "          const dataTable =\n",
              "            await google.colab.kernel.invokeFunction('convertToInteractive',\n",
              "                                                     [key], {});\n",
              "          if (!dataTable) return;\n",
              "\n",
              "          const docLinkHtml = 'Like what you see? Visit the ' +\n",
              "            '<a target=\"_blank\" href=https://colab.research.google.com/notebooks/data_table.ipynb>data table notebook</a>'\n",
              "            + ' to learn more about interactive tables.';\n",
              "          element.innerHTML = '';\n",
              "          dataTable['output_type'] = 'display_data';\n",
              "          await google.colab.output.renderOutput(dataTable, element);\n",
              "          const docLink = document.createElement('div');\n",
              "          docLink.innerHTML = docLinkHtml;\n",
              "          element.appendChild(docLink);\n",
              "        }\n",
              "      </script>\n",
              "    </div>\n",
              "  </div>\n",
              "  "
            ]
          },
          "metadata": {},
          "execution_count": 20
        }
      ]
    },
    {
      "cell_type": "markdown",
      "source": [
        "We describe developer behavior in the above plot according to **5 types of activities** developers typically perform in the LKML:\n",
        "\n",
        "<!-- \n",
        "| Activity | Factor | Description |\n",
        "|---:|---|---|\n",
        "| Code Contribution | Factor 1 | Contributing code changes to the Linux Kernel (LK). |\n",
        "| Knowledge Sharing | Factor 2 | Commenting on specific topics, e.g., Voicing technical opinions, <br>providing suggestions, and asking or answering questions. |\n",
        "| Patch Posting | Factor 3 | Responding to a bug report or a feature request through patch emails. |\n",
        "| Progress Control | Factor 4 | Accounting for received patches that have been accepted or committed. |\n",
        "| Acknowledgment and Response | Factor 5 | Patch acknowledgement, feedback, and landing by core maintainers. | -->\n",
        "\n"
      ],
      "metadata": {
        "id": "okI7CGa7hWoE"
      }
    },
    {
      "cell_type": "code",
      "source": [
        "discovered_activities = {\n",
        "    'Activity': ['Code Contribution', \n",
        "                 'Knowledge Sharing', \n",
        "                 'Patch Posting', \n",
        "                 'Progress Control', \n",
        "                 'Acknowledgment and Response'], \n",
        "    'Factor': ['Factor 1', 'Factor 2', 'Factor 3', 'Factor 4', 'Factor 5'], \n",
        "    'Description': ['Contributing code changes to the Linux Kernel (LK).', \n",
        "                    'Commenting on specific topics, e.g., Voicing technical opinions, providing suggestions, and asking or answering questions.', \n",
        "                    'Responding to a bug report or a feature request through patch emails.', \n",
        "                    'Accounting for received patches that have been accepted or committed.', \n",
        "                    'Patch acknowledgement, feedback, and landing by core maintainers.']}\n",
        "dev_activities_df = pd.DataFrame.from_dict(discovered_activities)\n",
        "dev_activities_df.style.set_properties(**{'text-align': 'left'})"
      ],
      "metadata": {
        "colab": {
          "base_uri": "https://localhost:8080/",
          "height": 310
        },
        "id": "narTQzloSb54",
        "outputId": "798c8da7-691e-43c6-8912-d0f0f6abff9a"
      },
      "execution_count": null,
      "outputs": [
        {
          "output_type": "execute_result",
          "data": {
            "text/plain": [
              "<pandas.io.formats.style.Styler at 0x7f7dd596cb50>"
            ],
            "text/html": [
              "<style type=\"text/css\">\n",
              "#T_d2b8e_row0_col0, #T_d2b8e_row0_col1, #T_d2b8e_row0_col2, #T_d2b8e_row1_col0, #T_d2b8e_row1_col1, #T_d2b8e_row1_col2, #T_d2b8e_row2_col0, #T_d2b8e_row2_col1, #T_d2b8e_row2_col2, #T_d2b8e_row3_col0, #T_d2b8e_row3_col1, #T_d2b8e_row3_col2, #T_d2b8e_row4_col0, #T_d2b8e_row4_col1, #T_d2b8e_row4_col2 {\n",
              "  text-align: left;\n",
              "}\n",
              "</style>\n",
              "<table id=\"T_d2b8e_\" class=\"dataframe\">\n",
              "  <thead>\n",
              "    <tr>\n",
              "      <th class=\"blank level0\" >&nbsp;</th>\n",
              "      <th class=\"col_heading level0 col0\" >Activity</th>\n",
              "      <th class=\"col_heading level0 col1\" >Factor</th>\n",
              "      <th class=\"col_heading level0 col2\" >Description</th>\n",
              "    </tr>\n",
              "  </thead>\n",
              "  <tbody>\n",
              "    <tr>\n",
              "      <th id=\"T_d2b8e_level0_row0\" class=\"row_heading level0 row0\" >0</th>\n",
              "      <td id=\"T_d2b8e_row0_col0\" class=\"data row0 col0\" >Code Contribution</td>\n",
              "      <td id=\"T_d2b8e_row0_col1\" class=\"data row0 col1\" >Factor 1</td>\n",
              "      <td id=\"T_d2b8e_row0_col2\" class=\"data row0 col2\" >Contributing code changes to the Linux Kernel (LK).</td>\n",
              "    </tr>\n",
              "    <tr>\n",
              "      <th id=\"T_d2b8e_level0_row1\" class=\"row_heading level0 row1\" >1</th>\n",
              "      <td id=\"T_d2b8e_row1_col0\" class=\"data row1 col0\" >Knowledge Sharing</td>\n",
              "      <td id=\"T_d2b8e_row1_col1\" class=\"data row1 col1\" >Factor 2</td>\n",
              "      <td id=\"T_d2b8e_row1_col2\" class=\"data row1 col2\" >Commenting on specific topics, e.g., Voicing technical opinions, providing suggestions, and asking or answering questions.</td>\n",
              "    </tr>\n",
              "    <tr>\n",
              "      <th id=\"T_d2b8e_level0_row2\" class=\"row_heading level0 row2\" >2</th>\n",
              "      <td id=\"T_d2b8e_row2_col0\" class=\"data row2 col0\" >Patch Posting</td>\n",
              "      <td id=\"T_d2b8e_row2_col1\" class=\"data row2 col1\" >Factor 3</td>\n",
              "      <td id=\"T_d2b8e_row2_col2\" class=\"data row2 col2\" >Responding to a bug report or a feature request through patch emails.</td>\n",
              "    </tr>\n",
              "    <tr>\n",
              "      <th id=\"T_d2b8e_level0_row3\" class=\"row_heading level0 row3\" >3</th>\n",
              "      <td id=\"T_d2b8e_row3_col0\" class=\"data row3 col0\" >Progress Control</td>\n",
              "      <td id=\"T_d2b8e_row3_col1\" class=\"data row3 col1\" >Factor 4</td>\n",
              "      <td id=\"T_d2b8e_row3_col2\" class=\"data row3 col2\" >Accounting for received patches that have been accepted or committed.</td>\n",
              "    </tr>\n",
              "    <tr>\n",
              "      <th id=\"T_d2b8e_level0_row4\" class=\"row_heading level0 row4\" >4</th>\n",
              "      <td id=\"T_d2b8e_row4_col0\" class=\"data row4 col0\" >Acknowledgment and Response</td>\n",
              "      <td id=\"T_d2b8e_row4_col1\" class=\"data row4 col1\" >Factor 5</td>\n",
              "      <td id=\"T_d2b8e_row4_col2\" class=\"data row4 col2\" >Patch acknowledgement, feedback, and landing by core maintainers.</td>\n",
              "    </tr>\n",
              "  </tbody>\n",
              "</table>\n"
            ]
          },
          "metadata": {},
          "execution_count": 21
        }
      ]
    },
    {
      "cell_type": "code",
      "source": [
        "# Maps factors to activity names\n",
        "activity_name = {'Factor 1': 'Code Contribution',\n",
        "                 'Factor 2': 'Knowledge Sharing',\n",
        "                 'Factor 3': 'Patch Posting', \n",
        "                 'Factor 4': 'Progress Control', \n",
        "                 'Factor 5': 'Acknowledgement and Response'}\n",
        "\n",
        "utils.console.stdout.print(\"Factor to Activity Map\")\n",
        "for i, key in enumerate(activity_name):\n",
        "  utils.console.stdout.print(f\"{i+1}. {activity_name[key]}\")"
      ],
      "metadata": {
        "colab": {
          "base_uri": "https://localhost:8080/",
          "height": 113
        },
        "id": "1zsk_X0a1UVw",
        "outputId": "b9dbf0c4-51f3-4bc5-9f00-c601fcef8352"
      },
      "execution_count": null,
      "outputs": [
        {
          "output_type": "display_data",
          "data": {
            "text/plain": [
              "Factor to Activity Map\n"
            ],
            "text/html": [
              "<pre style=\"white-space:pre;overflow-x:auto;line-height:normal;font-family:Menlo,'DejaVu Sans Mono',consolas,'Courier New',monospace\">Factor to Activity Map\n",
              "</pre>\n"
            ]
          },
          "metadata": {}
        },
        {
          "output_type": "display_data",
          "data": {
            "text/plain": [
              "\u001b[1;36m1\u001b[0m. Code Contribution\n"
            ],
            "text/html": [
              "<pre style=\"white-space:pre;overflow-x:auto;line-height:normal;font-family:Menlo,'DejaVu Sans Mono',consolas,'Courier New',monospace\"><span style=\"color: #008080; text-decoration-color: #008080; font-weight: bold\">1</span>. Code Contribution\n",
              "</pre>\n"
            ]
          },
          "metadata": {}
        },
        {
          "output_type": "display_data",
          "data": {
            "text/plain": [
              "\u001b[1;36m2\u001b[0m. Knowledge Sharing\n"
            ],
            "text/html": [
              "<pre style=\"white-space:pre;overflow-x:auto;line-height:normal;font-family:Menlo,'DejaVu Sans Mono',consolas,'Courier New',monospace\"><span style=\"color: #008080; text-decoration-color: #008080; font-weight: bold\">2</span>. Knowledge Sharing\n",
              "</pre>\n"
            ]
          },
          "metadata": {}
        },
        {
          "output_type": "display_data",
          "data": {
            "text/plain": [
              "\u001b[1;36m3\u001b[0m. Patch Posting\n"
            ],
            "text/html": [
              "<pre style=\"white-space:pre;overflow-x:auto;line-height:normal;font-family:Menlo,'DejaVu Sans Mono',consolas,'Courier New',monospace\"><span style=\"color: #008080; text-decoration-color: #008080; font-weight: bold\">3</span>. Patch Posting\n",
              "</pre>\n"
            ]
          },
          "metadata": {}
        },
        {
          "output_type": "display_data",
          "data": {
            "text/plain": [
              "\u001b[1;36m4\u001b[0m. Progress Control\n"
            ],
            "text/html": [
              "<pre style=\"white-space:pre;overflow-x:auto;line-height:normal;font-family:Menlo,'DejaVu Sans Mono',consolas,'Courier New',monospace\"><span style=\"color: #008080; text-decoration-color: #008080; font-weight: bold\">4</span>. Progress Control\n",
              "</pre>\n"
            ]
          },
          "metadata": {}
        },
        {
          "output_type": "display_data",
          "data": {
            "text/plain": [
              "\u001b[1;36m5\u001b[0m. Acknowledgement and Response\n"
            ],
            "text/html": [
              "<pre style=\"white-space:pre;overflow-x:auto;line-height:normal;font-family:Menlo,'DejaVu Sans Mono',consolas,'Courier New',monospace\"><span style=\"color: #008080; text-decoration-color: #008080; font-weight: bold\">5</span>. Acknowledgement and Response\n",
              "</pre>\n"
            ]
          },
          "metadata": {}
        }
      ]
    },
    {
      "cell_type": "markdown",
      "source": [
        "# 👇 Identifying developer roles (⌐■_■) in the LKML\n",
        "\n",
        "In this section we are going to use the set of developer activitities (i.e., our latent factors) identified in the above sections to identify developer roles. Specifically, we perform clustering analysis on the factor scores representing these activities in order to identify the distinct roles developers assumed in the LKML."
      ],
      "metadata": {
        "id": "YYgY5MSxhWrm"
      }
    },
    {
      "cell_type": "markdown",
      "source": [
        "Preparing data for developer role discovery. This process generalizes the factors scores generated by the `factor_analysis` API for concrete developer activities to sequential developer data. This output is capture in the report object."
      ],
      "metadata": {
        "id": "Tzz1_feXQ4dD"
      }
    },
    {
      "cell_type": "code",
      "source": [
        "# Recover the sent_time feature based on the value\n",
        "# of sent_time_secs\n",
        "df_datetime = report.raw_data.copy()\n",
        "df_datetime['sent_time'] = pd.to_datetime(report.raw_data['sent_time'] * 10**9)\n",
        "df_datetime['sent_time'].head()"
      ],
      "metadata": {
        "colab": {
          "base_uri": "https://localhost:8080/"
        },
        "id": "H_7zmv7AKnLF",
        "outputId": "a06f3e07-3095-4b65-8969-5e123334d3de"
      },
      "execution_count": null,
      "outputs": [
        {
          "output_type": "execute_result",
          "data": {
            "text/plain": [
              "1   2020-08-20 09:35:52\n",
              "2   2020-08-20 09:35:55\n",
              "3   2020-08-20 09:36:02\n",
              "4   2020-08-20 09:36:06\n",
              "5   2020-08-20 09:36:09\n",
              "Name: sent_time, dtype: datetime64[ns]"
            ]
          },
          "metadata": {},
          "execution_count": 23
        }
      ]
    },
    {
      "cell_type": "code",
      "source": [
        "_, factors_scores_report = utils.ml.factor_analysis(\n",
        "    interest_df_norm, \n",
        "    5, rotation=\"oblimin\", \n",
        "    multi_index_df=df_datetime[['sender_id', 'sent_time']],\n",
        "    quiet=True)"
      ],
      "metadata": {
        "colab": {
          "base_uri": "https://localhost:8080/",
          "height": 17,
          "referenced_widgets": [
            "2768aad896b1475db204d1cfb1d0dabb",
            "f680f266b8744ade95a49f98225ceca3",
            "c8dd4f1fc4fb434ea869de9400677161",
            "e62bbc3b0835418bae77cc68d6a59d04"
          ]
        },
        "id": "ygglZQg71xVb",
        "outputId": "9dffdcc4-2022-4af5-90db-8af15a8d5fa6"
      },
      "execution_count": null,
      "outputs": [
        {
          "output_type": "display_data",
          "data": {
            "text/plain": [
              "Output()"
            ],
            "application/vnd.jupyter.widget-view+json": {
              "version_major": 2,
              "version_minor": 0,
              "model_id": "2768aad896b1475db204d1cfb1d0dabb"
            }
          },
          "metadata": {}
        },
        {
          "output_type": "display_data",
          "data": {
            "text/plain": [
              "Output()"
            ],
            "application/vnd.jupyter.widget-view+json": {
              "version_major": 2,
              "version_minor": 0,
              "model_id": "c8dd4f1fc4fb434ea869de9400677161"
            }
          },
          "metadata": {}
        }
      ]
    },
    {
      "cell_type": "code",
      "source": [
        "df_factors = factors_scores_report.factor_scores"
      ],
      "metadata": {
        "id": "z1HTMwrp8rVQ"
      },
      "execution_count": null,
      "outputs": []
    },
    {
      "cell_type": "code",
      "source": [
        "# Using the above index, determine the number of unique senders (aka developers)\n",
        "cnt = df_factors.groupby(['sender_id']).count().shape[0]\n",
        "print(\"Number of unique developers:\", cnt) "
      ],
      "metadata": {
        "colab": {
          "base_uri": "https://localhost:8080/"
        },
        "id": "dsxw-zguUrUj",
        "outputId": "2d67f5f9-2aa2-44b1-8f5d-211c5856b16a"
      },
      "execution_count": null,
      "outputs": [
        {
          "output_type": "stream",
          "name": "stdout",
          "text": [
            "Number of unique developers: 1832\n"
          ]
        }
      ]
    },
    {
      "cell_type": "code",
      "source": [
        "utils.data.rename_columns_in_dataframe(df_factors, activity_name, inplace=True)"
      ],
      "metadata": {
        "id": "eaa6WN9C84C5"
      },
      "execution_count": null,
      "outputs": []
    },
    {
      "cell_type": "code",
      "source": [
        "df_factors.head(1)"
      ],
      "metadata": {
        "id": "ZMaUgOJ5ZflO",
        "colab": {
          "base_uri": "https://localhost:8080/",
          "height": 211
        },
        "outputId": "493368f7-d3dd-4887-bf75-3da5591ab131"
      },
      "execution_count": null,
      "outputs": [
        {
          "output_type": "execute_result",
          "data": {
            "text/plain": [
              "                               Code Contribution  Knowledge Sharing  \\\n",
              "sender_id sent_time                                                   \n",
              "0         2020-08-20 09:35:52           0.859261           0.013534   \n",
              "\n",
              "                               Patch Posting  Progress Control  \\\n",
              "sender_id sent_time                                              \n",
              "0         2020-08-20 09:35:52       0.012611          0.228412   \n",
              "\n",
              "                               Acknowledgement and Response  \n",
              "sender_id sent_time                                          \n",
              "0         2020-08-20 09:35:52                      0.258722  "
            ],
            "text/html": [
              "\n",
              "  <div id=\"df-67e416fe-91b3-4ea6-b815-2795ee9206bb\">\n",
              "    <div class=\"colab-df-container\">\n",
              "      <div>\n",
              "<style scoped>\n",
              "    .dataframe tbody tr th:only-of-type {\n",
              "        vertical-align: middle;\n",
              "    }\n",
              "\n",
              "    .dataframe tbody tr th {\n",
              "        vertical-align: top;\n",
              "    }\n",
              "\n",
              "    .dataframe thead th {\n",
              "        text-align: right;\n",
              "    }\n",
              "</style>\n",
              "<table border=\"1\" class=\"dataframe\">\n",
              "  <thead>\n",
              "    <tr style=\"text-align: right;\">\n",
              "      <th></th>\n",
              "      <th></th>\n",
              "      <th>Code Contribution</th>\n",
              "      <th>Knowledge Sharing</th>\n",
              "      <th>Patch Posting</th>\n",
              "      <th>Progress Control</th>\n",
              "      <th>Acknowledgement and Response</th>\n",
              "    </tr>\n",
              "    <tr>\n",
              "      <th>sender_id</th>\n",
              "      <th>sent_time</th>\n",
              "      <th></th>\n",
              "      <th></th>\n",
              "      <th></th>\n",
              "      <th></th>\n",
              "      <th></th>\n",
              "    </tr>\n",
              "  </thead>\n",
              "  <tbody>\n",
              "    <tr>\n",
              "      <th>0</th>\n",
              "      <th>2020-08-20 09:35:52</th>\n",
              "      <td>0.859261</td>\n",
              "      <td>0.013534</td>\n",
              "      <td>0.012611</td>\n",
              "      <td>0.228412</td>\n",
              "      <td>0.258722</td>\n",
              "    </tr>\n",
              "  </tbody>\n",
              "</table>\n",
              "</div>\n",
              "      <button class=\"colab-df-convert\" onclick=\"convertToInteractive('df-67e416fe-91b3-4ea6-b815-2795ee9206bb')\"\n",
              "              title=\"Convert this dataframe to an interactive table.\"\n",
              "              style=\"display:none;\">\n",
              "        \n",
              "  <svg xmlns=\"http://www.w3.org/2000/svg\" height=\"24px\"viewBox=\"0 0 24 24\"\n",
              "       width=\"24px\">\n",
              "    <path d=\"M0 0h24v24H0V0z\" fill=\"none\"/>\n",
              "    <path d=\"M18.56 5.44l.94 2.06.94-2.06 2.06-.94-2.06-.94-.94-2.06-.94 2.06-2.06.94zm-11 1L8.5 8.5l.94-2.06 2.06-.94-2.06-.94L8.5 2.5l-.94 2.06-2.06.94zm10 10l.94 2.06.94-2.06 2.06-.94-2.06-.94-.94-2.06-.94 2.06-2.06.94z\"/><path d=\"M17.41 7.96l-1.37-1.37c-.4-.4-.92-.59-1.43-.59-.52 0-1.04.2-1.43.59L10.3 9.45l-7.72 7.72c-.78.78-.78 2.05 0 2.83L4 21.41c.39.39.9.59 1.41.59.51 0 1.02-.2 1.41-.59l7.78-7.78 2.81-2.81c.8-.78.8-2.07 0-2.86zM5.41 20L4 18.59l7.72-7.72 1.47 1.35L5.41 20z\"/>\n",
              "  </svg>\n",
              "      </button>\n",
              "      \n",
              "  <style>\n",
              "    .colab-df-container {\n",
              "      display:flex;\n",
              "      flex-wrap:wrap;\n",
              "      gap: 12px;\n",
              "    }\n",
              "\n",
              "    .colab-df-convert {\n",
              "      background-color: #E8F0FE;\n",
              "      border: none;\n",
              "      border-radius: 50%;\n",
              "      cursor: pointer;\n",
              "      display: none;\n",
              "      fill: #1967D2;\n",
              "      height: 32px;\n",
              "      padding: 0 0 0 0;\n",
              "      width: 32px;\n",
              "    }\n",
              "\n",
              "    .colab-df-convert:hover {\n",
              "      background-color: #E2EBFA;\n",
              "      box-shadow: 0px 1px 2px rgba(60, 64, 67, 0.3), 0px 1px 3px 1px rgba(60, 64, 67, 0.15);\n",
              "      fill: #174EA6;\n",
              "    }\n",
              "\n",
              "    [theme=dark] .colab-df-convert {\n",
              "      background-color: #3B4455;\n",
              "      fill: #D2E3FC;\n",
              "    }\n",
              "\n",
              "    [theme=dark] .colab-df-convert:hover {\n",
              "      background-color: #434B5C;\n",
              "      box-shadow: 0px 1px 3px 1px rgba(0, 0, 0, 0.15);\n",
              "      filter: drop-shadow(0px 1px 2px rgba(0, 0, 0, 0.3));\n",
              "      fill: #FFFFFF;\n",
              "    }\n",
              "  </style>\n",
              "\n",
              "      <script>\n",
              "        const buttonEl =\n",
              "          document.querySelector('#df-67e416fe-91b3-4ea6-b815-2795ee9206bb button.colab-df-convert');\n",
              "        buttonEl.style.display =\n",
              "          google.colab.kernel.accessAllowed ? 'block' : 'none';\n",
              "\n",
              "        async function convertToInteractive(key) {\n",
              "          const element = document.querySelector('#df-67e416fe-91b3-4ea6-b815-2795ee9206bb');\n",
              "          const dataTable =\n",
              "            await google.colab.kernel.invokeFunction('convertToInteractive',\n",
              "                                                     [key], {});\n",
              "          if (!dataTable) return;\n",
              "\n",
              "          const docLinkHtml = 'Like what you see? Visit the ' +\n",
              "            '<a target=\"_blank\" href=https://colab.research.google.com/notebooks/data_table.ipynb>data table notebook</a>'\n",
              "            + ' to learn more about interactive tables.';\n",
              "          element.innerHTML = '';\n",
              "          dataTable['output_type'] = 'display_data';\n",
              "          await google.colab.output.renderOutput(dataTable, element);\n",
              "          const docLink = document.createElement('div');\n",
              "          docLink.innerHTML = docLinkHtml;\n",
              "          element.appendChild(docLink);\n",
              "        }\n",
              "      </script>\n",
              "    </div>\n",
              "  </div>\n",
              "  "
            ]
          },
          "metadata": {},
          "execution_count": 28
        }
      ]
    },
    {
      "cell_type": "markdown",
      "source": [
        "In the context of modeling developer behavior, one may wonder whether these activities correlate with each other. To answer this question, we compute the correlation coefficients among these activities. "
      ],
      "metadata": {
        "id": "pIMHGYyJhW3A"
      }
    },
    {
      "cell_type": "code",
      "source": [
        "utils.plots.plot_column_correlation_heatmap(df_factors)"
      ],
      "metadata": {
        "colab": {
          "base_uri": "https://localhost:8080/",
          "height": 844
        },
        "id": "WEiXY3hd4kVe",
        "outputId": "93948e26-aca9-41b5-9ead-b838bf856bbf"
      },
      "execution_count": null,
      "outputs": [
        {
          "output_type": "display_data",
          "data": {
            "text/plain": [
              "<Figure size 720x576 with 2 Axes>"
            ],
            "image/png": "[encoded data removed]"
          },
          "metadata": {
            "image/png": {
              "width": 705,
              "height": 638
            },
            "needs_background": "light"
          }
        },
        {
          "output_type": "execute_result",
          "data": {
            "text/plain": [
              "                              Code Contribution  Knowledge Sharing  \\\n",
              "Code Contribution                      1.000000          -0.027824   \n",
              "Knowledge Sharing                     -0.027824           1.000000   \n",
              "Patch Posting                         -0.032658          -0.004718   \n",
              "Progress Control                       0.050153          -0.016672   \n",
              "Acknowledgement and Response           0.197393          -0.106740   \n",
              "\n",
              "                              Patch Posting  Progress Control  \\\n",
              "Code Contribution                 -0.032658          0.050153   \n",
              "Knowledge Sharing                 -0.004718         -0.016672   \n",
              "Patch Posting                      1.000000          0.025096   \n",
              "Progress Control                   0.025096          1.000000   \n",
              "Acknowledgement and Response       0.210357         -0.108790   \n",
              "\n",
              "                              Acknowledgement and Response  \n",
              "Code Contribution                                 0.197393  \n",
              "Knowledge Sharing                                -0.106740  \n",
              "Patch Posting                                     0.210357  \n",
              "Progress Control                                 -0.108790  \n",
              "Acknowledgement and Response                      1.000000  "
            ],
            "text/html": [
              "\n",
              "  <div id=\"df-3b3ee4ae-173b-4868-9448-368af69c6f0c\">\n",
              "    <div class=\"colab-df-container\">\n",
              "      <div>\n",
              "<style scoped>\n",
              "    .dataframe tbody tr th:only-of-type {\n",
              "        vertical-align: middle;\n",
              "    }\n",
              "\n",
              "    .dataframe tbody tr th {\n",
              "        vertical-align: top;\n",
              "    }\n",
              "\n",
              "    .dataframe thead th {\n",
              "        text-align: right;\n",
              "    }\n",
              "</style>\n",
              "<table border=\"1\" class=\"dataframe\">\n",
              "  <thead>\n",
              "    <tr style=\"text-align: right;\">\n",
              "      <th></th>\n",
              "      <th>Code Contribution</th>\n",
              "      <th>Knowledge Sharing</th>\n",
              "      <th>Patch Posting</th>\n",
              "      <th>Progress Control</th>\n",
              "      <th>Acknowledgement and Response</th>\n",
              "    </tr>\n",
              "  </thead>\n",
              "  <tbody>\n",
              "    <tr>\n",
              "      <th>Code Contribution</th>\n",
              "      <td>1.000000</td>\n",
              "      <td>-0.027824</td>\n",
              "      <td>-0.032658</td>\n",
              "      <td>0.050153</td>\n",
              "      <td>0.197393</td>\n",
              "    </tr>\n",
              "    <tr>\n",
              "      <th>Knowledge Sharing</th>\n",
              "      <td>-0.027824</td>\n",
              "      <td>1.000000</td>\n",
              "      <td>-0.004718</td>\n",
              "      <td>-0.016672</td>\n",
              "      <td>-0.106740</td>\n",
              "    </tr>\n",
              "    <tr>\n",
              "      <th>Patch Posting</th>\n",
              "      <td>-0.032658</td>\n",
              "      <td>-0.004718</td>\n",
              "      <td>1.000000</td>\n",
              "      <td>0.025096</td>\n",
              "      <td>0.210357</td>\n",
              "    </tr>\n",
              "    <tr>\n",
              "      <th>Progress Control</th>\n",
              "      <td>0.050153</td>\n",
              "      <td>-0.016672</td>\n",
              "      <td>0.025096</td>\n",
              "      <td>1.000000</td>\n",
              "      <td>-0.108790</td>\n",
              "    </tr>\n",
              "    <tr>\n",
              "      <th>Acknowledgement and Response</th>\n",
              "      <td>0.197393</td>\n",
              "      <td>-0.106740</td>\n",
              "      <td>0.210357</td>\n",
              "      <td>-0.108790</td>\n",
              "      <td>1.000000</td>\n",
              "    </tr>\n",
              "  </tbody>\n",
              "</table>\n",
              "</div>\n",
              "      <button class=\"colab-df-convert\" onclick=\"convertToInteractive('df-3b3ee4ae-173b-4868-9448-368af69c6f0c')\"\n",
              "              title=\"Convert this dataframe to an interactive table.\"\n",
              "              style=\"display:none;\">\n",
              "        \n",
              "  <svg xmlns=\"http://www.w3.org/2000/svg\" height=\"24px\"viewBox=\"0 0 24 24\"\n",
              "       width=\"24px\">\n",
              "    <path d=\"M0 0h24v24H0V0z\" fill=\"none\"/>\n",
              "    <path d=\"M18.56 5.44l.94 2.06.94-2.06 2.06-.94-2.06-.94-.94-2.06-.94 2.06-2.06.94zm-11 1L8.5 8.5l.94-2.06 2.06-.94-2.06-.94L8.5 2.5l-.94 2.06-2.06.94zm10 10l.94 2.06.94-2.06 2.06-.94-2.06-.94-.94-2.06-.94 2.06-2.06.94z\"/><path d=\"M17.41 7.96l-1.37-1.37c-.4-.4-.92-.59-1.43-.59-.52 0-1.04.2-1.43.59L10.3 9.45l-7.72 7.72c-.78.78-.78 2.05 0 2.83L4 21.41c.39.39.9.59 1.41.59.51 0 1.02-.2 1.41-.59l7.78-7.78 2.81-2.81c.8-.78.8-2.07 0-2.86zM5.41 20L4 18.59l7.72-7.72 1.47 1.35L5.41 20z\"/>\n",
              "  </svg>\n",
              "      </button>\n",
              "      \n",
              "  <style>\n",
              "    .colab-df-container {\n",
              "      display:flex;\n",
              "      flex-wrap:wrap;\n",
              "      gap: 12px;\n",
              "    }\n",
              "\n",
              "    .colab-df-convert {\n",
              "      background-color: #E8F0FE;\n",
              "      border: none;\n",
              "      border-radius: 50%;\n",
              "      cursor: pointer;\n",
              "      display: none;\n",
              "      fill: #1967D2;\n",
              "      height: 32px;\n",
              "      padding: 0 0 0 0;\n",
              "      width: 32px;\n",
              "    }\n",
              "\n",
              "    .colab-df-convert:hover {\n",
              "      background-color: #E2EBFA;\n",
              "      box-shadow: 0px 1px 2px rgba(60, 64, 67, 0.3), 0px 1px 3px 1px rgba(60, 64, 67, 0.15);\n",
              "      fill: #174EA6;\n",
              "    }\n",
              "\n",
              "    [theme=dark] .colab-df-convert {\n",
              "      background-color: #3B4455;\n",
              "      fill: #D2E3FC;\n",
              "    }\n",
              "\n",
              "    [theme=dark] .colab-df-convert:hover {\n",
              "      background-color: #434B5C;\n",
              "      box-shadow: 0px 1px 3px 1px rgba(0, 0, 0, 0.15);\n",
              "      filter: drop-shadow(0px 1px 2px rgba(0, 0, 0, 0.3));\n",
              "      fill: #FFFFFF;\n",
              "    }\n",
              "  </style>\n",
              "\n",
              "      <script>\n",
              "        const buttonEl =\n",
              "          document.querySelector('#df-3b3ee4ae-173b-4868-9448-368af69c6f0c button.colab-df-convert');\n",
              "        buttonEl.style.display =\n",
              "          google.colab.kernel.accessAllowed ? 'block' : 'none';\n",
              "\n",
              "        async function convertToInteractive(key) {\n",
              "          const element = document.querySelector('#df-3b3ee4ae-173b-4868-9448-368af69c6f0c');\n",
              "          const dataTable =\n",
              "            await google.colab.kernel.invokeFunction('convertToInteractive',\n",
              "                                                     [key], {});\n",
              "          if (!dataTable) return;\n",
              "\n",
              "          const docLinkHtml = 'Like what you see? Visit the ' +\n",
              "            '<a target=\"_blank\" href=https://colab.research.google.com/notebooks/data_table.ipynb>data table notebook</a>'\n",
              "            + ' to learn more about interactive tables.';\n",
              "          element.innerHTML = '';\n",
              "          dataTable['output_type'] = 'display_data';\n",
              "          await google.colab.output.renderOutput(dataTable, element);\n",
              "          const docLink = document.createElement('div');\n",
              "          docLink.innerHTML = docLinkHtml;\n",
              "          element.appendChild(docLink);\n",
              "        }\n",
              "      </script>\n",
              "    </div>\n",
              "  </div>\n",
              "  "
            ]
          },
          "metadata": {},
          "execution_count": 35
        }
      ]
    },
    {
      "cell_type": "markdown",
      "source": [
        "The above information demonstrates some correlations between the extracted activity dimensions. *This support our hypothesis that the factors influencing the actions developers take when participating in the LKML are not independent.* Consequently, we can use this insight to identify roles in our LKML data."
      ],
      "metadata": {
        "id": "FPMZZMe8hW6t"
      }
    },
    {
      "cell_type": "markdown",
      "source": [
        "### Finding developer roles"
      ],
      "metadata": {
        "id": "jkmFQNJoD_0n"
      }
    },
    {
      "cell_type": "markdown",
      "source": [
        "We'll find developer roles in the LKML using *agglomerative hierarchical clustering* on the scaled factor scores."
      ],
      "metadata": {
        "id": "k8h9HfxFVu1X"
      }
    },
    {
      "cell_type": "code",
      "source": [
        "_, roles_report = utils.ml.roles_discovery(\n",
        "    df_factors, plot_summary=True, truncate_mode='lastp', p=12, leaf_rotation=90., \n",
        "    leaf_font_size=12., show_contracted=True, annotate_above=10, quiet=True)\n"
      ],
      "metadata": {
        "colab": {
          "base_uri": "https://localhost:8080/",
          "height": 324,
          "referenced_widgets": [
            "5b62c5936bb34f888adeaa0c21164063",
            "6abd05c7fe3f460b83e36523afba1c3a",
            "0b733ee5eabc4c7da29dc8eb63466c9e",
            "7f8aee5adf364800953c9435dc148911"
          ]
        },
        "id": "9m7BGob75n6k",
        "outputId": "733c934b-05c6-4606-fac4-8e2fdc175a32"
      },
      "execution_count": null,
      "outputs": [
        {
          "output_type": "display_data",
          "data": {
            "text/plain": [
              "Output()"
            ],
            "application/vnd.jupyter.widget-view+json": {
              "version_major": 2,
              "version_minor": 0,
              "model_id": "5b62c5936bb34f888adeaa0c21164063"
            }
          },
          "metadata": {}
        },
        {
          "output_type": "display_data",
          "data": {
            "text/plain": [
              "Output()"
            ],
            "application/vnd.jupyter.widget-view+json": {
              "version_major": 2,
              "version_minor": 0,
              "model_id": "0b733ee5eabc4c7da29dc8eb63466c9e"
            }
          },
          "metadata": {}
        },
        {
          "output_type": "display_data",
          "data": {
            "text/plain": [
              "<Figure size 432x288 with 1 Axes>"
            ],
            "image/png": "[encoded data removed]"
          },
          "metadata": {
            "image/png": {
              "width": 382,
              "height": 307
            },
            "needs_background": "light"
          }
        }
      ]
    },
    {
      "cell_type": "code",
      "source": [
        "roles_report.metrics"
      ],
      "metadata": {
        "colab": {
          "base_uri": "https://localhost:8080/",
          "height": 81
        },
        "id": "sHUFWD70RmoT",
        "outputId": "76e70a13-fc50-42ea-af71-246f81e44ac5"
      },
      "execution_count": null,
      "outputs": [
        {
          "output_type": "execute_result",
          "data": {
            "text/plain": [
              "   Cophenetic_Correlation  Cophenetic_Distance\n",
              "0                    0.73                36.12"
            ],
            "text/html": [
              "\n",
              "  <div id=\"df-0b1b8c18-f017-4bfc-acfd-1661ba98d8f7\">\n",
              "    <div class=\"colab-df-container\">\n",
              "      <div>\n",
              "<style scoped>\n",
              "    .dataframe tbody tr th:only-of-type {\n",
              "        vertical-align: middle;\n",
              "    }\n",
              "\n",
              "    .dataframe tbody tr th {\n",
              "        vertical-align: top;\n",
              "    }\n",
              "\n",
              "    .dataframe thead th {\n",
              "        text-align: right;\n",
              "    }\n",
              "</style>\n",
              "<table border=\"1\" class=\"dataframe\">\n",
              "  <thead>\n",
              "    <tr style=\"text-align: right;\">\n",
              "      <th></th>\n",
              "      <th>Cophenetic_Correlation</th>\n",
              "      <th>Cophenetic_Distance</th>\n",
              "    </tr>\n",
              "  </thead>\n",
              "  <tbody>\n",
              "    <tr>\n",
              "      <th>0</th>\n",
              "      <td>0.73</td>\n",
              "      <td>36.12</td>\n",
              "    </tr>\n",
              "  </tbody>\n",
              "</table>\n",
              "</div>\n",
              "      <button class=\"colab-df-convert\" onclick=\"convertToInteractive('df-0b1b8c18-f017-4bfc-acfd-1661ba98d8f7')\"\n",
              "              title=\"Convert this dataframe to an interactive table.\"\n",
              "              style=\"display:none;\">\n",
              "        \n",
              "  <svg xmlns=\"http://www.w3.org/2000/svg\" height=\"24px\"viewBox=\"0 0 24 24\"\n",
              "       width=\"24px\">\n",
              "    <path d=\"M0 0h24v24H0V0z\" fill=\"none\"/>\n",
              "    <path d=\"M18.56 5.44l.94 2.06.94-2.06 2.06-.94-2.06-.94-.94-2.06-.94 2.06-2.06.94zm-11 1L8.5 8.5l.94-2.06 2.06-.94-2.06-.94L8.5 2.5l-.94 2.06-2.06.94zm10 10l.94 2.06.94-2.06 2.06-.94-2.06-.94-.94-2.06-.94 2.06-2.06.94z\"/><path d=\"M17.41 7.96l-1.37-1.37c-.4-.4-.92-.59-1.43-.59-.52 0-1.04.2-1.43.59L10.3 9.45l-7.72 7.72c-.78.78-.78 2.05 0 2.83L4 21.41c.39.39.9.59 1.41.59.51 0 1.02-.2 1.41-.59l7.78-7.78 2.81-2.81c.8-.78.8-2.07 0-2.86zM5.41 20L4 18.59l7.72-7.72 1.47 1.35L5.41 20z\"/>\n",
              "  </svg>\n",
              "      </button>\n",
              "      \n",
              "  <style>\n",
              "    .colab-df-container {\n",
              "      display:flex;\n",
              "      flex-wrap:wrap;\n",
              "      gap: 12px;\n",
              "    }\n",
              "\n",
              "    .colab-df-convert {\n",
              "      background-color: #E8F0FE;\n",
              "      border: none;\n",
              "      border-radius: 50%;\n",
              "      cursor: pointer;\n",
              "      display: none;\n",
              "      fill: #1967D2;\n",
              "      height: 32px;\n",
              "      padding: 0 0 0 0;\n",
              "      width: 32px;\n",
              "    }\n",
              "\n",
              "    .colab-df-convert:hover {\n",
              "      background-color: #E2EBFA;\n",
              "      box-shadow: 0px 1px 2px rgba(60, 64, 67, 0.3), 0px 1px 3px 1px rgba(60, 64, 67, 0.15);\n",
              "      fill: #174EA6;\n",
              "    }\n",
              "\n",
              "    [theme=dark] .colab-df-convert {\n",
              "      background-color: #3B4455;\n",
              "      fill: #D2E3FC;\n",
              "    }\n",
              "\n",
              "    [theme=dark] .colab-df-convert:hover {\n",
              "      background-color: #434B5C;\n",
              "      box-shadow: 0px 1px 3px 1px rgba(0, 0, 0, 0.15);\n",
              "      filter: drop-shadow(0px 1px 2px rgba(0, 0, 0, 0.3));\n",
              "      fill: #FFFFFF;\n",
              "    }\n",
              "  </style>\n",
              "\n",
              "      <script>\n",
              "        const buttonEl =\n",
              "          document.querySelector('#df-0b1b8c18-f017-4bfc-acfd-1661ba98d8f7 button.colab-df-convert');\n",
              "        buttonEl.style.display =\n",
              "          google.colab.kernel.accessAllowed ? 'block' : 'none';\n",
              "\n",
              "        async function convertToInteractive(key) {\n",
              "          const element = document.querySelector('#df-0b1b8c18-f017-4bfc-acfd-1661ba98d8f7');\n",
              "          const dataTable =\n",
              "            await google.colab.kernel.invokeFunction('convertToInteractive',\n",
              "                                                     [key], {});\n",
              "          if (!dataTable) return;\n",
              "\n",
              "          const docLinkHtml = 'Like what you see? Visit the ' +\n",
              "            '<a target=\"_blank\" href=https://colab.research.google.com/notebooks/data_table.ipynb>data table notebook</a>'\n",
              "            + ' to learn more about interactive tables.';\n",
              "          element.innerHTML = '';\n",
              "          dataTable['output_type'] = 'display_data';\n",
              "          await google.colab.output.renderOutput(dataTable, element);\n",
              "          const docLink = document.createElement('div');\n",
              "          docLink.innerHTML = docLinkHtml;\n",
              "          element.appendChild(docLink);\n",
              "        }\n",
              "      </script>\n",
              "    </div>\n",
              "  </div>\n",
              "  "
            ]
          },
          "metadata": {},
          "execution_count": 37
        }
      ]
    },
    {
      "cell_type": "code",
      "source": [
        "roles_report.plot_parameters()"
      ],
      "metadata": {
        "colab": {
          "base_uri": "https://localhost:8080/",
          "height": 364
        },
        "id": "ZrBUN4WHR1pt",
        "outputId": "90b17f00-fb5b-4cc5-945d-b47e3cc243de"
      },
      "execution_count": null,
      "outputs": [
        {
          "output_type": "display_data",
          "data": {
            "text/plain": [
              "<Figure size 720x360 with 1 Axes>"
            ],
            "image/png": "[encoded data removed]"
          },
          "metadata": {
            "image/png": {
              "width": 600,
              "height": 331
            },
            "needs_background": "light"
          }
        },
        {
          "output_type": "display_data",
          "data": {
            "text/plain": [
              "Number of clusters: \u001b[1;36m5\u001b[0m\n"
            ],
            "text/html": [
              "<pre style=\"white-space:pre;overflow-x:auto;line-height:normal;font-family:Menlo,'DejaVu Sans Mono',consolas,'Courier New',monospace\">Number of clusters: <span style=\"color: #008080; text-decoration-color: #008080; font-weight: bold\">5</span>\n",
              "</pre>\n"
            ]
          },
          "metadata": {}
        }
      ]
    },
    {
      "cell_type": "markdown",
      "source": [
        "The gain in explained variance reduces significantly from 3 to 5 to 6 (‘elbow’ is at k = 3). So, optimal number of clusters seems to be 3.\n",
        "Alternatively, we can just focus on finding where the acceleration of distance growth is the biggest:\n",
        "\n"
      ],
      "metadata": {
        "id": "dcBk6Ei5U2fJ"
      }
    },
    {
      "cell_type": "markdown",
      "source": [
        "According to the above plot, the optimal k for our dataset is **5 clusters**. *Consequently, we set a cut-off distance of 25 (max_d).*"
      ],
      "metadata": {
        "id": "Xj6F6fTa44L5"
      }
    },
    {
      "cell_type": "code",
      "source": [
        "roles_df, acc_roles_report = utils.ml.roles_discovery(\n",
        "    df_factors, data = roles_report.data, flat_option=True, truncate_mode='lastp', p=12, leaf_rotation=90., \n",
        "    leaf_font_size=12., show_contracted=True, annotate_above=10, max_d=25, quiet=True)"
      ],
      "metadata": {
        "colab": {
          "base_uri": "https://localhost:8080/",
          "height": 379,
          "referenced_widgets": [
            "d98914032d9244c28d98209dc768d2c3",
            "c26b260c59cb428091fb66fddb897055",
            "f257fe2599984a8c913596bc15b8ba65",
            "c3cf42f64aec4524a5eaa9bf4e20f715",
            "5d3c833289814822a08871bca23f50fd",
            "8b83210ec9314f97985c077f080214a5",
            "2f531e45f71b45e8baec57a8dae9d624",
            "e49d6ae036a04e8e9bc9a95ac5f2f013"
          ]
        },
        "id": "z3BKhXmzVgDe",
        "outputId": "53dcc467-6fb1-46e6-dae6-c91117d91cd4"
      },
      "execution_count": null,
      "outputs": [
        {
          "output_type": "display_data",
          "data": {
            "text/plain": [
              "Output()"
            ],
            "application/vnd.jupyter.widget-view+json": {
              "version_major": 2,
              "version_minor": 0,
              "model_id": "d98914032d9244c28d98209dc768d2c3"
            }
          },
          "metadata": {}
        },
        {
          "output_type": "display_data",
          "data": {
            "text/plain": [
              "Output()"
            ],
            "application/vnd.jupyter.widget-view+json": {
              "version_major": 2,
              "version_minor": 0,
              "model_id": "f257fe2599984a8c913596bc15b8ba65"
            }
          },
          "metadata": {}
        },
        {
          "output_type": "display_data",
          "data": {
            "text/plain": [
              "Output()"
            ],
            "application/vnd.jupyter.widget-view+json": {
              "version_major": 2,
              "version_minor": 0,
              "model_id": "5d3c833289814822a08871bca23f50fd"
            }
          },
          "metadata": {}
        },
        {
          "output_type": "display_data",
          "data": {
            "text/plain": [
              "Output()"
            ],
            "application/vnd.jupyter.widget-view+json": {
              "version_major": 2,
              "version_minor": 0,
              "model_id": "2f531e45f71b45e8baec57a8dae9d624"
            }
          },
          "metadata": {}
        },
        {
          "output_type": "display_data",
          "data": {
            "text/plain": [
              "<Figure size 720x360 with 1 Axes>"
            ],
            "image/png": "[encoded data removed]"
          },
          "metadata": {
            "image/png": {
              "width": 605,
              "height": 362
            },
            "needs_background": "light"
          }
        }
      ]
    },
    {
      "cell_type": "code",
      "source": [
        "# discovered clusters\n",
        "roles_df"
      ],
      "metadata": {
        "colab": {
          "base_uri": "https://localhost:8080/",
          "height": 206
        },
        "id": "LCmbPryClzNf",
        "outputId": "684bfe02-54fa-4912-f53a-e44805c2d478"
      },
      "execution_count": null,
      "outputs": [
        {
          "output_type": "execute_result",
          "data": {
            "text/plain": [
              "                                     0         1         2         3         4\n",
              "Code Contribution             0.858249  0.146726  0.859474  0.858586  0.856721\n",
              "Knowledge Sharing             0.013251  0.015215  0.008842  0.011110  0.014300\n",
              "Patch Posting                 0.283752  0.617086  0.755450  0.618142  0.782252\n",
              "Progress Control              0.201027  0.205174  0.196313  0.856899  0.203729\n",
              "Acknowledgement and Response  0.303511  0.233481  0.763511  0.253514  0.278581"
            ],
            "text/html": [
              "\n",
              "  <div id=\"df-f71d0cb6-43bb-4c96-b4f5-f724cfc9744c\">\n",
              "    <div class=\"colab-df-container\">\n",
              "      <div>\n",
              "<style scoped>\n",
              "    .dataframe tbody tr th:only-of-type {\n",
              "        vertical-align: middle;\n",
              "    }\n",
              "\n",
              "    .dataframe tbody tr th {\n",
              "        vertical-align: top;\n",
              "    }\n",
              "\n",
              "    .dataframe thead th {\n",
              "        text-align: right;\n",
              "    }\n",
              "</style>\n",
              "<table border=\"1\" class=\"dataframe\">\n",
              "  <thead>\n",
              "    <tr style=\"text-align: right;\">\n",
              "      <th></th>\n",
              "      <th>0</th>\n",
              "      <th>1</th>\n",
              "      <th>2</th>\n",
              "      <th>3</th>\n",
              "      <th>4</th>\n",
              "    </tr>\n",
              "  </thead>\n",
              "  <tbody>\n",
              "    <tr>\n",
              "      <th>Code Contribution</th>\n",
              "      <td>0.858249</td>\n",
              "      <td>0.146726</td>\n",
              "      <td>0.859474</td>\n",
              "      <td>0.858586</td>\n",
              "      <td>0.856721</td>\n",
              "    </tr>\n",
              "    <tr>\n",
              "      <th>Knowledge Sharing</th>\n",
              "      <td>0.013251</td>\n",
              "      <td>0.015215</td>\n",
              "      <td>0.008842</td>\n",
              "      <td>0.011110</td>\n",
              "      <td>0.014300</td>\n",
              "    </tr>\n",
              "    <tr>\n",
              "      <th>Patch Posting</th>\n",
              "      <td>0.283752</td>\n",
              "      <td>0.617086</td>\n",
              "      <td>0.755450</td>\n",
              "      <td>0.618142</td>\n",
              "      <td>0.782252</td>\n",
              "    </tr>\n",
              "    <tr>\n",
              "      <th>Progress Control</th>\n",
              "      <td>0.201027</td>\n",
              "      <td>0.205174</td>\n",
              "      <td>0.196313</td>\n",
              "      <td>0.856899</td>\n",
              "      <td>0.203729</td>\n",
              "    </tr>\n",
              "    <tr>\n",
              "      <th>Acknowledgement and Response</th>\n",
              "      <td>0.303511</td>\n",
              "      <td>0.233481</td>\n",
              "      <td>0.763511</td>\n",
              "      <td>0.253514</td>\n",
              "      <td>0.278581</td>\n",
              "    </tr>\n",
              "  </tbody>\n",
              "</table>\n",
              "</div>\n",
              "      <button class=\"colab-df-convert\" onclick=\"convertToInteractive('df-f71d0cb6-43bb-4c96-b4f5-f724cfc9744c')\"\n",
              "              title=\"Convert this dataframe to an interactive table.\"\n",
              "              style=\"display:none;\">\n",
              "        \n",
              "  <svg xmlns=\"http://www.w3.org/2000/svg\" height=\"24px\"viewBox=\"0 0 24 24\"\n",
              "       width=\"24px\">\n",
              "    <path d=\"M0 0h24v24H0V0z\" fill=\"none\"/>\n",
              "    <path d=\"M18.56 5.44l.94 2.06.94-2.06 2.06-.94-2.06-.94-.94-2.06-.94 2.06-2.06.94zm-11 1L8.5 8.5l.94-2.06 2.06-.94-2.06-.94L8.5 2.5l-.94 2.06-2.06.94zm10 10l.94 2.06.94-2.06 2.06-.94-2.06-.94-.94-2.06-.94 2.06-2.06.94z\"/><path d=\"M17.41 7.96l-1.37-1.37c-.4-.4-.92-.59-1.43-.59-.52 0-1.04.2-1.43.59L10.3 9.45l-7.72 7.72c-.78.78-.78 2.05 0 2.83L4 21.41c.39.39.9.59 1.41.59.51 0 1.02-.2 1.41-.59l7.78-7.78 2.81-2.81c.8-.78.8-2.07 0-2.86zM5.41 20L4 18.59l7.72-7.72 1.47 1.35L5.41 20z\"/>\n",
              "  </svg>\n",
              "      </button>\n",
              "      \n",
              "  <style>\n",
              "    .colab-df-container {\n",
              "      display:flex;\n",
              "      flex-wrap:wrap;\n",
              "      gap: 12px;\n",
              "    }\n",
              "\n",
              "    .colab-df-convert {\n",
              "      background-color: #E8F0FE;\n",
              "      border: none;\n",
              "      border-radius: 50%;\n",
              "      cursor: pointer;\n",
              "      display: none;\n",
              "      fill: #1967D2;\n",
              "      height: 32px;\n",
              "      padding: 0 0 0 0;\n",
              "      width: 32px;\n",
              "    }\n",
              "\n",
              "    .colab-df-convert:hover {\n",
              "      background-color: #E2EBFA;\n",
              "      box-shadow: 0px 1px 2px rgba(60, 64, 67, 0.3), 0px 1px 3px 1px rgba(60, 64, 67, 0.15);\n",
              "      fill: #174EA6;\n",
              "    }\n",
              "\n",
              "    [theme=dark] .colab-df-convert {\n",
              "      background-color: #3B4455;\n",
              "      fill: #D2E3FC;\n",
              "    }\n",
              "\n",
              "    [theme=dark] .colab-df-convert:hover {\n",
              "      background-color: #434B5C;\n",
              "      box-shadow: 0px 1px 3px 1px rgba(0, 0, 0, 0.15);\n",
              "      filter: drop-shadow(0px 1px 2px rgba(0, 0, 0, 0.3));\n",
              "      fill: #FFFFFF;\n",
              "    }\n",
              "  </style>\n",
              "\n",
              "      <script>\n",
              "        const buttonEl =\n",
              "          document.querySelector('#df-f71d0cb6-43bb-4c96-b4f5-f724cfc9744c button.colab-df-convert');\n",
              "        buttonEl.style.display =\n",
              "          google.colab.kernel.accessAllowed ? 'block' : 'none';\n",
              "\n",
              "        async function convertToInteractive(key) {\n",
              "          const element = document.querySelector('#df-f71d0cb6-43bb-4c96-b4f5-f724cfc9744c');\n",
              "          const dataTable =\n",
              "            await google.colab.kernel.invokeFunction('convertToInteractive',\n",
              "                                                     [key], {});\n",
              "          if (!dataTable) return;\n",
              "\n",
              "          const docLinkHtml = 'Like what you see? Visit the ' +\n",
              "            '<a target=\"_blank\" href=https://colab.research.google.com/notebooks/data_table.ipynb>data table notebook</a>'\n",
              "            + ' to learn more about interactive tables.';\n",
              "          element.innerHTML = '';\n",
              "          dataTable['output_type'] = 'display_data';\n",
              "          await google.colab.output.renderOutput(dataTable, element);\n",
              "          const docLink = document.createElement('div');\n",
              "          docLink.innerHTML = docLinkHtml;\n",
              "          element.appendChild(docLink);\n",
              "        }\n",
              "      </script>\n",
              "    </div>\n",
              "  </div>\n",
              "  "
            ]
          },
          "metadata": {},
          "execution_count": 40
        }
      ]
    },
    {
      "cell_type": "markdown",
      "source": [
        "### Radar plot showing the activity space characteristics of roles in the LKML"
      ],
      "metadata": {
        "id": "5Dk8Ldw-HftU"
      }
    },
    {
      "cell_type": "code",
      "source": [
        "acc_roles_report.plot_components()"
      ],
      "metadata": {
        "colab": {
          "base_uri": "https://localhost:8080/",
          "height": 602
        },
        "id": "ZaPkBvSjmgPU",
        "outputId": "077df9c9-f9db-40dd-a3c8-bfb2dac09853"
      },
      "execution_count": null,
      "outputs": [
        {
          "output_type": "display_data",
          "data": {
            "text/plain": [
              "<Figure size 1000x1000 with 5 Axes>"
            ],
            "image/png": "[encoded data removed]"
          },
          "metadata": {
            "image/png": {
              "width": 1007,
              "height": 585
            },
            "needs_background": "light"
          }
        }
      ]
    },
    {
      "cell_type": "markdown",
      "source": [
        "Interpretation of Activity space of characteristics for roles\n",
        "\n",
        "- **Role 0.**  Role 0 describes a type of developer that typically works in isolation; one that occasionally contributes to the kernel and when they do they contribute major changes. We name this role **Occasional developer**.\n",
        "- **Role 1.** Role 1 describes a type of developer that rarely contributes to the Linux Kernel contributor. This type of developer barely participates in the LKML but when they do they submit a flurry of patch emails that tend to be ignored or rejected by maintainers. This type of developer avoids engaging in sharing knowledge activities and seems unaware of the Kernel's patch process. We name this role **Opportunistic programmer**, or **Rare contributor**.\n",
        "- **Role 2.** Role 2 describes a type of developer that consistently focuses on making small code contributions to the Kernel's code or fixes bugs. We name this role **Engaged core developer**.\n",
        "- **Role 3.** Role 3 describes a type of developer who is an active contributor and frequently engages in the progress control activity concerning posted patches. We name this role **Core maintainer**.\n",
        "- **Role 4.** Role 4 describes a type of developer that works in isolation, and and tends to provoke or incite an action or change in project direction. We name this role **Instigator**.\n"
      ],
      "metadata": {
        "id": "8Ml7BTNJEQR2"
      }
    },
    {
      "cell_type": "markdown",
      "source": [
        "# 🌡 Measuring Role dynamics 🤹 in the LKML"
      ],
      "metadata": {
        "id": "QLEgfjW2a70F"
      }
    },
    {
      "cell_type": "markdown",
      "source": [
        "Preparing the factors data frame for role dynamics analysis. This task is based on the RCI score computation described in [Cheng et al. 2019](https://arxiv.org/abs/1903.05277)."
      ],
      "metadata": {
        "id": "0TolkbNhiLug"
      }
    },
    {
      "cell_type": "code",
      "source": [
        "df_factors.head()"
      ],
      "metadata": {
        "colab": {
          "base_uri": "https://localhost:8080/",
          "height": 238
        },
        "id": "So6Ohrk6Iz0D",
        "outputId": "ad7c28a0-720e-444e-ad95-0873e1f44f3d"
      },
      "execution_count": null,
      "outputs": [
        {
          "output_type": "execute_result",
          "data": {
            "text/plain": [
              "                               Code Contribution  Knowledge Sharing  \\\n",
              "sender_id sent_time                                                   \n",
              "0         2020-08-20 09:35:52           0.859261           0.013534   \n",
              "          2020-08-20 09:35:55           0.897292           0.009481   \n",
              "          2020-08-20 09:36:02           0.858517           0.009132   \n",
              "          2020-08-20 09:36:06           0.842542           0.008300   \n",
              "          2020-08-20 09:36:09           0.850966           0.010151   \n",
              "\n",
              "                               Patch Posting  Progress Control  \\\n",
              "sender_id sent_time                                              \n",
              "0         2020-08-20 09:35:52       0.012611          0.228412   \n",
              "          2020-08-20 09:35:55       0.090553          0.190483   \n",
              "          2020-08-20 09:36:02       0.070129          0.305459   \n",
              "          2020-08-20 09:36:06       0.068469          0.217217   \n",
              "          2020-08-20 09:36:09       0.090245          0.279914   \n",
              "\n",
              "                               Acknowledgement and Response  \n",
              "sender_id sent_time                                          \n",
              "0         2020-08-20 09:35:52                      0.258722  \n",
              "          2020-08-20 09:35:55                      0.241613  \n",
              "          2020-08-20 09:36:02                      0.245373  \n",
              "          2020-08-20 09:36:06                      0.241429  \n",
              "          2020-08-20 09:36:09                      0.251299  "
            ],
            "text/html": [
              "\n",
              "  <div id=\"df-f5e24e83-8844-4150-ade6-544975b8719d\">\n",
              "    <div class=\"colab-df-container\">\n",
              "      <div>\n",
              "<style scoped>\n",
              "    .dataframe tbody tr th:only-of-type {\n",
              "        vertical-align: middle;\n",
              "    }\n",
              "\n",
              "    .dataframe tbody tr th {\n",
              "        vertical-align: top;\n",
              "    }\n",
              "\n",
              "    .dataframe thead th {\n",
              "        text-align: right;\n",
              "    }\n",
              "</style>\n",
              "<table border=\"1\" class=\"dataframe\">\n",
              "  <thead>\n",
              "    <tr style=\"text-align: right;\">\n",
              "      <th></th>\n",
              "      <th></th>\n",
              "      <th>Code Contribution</th>\n",
              "      <th>Knowledge Sharing</th>\n",
              "      <th>Patch Posting</th>\n",
              "      <th>Progress Control</th>\n",
              "      <th>Acknowledgement and Response</th>\n",
              "    </tr>\n",
              "    <tr>\n",
              "      <th>sender_id</th>\n",
              "      <th>sent_time</th>\n",
              "      <th></th>\n",
              "      <th></th>\n",
              "      <th></th>\n",
              "      <th></th>\n",
              "      <th></th>\n",
              "    </tr>\n",
              "  </thead>\n",
              "  <tbody>\n",
              "    <tr>\n",
              "      <th rowspan=\"5\" valign=\"top\">0</th>\n",
              "      <th>2020-08-20 09:35:52</th>\n",
              "      <td>0.859261</td>\n",
              "      <td>0.013534</td>\n",
              "      <td>0.012611</td>\n",
              "      <td>0.228412</td>\n",
              "      <td>0.258722</td>\n",
              "    </tr>\n",
              "    <tr>\n",
              "      <th>2020-08-20 09:35:55</th>\n",
              "      <td>0.897292</td>\n",
              "      <td>0.009481</td>\n",
              "      <td>0.090553</td>\n",
              "      <td>0.190483</td>\n",
              "      <td>0.241613</td>\n",
              "    </tr>\n",
              "    <tr>\n",
              "      <th>2020-08-20 09:36:02</th>\n",
              "      <td>0.858517</td>\n",
              "      <td>0.009132</td>\n",
              "      <td>0.070129</td>\n",
              "      <td>0.305459</td>\n",
              "      <td>0.245373</td>\n",
              "    </tr>\n",
              "    <tr>\n",
              "      <th>2020-08-20 09:36:06</th>\n",
              "      <td>0.842542</td>\n",
              "      <td>0.008300</td>\n",
              "      <td>0.068469</td>\n",
              "      <td>0.217217</td>\n",
              "      <td>0.241429</td>\n",
              "    </tr>\n",
              "    <tr>\n",
              "      <th>2020-08-20 09:36:09</th>\n",
              "      <td>0.850966</td>\n",
              "      <td>0.010151</td>\n",
              "      <td>0.090245</td>\n",
              "      <td>0.279914</td>\n",
              "      <td>0.251299</td>\n",
              "    </tr>\n",
              "  </tbody>\n",
              "</table>\n",
              "</div>\n",
              "      <button class=\"colab-df-convert\" onclick=\"convertToInteractive('df-f5e24e83-8844-4150-ade6-544975b8719d')\"\n",
              "              title=\"Convert this dataframe to an interactive table.\"\n",
              "              style=\"display:none;\">\n",
              "        \n",
              "  <svg xmlns=\"http://www.w3.org/2000/svg\" height=\"24px\"viewBox=\"0 0 24 24\"\n",
              "       width=\"24px\">\n",
              "    <path d=\"M0 0h24v24H0V0z\" fill=\"none\"/>\n",
              "    <path d=\"M18.56 5.44l.94 2.06.94-2.06 2.06-.94-2.06-.94-.94-2.06-.94 2.06-2.06.94zm-11 1L8.5 8.5l.94-2.06 2.06-.94-2.06-.94L8.5 2.5l-.94 2.06-2.06.94zm10 10l.94 2.06.94-2.06 2.06-.94-2.06-.94-.94-2.06-.94 2.06-2.06.94z\"/><path d=\"M17.41 7.96l-1.37-1.37c-.4-.4-.92-.59-1.43-.59-.52 0-1.04.2-1.43.59L10.3 9.45l-7.72 7.72c-.78.78-.78 2.05 0 2.83L4 21.41c.39.39.9.59 1.41.59.51 0 1.02-.2 1.41-.59l7.78-7.78 2.81-2.81c.8-.78.8-2.07 0-2.86zM5.41 20L4 18.59l7.72-7.72 1.47 1.35L5.41 20z\"/>\n",
              "  </svg>\n",
              "      </button>\n",
              "      \n",
              "  <style>\n",
              "    .colab-df-container {\n",
              "      display:flex;\n",
              "      flex-wrap:wrap;\n",
              "      gap: 12px;\n",
              "    }\n",
              "\n",
              "    .colab-df-convert {\n",
              "      background-color: #E8F0FE;\n",
              "      border: none;\n",
              "      border-radius: 50%;\n",
              "      cursor: pointer;\n",
              "      display: none;\n",
              "      fill: #1967D2;\n",
              "      height: 32px;\n",
              "      padding: 0 0 0 0;\n",
              "      width: 32px;\n",
              "    }\n",
              "\n",
              "    .colab-df-convert:hover {\n",
              "      background-color: #E2EBFA;\n",
              "      box-shadow: 0px 1px 2px rgba(60, 64, 67, 0.3), 0px 1px 3px 1px rgba(60, 64, 67, 0.15);\n",
              "      fill: #174EA6;\n",
              "    }\n",
              "\n",
              "    [theme=dark] .colab-df-convert {\n",
              "      background-color: #3B4455;\n",
              "      fill: #D2E3FC;\n",
              "    }\n",
              "\n",
              "    [theme=dark] .colab-df-convert:hover {\n",
              "      background-color: #434B5C;\n",
              "      box-shadow: 0px 1px 3px 1px rgba(0, 0, 0, 0.15);\n",
              "      filter: drop-shadow(0px 1px 2px rgba(0, 0, 0, 0.3));\n",
              "      fill: #FFFFFF;\n",
              "    }\n",
              "  </style>\n",
              "\n",
              "      <script>\n",
              "        const buttonEl =\n",
              "          document.querySelector('#df-f5e24e83-8844-4150-ade6-544975b8719d button.colab-df-convert');\n",
              "        buttonEl.style.display =\n",
              "          google.colab.kernel.accessAllowed ? 'block' : 'none';\n",
              "\n",
              "        async function convertToInteractive(key) {\n",
              "          const element = document.querySelector('#df-f5e24e83-8844-4150-ade6-544975b8719d');\n",
              "          const dataTable =\n",
              "            await google.colab.kernel.invokeFunction('convertToInteractive',\n",
              "                                                     [key], {});\n",
              "          if (!dataTable) return;\n",
              "\n",
              "          const docLinkHtml = 'Like what you see? Visit the ' +\n",
              "            '<a target=\"_blank\" href=https://colab.research.google.com/notebooks/data_table.ipynb>data table notebook</a>'\n",
              "            + ' to learn more about interactive tables.';\n",
              "          element.innerHTML = '';\n",
              "          dataTable['output_type'] = 'display_data';\n",
              "          await google.colab.output.renderOutput(dataTable, element);\n",
              "          const docLink = document.createElement('div');\n",
              "          docLink.innerHTML = docLinkHtml;\n",
              "          element.appendChild(docLink);\n",
              "        }\n",
              "      </script>\n",
              "    </div>\n",
              "  </div>\n",
              "  "
            ]
          },
          "metadata": {},
          "execution_count": 42
        }
      ]
    },
    {
      "cell_type": "code",
      "source": [
        "utils.ml.compute_role_change_intensity(df_factors, acc_roles_report, quiet=True)"
      ],
      "metadata": {
        "colab": {
          "base_uri": "https://localhost:8080/",
          "height": 35,
          "referenced_widgets": [
            "a9e4172de3e44efea81d6847ac6e874c",
            "94c036c2f48647568ef43ab3beb79f81",
            "536a3b19ef5c49588f1b76613d4493c5",
            "b6ecff7089014e4a87f3db0245ec33b0"
          ]
        },
        "id": "__F1M7PDIDFb",
        "outputId": "efe22c8a-ad14-4491-a90b-5f4982975a7b"
      },
      "execution_count": null,
      "outputs": [
        {
          "output_type": "display_data",
          "data": {
            "text/plain": [
              "Output()"
            ],
            "application/vnd.jupyter.widget-view+json": {
              "version_major": 2,
              "version_minor": 0,
              "model_id": "a9e4172de3e44efea81d6847ac6e874c"
            }
          },
          "metadata": {}
        },
        {
          "output_type": "display_data",
          "data": {
            "text/plain": [
              "Output()"
            ],
            "application/vnd.jupyter.widget-view+json": {
              "version_major": 2,
              "version_minor": 0,
              "model_id": "536a3b19ef5c49588f1b76613d4493c5"
            }
          },
          "metadata": {}
        },
        {
          "output_type": "execute_result",
          "data": {
            "text/plain": [
              "3.54"
            ]
          },
          "metadata": {},
          "execution_count": 43
        }
      ]
    },
    {
      "cell_type": "markdown",
      "source": [
        "**Conclusion on the aggregated RCI**\n",
        "\n",
        "When taking into consideration all developers participating in the LKML for the specified date period, a **3.55..** RCI score indicates that overall there is a high-level role change intensity in that period. This supports the hypothesis that there are multiple roles assumed when developers engage in the the LKML.\n",
        "\n",
        "Now, let's do this for each developer in that time period\n"
      ],
      "metadata": {
        "id": "AprHyaOja93O"
      }
    },
    {
      "cell_type": "code",
      "source": [
        "RCI_df = utils.ml.compute_role_change_intensity(\n",
        "    df_factors, \n",
        "    acc_roles_report, \n",
        "    single_rci=False, \n",
        "    quiet=True)"
      ],
      "metadata": {
        "colab": {
          "base_uri": "https://localhost:8080/",
          "height": 265,
          "referenced_widgets": [
            "8c94c42328804f509d6dfb2d1fd04fc9",
            "22c66cfccb5345298c2d22fae2b438f1",
            "f29ac3b17fc74d3fbd0513b9f3c4701d",
            "8bca1ba687a74072a00f9709e9da3cd9"
          ]
        },
        "id": "fOMhEOO9IDPv",
        "outputId": "23b8efec-6284-458b-d556-4c90fb0414d3"
      },
      "execution_count": null,
      "outputs": [
        {
          "output_type": "display_data",
          "data": {
            "text/plain": [
              "Output()"
            ],
            "application/vnd.jupyter.widget-view+json": {
              "version_major": 2,
              "version_minor": 0,
              "model_id": "8c94c42328804f509d6dfb2d1fd04fc9"
            }
          },
          "metadata": {}
        },
        {
          "output_type": "display_data",
          "data": {
            "text/plain": [
              "Output()"
            ],
            "application/vnd.jupyter.widget-view+json": {
              "version_major": 2,
              "version_minor": 0,
              "model_id": "f29ac3b17fc74d3fbd0513b9f3c4701d"
            }
          },
          "metadata": {}
        },
        {
          "output_type": "display_data",
          "data": {
            "text/plain": [
              "<Figure size 432x288 with 1 Axes>"
            ],
            "image/png": "[encoded data removed]"
          },
          "metadata": {
            "image/png": {
              "width": 397,
              "height": 248
            },
            "needs_background": "light"
          }
        }
      ]
    },
    {
      "cell_type": "code",
      "source": [
        "RCI_df.describe()"
      ],
      "metadata": {
        "colab": {
          "base_uri": "https://localhost:8080/",
          "height": 300
        },
        "id": "uRpbNNeyIDU4",
        "outputId": "5afcb095-8b07-4401-fa4c-9165bca0501f"
      },
      "execution_count": null,
      "outputs": [
        {
          "output_type": "execute_result",
          "data": {
            "text/plain": [
              "               RCI\n",
              "count  1832.000000\n",
              "mean      0.039219\n",
              "std       0.272875\n",
              "min      -0.300000\n",
              "25%       0.000000\n",
              "50%       0.000000\n",
              "75%       0.000000\n",
              "max       1.710000"
            ],
            "text/html": [
              "\n",
              "  <div id=\"df-a8c2b93b-fac3-43dc-b4c5-a5a68042ff6c\">\n",
              "    <div class=\"colab-df-container\">\n",
              "      <div>\n",
              "<style scoped>\n",
              "    .dataframe tbody tr th:only-of-type {\n",
              "        vertical-align: middle;\n",
              "    }\n",
              "\n",
              "    .dataframe tbody tr th {\n",
              "        vertical-align: top;\n",
              "    }\n",
              "\n",
              "    .dataframe thead th {\n",
              "        text-align: right;\n",
              "    }\n",
              "</style>\n",
              "<table border=\"1\" class=\"dataframe\">\n",
              "  <thead>\n",
              "    <tr style=\"text-align: right;\">\n",
              "      <th></th>\n",
              "      <th>RCI</th>\n",
              "    </tr>\n",
              "  </thead>\n",
              "  <tbody>\n",
              "    <tr>\n",
              "      <th>count</th>\n",
              "      <td>1832.000000</td>\n",
              "    </tr>\n",
              "    <tr>\n",
              "      <th>mean</th>\n",
              "      <td>0.039219</td>\n",
              "    </tr>\n",
              "    <tr>\n",
              "      <th>std</th>\n",
              "      <td>0.272875</td>\n",
              "    </tr>\n",
              "    <tr>\n",
              "      <th>min</th>\n",
              "      <td>-0.300000</td>\n",
              "    </tr>\n",
              "    <tr>\n",
              "      <th>25%</th>\n",
              "      <td>0.000000</td>\n",
              "    </tr>\n",
              "    <tr>\n",
              "      <th>50%</th>\n",
              "      <td>0.000000</td>\n",
              "    </tr>\n",
              "    <tr>\n",
              "      <th>75%</th>\n",
              "      <td>0.000000</td>\n",
              "    </tr>\n",
              "    <tr>\n",
              "      <th>max</th>\n",
              "      <td>1.710000</td>\n",
              "    </tr>\n",
              "  </tbody>\n",
              "</table>\n",
              "</div>\n",
              "      <button class=\"colab-df-convert\" onclick=\"convertToInteractive('df-a8c2b93b-fac3-43dc-b4c5-a5a68042ff6c')\"\n",
              "              title=\"Convert this dataframe to an interactive table.\"\n",
              "              style=\"display:none;\">\n",
              "        \n",
              "  <svg xmlns=\"http://www.w3.org/2000/svg\" height=\"24px\"viewBox=\"0 0 24 24\"\n",
              "       width=\"24px\">\n",
              "    <path d=\"M0 0h24v24H0V0z\" fill=\"none\"/>\n",
              "    <path d=\"M18.56 5.44l.94 2.06.94-2.06 2.06-.94-2.06-.94-.94-2.06-.94 2.06-2.06.94zm-11 1L8.5 8.5l.94-2.06 2.06-.94-2.06-.94L8.5 2.5l-.94 2.06-2.06.94zm10 10l.94 2.06.94-2.06 2.06-.94-2.06-.94-.94-2.06-.94 2.06-2.06.94z\"/><path d=\"M17.41 7.96l-1.37-1.37c-.4-.4-.92-.59-1.43-.59-.52 0-1.04.2-1.43.59L10.3 9.45l-7.72 7.72c-.78.78-.78 2.05 0 2.83L4 21.41c.39.39.9.59 1.41.59.51 0 1.02-.2 1.41-.59l7.78-7.78 2.81-2.81c.8-.78.8-2.07 0-2.86zM5.41 20L4 18.59l7.72-7.72 1.47 1.35L5.41 20z\"/>\n",
              "  </svg>\n",
              "      </button>\n",
              "      \n",
              "  <style>\n",
              "    .colab-df-container {\n",
              "      display:flex;\n",
              "      flex-wrap:wrap;\n",
              "      gap: 12px;\n",
              "    }\n",
              "\n",
              "    .colab-df-convert {\n",
              "      background-color: #E8F0FE;\n",
              "      border: none;\n",
              "      border-radius: 50%;\n",
              "      cursor: pointer;\n",
              "      display: none;\n",
              "      fill: #1967D2;\n",
              "      height: 32px;\n",
              "      padding: 0 0 0 0;\n",
              "      width: 32px;\n",
              "    }\n",
              "\n",
              "    .colab-df-convert:hover {\n",
              "      background-color: #E2EBFA;\n",
              "      box-shadow: 0px 1px 2px rgba(60, 64, 67, 0.3), 0px 1px 3px 1px rgba(60, 64, 67, 0.15);\n",
              "      fill: #174EA6;\n",
              "    }\n",
              "\n",
              "    [theme=dark] .colab-df-convert {\n",
              "      background-color: #3B4455;\n",
              "      fill: #D2E3FC;\n",
              "    }\n",
              "\n",
              "    [theme=dark] .colab-df-convert:hover {\n",
              "      background-color: #434B5C;\n",
              "      box-shadow: 0px 1px 3px 1px rgba(0, 0, 0, 0.15);\n",
              "      filter: drop-shadow(0px 1px 2px rgba(0, 0, 0, 0.3));\n",
              "      fill: #FFFFFF;\n",
              "    }\n",
              "  </style>\n",
              "\n",
              "      <script>\n",
              "        const buttonEl =\n",
              "          document.querySelector('#df-a8c2b93b-fac3-43dc-b4c5-a5a68042ff6c button.colab-df-convert');\n",
              "        buttonEl.style.display =\n",
              "          google.colab.kernel.accessAllowed ? 'block' : 'none';\n",
              "\n",
              "        async function convertToInteractive(key) {\n",
              "          const element = document.querySelector('#df-a8c2b93b-fac3-43dc-b4c5-a5a68042ff6c');\n",
              "          const dataTable =\n",
              "            await google.colab.kernel.invokeFunction('convertToInteractive',\n",
              "                                                     [key], {});\n",
              "          if (!dataTable) return;\n",
              "\n",
              "          const docLinkHtml = 'Like what you see? Visit the ' +\n",
              "            '<a target=\"_blank\" href=https://colab.research.google.com/notebooks/data_table.ipynb>data table notebook</a>'\n",
              "            + ' to learn more about interactive tables.';\n",
              "          element.innerHTML = '';\n",
              "          dataTable['output_type'] = 'display_data';\n",
              "          await google.colab.output.renderOutput(dataTable, element);\n",
              "          const docLink = document.createElement('div');\n",
              "          docLink.innerHTML = docLinkHtml;\n",
              "          element.appendChild(docLink);\n",
              "        }\n",
              "      </script>\n",
              "    </div>\n",
              "  </div>\n",
              "  "
            ]
          },
          "metadata": {},
          "execution_count": 45
        }
      ]
    },
    {
      "cell_type": "markdown",
      "source": [
        "**Conclusion**\n",
        "\n",
        "In the above period, developers participating in the LKML have asssumed a fixed role. Developers with a zero RCI are rare contributors. And the ones with a positive RCI tend to be maintainers.\n"
      ],
      "metadata": {
        "id": "6vJ9QgmJll_S"
      }
    },
    {
      "cell_type": "markdown",
      "source": [
        "## &#128071; What's next?"
      ],
      "metadata": {
        "id": "6cU04WEKfH6q"
      }
    },
    {
      "cell_type": "markdown",
      "source": [
        "&#128072; [Installation and Dashboard Visualization](https://colab.research.google.com/github/SRI-CSL/signal-public/blob/main/demo/01_installation_and_dashboard.ipynb)\n",
        "\n",
        "&#128073; [Activity Evolution Trajectory](https://colab.research.google.com/github/SRI-CSL/signal-public/blob/main/demo/03_activity_evolution_trajectory_aw2v.ipynb)"
      ],
      "metadata": {
        "id": "9ojRmanHfP1D"
      }
    }
  ]
}