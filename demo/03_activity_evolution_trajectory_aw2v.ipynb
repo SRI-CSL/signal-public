{
  "nbformat": 4,
  "nbformat_minor": 0,
  "metadata": {
    "colab": {
      "provenance": [],
      "collapsed_sections": [
        "KLtxHnM8zMmi",
        "HSiqYtlR4eUJ"
      ],
      "machine_shape": "hm",
      "toc_visible": true,
      "include_colab_link": true
    },
    "kernelspec": {
      "name": "python3",
      "display_name": "Python 3"
    },
    "language_info": {
      "name": "python"
    },
    "accelerator": "GPU",
    "gpuClass": "standard",
    "widgets": {
      "application/vnd.jupyter.widget-state+json": {
        "cbf74a0126d3427a94a7b81d6b4c14c5": {
          "model_module": "@jupyter-widgets/output",
          "model_name": "OutputModel",
          "model_module_version": "1.0.0",
          "state": {
            "_dom_classes": [],
            "_model_module": "@jupyter-widgets/output",
            "_model_module_version": "1.0.0",
            "_model_name": "OutputModel",
            "_view_count": null,
            "_view_module": "@jupyter-widgets/output",
            "_view_module_version": "1.0.0",
            "_view_name": "OutputView",
            "layout": "IPY_MODEL_8599ba16ae43491c88c29073c3965ff0",
            "msg_id": "",
            "outputs": [
              {
                "output_type": "display_data",
                "data": {
                  "text/plain": "Fetch all activities \u001b[1;32m[\u001b[0m\u001b[32m✔\u001b[0m\u001b[1;32m]\u001b[0m\u001b[32m \u001b[0m\u001b[1;32m(\u001b[0m\u001b[1;32m0:00:00\u001b[0m\u001b[32m.\u001b[0m\u001b[1;32m001884\u001b[0m\u001b[1;32m)\u001b[0m\u001b[32m \u001b[0m\n",
                  "text/html": "<pre style=\"white-space:pre;overflow-x:auto;line-height:normal;font-family:Menlo,'DejaVu Sans Mono',consolas,'Courier New',monospace\">Fetch all activities <span style=\"color: #008000; text-decoration-color: #008000; font-weight: bold\">[</span><span style=\"color: #008000; text-decoration-color: #008000\">✔</span><span style=\"color: #008000; text-decoration-color: #008000; font-weight: bold\">]</span><span style=\"color: #008000; text-decoration-color: #008000\"> </span><span style=\"color: #008000; text-decoration-color: #008000; font-weight: bold\">(0:00:00</span><span style=\"color: #008000; text-decoration-color: #008000\">.</span><span style=\"color: #008000; text-decoration-color: #008000; font-weight: bold\">001884</span><span style=\"color: #008000; text-decoration-color: #008000; font-weight: bold\">)</span><span style=\"color: #008000; text-decoration-color: #008000\"> </span>\n</pre>\n"
                },
                "metadata": {}
              }
            ]
          }
        },
        "8599ba16ae43491c88c29073c3965ff0": {
          "model_module": "@jupyter-widgets/base",
          "model_name": "LayoutModel",
          "model_module_version": "1.2.0",
          "state": {
            "_model_module": "@jupyter-widgets/base",
            "_model_module_version": "1.2.0",
            "_model_name": "LayoutModel",
            "_view_count": null,
            "_view_module": "@jupyter-widgets/base",
            "_view_module_version": "1.2.0",
            "_view_name": "LayoutView",
            "align_content": null,
            "align_items": null,
            "align_self": null,
            "border": null,
            "bottom": null,
            "display": null,
            "flex": null,
            "flex_flow": null,
            "grid_area": null,
            "grid_auto_columns": null,
            "grid_auto_flow": null,
            "grid_auto_rows": null,
            "grid_column": null,
            "grid_gap": null,
            "grid_row": null,
            "grid_template_areas": null,
            "grid_template_columns": null,
            "grid_template_rows": null,
            "height": null,
            "justify_content": null,
            "justify_items": null,
            "left": null,
            "margin": null,
            "max_height": null,
            "max_width": null,
            "min_height": null,
            "min_width": null,
            "object_fit": null,
            "object_position": null,
            "order": null,
            "overflow": null,
            "overflow_x": null,
            "overflow_y": null,
            "padding": null,
            "right": null,
            "top": null,
            "visibility": null,
            "width": null
          }
        },
        "c6a6e22ac65249c1a810ebf4b21f0ac5": {
          "model_module": "@jupyter-widgets/output",
          "model_name": "OutputModel",
          "model_module_version": "1.0.0",
          "state": {
            "_dom_classes": [],
            "_model_module": "@jupyter-widgets/output",
            "_model_module_version": "1.0.0",
            "_model_name": "OutputModel",
            "_view_count": null,
            "_view_module": "@jupyter-widgets/output",
            "_view_module_version": "1.0.0",
            "_view_name": "OutputView",
            "layout": "IPY_MODEL_3584f6ee6b69474799fb79bf3558d7f1",
            "msg_id": "",
            "outputs": [
              {
                "output_type": "display_data",
                "data": {
                  "text/plain": "Process all activities \u001b[1;32m[\u001b[0m\u001b[32m✔\u001b[0m\u001b[1;32m]\u001b[0m\u001b[32m \u001b[0m\u001b[1;32m(\u001b[0m\u001b[1;32m0:00:00\u001b[0m\u001b[32m.\u001b[0m\u001b[1;32m057017\u001b[0m\u001b[1;32m)\u001b[0m\u001b[32m \u001b[0m\n",
                  "text/html": "<pre style=\"white-space:pre;overflow-x:auto;line-height:normal;font-family:Menlo,'DejaVu Sans Mono',consolas,'Courier New',monospace\">Process all activities <span style=\"color: #008000; text-decoration-color: #008000; font-weight: bold\">[</span><span style=\"color: #008000; text-decoration-color: #008000\">✔</span><span style=\"color: #008000; text-decoration-color: #008000; font-weight: bold\">]</span><span style=\"color: #008000; text-decoration-color: #008000\"> </span><span style=\"color: #008000; text-decoration-color: #008000; font-weight: bold\">(0:00:00</span><span style=\"color: #008000; text-decoration-color: #008000\">.</span><span style=\"color: #008000; text-decoration-color: #008000; font-weight: bold\">057017</span><span style=\"color: #008000; text-decoration-color: #008000; font-weight: bold\">)</span><span style=\"color: #008000; text-decoration-color: #008000\"> </span>\n</pre>\n"
                },
                "metadata": {}
              }
            ]
          }
        },
        "3584f6ee6b69474799fb79bf3558d7f1": {
          "model_module": "@jupyter-widgets/base",
          "model_name": "LayoutModel",
          "model_module_version": "1.2.0",
          "state": {
            "_model_module": "@jupyter-widgets/base",
            "_model_module_version": "1.2.0",
            "_model_name": "LayoutModel",
            "_view_count": null,
            "_view_module": "@jupyter-widgets/base",
            "_view_module_version": "1.2.0",
            "_view_name": "LayoutView",
            "align_content": null,
            "align_items": null,
            "align_self": null,
            "border": null,
            "bottom": null,
            "display": null,
            "flex": null,
            "flex_flow": null,
            "grid_area": null,
            "grid_auto_columns": null,
            "grid_auto_flow": null,
            "grid_auto_rows": null,
            "grid_column": null,
            "grid_gap": null,
            "grid_row": null,
            "grid_template_areas": null,
            "grid_template_columns": null,
            "grid_template_rows": null,
            "height": null,
            "justify_content": null,
            "justify_items": null,
            "left": null,
            "margin": null,
            "max_height": null,
            "max_width": null,
            "min_height": null,
            "min_width": null,
            "object_fit": null,
            "object_position": null,
            "order": null,
            "overflow": null,
            "overflow_x": null,
            "overflow_y": null,
            "padding": null,
            "right": null,
            "top": null,
            "visibility": null,
            "width": null
          }
        },
        "5dcba9a3fa024f6885142e9eb2c629b7": {
          "model_module": "@jupyter-widgets/output",
          "model_name": "OutputModel",
          "model_module_version": "1.0.0",
          "state": {
            "_dom_classes": [],
            "_model_module": "@jupyter-widgets/output",
            "_model_module_version": "1.0.0",
            "_model_name": "OutputModel",
            "_view_count": null,
            "_view_module": "@jupyter-widgets/output",
            "_view_module_version": "1.0.0",
            "_view_name": "OutputView",
            "layout": "IPY_MODEL_9562f0fd82a94b7b98b1adc0453dee0b",
            "msg_id": "",
            "outputs": [
              {
                "output_type": "display_data",
                "data": {
                  "text/plain": "Process maintainers group \u001b[1;32m[\u001b[0m\u001b[32m✔\u001b[0m\u001b[1;32m]\u001b[0m\u001b[32m \u001b[0m\u001b[1;32m(\u001b[0m\u001b[1;32m0:00:00\u001b[0m\u001b[32m.\u001b[0m\u001b[1;32m071814\u001b[0m\u001b[1;32m)\u001b[0m\u001b[32m \u001b[0m\n",
                  "text/html": "<pre style=\"white-space:pre;overflow-x:auto;line-height:normal;font-family:Menlo,'DejaVu Sans Mono',consolas,'Courier New',monospace\">Process maintainers group <span style=\"color: #008000; text-decoration-color: #008000; font-weight: bold\">[</span><span style=\"color: #008000; text-decoration-color: #008000\">✔</span><span style=\"color: #008000; text-decoration-color: #008000; font-weight: bold\">]</span><span style=\"color: #008000; text-decoration-color: #008000\"> </span><span style=\"color: #008000; text-decoration-color: #008000; font-weight: bold\">(0:00:00</span><span style=\"color: #008000; text-decoration-color: #008000\">.</span><span style=\"color: #008000; text-decoration-color: #008000; font-weight: bold\">071814</span><span style=\"color: #008000; text-decoration-color: #008000; font-weight: bold\">)</span><span style=\"color: #008000; text-decoration-color: #008000\"> </span>\n</pre>\n"
                },
                "metadata": {}
              }
            ]
          }
        },
        "9562f0fd82a94b7b98b1adc0453dee0b": {
          "model_module": "@jupyter-widgets/base",
          "model_name": "LayoutModel",
          "model_module_version": "1.2.0",
          "state": {
            "_model_module": "@jupyter-widgets/base",
            "_model_module_version": "1.2.0",
            "_model_name": "LayoutModel",
            "_view_count": null,
            "_view_module": "@jupyter-widgets/base",
            "_view_module_version": "1.2.0",
            "_view_name": "LayoutView",
            "align_content": null,
            "align_items": null,
            "align_self": null,
            "border": null,
            "bottom": null,
            "display": null,
            "flex": null,
            "flex_flow": null,
            "grid_area": null,
            "grid_auto_columns": null,
            "grid_auto_flow": null,
            "grid_auto_rows": null,
            "grid_column": null,
            "grid_gap": null,
            "grid_row": null,
            "grid_template_areas": null,
            "grid_template_columns": null,
            "grid_template_rows": null,
            "height": null,
            "justify_content": null,
            "justify_items": null,
            "left": null,
            "margin": null,
            "max_height": null,
            "max_width": null,
            "min_height": null,
            "min_width": null,
            "object_fit": null,
            "object_position": null,
            "order": null,
            "overflow": null,
            "overflow_x": null,
            "overflow_y": null,
            "padding": null,
            "right": null,
            "top": null,
            "visibility": null,
            "width": null
          }
        },
        "c22223f6cf744443ba939a58db66202c": {
          "model_module": "@jupyter-widgets/output",
          "model_name": "OutputModel",
          "model_module_version": "1.0.0",
          "state": {
            "_dom_classes": [],
            "_model_module": "@jupyter-widgets/output",
            "_model_module_version": "1.0.0",
            "_model_name": "OutputModel",
            "_view_count": null,
            "_view_module": "@jupyter-widgets/output",
            "_view_module_version": "1.0.0",
            "_view_name": "OutputView",
            "layout": "IPY_MODEL_9ad1ce4bdf014a0d8a7c6048f90c26ee",
            "msg_id": "",
            "outputs": [
              {
                "output_type": "display_data",
                "data": {
                  "text/plain": "Filter contributors \u001b[1;32m[\u001b[0m\u001b[32m✔\u001b[0m\u001b[1;32m]\u001b[0m\u001b[32m \u001b[0m\u001b[1;32m(\u001b[0m\u001b[1;32m0:00:00\u001b[0m\u001b[32m.\u001b[0m\u001b[1;32m040290\u001b[0m\u001b[1;32m)\u001b[0m\u001b[32m \u001b[0m\n",
                  "text/html": "<pre style=\"white-space:pre;overflow-x:auto;line-height:normal;font-family:Menlo,'DejaVu Sans Mono',consolas,'Courier New',monospace\">Filter contributors <span style=\"color: #008000; text-decoration-color: #008000; font-weight: bold\">[</span><span style=\"color: #008000; text-decoration-color: #008000\">✔</span><span style=\"color: #008000; text-decoration-color: #008000; font-weight: bold\">]</span><span style=\"color: #008000; text-decoration-color: #008000\"> </span><span style=\"color: #008000; text-decoration-color: #008000; font-weight: bold\">(0:00:00</span><span style=\"color: #008000; text-decoration-color: #008000\">.</span><span style=\"color: #008000; text-decoration-color: #008000; font-weight: bold\">040290</span><span style=\"color: #008000; text-decoration-color: #008000; font-weight: bold\">)</span><span style=\"color: #008000; text-decoration-color: #008000\"> </span>\n</pre>\n"
                },
                "metadata": {}
              }
            ]
          }
        },
        "9ad1ce4bdf014a0d8a7c6048f90c26ee": {
          "model_module": "@jupyter-widgets/base",
          "model_name": "LayoutModel",
          "model_module_version": "1.2.0",
          "state": {
            "_model_module": "@jupyter-widgets/base",
            "_model_module_version": "1.2.0",
            "_model_name": "LayoutModel",
            "_view_count": null,
            "_view_module": "@jupyter-widgets/base",
            "_view_module_version": "1.2.0",
            "_view_name": "LayoutView",
            "align_content": null,
            "align_items": null,
            "align_self": null,
            "border": null,
            "bottom": null,
            "display": null,
            "flex": null,
            "flex_flow": null,
            "grid_area": null,
            "grid_auto_columns": null,
            "grid_auto_flow": null,
            "grid_auto_rows": null,
            "grid_column": null,
            "grid_gap": null,
            "grid_row": null,
            "grid_template_areas": null,
            "grid_template_columns": null,
            "grid_template_rows": null,
            "height": null,
            "justify_content": null,
            "justify_items": null,
            "left": null,
            "margin": null,
            "max_height": null,
            "max_width": null,
            "min_height": null,
            "min_width": null,
            "object_fit": null,
            "object_position": null,
            "order": null,
            "overflow": null,
            "overflow_x": null,
            "overflow_y": null,
            "padding": null,
            "right": null,
            "top": null,
            "visibility": null,
            "width": null
          }
        },
        "785f9ecb262443a5a012c88d9826d873": {
          "model_module": "@jupyter-widgets/output",
          "model_name": "OutputModel",
          "model_module_version": "1.0.0",
          "state": {
            "_dom_classes": [],
            "_model_module": "@jupyter-widgets/output",
            "_model_module_version": "1.0.0",
            "_model_name": "OutputModel",
            "_view_count": null,
            "_view_module": "@jupyter-widgets/output",
            "_view_module_version": "1.0.0",
            "_view_name": "OutputView",
            "layout": "IPY_MODEL_bb0403f138294ddeb0ad4046e2eb594b",
            "msg_id": "",
            "outputs": [
              {
                "output_type": "display_data",
                "data": {
                  "text/plain": "Build diachronic dataframe \u001b[1;32m[\u001b[0m\u001b[32m✔\u001b[0m\u001b[1;32m]\u001b[0m\u001b[32m \u001b[0m\u001b[1;32m(\u001b[0m\u001b[1;32m0:00:00\u001b[0m\u001b[32m.\u001b[0m\u001b[1;32m028040\u001b[0m\u001b[1;32m)\u001b[0m\u001b[32m \u001b[0m\n",
                  "text/html": "<pre style=\"white-space:pre;overflow-x:auto;line-height:normal;font-family:Menlo,'DejaVu Sans Mono',consolas,'Courier New',monospace\">Build diachronic dataframe <span style=\"color: #008000; text-decoration-color: #008000; font-weight: bold\">[</span><span style=\"color: #008000; text-decoration-color: #008000\">✔</span><span style=\"color: #008000; text-decoration-color: #008000; font-weight: bold\">]</span><span style=\"color: #008000; text-decoration-color: #008000\"> </span><span style=\"color: #008000; text-decoration-color: #008000; font-weight: bold\">(0:00:00</span><span style=\"color: #008000; text-decoration-color: #008000\">.</span><span style=\"color: #008000; text-decoration-color: #008000; font-weight: bold\">028040</span><span style=\"color: #008000; text-decoration-color: #008000; font-weight: bold\">)</span><span style=\"color: #008000; text-decoration-color: #008000\"> </span>\n</pre>\n"
                },
                "metadata": {}
              }
            ]
          }
        },
        "bb0403f138294ddeb0ad4046e2eb594b": {
          "model_module": "@jupyter-widgets/base",
          "model_name": "LayoutModel",
          "model_module_version": "1.2.0",
          "state": {
            "_model_module": "@jupyter-widgets/base",
            "_model_module_version": "1.2.0",
            "_model_name": "LayoutModel",
            "_view_count": null,
            "_view_module": "@jupyter-widgets/base",
            "_view_module_version": "1.2.0",
            "_view_name": "LayoutView",
            "align_content": null,
            "align_items": null,
            "align_self": null,
            "border": null,
            "bottom": null,
            "display": null,
            "flex": null,
            "flex_flow": null,
            "grid_area": null,
            "grid_auto_columns": null,
            "grid_auto_flow": null,
            "grid_auto_rows": null,
            "grid_column": null,
            "grid_gap": null,
            "grid_row": null,
            "grid_template_areas": null,
            "grid_template_columns": null,
            "grid_template_rows": null,
            "height": null,
            "justify_content": null,
            "justify_items": null,
            "left": null,
            "margin": null,
            "max_height": null,
            "max_width": null,
            "min_height": null,
            "min_width": null,
            "object_fit": null,
            "object_position": null,
            "order": null,
            "overflow": null,
            "overflow_x": null,
            "overflow_y": null,
            "padding": null,
            "right": null,
            "top": null,
            "visibility": null,
            "width": null
          }
        },
        "fae87bd906f94dcbb4e507df14f4f9e1": {
          "model_module": "@jupyter-widgets/output",
          "model_name": "OutputModel",
          "model_module_version": "1.0.0",
          "state": {
            "_dom_classes": [],
            "_model_module": "@jupyter-widgets/output",
            "_model_module_version": "1.0.0",
            "_model_name": "OutputModel",
            "_view_count": null,
            "_view_module": "@jupyter-widgets/output",
            "_view_module_version": "1.0.0",
            "_view_name": "OutputView",
            "layout": "IPY_MODEL_060f9dd5775a4eba98b45e1fa9f39c08",
            "msg_id": "",
            "outputs": []
          }
        },
        "060f9dd5775a4eba98b45e1fa9f39c08": {
          "model_module": "@jupyter-widgets/base",
          "model_name": "LayoutModel",
          "model_module_version": "1.2.0",
          "state": {
            "_model_module": "@jupyter-widgets/base",
            "_model_module_version": "1.2.0",
            "_model_name": "LayoutModel",
            "_view_count": null,
            "_view_module": "@jupyter-widgets/base",
            "_view_module_version": "1.2.0",
            "_view_name": "LayoutView",
            "align_content": null,
            "align_items": null,
            "align_self": null,
            "border": null,
            "bottom": null,
            "display": null,
            "flex": null,
            "flex_flow": null,
            "grid_area": null,
            "grid_auto_columns": null,
            "grid_auto_flow": null,
            "grid_auto_rows": null,
            "grid_column": null,
            "grid_gap": null,
            "grid_row": null,
            "grid_template_areas": null,
            "grid_template_columns": null,
            "grid_template_rows": null,
            "height": null,
            "justify_content": null,
            "justify_items": null,
            "left": null,
            "margin": null,
            "max_height": null,
            "max_width": null,
            "min_height": null,
            "min_width": null,
            "object_fit": null,
            "object_position": null,
            "order": null,
            "overflow": null,
            "overflow_x": null,
            "overflow_y": null,
            "padding": null,
            "right": null,
            "top": null,
            "visibility": null,
            "width": null
          }
        },
        "d3bafbc79fbf4d5e94a12639a41401fa": {
          "model_module": "@jupyter-widgets/output",
          "model_name": "OutputModel",
          "model_module_version": "1.0.0",
          "state": {
            "_dom_classes": [],
            "_model_module": "@jupyter-widgets/output",
            "_model_module_version": "1.0.0",
            "_model_name": "OutputModel",
            "_view_count": null,
            "_view_module": "@jupyter-widgets/output",
            "_view_module_version": "1.0.0",
            "_view_name": "OutputView",
            "layout": "IPY_MODEL_a1194837ed844f089a12738adc8c6b33",
            "msg_id": "",
            "outputs": []
          }
        },
        "a1194837ed844f089a12738adc8c6b33": {
          "model_module": "@jupyter-widgets/base",
          "model_name": "LayoutModel",
          "model_module_version": "1.2.0",
          "state": {
            "_model_module": "@jupyter-widgets/base",
            "_model_module_version": "1.2.0",
            "_model_name": "LayoutModel",
            "_view_count": null,
            "_view_module": "@jupyter-widgets/base",
            "_view_module_version": "1.2.0",
            "_view_name": "LayoutView",
            "align_content": null,
            "align_items": null,
            "align_self": null,
            "border": null,
            "bottom": null,
            "display": null,
            "flex": null,
            "flex_flow": null,
            "grid_area": null,
            "grid_auto_columns": null,
            "grid_auto_flow": null,
            "grid_auto_rows": null,
            "grid_column": null,
            "grid_gap": null,
            "grid_row": null,
            "grid_template_areas": null,
            "grid_template_columns": null,
            "grid_template_rows": null,
            "height": null,
            "justify_content": null,
            "justify_items": null,
            "left": null,
            "margin": null,
            "max_height": null,
            "max_width": null,
            "min_height": null,
            "min_width": null,
            "object_fit": null,
            "object_position": null,
            "order": null,
            "overflow": null,
            "overflow_x": null,
            "overflow_y": null,
            "padding": null,
            "right": null,
            "top": null,
            "visibility": null,
            "width": null
          }
        },
        "6014ee2fb5164d1ebc2636896a005b47": {
          "model_module": "@jupyter-widgets/output",
          "model_name": "OutputModel",
          "model_module_version": "1.0.0",
          "state": {
            "_dom_classes": [],
            "_model_module": "@jupyter-widgets/output",
            "_model_module_version": "1.0.0",
            "_model_name": "OutputModel",
            "_view_count": null,
            "_view_module": "@jupyter-widgets/output",
            "_view_module_version": "1.0.0",
            "_view_name": "OutputView",
            "layout": "IPY_MODEL_11a2c1c1e7814dc0ab1a6254ba06a320",
            "msg_id": "",
            "outputs": []
          }
        },
        "11a2c1c1e7814dc0ab1a6254ba06a320": {
          "model_module": "@jupyter-widgets/base",
          "model_name": "LayoutModel",
          "model_module_version": "1.2.0",
          "state": {
            "_model_module": "@jupyter-widgets/base",
            "_model_module_version": "1.2.0",
            "_model_name": "LayoutModel",
            "_view_count": null,
            "_view_module": "@jupyter-widgets/base",
            "_view_module_version": "1.2.0",
            "_view_name": "LayoutView",
            "align_content": null,
            "align_items": null,
            "align_self": null,
            "border": null,
            "bottom": null,
            "display": null,
            "flex": null,
            "flex_flow": null,
            "grid_area": null,
            "grid_auto_columns": null,
            "grid_auto_flow": null,
            "grid_auto_rows": null,
            "grid_column": null,
            "grid_gap": null,
            "grid_row": null,
            "grid_template_areas": null,
            "grid_template_columns": null,
            "grid_template_rows": null,
            "height": null,
            "justify_content": null,
            "justify_items": null,
            "left": null,
            "margin": null,
            "max_height": null,
            "max_width": null,
            "min_height": null,
            "min_width": null,
            "object_fit": null,
            "object_position": null,
            "order": null,
            "overflow": null,
            "overflow_x": null,
            "overflow_y": null,
            "padding": null,
            "right": null,
            "top": null,
            "visibility": null,
            "width": null
          }
        },
        "83e7d63dbfe04142aec5a6933a1fee7a": {
          "model_module": "@jupyter-widgets/output",
          "model_name": "OutputModel",
          "model_module_version": "1.0.0",
          "state": {
            "_dom_classes": [],
            "_model_module": "@jupyter-widgets/output",
            "_model_module_version": "1.0.0",
            "_model_name": "OutputModel",
            "_view_count": null,
            "_view_module": "@jupyter-widgets/output",
            "_view_module_version": "1.0.0",
            "_view_name": "OutputView",
            "layout": "IPY_MODEL_180fb7e0dea24ac882de48307efbdc3a",
            "msg_id": "",
            "outputs": []
          }
        },
        "180fb7e0dea24ac882de48307efbdc3a": {
          "model_module": "@jupyter-widgets/base",
          "model_name": "LayoutModel",
          "model_module_version": "1.2.0",
          "state": {
            "_model_module": "@jupyter-widgets/base",
            "_model_module_version": "1.2.0",
            "_model_name": "LayoutModel",
            "_view_count": null,
            "_view_module": "@jupyter-widgets/base",
            "_view_module_version": "1.2.0",
            "_view_name": "LayoutView",
            "align_content": null,
            "align_items": null,
            "align_self": null,
            "border": null,
            "bottom": null,
            "display": null,
            "flex": null,
            "flex_flow": null,
            "grid_area": null,
            "grid_auto_columns": null,
            "grid_auto_flow": null,
            "grid_auto_rows": null,
            "grid_column": null,
            "grid_gap": null,
            "grid_row": null,
            "grid_template_areas": null,
            "grid_template_columns": null,
            "grid_template_rows": null,
            "height": null,
            "justify_content": null,
            "justify_items": null,
            "left": null,
            "margin": null,
            "max_height": null,
            "max_width": null,
            "min_height": null,
            "min_width": null,
            "object_fit": null,
            "object_position": null,
            "order": null,
            "overflow": null,
            "overflow_x": null,
            "overflow_y": null,
            "padding": null,
            "right": null,
            "top": null,
            "visibility": null,
            "width": null
          }
        },
        "b247273458f34187864b3d50e3ca85be": {
          "model_module": "@jupyter-widgets/output",
          "model_name": "OutputModel",
          "model_module_version": "1.0.0",
          "state": {
            "_dom_classes": [],
            "_model_module": "@jupyter-widgets/output",
            "_model_module_version": "1.0.0",
            "_model_name": "OutputModel",
            "_view_count": null,
            "_view_module": "@jupyter-widgets/output",
            "_view_module_version": "1.0.0",
            "_view_name": "OutputView",
            "layout": "IPY_MODEL_ce5bdd78a71b421a9dff8a023e94422f",
            "msg_id": "",
            "outputs": []
          }
        },
        "ce5bdd78a71b421a9dff8a023e94422f": {
          "model_module": "@jupyter-widgets/base",
          "model_name": "LayoutModel",
          "model_module_version": "1.2.0",
          "state": {
            "_model_module": "@jupyter-widgets/base",
            "_model_module_version": "1.2.0",
            "_model_name": "LayoutModel",
            "_view_count": null,
            "_view_module": "@jupyter-widgets/base",
            "_view_module_version": "1.2.0",
            "_view_name": "LayoutView",
            "align_content": null,
            "align_items": null,
            "align_self": null,
            "border": null,
            "bottom": null,
            "display": null,
            "flex": null,
            "flex_flow": null,
            "grid_area": null,
            "grid_auto_columns": null,
            "grid_auto_flow": null,
            "grid_auto_rows": null,
            "grid_column": null,
            "grid_gap": null,
            "grid_row": null,
            "grid_template_areas": null,
            "grid_template_columns": null,
            "grid_template_rows": null,
            "height": null,
            "justify_content": null,
            "justify_items": null,
            "left": null,
            "margin": null,
            "max_height": null,
            "max_width": null,
            "min_height": null,
            "min_width": null,
            "object_fit": null,
            "object_position": null,
            "order": null,
            "overflow": null,
            "overflow_x": null,
            "overflow_y": null,
            "padding": null,
            "right": null,
            "top": null,
            "visibility": null,
            "width": null
          }
        },
        "175cb7267cd54f22b5972e8e3437ecc5": {
          "model_module": "@jupyter-widgets/output",
          "model_name": "OutputModel",
          "model_module_version": "1.0.0",
          "state": {
            "_dom_classes": [],
            "_model_module": "@jupyter-widgets/output",
            "_model_module_version": "1.0.0",
            "_model_name": "OutputModel",
            "_view_count": null,
            "_view_module": "@jupyter-widgets/output",
            "_view_module_version": "1.0.0",
            "_view_name": "OutputView",
            "layout": "IPY_MODEL_ad553a719e194d43ab632cc33e8a4c56",
            "msg_id": "",
            "outputs": []
          }
        },
        "ad553a719e194d43ab632cc33e8a4c56": {
          "model_module": "@jupyter-widgets/base",
          "model_name": "LayoutModel",
          "model_module_version": "1.2.0",
          "state": {
            "_model_module": "@jupyter-widgets/base",
            "_model_module_version": "1.2.0",
            "_model_name": "LayoutModel",
            "_view_count": null,
            "_view_module": "@jupyter-widgets/base",
            "_view_module_version": "1.2.0",
            "_view_name": "LayoutView",
            "align_content": null,
            "align_items": null,
            "align_self": null,
            "border": null,
            "bottom": null,
            "display": null,
            "flex": null,
            "flex_flow": null,
            "grid_area": null,
            "grid_auto_columns": null,
            "grid_auto_flow": null,
            "grid_auto_rows": null,
            "grid_column": null,
            "grid_gap": null,
            "grid_row": null,
            "grid_template_areas": null,
            "grid_template_columns": null,
            "grid_template_rows": null,
            "height": null,
            "justify_content": null,
            "justify_items": null,
            "left": null,
            "margin": null,
            "max_height": null,
            "max_width": null,
            "min_height": null,
            "min_width": null,
            "object_fit": null,
            "object_position": null,
            "order": null,
            "overflow": null,
            "overflow_x": null,
            "overflow_y": null,
            "padding": null,
            "right": null,
            "top": null,
            "visibility": null,
            "width": null
          }
        },
        "870f07ec14ae4bc4b5cdfc0fd5e0e0e7": {
          "model_module": "@jupyter-widgets/output",
          "model_name": "OutputModel",
          "model_module_version": "1.0.0",
          "state": {
            "_dom_classes": [],
            "_model_module": "@jupyter-widgets/output",
            "_model_module_version": "1.0.0",
            "_model_name": "OutputModel",
            "_view_count": null,
            "_view_module": "@jupyter-widgets/output",
            "_view_module_version": "1.0.0",
            "_view_name": "OutputView",
            "layout": "IPY_MODEL_55bf76fad0b54b97bfe42c6ee497f381",
            "msg_id": "",
            "outputs": []
          }
        },
        "55bf76fad0b54b97bfe42c6ee497f381": {
          "model_module": "@jupyter-widgets/base",
          "model_name": "LayoutModel",
          "model_module_version": "1.2.0",
          "state": {
            "_model_module": "@jupyter-widgets/base",
            "_model_module_version": "1.2.0",
            "_model_name": "LayoutModel",
            "_view_count": null,
            "_view_module": "@jupyter-widgets/base",
            "_view_module_version": "1.2.0",
            "_view_name": "LayoutView",
            "align_content": null,
            "align_items": null,
            "align_self": null,
            "border": null,
            "bottom": null,
            "display": null,
            "flex": null,
            "flex_flow": null,
            "grid_area": null,
            "grid_auto_columns": null,
            "grid_auto_flow": null,
            "grid_auto_rows": null,
            "grid_column": null,
            "grid_gap": null,
            "grid_row": null,
            "grid_template_areas": null,
            "grid_template_columns": null,
            "grid_template_rows": null,
            "height": null,
            "justify_content": null,
            "justify_items": null,
            "left": null,
            "margin": null,
            "max_height": null,
            "max_width": null,
            "min_height": null,
            "min_width": null,
            "object_fit": null,
            "object_position": null,
            "order": null,
            "overflow": null,
            "overflow_x": null,
            "overflow_y": null,
            "padding": null,
            "right": null,
            "top": null,
            "visibility": null,
            "width": null
          }
        },
        "c669842f0590438daf3eeb64d1d6a53b": {
          "model_module": "@jupyter-widgets/output",
          "model_name": "OutputModel",
          "model_module_version": "1.0.0",
          "state": {
            "_dom_classes": [],
            "_model_module": "@jupyter-widgets/output",
            "_model_module_version": "1.0.0",
            "_model_name": "OutputModel",
            "_view_count": null,
            "_view_module": "@jupyter-widgets/output",
            "_view_module_version": "1.0.0",
            "_view_name": "OutputView",
            "layout": "IPY_MODEL_7ca73f1d78384d4aa2ce2a3cfe676a24",
            "msg_id": "",
            "outputs": []
          }
        },
        "7ca73f1d78384d4aa2ce2a3cfe676a24": {
          "model_module": "@jupyter-widgets/base",
          "model_name": "LayoutModel",
          "model_module_version": "1.2.0",
          "state": {
            "_model_module": "@jupyter-widgets/base",
            "_model_module_version": "1.2.0",
            "_model_name": "LayoutModel",
            "_view_count": null,
            "_view_module": "@jupyter-widgets/base",
            "_view_module_version": "1.2.0",
            "_view_name": "LayoutView",
            "align_content": null,
            "align_items": null,
            "align_self": null,
            "border": null,
            "bottom": null,
            "display": null,
            "flex": null,
            "flex_flow": null,
            "grid_area": null,
            "grid_auto_columns": null,
            "grid_auto_flow": null,
            "grid_auto_rows": null,
            "grid_column": null,
            "grid_gap": null,
            "grid_row": null,
            "grid_template_areas": null,
            "grid_template_columns": null,
            "grid_template_rows": null,
            "height": null,
            "justify_content": null,
            "justify_items": null,
            "left": null,
            "margin": null,
            "max_height": null,
            "max_width": null,
            "min_height": null,
            "min_width": null,
            "object_fit": null,
            "object_position": null,
            "order": null,
            "overflow": null,
            "overflow_x": null,
            "overflow_y": null,
            "padding": null,
            "right": null,
            "top": null,
            "visibility": null,
            "width": null
          }
        },
        "bdf036d1ec4a4017a4bda772c7f886dc": {
          "model_module": "@jupyter-widgets/output",
          "model_name": "OutputModel",
          "model_module_version": "1.0.0",
          "state": {
            "_dom_classes": [],
            "_model_module": "@jupyter-widgets/output",
            "_model_module_version": "1.0.0",
            "_model_name": "OutputModel",
            "_view_count": null,
            "_view_module": "@jupyter-widgets/output",
            "_view_module_version": "1.0.0",
            "_view_name": "OutputView",
            "layout": "IPY_MODEL_54d32b15736c4973829b575cd055bf30",
            "msg_id": "",
            "outputs": []
          }
        },
        "54d32b15736c4973829b575cd055bf30": {
          "model_module": "@jupyter-widgets/base",
          "model_name": "LayoutModel",
          "model_module_version": "1.2.0",
          "state": {
            "_model_module": "@jupyter-widgets/base",
            "_model_module_version": "1.2.0",
            "_model_name": "LayoutModel",
            "_view_count": null,
            "_view_module": "@jupyter-widgets/base",
            "_view_module_version": "1.2.0",
            "_view_name": "LayoutView",
            "align_content": null,
            "align_items": null,
            "align_self": null,
            "border": null,
            "bottom": null,
            "display": null,
            "flex": null,
            "flex_flow": null,
            "grid_area": null,
            "grid_auto_columns": null,
            "grid_auto_flow": null,
            "grid_auto_rows": null,
            "grid_column": null,
            "grid_gap": null,
            "grid_row": null,
            "grid_template_areas": null,
            "grid_template_columns": null,
            "grid_template_rows": null,
            "height": null,
            "justify_content": null,
            "justify_items": null,
            "left": null,
            "margin": null,
            "max_height": null,
            "max_width": null,
            "min_height": null,
            "min_width": null,
            "object_fit": null,
            "object_position": null,
            "order": null,
            "overflow": null,
            "overflow_x": null,
            "overflow_y": null,
            "padding": null,
            "right": null,
            "top": null,
            "visibility": null,
            "width": null
          }
        },
        "cd8164c488ef4350a68ade2fd79943c5": {
          "model_module": "@jupyter-widgets/output",
          "model_name": "OutputModel",
          "model_module_version": "1.0.0",
          "state": {
            "_dom_classes": [],
            "_model_module": "@jupyter-widgets/output",
            "_model_module_version": "1.0.0",
            "_model_name": "OutputModel",
            "_view_count": null,
            "_view_module": "@jupyter-widgets/output",
            "_view_module_version": "1.0.0",
            "_view_name": "OutputView",
            "layout": "IPY_MODEL_3d26bb1f72304b249b5a441b9e6b67b8",
            "msg_id": "",
            "outputs": []
          }
        },
        "3d26bb1f72304b249b5a441b9e6b67b8": {
          "model_module": "@jupyter-widgets/base",
          "model_name": "LayoutModel",
          "model_module_version": "1.2.0",
          "state": {
            "_model_module": "@jupyter-widgets/base",
            "_model_module_version": "1.2.0",
            "_model_name": "LayoutModel",
            "_view_count": null,
            "_view_module": "@jupyter-widgets/base",
            "_view_module_version": "1.2.0",
            "_view_name": "LayoutView",
            "align_content": null,
            "align_items": null,
            "align_self": null,
            "border": null,
            "bottom": null,
            "display": null,
            "flex": null,
            "flex_flow": null,
            "grid_area": null,
            "grid_auto_columns": null,
            "grid_auto_flow": null,
            "grid_auto_rows": null,
            "grid_column": null,
            "grid_gap": null,
            "grid_row": null,
            "grid_template_areas": null,
            "grid_template_columns": null,
            "grid_template_rows": null,
            "height": null,
            "justify_content": null,
            "justify_items": null,
            "left": null,
            "margin": null,
            "max_height": null,
            "max_width": null,
            "min_height": null,
            "min_width": null,
            "object_fit": null,
            "object_position": null,
            "order": null,
            "overflow": null,
            "overflow_x": null,
            "overflow_y": null,
            "padding": null,
            "right": null,
            "top": null,
            "visibility": null,
            "width": null
          }
        },
        "1ad183c102f2464b8ac0261989bef95c": {
          "model_module": "@jupyter-widgets/output",
          "model_name": "OutputModel",
          "model_module_version": "1.0.0",
          "state": {
            "_dom_classes": [],
            "_model_module": "@jupyter-widgets/output",
            "_model_module_version": "1.0.0",
            "_model_name": "OutputModel",
            "_view_count": null,
            "_view_module": "@jupyter-widgets/output",
            "_view_module_version": "1.0.0",
            "_view_name": "OutputView",
            "layout": "IPY_MODEL_cf7f12502d8e4b538de42de03f5ffeff",
            "msg_id": "",
            "outputs": []
          }
        },
        "cf7f12502d8e4b538de42de03f5ffeff": {
          "model_module": "@jupyter-widgets/base",
          "model_name": "LayoutModel",
          "model_module_version": "1.2.0",
          "state": {
            "_model_module": "@jupyter-widgets/base",
            "_model_module_version": "1.2.0",
            "_model_name": "LayoutModel",
            "_view_count": null,
            "_view_module": "@jupyter-widgets/base",
            "_view_module_version": "1.2.0",
            "_view_name": "LayoutView",
            "align_content": null,
            "align_items": null,
            "align_self": null,
            "border": null,
            "bottom": null,
            "display": null,
            "flex": null,
            "flex_flow": null,
            "grid_area": null,
            "grid_auto_columns": null,
            "grid_auto_flow": null,
            "grid_auto_rows": null,
            "grid_column": null,
            "grid_gap": null,
            "grid_row": null,
            "grid_template_areas": null,
            "grid_template_columns": null,
            "grid_template_rows": null,
            "height": null,
            "justify_content": null,
            "justify_items": null,
            "left": null,
            "margin": null,
            "max_height": null,
            "max_width": null,
            "min_height": null,
            "min_width": null,
            "object_fit": null,
            "object_position": null,
            "order": null,
            "overflow": null,
            "overflow_x": null,
            "overflow_y": null,
            "padding": null,
            "right": null,
            "top": null,
            "visibility": null,
            "width": null
          }
        },
        "d14da62ec08a445d9575ce291f84b897": {
          "model_module": "@jupyter-widgets/output",
          "model_name": "OutputModel",
          "model_module_version": "1.0.0",
          "state": {
            "_dom_classes": [],
            "_model_module": "@jupyter-widgets/output",
            "_model_module_version": "1.0.0",
            "_model_name": "OutputModel",
            "_view_count": null,
            "_view_module": "@jupyter-widgets/output",
            "_view_module_version": "1.0.0",
            "_view_name": "OutputView",
            "layout": "IPY_MODEL_74b66174de754a5bac4653a490b379fb",
            "msg_id": "",
            "outputs": []
          }
        },
        "74b66174de754a5bac4653a490b379fb": {
          "model_module": "@jupyter-widgets/base",
          "model_name": "LayoutModel",
          "model_module_version": "1.2.0",
          "state": {
            "_model_module": "@jupyter-widgets/base",
            "_model_module_version": "1.2.0",
            "_model_name": "LayoutModel",
            "_view_count": null,
            "_view_module": "@jupyter-widgets/base",
            "_view_module_version": "1.2.0",
            "_view_name": "LayoutView",
            "align_content": null,
            "align_items": null,
            "align_self": null,
            "border": null,
            "bottom": null,
            "display": null,
            "flex": null,
            "flex_flow": null,
            "grid_area": null,
            "grid_auto_columns": null,
            "grid_auto_flow": null,
            "grid_auto_rows": null,
            "grid_column": null,
            "grid_gap": null,
            "grid_row": null,
            "grid_template_areas": null,
            "grid_template_columns": null,
            "grid_template_rows": null,
            "height": null,
            "justify_content": null,
            "justify_items": null,
            "left": null,
            "margin": null,
            "max_height": null,
            "max_width": null,
            "min_height": null,
            "min_width": null,
            "object_fit": null,
            "object_position": null,
            "order": null,
            "overflow": null,
            "overflow_x": null,
            "overflow_y": null,
            "padding": null,
            "right": null,
            "top": null,
            "visibility": null,
            "width": null
          }
        },
        "00d755ad903448cc9eacd0296a61601d": {
          "model_module": "@jupyter-widgets/output",
          "model_name": "OutputModel",
          "model_module_version": "1.0.0",
          "state": {
            "_dom_classes": [],
            "_model_module": "@jupyter-widgets/output",
            "_model_module_version": "1.0.0",
            "_model_name": "OutputModel",
            "_view_count": null,
            "_view_module": "@jupyter-widgets/output",
            "_view_module_version": "1.0.0",
            "_view_name": "OutputView",
            "layout": "IPY_MODEL_0365d9a9dd034c3c8de8a9fbf1aefc05",
            "msg_id": "",
            "outputs": []
          }
        },
        "0365d9a9dd034c3c8de8a9fbf1aefc05": {
          "model_module": "@jupyter-widgets/base",
          "model_name": "LayoutModel",
          "model_module_version": "1.2.0",
          "state": {
            "_model_module": "@jupyter-widgets/base",
            "_model_module_version": "1.2.0",
            "_model_name": "LayoutModel",
            "_view_count": null,
            "_view_module": "@jupyter-widgets/base",
            "_view_module_version": "1.2.0",
            "_view_name": "LayoutView",
            "align_content": null,
            "align_items": null,
            "align_self": null,
            "border": null,
            "bottom": null,
            "display": null,
            "flex": null,
            "flex_flow": null,
            "grid_area": null,
            "grid_auto_columns": null,
            "grid_auto_flow": null,
            "grid_auto_rows": null,
            "grid_column": null,
            "grid_gap": null,
            "grid_row": null,
            "grid_template_areas": null,
            "grid_template_columns": null,
            "grid_template_rows": null,
            "height": null,
            "justify_content": null,
            "justify_items": null,
            "left": null,
            "margin": null,
            "max_height": null,
            "max_width": null,
            "min_height": null,
            "min_width": null,
            "object_fit": null,
            "object_position": null,
            "order": null,
            "overflow": null,
            "overflow_x": null,
            "overflow_y": null,
            "padding": null,
            "right": null,
            "top": null,
            "visibility": null,
            "width": null
          }
        },
        "ab263c6debb64dd780ff736c2bf382aa": {
          "model_module": "@jupyter-widgets/output",
          "model_name": "OutputModel",
          "model_module_version": "1.0.0",
          "state": {
            "_dom_classes": [],
            "_model_module": "@jupyter-widgets/output",
            "_model_module_version": "1.0.0",
            "_model_name": "OutputModel",
            "_view_count": null,
            "_view_module": "@jupyter-widgets/output",
            "_view_module_version": "1.0.0",
            "_view_name": "OutputView",
            "layout": "IPY_MODEL_280d6c976c8a4de8bf3122b7d64cc114",
            "msg_id": "",
            "outputs": []
          }
        },
        "280d6c976c8a4de8bf3122b7d64cc114": {
          "model_module": "@jupyter-widgets/base",
          "model_name": "LayoutModel",
          "model_module_version": "1.2.0",
          "state": {
            "_model_module": "@jupyter-widgets/base",
            "_model_module_version": "1.2.0",
            "_model_name": "LayoutModel",
            "_view_count": null,
            "_view_module": "@jupyter-widgets/base",
            "_view_module_version": "1.2.0",
            "_view_name": "LayoutView",
            "align_content": null,
            "align_items": null,
            "align_self": null,
            "border": null,
            "bottom": null,
            "display": null,
            "flex": null,
            "flex_flow": null,
            "grid_area": null,
            "grid_auto_columns": null,
            "grid_auto_flow": null,
            "grid_auto_rows": null,
            "grid_column": null,
            "grid_gap": null,
            "grid_row": null,
            "grid_template_areas": null,
            "grid_template_columns": null,
            "grid_template_rows": null,
            "height": null,
            "justify_content": null,
            "justify_items": null,
            "left": null,
            "margin": null,
            "max_height": null,
            "max_width": null,
            "min_height": null,
            "min_width": null,
            "object_fit": null,
            "object_position": null,
            "order": null,
            "overflow": null,
            "overflow_x": null,
            "overflow_y": null,
            "padding": null,
            "right": null,
            "top": null,
            "visibility": null,
            "width": null
          }
        },
        "d641629d0fad4b9c88285b0766d58539": {
          "model_module": "@jupyter-widgets/output",
          "model_name": "OutputModel",
          "model_module_version": "1.0.0",
          "state": {
            "_dom_classes": [],
            "_model_module": "@jupyter-widgets/output",
            "_model_module_version": "1.0.0",
            "_model_name": "OutputModel",
            "_view_count": null,
            "_view_module": "@jupyter-widgets/output",
            "_view_module_version": "1.0.0",
            "_view_name": "OutputView",
            "layout": "IPY_MODEL_49c7b2fd335248a6a843b5333e589c28",
            "msg_id": "",
            "outputs": []
          }
        },
        "49c7b2fd335248a6a843b5333e589c28": {
          "model_module": "@jupyter-widgets/base",
          "model_name": "LayoutModel",
          "model_module_version": "1.2.0",
          "state": {
            "_model_module": "@jupyter-widgets/base",
            "_model_module_version": "1.2.0",
            "_model_name": "LayoutModel",
            "_view_count": null,
            "_view_module": "@jupyter-widgets/base",
            "_view_module_version": "1.2.0",
            "_view_name": "LayoutView",
            "align_content": null,
            "align_items": null,
            "align_self": null,
            "border": null,
            "bottom": null,
            "display": null,
            "flex": null,
            "flex_flow": null,
            "grid_area": null,
            "grid_auto_columns": null,
            "grid_auto_flow": null,
            "grid_auto_rows": null,
            "grid_column": null,
            "grid_gap": null,
            "grid_row": null,
            "grid_template_areas": null,
            "grid_template_columns": null,
            "grid_template_rows": null,
            "height": null,
            "justify_content": null,
            "justify_items": null,
            "left": null,
            "margin": null,
            "max_height": null,
            "max_width": null,
            "min_height": null,
            "min_width": null,
            "object_fit": null,
            "object_position": null,
            "order": null,
            "overflow": null,
            "overflow_x": null,
            "overflow_y": null,
            "padding": null,
            "right": null,
            "top": null,
            "visibility": null,
            "width": null
          }
        },
        "b860016d263049e68f5170608139efe0": {
          "model_module": "@jupyter-widgets/output",
          "model_name": "OutputModel",
          "model_module_version": "1.0.0",
          "state": {
            "_dom_classes": [],
            "_model_module": "@jupyter-widgets/output",
            "_model_module_version": "1.0.0",
            "_model_name": "OutputModel",
            "_view_count": null,
            "_view_module": "@jupyter-widgets/output",
            "_view_module_version": "1.0.0",
            "_view_name": "OutputView",
            "layout": "IPY_MODEL_4022d34e0a1f483695ab8eb2215d12a4",
            "msg_id": "",
            "outputs": []
          }
        },
        "4022d34e0a1f483695ab8eb2215d12a4": {
          "model_module": "@jupyter-widgets/base",
          "model_name": "LayoutModel",
          "model_module_version": "1.2.0",
          "state": {
            "_model_module": "@jupyter-widgets/base",
            "_model_module_version": "1.2.0",
            "_model_name": "LayoutModel",
            "_view_count": null,
            "_view_module": "@jupyter-widgets/base",
            "_view_module_version": "1.2.0",
            "_view_name": "LayoutView",
            "align_content": null,
            "align_items": null,
            "align_self": null,
            "border": null,
            "bottom": null,
            "display": null,
            "flex": null,
            "flex_flow": null,
            "grid_area": null,
            "grid_auto_columns": null,
            "grid_auto_flow": null,
            "grid_auto_rows": null,
            "grid_column": null,
            "grid_gap": null,
            "grid_row": null,
            "grid_template_areas": null,
            "grid_template_columns": null,
            "grid_template_rows": null,
            "height": null,
            "justify_content": null,
            "justify_items": null,
            "left": null,
            "margin": null,
            "max_height": null,
            "max_width": null,
            "min_height": null,
            "min_width": null,
            "object_fit": null,
            "object_position": null,
            "order": null,
            "overflow": null,
            "overflow_x": null,
            "overflow_y": null,
            "padding": null,
            "right": null,
            "top": null,
            "visibility": null,
            "width": null
          }
        },
        "50f3d3297a6549d3943682cf9aa54fc2": {
          "model_module": "@jupyter-widgets/output",
          "model_name": "OutputModel",
          "model_module_version": "1.0.0",
          "state": {
            "_dom_classes": [],
            "_model_module": "@jupyter-widgets/output",
            "_model_module_version": "1.0.0",
            "_model_name": "OutputModel",
            "_view_count": null,
            "_view_module": "@jupyter-widgets/output",
            "_view_module_version": "1.0.0",
            "_view_name": "OutputView",
            "layout": "IPY_MODEL_5e49201a2bc14089948039af39e37a75",
            "msg_id": "",
            "outputs": []
          }
        },
        "5e49201a2bc14089948039af39e37a75": {
          "model_module": "@jupyter-widgets/base",
          "model_name": "LayoutModel",
          "model_module_version": "1.2.0",
          "state": {
            "_model_module": "@jupyter-widgets/base",
            "_model_module_version": "1.2.0",
            "_model_name": "LayoutModel",
            "_view_count": null,
            "_view_module": "@jupyter-widgets/base",
            "_view_module_version": "1.2.0",
            "_view_name": "LayoutView",
            "align_content": null,
            "align_items": null,
            "align_self": null,
            "border": null,
            "bottom": null,
            "display": null,
            "flex": null,
            "flex_flow": null,
            "grid_area": null,
            "grid_auto_columns": null,
            "grid_auto_flow": null,
            "grid_auto_rows": null,
            "grid_column": null,
            "grid_gap": null,
            "grid_row": null,
            "grid_template_areas": null,
            "grid_template_columns": null,
            "grid_template_rows": null,
            "height": null,
            "justify_content": null,
            "justify_items": null,
            "left": null,
            "margin": null,
            "max_height": null,
            "max_width": null,
            "min_height": null,
            "min_width": null,
            "object_fit": null,
            "object_position": null,
            "order": null,
            "overflow": null,
            "overflow_x": null,
            "overflow_y": null,
            "padding": null,
            "right": null,
            "top": null,
            "visibility": null,
            "width": null
          }
        }
      }
    }
  },
  "cells": [
    {
      "cell_type": "markdown",
      "metadata": {
        "id": "view-in-github",
        "colab_type": "text"
      },
      "source": [
        "<a href=\"https://colab.research.google.com/github/SRI-CSL/signal-public/blob/main/demo/03_activity_evolution_trajectory_aw2v.ipynb\" target=\"_parent\"><img src=\"https://colab.research.google.com/assets/colab-badge.svg\" alt=\"Open In Colab\"/></a>"
      ]
    },
    {
      "cell_type": "markdown",
      "source": [
        "# Software Introspection for Signaling Emergent Cyber-Social Operations (SIGNAL) \n",
        "\n",
        "## `LKML Activity Context Evolution`\n",
        "\n",
        "**In support of DARPA AIE Hybrid AI to Protect Integrity of Open-Source Code (SocialCyber)**\n",
        "\n",
        "This project is under the GPL3 License. See the [LICENSE](https://www.gnu.org/licenses/gpl-3.0.en.html) file for the full license text.\n",
        "\n",
        "**Copyright 2022 SRI International.**"
      ],
      "metadata": {
        "id": "h-ZGxd7nkrJj"
      }
    },
    {
      "cell_type": "markdown",
      "source": [
        "# 🏃‍♀️ Quickstart"
      ],
      "metadata": {
        "id": "Dyox3EZ8kMx3"
      }
    },
    {
      "cell_type": "markdown",
      "source": [
        "## 🪄 Install `needed` libraries\n"
      ],
      "metadata": {
        "id": "_He5GHPnAjp2"
      }
    },
    {
      "cell_type": "code",
      "source": [
        "# Quietly clone the funcs repo\n",
        "!git clone https://github.com/hsanchez/funcs.git &> /dev/null"
      ],
      "metadata": {
        "id": "xwSGOr-TTXtg"
      },
      "execution_count": null,
      "outputs": []
    },
    {
      "cell_type": "code",
      "source": [
        "import os\n",
        "os.chdir(f'./funcs')\n",
        "# !git fetch\n",
        "# !git checkout fixes_trust_in_motion &> /dev/null"
      ],
      "metadata": {
        "id": "JKvrA7PzTYC8"
      },
      "execution_count": null,
      "outputs": []
    },
    {
      "cell_type": "code",
      "source": [
        "import funcs as utils"
      ],
      "metadata": {
        "id": "ZA-8czV7Te96"
      },
      "execution_count": null,
      "outputs": []
    },
    {
      "cell_type": "code",
      "source": [
        "import sys\n",
        "import matplotlib.pyplot as plt\n",
        "import pandas as pd\n",
        "import numpy as np"
      ],
      "metadata": {
        "id": "eCLdhEdTzD_i"
      },
      "execution_count": null,
      "outputs": []
    },
    {
      "cell_type": "code",
      "source": [
        "import warnings"
      ],
      "metadata": {
        "id": "0A44SVVLzmWU"
      },
      "execution_count": null,
      "outputs": []
    },
    {
      "cell_type": "code",
      "source": [
        "try:\n",
        "  # Huggingface's Accelerator\n",
        "  from accelerate import Accelerator\n",
        "except:\n",
        "  !pip install accelerate\n",
        "  from accelerate import Accelerator"
      ],
      "metadata": {
        "id": "ny24-9ro9rM7"
      },
      "execution_count": null,
      "outputs": []
    },
    {
      "cell_type": "markdown",
      "source": [
        "## ✍ Set `needed` configuration"
      ],
      "metadata": {
        "id": "KLtxHnM8zMmi"
      }
    },
    {
      "cell_type": "code",
      "source": [
        "warnings.filterwarnings('ignore')"
      ],
      "metadata": {
        "id": "YlA3DSr4zhr4"
      },
      "execution_count": null,
      "outputs": []
    },
    {
      "cell_type": "code",
      "source": [
        "%matplotlib inline\n",
        "%config InlineBackend.figure_format='retina'"
      ],
      "metadata": {
        "id": "dNUqnnzHzQtq"
      },
      "execution_count": null,
      "outputs": []
    },
    {
      "cell_type": "code",
      "source": [
        "from IPython import get_ipython\n",
        "utils.common.set_default_vars(os.environ, ipython_val=get_ipython())"
      ],
      "metadata": {
        "id": "QVr_PfMIzclb"
      },
      "execution_count": null,
      "outputs": []
    },
    {
      "cell_type": "code",
      "source": [
        "utils.dl.set_random_seed(2222)"
      ],
      "metadata": {
        "id": "CdeRtS89ze4E"
      },
      "execution_count": null,
      "outputs": []
    },
    {
      "cell_type": "markdown",
      "source": [
        "## 🧹 Data cleaning and preparation\n",
        "\n",
        "This section takes the developer activity data we have generated in Milestone 3 (using factor analysis) and prepare them to temporal embedding generation.\n",
        "\n",
        "These developer data have been relabeled to account for both the developer who performed the activity and the topology of communication structure (e.g., socio-technical graph created from email threads). E.g., a `code_contribution` activity performed by a developer named `John Doe` within stringy email thread would be relabeled as `code_contribution_John_Doe_stringy`.  "
      ],
      "metadata": {
        "id": "ElEdlNRBOSJ9"
      }
    },
    {
      "cell_type": "code",
      "source": [
        "activity_data_file = \"../data/activity_triplets_V1_02182022.csv'\"\n",
        "maintainers_data_file = \"../data/maintainers.csv'\"\n",
        "if utils.common.is_run_in_colab():\n",
        "  activity_data_file = utils.gdrive.get_dataset('activity_triplets_V1_02182022', False)\n",
        "  maintainers_data_file = utils.gdrive.get_dataset('maintainers', False)\n",
        "\n",
        "activity_df = pd.read_csv(activity_data_file, sep='\\t')\n",
        "activity_df = activity_df.loc[:, ~activity_df.columns.str.contains('^Unnamed')]\n",
        "activity_df['sent_time'] = pd.to_datetime(activity_df['sent_time'], utc=True)\n",
        "# sort the content of the DataFrame by 'sent_time'\n",
        "activity_df = activity_df.sort_values(by=['sent_time'])\n",
        "maintainer_df = pd.read_csv(maintainers_data_file,sep='\\t')\n",
        "maintainer_df['val'] = maintainer_df['val'].str.replace(' ','_')"
      ],
      "metadata": {
        "id": "9x-m4lp9qUzM"
      },
      "execution_count": null,
      "outputs": []
    },
    {
      "cell_type": "code",
      "source": [
        "activity_df.head(1)"
      ],
      "metadata": {
        "id": "xVJQqxWurB-Z",
        "colab": {
          "base_uri": "https://localhost:8080/",
          "height": 179
        },
        "outputId": "0046039f-948d-4dca-81d4-3e390ab08db2"
      },
      "execution_count": null,
      "outputs": [
        {
          "output_type": "execute_result",
          "data": {
            "text/plain": [
              "       sender_id                 sent_time  Code Contribution  \\\n",
              "24091          0 2020-08-20 09:35:52+00:00           0.262744   \n",
              "\n",
              "       Knowledge Sharing  Patch Posting  Progress Control  \\\n",
              "24091           0.002416       0.000969          0.032951   \n",
              "\n",
              "       Acknowledgement and Response  Composite Index     Rank Status  comb_2  \\\n",
              "24091                      0.022704         0.321784  24092.0  Below       2   \n",
              "\n",
              "       comb_3  is_triage  is_bug_fix  is_controversial     activity_label  \\\n",
              "24091       5          0           0                 1  Code Contribution   \n",
              "\n",
              "                       project_thread           sendername_thread  \\\n",
              "24091  project_name_undefined_unknown  Greg_Kroah-Hartman_unknown   \n",
              "\n",
              "                                            triplet_one  \\\n",
              "24091  Code_Contribution_project_name_undefined_unknown   \n",
              "\n",
              "                                        triplet_two  \n",
              "24091  Code_Contribution_Greg_Kroah-Hartman_unknown  "
            ],
            "text/html": [
              "\n",
              "  <div id=\"df-0f191583-e5fb-4971-8153-b5fd348b87e9\">\n",
              "    <div class=\"colab-df-container\">\n",
              "      <div>\n",
              "<style scoped>\n",
              "    .dataframe tbody tr th:only-of-type {\n",
              "        vertical-align: middle;\n",
              "    }\n",
              "\n",
              "    .dataframe tbody tr th {\n",
              "        vertical-align: top;\n",
              "    }\n",
              "\n",
              "    .dataframe thead th {\n",
              "        text-align: right;\n",
              "    }\n",
              "</style>\n",
              "<table border=\"1\" class=\"dataframe\">\n",
              "  <thead>\n",
              "    <tr style=\"text-align: right;\">\n",
              "      <th></th>\n",
              "      <th>sender_id</th>\n",
              "      <th>sent_time</th>\n",
              "      <th>Code Contribution</th>\n",
              "      <th>Knowledge Sharing</th>\n",
              "      <th>Patch Posting</th>\n",
              "      <th>Progress Control</th>\n",
              "      <th>Acknowledgement and Response</th>\n",
              "      <th>Composite Index</th>\n",
              "      <th>Rank</th>\n",
              "      <th>Status</th>\n",
              "      <th>comb_2</th>\n",
              "      <th>comb_3</th>\n",
              "      <th>is_triage</th>\n",
              "      <th>is_bug_fix</th>\n",
              "      <th>is_controversial</th>\n",
              "      <th>activity_label</th>\n",
              "      <th>project_thread</th>\n",
              "      <th>sendername_thread</th>\n",
              "      <th>triplet_one</th>\n",
              "      <th>triplet_two</th>\n",
              "    </tr>\n",
              "  </thead>\n",
              "  <tbody>\n",
              "    <tr>\n",
              "      <th>24091</th>\n",
              "      <td>0</td>\n",
              "      <td>2020-08-20 09:35:52+00:00</td>\n",
              "      <td>0.262744</td>\n",
              "      <td>0.002416</td>\n",
              "      <td>0.000969</td>\n",
              "      <td>0.032951</td>\n",
              "      <td>0.022704</td>\n",
              "      <td>0.321784</td>\n",
              "      <td>24092.0</td>\n",
              "      <td>Below</td>\n",
              "      <td>2</td>\n",
              "      <td>5</td>\n",
              "      <td>0</td>\n",
              "      <td>0</td>\n",
              "      <td>1</td>\n",
              "      <td>Code Contribution</td>\n",
              "      <td>project_name_undefined_unknown</td>\n",
              "      <td>Greg_Kroah-Hartman_unknown</td>\n",
              "      <td>Code_Contribution_project_name_undefined_unknown</td>\n",
              "      <td>Code_Contribution_Greg_Kroah-Hartman_unknown</td>\n",
              "    </tr>\n",
              "  </tbody>\n",
              "</table>\n",
              "</div>\n",
              "      <button class=\"colab-df-convert\" onclick=\"convertToInteractive('df-0f191583-e5fb-4971-8153-b5fd348b87e9')\"\n",
              "              title=\"Convert this dataframe to an interactive table.\"\n",
              "              style=\"display:none;\">\n",
              "        \n",
              "  <svg xmlns=\"http://www.w3.org/2000/svg\" height=\"24px\"viewBox=\"0 0 24 24\"\n",
              "       width=\"24px\">\n",
              "    <path d=\"M0 0h24v24H0V0z\" fill=\"none\"/>\n",
              "    <path d=\"M18.56 5.44l.94 2.06.94-2.06 2.06-.94-2.06-.94-.94-2.06-.94 2.06-2.06.94zm-11 1L8.5 8.5l.94-2.06 2.06-.94-2.06-.94L8.5 2.5l-.94 2.06-2.06.94zm10 10l.94 2.06.94-2.06 2.06-.94-2.06-.94-.94-2.06-.94 2.06-2.06.94z\"/><path d=\"M17.41 7.96l-1.37-1.37c-.4-.4-.92-.59-1.43-.59-.52 0-1.04.2-1.43.59L10.3 9.45l-7.72 7.72c-.78.78-.78 2.05 0 2.83L4 21.41c.39.39.9.59 1.41.59.51 0 1.02-.2 1.41-.59l7.78-7.78 2.81-2.81c.8-.78.8-2.07 0-2.86zM5.41 20L4 18.59l7.72-7.72 1.47 1.35L5.41 20z\"/>\n",
              "  </svg>\n",
              "      </button>\n",
              "      \n",
              "  <style>\n",
              "    .colab-df-container {\n",
              "      display:flex;\n",
              "      flex-wrap:wrap;\n",
              "      gap: 12px;\n",
              "    }\n",
              "\n",
              "    .colab-df-convert {\n",
              "      background-color: #E8F0FE;\n",
              "      border: none;\n",
              "      border-radius: 50%;\n",
              "      cursor: pointer;\n",
              "      display: none;\n",
              "      fill: #1967D2;\n",
              "      height: 32px;\n",
              "      padding: 0 0 0 0;\n",
              "      width: 32px;\n",
              "    }\n",
              "\n",
              "    .colab-df-convert:hover {\n",
              "      background-color: #E2EBFA;\n",
              "      box-shadow: 0px 1px 2px rgba(60, 64, 67, 0.3), 0px 1px 3px 1px rgba(60, 64, 67, 0.15);\n",
              "      fill: #174EA6;\n",
              "    }\n",
              "\n",
              "    [theme=dark] .colab-df-convert {\n",
              "      background-color: #3B4455;\n",
              "      fill: #D2E3FC;\n",
              "    }\n",
              "\n",
              "    [theme=dark] .colab-df-convert:hover {\n",
              "      background-color: #434B5C;\n",
              "      box-shadow: 0px 1px 3px 1px rgba(0, 0, 0, 0.15);\n",
              "      filter: drop-shadow(0px 1px 2px rgba(0, 0, 0, 0.3));\n",
              "      fill: #FFFFFF;\n",
              "    }\n",
              "  </style>\n",
              "\n",
              "      <script>\n",
              "        const buttonEl =\n",
              "          document.querySelector('#df-0f191583-e5fb-4971-8153-b5fd348b87e9 button.colab-df-convert');\n",
              "        buttonEl.style.display =\n",
              "          google.colab.kernel.accessAllowed ? 'block' : 'none';\n",
              "\n",
              "        async function convertToInteractive(key) {\n",
              "          const element = document.querySelector('#df-0f191583-e5fb-4971-8153-b5fd348b87e9');\n",
              "          const dataTable =\n",
              "            await google.colab.kernel.invokeFunction('convertToInteractive',\n",
              "                                                     [key], {});\n",
              "          if (!dataTable) return;\n",
              "\n",
              "          const docLinkHtml = 'Like what you see? Visit the ' +\n",
              "            '<a target=\"_blank\" href=https://colab.research.google.com/notebooks/data_table.ipynb>data table notebook</a>'\n",
              "            + ' to learn more about interactive tables.';\n",
              "          element.innerHTML = '';\n",
              "          dataTable['output_type'] = 'display_data';\n",
              "          await google.colab.output.renderOutput(dataTable, element);\n",
              "          const docLink = document.createElement('div');\n",
              "          docLink.innerHTML = docLinkHtml;\n",
              "          element.appendChild(docLink);\n",
              "        }\n",
              "      </script>\n",
              "    </div>\n",
              "  </div>\n",
              "  "
            ]
          },
          "metadata": {},
          "execution_count": 12
        }
      ]
    },
    {
      "cell_type": "code",
      "source": [
        "maintainer_df.head(1)"
      ],
      "metadata": {
        "id": "brb1afChr92Y",
        "colab": {
          "base_uri": "https://localhost:8080/",
          "height": 80
        },
        "outputId": "eb233e59-c538-4355-b39a-99a6e7775ae8"
      },
      "execution_count": null,
      "outputs": [
        {
          "output_type": "execute_result",
          "data": {
            "text/plain": [
              "            val\n",
              "0  Dong_Aisheng"
            ],
            "text/html": [
              "\n",
              "  <div id=\"df-4a999a6b-0934-427d-9f4a-90f7e57a30b4\">\n",
              "    <div class=\"colab-df-container\">\n",
              "      <div>\n",
              "<style scoped>\n",
              "    .dataframe tbody tr th:only-of-type {\n",
              "        vertical-align: middle;\n",
              "    }\n",
              "\n",
              "    .dataframe tbody tr th {\n",
              "        vertical-align: top;\n",
              "    }\n",
              "\n",
              "    .dataframe thead th {\n",
              "        text-align: right;\n",
              "    }\n",
              "</style>\n",
              "<table border=\"1\" class=\"dataframe\">\n",
              "  <thead>\n",
              "    <tr style=\"text-align: right;\">\n",
              "      <th></th>\n",
              "      <th>val</th>\n",
              "    </tr>\n",
              "  </thead>\n",
              "  <tbody>\n",
              "    <tr>\n",
              "      <th>0</th>\n",
              "      <td>Dong_Aisheng</td>\n",
              "    </tr>\n",
              "  </tbody>\n",
              "</table>\n",
              "</div>\n",
              "      <button class=\"colab-df-convert\" onclick=\"convertToInteractive('df-4a999a6b-0934-427d-9f4a-90f7e57a30b4')\"\n",
              "              title=\"Convert this dataframe to an interactive table.\"\n",
              "              style=\"display:none;\">\n",
              "        \n",
              "  <svg xmlns=\"http://www.w3.org/2000/svg\" height=\"24px\"viewBox=\"0 0 24 24\"\n",
              "       width=\"24px\">\n",
              "    <path d=\"M0 0h24v24H0V0z\" fill=\"none\"/>\n",
              "    <path d=\"M18.56 5.44l.94 2.06.94-2.06 2.06-.94-2.06-.94-.94-2.06-.94 2.06-2.06.94zm-11 1L8.5 8.5l.94-2.06 2.06-.94-2.06-.94L8.5 2.5l-.94 2.06-2.06.94zm10 10l.94 2.06.94-2.06 2.06-.94-2.06-.94-.94-2.06-.94 2.06-2.06.94z\"/><path d=\"M17.41 7.96l-1.37-1.37c-.4-.4-.92-.59-1.43-.59-.52 0-1.04.2-1.43.59L10.3 9.45l-7.72 7.72c-.78.78-.78 2.05 0 2.83L4 21.41c.39.39.9.59 1.41.59.51 0 1.02-.2 1.41-.59l7.78-7.78 2.81-2.81c.8-.78.8-2.07 0-2.86zM5.41 20L4 18.59l7.72-7.72 1.47 1.35L5.41 20z\"/>\n",
              "  </svg>\n",
              "      </button>\n",
              "      \n",
              "  <style>\n",
              "    .colab-df-container {\n",
              "      display:flex;\n",
              "      flex-wrap:wrap;\n",
              "      gap: 12px;\n",
              "    }\n",
              "\n",
              "    .colab-df-convert {\n",
              "      background-color: #E8F0FE;\n",
              "      border: none;\n",
              "      border-radius: 50%;\n",
              "      cursor: pointer;\n",
              "      display: none;\n",
              "      fill: #1967D2;\n",
              "      height: 32px;\n",
              "      padding: 0 0 0 0;\n",
              "      width: 32px;\n",
              "    }\n",
              "\n",
              "    .colab-df-convert:hover {\n",
              "      background-color: #E2EBFA;\n",
              "      box-shadow: 0px 1px 2px rgba(60, 64, 67, 0.3), 0px 1px 3px 1px rgba(60, 64, 67, 0.15);\n",
              "      fill: #174EA6;\n",
              "    }\n",
              "\n",
              "    [theme=dark] .colab-df-convert {\n",
              "      background-color: #3B4455;\n",
              "      fill: #D2E3FC;\n",
              "    }\n",
              "\n",
              "    [theme=dark] .colab-df-convert:hover {\n",
              "      background-color: #434B5C;\n",
              "      box-shadow: 0px 1px 3px 1px rgba(0, 0, 0, 0.15);\n",
              "      filter: drop-shadow(0px 1px 2px rgba(0, 0, 0, 0.3));\n",
              "      fill: #FFFFFF;\n",
              "    }\n",
              "  </style>\n",
              "\n",
              "      <script>\n",
              "        const buttonEl =\n",
              "          document.querySelector('#df-4a999a6b-0934-427d-9f4a-90f7e57a30b4 button.colab-df-convert');\n",
              "        buttonEl.style.display =\n",
              "          google.colab.kernel.accessAllowed ? 'block' : 'none';\n",
              "\n",
              "        async function convertToInteractive(key) {\n",
              "          const element = document.querySelector('#df-4a999a6b-0934-427d-9f4a-90f7e57a30b4');\n",
              "          const dataTable =\n",
              "            await google.colab.kernel.invokeFunction('convertToInteractive',\n",
              "                                                     [key], {});\n",
              "          if (!dataTable) return;\n",
              "\n",
              "          const docLinkHtml = 'Like what you see? Visit the ' +\n",
              "            '<a target=\"_blank\" href=https://colab.research.google.com/notebooks/data_table.ipynb>data table notebook</a>'\n",
              "            + ' to learn more about interactive tables.';\n",
              "          element.innerHTML = '';\n",
              "          dataTable['output_type'] = 'display_data';\n",
              "          await google.colab.output.renderOutput(dataTable, element);\n",
              "          const docLink = document.createElement('div');\n",
              "          docLink.innerHTML = docLinkHtml;\n",
              "          element.appendChild(docLink);\n",
              "        }\n",
              "      </script>\n",
              "    </div>\n",
              "  </div>\n",
              "  "
            ]
          },
          "metadata": {},
          "execution_count": 13
        }
      ]
    },
    {
      "cell_type": "markdown",
      "source": [
        "### Get developer activities performed by inviduals involved in the Hypocrite Commits incident.\n",
        "\n",
        "First, we start with the University of Minnesota inviduals and then with a few LK maintainers (Selected because their activities occurred within the same timeframe)."
      ],
      "metadata": {
        "id": "8PA2DxMx5bPy"
      }
    },
    {
      "cell_type": "code",
      "source": [
        "contributor_prefixes = ['Qiushi', 'Aditya_', 'George_Acosta', 'Acosta', 'James_Bond', 'Qiushi_Wu']\n",
        "maintainers_prefixes = ['Kangjie', 'Herbert_Xu', 'David_S._Miller', 'Christophe_JAILLET', \n",
        "                        'Gustavo_A._R._Silva', 'Phani_Kiran_Hemadri', 'Greg_Kroah-Hartman', \n",
        "                        'Jiri_Slaby', 'Andrew_Morton', 'Kees_Cook', 'Michel_Lespinasse', \n",
        "                        'Vlastimil_Babka', 'Denis_Efremov', 'Ben_Hutchings', 'Jiri_Slaby', \n",
        "                        'Matt_Porter', 'Alexandre_Bounine', 'John_Hubbard', \n",
        "                        'Madhuparna_Bhowmik', 'Dan_Carpenter', 'Miquel_Raynal', 'Mike_Waychison',\n",
        "                        'Ahmad_Fatoum', 'Al_Cooper', 'Alain_Volmat', 'Alan_Stern',\n",
        "                        'Alan_Stern', 'Alban_Bedel', 'Alex_Elder', 'Alex_Eldern',\n",
        "                        'Alex_Shi', 'Andreas_Gruenbacher', 'Andrew_Jeffery', 'Andrew_Lunn',\n",
        "                        'Viresh_Kumar', 'Vivek_Goyal', 'Vladimir_Ol', 'Vladimir_Oltea', 'Vladimir_Vid',\n",
        "                        'Vladimir_Zapols', 'Vlastimil_Babka_', 'Waiman_Long', 'Wei_Liu_u', 'Wei_Xu', 'Weili_Qian',]"
      ],
      "metadata": {
        "id": "KsOP4nS4_x7E"
      },
      "execution_count": null,
      "outputs": []
    },
    {
      "cell_type": "code",
      "source": [
        "augmented_activity_df, report = utils.data.build_diachronic_dataframe(\n",
        "    activity_df, \n",
        "    maintainer_df, \n",
        "    contributor_prefixes=contributor_prefixes, maintainer_prefixes=maintainers_prefixes)"
      ],
      "metadata": {
        "id": "iYtjsqWx_HEI",
        "colab": {
          "base_uri": "https://localhost:8080/",
          "height": 690,
          "referenced_widgets": [
            "cbf74a0126d3427a94a7b81d6b4c14c5",
            "8599ba16ae43491c88c29073c3965ff0",
            "c6a6e22ac65249c1a810ebf4b21f0ac5",
            "3584f6ee6b69474799fb79bf3558d7f1",
            "5dcba9a3fa024f6885142e9eb2c629b7",
            "9562f0fd82a94b7b98b1adc0453dee0b",
            "c22223f6cf744443ba939a58db66202c",
            "9ad1ce4bdf014a0d8a7c6048f90c26ee",
            "785f9ecb262443a5a012c88d9826d873",
            "bb0403f138294ddeb0ad4046e2eb594b"
          ]
        },
        "outputId": "27f17e14-0b3b-45d5-827a-e9173f2895a6"
      },
      "execution_count": null,
      "outputs": [
        {
          "output_type": "display_data",
          "data": {
            "text/plain": [
              "Output()"
            ],
            "application/vnd.jupyter.widget-view+json": {
              "version_major": 2,
              "version_minor": 0,
              "model_id": "cbf74a0126d3427a94a7b81d6b4c14c5"
            }
          },
          "metadata": {}
        },
        {
          "output_type": "display_data",
          "data": {
            "text/plain": [],
            "text/html": [
              "<pre style=\"white-space:pre;overflow-x:auto;line-height:normal;font-family:Menlo,'DejaVu Sans Mono',consolas,'Courier New',monospace\"></pre>\n"
            ]
          },
          "metadata": {}
        },
        {
          "output_type": "display_data",
          "data": {
            "text/plain": [
              "Output()"
            ],
            "application/vnd.jupyter.widget-view+json": {
              "version_major": 2,
              "version_minor": 0,
              "model_id": "c6a6e22ac65249c1a810ebf4b21f0ac5"
            }
          },
          "metadata": {}
        },
        {
          "output_type": "display_data",
          "data": {
            "text/plain": [],
            "text/html": [
              "<pre style=\"white-space:pre;overflow-x:auto;line-height:normal;font-family:Menlo,'DejaVu Sans Mono',consolas,'Courier New',monospace\"></pre>\n"
            ]
          },
          "metadata": {}
        },
        {
          "output_type": "display_data",
          "data": {
            "text/plain": [
              "Output()"
            ],
            "application/vnd.jupyter.widget-view+json": {
              "version_major": 2,
              "version_minor": 0,
              "model_id": "5dcba9a3fa024f6885142e9eb2c629b7"
            }
          },
          "metadata": {}
        },
        {
          "output_type": "display_data",
          "data": {
            "text/plain": [],
            "text/html": [
              "<pre style=\"white-space:pre;overflow-x:auto;line-height:normal;font-family:Menlo,'DejaVu Sans Mono',consolas,'Courier New',monospace\"></pre>\n"
            ]
          },
          "metadata": {}
        },
        {
          "output_type": "display_data",
          "data": {
            "text/plain": [
              "Output()"
            ],
            "application/vnd.jupyter.widget-view+json": {
              "version_major": 2,
              "version_minor": 0,
              "model_id": "c22223f6cf744443ba939a58db66202c"
            }
          },
          "metadata": {}
        },
        {
          "output_type": "display_data",
          "data": {
            "text/plain": [],
            "text/html": [
              "<pre style=\"white-space:pre;overflow-x:auto;line-height:normal;font-family:Menlo,'DejaVu Sans Mono',consolas,'Courier New',monospace\"></pre>\n"
            ]
          },
          "metadata": {}
        },
        {
          "output_type": "display_data",
          "data": {
            "text/plain": [
              "Output()"
            ],
            "application/vnd.jupyter.widget-view+json": {
              "version_major": 2,
              "version_minor": 0,
              "model_id": "785f9ecb262443a5a012c88d9826d873"
            }
          },
          "metadata": {}
        },
        {
          "output_type": "display_data",
          "data": {
            "text/plain": [],
            "text/html": [
              "<pre style=\"white-space:pre;overflow-x:auto;line-height:normal;font-family:Menlo,'DejaVu Sans Mono',consolas,'Courier New',monospace\"></pre>\n"
            ]
          },
          "metadata": {}
        },
        {
          "output_type": "display_data",
          "data": {
            "text/plain": [
              "<Figure size 1440x720 with 1 Axes>"
            ],
            "image/png": "[encoded data removed]"
          },
          "metadata": {
            "image/png": {
              "width": 1168,
              "height": 588
            },
            "needs_background": "light"
          }
        }
      ]
    },
    {
      "cell_type": "code",
      "source": [
        "report.metrics"
      ],
      "metadata": {
        "id": "trvNh9lF_HIR",
        "colab": {
          "base_uri": "https://localhost:8080/",
          "height": 80
        },
        "outputId": "1e468e45-848f-49a5-8f89-e85642d6bd34"
      },
      "execution_count": null,
      "outputs": [
        {
          "output_type": "execute_result",
          "data": {
            "text/plain": [
              "                StartPeriod                 EndPeriod  \\\n",
              "0 2020-08-20 09:35:52+00:00 2020-11-23 13:50:52+00:00   \n",
              "\n",
              "   ContributorActivityCount  MaintainerActivityCount  ContributorCount  \\\n",
              "0                         3                       50                 4   \n",
              "\n",
              "   MaintainerCount  \n",
              "0               29  "
            ],
            "text/html": [
              "\n",
              "  <div id=\"df-7f68c378-8955-4e4f-8843-ed3223f0f4e7\">\n",
              "    <div class=\"colab-df-container\">\n",
              "      <div>\n",
              "<style scoped>\n",
              "    .dataframe tbody tr th:only-of-type {\n",
              "        vertical-align: middle;\n",
              "    }\n",
              "\n",
              "    .dataframe tbody tr th {\n",
              "        vertical-align: top;\n",
              "    }\n",
              "\n",
              "    .dataframe thead th {\n",
              "        text-align: right;\n",
              "    }\n",
              "</style>\n",
              "<table border=\"1\" class=\"dataframe\">\n",
              "  <thead>\n",
              "    <tr style=\"text-align: right;\">\n",
              "      <th></th>\n",
              "      <th>StartPeriod</th>\n",
              "      <th>EndPeriod</th>\n",
              "      <th>ContributorActivityCount</th>\n",
              "      <th>MaintainerActivityCount</th>\n",
              "      <th>ContributorCount</th>\n",
              "      <th>MaintainerCount</th>\n",
              "    </tr>\n",
              "  </thead>\n",
              "  <tbody>\n",
              "    <tr>\n",
              "      <th>0</th>\n",
              "      <td>2020-08-20 09:35:52+00:00</td>\n",
              "      <td>2020-11-23 13:50:52+00:00</td>\n",
              "      <td>3</td>\n",
              "      <td>50</td>\n",
              "      <td>4</td>\n",
              "      <td>29</td>\n",
              "    </tr>\n",
              "  </tbody>\n",
              "</table>\n",
              "</div>\n",
              "      <button class=\"colab-df-convert\" onclick=\"convertToInteractive('df-7f68c378-8955-4e4f-8843-ed3223f0f4e7')\"\n",
              "              title=\"Convert this dataframe to an interactive table.\"\n",
              "              style=\"display:none;\">\n",
              "        \n",
              "  <svg xmlns=\"http://www.w3.org/2000/svg\" height=\"24px\"viewBox=\"0 0 24 24\"\n",
              "       width=\"24px\">\n",
              "    <path d=\"M0 0h24v24H0V0z\" fill=\"none\"/>\n",
              "    <path d=\"M18.56 5.44l.94 2.06.94-2.06 2.06-.94-2.06-.94-.94-2.06-.94 2.06-2.06.94zm-11 1L8.5 8.5l.94-2.06 2.06-.94-2.06-.94L8.5 2.5l-.94 2.06-2.06.94zm10 10l.94 2.06.94-2.06 2.06-.94-2.06-.94-.94-2.06-.94 2.06-2.06.94z\"/><path d=\"M17.41 7.96l-1.37-1.37c-.4-.4-.92-.59-1.43-.59-.52 0-1.04.2-1.43.59L10.3 9.45l-7.72 7.72c-.78.78-.78 2.05 0 2.83L4 21.41c.39.39.9.59 1.41.59.51 0 1.02-.2 1.41-.59l7.78-7.78 2.81-2.81c.8-.78.8-2.07 0-2.86zM5.41 20L4 18.59l7.72-7.72 1.47 1.35L5.41 20z\"/>\n",
              "  </svg>\n",
              "      </button>\n",
              "      \n",
              "  <style>\n",
              "    .colab-df-container {\n",
              "      display:flex;\n",
              "      flex-wrap:wrap;\n",
              "      gap: 12px;\n",
              "    }\n",
              "\n",
              "    .colab-df-convert {\n",
              "      background-color: #E8F0FE;\n",
              "      border: none;\n",
              "      border-radius: 50%;\n",
              "      cursor: pointer;\n",
              "      display: none;\n",
              "      fill: #1967D2;\n",
              "      height: 32px;\n",
              "      padding: 0 0 0 0;\n",
              "      width: 32px;\n",
              "    }\n",
              "\n",
              "    .colab-df-convert:hover {\n",
              "      background-color: #E2EBFA;\n",
              "      box-shadow: 0px 1px 2px rgba(60, 64, 67, 0.3), 0px 1px 3px 1px rgba(60, 64, 67, 0.15);\n",
              "      fill: #174EA6;\n",
              "    }\n",
              "\n",
              "    [theme=dark] .colab-df-convert {\n",
              "      background-color: #3B4455;\n",
              "      fill: #D2E3FC;\n",
              "    }\n",
              "\n",
              "    [theme=dark] .colab-df-convert:hover {\n",
              "      background-color: #434B5C;\n",
              "      box-shadow: 0px 1px 3px 1px rgba(0, 0, 0, 0.15);\n",
              "      filter: drop-shadow(0px 1px 2px rgba(0, 0, 0, 0.3));\n",
              "      fill: #FFFFFF;\n",
              "    }\n",
              "  </style>\n",
              "\n",
              "      <script>\n",
              "        const buttonEl =\n",
              "          document.querySelector('#df-7f68c378-8955-4e4f-8843-ed3223f0f4e7 button.colab-df-convert');\n",
              "        buttonEl.style.display =\n",
              "          google.colab.kernel.accessAllowed ? 'block' : 'none';\n",
              "\n",
              "        async function convertToInteractive(key) {\n",
              "          const element = document.querySelector('#df-7f68c378-8955-4e4f-8843-ed3223f0f4e7');\n",
              "          const dataTable =\n",
              "            await google.colab.kernel.invokeFunction('convertToInteractive',\n",
              "                                                     [key], {});\n",
              "          if (!dataTable) return;\n",
              "\n",
              "          const docLinkHtml = 'Like what you see? Visit the ' +\n",
              "            '<a target=\"_blank\" href=https://colab.research.google.com/notebooks/data_table.ipynb>data table notebook</a>'\n",
              "            + ' to learn more about interactive tables.';\n",
              "          element.innerHTML = '';\n",
              "          dataTable['output_type'] = 'display_data';\n",
              "          await google.colab.output.renderOutput(dataTable, element);\n",
              "          const docLink = document.createElement('div');\n",
              "          docLink.innerHTML = docLinkHtml;\n",
              "          element.appendChild(docLink);\n",
              "        }\n",
              "      </script>\n",
              "    </div>\n",
              "  </div>\n",
              "  "
            ]
          },
          "metadata": {},
          "execution_count": 16
        }
      ]
    },
    {
      "cell_type": "code",
      "source": [
        "report.contributor_activities"
      ],
      "metadata": {
        "id": "IZEnXMF4_HLs",
        "colab": {
          "base_uri": "https://localhost:8080/"
        },
        "outputId": "cedef34b-7e90-41b7-f093-437e0a86ee0f"
      },
      "execution_count": null,
      "outputs": [
        {
          "output_type": "execute_result",
          "data": {
            "text/plain": [
              "array(['Code_Contribution_Aditya_unknown',\n",
              "       'Code_Contribution_George_Acosta_unknown',\n",
              "       'Code_Contribution_James_Bond_unknown'], dtype='<U101')"
            ]
          },
          "metadata": {},
          "execution_count": 17
        }
      ]
    },
    {
      "cell_type": "code",
      "source": [
        "report.maintainer_activities[0]"
      ],
      "metadata": {
        "id": "mbGilHTIRD1d",
        "colab": {
          "base_uri": "https://localhost:8080/",
          "height": 36
        },
        "outputId": "9c20cbce-ac24-4bf4-efb6-587c3eaf1b18"
      },
      "execution_count": null,
      "outputs": [
        {
          "output_type": "execute_result",
          "data": {
            "text/plain": [
              "'Acknowledgement_and_Response_Greg_Kroah-Hartman_unknown'"
            ],
            "application/vnd.google.colaboratory.intrinsic+json": {
              "type": "string"
            }
          },
          "metadata": {},
          "execution_count": 18
        }
      ]
    },
    {
      "cell_type": "code",
      "source": [
        "augmented_activity_df.info()"
      ],
      "metadata": {
        "id": "RiNdaBDgSFAD",
        "colab": {
          "base_uri": "https://localhost:8080/"
        },
        "outputId": "e15aad2c-0e2b-4f29-b056-a9c993a3f3ee"
      },
      "execution_count": null,
      "outputs": [
        {
          "output_type": "stream",
          "name": "stdout",
          "text": [
            "<class 'pandas.core.frame.DataFrame'>\n",
            "Int64Index: 5999 entries, 24091 to 883\n",
            "Data columns (total 3 columns):\n",
            " #   Column       Non-Null Count  Dtype              \n",
            "---  ------       --------------  -----              \n",
            " 0   sender_id    5999 non-null   int64              \n",
            " 1   sent_time    5999 non-null   datetime64[ns, UTC]\n",
            " 2   triplet_two  5999 non-null   object             \n",
            "dtypes: datetime64[ns, UTC](1), int64(1), object(1)\n",
            "memory usage: 187.5+ KB\n"
          ]
        }
      ]
    },
    {
      "cell_type": "code",
      "source": [
        "act2idx, idx2act, act2abbr, abbr2act = report.build_indices()"
      ],
      "metadata": {
        "id": "Tu1Hz3TsRX0z"
      },
      "execution_count": null,
      "outputs": []
    },
    {
      "cell_type": "code",
      "source": [
        "utils.common.take_from_dict(1, act2idx)"
      ],
      "metadata": {
        "id": "Xxct1CxSRX3t",
        "colab": {
          "base_uri": "https://localhost:8080/"
        },
        "outputId": "9a29d1f3-1bfb-440f-8c0f-6e1fb5a66a04"
      },
      "execution_count": null,
      "outputs": [
        {
          "output_type": "execute_result",
          "data": {
            "text/plain": [
              "[('Acknowledgement_and_Response_Greg_Kroah-Hartman_unknown', 0)]"
            ]
          },
          "metadata": {},
          "execution_count": 21
        }
      ]
    },
    {
      "cell_type": "code",
      "source": [
        "augmented_activity_df"
      ],
      "metadata": {
        "colab": {
          "base_uri": "https://localhost:8080/",
          "height": 423
        },
        "id": "yyPq42AysHrf",
        "outputId": "c66526c3-9550-4b62-be29-1aae8db00d6b"
      },
      "execution_count": null,
      "outputs": [
        {
          "output_type": "execute_result",
          "data": {
            "text/plain": [
              "       sender_id                 sent_time  \\\n",
              "24091          0 2020-08-20 09:35:52+00:00   \n",
              "24807          0 2020-08-20 09:35:55+00:00   \n",
              "22403          0 2020-08-20 09:36:02+00:00   \n",
              "24838          0 2020-08-20 09:36:06+00:00   \n",
              "23953          0 2020-08-20 09:36:09+00:00   \n",
              "...          ...                       ...   \n",
              "1050           0 2020-11-23 13:34:43+00:00   \n",
              "1304           0 2020-11-23 13:35:08+00:00   \n",
              "899            0 2020-11-23 13:35:33+00:00   \n",
              "1324           0 2020-11-23 13:35:33+00:00   \n",
              "883            0 2020-11-23 13:50:52+00:00   \n",
              "\n",
              "                                        triplet_two  \n",
              "24091  Code_Contribution_Greg_Kroah-Hartman_unknown  \n",
              "24807  Code_Contribution_Greg_Kroah-Hartman_unknown  \n",
              "22403  Code_Contribution_Greg_Kroah-Hartman_unknown  \n",
              "24838  Code_Contribution_Greg_Kroah-Hartman_unknown  \n",
              "23953  Code_Contribution_Greg_Kroah-Hartman_unknown  \n",
              "...                                             ...  \n",
              "1050   Code_Contribution_Greg_Kroah-Hartman_unknown  \n",
              "1304   Code_Contribution_Greg_Kroah-Hartman_unknown  \n",
              "899    Code_Contribution_Greg_Kroah-Hartman_unknown  \n",
              "1324   Code_Contribution_Greg_Kroah-Hartman_unknown  \n",
              "883       Code_Contribution_Greg_Kroah-Hartman_tree  \n",
              "\n",
              "[5999 rows x 3 columns]"
            ],
            "text/html": [
              "\n",
              "  <div id=\"df-af242d99-2d35-452c-b797-212234659ae0\">\n",
              "    <div class=\"colab-df-container\">\n",
              "      <div>\n",
              "<style scoped>\n",
              "    .dataframe tbody tr th:only-of-type {\n",
              "        vertical-align: middle;\n",
              "    }\n",
              "\n",
              "    .dataframe tbody tr th {\n",
              "        vertical-align: top;\n",
              "    }\n",
              "\n",
              "    .dataframe thead th {\n",
              "        text-align: right;\n",
              "    }\n",
              "</style>\n",
              "<table border=\"1\" class=\"dataframe\">\n",
              "  <thead>\n",
              "    <tr style=\"text-align: right;\">\n",
              "      <th></th>\n",
              "      <th>sender_id</th>\n",
              "      <th>sent_time</th>\n",
              "      <th>triplet_two</th>\n",
              "    </tr>\n",
              "  </thead>\n",
              "  <tbody>\n",
              "    <tr>\n",
              "      <th>24091</th>\n",
              "      <td>0</td>\n",
              "      <td>2020-08-20 09:35:52+00:00</td>\n",
              "      <td>Code_Contribution_Greg_Kroah-Hartman_unknown</td>\n",
              "    </tr>\n",
              "    <tr>\n",
              "      <th>24807</th>\n",
              "      <td>0</td>\n",
              "      <td>2020-08-20 09:35:55+00:00</td>\n",
              "      <td>Code_Contribution_Greg_Kroah-Hartman_unknown</td>\n",
              "    </tr>\n",
              "    <tr>\n",
              "      <th>22403</th>\n",
              "      <td>0</td>\n",
              "      <td>2020-08-20 09:36:02+00:00</td>\n",
              "      <td>Code_Contribution_Greg_Kroah-Hartman_unknown</td>\n",
              "    </tr>\n",
              "    <tr>\n",
              "      <th>24838</th>\n",
              "      <td>0</td>\n",
              "      <td>2020-08-20 09:36:06+00:00</td>\n",
              "      <td>Code_Contribution_Greg_Kroah-Hartman_unknown</td>\n",
              "    </tr>\n",
              "    <tr>\n",
              "      <th>23953</th>\n",
              "      <td>0</td>\n",
              "      <td>2020-08-20 09:36:09+00:00</td>\n",
              "      <td>Code_Contribution_Greg_Kroah-Hartman_unknown</td>\n",
              "    </tr>\n",
              "    <tr>\n",
              "      <th>...</th>\n",
              "      <td>...</td>\n",
              "      <td>...</td>\n",
              "      <td>...</td>\n",
              "    </tr>\n",
              "    <tr>\n",
              "      <th>1050</th>\n",
              "      <td>0</td>\n",
              "      <td>2020-11-23 13:34:43+00:00</td>\n",
              "      <td>Code_Contribution_Greg_Kroah-Hartman_unknown</td>\n",
              "    </tr>\n",
              "    <tr>\n",
              "      <th>1304</th>\n",
              "      <td>0</td>\n",
              "      <td>2020-11-23 13:35:08+00:00</td>\n",
              "      <td>Code_Contribution_Greg_Kroah-Hartman_unknown</td>\n",
              "    </tr>\n",
              "    <tr>\n",
              "      <th>899</th>\n",
              "      <td>0</td>\n",
              "      <td>2020-11-23 13:35:33+00:00</td>\n",
              "      <td>Code_Contribution_Greg_Kroah-Hartman_unknown</td>\n",
              "    </tr>\n",
              "    <tr>\n",
              "      <th>1324</th>\n",
              "      <td>0</td>\n",
              "      <td>2020-11-23 13:35:33+00:00</td>\n",
              "      <td>Code_Contribution_Greg_Kroah-Hartman_unknown</td>\n",
              "    </tr>\n",
              "    <tr>\n",
              "      <th>883</th>\n",
              "      <td>0</td>\n",
              "      <td>2020-11-23 13:50:52+00:00</td>\n",
              "      <td>Code_Contribution_Greg_Kroah-Hartman_tree</td>\n",
              "    </tr>\n",
              "  </tbody>\n",
              "</table>\n",
              "<p>5999 rows × 3 columns</p>\n",
              "</div>\n",
              "      <button class=\"colab-df-convert\" onclick=\"convertToInteractive('df-af242d99-2d35-452c-b797-212234659ae0')\"\n",
              "              title=\"Convert this dataframe to an interactive table.\"\n",
              "              style=\"display:none;\">\n",
              "        \n",
              "  <svg xmlns=\"http://www.w3.org/2000/svg\" height=\"24px\"viewBox=\"0 0 24 24\"\n",
              "       width=\"24px\">\n",
              "    <path d=\"M0 0h24v24H0V0z\" fill=\"none\"/>\n",
              "    <path d=\"M18.56 5.44l.94 2.06.94-2.06 2.06-.94-2.06-.94-.94-2.06-.94 2.06-2.06.94zm-11 1L8.5 8.5l.94-2.06 2.06-.94-2.06-.94L8.5 2.5l-.94 2.06-2.06.94zm10 10l.94 2.06.94-2.06 2.06-.94-2.06-.94-.94-2.06-.94 2.06-2.06.94z\"/><path d=\"M17.41 7.96l-1.37-1.37c-.4-.4-.92-.59-1.43-.59-.52 0-1.04.2-1.43.59L10.3 9.45l-7.72 7.72c-.78.78-.78 2.05 0 2.83L4 21.41c.39.39.9.59 1.41.59.51 0 1.02-.2 1.41-.59l7.78-7.78 2.81-2.81c.8-.78.8-2.07 0-2.86zM5.41 20L4 18.59l7.72-7.72 1.47 1.35L5.41 20z\"/>\n",
              "  </svg>\n",
              "      </button>\n",
              "      \n",
              "  <style>\n",
              "    .colab-df-container {\n",
              "      display:flex;\n",
              "      flex-wrap:wrap;\n",
              "      gap: 12px;\n",
              "    }\n",
              "\n",
              "    .colab-df-convert {\n",
              "      background-color: #E8F0FE;\n",
              "      border: none;\n",
              "      border-radius: 50%;\n",
              "      cursor: pointer;\n",
              "      display: none;\n",
              "      fill: #1967D2;\n",
              "      height: 32px;\n",
              "      padding: 0 0 0 0;\n",
              "      width: 32px;\n",
              "    }\n",
              "\n",
              "    .colab-df-convert:hover {\n",
              "      background-color: #E2EBFA;\n",
              "      box-shadow: 0px 1px 2px rgba(60, 64, 67, 0.3), 0px 1px 3px 1px rgba(60, 64, 67, 0.15);\n",
              "      fill: #174EA6;\n",
              "    }\n",
              "\n",
              "    [theme=dark] .colab-df-convert {\n",
              "      background-color: #3B4455;\n",
              "      fill: #D2E3FC;\n",
              "    }\n",
              "\n",
              "    [theme=dark] .colab-df-convert:hover {\n",
              "      background-color: #434B5C;\n",
              "      box-shadow: 0px 1px 3px 1px rgba(0, 0, 0, 0.15);\n",
              "      filter: drop-shadow(0px 1px 2px rgba(0, 0, 0, 0.3));\n",
              "      fill: #FFFFFF;\n",
              "    }\n",
              "  </style>\n",
              "\n",
              "      <script>\n",
              "        const buttonEl =\n",
              "          document.querySelector('#df-af242d99-2d35-452c-b797-212234659ae0 button.colab-df-convert');\n",
              "        buttonEl.style.display =\n",
              "          google.colab.kernel.accessAllowed ? 'block' : 'none';\n",
              "\n",
              "        async function convertToInteractive(key) {\n",
              "          const element = document.querySelector('#df-af242d99-2d35-452c-b797-212234659ae0');\n",
              "          const dataTable =\n",
              "            await google.colab.kernel.invokeFunction('convertToInteractive',\n",
              "                                                     [key], {});\n",
              "          if (!dataTable) return;\n",
              "\n",
              "          const docLinkHtml = 'Like what you see? Visit the ' +\n",
              "            '<a target=\"_blank\" href=https://colab.research.google.com/notebooks/data_table.ipynb>data table notebook</a>'\n",
              "            + ' to learn more about interactive tables.';\n",
              "          element.innerHTML = '';\n",
              "          dataTable['output_type'] = 'display_data';\n",
              "          await google.colab.output.renderOutput(dataTable, element);\n",
              "          const docLink = document.createElement('div');\n",
              "          docLink.innerHTML = docLinkHtml;\n",
              "          element.appendChild(docLink);\n",
              "        }\n",
              "      </script>\n",
              "    </div>\n",
              "  </div>\n",
              "  "
            ]
          },
          "metadata": {},
          "execution_count": 22
        }
      ]
    },
    {
      "cell_type": "markdown",
      "source": [
        "#### 👇 Split timeline into N time periods"
      ],
      "metadata": {
        "id": "HSiqYtlR4eUJ"
      }
    },
    {
      "cell_type": "code",
      "source": [
        "# N is automatically determined based on window_size (default 4),\n",
        "# and the time unit (default is week)\n",
        "skipgrams_in_timeline, timeline = utils.data.timeline_slicing(augmented_activity_df, 'triplet_two')"
      ],
      "metadata": {
        "id": "21pxVEwhRX7f",
        "colab": {
          "base_uri": "https://localhost:8080/",
          "height": 17,
          "referenced_widgets": [
            "fae87bd906f94dcbb4e507df14f4f9e1",
            "060f9dd5775a4eba98b45e1fa9f39c08",
            "d3bafbc79fbf4d5e94a12639a41401fa",
            "a1194837ed844f089a12738adc8c6b33",
            "6014ee2fb5164d1ebc2636896a005b47",
            "11a2c1c1e7814dc0ab1a6254ba06a320",
            "83e7d63dbfe04142aec5a6933a1fee7a",
            "180fb7e0dea24ac882de48307efbdc3a",
            "b247273458f34187864b3d50e3ca85be",
            "ce5bdd78a71b421a9dff8a023e94422f",
            "175cb7267cd54f22b5972e8e3437ecc5",
            "ad553a719e194d43ab632cc33e8a4c56",
            "870f07ec14ae4bc4b5cdfc0fd5e0e0e7",
            "55bf76fad0b54b97bfe42c6ee497f381",
            "c669842f0590438daf3eeb64d1d6a53b",
            "7ca73f1d78384d4aa2ce2a3cfe676a24",
            "bdf036d1ec4a4017a4bda772c7f886dc",
            "54d32b15736c4973829b575cd055bf30",
            "cd8164c488ef4350a68ade2fd79943c5",
            "3d26bb1f72304b249b5a441b9e6b67b8",
            "1ad183c102f2464b8ac0261989bef95c",
            "cf7f12502d8e4b538de42de03f5ffeff",
            "d14da62ec08a445d9575ce291f84b897",
            "74b66174de754a5bac4653a490b379fb",
            "00d755ad903448cc9eacd0296a61601d",
            "0365d9a9dd034c3c8de8a9fbf1aefc05",
            "ab263c6debb64dd780ff736c2bf382aa",
            "280d6c976c8a4de8bf3122b7d64cc114",
            "d641629d0fad4b9c88285b0766d58539",
            "49c7b2fd335248a6a843b5333e589c28",
            "b860016d263049e68f5170608139efe0",
            "4022d34e0a1f483695ab8eb2215d12a4"
          ]
        },
        "outputId": "5d137397-94d8-450a-ee6f-bc29b30d16a6"
      },
      "execution_count": null,
      "outputs": [
        {
          "output_type": "display_data",
          "data": {
            "text/plain": [
              "Output()"
            ],
            "application/vnd.jupyter.widget-view+json": {
              "version_major": 2,
              "version_minor": 0,
              "model_id": "fae87bd906f94dcbb4e507df14f4f9e1"
            }
          },
          "metadata": {}
        },
        {
          "output_type": "display_data",
          "data": {
            "text/plain": [
              "Output()"
            ],
            "application/vnd.jupyter.widget-view+json": {
              "version_major": 2,
              "version_minor": 0,
              "model_id": "d3bafbc79fbf4d5e94a12639a41401fa"
            }
          },
          "metadata": {}
        },
        {
          "output_type": "display_data",
          "data": {
            "text/plain": [
              "Output()"
            ],
            "application/vnd.jupyter.widget-view+json": {
              "version_major": 2,
              "version_minor": 0,
              "model_id": "6014ee2fb5164d1ebc2636896a005b47"
            }
          },
          "metadata": {}
        },
        {
          "output_type": "display_data",
          "data": {
            "text/plain": [
              "Output()"
            ],
            "application/vnd.jupyter.widget-view+json": {
              "version_major": 2,
              "version_minor": 0,
              "model_id": "83e7d63dbfe04142aec5a6933a1fee7a"
            }
          },
          "metadata": {}
        },
        {
          "output_type": "display_data",
          "data": {
            "text/plain": [
              "Output()"
            ],
            "application/vnd.jupyter.widget-view+json": {
              "version_major": 2,
              "version_minor": 0,
              "model_id": "b247273458f34187864b3d50e3ca85be"
            }
          },
          "metadata": {}
        },
        {
          "output_type": "display_data",
          "data": {
            "text/plain": [
              "Output()"
            ],
            "application/vnd.jupyter.widget-view+json": {
              "version_major": 2,
              "version_minor": 0,
              "model_id": "175cb7267cd54f22b5972e8e3437ecc5"
            }
          },
          "metadata": {}
        },
        {
          "output_type": "display_data",
          "data": {
            "text/plain": [
              "Output()"
            ],
            "application/vnd.jupyter.widget-view+json": {
              "version_major": 2,
              "version_minor": 0,
              "model_id": "870f07ec14ae4bc4b5cdfc0fd5e0e0e7"
            }
          },
          "metadata": {}
        },
        {
          "output_type": "display_data",
          "data": {
            "text/plain": [
              "Output()"
            ],
            "application/vnd.jupyter.widget-view+json": {
              "version_major": 2,
              "version_minor": 0,
              "model_id": "c669842f0590438daf3eeb64d1d6a53b"
            }
          },
          "metadata": {}
        },
        {
          "output_type": "display_data",
          "data": {
            "text/plain": [
              "Output()"
            ],
            "application/vnd.jupyter.widget-view+json": {
              "version_major": 2,
              "version_minor": 0,
              "model_id": "bdf036d1ec4a4017a4bda772c7f886dc"
            }
          },
          "metadata": {}
        },
        {
          "output_type": "display_data",
          "data": {
            "text/plain": [
              "Output()"
            ],
            "application/vnd.jupyter.widget-view+json": {
              "version_major": 2,
              "version_minor": 0,
              "model_id": "cd8164c488ef4350a68ade2fd79943c5"
            }
          },
          "metadata": {}
        },
        {
          "output_type": "display_data",
          "data": {
            "text/plain": [
              "Output()"
            ],
            "application/vnd.jupyter.widget-view+json": {
              "version_major": 2,
              "version_minor": 0,
              "model_id": "1ad183c102f2464b8ac0261989bef95c"
            }
          },
          "metadata": {}
        },
        {
          "output_type": "display_data",
          "data": {
            "text/plain": [
              "Output()"
            ],
            "application/vnd.jupyter.widget-view+json": {
              "version_major": 2,
              "version_minor": 0,
              "model_id": "d14da62ec08a445d9575ce291f84b897"
            }
          },
          "metadata": {}
        },
        {
          "output_type": "display_data",
          "data": {
            "text/plain": [
              "Output()"
            ],
            "application/vnd.jupyter.widget-view+json": {
              "version_major": 2,
              "version_minor": 0,
              "model_id": "00d755ad903448cc9eacd0296a61601d"
            }
          },
          "metadata": {}
        },
        {
          "output_type": "display_data",
          "data": {
            "text/plain": [
              "Output()"
            ],
            "application/vnd.jupyter.widget-view+json": {
              "version_major": 2,
              "version_minor": 0,
              "model_id": "ab263c6debb64dd780ff736c2bf382aa"
            }
          },
          "metadata": {}
        },
        {
          "output_type": "display_data",
          "data": {
            "text/plain": [
              "Output()"
            ],
            "application/vnd.jupyter.widget-view+json": {
              "version_major": 2,
              "version_minor": 0,
              "model_id": "d641629d0fad4b9c88285b0766d58539"
            }
          },
          "metadata": {}
        },
        {
          "output_type": "display_data",
          "data": {
            "text/plain": [
              "Output()"
            ],
            "application/vnd.jupyter.widget-view+json": {
              "version_major": 2,
              "version_minor": 0,
              "model_id": "b860016d263049e68f5170608139efe0"
            }
          },
          "metadata": {}
        }
      ]
    },
    {
      "cell_type": "code",
      "source": [
        "utils.data.describe_timeline(skipgrams_in_timeline, timeline)"
      ],
      "metadata": {
        "colab": {
          "base_uri": "https://localhost:8080/",
          "height": 951
        },
        "id": "Uplzpxi7YeN6",
        "outputId": "ebff6430-04ca-488f-9c0c-b82b823a4988"
      },
      "execution_count": null,
      "outputs": [
        {
          "output_type": "display_data",
          "data": {
            "text/plain": [
              "Distribution of skipgrams in the time frame\n"
            ],
            "text/html": [
              "<pre style=\"white-space:pre;overflow-x:auto;line-height:normal;font-family:Menlo,'DejaVu Sans Mono',consolas,'Courier New',monospace\">Distribution of skipgrams in the time frame\n",
              "</pre>\n"
            ]
          },
          "metadata": {}
        },
        {
          "output_type": "display_data",
          "data": {
            "text/plain": [
              "Time period \u001b[1;36m34\u001b[0m: \u001b[1;36m60\u001b[0m skipgrams\n"
            ],
            "text/html": [
              "<pre style=\"white-space:pre;overflow-x:auto;line-height:normal;font-family:Menlo,'DejaVu Sans Mono',consolas,'Courier New',monospace\">Time period <span style=\"color: #008080; text-decoration-color: #008080; font-weight: bold\">34</span>: <span style=\"color: #008080; text-decoration-color: #008080; font-weight: bold\">60</span> skipgrams\n",
              "</pre>\n"
            ]
          },
          "metadata": {}
        },
        {
          "output_type": "display_data",
          "data": {
            "text/plain": [
              "Time period \u001b[1;36m35\u001b[0m: \u001b[1;36m9\u001b[0m skipgrams\n"
            ],
            "text/html": [
              "<pre style=\"white-space:pre;overflow-x:auto;line-height:normal;font-family:Menlo,'DejaVu Sans Mono',consolas,'Courier New',monospace\">Time period <span style=\"color: #008080; text-decoration-color: #008080; font-weight: bold\">35</span>: <span style=\"color: #008080; text-decoration-color: #008080; font-weight: bold\">9</span> skipgrams\n",
              "</pre>\n"
            ]
          },
          "metadata": {}
        },
        {
          "output_type": "display_data",
          "data": {
            "text/plain": [
              "Time period \u001b[1;36m36\u001b[0m: \u001b[1;36m67\u001b[0m skipgrams\n"
            ],
            "text/html": [
              "<pre style=\"white-space:pre;overflow-x:auto;line-height:normal;font-family:Menlo,'DejaVu Sans Mono',consolas,'Courier New',monospace\">Time period <span style=\"color: #008080; text-decoration-color: #008080; font-weight: bold\">36</span>: <span style=\"color: #008080; text-decoration-color: #008080; font-weight: bold\">67</span> skipgrams\n",
              "</pre>\n"
            ]
          },
          "metadata": {}
        },
        {
          "output_type": "display_data",
          "data": {
            "text/plain": [
              "Time period \u001b[1;36m37\u001b[0m: \u001b[1;36m1\u001b[0m skipgrams\n"
            ],
            "text/html": [
              "<pre style=\"white-space:pre;overflow-x:auto;line-height:normal;font-family:Menlo,'DejaVu Sans Mono',consolas,'Courier New',monospace\">Time period <span style=\"color: #008080; text-decoration-color: #008080; font-weight: bold\">37</span>: <span style=\"color: #008080; text-decoration-color: #008080; font-weight: bold\">1</span> skipgrams\n",
              "</pre>\n"
            ]
          },
          "metadata": {}
        },
        {
          "output_type": "display_data",
          "data": {
            "text/plain": [
              "Time period \u001b[1;36m38\u001b[0m: \u001b[1;36m41\u001b[0m skipgrams\n"
            ],
            "text/html": [
              "<pre style=\"white-space:pre;overflow-x:auto;line-height:normal;font-family:Menlo,'DejaVu Sans Mono',consolas,'Courier New',monospace\">Time period <span style=\"color: #008080; text-decoration-color: #008080; font-weight: bold\">38</span>: <span style=\"color: #008080; text-decoration-color: #008080; font-weight: bold\">41</span> skipgrams\n",
              "</pre>\n"
            ]
          },
          "metadata": {}
        },
        {
          "output_type": "display_data",
          "data": {
            "text/plain": [
              "Time period \u001b[1;36m39\u001b[0m: \u001b[1;36m75\u001b[0m skipgrams\n"
            ],
            "text/html": [
              "<pre style=\"white-space:pre;overflow-x:auto;line-height:normal;font-family:Menlo,'DejaVu Sans Mono',consolas,'Courier New',monospace\">Time period <span style=\"color: #008080; text-decoration-color: #008080; font-weight: bold\">39</span>: <span style=\"color: #008080; text-decoration-color: #008080; font-weight: bold\">75</span> skipgrams\n",
              "</pre>\n"
            ]
          },
          "metadata": {}
        },
        {
          "output_type": "display_data",
          "data": {
            "text/plain": [
              "Time period \u001b[1;36m40\u001b[0m: \u001b[1;36m84\u001b[0m skipgrams\n"
            ],
            "text/html": [
              "<pre style=\"white-space:pre;overflow-x:auto;line-height:normal;font-family:Menlo,'DejaVu Sans Mono',consolas,'Courier New',monospace\">Time period <span style=\"color: #008080; text-decoration-color: #008080; font-weight: bold\">40</span>: <span style=\"color: #008080; text-decoration-color: #008080; font-weight: bold\">84</span> skipgrams\n",
              "</pre>\n"
            ]
          },
          "metadata": {}
        },
        {
          "output_type": "display_data",
          "data": {
            "text/plain": [
              "Time period \u001b[1;36m41\u001b[0m: \u001b[1;36m1\u001b[0m skipgrams\n"
            ],
            "text/html": [
              "<pre style=\"white-space:pre;overflow-x:auto;line-height:normal;font-family:Menlo,'DejaVu Sans Mono',consolas,'Courier New',monospace\">Time period <span style=\"color: #008080; text-decoration-color: #008080; font-weight: bold\">41</span>: <span style=\"color: #008080; text-decoration-color: #008080; font-weight: bold\">1</span> skipgrams\n",
              "</pre>\n"
            ]
          },
          "metadata": {}
        },
        {
          "output_type": "display_data",
          "data": {
            "text/plain": [
              "Time period \u001b[1;36m42\u001b[0m: \u001b[1;36m13\u001b[0m skipgrams\n"
            ],
            "text/html": [
              "<pre style=\"white-space:pre;overflow-x:auto;line-height:normal;font-family:Menlo,'DejaVu Sans Mono',consolas,'Courier New',monospace\">Time period <span style=\"color: #008080; text-decoration-color: #008080; font-weight: bold\">42</span>: <span style=\"color: #008080; text-decoration-color: #008080; font-weight: bold\">13</span> skipgrams\n",
              "</pre>\n"
            ]
          },
          "metadata": {}
        },
        {
          "output_type": "display_data",
          "data": {
            "text/plain": [
              "Time period \u001b[1;36m43\u001b[0m: \u001b[1;36m35\u001b[0m skipgrams\n"
            ],
            "text/html": [
              "<pre style=\"white-space:pre;overflow-x:auto;line-height:normal;font-family:Menlo,'DejaVu Sans Mono',consolas,'Courier New',monospace\">Time period <span style=\"color: #008080; text-decoration-color: #008080; font-weight: bold\">43</span>: <span style=\"color: #008080; text-decoration-color: #008080; font-weight: bold\">35</span> skipgrams\n",
              "</pre>\n"
            ]
          },
          "metadata": {}
        },
        {
          "output_type": "display_data",
          "data": {
            "text/plain": [
              "Time period \u001b[1;36m44\u001b[0m: \u001b[1;36m215\u001b[0m skipgrams\n"
            ],
            "text/html": [
              "<pre style=\"white-space:pre;overflow-x:auto;line-height:normal;font-family:Menlo,'DejaVu Sans Mono',consolas,'Courier New',monospace\">Time period <span style=\"color: #008080; text-decoration-color: #008080; font-weight: bold\">44</span>: <span style=\"color: #008080; text-decoration-color: #008080; font-weight: bold\">215</span> skipgrams\n",
              "</pre>\n"
            ]
          },
          "metadata": {}
        },
        {
          "output_type": "display_data",
          "data": {
            "text/plain": [
              "Time period \u001b[1;36m45\u001b[0m: \u001b[1;36m230\u001b[0m skipgrams\n"
            ],
            "text/html": [
              "<pre style=\"white-space:pre;overflow-x:auto;line-height:normal;font-family:Menlo,'DejaVu Sans Mono',consolas,'Courier New',monospace\">Time period <span style=\"color: #008080; text-decoration-color: #008080; font-weight: bold\">45</span>: <span style=\"color: #008080; text-decoration-color: #008080; font-weight: bold\">230</span> skipgrams\n",
              "</pre>\n"
            ]
          },
          "metadata": {}
        },
        {
          "output_type": "display_data",
          "data": {
            "text/plain": [
              "Time period \u001b[1;36m46\u001b[0m: \u001b[1;36m114\u001b[0m skipgrams\n"
            ],
            "text/html": [
              "<pre style=\"white-space:pre;overflow-x:auto;line-height:normal;font-family:Menlo,'DejaVu Sans Mono',consolas,'Courier New',monospace\">Time period <span style=\"color: #008080; text-decoration-color: #008080; font-weight: bold\">46</span>: <span style=\"color: #008080; text-decoration-color: #008080; font-weight: bold\">114</span> skipgrams\n",
              "</pre>\n"
            ]
          },
          "metadata": {}
        },
        {
          "output_type": "display_data",
          "data": {
            "text/plain": [
              "Time period \u001b[1;36m47\u001b[0m: \u001b[1;36m213\u001b[0m skipgrams\n"
            ],
            "text/html": [
              "<pre style=\"white-space:pre;overflow-x:auto;line-height:normal;font-family:Menlo,'DejaVu Sans Mono',consolas,'Courier New',monospace\">Time period <span style=\"color: #008080; text-decoration-color: #008080; font-weight: bold\">47</span>: <span style=\"color: #008080; text-decoration-color: #008080; font-weight: bold\">213</span> skipgrams\n",
              "</pre>\n"
            ]
          },
          "metadata": {}
        },
        {
          "output_type": "display_data",
          "data": {
            "text/plain": [
              "Time period \u001b[1;36m48\u001b[0m: \u001b[1;36m24\u001b[0m skipgrams\n"
            ],
            "text/html": [
              "<pre style=\"white-space:pre;overflow-x:auto;line-height:normal;font-family:Menlo,'DejaVu Sans Mono',consolas,'Courier New',monospace\">Time period <span style=\"color: #008080; text-decoration-color: #008080; font-weight: bold\">48</span>: <span style=\"color: #008080; text-decoration-color: #008080; font-weight: bold\">24</span> skipgrams\n",
              "</pre>\n"
            ]
          },
          "metadata": {}
        },
        {
          "output_type": "execute_result",
          "data": {
            "text/plain": [
              "       34  35   36  37     38      39      40  41  42   43       44    45  \\\n",
              "0  537329  37  210   1  88198  158592  859654   4  93  166  3808770  3399   \n",
              "\n",
              "    46    47      48  \n",
              "0  802  9256  429062  "
            ],
            "text/html": [
              "\n",
              "  <div id=\"df-6288ca2f-01d2-467d-a0c9-927075acb870\">\n",
              "    <div class=\"colab-df-container\">\n",
              "      <div>\n",
              "<style scoped>\n",
              "    .dataframe tbody tr th:only-of-type {\n",
              "        vertical-align: middle;\n",
              "    }\n",
              "\n",
              "    .dataframe tbody tr th {\n",
              "        vertical-align: top;\n",
              "    }\n",
              "\n",
              "    .dataframe thead th {\n",
              "        text-align: right;\n",
              "    }\n",
              "</style>\n",
              "<table border=\"1\" class=\"dataframe\">\n",
              "  <thead>\n",
              "    <tr style=\"text-align: right;\">\n",
              "      <th></th>\n",
              "      <th>34</th>\n",
              "      <th>35</th>\n",
              "      <th>36</th>\n",
              "      <th>37</th>\n",
              "      <th>38</th>\n",
              "      <th>39</th>\n",
              "      <th>40</th>\n",
              "      <th>41</th>\n",
              "      <th>42</th>\n",
              "      <th>43</th>\n",
              "      <th>44</th>\n",
              "      <th>45</th>\n",
              "      <th>46</th>\n",
              "      <th>47</th>\n",
              "      <th>48</th>\n",
              "    </tr>\n",
              "  </thead>\n",
              "  <tbody>\n",
              "    <tr>\n",
              "      <th>0</th>\n",
              "      <td>537329</td>\n",
              "      <td>37</td>\n",
              "      <td>210</td>\n",
              "      <td>1</td>\n",
              "      <td>88198</td>\n",
              "      <td>158592</td>\n",
              "      <td>859654</td>\n",
              "      <td>4</td>\n",
              "      <td>93</td>\n",
              "      <td>166</td>\n",
              "      <td>3808770</td>\n",
              "      <td>3399</td>\n",
              "      <td>802</td>\n",
              "      <td>9256</td>\n",
              "      <td>429062</td>\n",
              "    </tr>\n",
              "  </tbody>\n",
              "</table>\n",
              "</div>\n",
              "      <button class=\"colab-df-convert\" onclick=\"convertToInteractive('df-6288ca2f-01d2-467d-a0c9-927075acb870')\"\n",
              "              title=\"Convert this dataframe to an interactive table.\"\n",
              "              style=\"display:none;\">\n",
              "        \n",
              "  <svg xmlns=\"http://www.w3.org/2000/svg\" height=\"24px\"viewBox=\"0 0 24 24\"\n",
              "       width=\"24px\">\n",
              "    <path d=\"M0 0h24v24H0V0z\" fill=\"none\"/>\n",
              "    <path d=\"M18.56 5.44l.94 2.06.94-2.06 2.06-.94-2.06-.94-.94-2.06-.94 2.06-2.06.94zm-11 1L8.5 8.5l.94-2.06 2.06-.94-2.06-.94L8.5 2.5l-.94 2.06-2.06.94zm10 10l.94 2.06.94-2.06 2.06-.94-2.06-.94-.94-2.06-.94 2.06-2.06.94z\"/><path d=\"M17.41 7.96l-1.37-1.37c-.4-.4-.92-.59-1.43-.59-.52 0-1.04.2-1.43.59L10.3 9.45l-7.72 7.72c-.78.78-.78 2.05 0 2.83L4 21.41c.39.39.9.59 1.41.59.51 0 1.02-.2 1.41-.59l7.78-7.78 2.81-2.81c.8-.78.8-2.07 0-2.86zM5.41 20L4 18.59l7.72-7.72 1.47 1.35L5.41 20z\"/>\n",
              "  </svg>\n",
              "      </button>\n",
              "      \n",
              "  <style>\n",
              "    .colab-df-container {\n",
              "      display:flex;\n",
              "      flex-wrap:wrap;\n",
              "      gap: 12px;\n",
              "    }\n",
              "\n",
              "    .colab-df-convert {\n",
              "      background-color: #E8F0FE;\n",
              "      border: none;\n",
              "      border-radius: 50%;\n",
              "      cursor: pointer;\n",
              "      display: none;\n",
              "      fill: #1967D2;\n",
              "      height: 32px;\n",
              "      padding: 0 0 0 0;\n",
              "      width: 32px;\n",
              "    }\n",
              "\n",
              "    .colab-df-convert:hover {\n",
              "      background-color: #E2EBFA;\n",
              "      box-shadow: 0px 1px 2px rgba(60, 64, 67, 0.3), 0px 1px 3px 1px rgba(60, 64, 67, 0.15);\n",
              "      fill: #174EA6;\n",
              "    }\n",
              "\n",
              "    [theme=dark] .colab-df-convert {\n",
              "      background-color: #3B4455;\n",
              "      fill: #D2E3FC;\n",
              "    }\n",
              "\n",
              "    [theme=dark] .colab-df-convert:hover {\n",
              "      background-color: #434B5C;\n",
              "      box-shadow: 0px 1px 3px 1px rgba(0, 0, 0, 0.15);\n",
              "      filter: drop-shadow(0px 1px 2px rgba(0, 0, 0, 0.3));\n",
              "      fill: #FFFFFF;\n",
              "    }\n",
              "  </style>\n",
              "\n",
              "      <script>\n",
              "        const buttonEl =\n",
              "          document.querySelector('#df-6288ca2f-01d2-467d-a0c9-927075acb870 button.colab-df-convert');\n",
              "        buttonEl.style.display =\n",
              "          google.colab.kernel.accessAllowed ? 'block' : 'none';\n",
              "\n",
              "        async function convertToInteractive(key) {\n",
              "          const element = document.querySelector('#df-6288ca2f-01d2-467d-a0c9-927075acb870');\n",
              "          const dataTable =\n",
              "            await google.colab.kernel.invokeFunction('convertToInteractive',\n",
              "                                                     [key], {});\n",
              "          if (!dataTable) return;\n",
              "\n",
              "          const docLinkHtml = 'Like what you see? Visit the ' +\n",
              "            '<a target=\"_blank\" href=https://colab.research.google.com/notebooks/data_table.ipynb>data table notebook</a>'\n",
              "            + ' to learn more about interactive tables.';\n",
              "          element.innerHTML = '';\n",
              "          dataTable['output_type'] = 'display_data';\n",
              "          await google.colab.output.renderOutput(dataTable, element);\n",
              "          const docLink = document.createElement('div');\n",
              "          docLink.innerHTML = docLinkHtml;\n",
              "          element.appendChild(docLink);\n",
              "        }\n",
              "      </script>\n",
              "    </div>\n",
              "  </div>\n",
              "  "
            ]
          },
          "metadata": {},
          "execution_count": 48
        },
        {
          "output_type": "display_data",
          "data": {
            "text/plain": [
              "<Figure size 1440x720 with 1 Axes>"
            ],
            "image/png": "[encoded data removed]"
          },
          "metadata": {
            "image/png": {
              "width": 1166,
              "height": 598
            },
            "needs_background": "light"
          }
        }
      ]
    },
    {
      "cell_type": "code",
      "source": [
        "timeline"
      ],
      "metadata": {
        "id": "PAzl9tZ5XmfB",
        "colab": {
          "base_uri": "https://localhost:8080/"
        },
        "outputId": "e1910d61-7a14-4f4b-cbac-06aeea10ed32"
      },
      "execution_count": null,
      "outputs": [
        {
          "output_type": "execute_result",
          "data": {
            "text/plain": [
              "array([34, 35, 36, 37, 38, 39, 40, 41, 42, 43, 44, 45, 46, 47, 48])"
            ]
          },
          "metadata": {},
          "execution_count": 49
        }
      ]
    },
    {
      "cell_type": "markdown",
      "source": [
        "#### 👇 Generate Train/Test data"
      ],
      "metadata": {
        "id": "A9vRwJS46SnF"
      }
    },
    {
      "cell_type": "code",
      "source": [
        "train_test_by_week = utils.dl.get_train_test_data_per_period(skipgrams_in_timeline, timeline, act2idx)"
      ],
      "metadata": {
        "colab": {
          "base_uri": "https://localhost:8080/",
          "height": 17,
          "referenced_widgets": [
            "50f3d3297a6549d3943682cf9aa54fc2",
            "5e49201a2bc14089948039af39e37a75"
          ]
        },
        "id": "9l3AOIYHbsqS",
        "outputId": "69e987b3-f811-47ab-b95a-7baf9c6efd5a"
      },
      "execution_count": null,
      "outputs": [
        {
          "output_type": "display_data",
          "data": {
            "text/plain": [
              "Output()"
            ],
            "application/vnd.jupyter.widget-view+json": {
              "version_major": 2,
              "version_minor": 0,
              "model_id": "50f3d3297a6549d3943682cf9aa54fc2"
            }
          },
          "metadata": {}
        }
      ]
    },
    {
      "cell_type": "code",
      "source": [
        "train_test_by_week[0][0][:3]"
      ],
      "metadata": {
        "colab": {
          "base_uri": "https://localhost:8080/"
        },
        "id": "g9OAkuCnvKC-",
        "outputId": "13d0d6ae-3d1c-4d89-d716-9c10026c9d26"
      },
      "execution_count": null,
      "outputs": [
        {
          "output_type": "execute_result",
          "data": {
            "text/plain": [
              "[(tensor([22, 22]), tensor([22, 22])),\n",
              " (tensor([22, 22]), tensor([22, 22])),\n",
              " (tensor([22, 22]), tensor([22, 22]))]"
            ]
          },
          "metadata": {},
          "execution_count": 30
        }
      ]
    },
    {
      "cell_type": "markdown",
      "source": [
        "#### 👇 Setup Train/Test data and their loaders"
      ],
      "metadata": {
        "id": "5Hsuv1ar6Bpp"
      }
    },
    {
      "cell_type": "code",
      "source": [
        "train_test_dataloaders_by_week = utils.dl.get_dataloaders_per_time_slice(train_test_by_week, timeline)"
      ],
      "metadata": {
        "id": "9FDzmNT1lXFK"
      },
      "execution_count": null,
      "outputs": []
    },
    {
      "cell_type": "code",
      "source": [
        "utils.dl.take_n_from_data_loader(1, list(timeline).index(47), train_test_dataloaders_by_week)"
      ],
      "metadata": {
        "colab": {
          "base_uri": "https://localhost:8080/"
        },
        "id": "30KyxywglXQD",
        "outputId": "7f507ba8-b041-4dc9-e60d-7867564af52d"
      },
      "execution_count": null,
      "outputs": [
        {
          "output_type": "execute_result",
          "data": {
            "text/plain": [
              "[[tensor([[21, 22],\n",
              "          [49, 22],\n",
              "          [22, 22],\n",
              "          [35, 35],\n",
              "          [30, 14],\n",
              "          [39, 42],\n",
              "          [30, 30],\n",
              "          [22, 41],\n",
              "          [12, 22],\n",
              "          [22, 22]]), tensor([[22, 22],\n",
              "          [43, 43],\n",
              "          [22, 22],\n",
              "          [22, 44],\n",
              "          [ 3, 42],\n",
              "          [30, 30],\n",
              "          [21, 22],\n",
              "          [22, 22],\n",
              "          [21, 22],\n",
              "          [22, 41]])]]"
            ]
          },
          "metadata": {},
          "execution_count": 32
        }
      ]
    },
    {
      "cell_type": "markdown",
      "source": [
        "#### Accelerate model with 🤗 and PyTorch 🔥"
      ],
      "metadata": {
        "id": "4e1chyaCmqG9"
      }
    },
    {
      "cell_type": "code",
      "source": [
        "accelerator = Accelerator()"
      ],
      "metadata": {
        "id": "wgB1wM0Lmpbs"
      },
      "execution_count": null,
      "outputs": []
    },
    {
      "cell_type": "code",
      "source": [
        "# Reduce the timeline to speed up training and testing\n",
        "# of 🔥 Activity Skipgram Model\n",
        "timeline = timeline[:5]"
      ],
      "metadata": {
        "id": "L2DNQUaSnLd2"
      },
      "execution_count": null,
      "outputs": []
    },
    {
      "cell_type": "code",
      "source": [
        "acceleration_report = utils.dl.accelerate_model(train_test_dataloaders_by_week, timeline, act2idx, accelerator=accelerator)"
      ],
      "metadata": {
        "id": "_zv5HoQDnLg9"
      },
      "execution_count": null,
      "outputs": []
    },
    {
      "cell_type": "markdown",
      "source": [
        "## 👟 Run the SIGNAL's Activity Skipgram Model with Pytorch 🔥\n",
        "\n",
        "💪 Run this model to train a simple but effective neural network to generate activity embeddings, using the accelerator API. \n",
        "\n",
        "The model is an adaptation of the Skipgram version of Word2Vec, based on earlier time-aware skip grams."
      ],
      "metadata": {
        "id": "GC8nsD0IZZd0"
      }
    },
    {
      "cell_type": "code",
      "source": [
        "dynamic_model, training_report = utils.dl.learn_dynamic_activity_model(acceleration_report, timeline, act2idx, idx2act, 1)"
      ],
      "metadata": {
        "colab": {
          "base_uri": "https://localhost:8080/"
        },
        "id": "Zh4iR4MznxyF",
        "outputId": "0dfb9e19-469d-414e-8aa0-00c710ac5cc7"
      },
      "execution_count": null,
      "outputs": [
        {
          "output_type": "stream",
          "name": "stderr",
          "text": [
            "EPOCH [TRAIN] 1 [WEEK] 34...: 100%|██████████| 18807/18807 [11:50<00:00, 26.48it/s, loss=0.000000, LR=0.001]\n",
            "EPOCH [TEST] 1 [WEEK] 34...: 100%|██████████| 8060/8060 [03:19<00:00, 40.32it/s, loss=0.000000, acc=99.445409]\n",
            "EPOCH [TRAIN] 1 [WEEK] 35...: 100%|██████████| 2/2 [00:00<00:00, 38.55it/s, loss=4.985138, LR=0.001]\n",
            "EPOCH [TEST] 1 [WEEK] 35...: 100%|██████████| 1/1 [00:00<00:00, 69.36it/s, loss=20.737615, acc=6.000000]\n",
            "EPOCH [TRAIN] 1 [WEEK] 36...: 100%|██████████| 8/8 [00:00<00:00, 28.36it/s, loss=0.879721, LR=0.001]\n",
            "EPOCH [TEST] 1 [WEEK] 36...: 100%|██████████| 4/4 [00:00<00:00, 53.07it/s, loss=1.423859, acc=15.000000]\n",
            "EPOCH [TRAIN] 1 [WEEK] 37...: 100%|██████████| 1/1 [00:00<00:00, 183.50it/s, loss=4.266852, LR=0.001]\n",
            "EPOCH [TEST] 1 [WEEK] 37...: 100%|██████████| 1/1 [00:00<00:00, 262.88it/s, loss=3.893897, acc=0.000000]\n",
            "EPOCH [TRAIN] 1 [WEEK] 38...: 100%|██████████| 3087/3087 [01:56<00:00, 26.56it/s, loss=0.000111, LR=0.001]\n",
            "EPOCH [TEST] 1 [WEEK] 38...: 100%|██████████| 1323/1323 [00:32<00:00, 41.03it/s, loss=0.000242, acc=97.309146]\n"
          ]
        },
        {
          "output_type": "stream",
          "name": "stdout",
          "text": [
            "[34, 35, 36, 37, 38]\n"
          ]
        }
      ]
    },
    {
      "cell_type": "code",
      "source": [
        "dynamic_model.get_dynamic_embeddings('Code_Contribution_Aditya_unknown', 0)"
      ],
      "metadata": {
        "colab": {
          "base_uri": "https://localhost:8080/"
        },
        "id": "xFylCk8tXNwS",
        "outputId": "f3ccf64a-0504-4900-c523-7197832a8ffa"
      },
      "execution_count": null,
      "outputs": [
        {
          "output_type": "execute_result",
          "data": {
            "text/plain": [
              "array([ 0.00655019, -0.00609713,  0.00617578, -0.00319552, -0.00133198,\n",
              "        0.01555364,  0.00363074,  0.00328322, -0.00162846, -0.02245832,\n",
              "       -0.00448473, -0.00923127, -0.00112669,  0.00865714,  0.00161666,\n",
              "        0.00164539, -0.00332015,  0.00341953,  0.00597896,  0.00762017,\n",
              "        0.00822758, -0.01308879, -0.00132764, -0.01442246,  0.00103056,\n",
              "       -0.00531451,  0.00461696,  0.01242285,  0.00568761, -0.01117946,\n",
              "        0.00294794, -0.00776852, -0.0289625 ,  0.00253605, -0.00270367,\n",
              "       -0.01234685,  0.0105057 , -0.00956216,  0.005701  , -0.01238616,\n",
              "       -0.01326007, -0.01013926,  0.01307219,  0.01109655, -0.01343724,\n",
              "        0.01045609,  0.01618986, -0.00703241, -0.00039648, -0.01596153,\n",
              "       -0.0144145 , -0.01416766, -0.02165111, -0.01211901, -0.00884546,\n",
              "       -0.02034597,  0.00885485,  0.01263949, -0.00385939,  0.00482683,\n",
              "       -0.01451225,  0.01911988,  0.02119213, -0.01022996, -0.01795389,\n",
              "       -0.0313614 , -0.00052099, -0.00719477, -0.00028937, -0.01634318,\n",
              "        0.01787774, -0.01060717, -0.00913788,  0.01218687, -0.00318009,\n",
              "       -0.00288439,  0.00633778, -0.00921323, -0.00314199, -0.00509943,\n",
              "       -0.0053042 , -0.01678016, -0.0109871 , -0.01662509,  0.01950442,\n",
              "       -0.00729157, -0.02235191,  0.00837868,  0.0016974 , -0.00202701,\n",
              "       -0.01475319,  0.02305741, -0.01588087, -0.02317614, -0.02734507,\n",
              "       -0.00249021, -0.00177339, -0.00094643, -0.00239968, -0.01958379,\n",
              "        0.01059559,  0.00475949, -0.00126725,  0.00857497, -0.01486475,\n",
              "        0.02343924,  0.00566293,  0.02367107, -0.00046559, -0.01413163,\n",
              "       -0.00270973,  0.00707216,  0.04189759,  0.01329603,  0.01600827,\n",
              "       -0.00596495, -0.01173261,  0.01475628, -0.00598806, -0.00624035])"
            ]
          },
          "metadata": {},
          "execution_count": 57
        }
      ]
    },
    {
      "cell_type": "code",
      "source": [
        "training_report.metrics"
      ],
      "metadata": {
        "id": "kkJ-x_K19w-h"
      },
      "execution_count": null,
      "outputs": []
    },
    {
      "cell_type": "markdown",
      "source": [
        "The above summaries show a very good performance of our Skipgram model for developer activity. \n",
        "\n",
        "Next, we show the embedding space of developer activities. For sake of presentation, the long activity names were replaced by a shorter version. E.g., a `Code_Contribution_John_Doe_Stringy` would be abbreviated as `CCJDS`."
      ],
      "metadata": {
        "id": "3OiXKDFfut2E"
      }
    },
    {
      "cell_type": "markdown",
      "source": [
        "# 👀 Tracking Activity Evolution Across Time frames 📅 "
      ],
      "metadata": {
        "id": "bHnjhxr8opIa"
      }
    },
    {
      "cell_type": "markdown",
      "source": [
        "## 👉 Signal drifts and \"evolution\" trajectory 🚐 of selected 🤸 activities"
      ],
      "metadata": {
        "id": "Ht9zzqlMr-bE"
      }
    },
    {
      "cell_type": "markdown",
      "source": [
        "### 📽 Visualize drifts in vector norms"
      ],
      "metadata": {
        "id": "icwxcdO60k2t"
      }
    },
    {
      "cell_type": "code",
      "source": [
        "all_activities = np.union1d(report.contributor_activities, report.maintainer_activities)\n",
        "len(all_activities)"
      ],
      "metadata": {
        "colab": {
          "base_uri": "https://localhost:8080/"
        },
        "id": "6PpTFEYXvFrT",
        "outputId": "06d08446-b0ad-4b75-8daa-e22526040509"
      },
      "execution_count": null,
      "outputs": [
        {
          "output_type": "execute_result",
          "data": {
            "text/plain": [
              "53"
            ]
          },
          "metadata": {},
          "execution_count": 58
        }
      ]
    },
    {
      "cell_type": "code",
      "source": [
        "sample_query = utils.arrays.get_random_elements(all_activities, 3)\n",
        "sample_query"
      ],
      "metadata": {
        "colab": {
          "base_uri": "https://localhost:8080/"
        },
        "id": "U7hUuo8_wgzC",
        "outputId": "0bc7264a-8d9a-4bc1-ee2a-4bdbd83c4a98"
      },
      "execution_count": null,
      "outputs": [
        {
          "output_type": "execute_result",
          "data": {
            "text/plain": [
              "array(['Code_Contribution_Vivek_Goyal_unknown',\n",
              "       'Code_Contribution_Andrew_Lunn_stringy',\n",
              "       'Code_Contribution_Kees_Cook_stringy'], dtype='<U101')"
            ]
          },
          "metadata": {},
          "execution_count": 59
        }
      ]
    },
    {
      "cell_type": "code",
      "source": [
        "timeline_slice_aligned_models = [dynamic_model.embeddings[t] for t in range(len(dynamic_model.embeddings))]"
      ],
      "metadata": {
        "id": "P4-sAygxxrW3"
      },
      "execution_count": null,
      "outputs": []
    },
    {
      "cell_type": "code",
      "source": [
        "aligned_vectors_norm = utils.ml.get_vector_norms(sample_query, timeline_slice_aligned_models, training_report.timeline_slices, act2idx)"
      ],
      "metadata": {
        "id": "vivVNaFUxBcg"
      },
      "execution_count": null,
      "outputs": []
    },
    {
      "cell_type": "code",
      "source": [
        "aligned_vectors_norm"
      ],
      "metadata": {
        "colab": {
          "base_uri": "https://localhost:8080/"
        },
        "id": "S3QWyLurx05_",
        "outputId": "24f0d058-1bfa-44df-c36e-e851005e5e44"
      },
      "execution_count": null,
      "outputs": [
        {
          "output_type": "execute_result",
          "data": {
            "text/plain": [
              "[array([0.2292944 , 0.19861859, 0.20904549, 0.20124075, 0.16180076]),\n",
              " array([0.18952675, 0.23496437, 0.18682677, 0.21137416, 0.17730795]),\n",
              " array([0.21594927, 0.20282856, 0.23106587, 0.20810915, 0.14204715])]"
            ]
          },
          "metadata": {},
          "execution_count": 64
        }
      ]
    },
    {
      "cell_type": "code",
      "source": [
        "utils.plots.plot_embedding_changes_in_vector_space(sample_query, aligned_vectors_norm, timeline)"
      ],
      "metadata": {
        "colab": {
          "base_uri": "https://localhost:8080/",
          "height": 605
        },
        "id": "g2OGECnGy_lr",
        "outputId": "deb68696-c75f-40fa-b3bc-baa3a19ada35"
      },
      "execution_count": null,
      "outputs": [
        {
          "output_type": "display_data",
          "data": {
            "text/plain": [
              "<Figure size 1080x720 with 1 Axes>"
            ],
            "image/png": "[encoded data removed]"
          },
          "metadata": {
            "image/png": {
              "width": 894,
              "height": 588
            },
            "needs_background": "light"
          }
        }
      ]
    },
    {
      "cell_type": "markdown",
      "source": [
        "The normal evolution of activity embeddings is expected to have a vector norm within `0.14-0.18`. Clearly, the activity embeddings of aliases used in the hyprocrite commints incident go out of this range; e.g., for George Acosta, his activities go beyond `0.20` in week `35` onwards."
      ],
      "metadata": {
        "id": "7KqmZvHkcRAG"
      }
    },
    {
      "cell_type": "markdown",
      "source": [
        "### 🐇 Follow the evolution trajectory of activities\n",
        "\n",
        "💪 Inspired by work in tracking word evolution in NLP research (e.g., Yao et al. 2018), we focus on tracking the evolution of activities performed developers in the LKML. We partition this dataset into different time frames (e.g., weeks, months, or years) and compute time-aware embeddings for each LKML activity. Specifically, each activity in a time frame is represented by a different vector. In this context, tracking the evolution of activities refers to the changing of meanings and associations of activities throughout time, as a byproduct of developer behavior evolution. By studying activity evolution, we hope to infer behavioral trends over different periods of developer activity history in the LKML."
      ],
      "metadata": {
        "id": "u85bXC_N1NOQ"
      }
    },
    {
      "cell_type": "code",
      "source": [
        "minnesota_activities = report.contributor_activities\n",
        "minnesota_activities"
      ],
      "metadata": {
        "colab": {
          "base_uri": "https://localhost:8080/"
        },
        "id": "sk22E3EeGFgW",
        "outputId": "36485c47-0240-4553-e3a8-274ea9e8d455"
      },
      "execution_count": null,
      "outputs": [
        {
          "output_type": "execute_result",
          "data": {
            "text/plain": [
              "array(['Code_Contribution_Aditya_unknown',\n",
              "       'Code_Contribution_George_Acosta_unknown',\n",
              "       'Code_Contribution_James_Bond_unknown'], dtype='<U101')"
            ]
          },
          "metadata": {},
          "execution_count": 110
        }
      ]
    },
    {
      "cell_type": "code",
      "source": [
        "# Generate TSNE projections for query elements\n",
        "query_package = utils.ml.build_tsne_projections(minnesota_activities, timeline, dynamic_model, act2idx, idx2act)"
      ],
      "metadata": {
        "id": "zsN-OEf3nDYu"
      },
      "execution_count": null,
      "outputs": []
    },
    {
      "cell_type": "code",
      "source": [
        "# query_package\n",
        "query_package[utils.common.take(1, minnesota_activities)[0]].N[:3]"
      ],
      "metadata": {
        "colab": {
          "base_uri": "https://localhost:8080/"
        },
        "id": "K-j1ffgwCSMA",
        "outputId": "4e801d07-b5c5-46c3-c495-e6332549d5c7"
      },
      "execution_count": null,
      "outputs": [
        {
          "output_type": "execute_result",
          "data": {
            "text/plain": [
              "[('Code_Contribution_Aditya_unknown', 34),\n",
              " ('Code_Contribution_Jiri_Slaby_unknown', 34),\n",
              " ('Code_Contribution_Denis_Efremov_unknown', 34)]"
            ]
          },
          "metadata": {},
          "execution_count": 113
        }
      ]
    },
    {
      "cell_type": "code",
      "source": [
        "linux_activities = set(report.maintainer_activities)"
      ],
      "metadata": {
        "id": "kRBoS23wDJsB"
      },
      "execution_count": null,
      "outputs": []
    },
    {
      "cell_type": "code",
      "source": [
        "minnesota_activities"
      ],
      "metadata": {
        "colab": {
          "base_uri": "https://localhost:8080/"
        },
        "id": "niJVZkGfFwY3",
        "outputId": "1d8d7e92-5dc2-4dd0-9523-103d096767bf"
      },
      "execution_count": null,
      "outputs": [
        {
          "output_type": "execute_result",
          "data": {
            "text/plain": [
              "array(['Code_Contribution_Aditya_unknown',\n",
              "       'Code_Contribution_George_Acosta_unknown',\n",
              "       'Code_Contribution_James_Bond_unknown'], dtype='<U101')"
            ]
          },
          "metadata": {},
          "execution_count": 115
        }
      ]
    },
    {
      "cell_type": "code",
      "source": [
        "[a for a in all_activities if a in minnesota_activities]"
      ],
      "metadata": {
        "colab": {
          "base_uri": "https://localhost:8080/"
        },
        "id": "4oapTgcaFk4M",
        "outputId": "a2fb8384-6bb7-4bf6-f2ce-ba1f2c20f105"
      },
      "execution_count": null,
      "outputs": [
        {
          "output_type": "execute_result",
          "data": {
            "text/plain": [
              "['Code_Contribution_Aditya_unknown',\n",
              " 'Code_Contribution_George_Acosta_unknown',\n",
              " 'Code_Contribution_James_Bond_unknown']"
            ]
          },
          "metadata": {},
          "execution_count": 96
        }
      ]
    },
    {
      "cell_type": "code",
      "source": [
        "utils.ml.tracking_moving_activity('Code_Contribution_Aditya_unknown', query_package, set(minnesota_activities), linux_activities, act2abbr, dynamic_model, timeline, filter_ctx_activities = True)"
      ],
      "metadata": {
        "colab": {
          "base_uri": "https://localhost:8080/",
          "height": 339
        },
        "id": "0mKsVJQBC03r",
        "outputId": "070270c1-5020-4c7a-8a21-fb5b7756d2da"
      },
      "execution_count": null,
      "outputs": [
        {
          "output_type": "display_data",
          "data": {
            "text/plain": [
              "<Figure size 432x288 with 1 Axes>"
            ],
            "image/png": "[encoded data removed]"
          },
          "metadata": {
            "image/png": {
              "width": 361,
              "height": 231
            },
            "needs_background": "light"
          }
        },
        {
          "output_type": "execute_result",
          "data": {
            "text/plain": [
              "array([[22.599287, 45.346485],\n",
              "       [ 6.252838, 54.107582],\n",
              "       [14.431138, 76.281395],\n",
              "       [32.15733 , 88.931404],\n",
              "       [34.987434, 67.13427 ]], dtype=float32)"
            ]
          },
          "metadata": {},
          "execution_count": 121
        }
      ]
    },
    {
      "cell_type": "code",
      "source": [
        "dynamic_model.k_nearest('Code_Contribution_Aditya_unknown')"
      ],
      "metadata": {
        "colab": {
          "base_uri": "https://localhost:8080/"
        },
        "id": "k-XBd-AvEj-f",
        "outputId": "11a95cbd-6188-4cba-8f21-549acae1740b"
      },
      "execution_count": null,
      "outputs": [
        {
          "output_type": "execute_result",
          "data": {
            "text/plain": [
              "array([[['Code_Contribution_Jiri_Slaby_unknown', '0.2561490934635938'],\n",
              "        ['Code_Contribution_Denis_Efremov_unknown',\n",
              "         '0.1989147411561865'],\n",
              "        ['Code_Contribution_Viresh_Kumar_stringy',\n",
              "         '0.17379579165971643'],\n",
              "        ['Patch_Posting_Andreas_Gruenbacher_unknown',\n",
              "         '0.17129106523650087'],\n",
              "        ['Code_Contribution_Vladimir_Zapolskiy_unknown',\n",
              "         '0.1642599319122458']],\n",
              "\n",
              "       [['Code_Contribution_Andrew_Morton_stringy',\n",
              "         '0.22814308240758724'],\n",
              "        ['Code_Contribution_James_Bond_unknown', '0.22045326975596202'],\n",
              "        ['Patch_Posting_Miquel_Raynal_unknown', '0.18030779921850948'],\n",
              "        ['Code_Contribution_Alan_Stern_stringy', '0.1556666225117646'],\n",
              "        ['Code_Contribution_Ahmad_Fatoum_unknown',\n",
              "         '0.13837239970825743']],\n",
              "\n",
              "       [['Code_Contribution_Weili_Qian_unknown', '0.17050210067062818'],\n",
              "        ['Code_Contribution_Vlastimil_Babka_unknown',\n",
              "         '0.17032417069999'],\n",
              "        ['Code_Contribution_Andrew_Morton_stringy',\n",
              "         '0.15196350003698375'],\n",
              "        ['Code_Contribution_Alban_Bedel_unknown', '0.14546832313314256'],\n",
              "        ['Code_Contribution_Greg_Kroah-Hartman_stringy',\n",
              "         '0.145328201677616']],\n",
              "\n",
              "       [['Code_Contribution_Alban_Bedel_unknown', '0.19485554184218393'],\n",
              "        ['Code_Contribution_Greg_Kroah-Hartman_tree',\n",
              "         '0.19375461398686356'],\n",
              "        ['Code_Contribution_Andrew_Morton_unknown',\n",
              "         '0.18541863778581874'],\n",
              "        ['Code_Contribution_Kees_Cook_stringy', '0.18443341186846296'],\n",
              "        ['Code_Contribution_Waiman_Long_unknown', '0.1651347965751165']],\n",
              "\n",
              "       [['Code_Contribution_Alain_Volmat_unknown',\n",
              "         '0.23380315086973188'],\n",
              "        ['Code_Contribution_George_Acosta_unknown',\n",
              "         '0.1704940917624455'],\n",
              "        ['Code_Contribution_Jiri_Slaby_unknown', '0.1240186425405907'],\n",
              "        ['Code_Contribution_Ahmad_Fatoum_unknown',\n",
              "         '0.12351657505073613'],\n",
              "        ['Code_Contribution_Alex_Elder_comet', '0.10613658312993002']]],\n",
              "      dtype='<U44')"
            ]
          },
          "metadata": {},
          "execution_count": 122
        }
      ]
    },
    {
      "cell_type": "markdown",
      "source": [
        "In the above images, maintainer actions (green markers) close to hypocrite commit actions are marked with red circles. If one follows the evolution trajectory of hypocrite commits (red dot) across many weeks, one can see an increase of maintainer actions close to these hypocrite commits actions, suggesting an trust ascendancy of these actions."
      ],
      "metadata": {
        "id": "hO2_iZ-81922"
      }
    },
    {
      "cell_type": "markdown",
      "source": [
        "## &#128071; What's next?"
      ],
      "metadata": {
        "id": "Whr3krktj6n0"
      }
    },
    {
      "cell_type": "markdown",
      "source": [
        "&#128072; [Installation and Dashboard Visualization](https://colab.research.google.com/github/SRI-CSL/signal-public/blob/main/demo/01_installation_and_dashboard.ipynb)\n",
        "\n",
        "&#128072; [Activity and Role Detection in LKML](https://colab.research.google.com/github/SRI-CSL/signal-public/blob/main/demo/02_activity_roles_detection.ipynb)\n",
        "\n",
        "&#128073; [Code Landmarks Detection](https://colab.research.google.com/github/SRI-CSL/signal-public/blob/main/demo/04_code_landmarks_detection.ipynb)"
      ],
      "metadata": {
        "id": "hwnuiO19j8Kk"
      }
    }
  ]
}